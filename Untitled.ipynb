{
 "cells": [
  {
   "cell_type": "code",
   "execution_count": 68,
   "id": "63ccf7ca",
   "metadata": {},
   "outputs": [],
   "source": [
    "import numpy as np\n",
    "import torch\n",
    "from torch.nn import functional as F\n",
    "import matplotlib.pyplot as plt"
   ]
  },
  {
   "cell_type": "code",
   "execution_count": 69,
   "id": "76cdf231",
   "metadata": {},
   "outputs": [
    {
     "data": {
      "text/plain": [
       "<matplotlib.collections.PathCollection at 0x7fb259219610>"
      ]
     },
     "execution_count": 69,
     "metadata": {},
     "output_type": "execute_result"
    },
    {
     "data": {
      "image/png": "[encoded data removed]",
      "text/plain": [
       "<Figure size 1080x360 with 1 Axes>"
      ]
     },
     "metadata": {
      "needs_background": "light"
     },
     "output_type": "display_data"
    }
   ],
   "source": [
    "z = torch.randn(5)*1\n",
    "temp_list = np.logspace(1,-3,40)\n",
    "eps = 1e-8\n",
    "u = torch.rand_like(z)\n",
    "g = -torch.log( -torch.log(u+eps)+eps)\n",
    "max_list = np.empty((temp_list.shape[0]))\n",
    "\n",
    "for i in range(temp_list.shape[0]):\n",
    "    temp = temp_list[i]\n",
    "    sample = F.softmax((z + g) / temp, 0)\n",
    "    max_val = torch.max(sample).item()\n",
    "    max_list[i] = max_val\n",
    "    \n",
    "plt.figure(figsize = (15,5))\n",
    "plt.scatter(np.log10(temp_list), max_list)"
   ]
  },
  {
   "cell_type": "code",
   "execution_count": null,
   "id": "890ad895",
   "metadata": {},
   "outputs": [],
   "source": []
  },
  {
   "cell_type": "code",
   "execution_count": 70,
   "id": "51961f83",
   "metadata": {},
   "outputs": [
    {
     "data": {
      "text/plain": [
       "<matplotlib.collections.PathCollection at 0x7fb25918a430>"
      ]
     },
     "execution_count": 70,
     "metadata": {},
     "output_type": "execute_result"
    },
    {
     "data": {
      "image/png": "[encoded data removed]",
      "text/plain": [
       "<Figure size 1080x360 with 1 Axes>"
      ]
     },
     "metadata": {
      "needs_background": "light"
     },
     "output_type": "display_data"
    }
   ],
   "source": [
    "#z = torch.randn(5)*0.01\n",
    "temp_list = np.logspace(1,-3,40)\n",
    "eps = 1e-8\n",
    "u = torch.rand_like(z)\n",
    "g = -torch.log( -torch.log(u+eps)+eps)\n",
    "max_list = np.empty((temp_list.shape[0]))\n",
    "\n",
    "for i in range(temp_list.shape[0]):\n",
    "    temp = temp_list[i]\n",
    "    sample = F.softmax((z) / temp, 0)\n",
    "    max_val = torch.max(sample).item()\n",
    "    max_list[i] = max_val\n",
    "    \n",
    "plt.figure(figsize = (15,5))\n",
    "plt.scatter(np.log10(temp_list), max_list)"
   ]
  },
  {
   "cell_type": "code",
   "execution_count": null,
   "id": "5d528366",
   "metadata": {},
   "outputs": [],
   "source": []
  },
  {
   "cell_type": "code",
   "execution_count": null,
   "id": "a4579053",
   "metadata": {},
   "outputs": [],
   "source": []
  },
  {
   "cell_type": "code",
   "execution_count": null,
   "id": "1e51da89",
   "metadata": {},
   "outputs": [],
   "source": []
  }
 ],
 "metadata": {
  "kernelspec": {
   "display_name": "Python 3",
   "language": "python",
   "name": "python3"
  },
  "language_info": {
   "codemirror_mode": {
    "name": "ipython",
    "version": 3
   },
   "file_extension": ".py",
   "mimetype": "text/x-python",
   "name": "python",
   "nbconvert_exporter": "python",
   "pygments_lexer": "ipython3",
   "version": "3.8.8"
  }
 },
 "nbformat": 4,
 "nbformat_minor": 5
}
