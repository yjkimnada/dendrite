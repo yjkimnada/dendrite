{
 "cells": [
  {
   "cell_type": "code",
   "execution_count": null,
   "metadata": {},
   "outputs": [],
   "source": [
    "import numpy as np\n",
    "import torch \n",
    "import torch.nn as nn\n",
    "from tqdm import tnrange\n",
    "import torch.optim as optim\n",
    "import torch.nn.functional as F\n",
    "from sklearn import metrics\n",
    "import matplotlib.pyplot as plt\n",
    "from sklearn.metrics import explained_variance_score\n",
    "import scipy"
   ]
  },
  {
   "cell_type": "code",
   "execution_count": 2,
   "metadata": {},
   "outputs": [],
   "source": [
    "class TestGLM(nn.Module):\n",
    "    def __init__(self, C_syn, T_no, sub_no, in_no, device):\n",
    "        super().__init__()\n",
    "        \n",
    "        self.T_no = T_no\n",
    "        self.in_no = in_no\n",
    "        self.device = device\n",
    "        self.C_syn = C_syn\n",
    "        self.sub_no = sub_no\n",
    "        \n",
    "        self.spike = nn.Parameter(torch.ones(self.in_no), requires_grad=True)\n",
    "        self.kern = nn.Parameter(torch.ones(self.sub_no, self.T_no)*0.01, requires_grad=True)\n",
    "        self.hist = nn.Parameter(torch.ones(self.sub_no, self.T_no)*0.01, requires_grad=True)\n",
    "        self.theta = nn.Parameter(torch.ones(self.sub_no)*0, requires_grad=True)\n",
    "        self.scale = nn.Parameter(torch.ones(self.sub_no)*1, requires_grad=True)\n",
    "        self.bias = nn.Parameter(torch.ones(1)*0, requires_grad=True)\n",
    "        \n",
    "    def forward(self, S):\n",
    "        T_data = S.shape[0]\n",
    "        \n",
    "        S = S * self.spike.reshape(1,-1)\n",
    "        S = torch.matmul(S, self.C_syn.T)\n",
    "        S_pad = torch.zeros(T_data + self.T_no-1, self.sub_no).to(self.device)\n",
    "        S_pad[-T_data:] = S_pad[-T_data:] + S\n",
    "        \n",
    "        kern = torch.flip(self.kern, [1]).unsqueeze(1)\n",
    "        S_conv = F.conv1d(S_pad.T.unsqueeze(0), kern, groups=self.sub_no).squeeze(0).T\n",
    "        \n",
    "        sub_out = torch.zeros(T_data + self.T_no, self.sub_no).to(self.device)\n",
    "        \n",
    "        for t in range(T_data):\n",
    "            out_hist = sub_out[t:t+self.T_no].clone()\n",
    "            hist_in = torch.sum(out_hist.T * torch.flip(self.hist, [1]) ,1)\n",
    "            t_out = torch.tanh(S_conv[t] + hist_in + self.theta)\n",
    "            sub_out[t+self.T_no] = sub_out[t+self.T_no] + t_out\n",
    "            \n",
    "        final = torch.matmul(sub_out[self.T_no:], self.scale).flatten() + self.bias\n",
    "        return final"
   ]
  },
  {
   "cell_type": "code",
   "execution_count": 3,
   "metadata": {},
   "outputs": [],
   "source": [
    "base_dir = \"/media/hdd01/sklee/\"\n",
    "experiment = \"clust4-60\"\n",
    "cell_type = \"CA1\"\n",
    "E_neural_file = \"Espikes_neural.npz\"\n",
    "eloc_file = \"Elocs_T10_Ne2000_gA0.6_tauA1_gN0.8_Ni200_gG0.1_gB0.1_Er0.5_Ir7.4_random_NR_rep1000_stimseed1.npy\"\n",
    "device = \"cuda\"\n",
    "\n",
    "E_neural = scipy.sparse.load_npz(base_dir+cell_type+\"_\"+experiment+\"/data/\"+E_neural_file)\n",
    "eloc = np.load(base_dir+cell_type+\"_\"+experiment+\"/data/\"+eloc_file)\n",
    "\n",
    "den_idx = np.unique(eloc[880:1120,0])\n",
    "e_idx = np.where(np.isin(eloc[:,0], den_idx) == True)[0]\n",
    "e_idx = torch.from_numpy(e_idx)\n",
    "\n",
    "#V = np.load(\"/media/hdd01/sklee/CA1_clust4-60/gru_s4_h4_nospat_subout.npy\")\n",
    "V = np.load(\"/media/hdd01/sklee/CA1_clust4-60/data/V_diff.npy\")\n",
    "\n",
    "V = torch.from_numpy(V)"
   ]
  },
  {
   "cell_type": "code",
   "execution_count": 4,
   "metadata": {},
   "outputs": [],
   "source": [
    "in_no = 299\n",
    "T_no = 500\n",
    "sub_no = 4\n",
    "device = torch.device(\"cuda\")\n",
    "#sub = 1\n",
    "batch_size = 5000\n",
    "\n",
    "epoch_no = 50\n",
    "\n",
    "C_syn = torch.zeros(sub_no, in_no).to(device)\n",
    "for i in range(in_no):\n",
    "    idx = e_idx[i]\n",
    "    if eloc[idx,0] == den_idx[0]:\n",
    "        C_syn[0,i] = 1\n",
    "    elif eloc[idx,0] == den_idx[1]:\n",
    "        C_syn[1,i] = 1\n",
    "    elif eloc[idx,0] == den_idx[2]:\n",
    "        C_syn[2,i] = 1\n",
    "    elif eloc[idx,0] == den_idx[3]:\n",
    "        C_syn[3,i] = 1"
   ]
  },
  {
   "cell_type": "code",
   "execution_count": 5,
   "metadata": {},
   "outputs": [],
   "source": [
    "V_test = V[199*50000:200*50000].float()\n",
    "V_train = V[:199*50000].to(device).float()\n",
    "\n",
    "test_E_neural = E_neural[199*50000:200*50000].toarray()\n",
    "train_E_neural = E_neural[:199*50000]\n",
    "test_E_neural = torch.from_numpy(test_E_neural).float().to(device)\n",
    "\n",
    "iter_no = epoch_no*199*50000//batch_size\n",
    "train_idx = np.empty((epoch_no, 199*50000//batch_size))\n",
    "for i in range(epoch_no):\n",
    "    part_idx = np.arange(0,199*50000,batch_size)\n",
    "    np.random.shuffle(part_idx)\n",
    "    train_idx[i] = part_idx\n",
    "train_idx = train_idx.flatten()\n",
    "train_idx = torch.from_numpy(train_idx)"
   ]
  },
  {
   "cell_type": "code",
   "execution_count": 6,
   "metadata": {},
   "outputs": [
    {
     "name": "stdout",
     "output_type": "stream",
     "text": [
      "4308\n"
     ]
    }
   ],
   "source": [
    "model = TestGLM(C_syn, T_no, sub_no, in_no, device)\n",
    "optimizer = torch.optim.Adam(model.parameters(), lr = 0.0025)\n",
    "\n",
    "model.to(device).float()\n",
    "print(sum(p.numel() for p in model.parameters() if p.requires_grad))"
   ]
  },
  {
   "cell_type": "code",
   "execution_count": null,
   "metadata": {
    "scrolled": false
   },
   "outputs": [
    {
     "name": "stderr",
     "output_type": "stream",
     "text": [
      "<ipython-input-7-7ed9e0a9b246>:1: TqdmDeprecationWarning: Please use `tqdm.notebook.trange` instead of `tqdm.tnrange`\n",
      "  for i in tnrange(iter_no):\n"
     ]
    },
    {
     "data": {
      "application/vnd.jupyter.widget-view+json": {
       "model_id": "2a6b68cc53184e8bab88d10f624be1bd",
       "version_major": 2,
       "version_minor": 0
      },
      "text/plain": [
       "HBox(children=(HTML(value=''), FloatProgress(value=0.0, max=9950.0), HTML(value='')))"
      ]
     },
     "metadata": {},
     "output_type": "display_data"
    },
    {
     "name": "stdout",
     "output_type": "stream",
     "text": [
      "TEST 0 -3.905197 -6.617205\n",
      "TEST 49 -0.309106 -0.353519\n",
      "TEST 99 -0.195627 -0.168668\n"
     ]
    }
   ],
   "source": [
    "for i in tnrange(iter_no):\n",
    "    model.train()\n",
    "    optimizer.zero_grad()\n",
    "    \n",
    "    \n",
    "    batch_idx = train_idx[i].long()\n",
    "    batch_E_neural = train_E_neural[batch_idx:batch_idx+batch_size].toarray()\n",
    "    batch_E_neural = torch.from_numpy(batch_E_neural).float().to(device)\n",
    "    batch_V = V_train[batch_idx:batch_idx+batch_size].to(device)\n",
    "    \n",
    "    V_pred = model(batch_E_neural[:,e_idx])\n",
    "    \n",
    "    train_score = explained_variance_score(batch_V.cpu().detach().numpy(), V_pred.cpu().detach().numpy())\n",
    "            \n",
    "    loss = torch.var(V_pred - batch_V)\n",
    "    #loss = torch.mean((V_pred - batch_V)**2)\n",
    "    loss.backward()\n",
    "    optimizer.step()\n",
    "    \n",
    "    #train_score = explained_variance_score(batch_V.cpu().detach().numpy(), V_pred.cpu().detach().numpy())\n",
    "    #print(np.round(train_score,6))\n",
    "    \n",
    "    if (i%50 == 49) or (i == 0):\n",
    "        model.eval()\n",
    "        test_V_pred = model(test_E_neural[:,e_idx])\n",
    "        test_score = explained_variance_score(V_test.cpu().detach().numpy(), test_V_pred.cpu().detach().numpy())\n",
    "        \n",
    "        print(\"TEST\", i, np.round(test_score,6),\n",
    "              np.round(train_score,6))\n"
   ]
  },
  {
   "cell_type": "code",
   "execution_count": null,
   "metadata": {},
   "outputs": [],
   "source": [
    "print(batch_E_neural.shape)"
   ]
  },
  {
   "cell_type": "code",
   "execution_count": null,
   "metadata": {},
   "outputs": [],
   "source": []
  },
  {
   "cell_type": "code",
   "execution_count": 11,
   "metadata": {},
   "outputs": [
    {
     "data": {
      "text/plain": [
       "[<matplotlib.lines.Line2D at 0x7f142859f190>]"
      ]
     },
     "execution_count": 11,
     "metadata": {},
     "output_type": "execute_result"
    },
    {
     "data": {
      "image/png": "[encoded data removed]",
      "text/plain": [
       "<Figure size 1080x360 with 1 Axes>"
      ]
     },
     "metadata": {
      "needs_background": "light"
     },
     "output_type": "display_data"
    }
   ],
   "source": [
    "plt.figure(figsize = (15,5))\n",
    "#plt.plot(V_test.cpu().detach().numpy()[16000:26000])\n",
    "plt.plot(test_V_pred.cpu().detach().numpy()[16000:26000])"
   ]
  },
  {
   "cell_type": "code",
   "execution_count": null,
   "metadata": {},
   "outputs": [],
   "source": []
  }
 ],
 "metadata": {
  "kernelspec": {
   "display_name": "Python 3",
   "language": "python",
   "name": "python3"
  },
  "language_info": {
   "codemirror_mode": {
    "name": "ipython",
    "version": 3
   },
   "file_extension": ".py",
   "mimetype": "text/x-python",
   "name": "python",
   "nbconvert_exporter": "python",
   "pygments_lexer": "ipython3",
   "version": "3.8.5"
  }
 },
 "nbformat": 4,
 "nbformat_minor": 4
}
