{
 "cells": [
  {
   "cell_type": "code",
   "execution_count": 30,
   "metadata": {},
   "outputs": [],
   "source": [
    "from math import sqrt\n",
    "import torch\n",
    "import numpy as np\n",
    "\n",
    "\n",
    "def sparsemax(v, z=1):\n",
    "    v_sorted, _ = torch.sort(v, dim=0, descending=True)\n",
    "    cssv = torch.cumsum(v_sorted, dim=0) - z\n",
    "    ind = torch.arange(1, 1 + len(v)).float().to(v.device)\n",
    "    cond = v_sorted - cssv / ind > 0\n",
    "    rho = ind.masked_select(cond)[-1]\n",
    "    tau = cssv.masked_select(cond)[-1] / rho\n",
    "    w = torch.clamp(v - tau, min=0)\n",
    "    return w / z\n",
    "\n",
    "\n",
    "def sparsestmax(v, rad_in=0, u_in=None):\n",
    "    w = sparsemax(v)\n",
    "    if max(w) - min(w) == 1:\n",
    "        return w\n",
    "    ind = torch.tensor(w > 0).float()\n",
    "    u = ind / torch.sum(ind)\n",
    "    if u_in is None:\n",
    "        rad = rad_in\n",
    "    else:\n",
    "        print(u)\n",
    "        rad = sqrt(rad_in ** 2 - torch.sum((u - u_in) ** 2))\n",
    "    distance = torch.norm(w - u)\n",
    "    if distance >= rad:\n",
    "        return w\n",
    "    p = rad * (w - u) / distance + u\n",
    "    if min(p) < 0:\n",
    "        return sparsestmax(p, rad, u)\n",
    "    return p.clamp_(min=0, max=1)"
   ]
  },
  {
   "cell_type": "code",
   "execution_count": 31,
   "metadata": {},
   "outputs": [
    {
     "name": "stdout",
     "output_type": "stream",
     "text": [
      "tensor([0.0000, 0.0000, 0.3333, 0.0000, 0.0000, 0.0000, 0.3333, 0.3333])\n",
      "tensor([0.0000, 0.0000, 0.5000, 0.0000, 0.0000, 0.0000, 0.0000, 0.5000])\n",
      "tensor([0.0000e+00, 0.0000e+00, 1.0000e+00, 0.0000e+00, 0.0000e+00, 0.0000e+00,\n",
      "        0.0000e+00, 5.9605e-08])\n"
     ]
    },
    {
     "name": "stderr",
     "output_type": "stream",
     "text": [
      "<ipython-input-30-cb9385ce060b>:21: UserWarning: To copy construct from a tensor, it is recommended to use sourceTensor.clone().detach() or sourceTensor.clone().detach().requires_grad_(True), rather than torch.tensor(sourceTensor).\n",
      "  ind = torch.tensor(w > 0).float()\n"
     ]
    }
   ],
   "source": [
    "sub_no = 8\n",
    "v_in = torch.randn(sub_no)*0.01\n",
    "rad_max = np.round(np.sqrt((sub_no-1)/sub_no**2 + (1-1/sub_no)**2), 4)\n",
    "out = sparsestmax(v_in, rad_max)\n",
    "print(out)"
   ]
  },
  {
   "cell_type": "code",
   "execution_count": 15,
   "metadata": {},
   "outputs": [
    {
     "name": "stdout",
     "output_type": "stream",
     "text": [
      "tensor([0.1348, 0.1338, 0.1122, 0.1268, 0.1134, 0.1356, 0.1143, 0.1292])\n"
     ]
    }
   ],
   "source": [
    "print(out)"
   ]
  },
  {
   "cell_type": "code",
   "execution_count": null,
   "metadata": {},
   "outputs": [],
   "source": []
  }
 ],
 "metadata": {
  "kernelspec": {
   "display_name": "Python 3",
   "language": "python",
   "name": "python3"
  },
  "language_info": {
   "codemirror_mode": {
    "name": "ipython",
    "version": 3
   },
   "file_extension": ".py",
   "mimetype": "text/x-python",
   "name": "python",
   "nbconvert_exporter": "python",
   "pygments_lexer": "ipython3",
   "version": "3.8.5"
  }
 },
 "nbformat": 4,
 "nbformat_minor": 4
}
