{
 "cells": [
  {
   "cell_type": "code",
   "execution_count": 1,
   "id": "e7faa469",
   "metadata": {},
   "outputs": [],
   "source": [
    "import numpy as np\n",
    "import torch \n",
    "import torch.nn as nn\n",
    "from tqdm import tnrange\n",
    "import torch.optim as optim\n",
    "import torch.nn.functional as F\n",
    "from sklearn import metrics\n",
    "import matplotlib.pyplot as plt\n",
    "import time\n",
    "from sklearn.metrics import explained_variance_score"
   ]
  },
  {
   "cell_type": "code",
   "execution_count": 2,
   "id": "8753064b",
   "metadata": {},
   "outputs": [],
   "source": [
    "class AP_GLM(nn.Module):\n",
    "    def __init__(self, T_no, device):\n",
    "        super().__init__()\n",
    "        \n",
    "        self.T_no = T_no\n",
    "        self.device = device\n",
    "        \n",
    "        self.kernel = nn.Parameter(torch.randn(self.T_no,2)*0.01)\n",
    "        #self.kernel2 = nn.Parameter(torch.randn(self.T_no))\n",
    "        self.bias = nn.Parameter(torch.randn(1))\n",
    "        self.kernel_hist = nn.Parameter(torch.randn(self.T_no))\n",
    "        self.step = Step.apply\n",
    "\n",
    "        \"\"\"\n",
    "    def train_forward(self, V, S, temp):\n",
    "        spk_out = torch.zeros(V.shape[0], V.shape[1] + self.T_no).to(device)\n",
    "        V_pad = torch.zeros(V.shape[0], V.shape[1]+self.T_no-1, V.shape[2]).to(device)\n",
    "        V_pad[:,self.T_no-1:,:] = V_pad[:,self.T_no-1:,:] + V\n",
    "        S_pad = torch.zeros(V.shape[0], V.shape[1]+self.T_no).to(device)\n",
    "        S_pad[:,self.T_no:] = S_pad[:,self.T_no:] + S\n",
    "        eps = 1e-10\n",
    "        \n",
    "        V_conv1 = F.conv1d(V_pad[:,:,0].unsqueeze(1).clone(), self.kernel1.reshape(1,1,-1)).squeeze(1)\n",
    "        V_conv2 = F.conv1d(V_pad[:,:,1].unsqueeze(1).clone(), self.kernel2.reshape(1,1,-1)).squeeze(1)\n",
    "        S_conv = F.conv1d(S_pad.unsqueeze(1).clone(), self.kernel_hist.reshape(1,1,-1)).squeeze(1)[:,:-1].clone()\n",
    "        binom_in = V_conv1 + V_conv2 + S_conv + self.bias\n",
    "                \n",
    "        binom_all = torch.zeros(V.shape[0], V.shape[1], 2).to(device)\n",
    "        binom_all[:,:,0] = binom_all[:,:,0] + binom_in\n",
    "        binom_all[:,:,1] = binom_all[:,:,1] + 1 - binom_in\n",
    "        \n",
    "        u = torch.rand_like(binom_all)\n",
    "        g = - torch.log(- torch.log(u + eps) + eps)\n",
    "        s = F.softmax((binom_all + g)/temp, dim=-1)\n",
    "        spk_out = s[:,:,0]\n",
    "        \n",
    "        return spk_out\n",
    "        \"\"\"\n",
    "            \n",
    "    def test_forward(self, V, temp):\n",
    "        #V is shape (batch, 50000, 2)\n",
    "        \n",
    "        spk_out = torch.zeros(V.shape[0], V.shape[1] + self.T_no).to(device)\n",
    "        V_pad = torch.zeros(V.shape[0], V.shape[1]+self.T_no - 1, V.shape[2]).to(device)\n",
    "        V_pad[:,self.T_no-1:,:] = V_pad[:,self.T_no-1:,:] + V\n",
    "        eps = 1e-10\n",
    "        \n",
    "        for t in range(V.shape[1]):\n",
    "            spk_hist = spk_out[:,t:t+self.T_no].clone()\n",
    "            kernel_hist_out = torch.sum(spk_hist * self.kernel_hist.reshape(1,-1), 1)\n",
    "            kernel_out = torch.sum(V_pad[:,t:t+self.T_no,:] * self.kernel.reshape(1,-1,2) ,[1,2])\n",
    "            #kernel1_out = torch.sum(self.kernel1.reshape(1,-1) * V_pad[:,t:t+self.T_no,0], 1)\n",
    "            #kernel2_out = torch.sum(self.kernel2.reshape(1,-1) * V_pad[:,t:t+self.T_no,1], 1)\n",
    "            binom_in = kernel_out + self.bias + kernel_hist_out\n",
    "            \n",
    "            spk = self.step(binom_in)\n",
    "            \n",
    "            spk_out[:,t+self.T_no] = spk_out[:,t+self.T_no] + spk\n",
    "        \n",
    "        final = spk_out[:,self.T_no:]\n",
    "        \n",
    "        return final\n",
    "    \n",
    "class Step(torch.autograd.Function):\n",
    "\n",
    "    @staticmethod\n",
    "    def forward(ctx, input):\n",
    "        ctx.save_for_backward(input)\n",
    "        return torch.heaviside(input, torch.ones_like(input))\n",
    "\n",
    "    @staticmethod\n",
    "    def backward(ctx, grad_output):\n",
    "        input, = ctx.saved_tensors\n",
    "        grad_input = grad_output.clone()\n",
    "        return grad_input * torch.sigmoid(input) * (1 - torch.sigmoid(input))"
   ]
  },
  {
   "cell_type": "code",
   "execution_count": 3,
   "id": "6e8d732d",
   "metadata": {},
   "outputs": [
    {
     "name": "stdout",
     "output_type": "stream",
     "text": [
      "torch.Size([1000, 50000, 2])\n"
     ]
    }
   ],
   "source": [
    "batch_size = 20\n",
    "batch_length = int(50000 / 5 / 0.2)\n",
    "H_no = 40\n",
    "device = torch.device(\"cuda\")\n",
    "T_no = 100\n",
    "\n",
    "epoch_no = 400\n",
    "iter_no = epoch_no * 980 // batch_size\n",
    "\n",
    "V = np.load(\"/media/hdd01/sklee/CA1_clust4-60_AP/data/vdata_T10_Ne2000_gA0.6_tauA1_gN0.8_Ni200_gG0.1_gB0.1_Er0.5_Ir7.4_random_NR_rep1000_stimseed1.npy\").reshape(-1,50001)[:,:50000]\n",
    "#V = np.load(\"/media/hdd01/sklee/CA1_clust4-60_AP/data/V_diff_stimseed1.npy\").reshape(-1,batch_length)\n",
    "#V = np.load(\"/media/hdd01/sklee/CA1_clust4-60_AP/na_true_0.1noise1/V_na_true_0.1noise1_0.2ms.npy\").reshape(-1,batch_length)\n",
    "#V = np.load(\"/media/hdd01/sklee/CA1_clust4-60_AP/diff_true/V_diff_true_0.2ms.npy\").reshape(-1,batch_length)\n",
    "S = np.load(\"/media/hdd01/sklee/CA1_clust4-60_AP/data/spike_train_0.2ms.npy\").reshape(-1,batch_length)\n",
    "\n",
    "V-= np.mean(V)\n",
    "V_diff = np.diff(V)\n",
    "\n",
    "#V = torch.from_numpy(V)\n",
    "S = torch.from_numpy(S)\n",
    "\n",
    "V_lag = np.zeros((V.shape[0], V.shape[1], 2)) #(lag,1000,50000)\n",
    "V_lag[:,:-1,1] = V_diff\n",
    "V_lag[:,:,0] = V\n",
    "\n",
    "V_lag = torch.from_numpy(V_lag)\n",
    "print(V_lag.shape)"
   ]
  },
  {
   "cell_type": "code",
   "execution_count": 4,
   "id": "bfda0478",
   "metadata": {},
   "outputs": [
    {
     "name": "stdout",
     "output_type": "stream",
     "text": [
      "torch.Size([19600, 20])\n"
     ]
    }
   ],
   "source": [
    "#V_train = V[:980].float()\n",
    "#V_test = V[980:].float().to(device)\n",
    "S_train = S[:980].float()\n",
    "S_test = S[980:].float().to(device)\n",
    "V_lag_train = V_lag[:980].float()\n",
    "V_lag_test = V_lag[980:].float().to(device)\n",
    "\n",
    "train_idx = np.empty((epoch_no, 980))\n",
    "for i in range(epoch_no):\n",
    "    part_idx = np.arange(0,980,1)\n",
    "    np.random.shuffle(part_idx)\n",
    "    train_idx[i] = part_idx\n",
    "train_idx = train_idx.reshape(-1, batch_size)\n",
    "train_idx = torch.from_numpy(train_idx).long()\n",
    "print(train_idx.shape)"
   ]
  },
  {
   "cell_type": "code",
   "execution_count": 5,
   "id": "784b45c2",
   "metadata": {},
   "outputs": [
    {
     "name": "stdout",
     "output_type": "stream",
     "text": [
      "301\n"
     ]
    }
   ],
   "source": [
    "model = AP_GLM(T_no, device)\n",
    "optimizer = torch.optim.Adam(model.parameters(), lr = 0.0025)\n",
    "\n",
    "model.to(device).float()\n",
    "print(sum(p.numel() for p in model.parameters() if p.requires_grad))\n",
    "\n",
    "bce_criterion = nn.BCELoss(reduction=\"mean\")"
   ]
  },
  {
   "cell_type": "code",
   "execution_count": null,
   "id": "84e29a0c",
   "metadata": {
    "scrolled": false
   },
   "outputs": [
    {
     "name": "stderr",
     "output_type": "stream",
     "text": [
      "<ipython-input-6-aef03ec96f83>:5: TqdmDeprecationWarning: Please use `tqdm.notebook.trange` instead of `tqdm.tnrange`\n",
      "  for i in tnrange(10000):\n"
     ]
    },
    {
     "data": {
      "application/vnd.jupyter.widget-view+json": {
       "model_id": "a950389e24a14c6eb047cd70490623a8",
       "version_major": 2,
       "version_minor": 0
      },
      "text/plain": [
       "  0%|          | 0/10000 [00:00<?, ?it/s]"
      ]
     },
     "metadata": {},
     "output_type": "display_data"
    },
    {
     "name": "stdout",
     "output_type": "stream",
     "text": [
      "0 0.01979999989271164\n",
      "TP 0 FP 0 TN 999802 FN 198\n",
      "-----------------------\n",
      "49 0.01979999989271164\n",
      "TP 0 FP 0 TN 999802 FN 198\n",
      "-----------------------\n",
      "99 0.01979999989271164\n",
      "TP 0 FP 0 TN 999802 FN 198\n",
      "-----------------------\n",
      "149 0.01979999989271164\n",
      "TP 0 FP 0 TN 999802 FN 198\n",
      "-----------------------\n",
      "199 0.01979999989271164\n",
      "TP 0 FP 0 TN 999802 FN 198\n",
      "-----------------------\n",
      "249 0.01979999989271164\n",
      "TP 0 FP 0 TN 999802 FN 198\n",
      "-----------------------\n",
      "299 0.01979999989271164\n",
      "TP 0 FP 0 TN 999802 FN 198\n",
      "-----------------------\n",
      "349 0.01979999989271164\n",
      "TP 0 FP 0 TN 999802 FN 198\n",
      "-----------------------\n",
      "399 0.01979999989271164\n",
      "TP 0 FP 0 TN 999802 FN 198\n",
      "-----------------------\n"
     ]
    }
   ],
   "source": [
    "score_list = []\n",
    "temp_list = np.logspace(0,-4,100)\n",
    "\n",
    "#for i in tnrange(iter_no):\n",
    "for i in tnrange(10000):    \n",
    "    s = time.time()\n",
    "    model.train()\n",
    "    optimizer.zero_grad()\n",
    "    \n",
    "    batch_idx = train_idx[i]\n",
    "    batch_S = S_train[batch_idx].to(device)\n",
    "    #batch_V = V_train[batch_idx].to(device)\n",
    "    batch_V_lag = V_lag_train[batch_idx].to(device)\n",
    "    \n",
    "    temp = temp_list[i//50]\n",
    "    \n",
    "    #batch_V_in = torch.zeros(batch_size, batch_length, lag+1).to(device)\n",
    "    #batch_V_in[:,:,0] = batch_V\n",
    "    #batch_V_in[:,:,1:] = batch_V_lag\n",
    "    batch_V_in = batch_V_lag\n",
    "    \n",
    "    S_out = model.test_forward(batch_V_in, temp)\n",
    "    loss = bce_criterion(S_out, batch_S)\n",
    "    \n",
    "    loss.backward()\n",
    "    nn.utils.clip_grad_norm_(model.parameters(), 10)\n",
    "    optimizer.step()\n",
    "    \n",
    "    step_time = time.time() - s\n",
    "    \n",
    "    if (i%50 == 49) or (i == 0):\n",
    "        model.eval()\n",
    "        #V_test_in = torch.zeros(batch_size, batch_length, lag+1).to(device)\n",
    "        #V_test_in[:,:,0] = V_test\n",
    "        #V_test_in[:,:,1:] = V_lag_test\n",
    "        V_test_in = V_lag_test\n",
    "        \n",
    "        test_S_out = model.test_forward(V_test_in, 0.0001)\n",
    "        test_loss = bce_criterion(test_S_out, S_test).item()\n",
    "        \n",
    "        score_list.append(test_loss)\n",
    "        print(i, test_loss)\n",
    "        \n",
    "        tp = np.where((test_S_out.cpu().detach().numpy() == 1) & (S_test.cpu().detach().numpy() == 1))[0].size\n",
    "        fp = np.where((test_S_out.cpu().detach().numpy() == 1) & (S_test.cpu().detach().numpy() == 0))[0].size\n",
    "        tn = np.where((test_S_out.cpu().detach().numpy() == 0) & (S_test.cpu().detach().numpy() == 0))[0].size\n",
    "        fn = np.where((test_S_out.cpu().detach().numpy() == 0) & (S_test.cpu().detach().numpy() == 1))[0].size\n",
    "        \n",
    "        print(\"TP\",tp,\"FP\",fp,\"TN\",tn,\"FN\",fn)\n",
    "        print(\"-----------------------\")"
   ]
  },
  {
   "cell_type": "code",
   "execution_count": null,
   "id": "f591ea9b",
   "metadata": {},
   "outputs": [],
   "source": []
  },
  {
   "cell_type": "code",
   "execution_count": 7,
   "id": "e006b31b",
   "metadata": {},
   "outputs": [
    {
     "data": {
      "text/plain": [
       "[<matplotlib.lines.Line2D at 0x7f372d6ee580>]"
      ]
     },
     "execution_count": 7,
     "metadata": {},
     "output_type": "execute_result"
    },
    {
     "data": {
      "image/png": "[encoded data removed]",
      "text/plain": [
       "<Figure size 432x288 with 1 Axes>"
      ]
     },
     "metadata": {
      "needs_background": "light"
     },
     "output_type": "display_data"
    }
   ],
   "source": [
    "plt.plot(np.asarray(score_list)[20:])"
   ]
  },
  {
   "cell_type": "code",
   "execution_count": 8,
   "id": "ad66af8b",
   "metadata": {},
   "outputs": [
    {
     "name": "stdout",
     "output_type": "stream",
     "text": [
      "tensor(0.5529, device='cuda:0', grad_fn=<MaxBackward1>)\n"
     ]
    },
    {
     "data": {
      "image/png": "[encoded data removed]",
      "text/plain": [
       "<Figure size 1080x360 with 1 Axes>"
      ]
     },
     "metadata": {
      "needs_background": "light"
     },
     "output_type": "display_data"
    }
   ],
   "source": [
    "plt.figure(figsize = (15,5))\n",
    "plt.plot(S_test[0].cpu().detach().numpy())\n",
    "plt.plot(test_S_out[1].cpu().detach().numpy())\n",
    "#plt.xlim(4500,5200)\n",
    "#plt.ylim(-1,10)\n",
    "print(torch.max(test_S_out))"
   ]
  },
  {
   "cell_type": "code",
   "execution_count": 9,
   "id": "780f8cd8",
   "metadata": {},
   "outputs": [],
   "source": [
    "#torch.save(model.state_dict(), \"/media/hdd01/sklee/CA1_clust4-60_AP/na_true_0.1noise1/gru_l20_h40_0.2ms.pt\")\n",
    "#np.save(\"/media/hdd01/sklee/CA1_clust4-60_AP/na_true_0.1noise1/gru_l20_h40_0.2ms_test.npy\", test_S_out.cpu().detach().numpy())"
   ]
  },
  {
   "cell_type": "code",
   "execution_count": null,
   "id": "220095ad",
   "metadata": {},
   "outputs": [],
   "source": []
  }
 ],
 "metadata": {
  "kernelspec": {
   "display_name": "Python 3",
   "language": "python",
   "name": "python3"
  },
  "language_info": {
   "codemirror_mode": {
    "name": "ipython",
    "version": 3
   },
   "file_extension": ".py",
   "mimetype": "text/x-python",
   "name": "python",
   "nbconvert_exporter": "python",
   "pygments_lexer": "ipython3",
   "version": "3.8.8"
  }
 },
 "nbformat": 4,
 "nbformat_minor": 5
}
