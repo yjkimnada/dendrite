{
 "cells": [
  {
   "cell_type": "code",
   "execution_count": 1,
   "id": "e7faa469",
   "metadata": {},
   "outputs": [],
   "source": [
    "import numpy as np\n",
    "import torch \n",
    "import torch.nn as nn\n",
    "from tqdm import tnrange\n",
    "import torch.optim as optim\n",
    "import torch.nn.functional as F\n",
    "from sklearn import metrics\n",
    "import matplotlib.pyplot as plt\n",
    "import time"
   ]
  },
  {
   "cell_type": "code",
   "execution_count": 2,
   "id": "8753064b",
   "metadata": {},
   "outputs": [],
   "source": [
    "class AP_NN(nn.Module):\n",
    "    def __init__(self, K_no, L_no, H_no, T_no, device):\n",
    "        super().__init__()\n",
    "        \n",
    "        self.K_no = K_no\n",
    "        self.L_no = L_no\n",
    "        self.H_no = H_no\n",
    "        self.T_no = T_no\n",
    "        self.device = device\n",
    "        \n",
    "        nn_list = []\n",
    "        for l in range(self.L_no):\n",
    "            if l == 0:\n",
    "                nn_list.append(nn.Conv1d(in_channels=2, out_channels=H_no, kernel_size=K_no, padding=0))\n",
    "                #nn_list.append(nn.Tanh())\n",
    "                nn_list.append(nn.LeakyReLU())\n",
    "            elif l == self.L_no - 1:\n",
    "                nn_list.append(nn.Conv1d(in_channels=H_no, out_channels=1, kernel_size=1, padding=0))\n",
    "            else:\n",
    "                nn_list.append(nn.Conv1d(in_channels=H_no, out_channels=H_no, kernel_size=1, padding=0))\n",
    "                #nn_list.append(nn.Tanh())\n",
    "                nn_list.append(nn.LeakyReLU())\n",
    "        \n",
    "        self.nn = nn.Sequential(*nn_list)\n",
    "        \n",
    "    def forward(self, V, D):\n",
    "        #V, D, S is shape (batch, 50000)\n",
    "        \n",
    "        input_pad = torch.zeros(V.shape[0], 2, V.shape[1] + self.K_no-1).to(self.device)\n",
    "        input_pad[:,0,-V.shape[1]:] = input_pad[:,0,-V.shape[1]:] + V\n",
    "        input_pad[:,1,-D.shape[1]:] = input_pad[:,1,-D.shape[1]:] + D\n",
    "        \n",
    "        nn_out = self.nn(input_pad).squeeze(1) # (batch, 50000)\n",
    "        P = torch.sigmoid(nn_out)\n",
    "        S = torch.bernoulli(P)\n",
    "        return S, P\n",
    "\n"
   ]
  },
  {
   "cell_type": "code",
   "execution_count": 3,
   "id": "6e8d732d",
   "metadata": {},
   "outputs": [],
   "source": [
    "batch_size = 5\n",
    "batch_length = 50000\n",
    "K_no = 1\n",
    "L_no = 2\n",
    "H_no = 20\n",
    "T_no = 501\n",
    "device = torch.device(\"cuda\")\n",
    "\n",
    "epoch_no = 200\n",
    "iter_no = epoch_no * 980 // batch_size\n",
    "\n",
    "#V = np.load(\"/media/hdd01/sklee/CA1_clust4-60/data/vdata_T10_Ne2000_gA0.6_tauA1_gN0.8_Ni200_gG0.1_gB0.1_Er0.5_Ir7.4_random_NR_rep1000_stimseed1.npy\").reshape(-1,50001)[:,:50000].flatten()\n",
    "V = np.load(\"/media/hdd01/sklee/CA1_clust4-60_AP/comb_pred/V_comb_pred.npy\").flatten()\n",
    "\n",
    "#D = np.zeros((V.shape[0]))\n",
    "#D[:-1] = np.diff(V)\n",
    "#D = V.copy()\n",
    "D_train = np.load(\"/media/hdd01/sklee/CA1_clust4-60/hand/gru_s10_h20_extra_output.npz\")[\"test\"]\n",
    "D_test = np.load(\"/media/hdd01/sklee/CA1_clust4-60/hand/gru_s10_h20_output.npz\")[\"test\"]\n",
    "D_train = torch.from_numpy(D_train).float()\n",
    "D_test = torch.from_numpy(D_test).float().to(device)\n",
    "\n",
    "#D = D.reshape(-1,batch_length)\n",
    "V = V.reshape(-1,batch_length)\n",
    "S = np.load(\"/media/hdd01/sklee/CA1_clust4-60_AP/data/spk.npy\").reshape(-1,batch_length)\n",
    "\n",
    "V = torch.from_numpy(V)\n",
    "#D = torch.from_numpy(D)\n",
    "S = torch.from_numpy(S)\n",
    "\n"
   ]
  },
  {
   "cell_type": "code",
   "execution_count": 4,
   "id": "242f5d1a",
   "metadata": {},
   "outputs": [],
   "source": [
    "V_train = V[:980].float()\n",
    "V_test = V[980:].float().to(device)\n",
    "#D_train = D[:980].float()\n",
    "#D_test = D[980:].float().to(device)\n",
    "S_train = S[:980].float()\n",
    "S_test = S[980:].float() .to(device)\n",
    "\n",
    "train_idx = np.empty((epoch_no, 980//batch_size))\n",
    "for i in range(epoch_no):\n",
    "    part_idx = np.arange(0,980,batch_size)\n",
    "    np.random.shuffle(part_idx)\n",
    "    train_idx[i] = part_idx\n",
    "train_idx = train_idx.flatten()\n",
    "train_idx = torch.from_numpy(train_idx)\n"
   ]
  },
  {
   "cell_type": "code",
   "execution_count": 5,
   "id": "784b45c2",
   "metadata": {},
   "outputs": [
    {
     "name": "stdout",
     "output_type": "stream",
     "text": [
      "81\n"
     ]
    }
   ],
   "source": [
    "model = AP_NN(K_no, L_no, H_no, T_no, device)\n",
    "optimizer = torch.optim.Adam(model.parameters(), lr = 0.0005)\n",
    "\n",
    "model.to(device).float()\n",
    "print(sum(p.numel() for p in model.parameters() if p.requires_grad))\n",
    "\n",
    "bce_criterion = nn.BCELoss(reduction=\"mean\")"
   ]
  },
  {
   "cell_type": "code",
   "execution_count": 6,
   "id": "84e29a0c",
   "metadata": {
    "scrolled": false
   },
   "outputs": [
    {
     "name": "stderr",
     "output_type": "stream",
     "text": [
      "<ipython-input-6-a095aa4c932e>:5: TqdmDeprecationWarning: Please use `tqdm.notebook.trange` instead of `tqdm.tnrange`\n",
      "  for i in tnrange(iter_no):\n"
     ]
    },
    {
     "data": {
      "application/vnd.jupyter.widget-view+json": {
       "model_id": "dc53d64ee8ef47978f80aa9372a8e8a1",
       "version_major": 2,
       "version_minor": 0
      },
      "text/plain": [
       "  0%|          | 0/39200 [00:00<?, ?it/s]"
      ]
     },
     "metadata": {},
     "output_type": "display_data"
    },
    {
     "name": "stdout",
     "output_type": "stream",
     "text": [
      "0 0.5619990229606628 0.2415297031402588\n",
      "249 0.22205206751823425 0.0027344226837158203\n",
      "499 0.09452523291110992 0.0030183792114257812\n",
      "749 0.04747508093714714 0.0027866363525390625\n",
      "999 0.02822178229689598 0.003253936767578125\n",
      "1249 0.019199863076210022 0.0028166770935058594\n",
      "1499 0.014416379854083061 0.0033180713653564453\n",
      "1749 0.011643127538263798 0.0027511119842529297\n",
      "1999 0.009904954582452774 0.003522157669067383\n",
      "2249 0.00873741414397955 0.007536888122558594\n",
      "2499 0.007895885035395622 0.003466367721557617\n",
      "2749 0.007247979752719402 0.0023202896118164062\n",
      "2999 0.006719075608998537 0.0033659934997558594\n",
      "3249 0.006270972546190023 0.0027124881744384766\n",
      "3499 0.005873414687812328 0.0023679733276367188\n",
      "3749 0.005504750180989504 0.003260374069213867\n",
      "3999 0.005165820010006428 0.0027871131896972656\n",
      "4249 0.004878559615463018 0.0033597946166992188\n",
      "4499 0.00462962593883276 0.0027713775634765625\n",
      "4749 0.004401098471134901 0.002542734146118164\n",
      "4999 0.00419588852673769 0.002163410186767578\n",
      "5249 0.004013475496321917 0.002388477325439453\n",
      "5499 0.0038537296932190657 0.002758026123046875\n",
      "5749 0.0037173188757151365 0.0027875900268554688\n",
      "5999 0.0036019578110426664 0.002758026123046875\n",
      "6249 0.003501900937408209 0.002762317657470703\n",
      "6499 0.0034171869046986103 0.002762317657470703\n",
      "6749 0.0033460750710219145 0.0027244091033935547\n",
      "6999 0.003286561230197549 0.002257823944091797\n",
      "7249 0.0032373033463954926 0.008008003234863281\n",
      "7499 0.0031964166555553675 0.002246379852294922\n",
      "7749 0.00316146039403975 0.002398252487182617\n",
      "7999 0.003130589611828327 0.002685070037841797\n",
      "8249 0.003103856695815921 0.0027570724487304688\n",
      "8499 0.0030782304238528013 0.0027909278869628906\n",
      "8749 0.0030535387340933084 0.002754688262939453\n",
      "8999 0.0030355609487742186 0.003309965133666992\n",
      "9249 0.003019497264176607 0.007442951202392578\n",
      "9499 0.0030036468524485826 0.008943319320678711\n",
      "9749 0.002990235108882189 0.0033593177795410156\n",
      "9999 0.002972607733681798 0.002590179443359375\n",
      "10249 0.0029630837962031364 0.0030252933502197266\n",
      "10499 0.002956898184493184 0.0025947093963623047\n",
      "10749 0.0029515153728425503 0.0028078556060791016\n",
      "10999 0.0029475530609488487 0.0033011436462402344\n",
      "11249 0.0029441057704389095 0.002767324447631836\n",
      "11499 0.002941802376881242 0.003574848175048828\n",
      "11749 0.002938031917437911 0.0027883052825927734\n",
      "11999 0.002936032135039568 0.0022809505462646484\n",
      "12249 0.00293372618034482 0.0026695728302001953\n",
      "12499 0.0029317119624465704 0.0022284984588623047\n",
      "12749 0.002929850947111845 0.0022521018981933594\n",
      "12999 0.0029283398762345314 0.0027017593383789062\n",
      "13249 0.0029260418377816677 0.003387451171875\n",
      "13499 0.0029245088808238506 0.0027158260345458984\n",
      "13749 0.002923039486631751 0.0022554397583007812\n",
      "13999 0.0029215915128588676 0.002314329147338867\n",
      "14249 0.0029195586685091257 0.0027811527252197266\n",
      "14499 0.0029181649442762136 0.0074291229248046875\n",
      "14749 0.002916329773142934 0.002663850784301758\n",
      "14999 0.0029161504935473204 0.003582000732421875\n",
      "15249 0.0029142112471163273 0.0028066635131835938\n",
      "15499 0.0029139495454728603 0.0033690929412841797\n",
      "15749 0.002911949995905161 0.002790689468383789\n",
      "15999 0.002910999581217766 0.0033326148986816406\n",
      "16249 0.0029106808360666037 0.0027713775634765625\n",
      "16499 0.0029096310026943684 0.0027489662170410156\n",
      "16749 0.00290909712202847 0.003347635269165039\n",
      "16999 0.0029079800006002188 0.0027887821197509766\n",
      "17249 0.002908176276832819 0.0033750534057617188\n",
      "17499 0.0029082896653562784 0.0027446746826171875\n",
      "17749 0.002907524583861232 0.003362894058227539\n",
      "17999 0.002906369511038065 0.002655506134033203\n",
      "18249 0.002908071270212531 0.002813100814819336\n",
      "18499 0.002906378824263811 0.0026297569274902344\n",
      "18749 0.002907134359702468 0.002810955047607422\n",
      "18999 0.0029056330677121878 0.0027785301208496094\n",
      "19249 0.0029059266671538353 0.0025992393493652344\n",
      "19499 0.002907037967815995 0.0028238296508789062\n",
      "19749 0.0029071420431137085 0.003228902816772461\n",
      "19999 0.0029051105957478285 0.002204418182373047\n"
     ]
    },
    {
     "ename": "KeyboardInterrupt",
     "evalue": "",
     "output_type": "error",
     "traceback": [
      "\u001b[0;31m---------------------------------------------------------------------------\u001b[0m",
      "\u001b[0;31mKeyboardInterrupt\u001b[0m                         Traceback (most recent call last)",
      "\u001b[0;32m<ipython-input-6-a095aa4c932e>\u001b[0m in \u001b[0;36m<module>\u001b[0;34m\u001b[0m\n\u001b[1;32m     14\u001b[0m     \u001b[0mbatch_D\u001b[0m \u001b[0;34m=\u001b[0m \u001b[0mD_train\u001b[0m\u001b[0;34m[\u001b[0m\u001b[0mbatch_idx\u001b[0m\u001b[0;34m]\u001b[0m\u001b[0;34m.\u001b[0m\u001b[0mto\u001b[0m\u001b[0;34m(\u001b[0m\u001b[0mdevice\u001b[0m\u001b[0;34m)\u001b[0m\u001b[0;34m[\u001b[0m\u001b[0;34m:\u001b[0m\u001b[0;34m,\u001b[0m\u001b[0mpart_time_idx\u001b[0m\u001b[0;34m]\u001b[0m\u001b[0;34m\u001b[0m\u001b[0;34m\u001b[0m\u001b[0m\n\u001b[1;32m     15\u001b[0m \u001b[0;34m\u001b[0m\u001b[0m\n\u001b[0;32m---> 16\u001b[0;31m     \u001b[0mS_out\u001b[0m\u001b[0;34m,\u001b[0m \u001b[0mbatch_P\u001b[0m \u001b[0;34m=\u001b[0m \u001b[0mmodel\u001b[0m\u001b[0;34m(\u001b[0m\u001b[0mbatch_V\u001b[0m\u001b[0;34m,\u001b[0m \u001b[0mbatch_D\u001b[0m\u001b[0;34m)\u001b[0m\u001b[0;34m\u001b[0m\u001b[0;34m\u001b[0m\u001b[0m\n\u001b[0m\u001b[1;32m     17\u001b[0m     \u001b[0mloss\u001b[0m \u001b[0;34m=\u001b[0m \u001b[0mbce_criterion\u001b[0m\u001b[0;34m(\u001b[0m\u001b[0mbatch_P\u001b[0m\u001b[0;34m,\u001b[0m \u001b[0mbatch_S\u001b[0m\u001b[0;34m)\u001b[0m\u001b[0;34m\u001b[0m\u001b[0;34m\u001b[0m\u001b[0m\n\u001b[1;32m     18\u001b[0m     \u001b[0mloss\u001b[0m\u001b[0;34m.\u001b[0m\u001b[0mbackward\u001b[0m\u001b[0;34m(\u001b[0m\u001b[0;34m)\u001b[0m\u001b[0;34m\u001b[0m\u001b[0;34m\u001b[0m\u001b[0m\n",
      "\u001b[0;32m~/anaconda3/lib/python3.8/site-packages/torch/nn/modules/module.py\u001b[0m in \u001b[0;36m_call_impl\u001b[0;34m(self, *input, **kwargs)\u001b[0m\n\u001b[1;32m    887\u001b[0m             \u001b[0mresult\u001b[0m \u001b[0;34m=\u001b[0m \u001b[0mself\u001b[0m\u001b[0;34m.\u001b[0m\u001b[0m_slow_forward\u001b[0m\u001b[0;34m(\u001b[0m\u001b[0;34m*\u001b[0m\u001b[0minput\u001b[0m\u001b[0;34m,\u001b[0m \u001b[0;34m**\u001b[0m\u001b[0mkwargs\u001b[0m\u001b[0;34m)\u001b[0m\u001b[0;34m\u001b[0m\u001b[0;34m\u001b[0m\u001b[0m\n\u001b[1;32m    888\u001b[0m         \u001b[0;32melse\u001b[0m\u001b[0;34m:\u001b[0m\u001b[0;34m\u001b[0m\u001b[0;34m\u001b[0m\u001b[0m\n\u001b[0;32m--> 889\u001b[0;31m             \u001b[0mresult\u001b[0m \u001b[0;34m=\u001b[0m \u001b[0mself\u001b[0m\u001b[0;34m.\u001b[0m\u001b[0mforward\u001b[0m\u001b[0;34m(\u001b[0m\u001b[0;34m*\u001b[0m\u001b[0minput\u001b[0m\u001b[0;34m,\u001b[0m \u001b[0;34m**\u001b[0m\u001b[0mkwargs\u001b[0m\u001b[0;34m)\u001b[0m\u001b[0;34m\u001b[0m\u001b[0;34m\u001b[0m\u001b[0m\n\u001b[0m\u001b[1;32m    890\u001b[0m         for hook in itertools.chain(\n\u001b[1;32m    891\u001b[0m                 \u001b[0m_global_forward_hooks\u001b[0m\u001b[0;34m.\u001b[0m\u001b[0mvalues\u001b[0m\u001b[0;34m(\u001b[0m\u001b[0;34m)\u001b[0m\u001b[0;34m,\u001b[0m\u001b[0;34m\u001b[0m\u001b[0;34m\u001b[0m\u001b[0m\n",
      "\u001b[0;32m<ipython-input-2-9dcddc679f43>\u001b[0m in \u001b[0;36mforward\u001b[0;34m(self, V, D)\u001b[0m\n\u001b[1;32m     27\u001b[0m         \u001b[0;31m#V, D, S is shape (batch, 50000)\u001b[0m\u001b[0;34m\u001b[0m\u001b[0;34m\u001b[0m\u001b[0;34m\u001b[0m\u001b[0m\n\u001b[1;32m     28\u001b[0m \u001b[0;34m\u001b[0m\u001b[0m\n\u001b[0;32m---> 29\u001b[0;31m         \u001b[0minput_pad\u001b[0m \u001b[0;34m=\u001b[0m \u001b[0mtorch\u001b[0m\u001b[0;34m.\u001b[0m\u001b[0mzeros\u001b[0m\u001b[0;34m(\u001b[0m\u001b[0mV\u001b[0m\u001b[0;34m.\u001b[0m\u001b[0mshape\u001b[0m\u001b[0;34m[\u001b[0m\u001b[0;36m0\u001b[0m\u001b[0;34m]\u001b[0m\u001b[0;34m,\u001b[0m \u001b[0;36m2\u001b[0m\u001b[0;34m,\u001b[0m \u001b[0mV\u001b[0m\u001b[0;34m.\u001b[0m\u001b[0mshape\u001b[0m\u001b[0;34m[\u001b[0m\u001b[0;36m1\u001b[0m\u001b[0;34m]\u001b[0m \u001b[0;34m+\u001b[0m \u001b[0mself\u001b[0m\u001b[0;34m.\u001b[0m\u001b[0mK_no\u001b[0m\u001b[0;34m-\u001b[0m\u001b[0;36m1\u001b[0m\u001b[0;34m)\u001b[0m\u001b[0;34m.\u001b[0m\u001b[0mto\u001b[0m\u001b[0;34m(\u001b[0m\u001b[0mself\u001b[0m\u001b[0;34m.\u001b[0m\u001b[0mdevice\u001b[0m\u001b[0;34m)\u001b[0m\u001b[0;34m\u001b[0m\u001b[0;34m\u001b[0m\u001b[0m\n\u001b[0m\u001b[1;32m     30\u001b[0m         \u001b[0minput_pad\u001b[0m\u001b[0;34m[\u001b[0m\u001b[0;34m:\u001b[0m\u001b[0;34m,\u001b[0m\u001b[0;36m0\u001b[0m\u001b[0;34m,\u001b[0m\u001b[0;34m-\u001b[0m\u001b[0mV\u001b[0m\u001b[0;34m.\u001b[0m\u001b[0mshape\u001b[0m\u001b[0;34m[\u001b[0m\u001b[0;36m1\u001b[0m\u001b[0;34m]\u001b[0m\u001b[0;34m:\u001b[0m\u001b[0;34m]\u001b[0m \u001b[0;34m=\u001b[0m \u001b[0minput_pad\u001b[0m\u001b[0;34m[\u001b[0m\u001b[0;34m:\u001b[0m\u001b[0;34m,\u001b[0m\u001b[0;36m0\u001b[0m\u001b[0;34m,\u001b[0m\u001b[0;34m-\u001b[0m\u001b[0mV\u001b[0m\u001b[0;34m.\u001b[0m\u001b[0mshape\u001b[0m\u001b[0;34m[\u001b[0m\u001b[0;36m1\u001b[0m\u001b[0;34m]\u001b[0m\u001b[0;34m:\u001b[0m\u001b[0;34m]\u001b[0m \u001b[0;34m+\u001b[0m \u001b[0mV\u001b[0m\u001b[0;34m\u001b[0m\u001b[0;34m\u001b[0m\u001b[0m\n\u001b[1;32m     31\u001b[0m         \u001b[0minput_pad\u001b[0m\u001b[0;34m[\u001b[0m\u001b[0;34m:\u001b[0m\u001b[0;34m,\u001b[0m\u001b[0;36m1\u001b[0m\u001b[0;34m,\u001b[0m\u001b[0;34m-\u001b[0m\u001b[0mD\u001b[0m\u001b[0;34m.\u001b[0m\u001b[0mshape\u001b[0m\u001b[0;34m[\u001b[0m\u001b[0;36m1\u001b[0m\u001b[0;34m]\u001b[0m\u001b[0;34m:\u001b[0m\u001b[0;34m]\u001b[0m \u001b[0;34m=\u001b[0m \u001b[0minput_pad\u001b[0m\u001b[0;34m[\u001b[0m\u001b[0;34m:\u001b[0m\u001b[0;34m,\u001b[0m\u001b[0;36m1\u001b[0m\u001b[0;34m,\u001b[0m\u001b[0;34m-\u001b[0m\u001b[0mD\u001b[0m\u001b[0;34m.\u001b[0m\u001b[0mshape\u001b[0m\u001b[0;34m[\u001b[0m\u001b[0;36m1\u001b[0m\u001b[0;34m]\u001b[0m\u001b[0;34m:\u001b[0m\u001b[0;34m]\u001b[0m \u001b[0;34m+\u001b[0m \u001b[0mD\u001b[0m\u001b[0;34m\u001b[0m\u001b[0;34m\u001b[0m\u001b[0m\n",
      "\u001b[0;31mKeyboardInterrupt\u001b[0m: "
     ]
    }
   ],
   "source": [
    "score_list = []\n",
    "\n",
    "part_time_idx = torch.arange(12000,32000)\n",
    "\n",
    "for i in tnrange(iter_no):\n",
    "    s = time.time()\n",
    "    model.train()\n",
    "    optimizer.zero_grad()\n",
    "    \n",
    "    batch_idx_start = train_idx[i]\n",
    "    batch_idx = torch.arange(batch_idx_start, batch_idx_start+5).long()\n",
    "    batch_S = S_train[batch_idx].to(device)[:,part_time_idx]\n",
    "    batch_V = V_train[batch_idx].to(device)[:,part_time_idx]\n",
    "    batch_D = D_train[batch_idx].to(device)[:,part_time_idx]\n",
    "    \n",
    "    S_out, batch_P = model(batch_V, batch_D)\n",
    "    loss = bce_criterion(batch_P, batch_S)\n",
    "    loss.backward()\n",
    "    optimizer.step()\n",
    "    \n",
    "    step_time = time.time() - s\n",
    "    \n",
    "    if (i%250 == 249) or (i == 0):\n",
    "        model.eval()\n",
    "        test_S_out, P_test = model(V_test[:,part_time_idx], D_test[:,part_time_idx])\n",
    "        test_loss = bce_criterion(P_test, S_test[:,part_time_idx]).item()\n",
    "        \n",
    "        score_list.append(test_loss)\n",
    "        print(i, test_loss, step_time)"
   ]
  },
  {
   "cell_type": "code",
   "execution_count": null,
   "id": "f591ea9b",
   "metadata": {},
   "outputs": [],
   "source": []
  },
  {
   "cell_type": "code",
   "execution_count": 7,
   "id": "e006b31b",
   "metadata": {},
   "outputs": [],
   "source": [
    "# 2649 0.004261615686118603 (true_na with refractory)\n",
    "# 31249 0.0029351413249969482  (true_na without refractory)\n",
    "# 35499 0.0030055860988795757  (comb_pred without refractory)\n",
    "# 29749 0.003061493393033743  (whole_pred without refractory)\n",
    "\n",
    "\n",
    "# AP True\n",
    "# 0.00019483866344671696 (V, D)\n",
    "# 0.0006420775316655636 (V only)\n",
    "\n",
    "# Na True\n",
    "# 0.0012602820061147213 (V, D)\n",
    "# 0.0018874892266467214 (V only)\n",
    "\n",
    "# No Na True\n",
    "# 0.0013189633609727025 (V, D)\n",
    "# 0.0018882722361013293 (V only)"
   ]
  },
  {
   "cell_type": "code",
   "execution_count": 7,
   "id": "fad67e83",
   "metadata": {},
   "outputs": [
    {
     "data": {
      "text/plain": [
       "<matplotlib.legend.Legend at 0x7f19af0d2af0>"
      ]
     },
     "execution_count": 7,
     "metadata": {},
     "output_type": "execute_result"
    },
    {
     "data": {
      "image/png": "[encoded data removed]",
      "text/plain": [
       "<Figure size 1080x360 with 1 Axes>"
      ]
     },
     "metadata": {
      "needs_background": "light"
     },
     "output_type": "display_data"
    }
   ],
   "source": [
    "plt.figure(figsize = (15,5))\n",
    "plt.plot(np.arange(0,1000,0.2), P_test[0][10000:15000].cpu().detach().numpy()[:], label=\"Probability of Spiking\")\n",
    "plt.scatter(np.arange(0,1000,0.2), S_test[0][12000:32000][10000:15000].cpu().detach().numpy()-0.8, s=100, color=\"black\", marker=\"|\", label=\"True\")\n",
    "plt.scatter(np.arange(0,1000,0.2), test_S_out[0][10000:15000].cpu().detach().numpy()*0.9-0.8, s=100, color=\"red\", marker=\"|\", label=\"Predicted (bernoulli sample)\")\n",
    "plt.ylim(0,0.25)\n",
    "plt.xlabel(\"Time (ms)\")\n",
    "plt.ylabel(\"Probability\")\n",
    "plt.legend()"
   ]
  },
  {
   "cell_type": "code",
   "execution_count": null,
   "id": "ad66af8b",
   "metadata": {},
   "outputs": [],
   "source": []
  }
 ],
 "metadata": {
  "kernelspec": {
   "display_name": "Python 3",
   "language": "python",
   "name": "python3"
  },
  "language_info": {
   "codemirror_mode": {
    "name": "ipython",
    "version": 3
   },
   "file_extension": ".py",
   "mimetype": "text/x-python",
   "name": "python",
   "nbconvert_exporter": "python",
   "pygments_lexer": "ipython3",
   "version": "3.8.8"
  }
 },
 "nbformat": 4,
 "nbformat_minor": 5
}
