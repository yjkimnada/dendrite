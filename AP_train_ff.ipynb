{
 "cells": [
  {
   "cell_type": "code",
   "execution_count": 1,
   "id": "e7faa469",
   "metadata": {},
   "outputs": [],
   "source": [
    "import numpy as np\n",
    "import torch \n",
    "import torch.nn as nn\n",
    "from tqdm import tnrange\n",
    "import torch.optim as optim\n",
    "import torch.nn.functional as F\n",
    "from sklearn import metrics\n",
    "import matplotlib.pyplot as plt\n",
    "import time"
   ]
  },
  {
   "cell_type": "code",
   "execution_count": 2,
   "id": "8753064b",
   "metadata": {},
   "outputs": [],
   "source": [
    "class AP_NN(nn.Module):\n",
    "    def __init__(self, K_no, L_no, H_no, T_no, device):\n",
    "        super().__init__()\n",
    "        \n",
    "        self.K_no = K_no\n",
    "        self.L_no = L_no\n",
    "        self.H_no = H_no\n",
    "        self.T_no = T_no\n",
    "        self.device = device\n",
    "        \n",
    "        nn_list = []\n",
    "        for l in range(self.L_no):\n",
    "            if l == 0:\n",
    "                nn_list.append(nn.Conv1d(in_channels=2, out_channels=H_no, kernel_size=K_no, padding=0))\n",
    "                #nn_list.append(nn.Tanh())\n",
    "                nn_list.append(nn.LeakyReLU())\n",
    "            elif l == self.L_no - 1:\n",
    "                nn_list.append(nn.Conv1d(in_channels=H_no, out_channels=1, kernel_size=1, padding=0))\n",
    "            else:\n",
    "                nn_list.append(nn.Conv1d(in_channels=H_no, out_channels=H_no, kernel_size=1, padding=0))\n",
    "                #nn_list.append(nn.Tanh())\n",
    "                nn_list.append(nn.LeakyReLU())\n",
    "        \n",
    "        self.nn = nn.Sequential(*nn_list)\n",
    "        \n",
    "    def forward(self, V, D):\n",
    "        #V, D, S is shape (batch, 50000)\n",
    "        \n",
    "        input_pad = torch.zeros(V.shape[0], 2, V.shape[1] + self.K_no-1).to(self.device)\n",
    "        input_pad[:,0,-V.shape[1]:] = input_pad[:,0,-V.shape[1]:] + V\n",
    "        input_pad[:,1,-D.shape[1]:] = input_pad[:,1,-D.shape[1]:] + D\n",
    "        \n",
    "        nn_out = self.nn(input_pad).squeeze(1) # (batch, 50000)\n",
    "        P = torch.sigmoid(nn_out)\n",
    "        S = torch.bernoulli(P)\n",
    "        return S, P\n",
    "\n"
   ]
  },
  {
   "cell_type": "code",
   "execution_count": 3,
   "id": "6e8d732d",
   "metadata": {},
   "outputs": [],
   "source": [
    "batch_size = 5\n",
    "batch_length = 50000\n",
    "K_no = 1\n",
    "L_no = 2\n",
    "H_no = 20\n",
    "T_no = 501\n",
    "device = torch.device(\"cuda\")\n",
    "\n",
    "epoch_no = 200\n",
    "iter_no = epoch_no * 980 // batch_size\n",
    "\n",
    "#V = np.load(\"/media/hdd01/sklee/CA1_clust4-60/data/vdata_T10_Ne2000_gA0.6_tauA1_gN0.8_Ni200_gG0.1_gB0.1_Er0.5_Ir7.4_random_NR_rep1000_stimseed1.npy\").reshape(-1,50001)[:,:50000].flatten()\n",
    "V = np.load(\"/media/hdd01/sklee/CA1_clust4-60_AP/comb_pred/V_comb_pred.npy\").flatten()\n",
    "\n",
    "#D = np.zeros((V.shape[0]))\n",
    "#D[:-1] = np.diff(V)\n",
    "D = V.copy()\n",
    "D = D.reshape(-1,batch_length)\n",
    "V = V.reshape(-1,batch_length)\n",
    "S = np.load(\"/media/hdd01/sklee/CA1_clust4-60_AP/data/spk.npy\").reshape(-1,batch_length)\n",
    "\n",
    "V = torch.from_numpy(V)\n",
    "D = torch.from_numpy(D)\n",
    "S = torch.from_numpy(S)\n"
   ]
  },
  {
   "cell_type": "code",
   "execution_count": 4,
   "id": "242f5d1a",
   "metadata": {},
   "outputs": [],
   "source": [
    "V_train = V[:980].float()\n",
    "V_test = V[980:].float().to(device)\n",
    "D_train = D[:980].float()\n",
    "D_test = D[980:].float().to(device)\n",
    "S_train = S[:980].float()\n",
    "S_test = S[980:].float() .to(device)\n",
    "\n",
    "train_idx = np.empty((epoch_no, 980//batch_size))\n",
    "for i in range(epoch_no):\n",
    "    part_idx = np.arange(0,980,batch_size)\n",
    "    np.random.shuffle(part_idx)\n",
    "    train_idx[i] = part_idx\n",
    "train_idx = train_idx.flatten()\n",
    "train_idx = torch.from_numpy(train_idx)\n"
   ]
  },
  {
   "cell_type": "code",
   "execution_count": 5,
   "id": "784b45c2",
   "metadata": {},
   "outputs": [
    {
     "name": "stdout",
     "output_type": "stream",
     "text": [
      "81\n"
     ]
    }
   ],
   "source": [
    "model = AP_NN(K_no, L_no, H_no, T_no, device)\n",
    "optimizer = torch.optim.Adam(model.parameters(), lr = 0.0005)\n",
    "\n",
    "model.to(device).float()\n",
    "print(sum(p.numel() for p in model.parameters() if p.requires_grad))\n",
    "\n",
    "bce_criterion = nn.BCELoss(reduction=\"mean\")"
   ]
  },
  {
   "cell_type": "code",
   "execution_count": null,
   "id": "84e29a0c",
   "metadata": {
    "scrolled": false
   },
   "outputs": [
    {
     "name": "stderr",
     "output_type": "stream",
     "text": [
      "<ipython-input-6-a095aa4c932e>:5: TqdmDeprecationWarning: Please use `tqdm.notebook.trange` instead of `tqdm.tnrange`\n",
      "  for i in tnrange(iter_no):\n"
     ]
    },
    {
     "data": {
      "application/vnd.jupyter.widget-view+json": {
       "model_id": "df461775fb2e477a8a12df9dd035cccc",
       "version_major": 2,
       "version_minor": 0
      },
      "text/plain": [
       "  0%|          | 0/39200 [00:00<?, ?it/s]"
      ]
     },
     "metadata": {},
     "output_type": "display_data"
    },
    {
     "name": "stdout",
     "output_type": "stream",
     "text": [
      "0 0.724750280380249 0.20505642890930176\n",
      "249 0.2689262926578522 0.0026025772094726562\n",
      "499 0.1184118315577507 0.002927541732788086\n",
      "749 0.06222766265273094 0.0028693675994873047\n",
      "999 0.037951692938804626 0.002442598342895508\n",
      "1249 0.026199467480182648 0.002355813980102539\n",
      "1499 0.019959891214966774 0.0023162364959716797\n",
      "1749 0.016347937285900116 0.0024194717407226562\n",
      "1999 0.014089120551943779 0.0022077560424804688\n",
      "2249 0.012541597709059715 0.002367258071899414\n",
      "2499 0.011372988112270832 0.0023412704467773438\n",
      "2749 0.010396391153335571 0.002353191375732422\n",
      "2999 0.009498334489762783 0.0025475025177001953\n",
      "3249 0.008648067712783813 0.0025124549865722656\n",
      "3499 0.007790275849401951 0.002420186996459961\n",
      "3749 0.00692072743549943 0.0024003982543945312\n",
      "3999 0.005706902127712965 0.0023827552795410156\n",
      "4249 0.004753936547785997 0.0023593902587890625\n",
      "4499 0.004240795038640499 0.0023941993713378906\n",
      "4749 0.0039323014207184315 0.002393484115600586\n",
      "4999 0.003739439882338047 0.0024356842041015625\n",
      "5249 0.003616331610828638 0.002218961715698242\n",
      "5499 0.0035338185261934996 0.0025756359100341797\n",
      "5749 0.003477550344541669 0.0025610923767089844\n",
      "5999 0.0034394722897559404 0.0026056766510009766\n",
      "6249 0.003410409204661846 0.0024149417877197266\n",
      "6499 0.0033916777465492487 0.0023305416107177734\n",
      "6749 0.003375191008672118 0.0023636817932128906\n",
      "6999 0.0033633087296038866 0.0023682117462158203\n",
      "7249 0.0033479088451713324 0.0024399757385253906\n",
      "7499 0.0033371818717569113 0.0024557113647460938\n",
      "7749 0.0033298498019576073 0.0028009414672851562\n",
      "7999 0.0033175493590533733 0.002340555191040039\n",
      "8249 0.0033164112828671932 0.0026247501373291016\n",
      "8499 0.0033082342706620693 0.0026252269744873047\n",
      "8749 0.0033038894180208445 0.002376079559326172\n",
      "8999 0.003299565054476261 0.002401113510131836\n",
      "9249 0.003293123096227646 0.002379179000854492\n",
      "9499 0.003291355911642313 0.0024089813232421875\n",
      "9749 0.0032764349598437548 0.0024077892303466797\n",
      "9999 0.0032535442151129246 0.002410411834716797\n",
      "10249 0.003246491076424718 0.002424478530883789\n",
      "10499 0.003242803504690528 0.0023374557495117188\n",
      "10749 0.003237227676436305 0.0025911331176757812\n",
      "10999 0.0032288809306919575 0.0025641918182373047\n",
      "11249 0.0031872261315584183 0.0025424957275390625\n",
      "11499 0.0031780677381902933 0.002354145050048828\n",
      "11749 0.0031672774348407984 0.002577543258666992\n",
      "11999 0.003160282736644149 0.0031838417053222656\n",
      "12249 0.0031567998230457306 0.0026235580444335938\n",
      "12499 0.003139115171507001 0.003072500228881836\n",
      "12749 0.003131793113425374 0.002618551254272461\n",
      "12999 0.0031268892344087362 0.0029065608978271484\n",
      "13249 0.0031155224423855543 0.0025687217712402344\n",
      "13499 0.003110087476670742 0.002551555633544922\n",
      "13749 0.0031018340960144997 0.002437591552734375\n",
      "13999 0.003093714825809002 0.002489805221557617\n",
      "14249 0.0030870381742715836 0.002454042434692383\n",
      "14499 0.00308032613247633 0.002431154251098633\n",
      "14749 0.003075632266700268 0.002801656723022461\n",
      "14999 0.0030691272113472223 0.0027441978454589844\n",
      "15249 0.003070085309445858 0.0026047229766845703\n",
      "15499 0.0030595469288527966 0.0025229454040527344\n",
      "15749 0.00305557600222528 0.002402067184448242\n",
      "15999 0.003052519401535392 0.0030939579010009766\n",
      "16249 0.0030486909672617912 0.0031235218048095703\n",
      "16499 0.00304603879339993 0.0024650096893310547\n",
      "16749 0.0030436755623668432 0.0025641918182373047\n",
      "16999 0.003040760988369584 0.0026390552520751953\n",
      "17249 0.0030388024169951677 0.0027196407318115234\n",
      "17499 0.0030379772651940584 0.003061056137084961\n",
      "17749 0.0030355791095644236 0.002358675003051758\n",
      "17999 0.0030345870181918144 0.002554655075073242\n",
      "18249 0.0030335986521095037 0.0022916793823242188\n",
      "18499 0.003032021690160036 0.0030841827392578125\n",
      "18749 0.003033579559996724 0.0025043487548828125\n",
      "18999 0.0030358030926436186 0.0025594234466552734\n",
      "19249 0.0030300109647214413 0.002427816390991211\n",
      "19499 0.003031150670722127 0.0024116039276123047\n",
      "19749 0.003029440762475133 0.002527952194213867\n",
      "19999 0.0030290959402918816 0.002589702606201172\n",
      "20249 0.0030292202718555927 0.0031926631927490234\n",
      "20499 0.003029339015483856 0.0025589466094970703\n",
      "20749 0.0030302421655505896 0.0025687217712402344\n",
      "20999 0.0030281224753707647 0.00266265869140625\n",
      "21249 0.003028815845027566 0.0025789737701416016\n",
      "21499 0.0030271648429334164 0.0025022029876708984\n",
      "21749 0.0030277313198894262 0.0027289390563964844\n",
      "21999 0.0030290582217276096 0.0026702880859375\n",
      "22249 0.003027868689969182 0.002484560012817383\n",
      "22499 0.0030276214238256216 0.002459287643432617\n",
      "22749 0.0030267583206295967 0.002809762954711914\n",
      "22999 0.003027526894584298 0.0026187896728515625\n",
      "23249 0.0030282046645879745 0.002491474151611328\n",
      "23499 0.0030272130388766527 0.002429485321044922\n",
      "23749 0.0030266554094851017 0.0026268959045410156\n",
      "23999 0.003027473110705614 0.002448558807373047\n",
      "24249 0.0030281285289674997 0.003047466278076172\n",
      "24499 0.0030268635600805283 0.002659320831298828\n",
      "24749 0.0030277734622359276 0.002825021743774414\n",
      "24999 0.0030292619485408068 0.002420663833618164\n",
      "25249 0.003027270082384348 0.0024023056030273438\n",
      "25499 0.003026941791176796 0.0030333995819091797\n",
      "25749 0.003027445636689663 0.0027441978454589844\n",
      "25999 0.0030266125686466694 0.0025174617767333984\n",
      "26249 0.0030267962720245123 0.0024929046630859375\n",
      "26499 0.0030264740344136953 0.002475738525390625\n",
      "26749 0.0030265727546066046 0.0025060176849365234\n",
      "26999 0.0030268931295722723 0.0030546188354492188\n",
      "27249 0.0030267583206295967 0.0026521682739257812\n",
      "27499 0.003028308739885688 0.002482175827026367\n",
      "27749 0.0030271150171756744 0.0024633407592773438\n",
      "27999 0.0030265026725828648 0.0027806758880615234\n",
      "28249 0.003029582556337118 0.0024178028106689453\n",
      "28499 0.0030279168859124184 0.002238750457763672\n"
     ]
    }
   ],
   "source": [
    "score_list = []\n",
    "\n",
    "part_time_idx = torch.arange(12000,32000)\n",
    "\n",
    "for i in tnrange(iter_no):\n",
    "    s = time.time()\n",
    "    model.train()\n",
    "    optimizer.zero_grad()\n",
    "    \n",
    "    batch_idx_start = train_idx[i]\n",
    "    batch_idx = torch.arange(batch_idx_start, batch_idx_start+5).long()\n",
    "    batch_S = S_train[batch_idx].to(device)[:,part_time_idx]\n",
    "    batch_V = V_train[batch_idx].to(device)[:,part_time_idx]\n",
    "    batch_D = D_train[batch_idx].to(device)[:,part_time_idx]\n",
    "    \n",
    "    S_out, batch_P = model(batch_V, batch_D)\n",
    "    loss = bce_criterion(batch_P, batch_S)\n",
    "    loss.backward()\n",
    "    optimizer.step()\n",
    "    \n",
    "    step_time = time.time() - s\n",
    "    \n",
    "    if (i%250 == 249) or (i == 0):\n",
    "        model.eval()\n",
    "        test_S_out, P_test = model(V_test[:,part_time_idx], D_test[:,part_time_idx])\n",
    "        test_loss = bce_criterion(P_test, S_test[:,part_time_idx]).item()\n",
    "        \n",
    "        score_list.append(test_loss)\n",
    "        print(i, test_loss, step_time)"
   ]
  },
  {
   "cell_type": "code",
   "execution_count": null,
   "id": "f591ea9b",
   "metadata": {},
   "outputs": [],
   "source": []
  },
  {
   "cell_type": "code",
   "execution_count": 7,
   "id": "e006b31b",
   "metadata": {},
   "outputs": [],
   "source": [
    "# 2649 0.004261615686118603 (true_na with refractory)\n",
    "# 31249 0.0029351413249969482  (true_na without refractory)\n",
    "# 35499 0.0030055860988795757  (comb_pred without refractory)\n",
    "# 29749 0.003061493393033743  (whole_pred without refractory)\n",
    "\n",
    "\n",
    "# AP True\n",
    "# 0.00019483866344671696 (V, D)\n",
    "# 0.0006420775316655636 (V only)\n",
    "\n",
    "# Na True\n",
    "# 0.0012602820061147213 (V, D)\n",
    "# 0.0018874892266467214 (V only)\n",
    "\n",
    "# No Na True\n",
    "# 0.0013189633609727025 (V, D)\n",
    "# 0.0018882722361013293 (V only)"
   ]
  },
  {
   "cell_type": "code",
   "execution_count": 7,
   "id": "fad67e83",
   "metadata": {},
   "outputs": [
    {
     "name": "stdout",
     "output_type": "stream",
     "text": [
      "tensor(0.0539, device='cuda:0', grad_fn=<MaxBackward1>)\n"
     ]
    },
    {
     "data": {
      "text/plain": [
       "(0.0, 0.25)"
      ]
     },
     "execution_count": 7,
     "metadata": {},
     "output_type": "execute_result"
    },
    {
     "data": {
      "image/png": "[encoded data removed]",
      "text/plain": [
       "<Figure size 1080x360 with 1 Axes>"
      ]
     },
     "metadata": {
      "needs_background": "light"
     },
     "output_type": "display_data"
    }
   ],
   "source": [
    "plt.figure(figsize = (15,5))\n",
    "plt.plot(P_test[0][10000:15000].cpu().detach().numpy()[:])\n",
    "plt.scatter(np.arange(5000), S_test[0][12000:32000][10000:15000].cpu().detach().numpy()-0.8, s=100, color=\"black\", marker=\"|\")\n",
    "plt.scatter(np.arange(5000), test_S_out[0][10000:15000].cpu().detach().numpy()*0.9-0.8, s=100, color=\"red\", marker=\"|\")\n",
    "print(torch.max(P_test))\n",
    "plt.ylim(0,0.25)"
   ]
  },
  {
   "cell_type": "code",
   "execution_count": null,
   "id": "ad66af8b",
   "metadata": {},
   "outputs": [],
   "source": []
  }
 ],
 "metadata": {
  "kernelspec": {
   "display_name": "Python 3",
   "language": "python",
   "name": "python3"
  },
  "language_info": {
   "codemirror_mode": {
    "name": "ipython",
    "version": 3
   },
   "file_extension": ".py",
   "mimetype": "text/x-python",
   "name": "python",
   "nbconvert_exporter": "python",
   "pygments_lexer": "ipython3",
   "version": "3.8.8"
  }
 },
 "nbformat": 4,
 "nbformat_minor": 5
}
