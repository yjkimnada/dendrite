{
 "cells": [
  {
   "cell_type": "code",
   "execution_count": 3,
   "id": "6875c137",
   "metadata": {},
   "outputs": [],
   "source": [
    "import numpy as np\n",
    "import matplotlib.pyplot as plt\n",
    "from matplotlib import cm\n",
    "import matplotlib as mpl\n",
    "from sklearn.metrics import explained_variance_score\n"
   ]
  },
  {
   "cell_type": "code",
   "execution_count": 6,
   "id": "6f856fc7",
   "metadata": {},
   "outputs": [],
   "source": [
    "na4_true = np.load(\"/media/hdd01/sklee/CA1_clust4-60/data/V_diff_stimseed1.npy\")[-20*50000:].reshape(20,50000)\n",
    "na4_gru_hand = np.load(\"/media/hdd01/sklee/CA1_clust4-60/hand/gru_s10_h20_output.npz\")[\"test\"]\n",
    "na4_gru_mono = np.load(\"/media/hdd01/sklee/CA1_clust4-60/mono/gru_s5_h20_output.npz\")[\"test\"]\n",
    "na4_gru_global = np.load(\"/media/hdd01/sklee/CA1_clust4-60/global/gru_s1_h20_output.npz\")[\"test\"]\n",
    "\n",
    "nona4_true = np.load(\"/media/hdd01/sklee/CA1_clust4-60_noNA/data/vdata_T10_Ne2000_gA0.6_tauA1_gN0.8_Ni200_gG0.1_gB0.1_noDendNa_Er0.5_Ir7.4_random_NR_rep1000_stimseed1_set1.npy\")[-20:,:50000]\n",
    "nona4_gru_hand = np.load(\"/media/hdd01/sklee/CA1_clust4-60_noNA/hand/gru_s10_h20_output.npz\")[\"test\"]\n",
    "nona4_gru_mono = np.load(\"/media/hdd01/sklee/CA1_clust4-60_noNA/mono/gru_s5_h20_output.npz\")[\"test\"]\n",
    "nona4_gru_global = np.load(\"/media/hdd01/sklee/CA1_clust4-60_noNA/global/gru_s1_h20_output.npz\")[\"test\"]\n",
    "\n",
    "na8_true = np.load(\"/media/hdd01/sklee/CA1_clust8-30/data/V_diff_stimseed1.npy\")[-20*50000:].reshape(20,50000)\n",
    "na8_gru_hand = np.load(\"/media/hdd01/sklee/CA1_clust8-30/hand/gru_s14_h20_output.npz\")[\"test\"]\n",
    "na8_gru_mono = np.load(\"/media/hdd01/sklee/CA1_clust8-30/mono/gru_s9_h20_output.npz\")[\"test\"]\n",
    "na8_gru_global = np.load(\"/media/hdd01/sklee/CA1_clust8-30/global/gru_s1_h20_output.npz\")[\"test\"]\n",
    "\n",
    "nona8_true = np.load(\"/media/hdd01/sklee/CA1_clust8-30_noNA/data/vdata_T10_Ne2000_gA0.6_tauA1_gN0.8_Ni200_gG0.1_gB0.1_noDendNa_Er0.5_Ir7.4_random_NR_rep1000_stimseed1.npy\")[-20:,:50000]\n",
    "nona8_gru_hand = np.load(\"/media/hdd01/sklee/CA1_clust8-30_noNA/hand/gru_s14_h20_output.npz\")[\"test\"]\n",
    "nona8_gru_mono = np.load(\"/media/hdd01/sklee/CA1_clust8-30_noNA/mono/gru_s9_h20_output.npz\")[\"test\"]\n",
    "nona8_gru_global = np.load(\"/media/hdd01/sklee/CA1_clust8-30_noNA/global/gru_s1_h20_output.npz\")[\"test\"]\n",
    "\n",
    "na12_true = np.load(\"/media/hdd01/sklee/CA1_clust12-20/data/V_diff_stimseed1.npy\")[-20*50000:].reshape(20,50000)\n",
    "na12_gru_hand = np.load(\"/media/hdd01/sklee/CA1_clust12-20/hand/gru_s18_h20_output.npz\")[\"test\"]\n",
    "na12_gru_mono = np.load(\"/media/hdd01/sklee/CA1_clust12-20/mono/gru_s13_h20_output.npz\")[\"test\"]\n",
    "na12_gru_global = np.load(\"/media/hdd01/sklee/CA1_clust12-20/global/gru_s1_h20_output.npz\")[\"test\"]\n",
    "\n",
    "nona12_true = np.load(\"/media/hdd01/sklee/CA1_clust12-20_noNA/data/vdata_T10_Ne2000_gA0.6_tauA1_gN0.8_Ni200_gG0.1_gB0.1_noDendNa_Er0.5_Ir7.4_random_NR_rep1000_stimseed1.npy\")[-20:,:50000]\n",
    "nona12_gru_hand = np.load(\"/media/hdd01/sklee/CA1_clust12-20_noNA/hand/gru_s18_h20_output.npz\")[\"test\"]\n",
    "nona12_gru_mono = np.load(\"/media/hdd01/sklee/CA1_clust12-20_noNA/mono/gru_s13_h20_output.npz\")[\"test\"]\n",
    "nona12_gru_global = np.load(\"/media/hdd01/sklee/CA1_clust12-20_noNA/global/gru_s1_h20_output.npz\")[\"test\"]"
   ]
  },
  {
   "cell_type": "code",
   "execution_count": 7,
   "id": "d618980e",
   "metadata": {},
   "outputs": [],
   "source": [
    "na_var_exp = np.zeros((20,9))\n",
    "nona_var_exp = np.zeros((20,9))\n",
    "\n",
    "for i in range(20):\n",
    "    na_var_exp[i,0] = explained_variance_score(na4_true[i], na4_gru_global[i])\n",
    "    na_var_exp[i,1] = explained_variance_score(na4_true[i], na4_gru_mono[i])\n",
    "    na_var_exp[i,2] = explained_variance_score(na4_true[i], na4_gru_hand[i])\n",
    "    na_var_exp[i,3] = explained_variance_score(na8_true[i], na8_gru_global[i])\n",
    "    na_var_exp[i,4] = explained_variance_score(na8_true[i], na8_gru_mono[i])\n",
    "    na_var_exp[i,5] = explained_variance_score(na8_true[i], na8_gru_hand[i])\n",
    "    na_var_exp[i,6] = explained_variance_score(na12_true[i], na12_gru_global[i])\n",
    "    na_var_exp[i,7] = explained_variance_score(na12_true[i], na12_gru_mono[i])\n",
    "    na_var_exp[i,8] = explained_variance_score(na12_true[i], na12_gru_hand[i])\n",
    "\n",
    "    nona_var_exp[i,0] = explained_variance_score(nona4_true[i], nona4_gru_global[i])\n",
    "    nona_var_exp[i,1] = explained_variance_score(nona4_true[i], nona4_gru_mono[i])\n",
    "    nona_var_exp[i,2] = explained_variance_score(nona4_true[i], nona4_gru_hand[i])\n",
    "    nona_var_exp[i,3] = explained_variance_score(nona8_true[i], nona8_gru_global[i])\n",
    "    nona_var_exp[i,4] = explained_variance_score(nona8_true[i], nona8_gru_mono[i])\n",
    "    nona_var_exp[i,5] = explained_variance_score(nona8_true[i], nona8_gru_hand[i])\n",
    "    nona_var_exp[i,6] = explained_variance_score(nona12_true[i], nona12_gru_global[i])\n",
    "    nona_var_exp[i,7] = explained_variance_score(nona12_true[i], nona12_gru_mono[i])\n",
    "    nona_var_exp[i,8] = explained_variance_score(nona12_true[i], nona12_gru_hand[i])\n"
   ]
  },
  {
   "cell_type": "code",
   "execution_count": 14,
   "id": "fb9f2d2f",
   "metadata": {},
   "outputs": [
    {
     "name": "stderr",
     "output_type": "stream",
     "text": [
      "/tmp/ipykernel_25769/2293892990.py:73: UserWarning: This figure includes Axes that are not compatible with tight_layout, so results might be incorrect.\n",
      "  fig.tight_layout()\n"
     ]
    },
    {
     "data": {
      "image/png": "[encoded data removed]",
      "text/plain": [
       "<Figure size 720x252 with 2 Axes>"
      ]
     },
     "metadata": {
      "needs_background": "light"
     },
     "output_type": "display_data"
    }
   ],
   "source": [
    "mpl.rcParams['pdf.fonttype'] = 42\n",
    "mpl.rcParams['font.sans-serif'] = \"Arial\"\n",
    "mpl.rcParams['font.family'] = \"sans-serif\"\n",
    "\n",
    "fig = plt.figure(constrained_layout=True, figsize = (10,3.5))\n",
    "gs = fig.add_gridspec(1,2, wspace=0.1, hspace=0)\n",
    "ax1 = fig.add_subplot(gs[0])\n",
    "ax2 = fig.add_subplot(gs[1])\n",
    "\n",
    "colors = [\"gray\", \"red\", \n",
    "         \"gray\", \"red\", \n",
    "         \"gray\", \"red\", ]\n",
    "plot_cols = np.asarray([0,2,3,5,6,8])\n",
    "\n",
    "bp = ax1.boxplot(nona_var_exp[:,plot_cols], positions = [1,2,4,5,7,8], widths = 0.6, patch_artist=True)\n",
    "for patch, color in zip(bp['boxes'], colors):\n",
    "    patch.set_facecolor(color)\n",
    "    patch.set_alpha(0.5)\n",
    "for patch in bp[\"medians\"]:\n",
    "    patch.set_color(\"black\")\n",
    "    \n",
    "bp = ax2.boxplot(na_var_exp[:,plot_cols], positions = [1,2,4,5,7,8], widths = 0.6, patch_artist=True)\n",
    "for patch, color in zip(bp['boxes'], colors):\n",
    "    patch.set_facecolor(color)\n",
    "    patch.set_alpha(0.5)\n",
    "for patch in bp[\"medians\"]:\n",
    "    patch.set_color(\"black\")\n",
    "    \n",
    "ax1.set_ylim(0.,1)\n",
    "ax2.set_ylim(0.,1)\n",
    "#ax1.set_yticks(np.arange(0.1,1.01,0.3))\n",
    "#ax2.set_yticks(np.arange(0.1,1.01,0.3))\n",
    "\n",
    "ax1.spines.right.set_visible(False)\n",
    "ax1.spines.top.set_visible(False)\n",
    "ax1.spines.bottom.set_visible(False)\n",
    "ax2.spines.right.set_visible(False)\n",
    "ax2.spines.top.set_visible(False)\n",
    "ax2.spines.bottom.set_visible(False)\n",
    "\n",
    "ax1.set_xticks([1.5,4.5,7.5])\n",
    "ax2.set_xticks([1.5,4.5,7.5])\n",
    "ax1.set_xticklabels([\"4 clusters\", \"8 clusters\", \"12 clusters\"])\n",
    "ax2.set_xticklabels([\"4 clusters\", \"8 clusters\", \"12 clusters\"])\n",
    "ax1.tick_params(axis=\"x\", length=0)\n",
    "ax2.tick_params(axis=\"x\", length=0)\n",
    "\n",
    "ax1.set_xlabel(\"no. of clusters\", fontsize=12)\n",
    "ax2.set_xlabel(\"no. of clusters\", fontsize=12)\n",
    "ax1.set_ylabel(\"variance explained\", fontsize=12)\n",
    "ax1.set_title(\"$\\mathregular{v_{other}}$ fit\", fontsize=12)\n",
    "ax2.set_title(\"$\\mathregular{v_{Na}}$ fit\", fontsize=12)\n",
    "\n",
    "hR, = ax1.plot(1,1,'red')\n",
    "hG, = ax1.plot(1,1,'gray')\n",
    "ax1.legend((hG, hR),('global', 'multi-subunit'), frameon=False, loc=(0.1,0.7))\n",
    "hG.set_visible(False)\n",
    "hR.set_visible(False)\n",
    "\n",
    "ins = ax1.inset_axes([0.25,0.1,0.8,0.45])\n",
    "bp = ins.boxplot(nona_var_exp[:,plot_cols], positions = [1,2,4,5,7,8], widths = 0.6, patch_artist=True)\n",
    "for patch, color in zip(bp['boxes'], colors):\n",
    "    patch.set_facecolor(color)\n",
    "    patch.set_alpha(0.5)\n",
    "for patch in bp[\"medians\"]:\n",
    "    patch.set_color(\"black\")\n",
    "ins.spines.right.set_visible(False)\n",
    "ins.spines.top.set_visible(False)\n",
    "ins.spines.bottom.set_visible(False)\n",
    "ins.set_xticks([])\n",
    "ins.set_ylim(0.96,1)\n",
    "\n",
    "fig.tight_layout()\n",
    "#plt.show()\n",
    "#fig.savefig(\"/home/sklee/dendrite/fig_functional/fig_functional_raw.pdf\", bbox_inches=\"tight\", transparent=True)\n"
   ]
  },
  {
   "cell_type": "code",
   "execution_count": null,
   "id": "51e8c12a",
   "metadata": {},
   "outputs": [],
   "source": []
  },
  {
   "cell_type": "code",
   "execution_count": null,
   "id": "1435ea2f",
   "metadata": {},
   "outputs": [],
   "source": []
  }
 ],
 "metadata": {
  "kernelspec": {
   "display_name": "Python 3 (ipykernel)",
   "language": "python",
   "name": "python3"
  },
  "language_info": {
   "codemirror_mode": {
    "name": "ipython",
    "version": 3
   },
   "file_extension": ".py",
   "mimetype": "text/x-python",
   "name": "python",
   "nbconvert_exporter": "python",
   "pygments_lexer": "ipython3",
   "version": "3.8.8"
  }
 },
 "nbformat": 4,
 "nbformat_minor": 5
}
