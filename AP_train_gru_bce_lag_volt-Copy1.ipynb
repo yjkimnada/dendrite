{
 "cells": [
  {
   "cell_type": "code",
   "execution_count": 1,
   "id": "e7faa469",
   "metadata": {},
   "outputs": [],
   "source": [
    "import numpy as np\n",
    "import torch \n",
    "import torch.nn as nn\n",
    "from tqdm import tnrange\n",
    "import torch.optim as optim\n",
    "import torch.nn.functional as F\n",
    "from sklearn import metrics\n",
    "import matplotlib.pyplot as plt\n",
    "import time\n",
    "from sklearn.metrics import explained_variance_score"
   ]
  },
  {
   "cell_type": "code",
   "execution_count": 2,
   "id": "8753064b",
   "metadata": {},
   "outputs": [],
   "source": [
    "class AP_GRU_Lag(nn.Module):\n",
    "    def __init__(self, H_no, lag, device):\n",
    "        super().__init__()\n",
    "        \n",
    "        self.H_no = H_no\n",
    "        self.device = device\n",
    "        \n",
    "        self.rnn = nn.GRU(lag+1, H_no, batch_first=True)\n",
    "        self.linear = nn.Linear(H_no, 1)\n",
    "        \n",
    "    def forward(self, V):\n",
    "        #V is shape (batch, 50000, lag+1)\n",
    "\n",
    "        rnn_out, _ = self.rnn(V) #(batch,50000,H)\n",
    "        rnn_out = rnn_out.reshape(-1,self.H_no)\n",
    "        lin_out = self.linear(rnn_out).reshape(V.shape[0], V.shape[1]) #(batch*50000,1)\n",
    "        \n",
    "        return lin_out\n",
    "\n"
   ]
  },
  {
   "cell_type": "code",
   "execution_count": 3,
   "id": "6e8d732d",
   "metadata": {},
   "outputs": [
    {
     "name": "stdout",
     "output_type": "stream",
     "text": [
      "torch.Size([1000, 50000, 20])\n"
     ]
    }
   ],
   "source": [
    "batch_size = 20\n",
    "batch_length = int(50000 / 5 / 0.2)\n",
    "H_no = 40\n",
    "device = torch.device(\"cuda:1\")\n",
    "lag = 20\n",
    "\n",
    "epoch_no = 400\n",
    "iter_no = epoch_no * 980 // batch_size\n",
    "\n",
    "#V = np.load(\"/media/hdd01/sklee/CA1_clust4-60_AP/data/vdata_T10_Ne2000_gA0.6_tauA1_gN0.8_Ni200_gG0.1_gB0.1_Er0.5_Ir7.4_random_NR_rep1000_stimseed1.npy\").reshape(-1,50001)[:,:50000]\n",
    "#V = np.load(\"/media/hdd01/sklee/CA1_clust4-60_AP/data/V_diff_stimseed1.npy\").reshape(-1,batch_length)\n",
    "#V = np.load(\"/scratch/yjk27/CA1_clust4-60_AP/comb_pred/V_comb_pred_dend_interact_0.2ms.npy\").reshape(-1,batch_length)\n",
    "#V = np.load(\"/scratch/yjk27/CA1_clust4-60_AP/diff_pred/V_diff_pred_0.2ms.npy\").reshape(-1,batch_length)\n",
    "V = np.load(\"/scratch/yjk27/CA1_clust4-60/hand/gru_dend_s5_h20_Vall.npy\").reshape(-1, batch_length)\n",
    "#V = np.load(\"/media/hdd01/sklee/CA1_clust4-60_AP/whole_pred/V_whole_pred_0.2ms.npy\").reshape(-1,batch_length)\n",
    "S = np.load(\"/scratch/yjk27/CA1_clust4-60_AP/data/V_diff_stimseed1.npy\").reshape(-1,batch_length)\n",
    "\n",
    "V-= np.mean(V)\n",
    "\n",
    "V = torch.from_numpy(V)\n",
    "S = torch.from_numpy(S)\n",
    "\n",
    "V_lag = np.zeros((V.shape[0], V.shape[1], lag)) #(lag,1000,50000)\n",
    "for i in range(lag):\n",
    "    V_lag[:,i+1:,i] = V[:,:-i-1]\n",
    "\n",
    "V_lag = torch.from_numpy(V_lag)\n",
    "print(V_lag.shape)"
   ]
  },
  {
   "cell_type": "code",
   "execution_count": 4,
   "id": "bfda0478",
   "metadata": {},
   "outputs": [
    {
     "name": "stdout",
     "output_type": "stream",
     "text": [
      "torch.Size([19600, 20])\n"
     ]
    }
   ],
   "source": [
    "V_train = V[:980].float()\n",
    "V_test = V[980:].float().to(device)\n",
    "S_train = S[:980].float()\n",
    "S_test = S[980:].float().to(device)\n",
    "V_lag_train = V_lag[:980].float()\n",
    "V_lag_test = V_lag[980:].float().to(device)\n",
    "\n",
    "train_idx = np.empty((epoch_no, 980))\n",
    "for i in range(epoch_no):\n",
    "    part_idx = np.arange(0,980,1)\n",
    "    np.random.shuffle(part_idx)\n",
    "    train_idx[i] = part_idx\n",
    "train_idx = train_idx.reshape(-1, batch_size)\n",
    "train_idx = torch.from_numpy(train_idx).long()\n",
    "print(train_idx.shape)"
   ]
  },
  {
   "cell_type": "code",
   "execution_count": 5,
   "id": "784b45c2",
   "metadata": {},
   "outputs": [
    {
     "name": "stdout",
     "output_type": "stream",
     "text": [
      "7601\n"
     ]
    }
   ],
   "source": [
    "model = AP_GRU_Lag(H_no, lag, device)\n",
    "optimizer = torch.optim.Adam(model.parameters(), lr = 0.001)\n",
    "\n",
    "model.to(device).float()\n",
    "print(sum(p.numel() for p in model.parameters() if p.requires_grad))"
   ]
  },
  {
   "cell_type": "code",
   "execution_count": 6,
   "id": "a964d137",
   "metadata": {},
   "outputs": [],
   "source": [
    "#model.load_state_dict(torch.load(\"/scratch/yjk27/CA1_clust4-60_AP/comb_pred/gru_l20_h40_0.2ms_V.pt\",\n",
    "                     #map_location=device))"
   ]
  },
  {
   "cell_type": "code",
   "execution_count": 7,
   "id": "84e29a0c",
   "metadata": {
    "scrolled": true
   },
   "outputs": [
    {
     "name": "stderr",
     "output_type": "stream",
     "text": [
      "<ipython-input-7-5c73ecaa3ca6>:4: TqdmDeprecationWarning: Please use `tqdm.notebook.trange` instead of `tqdm.tnrange`\n",
      "  for i in tnrange(10000):\n"
     ]
    },
    {
     "data": {
      "application/vnd.jupyter.widget-view+json": {
       "model_id": "7a52017fa32a4714811d4535b5b04555",
       "version_major": 2,
       "version_minor": 0
      },
      "text/plain": [
       "  0%|          | 0/10000 [00:00<?, ?it/s]"
      ]
     },
     "metadata": {},
     "output_type": "display_data"
    },
    {
     "name": "stdout",
     "output_type": "stream",
     "text": [
      "0 9.884455680847168 -0.0013865232467651367\n",
      "49 9.642523765563965 0.02037733793258667\n",
      "99 9.600447654724121 0.0246543288230896\n",
      "149 9.557196617126465 0.02902895212173462\n",
      "199 9.514167785644531 0.033409178256988525\n",
      "249 9.414007186889648 0.04361414909362793\n",
      "299 9.31356430053711 0.05408596992492676\n",
      "349 9.262441635131836 0.058973848819732666\n",
      "399 9.225895881652832 0.06270408630371094\n",
      "449 9.264469146728516 0.058917462825775146\n",
      "499 9.197467803955078 0.06559336185455322\n",
      "549 9.181167602539062 0.0672311782836914\n",
      "599 9.205381393432617 0.06480824947357178\n",
      "649 9.139289855957031 0.07148492336273193\n",
      "699 9.124885559082031 0.07297313213348389\n",
      "749 9.099231719970703 0.07558786869049072\n",
      "799 9.133679389953613 0.07218271493911743\n",
      "849 9.07190990447998 0.07833033800125122\n",
      "899 9.108365058898926 0.07462847232818604\n",
      "949 9.028038024902344 0.08278989791870117\n",
      "999 9.076166152954102 0.07806581258773804\n",
      "1049 9.032246589660645 0.0823674201965332\n",
      "1099 9.023303985595703 0.08329468965530396\n",
      "1149 9.029574394226074 0.0826340913772583\n",
      "1199 9.042526245117188 0.08134716749191284\n",
      "1249 9.02314567565918 0.08330869674682617\n",
      "1299 9.050880432128906 0.0805971622467041\n",
      "1349 9.0072660446167 0.08489757776260376\n",
      "1399 9.042391777038574 0.08137023448944092\n",
      "1449 8.993982315063477 0.08634096384048462\n",
      "1499 9.00268840789795 0.08539050817489624\n",
      "1549 8.996000289916992 0.08604216575622559\n",
      "1599 9.009183883666992 0.08470743894577026\n",
      "1649 8.97822380065918 0.08785426616668701\n",
      "1699 9.005873680114746 0.08510172367095947\n",
      "1749 8.9891996383667 0.08674287796020508\n",
      "1799 8.974014282226562 0.08827674388885498\n",
      "1849 8.978240966796875 0.08797663450241089\n",
      "1899 9.013400077819824 0.08433669805526733\n",
      "1949 8.947941780090332 0.09094256162643433\n",
      "1999 8.958120346069336 0.08989834785461426\n",
      "2049 8.94616413116455 0.09110665321350098\n",
      "2099 8.954033851623535 0.09034514427185059\n",
      "2149 8.950413703918457 0.09070730209350586\n",
      "2199 8.940738677978516 0.09165644645690918\n",
      "2249 8.93465805053711 0.09228193759918213\n",
      "2299 8.967964172363281 0.08927690982818604\n",
      "2349 8.941441535949707 0.0916982889175415\n",
      "2399 8.939205169677734 0.09185785055160522\n",
      "2449 8.962140083312988 0.08949315547943115\n",
      "2499 8.905593872070312 0.09535235166549683\n",
      "2549 8.944239616394043 0.0914456844329834\n",
      "2599 8.952544212341309 0.09057444334030151\n",
      "2649 8.91815185546875 0.09395134449005127\n",
      "2699 8.916555404663086 0.09412306547164917\n",
      "2749 8.911625862121582 0.09463423490524292\n",
      "2799 8.908224105834961 0.0950198769569397\n",
      "2849 8.891435623168945 0.09685689210891724\n",
      "2899 8.897339820861816 0.09618359804153442\n",
      "2949 8.908929824829102 0.0949048399925232\n",
      "2999 8.873530387878418 0.09848624467849731\n",
      "3049 8.889911651611328 0.09690165519714355\n",
      "3099 8.87523365020752 0.09835052490234375\n",
      "3149 8.874549865722656 0.09839451313018799\n",
      "3199 8.879953384399414 0.09796935319900513\n",
      "3249 8.85792064666748 0.10015052556991577\n",
      "3299 8.858802795410156 0.0999826192855835\n",
      "3349 8.85086441040039 0.10078740119934082\n",
      "3399 8.85708999633789 0.10022109746932983\n",
      "3449 8.87122917175293 0.09871840476989746\n",
      "3499 8.858763694763184 0.09999841451644897\n",
      "3549 8.838262557983398 0.10207056999206543\n",
      "3599 8.825082778930664 0.10355311632156372\n",
      "3649 8.894989967346191 0.09638833999633789\n",
      "3699 8.850037574768066 0.10092031955718994\n",
      "3749 8.788567543029785 0.10712075233459473\n",
      "3799 8.802530288696289 0.1057245135307312\n",
      "3849 8.853404998779297 0.10054504871368408\n",
      "3899 8.808065414428711 0.10517394542694092\n",
      "3949 8.822588920593262 0.10366034507751465\n",
      "3999 8.856742858886719 0.10019004344940186\n",
      "4049 8.7877836227417 0.10719722509384155\n",
      "4099 8.794665336608887 0.1066092848777771\n",
      "4149 8.797292709350586 0.10623866319656372\n",
      "4199 8.786005973815918 0.10737693309783936\n",
      "4249 8.783439636230469 0.10764956474304199\n",
      "4299 8.78136157989502 0.10789251327514648\n",
      "4349 8.784762382507324 0.10755562782287598\n",
      "4399 8.775915145874023 0.10840380191802979\n",
      "4449 8.767576217651367 0.10929089784622192\n",
      "4499 8.761338233947754 0.10991954803466797\n",
      "4549 8.823043823242188 0.10379338264465332\n",
      "4599 8.758151054382324 0.11022907495498657\n",
      "4649 8.781635284423828 0.10783261060714722\n",
      "4699 8.79349422454834 0.10662341117858887\n",
      "4749 8.758097648620605 0.11025506258010864\n",
      "4799 8.802966117858887 0.10565656423568726\n",
      "4849 8.754018783569336 0.110626220703125\n",
      "4899 8.756810188293457 0.11040335893630981\n",
      "4949 8.753602027893066 0.11068052053451538\n",
      "4999 8.772880554199219 0.10878390073776245\n",
      "5049 8.748444557189941 0.11138564348220825\n",
      "5099 8.689895629882812 0.11715656518936157\n",
      "5149 8.845965385437012 0.10130476951599121\n",
      "5199 8.758511543273926 0.11018353700637817\n",
      "5249 8.821709632873535 0.10378766059875488\n",
      "5299 8.734892845153809 0.11273908615112305\n",
      "5349 8.746051788330078 0.11143702268600464\n",
      "5399 8.767577171325684 0.10925042629241943\n",
      "5449 8.74805736541748 0.11129266023635864\n",
      "5499 8.679916381835938 0.11816513538360596\n",
      "5549 8.759197235107422 0.11012238264083862\n",
      "5599 8.745460510253906 0.11150521039962769\n",
      "5649 8.719012260437012 0.11418646574020386\n",
      "5699 8.696006774902344 0.11657726764678955\n",
      "5749 8.706608772277832 0.11544346809387207\n",
      "5799 8.718301773071289 0.11425840854644775\n",
      "5849 8.739086151123047 0.11214321851730347\n",
      "5899 8.708621978759766 0.11524397134780884\n",
      "5949 8.742803573608398 0.11177986860275269\n",
      "5999 8.727988243103027 0.11328673362731934\n",
      "6049 8.691588401794434 0.11697804927825928\n",
      "6099 8.719249725341797 0.1141631007194519\n",
      "6149 8.760543823242188 0.11004137992858887\n",
      "6199 8.718155860900879 0.11427807807922363\n",
      "6249 8.652290344238281 0.12096250057220459\n",
      "6299 8.62808895111084 0.1234235167503357\n",
      "6349 8.700077056884766 0.11610901355743408\n",
      "6399 8.670248031616211 0.11925065517425537\n",
      "6449 8.667000770568848 0.11956620216369629\n",
      "6499 8.664403915405273 0.11973804235458374\n",
      "6549 8.695940971374512 0.1165696382522583\n",
      "6599 8.686537742614746 0.11749392747879028\n",
      "6649 8.653228759765625 0.12090009450912476\n",
      "6699 8.682443618774414 0.11799001693725586\n",
      "6749 8.831050872802734 0.10285329818725586\n",
      "6799 8.719987869262695 0.11417430639266968\n",
      "6849 8.660805702209473 0.1201024055480957\n",
      "6899 8.639955520629883 0.12222826480865479\n",
      "6949 8.645406723022461 0.12166154384613037\n",
      "6999 8.620953559875488 0.12414562702178955\n",
      "7049 8.688220024108887 0.11731308698654175\n",
      "7099 8.641386985778809 0.12209725379943848\n",
      "7149 8.604950904846191 0.1257716417312622\n",
      "7199 8.659133911132812 0.12039810419082642\n",
      "7249 8.613459587097168 0.12490689754486084\n",
      "7299 8.689735412597656 0.11725455522537231\n",
      "7349 8.850301742553711 0.10084456205368042\n",
      "7399 8.712061882019043 0.11491817235946655\n",
      "7449 8.667581558227539 0.11944669485092163\n",
      "7499 8.678216934204102 0.11833912134170532\n",
      "7549 8.604891777038574 0.12587851285934448\n",
      "7599 8.60377311706543 0.12596279382705688\n",
      "7649 8.619260787963867 0.12433511018753052\n",
      "7699 8.678983688354492 0.11841440200805664\n",
      "7749 8.570571899414062 0.12926769256591797\n",
      "7799 8.708884239196777 0.11522150039672852\n",
      "7849 8.599583625793457 0.12631672620773315\n",
      "7899 8.585355758666992 0.12780970335006714\n",
      "7949 8.593057632446289 0.1269795298576355\n",
      "7999 8.547602653503418 0.13162636756896973\n",
      "8049 8.624452590942383 0.12379401922225952\n",
      "8099 8.693449974060059 0.11679607629776001\n",
      "8149 8.582701683044434 0.12804192304611206\n",
      "8199 8.638761520385742 0.1223365068435669\n",
      "8249 8.643726348876953 0.12183421850204468\n",
      "8299 8.592245101928711 0.12706303596496582\n",
      "8349 8.662575721740723 0.11993730068206787\n",
      "8399 8.571062088012695 0.12932288646697998\n",
      "8449 8.606673240661621 0.12565982341766357\n",
      "8499 8.654653549194336 0.12080353498458862\n",
      "8549 8.592880249023438 0.12700194120407104\n",
      "8599 8.620426177978516 0.12421941757202148\n",
      "8649 8.575329780578613 0.12881529331207275\n",
      "8699 8.775325775146484 0.10847598314285278\n",
      "8749 8.577768325805664 0.1285545825958252\n",
      "8799 8.592158317565918 0.12708300352096558\n",
      "8849 8.588046073913574 0.12757301330566406\n",
      "8899 8.564457893371582 0.12990647554397583\n",
      "8949 8.647416114807129 0.12145769596099854\n",
      "8999 8.634632110595703 0.12276309728622437\n",
      "9049 8.567173957824707 0.12965649366378784\n",
      "9099 8.584031105041504 0.12801110744476318\n",
      "9149 8.62484359741211 0.12375205755233765\n",
      "9199 8.571364402770996 0.1292131543159485\n",
      "9249 8.551546096801758 0.13120371103286743\n",
      "9299 8.5873441696167 0.12756812572479248\n",
      "9349 8.667277336120605 0.11944377422332764\n",
      "9399 8.565053939819336 0.12983101606369019\n",
      "9449 8.562948226928711 0.13004028797149658\n",
      "9499 8.550771713256836 0.1312946081161499\n",
      "9549 8.58469009399414 0.1278408169746399\n",
      "9599 8.595232963562012 0.1269499659538269\n"
     ]
    },
    {
     "name": "stdout",
     "output_type": "stream",
     "text": [
      "9649 8.627867698669434 0.1234511137008667\n",
      "9699 8.585597038269043 0.12774789333343506\n",
      "9749 8.606325149536133 0.12563270330429077\n",
      "9799 8.568543434143066 0.12948161363601685\n",
      "9849 8.608050346374512 0.12545615434646606\n",
      "9899 8.569999694824219 0.12932205200195312\n",
      "9949 8.563586235046387 0.13003253936767578\n",
      "9999 8.544366836547852 0.13192874193191528\n"
     ]
    }
   ],
   "source": [
    "score_list = []\n",
    "\n",
    "#for i in tnrange(iter_no):\n",
    "for i in tnrange(10000):    \n",
    "    s = time.time()\n",
    "    model.train()\n",
    "    optimizer.zero_grad()\n",
    "    \n",
    "    batch_idx = train_idx[i]\n",
    "    batch_S = S_train[batch_idx].to(device)\n",
    "    batch_V = V_train[batch_idx].to(device)\n",
    "    batch_V_lag = V_lag_train[batch_idx].to(device)\n",
    "    \n",
    "    batch_V_in = torch.zeros(batch_size, batch_length, lag+1).to(device)\n",
    "    batch_V_in[:,:,0] = batch_V\n",
    "    batch_V_in[:,:,1:] = batch_V_lag\n",
    "    \n",
    "    S_out = model(batch_V_in)\n",
    "    loss = torch.mean((S_out - batch_S) ** 2)\n",
    "    \n",
    "    loss.backward()\n",
    "    nn.utils.clip_grad_norm_(model.parameters(), 10)\n",
    "    optimizer.step()\n",
    "    \n",
    "    step_time = time.time() - s\n",
    "    \n",
    "    if (i%50 == 49) or (i == 0):\n",
    "        model.eval()\n",
    "        V_test_in = torch.zeros(batch_size, batch_length, lag+1).to(device)\n",
    "        V_test_in[:,:,0] = V_test\n",
    "        V_test_in[:,:,1:] = V_lag_test\n",
    "        \n",
    "        test_S_out = model(V_test_in)\n",
    "        test_loss = torch.mean((S_test - test_S_out) ** 2)\n",
    "        test_var_exp = explained_variance_score(S_test.flatten().cpu().detach().numpy(),\n",
    "                                                test_S_out.flatten().cpu().detach().numpy())\n",
    "        \n",
    "        score_list.append(test_loss.item())\n",
    "        print(i, test_loss.item(), test_var_exp)"
   ]
  },
  {
   "cell_type": "code",
   "execution_count": null,
   "id": "f64d64ae",
   "metadata": {},
   "outputs": [],
   "source": []
  },
  {
   "cell_type": "code",
   "execution_count": 8,
   "id": "e006b31b",
   "metadata": {},
   "outputs": [
    {
     "data": {
      "text/plain": [
       "[<matplotlib.lines.Line2D at 0x7ff5e44df070>]"
      ]
     },
     "execution_count": 8,
     "metadata": {},
     "output_type": "execute_result"
    },
    {
     "data": {
      "image/png": "[encoded data removed]",
      "text/plain": [
       "<Figure size 432x288 with 1 Axes>"
      ]
     },
     "metadata": {
      "needs_background": "light"
     },
     "output_type": "display_data"
    }
   ],
   "source": [
    "plt.plot(np.asarray(score_list)[:])\n"
   ]
  },
  {
   "cell_type": "code",
   "execution_count": 9,
   "id": "ad66af8b",
   "metadata": {},
   "outputs": [
    {
     "name": "stdout",
     "output_type": "stream",
     "text": [
      "tensor(32.6640, device='cuda:1', grad_fn=<MaxBackward1>)\n"
     ]
    },
    {
     "data": {
      "text/plain": [
       "(23000.0, 28000.0)"
      ]
     },
     "execution_count": 9,
     "metadata": {},
     "output_type": "execute_result"
    },
    {
     "data": {
      "image/png": "[encoded data removed]",
      "text/plain": [
       "<Figure size 1080x360 with 1 Axes>"
      ]
     },
     "metadata": {
      "needs_background": "light"
     },
     "output_type": "display_data"
    }
   ],
   "source": [
    "plt.figure(figsize = (15,5))\n",
    "plt.plot(S_test[0].cpu().detach().numpy())\n",
    "plt.plot(test_S_out[0].cpu().detach().numpy())\n",
    "#plt.xlim(4500,5200)\n",
    "#plt.ylim(-1,10)\n",
    "print(torch.max(test_S_out))\n",
    "plt.xlim(23000,28000)"
   ]
  },
  {
   "cell_type": "code",
   "execution_count": null,
   "id": "555c43cf",
   "metadata": {},
   "outputs": [],
   "source": []
  },
  {
   "cell_type": "code",
   "execution_count": 12,
   "id": "1f59f818",
   "metadata": {},
   "outputs": [],
   "source": [
    "test_S_out = test_S_out.cpu().detach().numpy()\n",
    "test_S_out_next = np.zeros_like(test_S_out)\n",
    "test_S_out_next[:,:-1] = test_S_out[:,1:]\n",
    "test_S_out_thresh = np.zeros_like(test_S_out)\n",
    "\n",
    "thresh = 15\n",
    "\n",
    "for i in range(test_S_out.shape[0]):\n",
    "    idx = np.where((test_S_out[i] < thresh) & (test_S_out_next[i] >= thresh))[0]\n",
    "    test_S_out_thresh[i][idx] = 1"
   ]
  },
  {
   "cell_type": "code",
   "execution_count": 11,
   "id": "eedc4b33",
   "metadata": {},
   "outputs": [
    {
     "name": "stdout",
     "output_type": "stream",
     "text": [
      "167.0\n"
     ]
    }
   ],
   "source": [
    "print(np.sum(test_S_out_thresh))"
   ]
  },
  {
   "cell_type": "code",
   "execution_count": null,
   "id": "b5a25719",
   "metadata": {},
   "outputs": [],
   "source": []
  },
  {
   "cell_type": "code",
   "execution_count": 13,
   "id": "780f8cd8",
   "metadata": {},
   "outputs": [],
   "source": [
    "#torch.save(model.state_dict(), \"/scratch/yjk27/CA1_clust4-60_AP/diff_pred/gru_l20_h40_0.2ms_V_dend_interact.pt\")"
   ]
  },
  {
   "cell_type": "code",
   "execution_count": 14,
   "id": "220095ad",
   "metadata": {},
   "outputs": [],
   "source": [
    "#np.save(\"/scratch/yjk27/CA1_clust4-60_AP/diff_pred/gru_l20_h40_0.2ms_test_V_dend_interact.npy\", test_S_out)\n",
    "#np.save(\"/scratch/yjk27/CA1_clust4-60_AP/diff_pred/gru_l20_h40_0.2ms_test_S_dend_interact.npy\", test_S_out_thresh)"
   ]
  },
  {
   "cell_type": "code",
   "execution_count": null,
   "id": "1c67e132",
   "metadata": {},
   "outputs": [],
   "source": []
  },
  {
   "cell_type": "code",
   "execution_count": null,
   "id": "38561d5b",
   "metadata": {},
   "outputs": [],
   "source": []
  }
 ],
 "metadata": {
  "kernelspec": {
   "display_name": "Python 3",
   "language": "python",
   "name": "python3"
  },
  "language_info": {
   "codemirror_mode": {
    "name": "ipython",
    "version": 3
   },
   "file_extension": ".py",
   "mimetype": "text/x-python",
   "name": "python",
   "nbconvert_exporter": "python",
   "pygments_lexer": "ipython3",
   "version": "3.8.8"
  }
 },
 "nbformat": 4,
 "nbformat_minor": 5
}
