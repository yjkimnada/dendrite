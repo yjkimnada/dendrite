{
 "cells": [
  {
   "cell_type": "code",
   "execution_count": 6,
   "id": "856916bb",
   "metadata": {},
   "outputs": [],
   "source": [
    "import numpy as np\n",
    "import matplotlib.pyplot as plt\n",
    "import scipy.sparse\n",
    "import matplotlib as mpl\n",
    "from sklearn.metrics import precision_recall_curve\n",
    "from sklearn import metrics\n",
    "from sklearn.metrics import precision_recall_curve\n",
    "from sklearn.metrics import average_precision_score\n",
    "import scipy\n",
    "from tqdm import tnrange\n"
   ]
  },
  {
   "cell_type": "code",
   "execution_count": null,
   "id": "668735dd",
   "metadata": {},
   "outputs": [],
   "source": []
  },
  {
   "cell_type": "code",
   "execution_count": 7,
   "id": "83ee3157",
   "metadata": {},
   "outputs": [],
   "source": [
    "#AP True 0.9156042360417361 0.9156042360417361 0.0096387818643847 0.0096387818643847\n",
    "#Na True 0.8143590159840158 0.8386963383838383 0.06843242335670274 0.06615087825324792\n",
    "#No Na True 0.34974221611721606 0.6056746031746031 0.0940514647548976 0.11510389858903808\n",
    "#Comb Pred 0.47738816738816736 0.5966674783549784 0.13561578097444554 0.12230436902117042\n",
    "#Whole Pred 0.34591172716172713 0.5486351367828324 0.11432601029228029 0.13394760326878388\n",
    "#Joint Pred 0.571482357919858 0.5902901959151958 0.11677126832211036 0.12180384937549094\n",
    "#Interact Pred 0.476412191974692 0.613834595959596 0.12597806436497425 0.1120788110075319\n",
    "#Dual Pred 0.5339070096570098 0.6027269119769121 0.11504890323598695 0.12183115172010493\n",
    "#Dual Joint Pred 0.5353483738483739 0.608891206016206 0.12105461715699198 0.12160309192516046\n",
    "#Dual Interact Pred 0.5319628704628704 0.597951479076479 0.11431395145981849 0.13002215512915635"
   ]
  },
  {
   "cell_type": "code",
   "execution_count": 8,
   "id": "3fb8dfc8",
   "metadata": {},
   "outputs": [],
   "source": [
    "ap_true_coinc = np.load(\"/scratch/yjk27/CA1_clust4-60_AP/ap_true/coinc_4ms_15v.npy\")\n",
    "na_true_coinc = np.load(\"/scratch/yjk27/CA1_clust4-60_AP/na_true/coinc_4ms_15v.npy\")\n",
    "nona_true_coinc = np.load(\"/scratch/yjk27/CA1_clust4-60_AP/nona_true/coinc_4ms_15v.npy\")\n",
    "comb_pred_coinc = np.load(\"/scratch/yjk27/CA1_clust4-60_AP/comb_pred/coinc_4ms_15v.npy\")\n",
    "joint_pred_coinc = np.load(\"/scratch/yjk27/CA1_clust4-60_AP/comb_pred/joint_coinc_4ms_15v.npy\")\n",
    "interact_pred_coinc = np.load(\"/scratch/yjk27/CA1_clust4-60_AP/comb_pred/interact_coinc_4ms_15v.npy\")\n",
    "whole_pred_coinc = np.load(\"/scratch/yjk27/CA1_clust4-60_AP/whole_pred/coinc_4ms_15v.npy\")\n",
    "dual_pred_coinc = np.load(\"/scratch/yjk27/CA1_clust4-60_AP/comb_pred/dual_coinc_4ms_15v.npy\")\n",
    "dual_joint_pred_coinc = np.load(\"/scratch/yjk27/CA1_clust4-60_AP/comb_pred/dual_joint_coinc_4ms_15v.npy\")\n",
    "dual_interact_pred_coinc = np.load(\"/scratch/yjk27/CA1_clust4-60_AP/comb_pred/dual_interact_coinc_4ms_15v.npy\")"
   ]
  },
  {
   "cell_type": "code",
   "execution_count": null,
   "id": "9f7c3a7b",
   "metadata": {},
   "outputs": [],
   "source": []
  },
  {
   "cell_type": "code",
   "execution_count": 9,
   "id": "066c5380",
   "metadata": {},
   "outputs": [
    {
     "ename": "NameError",
     "evalue": "name 'na_pred_coinc' is not defined",
     "output_type": "error",
     "traceback": [
      "\u001b[0;31m---------------------------------------------------------------------------\u001b[0m",
      "\u001b[0;31mNameError\u001b[0m                                 Traceback (most recent call last)",
      "\u001b[0;32m<ipython-input-9-6bcec14790ad>\u001b[0m in \u001b[0;36m<module>\u001b[0;34m\u001b[0m\n\u001b[1;32m     58\u001b[0m \u001b[0mcoinc\u001b[0m\u001b[0;34m[\u001b[0m\u001b[0;34m:\u001b[0m\u001b[0;34m,\u001b[0m\u001b[0;36m5\u001b[0m\u001b[0;34m]\u001b[0m \u001b[0;34m=\u001b[0m \u001b[0minteract_pred_coinc\u001b[0m\u001b[0;34m\u001b[0m\u001b[0;34m\u001b[0m\u001b[0m\n\u001b[1;32m     59\u001b[0m \u001b[0mcoinc\u001b[0m\u001b[0;34m[\u001b[0m\u001b[0;34m:\u001b[0m\u001b[0;34m,\u001b[0m\u001b[0;36m6\u001b[0m\u001b[0;34m]\u001b[0m \u001b[0;34m=\u001b[0m \u001b[0mwhole_pred_coinc\u001b[0m\u001b[0;34m\u001b[0m\u001b[0;34m\u001b[0m\u001b[0m\n\u001b[0;32m---> 60\u001b[0;31m \u001b[0mcoinc\u001b[0m\u001b[0;34m[\u001b[0m\u001b[0;34m:\u001b[0m\u001b[0;34m,\u001b[0m\u001b[0;36m7\u001b[0m\u001b[0;34m]\u001b[0m \u001b[0;34m=\u001b[0m \u001b[0mna_pred_coinc\u001b[0m\u001b[0;34m\u001b[0m\u001b[0;34m\u001b[0m\u001b[0m\n\u001b[0m\u001b[1;32m     61\u001b[0m \u001b[0mcoinc\u001b[0m\u001b[0;34m[\u001b[0m\u001b[0;34m:\u001b[0m\u001b[0;34m,\u001b[0m\u001b[0;36m8\u001b[0m\u001b[0;34m]\u001b[0m \u001b[0;34m=\u001b[0m \u001b[0mna_joint_pred_coinc\u001b[0m\u001b[0;34m\u001b[0m\u001b[0;34m\u001b[0m\u001b[0m\n\u001b[1;32m     62\u001b[0m \u001b[0mcoinc\u001b[0m\u001b[0;34m[\u001b[0m\u001b[0;34m:\u001b[0m\u001b[0;34m,\u001b[0m\u001b[0;36m9\u001b[0m\u001b[0;34m]\u001b[0m \u001b[0;34m=\u001b[0m \u001b[0mna_interact_pred_coinc\u001b[0m\u001b[0;34m\u001b[0m\u001b[0;34m\u001b[0m\u001b[0m\n",
      "\u001b[0;31mNameError\u001b[0m: name 'na_pred_coinc' is not defined"
     ]
    },
    {
     "data": {
      "image/png": "[encoded data removed]",
      "text/plain": [
       "<Figure size 1008x360 with 2 Axes>"
      ]
     },
     "metadata": {
      "needs_background": "light"
     },
     "output_type": "display_data"
    }
   ],
   "source": [
    "mpl.rcParams['pdf.fonttype'] = 42\n",
    "mpl.rcParams['font.sans-serif'] = \"Arial\"\n",
    "mpl.rcParams['font.family'] = \"sans-serif\"\n",
    "plt.rcParams['font.size'] = '14'\n",
    "\n",
    "fig, axs = plt.subplots(ncols=2, figsize=(14,5))\n",
    "\n",
    "axs[0].scatter(0.9156042360417361, 0.9156042360417361, color=\"chocolate\", s=10, label=\"$\\mathregular{v_{AP}}$\")\n",
    "axs[0].scatter(0.8143590159840158, 0.8386963383838383, color=\"black\", s=10, label=\"$\\mathregular{v_{NA}}$\")\n",
    "axs[0].scatter(0.34974221611721606, 0.6056746031746031, color=\"purple\", s=10, label=\"$\\mathregular{v_{noNA}}$\")\n",
    "axs[0].scatter(0.47738816738816736, 0.5966674783549784, color=\"red\", s=10, label=\"Comb Pred\")\n",
    "axs[0].scatter(0.571482357919858, 0.5902901959151958, color=\"pink\", s=10, label=\"Comb Pred (w/ BAPs)\")\n",
    "axs[0].scatter(0.476412191974692, 0.613834595959596, color=\"darkred\", s=10, label=\"Comb Pred (w/ dend interact)\")\n",
    "axs[0].scatter(0.34591172716172713, 0.5486351367828324, color=\"lime\", s=10, label=\"Whole Pred\")\n",
    "axs[0].scatter(0.5339070096570098, 0.6027269119769121, color=\"navy\", s=10, label=\"Comb Pred (separate)\")\n",
    "axs[0].scatter(0.5353483738483739, 0.608891206016206, color=\"blue\", s=10, label=\"Comb Pred (sparate w/ BAPs)\")\n",
    "axs[0].scatter(0.5319628704628704, 0.597951479076479, color=\"cyan\", s=10, label=\"Comb Pred (w/ dend interact)\")\n",
    "\n",
    "\n",
    "axs[0].errorbar(0.9156042360417361, 0.9156042360417361, xerr=0.0940514647548976, yerr=0.11510389858903808,\n",
    "             color=\"chocolate\", linewidth=1)\n",
    "axs[0].errorbar(0.8143590159840158, 0.8386963383838383, xerr=0.06843242335670274, yerr=0.06615087825324792,\n",
    "             color=\"black\", linewidth=1)\n",
    "axs[0].errorbar(0.34974221611721606, 0.6056746031746031, xerr=0.0940514647548976, yerr=0.11510389858903808,\n",
    "             color=\"purple\", linewidth=1)\n",
    "axs[0].errorbar(0.47738816738816736, 0.5966674783549784, xerr=0.13561578097444554, yerr=0.12230436902117042,\n",
    "             color=\"red\", linewidth=1)\n",
    "axs[0].errorbar(0.571482357919858, 0.5902901959151958, xerr=0.11677126832211036, yerr=0.12180384937549094,\n",
    "             color=\"pink\", linewidth=1)\n",
    "axs[0].errorbar(0.476412191974692, 0.613834595959596, xerr=0.12597806436497425, yerr=0.1120788110075319,\n",
    "             color=\"darkred\", linewidth=1)\n",
    "axs[0].errorbar(0.34591172716172713, 0.5486351367828324, xerr=0.11432601029228029, yerr=0.13394760326878388,\n",
    "             color=\"lime\", linewidth=1)\n",
    "axs[0].errorbar(0.5339070096570098, 0.6027269119769121, xerr=0.11504890323598695, yerr=0.12183115172010493,\n",
    "             color=\"navy\", linewidth=1)\n",
    "axs[0].errorbar(0.5353483738483739, 0.608891206016206, xerr=0.12105461715699198, yerr=0.12160309192516046,\n",
    "             color=\"blue\", linewidth=1)\n",
    "axs[0].errorbar(0.5319628704628704, 0.597951479076479, xerr=0.11431395145981849, yerr=0.13002215512915635,\n",
    "             color=\"cyan\", linewidth=1)\n",
    "#axs[0].spines.right.set_visible(False)\n",
    "#axs[0].spines.top.set_visible(False)\n",
    "axs[0].set_xlim(0,1)\n",
    "axs[0].set_ylim(0,1)\n",
    "axs[0].set_xticks([0,0.5,1])\n",
    "axs[0].set_yticks([0,0.5,1])\n",
    "axs[0].set_xlabel(\"recall\")\n",
    "axs[0].set_ylabel(\"precision\")\n",
    "axs[0].legend(frameon=False, loc=(0.58,-0.01), fontsize=9)\n",
    "\n",
    "#####################\n",
    "\n",
    "coinc = np.zeros((20,10))\n",
    "coinc[:,0] = ap_true_coinc\n",
    "coinc[:,1] = na_true_coinc\n",
    "coinc[:,2] = nona_true_coinc\n",
    "coinc[:,3] = comb_pred_coinc\n",
    "coinc[:,4] = joint_pred_coinc\n",
    "coinc[:,5] = interact_pred_coinc\n",
    "coinc[:,6] = whole_pred_coinc\n",
    "coinc[:,7] = dual_pred_coinc\n",
    "coinc[:,8] = dual_joint_pred_coinc\n",
    "coinc[:,9] = dual_interact_pred_coinc\n",
    "bp = axs[1].boxplot(coinc, widths = 0.6, patch_artist=True)\n",
    "\n",
    "color_list = [\"chocolate\", \"black\", \"purple\", \"red\", \"pink\", \"darkred\", \"lime\",\n",
    "             \"navy\", \"blue\", \"cyan\"]\n",
    "\n",
    "for i in range(len(color_list)):\n",
    "    bp['boxes'][i].set_facecolor(color_list[i])\n",
    "    bp['boxes'][i].set_alpha(0.5)\n",
    "    plt.setp(bp[\"boxes\"][i], edgecolor=color_list[i])\n",
    "    bp['medians'][i].set_color(color_list[i])\n",
    "    plt.setp(bp[\"fliers\"][i], markeredgecolor=color_list[i])\n",
    "    \n",
    "    for j in range(2):\n",
    "        plt.setp(bp[\"whiskers\"][i*2+j], color=color_list[i])\n",
    "        plt.setp(bp[\"caps\"][i*2+j], color=color_list[i])\n",
    "\n",
    "\n",
    "axs[1].tick_params(axis=\"x\", length=0)\n",
    "axs[1].set_yticks([0,0.5,1])\n",
    "axs[1].set_ylim(0,1.05)\n",
    "axs[1].set_ylabel(\"coincidence\")\n",
    "axs[1].set_xticklabels([\"$\\mathregular{v_{AP}}$\",\n",
    "            \"$\\mathregular{v_{NA}}$\",\n",
    "                    \"$\\mathregular{v_{noNa}}$\",\n",
    "                       \"Comb Pred\", \"Comb Pred (w/ bPAs)\", \"Comb Pred (w/ dend interact)\",\n",
    "                       \"Whole Pred\",\n",
    "                       \"Comb Pred (separate)\",\n",
    "                       \"Comb Pred (separate w/ bPAs)\",\n",
    "                       \"Comb Pred (separate w/ dend interact)\"], rotation=90)\n",
    "\n",
    "\n",
    "plt.show()"
   ]
  },
  {
   "cell_type": "code",
   "execution_count": null,
   "id": "087bb849",
   "metadata": {},
   "outputs": [],
   "source": []
  }
 ],
 "metadata": {
  "kernelspec": {
   "display_name": "Python 3",
   "language": "python",
   "name": "python3"
  },
  "language_info": {
   "codemirror_mode": {
    "name": "ipython",
    "version": 3
   },
   "file_extension": ".py",
   "mimetype": "text/x-python",
   "name": "python",
   "nbconvert_exporter": "python",
   "pygments_lexer": "ipython3",
   "version": "3.8.8"
  }
 },
 "nbformat": 4,
 "nbformat_minor": 5
}
