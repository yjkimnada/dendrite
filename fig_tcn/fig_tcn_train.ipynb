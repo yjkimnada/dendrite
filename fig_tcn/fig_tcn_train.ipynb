{
 "cells": [
  {
   "cell_type": "code",
   "execution_count": 1,
   "id": "c5e01210",
   "metadata": {},
   "outputs": [],
   "source": [
    "import numpy as np\n",
    "import matplotlib.pyplot as plt\n",
    "from sklearn.metrics import explained_variance_score\n",
    "from tqdm import tnrange\n",
    "import matplotlib as mpl"
   ]
  },
  {
   "cell_type": "code",
   "execution_count": 2,
   "id": "25117fe0",
   "metadata": {},
   "outputs": [],
   "source": [
    "true_mean = np.mean(np.load(\"/scratch/yjk27/CA1_clust4-60/data/vdata_T10_Ne2000_gA0.6_tauA1_gN0.8_Ni200_gG0.1_gB0.1_Er0.5_Ir7.4_random_NR_rep1000_stimseed1_set1.npy\"))\n",
    "true = np.load(\"/scratch/yjk27/CA1_clust4-60/data/vdata_T10_Ne2000_gA0.6_tauA1_gN0.8_Ni200_gG0.1_gB0.1_Er0.5_Ir7.4_random_NR_rep1000_stimseed1_set1.npy\")[-20:,:50000]\n",
    "true_train = np.load(\"/scratch/yjk27/CA1_clust4-60/data/vdata_T10_Ne2000_gA0.6_tauA1_gN0.8_Ni200_gG0.1_gB0.1_Er0.5_Ir7.4_random_NR_rep1000_stimseed1_set1.npy\")[:20,:50000]\n",
    "gru_test = np.load(\"/scratch/yjk27/CA1_clust4-60/whole/gru_s10_h20_output.npz\")[\"test\"] + true_mean\n",
    "tcn_test = np.load(\"/scratch/yjk27/CA1_clust4-60/whole/tcnmulti_l3_h40_output.npz\")[\"test\"] + true_mean\n",
    "tcn_train = np.load(\"/scratch/yjk27/CA1_clust4-60/whole/tcnmulti_l3_h40_train_output.npz\")[\"test\"] + true_mean"
   ]
  },
  {
   "cell_type": "code",
   "execution_count": 3,
   "id": "deab6eaf",
   "metadata": {},
   "outputs": [],
   "source": [
    "var_exp_array = np.zeros((3,20))\n",
    "\n",
    "for i in range(20):\n",
    "    var_exp_array[0,i] = explained_variance_score(true[i], gru_test[i])\n",
    "    var_exp_array[1,i] = explained_variance_score(true[i], tcn_test[i])\n",
    "    var_exp_array[2,i] = explained_variance_score(true_train[i], tcn_train[i])\n"
   ]
  },
  {
   "cell_type": "code",
   "execution_count": 5,
   "id": "ab756fad",
   "metadata": {},
   "outputs": [
    {
     "data": {
      "image/png": "[encoded data removed]",
      "text/plain": [
       "<Figure size 288x360 with 1 Axes>"
      ]
     },
     "metadata": {
      "needs_background": "light"
     },
     "output_type": "display_data"
    }
   ],
   "source": [
    "mpl.rcParams['pdf.fonttype'] = 42\n",
    "mpl.rcParams['font.sans-serif'] = \"Arial\"\n",
    "mpl.rcParams['font.family'] = \"sans-serif\"\n",
    "plt.rcParams['font.size'] = '13'\n",
    "\n",
    "colors = [\"red\", \"darkorange\", \"gold\"]\n",
    "cap_colors = [\"red\", \"red\", \"darkorange\", \"darkorange\", \"gold\", \"gold\"]\n",
    "fig, ax = plt.subplots(figsize=(4,5))\n",
    "bp = ax.boxplot(var_exp_array.T, positions = [1,2,3], widths = 0.6, patch_artist=True)\n",
    "for i in range(var_exp_array.shape[0]):\n",
    "    plt.setp(bp['boxes'][i], facecolor=colors[i])\n",
    "    plt.setp(bp['boxes'][i], alpha=0.5)\n",
    "    plt.setp(bp[\"fliers\"][i], markeredgecolor=colors[i])\n",
    "    plt.setp(bp[\"boxes\"][i], color=colors[i])\n",
    "    plt.setp(bp[\"medians\"][i], color=colors[i])\n",
    "for i in range(var_exp_array.shape[0]*2):\n",
    "    plt.setp(bp['whiskers'][i], color=cap_colors[i])\n",
    "    plt.setp(bp['caps'][i], color=cap_colors[i])\n",
    "\n",
    "ax.set_ylim(0,1)\n",
    "ax.set_xticks([1,2,3])\n",
    "ax.tick_params(axis=\"x\", length=0)\n",
    "ax.set_xticklabels([\"dynamic\", \"TCN (test)\", \"TCN (train)\"],  rotation=0)\n",
    "ax.set_ylabel(\"variance explained\")\n",
    "ax.margins(x=0.005, y=0.005)\n",
    "ax.spines[\"right\"].set_visible(False)\n",
    "ax.spines[\"top\"].set_visible(False)\n",
    "ax.spines[\"bottom\"].set_visible(False)\n",
    "\n",
    "#plt.show()\n",
    "#fig.savefig(\"/scratch/yjk27/dendrite/fig_tcn/fig_tcn_train.pdf\", bbox_inches=\"tight\", transparent=True)"
   ]
  },
  {
   "cell_type": "code",
   "execution_count": null,
   "id": "68d5d08f",
   "metadata": {},
   "outputs": [],
   "source": []
  }
 ],
 "metadata": {
  "kernelspec": {
   "display_name": "Python 3",
   "language": "python",
   "name": "python3"
  },
  "language_info": {
   "codemirror_mode": {
    "name": "ipython",
    "version": 3
   },
   "file_extension": ".py",
   "mimetype": "text/x-python",
   "name": "python",
   "nbconvert_exporter": "python",
   "pygments_lexer": "ipython3",
   "version": "3.8.8"
  }
 },
 "nbformat": 4,
 "nbformat_minor": 5
}
