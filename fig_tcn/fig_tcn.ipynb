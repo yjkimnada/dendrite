{
 "cells": [
  {
   "cell_type": "code",
   "execution_count": 1,
   "id": "eb7513a3",
   "metadata": {},
   "outputs": [],
   "source": [
    "import numpy as np\n",
    "import matplotlib.pyplot as plt\n",
    "import scipy.sparse\n",
    "from matplotlib import cm\n",
    "import matplotlib as mpl\n",
    "from cycler import cycler\n",
    "from matplotlib import rc\n",
    "import scipy.stats\n",
    "from sklearn.metrics import explained_variance_score"
   ]
  },
  {
   "cell_type": "code",
   "execution_count": null,
   "id": "c80cfccf",
   "metadata": {},
   "outputs": [],
   "source": [
    "true4_na_mean = np.mean(np.load(\"/media/hdd01/sklee/CA1_clust4-60/data/vdata_T10_Ne2000_gA0.6_tauA1_gN0.8_Ni200_gG0.1_gB0.1_Er0.5_Ir7.4_random_NR_rep1000_stimseed1_set1.npy\"))\n",
    "true4_na = np.load(\"/media/hdd01/sklee/CA1_clust4-60/data/vdata_T10_Ne2000_gA0.6_tauA1_gN0.8_Ni200_gG0.1_gB0.1_Er0.5_Ir7.4_random_NR_rep1000_stimseed1_set1.npy\")[-20:,:50000]\n",
    "gru4_na_test = np.load(\"/media/hdd01/sklee/CA1_clust4-60/whole/gru_s10_h20_output.npz\")[\"test\"] + true4_na_mean\n",
    "\n",
    "\n",
    "one4_error = true4_na - one4_na_test\n",
    "two4_error = true4_na - two4_na_test\n",
    "gru4_error = true4_na - gru4_na_test\n",
    "diff4 = np.load(\"/media/hdd01/sklee/CA1_clust4-60/data/V_diff_stimseed1_set1.npy\")[-20*50000:].reshape(-1,50000)\n"
   ]
  },
  {
   "cell_type": "code",
   "execution_count": null,
   "id": "bbf91b17",
   "metadata": {},
   "outputs": [],
   "source": []
  },
  {
   "cell_type": "code",
   "execution_count": null,
   "id": "7ae43d19",
   "metadata": {},
   "outputs": [],
   "source": []
  }
 ],
 "metadata": {
  "kernelspec": {
   "display_name": "Python 3",
   "language": "python",
   "name": "python3"
  },
  "language_info": {
   "codemirror_mode": {
    "name": "ipython",
    "version": 3
   },
   "file_extension": ".py",
   "mimetype": "text/x-python",
   "name": "python",
   "nbconvert_exporter": "python",
   "pygments_lexer": "ipython3",
   "version": "3.8.8"
  }
 },
 "nbformat": 4,
 "nbformat_minor": 5
}
