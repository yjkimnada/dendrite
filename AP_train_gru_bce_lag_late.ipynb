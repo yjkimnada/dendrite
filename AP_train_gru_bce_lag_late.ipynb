{
 "cells": [
  {
   "cell_type": "code",
   "execution_count": 1,
   "id": "e7faa469",
   "metadata": {},
   "outputs": [],
   "source": [
    "import numpy as np\n",
    "import torch \n",
    "import torch.nn as nn\n",
    "from tqdm import tnrange\n",
    "import torch.optim as optim\n",
    "import torch.nn.functional as F\n",
    "from sklearn import metrics\n",
    "import matplotlib.pyplot as plt\n",
    "import time\n",
    "from sklearn.metrics import explained_variance_score"
   ]
  },
  {
   "cell_type": "code",
   "execution_count": 2,
   "id": "8753064b",
   "metadata": {},
   "outputs": [],
   "source": [
    "class AP_GRU_Lag_Late(nn.Module):\n",
    "    def __init__(self, H_no, lag, device):\n",
    "        super().__init__()\n",
    "        \n",
    "        self.H_no = H_no\n",
    "        self.device = device\n",
    "        \n",
    "        self.rnn = nn.GRU(2*(lag+1), H_no, batch_first=True)\n",
    "        self.linear = nn.Linear(H_no, 1)\n",
    "        \n",
    "    def forward(self, V):\n",
    "        #V is shape (batch, 50000, 2*(lag+1))\n",
    "\n",
    "        rnn_out, _ = self.rnn(V) #(batch,50000,H)\n",
    "        rnn_out = rnn_out.reshape(-1,self.H_no)\n",
    "        lin_out = self.linear(rnn_out) #(batch*50000,1)\n",
    "        final = torch.sigmoid(lin_out.reshape(V.shape[0], V.shape[1]))\n",
    "        \n",
    "        return final\n",
    "\n"
   ]
  },
  {
   "cell_type": "code",
   "execution_count": 3,
   "id": "6e8d732d",
   "metadata": {},
   "outputs": [],
   "source": [
    "batch_size = 20\n",
    "batch_length = int(50000 / 5 / 10)\n",
    "H_no = 40\n",
    "device = torch.device(\"cuda\")\n",
    "lag = 20\n",
    "\n",
    "epoch_no = 400\n",
    "iter_no = epoch_no * 980 // batch_size\n",
    "\n",
    "#V = np.load(\"/media/hdd01/sklee/CA1_clust4-60_AP/data/vdata_T10_Ne2000_gA0.6_tauA1_gN0.8_Ni200_gG0.1_gB0.1_noDendNa_Er0.5_Ir7.4_random_NR_rep1000_stimseed1.npy\").reshape(-1,50001)[:,:50000]\n",
    "#V = np.load(\"/media/hdd01/sklee/CA1_clust4-60_AP/comb_pred/V_comb_pred_2ms.npy\").reshape(-1,batch_length)\n",
    "V1 = np.load(\"/media/hdd01/sklee/CA1_clust4-60_aSoma/diff_true/V_diff_true_10ms.npy\").reshape(-1,batch_length)\n",
    "V2 = np.load(\"/media/hdd01/sklee/CA1_clust4-60_aSoma/nona_true/V_nona_true_10ms.npy\").reshape(-1,batch_length)\n",
    "S = np.load(\"/media/hdd01/sklee/CA1_clust4-60_aSoma/data/spike_train_10ms.npy\").reshape(-1,batch_length)\n",
    "\n",
    "V1-= np.mean(V1)\n",
    "V2-= np.mean(V2)\n",
    "\n",
    "V1 = torch.from_numpy(V1)\n",
    "V2 = torch.from_numpy(V2)\n",
    "S = torch.from_numpy(S)\n",
    "\n",
    "V1_lag = np.zeros((V1.shape[0], V1.shape[1], lag)) #(lag,1000,50000)\n",
    "V2_lag = np.zeros((V2.shape[0], V2.shape[1], lag)) #(lag,1000,50000)\n",
    "\n",
    "for i in range(lag):\n",
    "    V1_lag[:,i+1:,i] = V1[:,:-i-1]\n",
    "    V2_lag[:,i+1:,i] = V2[:,:-i-1]\n",
    "\n",
    "V1_lag = torch.from_numpy(V1_lag)\n",
    "V2_lag = torch.from_numpy(V2_lag)"
   ]
  },
  {
   "cell_type": "code",
   "execution_count": 4,
   "id": "bfda0478",
   "metadata": {},
   "outputs": [
    {
     "name": "stdout",
     "output_type": "stream",
     "text": [
      "torch.Size([19600, 20])\n"
     ]
    }
   ],
   "source": [
    "V1_train = V1[:980].float()\n",
    "V1_test = V1[980:].float().to(device)\n",
    "V2_train = V2[:980].float()\n",
    "V2_test = V2[980:].float().to(device)\n",
    "S_train = S[:980].float()\n",
    "S_test = S[980:].float().to(device)\n",
    "V1_lag_train = V1_lag[:980].float()\n",
    "V1_lag_test = V1_lag[980:].float().to(device)\n",
    "V2_lag_train = V2_lag[:980].float()\n",
    "V2_lag_test = V2_lag[980:].float().to(device)\n",
    "\n",
    "train_idx = np.empty((epoch_no, 980))\n",
    "for i in range(epoch_no):\n",
    "    part_idx = np.arange(0,980,1)\n",
    "    np.random.shuffle(part_idx)\n",
    "    train_idx[i] = part_idx\n",
    "train_idx = train_idx.reshape(-1, batch_size)\n",
    "train_idx = torch.from_numpy(train_idx).long()\n",
    "print(train_idx.shape)"
   ]
  },
  {
   "cell_type": "code",
   "execution_count": 5,
   "id": "784b45c2",
   "metadata": {},
   "outputs": [
    {
     "name": "stdout",
     "output_type": "stream",
     "text": [
      "10121\n"
     ]
    }
   ],
   "source": [
    "model = AP_GRU_Lag_Late(H_no, lag, device)\n",
    "optimizer = torch.optim.Adam(model.parameters(), lr = 0.0025)\n",
    "\n",
    "model.to(device).float()\n",
    "print(sum(p.numel() for p in model.parameters() if p.requires_grad))\n",
    "\n",
    "bce_criterion = nn.BCELoss(reduction=\"mean\")"
   ]
  },
  {
   "cell_type": "code",
   "execution_count": 6,
   "id": "84e29a0c",
   "metadata": {
    "scrolled": false
   },
   "outputs": [
    {
     "name": "stderr",
     "output_type": "stream",
     "text": [
      "<ipython-input-6-cef37c07f47b>:4: TqdmDeprecationWarning: Please use `tqdm.notebook.trange` instead of `tqdm.tnrange`\n",
      "  for i in tnrange(10000):\n"
     ]
    },
    {
     "data": {
      "application/vnd.jupyter.widget-view+json": {
       "model_id": "debb4f01858140a0b46427d691754ab0",
       "version_major": 2,
       "version_minor": 0
      },
      "text/plain": [
       "  0%|          | 0/10000 [00:00<?, ?it/s]"
      ]
     },
     "metadata": {},
     "output_type": "display_data"
    },
    {
     "name": "stdout",
     "output_type": "stream",
     "text": [
      "0 0.6944766640663147\n",
      "49 0.029057906940579414\n",
      "99 0.022988179698586464\n",
      "149 0.020194565877318382\n",
      "199 0.01842360571026802\n",
      "249 0.01708856225013733\n",
      "299 0.016093609854578972\n",
      "349 0.015352465212345123\n",
      "399 0.014669382944703102\n",
      "449 0.014070157893002033\n",
      "499 0.013615391217172146\n",
      "549 0.013185381889343262\n",
      "599 0.012709353119134903\n",
      "649 0.011721527203917503\n",
      "699 0.010902135632932186\n",
      "749 0.010577201843261719\n",
      "799 0.01006250362843275\n",
      "849 0.009868420660495758\n",
      "899 0.00946498941630125\n",
      "949 0.00916087906807661\n",
      "999 0.009072249755263329\n",
      "1049 0.008680694736540318\n",
      "1099 0.008611475117504597\n",
      "1149 0.008639136329293251\n",
      "1199 0.008384644985198975\n",
      "1249 0.00825540628284216\n",
      "1299 0.00824141874909401\n",
      "1349 0.007908137515187263\n",
      "1399 0.008076607249677181\n",
      "1449 0.00866591464728117\n",
      "1499 0.007976500317454338\n",
      "1549 0.00740837911143899\n",
      "1599 0.007798171602189541\n",
      "1649 0.007397663779556751\n",
      "1699 0.007597582880407572\n",
      "1749 0.007186695002019405\n",
      "1799 0.007203869987279177\n",
      "1849 0.0070936414413154125\n",
      "1899 0.006608273833990097\n",
      "1949 0.006748429033905268\n",
      "1999 0.006709957029670477\n",
      "2049 0.006954501383006573\n",
      "2099 0.00619141198694706\n",
      "2149 0.006395697593688965\n",
      "2199 0.005959716625511646\n",
      "2249 0.005883719306439161\n",
      "2299 0.006266477983444929\n",
      "2349 0.006305322051048279\n",
      "2399 0.005682348273694515\n",
      "2449 0.007966650649905205\n",
      "2499 0.006642382591962814\n",
      "2549 0.005881088320165873\n",
      "2599 0.006619693711400032\n",
      "2649 0.006353987846523523\n",
      "2699 0.005977208726108074\n",
      "2749 0.005450440105050802\n",
      "2799 0.006564197596162558\n",
      "2849 0.0051728240214288235\n",
      "2899 0.005441865883767605\n",
      "2949 0.005671157501637936\n",
      "2999 0.005252553150057793\n",
      "3049 0.00638701394200325\n",
      "3099 0.006277879700064659\n",
      "3149 0.004971949849277735\n",
      "3199 0.005429097451269627\n",
      "3249 0.006785769481211901\n",
      "3299 0.005356565583497286\n",
      "3349 0.00524116912856698\n",
      "3399 0.005051184445619583\n",
      "3449 0.005362309981137514\n",
      "3499 0.004831407684832811\n",
      "3549 0.004675650969147682\n",
      "3599 0.00494153518229723\n",
      "3649 0.004939404781907797\n",
      "3699 0.0045332759618759155\n",
      "3749 0.004793563857674599\n",
      "3799 0.004786160308867693\n",
      "3849 0.005092166364192963\n",
      "3899 0.004620689433068037\n",
      "3949 0.004603648092597723\n",
      "3999 0.004711441695690155\n",
      "4049 0.0045997402630746365\n",
      "4099 0.00435758288949728\n",
      "4149 0.004848584532737732\n",
      "4199 0.005148187279701233\n",
      "4249 0.004968456923961639\n",
      "4299 0.004595640581101179\n",
      "4349 0.004598512779921293\n",
      "4399 0.005309722851961851\n",
      "4449 0.0046205343678593636\n",
      "4499 0.004496403504163027\n",
      "4549 0.00407314533367753\n",
      "4599 0.004483726341277361\n",
      "4649 0.004106278996914625\n",
      "4699 0.00486114714294672\n",
      "4749 0.004586765542626381\n",
      "4799 0.004232227336615324\n",
      "4849 0.004185670521110296\n",
      "4899 0.004523117560893297\n",
      "4949 0.004180890042334795\n",
      "4999 0.004575153347104788\n",
      "5049 0.003578892908990383\n",
      "5099 0.004671221598982811\n",
      "5149 0.004004090093076229\n",
      "5199 0.004675325471907854\n",
      "5249 0.00471729738637805\n",
      "5299 0.005130168981850147\n",
      "5349 0.004097499884665012\n",
      "5399 0.0043744537979364395\n",
      "5449 0.004099408630281687\n",
      "5499 0.004683660808950663\n",
      "5549 0.004495079629123211\n",
      "5599 0.004049194976687431\n",
      "5649 0.0037669334560632706\n",
      "5699 0.004671912174671888\n",
      "5749 0.0052224937826395035\n",
      "5799 0.003963709808886051\n",
      "5849 0.004782101139426231\n",
      "5899 0.004453445319086313\n",
      "5949 0.004496980924159288\n",
      "5999 0.0043145460076630116\n",
      "6049 0.00469715753570199\n",
      "6099 0.004363600164651871\n",
      "6149 0.004837516695261002\n",
      "6199 0.0037929504178464413\n",
      "6249 0.0039126258343458176\n",
      "6299 0.004483128897845745\n",
      "6349 0.0038359113968908787\n",
      "6399 0.004404508508741856\n",
      "6449 0.004412730690091848\n",
      "6499 0.004027348943054676\n",
      "6549 0.003680422203615308\n",
      "6599 0.00433592963963747\n",
      "6649 0.003961373586207628\n",
      "6699 0.0050740172155201435\n",
      "6749 0.004337194841355085\n",
      "6799 0.004056103993207216\n",
      "6849 0.004000705201178789\n",
      "6899 0.004202632699161768\n",
      "6949 0.004194398410618305\n",
      "6999 0.0038763456977903843\n",
      "7049 0.004305730108171701\n",
      "7099 0.003983784466981888\n",
      "7149 0.00396488793194294\n",
      "7199 0.0041959271766245365\n",
      "7249 0.003921635448932648\n",
      "7299 0.00389439077116549\n",
      "7349 0.0035046772100031376\n",
      "7399 0.0036752058658748865\n",
      "7449 0.004005776718258858\n",
      "7499 0.0038279383443295956\n",
      "7549 0.004153676331043243\n",
      "7599 0.0038458777125924826\n",
      "7649 0.004068345762789249\n",
      "7699 0.004013167228549719\n",
      "7749 0.004193023778498173\n",
      "7799 0.00404241681098938\n",
      "7849 0.00365233002230525\n",
      "7899 0.004543556831777096\n"
     ]
    },
    {
     "ename": "KeyboardInterrupt",
     "evalue": "",
     "output_type": "error",
     "traceback": [
      "\u001b[0;31m---------------------------------------------------------------------------\u001b[0m",
      "\u001b[0;31mKeyboardInterrupt\u001b[0m                         Traceback (most recent call last)",
      "\u001b[0;32m<ipython-input-6-cef37c07f47b>\u001b[0m in \u001b[0;36m<module>\u001b[0;34m\u001b[0m\n\u001b[1;32m     23\u001b[0m     \u001b[0mloss\u001b[0m \u001b[0;34m=\u001b[0m \u001b[0mbce_criterion\u001b[0m\u001b[0;34m(\u001b[0m\u001b[0mS_out\u001b[0m\u001b[0;34m,\u001b[0m \u001b[0mbatch_S\u001b[0m\u001b[0;34m)\u001b[0m\u001b[0;34m\u001b[0m\u001b[0;34m\u001b[0m\u001b[0m\n\u001b[1;32m     24\u001b[0m \u001b[0;34m\u001b[0m\u001b[0m\n\u001b[0;32m---> 25\u001b[0;31m     \u001b[0mloss\u001b[0m\u001b[0;34m.\u001b[0m\u001b[0mbackward\u001b[0m\u001b[0;34m(\u001b[0m\u001b[0;34m)\u001b[0m\u001b[0;34m\u001b[0m\u001b[0;34m\u001b[0m\u001b[0m\n\u001b[0m\u001b[1;32m     26\u001b[0m     \u001b[0mnn\u001b[0m\u001b[0;34m.\u001b[0m\u001b[0mutils\u001b[0m\u001b[0;34m.\u001b[0m\u001b[0mclip_grad_norm_\u001b[0m\u001b[0;34m(\u001b[0m\u001b[0mmodel\u001b[0m\u001b[0;34m.\u001b[0m\u001b[0mparameters\u001b[0m\u001b[0;34m(\u001b[0m\u001b[0;34m)\u001b[0m\u001b[0;34m,\u001b[0m \u001b[0;36m10\u001b[0m\u001b[0;34m)\u001b[0m\u001b[0;34m\u001b[0m\u001b[0;34m\u001b[0m\u001b[0m\n\u001b[1;32m     27\u001b[0m     \u001b[0moptimizer\u001b[0m\u001b[0;34m.\u001b[0m\u001b[0mstep\u001b[0m\u001b[0;34m(\u001b[0m\u001b[0;34m)\u001b[0m\u001b[0;34m\u001b[0m\u001b[0;34m\u001b[0m\u001b[0m\n",
      "\u001b[0;32m~/anaconda3/lib/python3.8/site-packages/torch/tensor.py\u001b[0m in \u001b[0;36mbackward\u001b[0;34m(self, gradient, retain_graph, create_graph, inputs)\u001b[0m\n\u001b[1;32m    243\u001b[0m                 \u001b[0mcreate_graph\u001b[0m\u001b[0;34m=\u001b[0m\u001b[0mcreate_graph\u001b[0m\u001b[0;34m,\u001b[0m\u001b[0;34m\u001b[0m\u001b[0;34m\u001b[0m\u001b[0m\n\u001b[1;32m    244\u001b[0m                 inputs=inputs)\n\u001b[0;32m--> 245\u001b[0;31m         \u001b[0mtorch\u001b[0m\u001b[0;34m.\u001b[0m\u001b[0mautograd\u001b[0m\u001b[0;34m.\u001b[0m\u001b[0mbackward\u001b[0m\u001b[0;34m(\u001b[0m\u001b[0mself\u001b[0m\u001b[0;34m,\u001b[0m \u001b[0mgradient\u001b[0m\u001b[0;34m,\u001b[0m \u001b[0mretain_graph\u001b[0m\u001b[0;34m,\u001b[0m \u001b[0mcreate_graph\u001b[0m\u001b[0;34m,\u001b[0m \u001b[0minputs\u001b[0m\u001b[0;34m=\u001b[0m\u001b[0minputs\u001b[0m\u001b[0;34m)\u001b[0m\u001b[0;34m\u001b[0m\u001b[0;34m\u001b[0m\u001b[0m\n\u001b[0m\u001b[1;32m    246\u001b[0m \u001b[0;34m\u001b[0m\u001b[0m\n\u001b[1;32m    247\u001b[0m     \u001b[0;32mdef\u001b[0m \u001b[0mregister_hook\u001b[0m\u001b[0;34m(\u001b[0m\u001b[0mself\u001b[0m\u001b[0;34m,\u001b[0m \u001b[0mhook\u001b[0m\u001b[0;34m)\u001b[0m\u001b[0;34m:\u001b[0m\u001b[0;34m\u001b[0m\u001b[0;34m\u001b[0m\u001b[0m\n",
      "\u001b[0;32m~/anaconda3/lib/python3.8/site-packages/torch/autograd/__init__.py\u001b[0m in \u001b[0;36mbackward\u001b[0;34m(tensors, grad_tensors, retain_graph, create_graph, grad_variables, inputs)\u001b[0m\n\u001b[1;32m    143\u001b[0m         \u001b[0mretain_graph\u001b[0m \u001b[0;34m=\u001b[0m \u001b[0mcreate_graph\u001b[0m\u001b[0;34m\u001b[0m\u001b[0;34m\u001b[0m\u001b[0m\n\u001b[1;32m    144\u001b[0m \u001b[0;34m\u001b[0m\u001b[0m\n\u001b[0;32m--> 145\u001b[0;31m     Variable._execution_engine.run_backward(\n\u001b[0m\u001b[1;32m    146\u001b[0m         \u001b[0mtensors\u001b[0m\u001b[0;34m,\u001b[0m \u001b[0mgrad_tensors_\u001b[0m\u001b[0;34m,\u001b[0m \u001b[0mretain_graph\u001b[0m\u001b[0;34m,\u001b[0m \u001b[0mcreate_graph\u001b[0m\u001b[0;34m,\u001b[0m \u001b[0minputs\u001b[0m\u001b[0;34m,\u001b[0m\u001b[0;34m\u001b[0m\u001b[0;34m\u001b[0m\u001b[0m\n\u001b[1;32m    147\u001b[0m         allow_unreachable=True, accumulate_grad=True)  # allow_unreachable flag\n",
      "\u001b[0;31mKeyboardInterrupt\u001b[0m: "
     ]
    }
   ],
   "source": [
    "score_list = []\n",
    "\n",
    "for i in tnrange(iter_no):\n",
    "#for i in tnrange(10000):  \n",
    "    s = time.time()\n",
    "    model.train()\n",
    "    optimizer.zero_grad()\n",
    "    \n",
    "    batch_idx = train_idx[i]\n",
    "    batch_S = S_train[batch_idx].to(device)\n",
    "    batch_V1 = V1_train[batch_idx].to(device)\n",
    "    batch_V1_lag = V1_lag_train[batch_idx].to(device)\n",
    "    batch_V2 = V2_train[batch_idx].to(device)\n",
    "    batch_V2_lag = V2_lag_train[batch_idx].to(device)\n",
    "    \n",
    "    batch_V_in = torch.zeros(batch_size, batch_length, 2*(lag+1)).to(device)\n",
    "    batch_V_in[:,:,0] = batch_V1\n",
    "    batch_V_in[:,:,1:lag+1] = batch_V1_lag\n",
    "    batch_V_in[:,:,lag+1] = batch_V2\n",
    "    batch_V_in[:,:,lag+2:2*lag+2] = batch_V2_lag\n",
    "    \n",
    "    S_out = model(batch_V_in)\n",
    "    loss = bce_criterion(S_out, batch_S)\n",
    "    \n",
    "    loss.backward()\n",
    "    nn.utils.clip_grad_norm_(model.parameters(), 10)\n",
    "    optimizer.step()\n",
    "    \n",
    "    step_time = time.time() - s\n",
    "    \n",
    "    if (i%50 == 49) or (i == 0):\n",
    "        model.eval()\n",
    "        V_test_in = torch.zeros(batch_size, batch_length, 2*(lag+1)).to(device)\n",
    "        V_test_in[:,:,0] = V1_test\n",
    "        V_test_in[:,:,1:lag+1] = V1_lag_test\n",
    "        V_test_in[:,:,lag+1] = V2_test\n",
    "        V_test_in[:,:,lag+2:2*lag+2] = V2_lag_test\n",
    "        \n",
    "        test_S_out = model(V_test_in)\n",
    "        test_loss = bce_criterion(test_S_out, S_test).item()\n",
    "        \n",
    "        score_list.append(test_loss)\n",
    "        print(i, test_loss)"
   ]
  },
  {
   "cell_type": "code",
   "execution_count": null,
   "id": "f591ea9b",
   "metadata": {},
   "outputs": [],
   "source": []
  },
  {
   "cell_type": "code",
   "execution_count": 7,
   "id": "e006b31b",
   "metadata": {},
   "outputs": [
    {
     "data": {
      "text/plain": [
       "[<matplotlib.lines.Line2D at 0x7fdef5fc75e0>]"
      ]
     },
     "execution_count": 7,
     "metadata": {},
     "output_type": "execute_result"
    },
    {
     "data": {
      "image/png": "[encoded data removed]",
      "text/plain": [
       "<Figure size 432x288 with 1 Axes>"
      ]
     },
     "metadata": {
      "needs_background": "light"
     },
     "output_type": "display_data"
    }
   ],
   "source": [
    "plt.plot(np.asarray(score_list)[20:])"
   ]
  },
  {
   "cell_type": "code",
   "execution_count": 8,
   "id": "ad66af8b",
   "metadata": {},
   "outputs": [
    {
     "name": "stdout",
     "output_type": "stream",
     "text": [
      "tensor(0.9999, device='cuda:0', grad_fn=<MaxBackward1>)\n"
     ]
    },
    {
     "data": {
      "image/png": "[encoded data removed]",
      "text/plain": [
       "<Figure size 1080x360 with 1 Axes>"
      ]
     },
     "metadata": {
      "needs_background": "light"
     },
     "output_type": "display_data"
    }
   ],
   "source": [
    "plt.figure(figsize = (15,5))\n",
    "plt.plot(S_test[0].cpu().detach().numpy())\n",
    "plt.plot(test_S_out[1].cpu().detach().numpy())\n",
    "#plt.xlim(4500,5200)\n",
    "#plt.ylim(-1,10)\n",
    "print(torch.max(test_S_out))"
   ]
  },
  {
   "cell_type": "code",
   "execution_count": 9,
   "id": "780f8cd8",
   "metadata": {},
   "outputs": [],
   "source": [
    "#torch.save(model.state_dict(), \"/media/hdd01/sklee/CA1_clust4-60_aSoma/na_true_late/gru_l20_h40_10ms.pt\")\n",
    "#np.save(\"/media/hdd01/sklee/CA1_clust4-60_aSoma/na_true_late/gru_l20_h40_10ms_test.npy\", test_S_out.cpu().detach().numpy())"
   ]
  },
  {
   "cell_type": "code",
   "execution_count": null,
   "id": "220095ad",
   "metadata": {},
   "outputs": [],
   "source": []
  }
 ],
 "metadata": {
  "kernelspec": {
   "display_name": "Python 3",
   "language": "python",
   "name": "python3"
  },
  "language_info": {
   "codemirror_mode": {
    "name": "ipython",
    "version": 3
   },
   "file_extension": ".py",
   "mimetype": "text/x-python",
   "name": "python",
   "nbconvert_exporter": "python",
   "pygments_lexer": "ipython3",
   "version": "3.8.8"
  }
 },
 "nbformat": 4,
 "nbformat_minor": 5
}
