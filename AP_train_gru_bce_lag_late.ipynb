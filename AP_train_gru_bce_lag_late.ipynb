{
 "cells": [
  {
   "cell_type": "code",
   "execution_count": 1,
   "id": "e7faa469",
   "metadata": {},
   "outputs": [],
   "source": [
    "import numpy as np\n",
    "import torch \n",
    "import torch.nn as nn\n",
    "from tqdm import tnrange\n",
    "import torch.optim as optim\n",
    "import torch.nn.functional as F\n",
    "from sklearn import metrics\n",
    "import matplotlib.pyplot as plt\n",
    "import time\n",
    "from sklearn.metrics import explained_variance_score"
   ]
  },
  {
   "cell_type": "code",
   "execution_count": 2,
   "id": "8753064b",
   "metadata": {},
   "outputs": [],
   "source": [
    "class AP_GRU_Lag_Late(nn.Module):\n",
    "    def __init__(self, H_no, lag, device):\n",
    "        super().__init__()\n",
    "        \n",
    "        self.H_no = H_no\n",
    "        self.device = device\n",
    "        \n",
    "        self.rnn = nn.GRU(2*(lag+1), H_no, batch_first=True)\n",
    "        self.linear = nn.Linear(H_no, 1)\n",
    "        \n",
    "    def forward(self, V):\n",
    "        #V is shape (batch, 50000, 2*(lag+1))\n",
    "\n",
    "        rnn_out, _ = self.rnn(V) #(batch,50000,H)\n",
    "        rnn_out = rnn_out.reshape(-1,self.H_no)\n",
    "        lin_out = self.linear(rnn_out) #(batch*50000,1)\n",
    "        final = torch.sigmoid(lin_out.reshape(V.shape[0], V.shape[1]))\n",
    "        \n",
    "        return final\n",
    "\n"
   ]
  },
  {
   "cell_type": "code",
   "execution_count": 3,
   "id": "6e8d732d",
   "metadata": {},
   "outputs": [],
   "source": [
    "batch_size = 20\n",
    "batch_length = int(50000 / 5 / 5)\n",
    "H_no = 40\n",
    "device = torch.device(\"cuda\")\n",
    "lag = 20\n",
    "\n",
    "epoch_no = 400\n",
    "iter_no = epoch_no * 980 // batch_size\n",
    "\n",
    "#V = np.load(\"/media/hdd01/sklee/CA1_clust4-60_AP/data/vdata_T10_Ne2000_gA0.6_tauA1_gN0.8_Ni200_gG0.1_gB0.1_noDendNa_Er0.5_Ir7.4_random_NR_rep1000_stimseed1.npy\").reshape(-1,50001)[:,:50000]\n",
    "#V = np.load(\"/media/hdd01/sklee/CA1_clust4-60_AP/comb_pred/V_comb_pred_2ms.npy\").reshape(-1,batch_length)\n",
    "V1 = np.load(\"/media/hdd01/sklee/CA1_clust4-60_aSoma/diff_true/V_diff_true_5ms.npy\").reshape(-1,batch_length)\n",
    "V2 = np.load(\"/media/hdd01/sklee/CA1_clust4-60_aSoma/nona_true/V_nona_true_5ms.npy\").reshape(-1,batch_length)\n",
    "S = np.load(\"/media/hdd01/sklee/CA1_clust4-60_aSoma/data/spike_train_5ms.npy\").reshape(-1,batch_length)\n",
    "\n",
    "V1-= np.mean(V1)\n",
    "V2-= np.mean(V2)\n",
    "\n",
    "V1 = torch.from_numpy(V1)\n",
    "V2 = torch.from_numpy(V2)\n",
    "S = torch.from_numpy(S)\n",
    "\n",
    "V1_lag = np.zeros((V1.shape[0], V1.shape[1], lag)) #(lag,1000,50000)\n",
    "V2_lag = np.zeros((V2.shape[0], V2.shape[1], lag)) #(lag,1000,50000)\n",
    "\n",
    "for i in range(lag):\n",
    "    V1_lag[:,i+1:,i] = V1[:,:-i-1]\n",
    "    V2_lag[:,i+1:,i] = V2[:,:-i-1]\n",
    "\n",
    "V1_lag = torch.from_numpy(V1_lag)\n",
    "V2_lag = torch.from_numpy(V2_lag)"
   ]
  },
  {
   "cell_type": "code",
   "execution_count": 4,
   "id": "bfda0478",
   "metadata": {},
   "outputs": [
    {
     "name": "stdout",
     "output_type": "stream",
     "text": [
      "torch.Size([19600, 20])\n"
     ]
    }
   ],
   "source": [
    "V1_train = V1[:980].float()\n",
    "V1_test = V1[980:].float().to(device)\n",
    "V2_train = V2[:980].float()\n",
    "V2_test = V2[980:].float().to(device)\n",
    "S_train = S[:980].float()\n",
    "S_test = S[980:].float().to(device)\n",
    "V1_lag_train = V1_lag[:980].float()\n",
    "V1_lag_test = V1_lag[980:].float().to(device)\n",
    "V2_lag_train = V2_lag[:980].float()\n",
    "V2_lag_test = V2_lag[980:].float().to(device)\n",
    "\n",
    "train_idx = np.empty((epoch_no, 980))\n",
    "for i in range(epoch_no):\n",
    "    part_idx = np.arange(0,980,1)\n",
    "    np.random.shuffle(part_idx)\n",
    "    train_idx[i] = part_idx\n",
    "train_idx = train_idx.reshape(-1, batch_size)\n",
    "train_idx = torch.from_numpy(train_idx).long()\n",
    "print(train_idx.shape)"
   ]
  },
  {
   "cell_type": "code",
   "execution_count": 5,
   "id": "784b45c2",
   "metadata": {},
   "outputs": [
    {
     "name": "stdout",
     "output_type": "stream",
     "text": [
      "10121\n"
     ]
    }
   ],
   "source": [
    "model = AP_GRU_Lag_Late(H_no, lag, device)\n",
    "optimizer = torch.optim.Adam(model.parameters(), lr = 0.0025)\n",
    "\n",
    "model.to(device).float()\n",
    "print(sum(p.numel() for p in model.parameters() if p.requires_grad))\n",
    "\n",
    "bce_criterion = nn.BCELoss(reduction=\"mean\")"
   ]
  },
  {
   "cell_type": "code",
   "execution_count": 6,
   "id": "84e29a0c",
   "metadata": {
    "scrolled": false
   },
   "outputs": [
    {
     "name": "stderr",
     "output_type": "stream",
     "text": [
      "<ipython-input-6-cef37c07f47b>:4: TqdmDeprecationWarning: Please use `tqdm.notebook.trange` instead of `tqdm.tnrange`\n",
      "  for i in tnrange(10000):\n"
     ]
    },
    {
     "data": {
      "application/vnd.jupyter.widget-view+json": {
       "model_id": "08f9277c935c421c85343c622f3c1439",
       "version_major": 2,
       "version_minor": 0
      },
      "text/plain": [
       "  0%|          | 0/10000 [00:00<?, ?it/s]"
      ]
     },
     "metadata": {},
     "output_type": "display_data"
    },
    {
     "name": "stdout",
     "output_type": "stream",
     "text": [
      "0 0.6251193881034851\n",
      "49 0.02034102752804756\n",
      "99 0.015483747236430645\n",
      "149 0.01377654355019331\n",
      "199 0.012752470560371876\n",
      "249 0.011930672451853752\n",
      "299 0.011315733194351196\n",
      "349 0.010880822315812111\n",
      "399 0.010596212930977345\n",
      "449 0.0103226313367486\n",
      "499 0.010096956044435501\n",
      "549 0.009951252490282059\n",
      "599 0.009648533537983894\n",
      "649 0.009364951401948929\n",
      "699 0.009206794202327728\n",
      "749 0.009061373770236969\n",
      "799 0.00857040286064148\n",
      "849 0.008170214481651783\n",
      "899 0.00839147437363863\n",
      "949 0.007968492805957794\n",
      "999 0.007155281491577625\n",
      "1049 0.007655308116227388\n",
      "1099 0.006589169148355722\n",
      "1149 0.006603482645004988\n",
      "1199 0.006082326173782349\n",
      "1249 0.006015692371875048\n",
      "1299 0.006089040078222752\n",
      "1349 0.006004848517477512\n",
      "1399 0.005888878833502531\n",
      "1449 0.005509774666279554\n",
      "1499 0.006100162398070097\n",
      "1549 0.005767900962382555\n",
      "1599 0.00542911421507597\n",
      "1649 0.005339530762284994\n",
      "1699 0.004984131548553705\n",
      "1749 0.005321456119418144\n",
      "1799 0.004840430337935686\n",
      "1849 0.005116649903357029\n",
      "1899 0.004801623057574034\n",
      "1949 0.00573795847594738\n",
      "1999 0.004833915736526251\n",
      "2049 0.00494343088939786\n",
      "2099 0.004577350337058306\n",
      "2149 0.004969936795532703\n",
      "2199 0.0047064065001904964\n",
      "2249 0.005081611685454845\n",
      "2299 0.004997700918465853\n",
      "2349 0.004283261019736528\n",
      "2399 0.005473538301885128\n",
      "2449 0.005202133674174547\n",
      "2499 0.004525210242718458\n",
      "2549 0.006113825831562281\n",
      "2599 0.004000617656856775\n",
      "2649 0.004182317294180393\n",
      "2699 0.004193854983896017\n",
      "2749 0.004091127775609493\n",
      "2799 0.0043078940361738205\n",
      "2849 0.004035222344100475\n",
      "2899 0.003851640271022916\n",
      "2949 0.004021827597171068\n",
      "2999 0.004237772431224585\n",
      "3049 0.004120593890547752\n",
      "3099 0.0038907164707779884\n",
      "3149 0.0055231330916285515\n",
      "3199 0.003742759581655264\n",
      "3249 0.004177667200565338\n",
      "3299 0.0037902388721704483\n",
      "3349 0.003930204547941685\n",
      "3399 0.004293807316571474\n",
      "3449 0.004110488574951887\n",
      "3499 0.003920940216630697\n",
      "3549 0.0035792228300124407\n",
      "3599 0.0035826517269015312\n",
      "3649 0.004084158223122358\n",
      "3699 0.0035868342965841293\n",
      "3749 0.003766943933442235\n",
      "3799 0.0036657073069363832\n",
      "3849 0.004339023493230343\n",
      "3899 0.003512225579470396\n",
      "3949 0.003971543628722429\n",
      "3999 0.003407360753044486\n",
      "4049 0.004279482178390026\n",
      "4099 0.0033595827408134937\n",
      "4149 0.003552359761670232\n",
      "4199 0.0034746634773910046\n",
      "4249 0.003918574657291174\n",
      "4299 0.003713359823450446\n",
      "4349 0.0033758373465389013\n",
      "4399 0.003655186388641596\n",
      "4449 0.003557406133040786\n",
      "4499 0.0034202190581709146\n",
      "4549 0.003266896354034543\n",
      "4599 0.004305461421608925\n",
      "4649 0.0034472502302378416\n",
      "4699 0.0040624914690852165\n",
      "4749 0.0035857772454619408\n",
      "4799 0.0060312096029520035\n",
      "4849 0.00355506781488657\n",
      "4899 0.0033067648764699697\n",
      "4949 0.003382755909115076\n",
      "4999 0.0033503416925668716\n",
      "5049 0.0034936140291392803\n",
      "5099 0.003560413373634219\n",
      "5149 0.0035093119367957115\n",
      "5199 0.0033264036756008863\n",
      "5249 0.0033770606387406588\n",
      "5299 0.003067369107156992\n",
      "5349 0.003474509809166193\n",
      "5399 0.004169575870037079\n",
      "5449 0.003024083562195301\n",
      "5499 0.0030445740558207035\n",
      "5549 0.0034627714194357395\n",
      "5599 0.0036780615337193012\n",
      "5649 0.003675447078421712\n",
      "5699 0.003218450816348195\n",
      "5749 0.0032701040618121624\n",
      "5799 0.003798461752012372\n",
      "5849 0.004767118487507105\n",
      "5899 0.003647169331088662\n",
      "5949 0.0029266502242535353\n",
      "5999 0.0032776023726910353\n",
      "6049 0.003751044860109687\n",
      "6099 0.0035680332221090794\n",
      "6149 0.003103752853348851\n",
      "6199 0.0032982905395329\n",
      "6249 0.003620830364525318\n",
      "6299 0.0034873748663812876\n",
      "6349 0.0036228331737220287\n",
      "6399 0.0032319952733814716\n",
      "6449 0.00339686730876565\n",
      "6499 0.0031189287547022104\n",
      "6549 0.0032257193233817816\n",
      "6599 0.0035980239044874907\n",
      "6649 0.003541681682690978\n",
      "6699 0.0031247916631400585\n",
      "6749 0.0031974981538951397\n",
      "6799 0.003254492534324527\n",
      "6849 0.0032643298618495464\n",
      "6899 0.003851639572530985\n",
      "6949 0.003047048579901457\n",
      "6999 0.003001290140673518\n",
      "7049 0.004339943639934063\n",
      "7099 0.0029751781839877367\n",
      "7149 0.0035705729387700558\n",
      "7199 0.0028060050681233406\n",
      "7249 0.0029980873223394156\n",
      "7299 0.003237171797081828\n",
      "7349 0.0030740774236619473\n",
      "7399 0.002971830777823925\n",
      "7449 0.00340105383656919\n",
      "7499 0.00283349328674376\n",
      "7549 0.003063576528802514\n",
      "7599 0.0029881068039685488\n",
      "7649 0.0030520474538207054\n",
      "7699 0.0033420794643461704\n",
      "7749 0.0028508680406957865\n",
      "7799 0.004801782313734293\n",
      "7849 0.0028291388880461454\n",
      "7899 0.0035245970357209444\n",
      "7949 0.0029931480530649424\n",
      "7999 0.003168874653056264\n",
      "8049 0.0029862034134566784\n",
      "8099 0.0034037725999951363\n",
      "8149 0.0029455393087118864\n",
      "8199 0.0028854995034635067\n",
      "8249 0.003410209668800235\n",
      "8299 0.003248917404562235\n",
      "8349 0.0028100870549678802\n",
      "8399 0.0031012222170829773\n",
      "8449 0.0028054583817720413\n",
      "8499 0.0029116689693182707\n",
      "8549 0.0028905505314469337\n",
      "8599 0.003091459395363927\n",
      "8649 0.002998787211254239\n",
      "8699 0.003637604881078005\n",
      "8749 0.00326088210567832\n",
      "8799 0.004239976406097412\n",
      "8849 0.0028172186575829983\n",
      "8899 0.004672419745475054\n",
      "8949 0.0032312010880559683\n",
      "8999 0.00283680553548038\n",
      "9049 0.002974514616653323\n",
      "9099 0.002646675333380699\n",
      "9149 0.002870798110961914\n",
      "9199 0.003022170392796397\n",
      "9249 0.002814598847180605\n",
      "9299 0.002764082280918956\n",
      "9349 0.002824841532856226\n",
      "9399 0.0028529991395771503\n",
      "9449 0.0028882038313895464\n",
      "9499 0.0027869646437466145\n",
      "9549 0.0028559572529047728\n",
      "9599 0.0027987377252429724\n",
      "9649 0.003179236315190792\n",
      "9699 0.0034150611609220505\n",
      "9749 0.0031538100447505713\n",
      "9799 0.002981795696541667\n",
      "9849 0.002924766391515732\n",
      "9899 0.0031614527106285095\n",
      "9949 0.0028132880106568336\n",
      "9999 0.002810599748045206\n"
     ]
    }
   ],
   "source": [
    "score_list = []\n",
    "\n",
    "#for i in tnrange(iter_no):\n",
    "for i in tnrange(10000):  \n",
    "    s = time.time()\n",
    "    model.train()\n",
    "    optimizer.zero_grad()\n",
    "    \n",
    "    batch_idx = train_idx[i]\n",
    "    batch_S = S_train[batch_idx].to(device)\n",
    "    batch_V1 = V1_train[batch_idx].to(device)\n",
    "    batch_V1_lag = V1_lag_train[batch_idx].to(device)\n",
    "    batch_V2 = V2_train[batch_idx].to(device)\n",
    "    batch_V2_lag = V2_lag_train[batch_idx].to(device)\n",
    "    \n",
    "    batch_V_in = torch.zeros(batch_size, batch_length, 2*(lag+1)).to(device)\n",
    "    batch_V_in[:,:,0] = batch_V1\n",
    "    batch_V_in[:,:,1:lag+1] = batch_V1_lag\n",
    "    batch_V_in[:,:,lag+1] = batch_V2\n",
    "    batch_V_in[:,:,lag+2:2*lag+2] = batch_V2_lag\n",
    "    \n",
    "    S_out = model(batch_V_in)\n",
    "    loss = bce_criterion(S_out, batch_S)\n",
    "    \n",
    "    loss.backward()\n",
    "    nn.utils.clip_grad_norm_(model.parameters(), 10)\n",
    "    optimizer.step()\n",
    "    \n",
    "    step_time = time.time() - s\n",
    "    \n",
    "    if (i%50 == 49) or (i == 0):\n",
    "        model.eval()\n",
    "        V_test_in = torch.zeros(batch_size, batch_length, 2*(lag+1)).to(device)\n",
    "        V_test_in[:,:,0] = V1_test\n",
    "        V_test_in[:,:,1:lag+1] = V1_lag_test\n",
    "        V_test_in[:,:,lag+1] = V2_test\n",
    "        V_test_in[:,:,lag+2:2*lag+2] = V2_lag_test\n",
    "        \n",
    "        test_S_out = model(V_test_in)\n",
    "        test_loss = bce_criterion(test_S_out, S_test).item()\n",
    "        \n",
    "        score_list.append(test_loss)\n",
    "        print(i, test_loss)"
   ]
  },
  {
   "cell_type": "code",
   "execution_count": null,
   "id": "f591ea9b",
   "metadata": {},
   "outputs": [],
   "source": []
  },
  {
   "cell_type": "code",
   "execution_count": 7,
   "id": "e006b31b",
   "metadata": {},
   "outputs": [
    {
     "data": {
      "text/plain": [
       "[<matplotlib.lines.Line2D at 0x7f0bdc468250>]"
      ]
     },
     "execution_count": 7,
     "metadata": {},
     "output_type": "execute_result"
    },
    {
     "data": {
      "image/png": "[encoded data removed]",
      "text/plain": [
       "<Figure size 432x288 with 1 Axes>"
      ]
     },
     "metadata": {
      "needs_background": "light"
     },
     "output_type": "display_data"
    }
   ],
   "source": [
    "plt.plot(np.asarray(score_list)[20:])"
   ]
  },
  {
   "cell_type": "code",
   "execution_count": 8,
   "id": "ad66af8b",
   "metadata": {},
   "outputs": [
    {
     "name": "stdout",
     "output_type": "stream",
     "text": [
      "tensor(0.9996, device='cuda:0', grad_fn=<MaxBackward1>)\n"
     ]
    },
    {
     "data": {
      "image/png": "[encoded data removed]",
      "text/plain": [
       "<Figure size 1080x360 with 1 Axes>"
      ]
     },
     "metadata": {
      "needs_background": "light"
     },
     "output_type": "display_data"
    }
   ],
   "source": [
    "plt.figure(figsize = (15,5))\n",
    "plt.plot(S_test[0].cpu().detach().numpy())\n",
    "plt.plot(test_S_out[1].cpu().detach().numpy())\n",
    "#plt.xlim(4500,5200)\n",
    "#plt.ylim(-1,10)\n",
    "print(torch.max(test_S_out))"
   ]
  },
  {
   "cell_type": "code",
   "execution_count": 10,
   "id": "780f8cd8",
   "metadata": {},
   "outputs": [],
   "source": [
    "#torch.save(model.state_dict(), \"/media/hdd01/sklee/CA1_clust4-60_aSoma/na_true_late/gru_l20_h40_5ms.pt\")\n",
    "#np.save(\"/media/hdd01/sklee/CA1_clust4-60_aSoma/na_true_late/gru_l20_h40_5ms_test.npy\", test_S_out.cpu().detach().numpy())"
   ]
  },
  {
   "cell_type": "code",
   "execution_count": null,
   "id": "220095ad",
   "metadata": {},
   "outputs": [],
   "source": []
  }
 ],
 "metadata": {
  "kernelspec": {
   "display_name": "Python 3",
   "language": "python",
   "name": "python3"
  },
  "language_info": {
   "codemirror_mode": {
    "name": "ipython",
    "version": 3
   },
   "file_extension": ".py",
   "mimetype": "text/x-python",
   "name": "python",
   "nbconvert_exporter": "python",
   "pygments_lexer": "ipython3",
   "version": "3.8.8"
  }
 },
 "nbformat": 4,
 "nbformat_minor": 5
}
