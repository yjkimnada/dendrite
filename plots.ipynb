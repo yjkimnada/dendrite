{
 "cells": [
  {
   "cell_type": "code",
   "execution_count": 47,
   "metadata": {},
   "outputs": [],
   "source": [
    "import numpy as np\n",
    "import matplotlib.pyplot as plt\n",
    "from sklearn.metrics import explained_variance_score"
   ]
  },
  {
   "cell_type": "markdown",
   "metadata": {
    "heading_collapsed": true
   },
   "source": [
    "## Naive fit"
   ]
  },
  {
   "cell_type": "code",
   "execution_count": 7,
   "metadata": {
    "hidden": true
   },
   "outputs": [],
   "source": [
    "rnn = np.load(\"/media/hdd01/sklee/CA1_clust4-60/gru_whole_h50_output.npy\")\n",
    "glm1 = np.load(\"/media/hdd01/sklee/CA1_clust4-60/glm_whole_s10_h1_output.npz\")[\"test\"]\n",
    "glm2 = np.load(\"/media/hdd01/sklee/CA1_clust4-60/glm_whole_s10_h2_output.npz\")[\"test\"]\n",
    "tcn = np.load(\"/media/hdd01/sklee/CA1_clust4-60/tcn_whole_s10_h15_output.npy\")\n",
    "true = np.load(\"/media/hdd01/sklee/CA1_clust4-60/data/vdata_T10_Ne2000_gA0.6_tauA1_gN0.8_Ni200_gG0.1_gB0.1_Er0.5_Ir7.4_random_NR_rep1000_stimseed1.npy\")[999,:50000]\n",
    "true -= np.mean(true)\n",
    "\n",
    "rnn_resid = true - rnn\n",
    "glm1_resid = true - glm1\n",
    "glm2_resid = true - glm2\n",
    "tcn_resid = true - tcn"
   ]
  },
  {
   "cell_type": "code",
   "execution_count": 59,
   "metadata": {
    "hidden": true
   },
   "outputs": [],
   "source": [
    "fig, axs = plt.subplots(nrows=2, figsize = (20,10))\n",
    "\n",
    "axs[0].plot(np.arange(0,3,1/5000), true[15000:30000], linewidth=2, alpha=1, color=\"black\", label=\"TRUE\")\n",
    "axs[0].plot(np.arange(0,3,1/5000), glm1[15000:30000], linewidth=1, alpha=0.7, color=\"blue\", label=\"GLM_1\")\n",
    "axs[0].plot(np.arange(0,3,1/5000), glm2[15000:30000], linewidth=1, alpha=0.7, color=\"red\", label=\"GLM_2\")\n",
    "axs[0].plot(np.arange(0,3,1/5000), rnn[15000:30000], linewidth=1, alpha=0.7, color=\"green\", label=\"RNN/GRU\")\n",
    "axs[0].plot(np.arange(0,3,1/5000), tcn[15000:30000], linewidth=1, alpha=0.7, color=\"purple\", label=\"TCN\")\n",
    "axs[0].legend()\n",
    "axs[0].set_title(\"Test whole voltage predictions\")\n",
    "\n",
    "axs[1].plot(np.arange(0,3,1/5000), glm1_resid[15000:30000], linewidth=1, alpha=0.7, color=\"blue\", label=\"GLM_1\")\n",
    "axs[1].plot(np.arange(0,3,1/5000), glm2_resid[15000:30000]+1.5, linewidth=1, alpha=0.7, color=\"red\", label=\"GLM_2\")\n",
    "axs[1].plot(np.arange(0,3,1/5000), rnn_resid[15000:30000]+3, linewidth=1, alpha=0.7, color=\"green\", label=\"RNN/GRU\")\n",
    "axs[1].plot(np.arange(0,3,1/5000), tcn_resid[15000:30000]+4.5, linewidth=1, alpha=1, color=\"purple\", label=\"TCN\")\n",
    "axs[1].legend()\n",
    "axs[1].set_yticks([])\n",
    "axs[1].set_title(\"Test whole voltage residuals (Vertically shifted for easy viewing)\")\n",
    "\n",
    "#plt.show()\n",
    "#plt.savefig(\"/media/hdd01/sklee/CA1_clust4-60/plots/naive_fit.png\", \n",
    "               bbox_inches='tight', dpi=150)\n",
    "plt.close()"
   ]
  },
  {
   "cell_type": "code",
   "execution_count": 9,
   "metadata": {
    "hidden": true
   },
   "outputs": [
    {
     "data": {
      "image/png": "[encoded data removed]",
      "text/plain": [
       "<Figure size 504x360 with 1 Axes>"
      ]
     },
     "metadata": {
      "needs_background": "light"
     },
     "output_type": "display_data"
    }
   ],
   "source": [
    "labels = ['GLM_1 \\n(2,700 params)',\n",
    "          'GLM_2 \\n(3,200 params)',\n",
    "          'RNN \\n(78,000 params)',\n",
    "          'TCN \\n(239,000 params)']\n",
    "whole_mse = [np.mean(glm1_resid**2),\n",
    "     np.mean(glm2_resid**2),\n",
    "     np.mean(rnn_resid**2),\n",
    "     np.mean(tcn_resid**2)]\n",
    "spike_mse = [np.mean(glm1_resid[15000:30000]**2),\n",
    "     np.mean(glm2_resid[15000:30000]**2),\n",
    "     np.mean(rnn_resid[15000:30000]**2),\n",
    "     np.mean(tcn_resid[15000:30000]**2)]\n",
    "whole_score = [\n",
    "    explained_variance_score(true, glm1),\n",
    "    explained_variance_score(true, glm2),\n",
    "    explained_variance_score(true, rnn),\n",
    "    explained_variance_score(true, tcn)\n",
    "]\n",
    "spike_score = [\n",
    "    explained_variance_score(true[15000:30000], glm1[15000:30000]),\n",
    "    explained_variance_score(true[15000:30000], glm2[15000:30000]),\n",
    "    explained_variance_score(true[15000:30000], rnn[15000:30000]),\n",
    "    explained_variance_score(true[15000:30000], tcn[15000:30000])\n",
    "]\n",
    "\n",
    "x = np.arange(len(labels))  # the label locations\n",
    "width = 0.35  # the width of the bars\n",
    "\n",
    "fig, ax = plt.subplots(figsize = (7,5))\n",
    "rects1 = ax.bar(x - width/2, whole_score, width, label='Full 10 secs.', color=\"gray\")\n",
    "rects2 = ax.bar(x + width/2, spike_score, width, label='Middle 3 secs.', color=\"red\")\n",
    "\n",
    "# Add some text for labels, title and custom x-axis tick labels, etc.\n",
    "ax.set_ylabel('Var Exp')\n",
    "ax.set_title('Whole voltage Var Exp')\n",
    "ax.set_xticks(x)\n",
    "ax.set_xticklabels(labels)\n",
    "ax.legend()\n",
    "\n",
    "plt.show()\n",
    "#plt.savefig(\"/media/hdd01/sklee/CA1_clust4-60/plots/naive_fit_var_exp.png\", \n",
    "               #bbox_inches='tight', dpi=150)\n",
    "#plt.close()"
   ]
  },
  {
   "cell_type": "markdown",
   "metadata": {},
   "source": [
    "## Differential fit"
   ]
  },
  {
   "cell_type": "code",
   "execution_count": 48,
   "metadata": {},
   "outputs": [],
   "source": [
    "true = np.load(\"/media/hdd01/sklee/CA1_clust4-60/data/V_diff.npy\")[-50000:]\n",
    "glm1 = np.load(\"/media/hdd01/sklee/CA1_clust4-60/glm_diff_s10_h1_output.npz\")[\"test\"]\n",
    "glm2 = np.load(\"/media/hdd01/sklee/CA1_clust4-60/glm_diff_s10_h2_output.npz\")[\"test\"]\n",
    "gru = np.load(\"/media/hdd01/sklee/CA1_clust4-60/gru_diff_s4_h15_output.npy\")\n",
    "\n",
    "glm1_resid = true - glm1\n",
    "glm2_resid = true - glm2\n",
    "gru_resid = true - gru\n",
    "glm1_score = np.round(explained_variance_score(true, glm1), 5)\n",
    "glm2_score = np.round(explained_variance_score(true, glm2), 5)\n",
    "gru_score = np.round(explained_variance_score(true, gru), 5)"
   ]
  },
  {
   "cell_type": "code",
   "execution_count": 49,
   "metadata": {},
   "outputs": [],
   "source": [
    "fig, axs = plt.subplots(nrows=3, figsize = (18,14))\n",
    "\n",
    "axs[0].plot(np.arange(0,2,1/5000), true[17000:27000], color=\"gray\", label=\"TRUE\", linewidth=1)\n",
    "axs[0].plot(np.arange(0,2,1/5000), glm1[17000:27000], color=\"blue\", label=\"GLM_1\", linewidth=1)\n",
    "axs[0].set_title(\"1-plex GLM differntial voltage prediction; Var Exp: \"+str(glm1_score))\n",
    "axs[0].set_xlabel(\"Time (s)\")\n",
    "axs[0].set_ylabel(\"Voltage (mV)\")\n",
    "\n",
    "axs[1].plot(np.arange(0,2,1/5000), true[17000:27000], color=\"gray\", label=\"TRUE\", linewidth=1)\n",
    "axs[1].plot(np.arange(0,2,1/5000), glm2[17000:27000], color=\"red\", label=\"GLM_2\", linewidth=1)\n",
    "axs[1].set_title(\"2-plex GLM differntial voltage prediction; Var Exp: \"+str(glm2_score))\n",
    "axs[1].set_xlabel(\"Time (s)\")\n",
    "axs[1].set_ylabel(\"Voltage (mV)\")\n",
    "\n",
    "axs[2].plot(np.arange(0,2,1/5000), true[17000:27000], color=\"gray\", label=\"TRUE\", linewidth=1)\n",
    "axs[2].plot(np.arange(0,2,1/5000), gru[17000:27000], color=\"purple\", label=\"GRU\", linewidth=1)\n",
    "axs[2].set_title(\"Subunit GRU differntial voltage prediction; Var Exp: \"+str(gru_score))\n",
    "axs[2].set_xlabel(\"Time (s)\")\n",
    "axs[2].set_ylabel(\"Voltage (mV)\")\n",
    "\n",
    "#plt.show()\n",
    "plt.savefig(\"/media/hdd01/sklee/CA1_clust4-60/plots/diff_fit.png\", \n",
    "               bbox_inches='tight', dpi=150)\n",
    "plt.close()"
   ]
  },
  {
   "cell_type": "markdown",
   "metadata": {
    "heading_collapsed": true
   },
   "source": [
    "## Combined fit"
   ]
  },
  {
   "cell_type": "code",
   "execution_count": 31,
   "metadata": {
    "hidden": true
   },
   "outputs": [],
   "source": [
    "true = np.load(\"/media/hdd01/sklee/CA1_clust4-60/data/vdata_T10_Ne2000_gA0.6_tauA1_gN0.8_Ni200_gG0.1_gB0.1_Er0.5_Ir7.4_random_NR_rep1000_stimseed1.npy\")[999,:50000]\n",
    "true -= np.mean(true)\n",
    "\n",
    "rnn = np.load(\"/media/hdd01/sklee/CA1_clust4-60/gru_whole_h50_output.npy\")\n",
    "glm = np.load(\"/media/hdd01/sklee/CA1_clust4-60/glm_nona_s10_h1_output.npz\")[\"test\"]\n",
    "tcn = np.load(\"/media/hdd01/sklee/CA1_clust4-60/tcn_whole_s10_h15_output.npy\")\n",
    "\n",
    "glm1_diff = np.load(\"/media/hdd01/sklee/CA1_clust4-60/glm_diff_s10_h1_output.npz\")[\"test\"]\n",
    "glm2_diff = np.load(\"/media/hdd01/sklee/CA1_clust4-60/glm_diff_s10_h2_output.npz\")[\"test\"]\n",
    "gru_diff = np.load(\"/media/hdd01/sklee/CA1_clust4-60/gru_diff_s4_h15_output.npy\")\n",
    "\n",
    "glm1_whole = np.load(\"/media/hdd01/sklee/CA1_clust4-60/glm_whole_s10_h1_output.npz\")[\"test\"]\n",
    "glm2_whole = np.load(\"/media/hdd01/sklee/CA1_clust4-60/glm_whole_s10_h2_output.npz\")[\"test\"]\n",
    "\n",
    "glm1 = glm1_diff + glm\n",
    "glm2 = glm2_diff + glm\n",
    "gru = gru_diff + glm\n",
    "\n",
    "glm1_resid = true - glm1\n",
    "glm2_resid = true - glm2\n",
    "gru_resid = true - gru\n",
    "rnn_resid = true - rnn\n",
    "tcn_resid = true - tcn\n",
    "glm1_whole_resid = true - glm1_whole\n",
    "glm2_whole_resid = true - glm2_whole"
   ]
  },
  {
   "cell_type": "code",
   "execution_count": 32,
   "metadata": {
    "hidden": true
   },
   "outputs": [],
   "source": [
    "labels = ['GLM_1 \\n(2,700 params)',\n",
    "            'GLM_2 \\n (3,200 params)',\n",
    "            '2stage_GLM_1 \\n(5,900 params)',\n",
    "          '2stage_GLM_2 \\n(6,400 params)',\n",
    "          'GRU \\n(8,500 params)',\n",
    "          'RNN \\n(78,000 params)',\n",
    "          'TCN \\n(239,000 params)']\n",
    "whole_mse = [np.mean(glm1_whole_resid**2),\n",
    "    np.mean(glm2_whole_resid**2),\n",
    "    np.mean(glm1_resid**2),\n",
    "     np.mean(glm2_resid**2),\n",
    "     np.mean(gru_resid**2),\n",
    "     np.mean(rnn_resid**2),\n",
    "     np.mean(tcn_resid**2)]\n",
    "spike_mse = [np.mean(glm1_whole_resid[15000:30000]**2),\n",
    "    np.mean(glm2_whole_resid[15000:30000]**2),\n",
    "    np.mean(glm1_resid[15000:30000]**2),\n",
    "     np.mean(glm2_resid[15000:30000]**2),\n",
    "     np.mean(gru_resid[15000:30000]**2),\n",
    "     np.mean(rnn_resid[15000:30000]**2),\n",
    "     np.mean(tcn_resid[15000:30000]**2)]\n",
    "\n",
    "x = np.arange(len(labels))  # the label locations\n",
    "width = 0.35  # the width of the bars\n",
    "\n",
    "fig, ax = plt.subplots(figsize = (13,5))\n",
    "rects1 = ax.bar(x - width/2, whole_mse, width, label='Full 10 secs.', color=\"gray\")\n",
    "rects2 = ax.bar(x + width/2, spike_mse, width, label='Middle 3 secs.', color=\"red\")\n",
    "\n",
    "# Add some text for labels, title and custom x-axis tick labels, etc.\n",
    "ax.set_ylabel('MSE')\n",
    "ax.set_title('Whole voltage MSE')\n",
    "ax.set_xticks(x)\n",
    "ax.set_xticklabels(labels)\n",
    "ax.legend()\n",
    "\n",
    "#ax.set_ylim(0.9,1)\n",
    "\n",
    "#plt.show()\n",
    "plt.savefig(\"/media/hdd01/sklee/CA1_clust4-60/plots/2stage_fit_mse.png\", \n",
    "               bbox_inches='tight', dpi=150)\n",
    "plt.close()"
   ]
  },
  {
   "cell_type": "code",
   "execution_count": 28,
   "metadata": {
    "hidden": true
   },
   "outputs": [],
   "source": [
    "fig, axs = plt.subplots(nrows = 3, figsize = (15,15))\n",
    "\n",
    "axs[0].plot(np.arange(0,2,1/5000), true[17000:27000], linewidth=1, color=\"gray\")\n",
    "axs[0].plot(np.arange(0,2,1/5000), glm2[17000:27000], linewidth=1, color=\"red\")\n",
    "axs[0].set_xlabel(\"Time (s)\")\n",
    "axs[0].set_ylabel(\"Voltage\")\n",
    "axs[0].set_title(\"2-stage 2-plex GLM whole voltage prediction\")\n",
    "\n",
    "axs[1].plot(np.arange(0,2,1/5000), true[17000:27000], linewidth=1, color=\"gray\")\n",
    "axs[1].plot(np.arange(0,2,1/5000), gru[17000:27000], linewidth=1, color=\"purple\")\n",
    "axs[1].set_xlabel(\"Time (s)\")\n",
    "axs[1].set_ylabel(\"Voltage\")\n",
    "axs[1].set_title(\"2-stage GRU+GLM whole voltage prediction\")\n",
    "\n",
    "axs[2].plot(np.arange(0,2,1/5000), true[17000:27000], linewidth=1, color=\"gray\")\n",
    "axs[2].plot(np.arange(0,2,1/5000), tcn[17000:27000], linewidth=1, color=\"blue\")\n",
    "axs[2].set_xlabel(\"Time (s)\")\n",
    "axs[2].set_ylabel(\"Voltage\")\n",
    "axs[2].set_title(\"TCN whole voltage prediction\")\n",
    "\n",
    "#plt.show()\n",
    "#plt.savefig(\"/media/hdd01/sklee/CA1_clust4-60/plots/2stage_fit.png\", \n",
    "               bbox_inches='tight', dpi=150)\n",
    "#plt.close()"
   ]
  },
  {
   "cell_type": "markdown",
   "metadata": {
    "heading_collapsed": true
   },
   "source": [
    "## 2-stage GLM Filters"
   ]
  },
  {
   "cell_type": "code",
   "execution_count": 73,
   "metadata": {
    "hidden": true
   },
   "outputs": [],
   "source": [
    "glm_e = np.load(\"/media/hdd01/sklee/CA1_clust4-60/glm_nona_s10_h1_output.npz\")[\"kern_e\"][-4:]\n",
    "glm2 = np.load(\"/media/hdd01/sklee/CA1_clust4-60/glm_diff_s10_h2_output.npz\")[\"kern_e\"][-8:]\n",
    "\n",
    "e_idx = [1,2,5,7]\n",
    "i_idx = [0,3,4,6]"
   ]
  },
  {
   "cell_type": "code",
   "execution_count": 74,
   "metadata": {
    "hidden": true
   },
   "outputs": [],
   "source": [
    "fig, axs = plt.subplots(nrows=3, ncols=4, figsize = (20,12))\n",
    "\n",
    "for col in range(4):\n",
    "    nona_max = np.argmax(glm_e[col]) / 5\n",
    "    e_max = np.argmax(glm2[e_idx[col]]) / 5\n",
    "    i_max = np.argmin(glm2[i_idx[col]]) / 5\n",
    "    \n",
    "    axs[0,col].plot(np.arange(0,100,1/5), glm_e[col], color=\"green\", label=str(nona_max))\n",
    "    axs[1,col].plot(np.arange(0,100,1/5), glm2[e_idx[col]], color=\"red\", label=str(e_max))\n",
    "    axs[2,col].plot(np.arange(0,100,1/5), glm2[i_idx[col]], color=\"blue\", label=str(i_max))\n",
    "    axs[0,col].legend()\n",
    "    axs[1,col].legend()\n",
    "    axs[2,col].legend()\n",
    "    \n",
    "    axs[0,col].hlines(y=0, xmin=0, xmax=100, linestyle=\"--\", color=\"gray\", linewidth=1)\n",
    "    axs[1,col].hlines(y=0, xmin=0, xmax=100, linestyle=\"--\", color=\"gray\", linewidth=1)\n",
    "    axs[2,col].hlines(y=0, xmin=0, xmax=100, linestyle=\"--\", color=\"gray\", linewidth=1)\n",
    "    \n",
    "    axs[0,col].set_title(\"Subunit \"+str(col)+\" E filter (No Na+ voltage)\")\n",
    "    axs[1,col].set_title(\"Subunit \"+str(col)+\" E filter (Na+ only voltage)\")\n",
    "    axs[2,col].set_title(\"Subunit \"+str(col)+\" I filter (Na+ only voltage)\")\n",
    "    \n",
    "#plt.savefig(\"/media/hdd01/sklee/CA1_clust4-60/plots/2stage_glm_filters.png\", \n",
    "               bbox_inches='tight', dpi=150)\n",
    "#plt.close()"
   ]
  },
  {
   "cell_type": "markdown",
   "metadata": {},
   "source": [
    "## Clust fit"
   ]
  },
  {
   "cell_type": "code",
   "execution_count": 6,
   "metadata": {},
   "outputs": [],
   "source": [
    "C_syn_e = np.load(\"/media/hdd01/sklee/CA1_clust4-60/glm_diff_clust_s8_h2_output.npz\")[\"C_syn_e\"]\n",
    "E_scale = np.load(\"/media/hdd01/sklee/CA1_clust4-60/glm_diff_clust_s8_h2_output.npz\")[\"scale_e\"]\n",
    "eloc = np.load(\"/media/hdd01/sklee/CA1_clust4-60/data/Elocs_T10_Ne2000_gA0.6_tauA1_gN0.8_Ni200_gG0.1_gB0.1_Er0.5_Ir7.4_random_NR_rep1000_stimseed1.npy\")\n",
    "\n",
    "true = np.load(\"/media/hdd01/sklee/CA1_clust4-60/data/V_diff.npy\")[-50000:]\n",
    "glm2 = np.load(\"/media/hdd01/sklee/CA1_clust4-60/glm_diff_s10_h2_output.npz\")[\"test\"]\n",
    "glm2_clust = np.load(\"/media/hdd01/sklee/CA1_clust4-60/glm_diff_clust_s8_h2_output.npz\")[\"test\"]\n",
    "\n",
    "glm2_resid = true - glm2\n",
    "glm2_clust_resid = true - glm2_clust"
   ]
  },
  {
   "cell_type": "code",
   "execution_count": 22,
   "metadata": {},
   "outputs": [
    {
     "data": {
      "text/plain": [
       "<matplotlib.collections.PathCollection at 0x7f95b9c954c0>"
      ]
     },
     "execution_count": 22,
     "metadata": {},
     "output_type": "execute_result"
    },
    {
     "data": {
      "image/png": "[encoded data removed]",
      "text/plain": [
       "<Figure size 1080x360 with 1 Axes>"
      ]
     },
     "metadata": {
      "needs_background": "light"
     },
     "output_type": "display_data"
    }
   ],
   "source": [
    "plt.figure(figsize = (15,5))\n",
    "plt.scatter(eloc[880:1120,1], np.exp(E_scale)[880:1120])\n",
    "plt.title(\"Learned synaptic weight vs. \")"
   ]
  },
  {
   "cell_type": "code",
   "execution_count": 23,
   "metadata": {},
   "outputs": [],
   "source": [
    "C_syn_plot = np.zeros((240))\n",
    "for e in range(240):\n",
    "    C_syn_plot[e] = np.argmax(C_syn_e[:,e+880])"
   ]
  },
  {
   "cell_type": "code",
   "execution_count": 24,
   "metadata": {},
   "outputs": [
    {
     "data": {
      "text/plain": [
       "<matplotlib.collections.PathCollection at 0x7f95b9bf3160>"
      ]
     },
     "execution_count": 24,
     "metadata": {},
     "output_type": "execute_result"
    },
    {
     "data": {
      "image/png": "[encoded data removed]",
      "text/plain": [
       "<Figure size 432x288 with 1 Axes>"
      ]
     },
     "metadata": {
      "needs_background": "light"
     },
     "output_type": "display_data"
    }
   ],
   "source": [
    "plt.scatter(np.arange(240), C_syn_plot)"
   ]
  },
  {
   "cell_type": "code",
   "execution_count": 10,
   "metadata": {},
   "outputs": [],
   "source": [
    "fig, axs = plt.subplots(nrows = 2, figsize = (15,10))\n",
    "\n",
    "axs[0].plot(np.arange(0,2,1/5000), true[17000:27000], linewidth=1, color=\"gray\", label=\"True\")\n",
    "axs[0].plot(np.arange(0,2,1/5000), glm2[17000:27000], linewidth=1, color=\"blue\", label=\"True\")\n",
    "axs[0].set_title(\"2-plex GLM differential voltage prediction; MSE: \"+str(np.round(np.mean(glm2_resid**2), 5)))\n",
    "\n",
    "axs[1].plot(np.arange(0,2,1/5000), true[17000:27000], linewidth=1, color=\"gray\", label=\"True\")\n",
    "axs[1].plot(np.arange(0,2,1/5000), glm2_clust[17000:27000], linewidth=1, color=\"red\", label=\"True\")\n",
    "axs[1].set_title(\"Clustering 2-plex GLM differential voltage prediction; MSE: \"+str(np.round(np.mean(glm2_clust_resid**2), 5)))\n",
    "\n",
    "#plt.show()\n",
    "\n",
    "plt.savefig(\"/media/hdd01/sklee/CA1_clust4-60/plots/clust_glm_diff_fit.png\", \n",
    "               bbox_inches='tight', dpi=150)\n",
    "plt.close()"
   ]
  },
  {
   "cell_type": "code",
   "execution_count": null,
   "metadata": {},
   "outputs": [],
   "source": []
  }
 ],
 "metadata": {
  "kernelspec": {
   "display_name": "Python 3",
   "language": "python",
   "name": "python3"
  },
  "language_info": {
   "codemirror_mode": {
    "name": "ipython",
    "version": 3
   },
   "file_extension": ".py",
   "mimetype": "text/x-python",
   "name": "python",
   "nbconvert_exporter": "python",
   "pygments_lexer": "ipython3",
   "version": "3.8.5"
  }
 },
 "nbformat": 4,
 "nbformat_minor": 4
}
