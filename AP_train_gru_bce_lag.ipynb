{
 "cells": [
  {
   "cell_type": "code",
   "execution_count": 1,
   "id": "e7faa469",
   "metadata": {},
   "outputs": [],
   "source": [
    "import numpy as np\n",
    "import torch \n",
    "import torch.nn as nn\n",
    "from tqdm import tnrange\n",
    "import torch.optim as optim\n",
    "import torch.nn.functional as F\n",
    "from sklearn import metrics\n",
    "import matplotlib.pyplot as plt\n",
    "import time\n",
    "from sklearn.metrics import explained_variance_score"
   ]
  },
  {
   "cell_type": "code",
   "execution_count": 2,
   "id": "8753064b",
   "metadata": {},
   "outputs": [],
   "source": [
    "class AP_GRU_Lag(nn.Module):\n",
    "    def __init__(self, H_no, lag, device):\n",
    "        super().__init__()\n",
    "        \n",
    "        self.H_no = H_no\n",
    "        self.device = device\n",
    "        \n",
    "        self.rnn = nn.GRU(lag+1, H_no, batch_first=True)\n",
    "        self.linear = nn.Linear(H_no, 1)\n",
    "        \n",
    "    def forward(self, V):\n",
    "        #V is shape (batch, 50000, lag+1)\n",
    "\n",
    "        rnn_out, _ = self.rnn(V) #(batch,50000,H)\n",
    "        rnn_out = rnn_out.reshape(-1,self.H_no)\n",
    "        lin_out = self.linear(rnn_out) #(batch*50000,1)\n",
    "        final = torch.sigmoid(lin_out.reshape(V.shape[0], V.shape[1]))\n",
    "        \n",
    "        return final\n",
    "\n"
   ]
  },
  {
   "cell_type": "code",
   "execution_count": 3,
   "id": "6e8d732d",
   "metadata": {},
   "outputs": [
    {
     "name": "stdout",
     "output_type": "stream",
     "text": [
      "torch.Size([1000, 250, 20])\n"
     ]
    }
   ],
   "source": [
    "batch_size = 20\n",
    "batch_length = 250\n",
    "H_no = 40\n",
    "device = torch.device(\"cuda\")\n",
    "lag = 20\n",
    "\n",
    "epoch_no = 400\n",
    "iter_no = epoch_no * 980 // batch_size\n",
    "\n",
    "#V = np.load(\"/media/hdd01/sklee/CA1_clust4-60_AP/data/vdata_T10_Ne2000_gA0.6_tauA1_gN0.8_Ni200_gG0.1_gB0.1_noDendNa_Er0.5_Ir7.4_random_NR_rep1000_stimseed1.npy\").reshape(-1,50001)[:,:50000]\n",
    "#V = np.load(\"/media/hdd01/sklee/CA1_clust4-60_AP/comb_pred/V_comb_pred_2ms.npy\").reshape(-1,batch_length)\n",
    "V = np.load(\"/media/hdd01/sklee/CA1_clust4-60_AP/ap_true/V_ap_true_40ms.npy\").reshape(-1,batch_length)\n",
    "S = np.load(\"/media/hdd01/sklee/CA1_clust4-60_AP/data/spike_train_40ms.npy\").reshape(-1,batch_length)\n",
    "\n",
    "V-= np.mean(V)\n",
    "\n",
    "V = torch.from_numpy(V)\n",
    "S = torch.from_numpy(S)\n",
    "\n",
    "V_lag = np.zeros((V.shape[0], V.shape[1], lag)) #(lag,1000,50000)\n",
    "for i in range(lag):\n",
    "    V_lag[:,i+1:,i] = V[:,:-i-1]\n",
    "\n",
    "V_lag = torch.from_numpy(V_lag)\n",
    "print(V_lag.shape)"
   ]
  },
  {
   "cell_type": "code",
   "execution_count": 4,
   "id": "bfda0478",
   "metadata": {},
   "outputs": [
    {
     "name": "stdout",
     "output_type": "stream",
     "text": [
      "torch.Size([19600, 20])\n"
     ]
    }
   ],
   "source": [
    "V_train = V[:980].float()\n",
    "V_test = V[980:].float().to(device)\n",
    "S_train = S[:980].float()\n",
    "S_test = S[980:].float().to(device)\n",
    "V_lag_train = V_lag[:980].float()\n",
    "V_lag_test = V_lag[980:].float().to(device)\n",
    "\n",
    "train_idx = np.empty((epoch_no, 980))\n",
    "for i in range(epoch_no):\n",
    "    part_idx = np.arange(0,980,1)\n",
    "    np.random.shuffle(part_idx)\n",
    "    train_idx[i] = part_idx\n",
    "train_idx = train_idx.reshape(-1, batch_size)\n",
    "train_idx = torch.from_numpy(train_idx).long()\n",
    "print(train_idx.shape)"
   ]
  },
  {
   "cell_type": "code",
   "execution_count": 5,
   "id": "784b45c2",
   "metadata": {},
   "outputs": [
    {
     "name": "stdout",
     "output_type": "stream",
     "text": [
      "7601\n"
     ]
    }
   ],
   "source": [
    "model = AP_GRU_Lag(H_no, lag, device)\n",
    "optimizer = torch.optim.Adam(model.parameters(), lr = 0.0025)\n",
    "\n",
    "model.to(device).float()\n",
    "print(sum(p.numel() for p in model.parameters() if p.requires_grad))\n",
    "\n",
    "bce_criterion = nn.BCELoss(reduction=\"mean\")"
   ]
  },
  {
   "cell_type": "code",
   "execution_count": 6,
   "id": "84e29a0c",
   "metadata": {
    "scrolled": false
   },
   "outputs": [
    {
     "name": "stderr",
     "output_type": "stream",
     "text": [
      "<ipython-input-6-fa9b8d4e78eb>:3: TqdmDeprecationWarning: Please use `tqdm.notebook.trange` instead of `tqdm.tnrange`\n",
      "  for i in tnrange(iter_no):\n"
     ]
    },
    {
     "data": {
      "application/vnd.jupyter.widget-view+json": {
       "model_id": "d90c27c3fd1c4fae986c635e7d52c177",
       "version_major": 2,
       "version_minor": 0
      },
      "text/plain": [
       "  0%|          | 0/19600 [00:00<?, ?it/s]"
      ]
     },
     "metadata": {},
     "output_type": "display_data"
    },
    {
     "name": "stdout",
     "output_type": "stream",
     "text": [
      "0 0.7289447784423828\n",
      "49 0.08378736674785614\n",
      "99 0.04714081063866615\n",
      "149 0.03439444303512573\n",
      "199 0.02709391340613365\n",
      "249 0.02205313928425312\n",
      "299 0.018495580181479454\n",
      "349 0.016108224168419838\n",
      "399 0.014200227335095406\n",
      "449 0.012948555871844292\n",
      "499 0.010874464176595211\n",
      "549 0.01055869273841381\n",
      "599 0.008522497490048409\n",
      "649 0.00844576582312584\n",
      "699 0.008402939885854721\n",
      "749 0.007327101659029722\n",
      "799 0.006026280578225851\n",
      "849 0.005868859589099884\n",
      "899 0.005490362178534269\n",
      "949 0.005978092551231384\n",
      "999 0.0050201755948364735\n",
      "1049 0.005740236956626177\n",
      "1099 0.004691606853157282\n",
      "1149 0.004416249692440033\n",
      "1199 0.0046971943229436874\n",
      "1249 0.003636297071352601\n",
      "1299 0.003582262434065342\n",
      "1349 0.004116571508347988\n",
      "1399 0.0031937931198626757\n",
      "1449 0.0031014091800898314\n",
      "1499 0.0044812667183578014\n",
      "1549 0.0034633104223757982\n",
      "1599 0.0031788370106369257\n",
      "1649 0.002821953035891056\n",
      "1699 0.003281977726146579\n",
      "1749 0.00250392802990973\n",
      "1799 0.0026540702674537897\n",
      "1849 0.003283540951088071\n",
      "1899 0.0024284033570438623\n",
      "1949 0.002747549209743738\n",
      "1999 0.0024311812594532967\n",
      "2049 0.002367585664615035\n",
      "2099 0.003090349957346916\n",
      "2149 0.0048178923316299915\n",
      "2199 0.0022442699410021305\n",
      "2249 0.002438532654196024\n",
      "2299 0.002130040666088462\n",
      "2349 0.0032770629040896893\n",
      "2399 0.0029905391857028008\n",
      "2449 0.002718570176512003\n",
      "2499 0.00183314667083323\n",
      "2549 0.002738248324021697\n",
      "2599 0.0020589414052665234\n",
      "2649 0.0021144228521734476\n",
      "2699 0.0025952234864234924\n",
      "2749 0.0024804286658763885\n",
      "2799 0.002198450732976198\n",
      "2849 0.002211344428360462\n",
      "2899 0.0024858713150024414\n",
      "2949 0.0030182849150151014\n",
      "2999 0.00189220008905977\n",
      "3049 0.0020214978139847517\n",
      "3099 0.0028935822192579508\n",
      "3149 0.004436562303453684\n",
      "3199 0.0025774904061108828\n",
      "3249 0.002612415701150894\n",
      "3299 0.0032083827536553144\n",
      "3349 0.0018357167718932033\n",
      "3399 0.002256925217807293\n",
      "3449 0.0018364409916102886\n",
      "3499 0.0022208550944924355\n",
      "3549 0.002397147472947836\n",
      "3599 0.002134313341230154\n",
      "3649 0.0022803889587521553\n",
      "3699 0.001895430381409824\n",
      "3749 0.0021065634209662676\n",
      "3799 0.0020883071701973677\n",
      "3849 0.002044690540060401\n",
      "3899 0.0013115116162225604\n",
      "3949 0.0019184668781235814\n",
      "3999 0.00159453134983778\n",
      "4049 0.0012759437086060643\n",
      "4099 0.006623722612857819\n",
      "4149 0.0019678568933159113\n",
      "4199 0.0028332299552857876\n",
      "4249 0.002652873285114765\n",
      "4299 0.0025184452533721924\n",
      "4349 0.0016101100482046604\n",
      "4399 0.0018124907510355115\n",
      "4449 0.003009128151461482\n",
      "4499 0.0018024722812697291\n",
      "4549 0.0036139071453362703\n",
      "4599 0.003066428704187274\n",
      "4649 0.0016669720644131303\n",
      "4699 0.0013514102902263403\n",
      "4749 0.0015860189450904727\n",
      "4799 0.0013360216980800033\n",
      "4849 0.0016462340718135238\n",
      "4899 0.0015156612498685718\n",
      "4949 0.0018014403758570552\n",
      "4999 0.0020120826084166765\n",
      "5049 0.0019986305851489305\n",
      "5099 0.0012945455964654684\n",
      "5149 0.0021993673872202635\n",
      "5199 0.001351912971585989\n",
      "5249 0.0017221278976649046\n",
      "5299 0.0025213214103132486\n",
      "5349 0.0017449629958719015\n",
      "5399 0.0020651936065405607\n",
      "5449 0.0039504170417785645\n",
      "5499 0.0026899008080363274\n",
      "5549 0.002035754267126322\n",
      "5599 0.0021834122017025948\n",
      "5649 0.0018126220675185323\n",
      "5699 0.0019167647697031498\n",
      "5749 0.0021383080165833235\n",
      "5799 0.002672925591468811\n",
      "5849 0.0018263469683006406\n",
      "5899 0.002344326814636588\n",
      "5949 0.004794555716216564\n",
      "5999 0.0020544894505292177\n",
      "6049 0.001895562862046063\n"
     ]
    },
    {
     "ename": "KeyboardInterrupt",
     "evalue": "",
     "output_type": "error",
     "traceback": [
      "\u001b[0;31m---------------------------------------------------------------------------\u001b[0m",
      "\u001b[0;31mKeyboardInterrupt\u001b[0m                         Traceback (most recent call last)",
      "\u001b[0;32m<ipython-input-6-fa9b8d4e78eb>\u001b[0m in \u001b[0;36m<module>\u001b[0;34m\u001b[0m\n\u001b[1;32m     18\u001b[0m     \u001b[0mloss\u001b[0m \u001b[0;34m=\u001b[0m \u001b[0mbce_criterion\u001b[0m\u001b[0;34m(\u001b[0m\u001b[0mS_out\u001b[0m\u001b[0;34m,\u001b[0m \u001b[0mbatch_S\u001b[0m\u001b[0;34m)\u001b[0m\u001b[0;34m\u001b[0m\u001b[0;34m\u001b[0m\u001b[0m\n\u001b[1;32m     19\u001b[0m \u001b[0;34m\u001b[0m\u001b[0m\n\u001b[0;32m---> 20\u001b[0;31m     \u001b[0mloss\u001b[0m\u001b[0;34m.\u001b[0m\u001b[0mbackward\u001b[0m\u001b[0;34m(\u001b[0m\u001b[0;34m)\u001b[0m\u001b[0;34m\u001b[0m\u001b[0;34m\u001b[0m\u001b[0m\n\u001b[0m\u001b[1;32m     21\u001b[0m     \u001b[0mnn\u001b[0m\u001b[0;34m.\u001b[0m\u001b[0mutils\u001b[0m\u001b[0;34m.\u001b[0m\u001b[0mclip_grad_norm_\u001b[0m\u001b[0;34m(\u001b[0m\u001b[0mmodel\u001b[0m\u001b[0;34m.\u001b[0m\u001b[0mparameters\u001b[0m\u001b[0;34m(\u001b[0m\u001b[0;34m)\u001b[0m\u001b[0;34m,\u001b[0m \u001b[0;36m10\u001b[0m\u001b[0;34m)\u001b[0m\u001b[0;34m\u001b[0m\u001b[0;34m\u001b[0m\u001b[0m\n\u001b[1;32m     22\u001b[0m     \u001b[0moptimizer\u001b[0m\u001b[0;34m.\u001b[0m\u001b[0mstep\u001b[0m\u001b[0;34m(\u001b[0m\u001b[0;34m)\u001b[0m\u001b[0;34m\u001b[0m\u001b[0;34m\u001b[0m\u001b[0m\n",
      "\u001b[0;32m~/anaconda3/lib/python3.8/site-packages/torch/tensor.py\u001b[0m in \u001b[0;36mbackward\u001b[0;34m(self, gradient, retain_graph, create_graph, inputs)\u001b[0m\n\u001b[1;32m    243\u001b[0m                 \u001b[0mcreate_graph\u001b[0m\u001b[0;34m=\u001b[0m\u001b[0mcreate_graph\u001b[0m\u001b[0;34m,\u001b[0m\u001b[0;34m\u001b[0m\u001b[0;34m\u001b[0m\u001b[0m\n\u001b[1;32m    244\u001b[0m                 inputs=inputs)\n\u001b[0;32m--> 245\u001b[0;31m         \u001b[0mtorch\u001b[0m\u001b[0;34m.\u001b[0m\u001b[0mautograd\u001b[0m\u001b[0;34m.\u001b[0m\u001b[0mbackward\u001b[0m\u001b[0;34m(\u001b[0m\u001b[0mself\u001b[0m\u001b[0;34m,\u001b[0m \u001b[0mgradient\u001b[0m\u001b[0;34m,\u001b[0m \u001b[0mretain_graph\u001b[0m\u001b[0;34m,\u001b[0m \u001b[0mcreate_graph\u001b[0m\u001b[0;34m,\u001b[0m \u001b[0minputs\u001b[0m\u001b[0;34m=\u001b[0m\u001b[0minputs\u001b[0m\u001b[0;34m)\u001b[0m\u001b[0;34m\u001b[0m\u001b[0;34m\u001b[0m\u001b[0m\n\u001b[0m\u001b[1;32m    246\u001b[0m \u001b[0;34m\u001b[0m\u001b[0m\n\u001b[1;32m    247\u001b[0m     \u001b[0;32mdef\u001b[0m \u001b[0mregister_hook\u001b[0m\u001b[0;34m(\u001b[0m\u001b[0mself\u001b[0m\u001b[0;34m,\u001b[0m \u001b[0mhook\u001b[0m\u001b[0;34m)\u001b[0m\u001b[0;34m:\u001b[0m\u001b[0;34m\u001b[0m\u001b[0;34m\u001b[0m\u001b[0m\n",
      "\u001b[0;32m~/anaconda3/lib/python3.8/site-packages/torch/autograd/__init__.py\u001b[0m in \u001b[0;36mbackward\u001b[0;34m(tensors, grad_tensors, retain_graph, create_graph, grad_variables, inputs)\u001b[0m\n\u001b[1;32m    143\u001b[0m         \u001b[0mretain_graph\u001b[0m \u001b[0;34m=\u001b[0m \u001b[0mcreate_graph\u001b[0m\u001b[0;34m\u001b[0m\u001b[0;34m\u001b[0m\u001b[0m\n\u001b[1;32m    144\u001b[0m \u001b[0;34m\u001b[0m\u001b[0m\n\u001b[0;32m--> 145\u001b[0;31m     Variable._execution_engine.run_backward(\n\u001b[0m\u001b[1;32m    146\u001b[0m         \u001b[0mtensors\u001b[0m\u001b[0;34m,\u001b[0m \u001b[0mgrad_tensors_\u001b[0m\u001b[0;34m,\u001b[0m \u001b[0mretain_graph\u001b[0m\u001b[0;34m,\u001b[0m \u001b[0mcreate_graph\u001b[0m\u001b[0;34m,\u001b[0m \u001b[0minputs\u001b[0m\u001b[0;34m,\u001b[0m\u001b[0;34m\u001b[0m\u001b[0;34m\u001b[0m\u001b[0m\n\u001b[1;32m    147\u001b[0m         allow_unreachable=True, accumulate_grad=True)  # allow_unreachable flag\n",
      "\u001b[0;31mKeyboardInterrupt\u001b[0m: "
     ]
    }
   ],
   "source": [
    "score_list = []\n",
    "\n",
    "for i in tnrange(iter_no):\n",
    "    s = time.time()\n",
    "    model.train()\n",
    "    optimizer.zero_grad()\n",
    "    \n",
    "    batch_idx = train_idx[i]\n",
    "    batch_S = S_train[batch_idx].to(device)\n",
    "    batch_V = V_train[batch_idx].to(device)\n",
    "    batch_V_lag = V_lag_train[batch_idx].to(device)\n",
    "    \n",
    "    batch_V_in = torch.zeros(batch_size, batch_length, lag+1).to(device)\n",
    "    batch_V_in[:,:,0] = batch_V\n",
    "    batch_V_in[:,:,1:] = batch_V_lag\n",
    "    \n",
    "    S_out = model(batch_V_in)\n",
    "    loss = bce_criterion(S_out, batch_S)\n",
    "    \n",
    "    loss.backward()\n",
    "    nn.utils.clip_grad_norm_(model.parameters(), 10)\n",
    "    optimizer.step()\n",
    "    \n",
    "    step_time = time.time() - s\n",
    "    \n",
    "    if (i%50 == 49) or (i == 0):\n",
    "        model.eval()\n",
    "        V_test_in = torch.zeros(batch_size, batch_length, lag+1).to(device)\n",
    "        V_test_in[:,:,0] = V_test\n",
    "        V_test_in[:,:,1:] = V_lag_test\n",
    "        \n",
    "        test_S_out = model(V_test_in)\n",
    "        test_loss = bce_criterion(test_S_out, S_test).item()\n",
    "        \n",
    "        score_list.append(test_loss)\n",
    "        print(i, test_loss)"
   ]
  },
  {
   "cell_type": "code",
   "execution_count": null,
   "id": "f591ea9b",
   "metadata": {},
   "outputs": [],
   "source": []
  },
  {
   "cell_type": "code",
   "execution_count": 7,
   "id": "e006b31b",
   "metadata": {},
   "outputs": [
    {
     "data": {
      "text/plain": [
       "[<matplotlib.lines.Line2D at 0x7f0e79fa21f0>]"
      ]
     },
     "execution_count": 7,
     "metadata": {},
     "output_type": "execute_result"
    },
    {
     "data": {
      "image/png": "[encoded data removed]",
      "text/plain": [
       "<Figure size 432x288 with 1 Axes>"
      ]
     },
     "metadata": {
      "needs_background": "light"
     },
     "output_type": "display_data"
    }
   ],
   "source": [
    "plt.plot(np.asarray(score_list)[20:])"
   ]
  },
  {
   "cell_type": "code",
   "execution_count": 8,
   "id": "ad66af8b",
   "metadata": {},
   "outputs": [
    {
     "name": "stdout",
     "output_type": "stream",
     "text": [
      "tensor(1.0000, device='cuda:0', grad_fn=<MaxBackward1>)\n"
     ]
    },
    {
     "data": {
      "image/png": "[encoded data removed]",
      "text/plain": [
       "<Figure size 1080x360 with 1 Axes>"
      ]
     },
     "metadata": {
      "needs_background": "light"
     },
     "output_type": "display_data"
    }
   ],
   "source": [
    "plt.figure(figsize = (15,5))\n",
    "plt.plot(S_test[0].cpu().detach().numpy())\n",
    "plt.plot(test_S_out[1].cpu().detach().numpy())\n",
    "#plt.xlim(4500,5200)\n",
    "#plt.ylim(-1,10)\n",
    "print(torch.max(test_S_out))"
   ]
  },
  {
   "cell_type": "code",
   "execution_count": 7,
   "id": "780f8cd8",
   "metadata": {},
   "outputs": [],
   "source": [
    "#torch.save(model.state_dict(), \"/media/hdd01/sklee/CA1_clust4-60_AP/ap_true/gru_l20_h40_40ms.pt\")\n",
    "#np.save(\"/media/hdd01/sklee/CA1_clust4-60_AP/ap_true/gru_l20_h40_40ms_test.npy\", test_S_out.cpu().detach().numpy())"
   ]
  },
  {
   "cell_type": "code",
   "execution_count": null,
   "id": "220095ad",
   "metadata": {},
   "outputs": [],
   "source": []
  }
 ],
 "metadata": {
  "kernelspec": {
   "display_name": "Python 3",
   "language": "python",
   "name": "python3"
  },
  "language_info": {
   "codemirror_mode": {
    "name": "ipython",
    "version": 3
   },
   "file_extension": ".py",
   "mimetype": "text/x-python",
   "name": "python",
   "nbconvert_exporter": "python",
   "pygments_lexer": "ipython3",
   "version": "3.8.8"
  }
 },
 "nbformat": 4,
 "nbformat_minor": 5
}
