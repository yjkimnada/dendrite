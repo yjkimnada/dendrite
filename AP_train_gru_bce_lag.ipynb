{
 "cells": [
  {
   "cell_type": "code",
   "execution_count": 1,
   "id": "e7faa469",
   "metadata": {},
   "outputs": [],
   "source": [
    "import numpy as np\n",
    "import torch \n",
    "import torch.nn as nn\n",
    "from tqdm import tnrange\n",
    "import torch.optim as optim\n",
    "import torch.nn.functional as F\n",
    "from sklearn import metrics\n",
    "import matplotlib.pyplot as plt\n",
    "import time\n",
    "from sklearn.metrics import explained_variance_score"
   ]
  },
  {
   "cell_type": "code",
   "execution_count": 2,
   "id": "8753064b",
   "metadata": {},
   "outputs": [],
   "source": [
    "class AP_GRU_Lag(nn.Module):\n",
    "    def __init__(self, H_no, lag, device):\n",
    "        super().__init__()\n",
    "        \n",
    "        self.H_no = H_no\n",
    "        self.device = device\n",
    "        \n",
    "        self.rnn = nn.GRU(lag+1, H_no, batch_first=True)\n",
    "        self.linear = nn.Linear(H_no, 1)\n",
    "        \n",
    "    def forward(self, V):\n",
    "        #V is shape (batch, 50000, lag+1)\n",
    "\n",
    "        rnn_out, _ = self.rnn(V) #(batch,50000,H)\n",
    "        rnn_out = rnn_out.reshape(-1,self.H_no)\n",
    "        lin_out = self.linear(rnn_out) #(batch*50000,1)\n",
    "        final = torch.sigmoid(lin_out.reshape(V.shape[0], V.shape[1]))\n",
    "        \n",
    "        return final\n",
    "\n"
   ]
  },
  {
   "cell_type": "code",
   "execution_count": 3,
   "id": "6e8d732d",
   "metadata": {},
   "outputs": [
    {
     "name": "stdout",
     "output_type": "stream",
     "text": [
      "torch.Size([1000, 50000, 20])\n"
     ]
    }
   ],
   "source": [
    "batch_size = 20\n",
    "batch_length = int(50000 / 5 / 0.2)\n",
    "H_no = 40\n",
    "device = torch.device(\"cuda\")\n",
    "lag = 20\n",
    "\n",
    "epoch_no = 400\n",
    "iter_no = epoch_no * 980 // batch_size\n",
    "\n",
    "#V = np.load(\"/media/hdd01/sklee/CA1_clust4-60_AP/data/vdata_T10_Ne2000_gA0.6_tauA1_gN0.8_Ni200_gG0.1_gB0.1_noDendNa_Er0.5_Ir7.4_random_NR_rep1000_stimseed1.npy\").reshape(-1,50001)[:,:50000]\n",
    "V = np.load(\"/media/hdd01/sklee/CA1_clust4-60_AP/data/V_diff_stimseed1.npy\").reshape(-1,batch_length)\n",
    "#V = np.load(\"/media/hdd01/sklee/CA1_clust4-60_AP/comb_pred/V_comb_pred_2ms.npy\").reshape(-1,batch_length)\n",
    "#V = np.load(\"/media/hdd01/sklee/CA1_clust4-60_AP/diff_true/V_diff_true_0.2ms.npy\").reshape(-1,batch_length)\n",
    "S = np.load(\"/media/hdd01/sklee/CA1_clust4-60_AP/data/spike_train_0.2ms.npy\").reshape(-1,batch_length)\n",
    "\n",
    "V-= np.mean(V)\n",
    "\n",
    "V = torch.from_numpy(V)\n",
    "S = torch.from_numpy(S)\n",
    "\n",
    "V_lag = np.zeros((V.shape[0], V.shape[1], lag)) #(lag,1000,50000)\n",
    "for i in range(lag):\n",
    "    V_lag[:,i+1:,i] = V[:,:-i-1]\n",
    "\n",
    "V_lag = torch.from_numpy(V_lag)\n",
    "print(V_lag.shape)"
   ]
  },
  {
   "cell_type": "code",
   "execution_count": 4,
   "id": "bfda0478",
   "metadata": {},
   "outputs": [
    {
     "name": "stdout",
     "output_type": "stream",
     "text": [
      "torch.Size([19600, 20])\n"
     ]
    }
   ],
   "source": [
    "V_train = V[:980].float()\n",
    "V_test = V[980:].float().to(device)\n",
    "S_train = S[:980].float()\n",
    "S_test = S[980:].float().to(device)\n",
    "V_lag_train = V_lag[:980].float()\n",
    "V_lag_test = V_lag[980:].float().to(device)\n",
    "\n",
    "train_idx = np.empty((epoch_no, 980))\n",
    "for i in range(epoch_no):\n",
    "    part_idx = np.arange(0,980,1)\n",
    "    np.random.shuffle(part_idx)\n",
    "    train_idx[i] = part_idx\n",
    "train_idx = train_idx.reshape(-1, batch_size)\n",
    "train_idx = torch.from_numpy(train_idx).long()\n",
    "print(train_idx.shape)"
   ]
  },
  {
   "cell_type": "code",
   "execution_count": 5,
   "id": "784b45c2",
   "metadata": {},
   "outputs": [
    {
     "name": "stdout",
     "output_type": "stream",
     "text": [
      "7601\n"
     ]
    }
   ],
   "source": [
    "model = AP_GRU_Lag(H_no, lag, device)\n",
    "optimizer = torch.optim.Adam(model.parameters(), lr = 0.0025)\n",
    "\n",
    "model.to(device).float()\n",
    "print(sum(p.numel() for p in model.parameters() if p.requires_grad))\n",
    "\n",
    "bce_criterion = nn.BCELoss(reduction=\"mean\")"
   ]
  },
  {
   "cell_type": "code",
   "execution_count": 6,
   "id": "84e29a0c",
   "metadata": {
    "scrolled": false
   },
   "outputs": [
    {
     "name": "stderr",
     "output_type": "stream",
     "text": [
      "<ipython-input-6-855b0e42f0dd>:4: TqdmDeprecationWarning: Please use `tqdm.notebook.trange` instead of `tqdm.tnrange`\n",
      "  for i in tnrange(10000):\n"
     ]
    },
    {
     "data": {
      "application/vnd.jupyter.widget-view+json": {
       "model_id": "b8de09d6235b43f1b18b78dcb08b5f51",
       "version_major": 2,
       "version_minor": 0
      },
      "text/plain": [
       "  0%|          | 0/10000 [00:00<?, ?it/s]"
      ]
     },
     "metadata": {},
     "output_type": "display_data"
    },
    {
     "name": "stdout",
     "output_type": "stream",
     "text": [
      "0 0.5960187911987305\n",
      "49 0.0054726977832615376\n",
      "99 0.0032424607779830694\n",
      "149 0.0026017914060503244\n",
      "199 0.002303875982761383\n",
      "249 0.0021400703117251396\n",
      "299 0.0020303521305322647\n",
      "349 0.001911833300255239\n",
      "399 0.0018369134049862623\n",
      "449 0.001775593962520361\n",
      "499 0.0016651973128318787\n",
      "549 0.0015392644563689828\n",
      "599 0.0014474709751084447\n",
      "649 0.0013538352213799953\n",
      "699 0.0012950991513207555\n",
      "749 0.001244769780896604\n",
      "799 0.0011693949345499277\n",
      "849 0.0011105790035799146\n",
      "899 0.0010398791637271643\n",
      "949 0.0009742990951053798\n",
      "999 0.0009251163573935628\n",
      "1049 0.0008785596000961959\n",
      "1099 0.0008289680117741227\n",
      "1149 0.0007816776051186025\n",
      "1199 0.0007370092207565904\n",
      "1249 0.0006975753349252045\n",
      "1299 0.0006666214321739972\n",
      "1349 0.0006388681358657777\n",
      "1399 0.0006127591477707028\n",
      "1449 0.0005890756729058921\n",
      "1499 0.0005676218424923718\n",
      "1549 0.0005482783890329301\n",
      "1599 0.0005302575300447643\n",
      "1649 0.00051397510105744\n",
      "1699 0.0004980469821020961\n",
      "1749 0.00048187654465436935\n",
      "1799 0.00046584612573497\n",
      "1849 0.0004518684872891754\n",
      "1899 0.0004396475269459188\n",
      "1949 0.00042827194556593895\n",
      "1999 0.00041753295226953924\n",
      "2049 0.00040733080822974443\n",
      "2099 0.0003978540189564228\n",
      "2149 0.000389203050872311\n",
      "2199 0.00038098060758784413\n",
      "2249 0.00037311992491595447\n",
      "2299 0.0003653329040389508\n",
      "2349 0.00035865927929989994\n",
      "2399 0.00035202482831664383\n",
      "2449 0.0003457911661826074\n",
      "2499 0.0003388565091881901\n",
      "2549 0.00033337532659061253\n",
      "2599 0.0003269631415605545\n",
      "2649 0.00032222442678175867\n",
      "2699 0.0003155432641506195\n",
      "2749 0.0003112694248557091\n",
      "2799 0.0003063353942707181\n",
      "2849 0.0003013462701346725\n",
      "2899 0.00029608848853968084\n",
      "2949 0.0002918691898230463\n",
      "2999 0.00028692116029560566\n",
      "3049 0.00028217624640092254\n",
      "3099 0.00027931469958275557\n",
      "3149 0.00027351471362635493\n",
      "3199 0.00027007466997019947\n",
      "3249 0.0002650925889611244\n",
      "3299 0.00026180458371527493\n",
      "3349 0.0002580733853392303\n",
      "3399 0.0002539327251724899\n",
      "3449 0.00025054728030227125\n",
      "3499 0.0002472580235917121\n",
      "3549 0.0002460391551721841\n",
      "3599 0.00024306168779730797\n",
      "3649 0.0002386252162978053\n",
      "3699 0.00023696169955655932\n",
      "3749 0.00023613906523678452\n",
      "3799 0.0002320804342161864\n",
      "3849 0.00022837278083898127\n",
      "3899 0.00022580257791560143\n",
      "3949 0.00022106482356321067\n",
      "3999 0.00021933634707238525\n",
      "4049 0.00021654220472555608\n",
      "4099 0.00021399605611804873\n",
      "4149 0.00021092797396704555\n",
      "4199 0.00020876707276329398\n",
      "4249 0.00020741912885569036\n",
      "4299 0.00020443335233721882\n",
      "4349 0.00020327960373833776\n",
      "4399 0.00020553874492179602\n",
      "4449 0.00020020177180413157\n",
      "4499 0.0001963345566764474\n",
      "4549 0.00019885829533450305\n",
      "4599 0.00019360761507414281\n",
      "4649 0.00019996869377791882\n",
      "4699 0.00019199555390514433\n",
      "4749 0.00019023210916202515\n",
      "4799 0.00018770886526908726\n",
      "4849 0.00018650604761205614\n",
      "4899 0.00018553640984464437\n",
      "4949 0.00018394154903944582\n",
      "4999 0.00018357393855694681\n",
      "5049 0.0001798435696400702\n",
      "5099 0.00017992316861636937\n",
      "5149 0.000180741204530932\n",
      "5199 0.00017767821555025876\n",
      "5249 0.00018031350919045508\n",
      "5299 0.00017789255070965737\n",
      "5349 0.0001741498417686671\n",
      "5399 0.0001742720924085006\n",
      "5449 0.00017613507225178182\n",
      "5499 0.00017179730639327317\n",
      "5549 0.00016946274263318628\n",
      "5599 0.00016987149138003588\n",
      "5649 0.00016829454398248345\n",
      "5699 0.00016769900685176253\n",
      "5749 0.0001689523342065513\n",
      "5799 0.00016589101869612932\n",
      "5849 0.00016728127957321703\n",
      "5899 0.00016582092212047428\n",
      "5949 0.00016249938926193863\n",
      "5999 0.00016575114568695426\n",
      "6049 0.00017264932102989405\n",
      "6099 0.00016462845087517053\n",
      "6149 0.00016295087698381394\n",
      "6199 0.0001614830398466438\n",
      "6249 0.00015950528904795647\n",
      "6299 0.00016024670912884176\n",
      "6349 0.00015850295312702656\n",
      "6399 0.00016448138921987265\n",
      "6449 0.00015976895519997925\n",
      "6499 0.00015991796681191772\n",
      "6549 0.00015977623115759343\n",
      "6599 0.00015553459525108337\n",
      "6649 0.0001576101203681901\n",
      "6699 0.00015742485993541777\n",
      "6749 0.0001561573299113661\n",
      "6799 0.00016304799646604806\n",
      "6849 0.00015612441347911954\n",
      "6899 0.00016209707246161997\n",
      "6949 0.00015471181541215628\n",
      "6999 0.00015411866479553282\n",
      "7049 0.00015548328519798815\n",
      "7099 0.00016777554992586374\n",
      "7149 0.00015351861657109112\n",
      "7199 0.00015334512863773853\n",
      "7249 0.00015249081479851156\n",
      "7299 0.00015294921468012035\n",
      "7349 0.0001531391026219353\n",
      "7399 0.00014999155246187001\n",
      "7449 0.0001526501146145165\n",
      "7499 0.00014943780843168497\n",
      "7549 0.00015208641707431525\n",
      "7599 0.00014981957792770118\n",
      "7649 0.00014822503726463765\n",
      "7699 0.00014915283827576786\n",
      "7749 0.00014967382594477385\n",
      "7799 0.00014782299695070833\n",
      "7849 0.00014774933515582234\n",
      "7899 0.00014663011825177819\n",
      "7949 0.000148083534440957\n",
      "7999 0.00015301942767109722\n",
      "8049 0.0001425320078851655\n",
      "8099 0.0001470404677093029\n",
      "8149 0.00014624917821493\n",
      "8199 0.0001455701858503744\n",
      "8249 0.00015473231906071305\n",
      "8299 0.00014540871779900044\n",
      "8349 0.0001428335817763582\n",
      "8399 0.00014708346861880273\n",
      "8449 0.00014293535787146538\n",
      "8499 0.00014318777539301664\n",
      "8549 0.00014636956620961428\n",
      "8599 0.00014287080557551235\n",
      "8649 0.00014469024608843029\n",
      "8699 0.0001423130597686395\n",
      "8749 0.00014266940706875175\n",
      "8799 0.00014581659343093634\n",
      "8849 0.00014639977598562837\n",
      "8899 0.00014286907389760017\n",
      "8949 0.00014099807594902813\n",
      "8999 0.0001417363091604784\n",
      "9049 0.0001441322237951681\n",
      "9099 0.0001406957017024979\n",
      "9149 0.00014397296763490885\n",
      "9199 0.00014585636381525546\n",
      "9249 0.0001452388969482854\n",
      "9299 0.0001424582878826186\n",
      "9349 0.00013705831952393055\n",
      "9399 0.00013550538278650492\n",
      "9449 0.00014203271712176502\n",
      "9499 0.0001378439337713644\n",
      "9549 0.0001422748900949955\n",
      "9599 0.00013960892101749778\n",
      "9649 0.00013816342107020319\n",
      "9699 0.00013858145393896848\n",
      "9749 0.00013410887913778424\n",
      "9799 0.00013952286099083722\n",
      "9849 0.00013827692600898445\n",
      "9899 0.00013911437417846173\n",
      "9949 0.00013521831715479493\n",
      "9999 0.00013111480802763253\n"
     ]
    }
   ],
   "source": [
    "score_list = []\n",
    "\n",
    "for i in tnrange(iter_no):\n",
    "#for i in tnrange(10000):    \n",
    "    s = time.time()\n",
    "    model.train()\n",
    "    optimizer.zero_grad()\n",
    "    \n",
    "    batch_idx = train_idx[i]\n",
    "    batch_S = S_train[batch_idx].to(device)\n",
    "    batch_V = V_train[batch_idx].to(device)\n",
    "    batch_V_lag = V_lag_train[batch_idx].to(device)\n",
    "    \n",
    "    batch_V_in = torch.zeros(batch_size, batch_length, lag+1).to(device)\n",
    "    batch_V_in[:,:,0] = batch_V\n",
    "    batch_V_in[:,:,1:] = batch_V_lag\n",
    "    \n",
    "    S_out = model(batch_V_in)\n",
    "    loss = bce_criterion(S_out, batch_S)\n",
    "    \n",
    "    loss.backward()\n",
    "    nn.utils.clip_grad_norm_(model.parameters(), 10)\n",
    "    optimizer.step()\n",
    "    \n",
    "    step_time = time.time() - s\n",
    "    \n",
    "    if (i%50 == 49) or (i == 0):\n",
    "        model.eval()\n",
    "        V_test_in = torch.zeros(batch_size, batch_length, lag+1).to(device)\n",
    "        V_test_in[:,:,0] = V_test\n",
    "        V_test_in[:,:,1:] = V_lag_test\n",
    "        \n",
    "        test_S_out = model(V_test_in)\n",
    "        test_loss = bce_criterion(test_S_out, S_test).item()\n",
    "        \n",
    "        score_list.append(test_loss)\n",
    "        print(i, test_loss)"
   ]
  },
  {
   "cell_type": "code",
   "execution_count": null,
   "id": "f591ea9b",
   "metadata": {},
   "outputs": [],
   "source": []
  },
  {
   "cell_type": "code",
   "execution_count": 7,
   "id": "e006b31b",
   "metadata": {},
   "outputs": [
    {
     "data": {
      "text/plain": [
       "[<matplotlib.lines.Line2D at 0x7f342812a340>]"
      ]
     },
     "execution_count": 7,
     "metadata": {},
     "output_type": "execute_result"
    },
    {
     "data": {
      "image/png": "[encoded data removed]",
      "text/plain": [
       "<Figure size 432x288 with 1 Axes>"
      ]
     },
     "metadata": {
      "needs_background": "light"
     },
     "output_type": "display_data"
    }
   ],
   "source": [
    "plt.plot(np.asarray(score_list)[20:])"
   ]
  },
  {
   "cell_type": "code",
   "execution_count": 8,
   "id": "ad66af8b",
   "metadata": {},
   "outputs": [
    {
     "name": "stdout",
     "output_type": "stream",
     "text": [
      "tensor(0.9937, device='cuda:0', grad_fn=<MaxBackward1>)\n"
     ]
    },
    {
     "data": {
      "image/png": "[encoded data removed]",
      "text/plain": [
       "<Figure size 1080x360 with 1 Axes>"
      ]
     },
     "metadata": {
      "needs_background": "light"
     },
     "output_type": "display_data"
    }
   ],
   "source": [
    "plt.figure(figsize = (15,5))\n",
    "plt.plot(S_test[0].cpu().detach().numpy())\n",
    "plt.plot(test_S_out[1].cpu().detach().numpy())\n",
    "#plt.xlim(4500,5200)\n",
    "#plt.ylim(-1,10)\n",
    "print(torch.max(test_S_out))"
   ]
  },
  {
   "cell_type": "code",
   "execution_count": 9,
   "id": "780f8cd8",
   "metadata": {},
   "outputs": [],
   "source": [
    "#torch.save(model.state_dict(), \"/media/hdd01/sklee/CA1_clust4-60_AP/diff_true/gru_l20_h40_0.2ms.pt\")\n",
    "#np.save(\"/media/hdd01/sklee/CA1_clust4-60_AP/diff_true/gru_l20_h40_0.2ms_test.npy\", test_S_out.cpu().detach().numpy())"
   ]
  },
  {
   "cell_type": "code",
   "execution_count": null,
   "id": "220095ad",
   "metadata": {},
   "outputs": [],
   "source": []
  }
 ],
 "metadata": {
  "kernelspec": {
   "display_name": "Python 3",
   "language": "python",
   "name": "python3"
  },
  "language_info": {
   "codemirror_mode": {
    "name": "ipython",
    "version": 3
   },
   "file_extension": ".py",
   "mimetype": "text/x-python",
   "name": "python",
   "nbconvert_exporter": "python",
   "pygments_lexer": "ipython3",
   "version": "3.8.8"
  }
 },
 "nbformat": 4,
 "nbformat_minor": 5
}
