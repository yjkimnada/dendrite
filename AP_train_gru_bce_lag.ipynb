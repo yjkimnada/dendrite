{
 "cells": [
  {
   "cell_type": "code",
   "execution_count": 1,
   "id": "e7faa469",
   "metadata": {},
   "outputs": [],
   "source": [
    "import numpy as np\n",
    "import torch \n",
    "import torch.nn as nn\n",
    "from tqdm import tnrange\n",
    "import torch.optim as optim\n",
    "import torch.nn.functional as F\n",
    "from sklearn import metrics\n",
    "import matplotlib.pyplot as plt\n",
    "import time\n",
    "from sklearn.metrics import explained_variance_score"
   ]
  },
  {
   "cell_type": "code",
   "execution_count": 2,
   "id": "8753064b",
   "metadata": {},
   "outputs": [],
   "source": [
    "class AP_GRU_Lag(nn.Module):\n",
    "    def __init__(self, H_no, lag, device):\n",
    "        super().__init__()\n",
    "        \n",
    "        self.H_no = H_no\n",
    "        self.device = device\n",
    "        \n",
    "        self.rnn = nn.GRU(lag+1, H_no, batch_first=True)\n",
    "        self.linear = nn.Linear(H_no, 1)\n",
    "        \n",
    "    def forward(self, V):\n",
    "        #V is shape (batch, 50000, lag+1)\n",
    "\n",
    "        rnn_out, _ = self.rnn(V) #(batch,50000,H)\n",
    "        rnn_out = rnn_out.reshape(-1,self.H_no)\n",
    "        lin_out = self.linear(rnn_out) #(batch*50000,1)\n",
    "        final = torch.sigmoid(lin_out.reshape(V.shape[0], V.shape[1]))\n",
    "        \n",
    "        return final\n",
    "\n"
   ]
  },
  {
   "cell_type": "code",
   "execution_count": 3,
   "id": "6e8d732d",
   "metadata": {},
   "outputs": [
    {
     "name": "stdout",
     "output_type": "stream",
     "text": [
      "torch.Size([1000, 50000, 20])\n"
     ]
    }
   ],
   "source": [
    "batch_size = 20\n",
    "batch_length = int(50000 / 5 / 0.2)\n",
    "H_no = 40\n",
    "device = torch.device(\"cuda\")\n",
    "lag = 20\n",
    "\n",
    "epoch_no = 400\n",
    "iter_no = epoch_no * 980 // batch_size\n",
    "\n",
    "#V = np.load(\"/media/hdd01/sklee/CA1_clust4-60_AP/data/vdata_T10_Ne2000_gA0.6_tauA1_gN0.8_Ni200_gG0.1_gB0.1_noDendNa_Er0.5_Ir7.4_random_NR_rep1000_stimseed1.npy\").reshape(-1,50001)[:,:50000]\n",
    "#V = np.load(\"/media/hdd01/sklee/CA1_clust4-60_AP/data/V_diff_stimseed1.npy\").reshape(-1,batch_length)\n",
    "V = np.load(\"/media/hdd01/sklee/CA1_clust4-60_AP/na_pred_nona_true/V_na_pred_nona_true_0.2ms.npy\").reshape(-1,batch_length)\n",
    "#V = np.load(\"/media/hdd01/sklee/CA1_clust4-60_AP/diff_true/V_diff_true_0.2ms.npy\").reshape(-1,batch_length)\n",
    "S = np.load(\"/media/hdd01/sklee/CA1_clust4-60_AP/data/spike_train_0.2ms.npy\").reshape(-1,batch_length)\n",
    "\n",
    "V-= np.mean(V)\n",
    "\n",
    "V = torch.from_numpy(V)\n",
    "S = torch.from_numpy(S)\n",
    "\n",
    "V_lag = np.zeros((V.shape[0], V.shape[1], lag)) #(lag,1000,50000)\n",
    "for i in range(lag):\n",
    "    V_lag[:,i+1:,i] = V[:,:-i-1]\n",
    "\n",
    "V_lag = torch.from_numpy(V_lag)\n",
    "print(V_lag.shape)"
   ]
  },
  {
   "cell_type": "code",
   "execution_count": 4,
   "id": "bfda0478",
   "metadata": {},
   "outputs": [
    {
     "name": "stdout",
     "output_type": "stream",
     "text": [
      "torch.Size([19600, 20])\n"
     ]
    }
   ],
   "source": [
    "V_train = V[:980].float()\n",
    "V_test = V[980:].float().to(device)\n",
    "S_train = S[:980].float()\n",
    "S_test = S[980:].float().to(device)\n",
    "V_lag_train = V_lag[:980].float()\n",
    "V_lag_test = V_lag[980:].float().to(device)\n",
    "\n",
    "train_idx = np.empty((epoch_no, 980))\n",
    "for i in range(epoch_no):\n",
    "    part_idx = np.arange(0,980,1)\n",
    "    np.random.shuffle(part_idx)\n",
    "    train_idx[i] = part_idx\n",
    "train_idx = train_idx.reshape(-1, batch_size)\n",
    "train_idx = torch.from_numpy(train_idx).long()\n",
    "print(train_idx.shape)"
   ]
  },
  {
   "cell_type": "code",
   "execution_count": 5,
   "id": "784b45c2",
   "metadata": {},
   "outputs": [
    {
     "name": "stdout",
     "output_type": "stream",
     "text": [
      "7601\n"
     ]
    }
   ],
   "source": [
    "model = AP_GRU_Lag(H_no, lag, device)\n",
    "optimizer = torch.optim.Adam(model.parameters(), lr = 0.0025)\n",
    "\n",
    "model.to(device).float()\n",
    "print(sum(p.numel() for p in model.parameters() if p.requires_grad))\n",
    "\n",
    "bce_criterion = nn.BCELoss(reduction=\"mean\")"
   ]
  },
  {
   "cell_type": "code",
   "execution_count": 6,
   "id": "84e29a0c",
   "metadata": {
    "scrolled": false
   },
   "outputs": [
    {
     "name": "stderr",
     "output_type": "stream",
     "text": [
      "<ipython-input-6-cd7431aa1dd9>:3: TqdmDeprecationWarning: Please use `tqdm.notebook.trange` instead of `tqdm.tnrange`\n",
      "  for i in tnrange(iter_no):\n"
     ]
    },
    {
     "data": {
      "application/vnd.jupyter.widget-view+json": {
       "model_id": "6caf28315b9040189d19f7c85748b43b",
       "version_major": 2,
       "version_minor": 0
      },
      "text/plain": [
       "  0%|          | 0/19600 [00:00<?, ?it/s]"
      ]
     },
     "metadata": {},
     "output_type": "display_data"
    },
    {
     "name": "stdout",
     "output_type": "stream",
     "text": [
      "0 0.7372894287109375\n",
      "49 0.006736324168741703\n",
      "99 0.0033963939640671015\n",
      "149 0.0025992277078330517\n",
      "199 0.0022094377782195807\n",
      "249 0.001978867454454303\n",
      "299 0.0018291486194357276\n",
      "349 0.0017202375456690788\n",
      "399 0.0016401252942159772\n",
      "449 0.0015801768749952316\n",
      "499 0.0015330129535868764\n",
      "549 0.0014939532848075032\n",
      "599 0.0014594222884625196\n",
      "649 0.0014309609541669488\n",
      "699 0.0014070641482248902\n",
      "749 0.001386558637022972\n",
      "799 0.0013687065802514553\n",
      "849 0.0013526750262826681\n",
      "899 0.0013367922510951757\n",
      "949 0.0013203569687902927\n",
      "999 0.0013063806109130383\n",
      "1049 0.0012938670115545392\n",
      "1099 0.0012822424760088325\n",
      "1149 0.0012715636985376477\n",
      "1199 0.0012614249717444181\n",
      "1249 0.0012519147712737322\n",
      "1299 0.001243094215169549\n",
      "1349 0.0012346298899501562\n",
      "1399 0.0012264568358659744\n",
      "1449 0.0012181632919237018\n",
      "1499 0.0012103444896638393\n",
      "1549 0.001204004161991179\n",
      "1599 0.001197956269606948\n",
      "1649 0.0011919501703232527\n",
      "1699 0.0011866823770105839\n",
      "1749 0.0011792475124821067\n",
      "1799 0.001171907177194953\n",
      "1849 0.0011643694015219808\n",
      "1899 0.0011544589651748538\n",
      "1949 0.0011461063986644149\n",
      "1999 0.0011331802234053612\n",
      "2049 0.0011262334883213043\n",
      "2099 0.001117487670853734\n",
      "2149 0.0011052839690819383\n",
      "2199 0.0011131938081234694\n",
      "2249 0.0010964572429656982\n",
      "2299 0.0010846288641914725\n",
      "2349 0.0011009868467226624\n",
      "2399 0.0010770661756396294\n",
      "2449 0.0010696887038648129\n",
      "2499 0.0010635361541062593\n",
      "2549 0.0010610732715576887\n",
      "2599 0.0010651086922734976\n",
      "2649 0.0010796645656228065\n",
      "2699 0.0011162321316078305\n",
      "2749 0.0010615751380100846\n",
      "2799 0.0010763349710032344\n",
      "2849 0.0010761067969724536\n",
      "2899 0.0010641430271789432\n",
      "2949 0.0010491495486348867\n",
      "2999 0.0010498291812837124\n",
      "3049 0.0010549352737143636\n",
      "3099 0.0010513805318623781\n",
      "3149 0.0010499877389520407\n",
      "3199 0.0010491478024050593\n",
      "3249 0.0010550980223342776\n",
      "3299 0.0010509791318327188\n",
      "3349 0.0010443361243233085\n",
      "3399 0.0010510575957596302\n",
      "3449 0.0010694058146327734\n",
      "3499 0.0010541953379288316\n",
      "3549 0.0010435821022838354\n",
      "3599 0.0010435136500746012\n",
      "3649 0.0010359834413975477\n",
      "3699 0.0010423253988847136\n",
      "3749 0.0011996178654953837\n",
      "3799 0.0011779499473050237\n",
      "3849 0.001163050765171647\n",
      "3899 0.001148358453065157\n",
      "3949 0.001138051855377853\n",
      "3999 0.0011292645940557122\n",
      "4049 0.0011270152172073722\n",
      "4099 0.0011156841646879911\n",
      "4149 0.0011131003266200423\n",
      "4199 0.001101907342672348\n",
      "4249 0.001097391126677394\n",
      "4299 0.0010923993540927768\n",
      "4349 0.0010822529438883066\n",
      "4399 0.001068738172762096\n",
      "4449 0.0010912967845797539\n",
      "4499 0.0010755321709439158\n",
      "4549 0.001053648185916245\n",
      "4599 0.0010508185951039195\n",
      "4649 0.0010460877092555165\n",
      "4699 0.0010427666129544377\n",
      "4749 0.0010424579959362745\n",
      "4799 0.001033144537359476\n",
      "4849 0.0010331494268029928\n",
      "4899 0.0010278117842972279\n",
      "4949 0.0010345809860154986\n",
      "4999 0.001030586427077651\n",
      "5049 0.0010298852575942874\n",
      "5099 0.0010275387903675437\n",
      "5149 0.0010183556005358696\n",
      "5199 0.0010312485974282026\n",
      "5249 0.001019807648845017\n",
      "5299 0.0010158825898543\n",
      "5349 0.0010313652455806732\n",
      "5399 0.0010348409414291382\n",
      "5449 0.00101830018684268\n",
      "5499 0.001012814580462873\n",
      "5549 0.0010068716946989298\n",
      "5599 0.0010277772089466453\n",
      "5649 0.0010174530325457454\n",
      "5699 0.0010108572896569967\n",
      "5749 0.0010058922925963998\n",
      "5799 0.001018635113723576\n",
      "5849 0.0010115636978298426\n",
      "5899 0.0010051720310002565\n",
      "5949 0.001010025618597865\n",
      "5999 0.0010043842485174537\n",
      "6049 0.001004695426672697\n",
      "6099 0.0009996740845963359\n",
      "6149 0.0010126392589882016\n",
      "6199 0.0009872354567050934\n",
      "6249 0.000991021515801549\n",
      "6299 0.0009994418360292912\n",
      "6349 0.0009992714039981365\n",
      "6399 0.0009880426805466413\n",
      "6449 0.00099362398032099\n",
      "6499 0.000992205343209207\n",
      "6549 0.0009887567721307278\n",
      "6599 0.0009928086074069142\n",
      "6649 0.0009900698205456138\n",
      "6699 0.00098558294121176\n",
      "6749 0.001050067599862814\n",
      "6799 0.0009926841594278812\n",
      "6849 0.0009829399641603231\n",
      "6899 0.0009870898211374879\n",
      "6949 0.0010062591172754765\n",
      "6999 0.0010100873187184334\n",
      "7049 0.000989125925116241\n",
      "7099 0.0009849349735304713\n",
      "7149 0.0009867860935628414\n",
      "7199 0.0009895652765408158\n",
      "7249 0.0009835263481363654\n",
      "7299 0.0009825987508520484\n",
      "7349 0.0009837484685704112\n",
      "7399 0.0009801762644201517\n",
      "7449 0.000981021672487259\n",
      "7499 0.0009798109531402588\n",
      "7549 0.0009995783912017941\n",
      "7599 0.000987107283435762\n",
      "7649 0.0009795849910005927\n",
      "7699 0.000985513674095273\n",
      "7749 0.000978071358986199\n",
      "7799 0.0009763843845576048\n",
      "7849 0.0009809497278183699\n",
      "7899 0.0009852524381130934\n",
      "7949 0.0009966579964384437\n",
      "7999 0.0009890145156532526\n",
      "8049 0.0009774971986189485\n",
      "8099 0.0009825302986428142\n",
      "8149 0.0009784189751371741\n",
      "8199 0.0009984067874029279\n",
      "8249 0.0009855489479377866\n",
      "8299 0.0009802676504477859\n",
      "8349 0.0009853823576122522\n",
      "8399 0.0009828725596889853\n",
      "8449 0.0009812782518565655\n",
      "8499 0.000988683896139264\n",
      "8549 0.0009899953147396445\n",
      "8599 0.0009839126141741872\n",
      "8649 0.0010009707184508443\n",
      "8699 0.0009822435677051544\n",
      "8749 0.000977829797193408\n",
      "8799 0.0009776479564607143\n",
      "8849 0.000988266197964549\n",
      "8899 0.0009900378063321114\n",
      "8949 0.0009831662755459547\n",
      "8999 0.0009752801270224154\n",
      "9049 0.0009793806821107864\n",
      "9099 0.0009826746536418796\n",
      "9149 0.0009764868882484734\n",
      "9199 0.0009772646008059382\n",
      "9249 0.0009805505396798253\n"
     ]
    },
    {
     "ename": "KeyboardInterrupt",
     "evalue": "",
     "output_type": "error",
     "traceback": [
      "\u001b[0;31m---------------------------------------------------------------------------\u001b[0m",
      "\u001b[0;31mKeyboardInterrupt\u001b[0m                         Traceback (most recent call last)",
      "\u001b[0;32m<ipython-input-6-cd7431aa1dd9>\u001b[0m in \u001b[0;36m<module>\u001b[0;34m\u001b[0m\n\u001b[1;32m     19\u001b[0m     \u001b[0mloss\u001b[0m \u001b[0;34m=\u001b[0m \u001b[0mbce_criterion\u001b[0m\u001b[0;34m(\u001b[0m\u001b[0mS_out\u001b[0m\u001b[0;34m,\u001b[0m \u001b[0mbatch_S\u001b[0m\u001b[0;34m)\u001b[0m\u001b[0;34m\u001b[0m\u001b[0;34m\u001b[0m\u001b[0m\n\u001b[1;32m     20\u001b[0m \u001b[0;34m\u001b[0m\u001b[0m\n\u001b[0;32m---> 21\u001b[0;31m     \u001b[0mloss\u001b[0m\u001b[0;34m.\u001b[0m\u001b[0mbackward\u001b[0m\u001b[0;34m(\u001b[0m\u001b[0;34m)\u001b[0m\u001b[0;34m\u001b[0m\u001b[0;34m\u001b[0m\u001b[0m\n\u001b[0m\u001b[1;32m     22\u001b[0m     \u001b[0mnn\u001b[0m\u001b[0;34m.\u001b[0m\u001b[0mutils\u001b[0m\u001b[0;34m.\u001b[0m\u001b[0mclip_grad_norm_\u001b[0m\u001b[0;34m(\u001b[0m\u001b[0mmodel\u001b[0m\u001b[0;34m.\u001b[0m\u001b[0mparameters\u001b[0m\u001b[0;34m(\u001b[0m\u001b[0;34m)\u001b[0m\u001b[0;34m,\u001b[0m \u001b[0;36m10\u001b[0m\u001b[0;34m)\u001b[0m\u001b[0;34m\u001b[0m\u001b[0;34m\u001b[0m\u001b[0m\n\u001b[1;32m     23\u001b[0m     \u001b[0moptimizer\u001b[0m\u001b[0;34m.\u001b[0m\u001b[0mstep\u001b[0m\u001b[0;34m(\u001b[0m\u001b[0;34m)\u001b[0m\u001b[0;34m\u001b[0m\u001b[0;34m\u001b[0m\u001b[0m\n",
      "\u001b[0;32m~/anaconda3/lib/python3.8/site-packages/torch/tensor.py\u001b[0m in \u001b[0;36mbackward\u001b[0;34m(self, gradient, retain_graph, create_graph, inputs)\u001b[0m\n\u001b[1;32m    243\u001b[0m                 \u001b[0mcreate_graph\u001b[0m\u001b[0;34m=\u001b[0m\u001b[0mcreate_graph\u001b[0m\u001b[0;34m,\u001b[0m\u001b[0;34m\u001b[0m\u001b[0;34m\u001b[0m\u001b[0m\n\u001b[1;32m    244\u001b[0m                 inputs=inputs)\n\u001b[0;32m--> 245\u001b[0;31m         \u001b[0mtorch\u001b[0m\u001b[0;34m.\u001b[0m\u001b[0mautograd\u001b[0m\u001b[0;34m.\u001b[0m\u001b[0mbackward\u001b[0m\u001b[0;34m(\u001b[0m\u001b[0mself\u001b[0m\u001b[0;34m,\u001b[0m \u001b[0mgradient\u001b[0m\u001b[0;34m,\u001b[0m \u001b[0mretain_graph\u001b[0m\u001b[0;34m,\u001b[0m \u001b[0mcreate_graph\u001b[0m\u001b[0;34m,\u001b[0m \u001b[0minputs\u001b[0m\u001b[0;34m=\u001b[0m\u001b[0minputs\u001b[0m\u001b[0;34m)\u001b[0m\u001b[0;34m\u001b[0m\u001b[0;34m\u001b[0m\u001b[0m\n\u001b[0m\u001b[1;32m    246\u001b[0m \u001b[0;34m\u001b[0m\u001b[0m\n\u001b[1;32m    247\u001b[0m     \u001b[0;32mdef\u001b[0m \u001b[0mregister_hook\u001b[0m\u001b[0;34m(\u001b[0m\u001b[0mself\u001b[0m\u001b[0;34m,\u001b[0m \u001b[0mhook\u001b[0m\u001b[0;34m)\u001b[0m\u001b[0;34m:\u001b[0m\u001b[0;34m\u001b[0m\u001b[0;34m\u001b[0m\u001b[0m\n",
      "\u001b[0;32m~/anaconda3/lib/python3.8/site-packages/torch/autograd/__init__.py\u001b[0m in \u001b[0;36mbackward\u001b[0;34m(tensors, grad_tensors, retain_graph, create_graph, grad_variables, inputs)\u001b[0m\n\u001b[1;32m    143\u001b[0m         \u001b[0mretain_graph\u001b[0m \u001b[0;34m=\u001b[0m \u001b[0mcreate_graph\u001b[0m\u001b[0;34m\u001b[0m\u001b[0;34m\u001b[0m\u001b[0m\n\u001b[1;32m    144\u001b[0m \u001b[0;34m\u001b[0m\u001b[0m\n\u001b[0;32m--> 145\u001b[0;31m     Variable._execution_engine.run_backward(\n\u001b[0m\u001b[1;32m    146\u001b[0m         \u001b[0mtensors\u001b[0m\u001b[0;34m,\u001b[0m \u001b[0mgrad_tensors_\u001b[0m\u001b[0;34m,\u001b[0m \u001b[0mretain_graph\u001b[0m\u001b[0;34m,\u001b[0m \u001b[0mcreate_graph\u001b[0m\u001b[0;34m,\u001b[0m \u001b[0minputs\u001b[0m\u001b[0;34m,\u001b[0m\u001b[0;34m\u001b[0m\u001b[0;34m\u001b[0m\u001b[0m\n\u001b[1;32m    147\u001b[0m         allow_unreachable=True, accumulate_grad=True)  # allow_unreachable flag\n",
      "\u001b[0;31mKeyboardInterrupt\u001b[0m: "
     ]
    }
   ],
   "source": [
    "score_list = []\n",
    "\n",
    "for i in tnrange(iter_no):\n",
    "#for i in tnrange(10000):    \n",
    "    s = time.time()\n",
    "    model.train()\n",
    "    optimizer.zero_grad()\n",
    "    \n",
    "    batch_idx = train_idx[i]\n",
    "    batch_S = S_train[batch_idx].to(device)\n",
    "    batch_V = V_train[batch_idx].to(device)\n",
    "    batch_V_lag = V_lag_train[batch_idx].to(device)\n",
    "    \n",
    "    batch_V_in = torch.zeros(batch_size, batch_length, lag+1).to(device)\n",
    "    batch_V_in[:,:,0] = batch_V\n",
    "    batch_V_in[:,:,1:] = batch_V_lag\n",
    "    \n",
    "    S_out = model(batch_V_in)\n",
    "    loss = bce_criterion(S_out, batch_S)\n",
    "    \n",
    "    loss.backward()\n",
    "    nn.utils.clip_grad_norm_(model.parameters(), 10)\n",
    "    optimizer.step()\n",
    "    \n",
    "    step_time = time.time() - s\n",
    "    \n",
    "    if (i%50 == 49) or (i == 0):\n",
    "        model.eval()\n",
    "        V_test_in = torch.zeros(batch_size, batch_length, lag+1).to(device)\n",
    "        V_test_in[:,:,0] = V_test\n",
    "        V_test_in[:,:,1:] = V_lag_test\n",
    "        \n",
    "        test_S_out = model(V_test_in)\n",
    "        test_loss = bce_criterion(test_S_out, S_test).item()\n",
    "        \n",
    "        score_list.append(test_loss)\n",
    "        print(i, test_loss)"
   ]
  },
  {
   "cell_type": "code",
   "execution_count": null,
   "id": "f591ea9b",
   "metadata": {},
   "outputs": [],
   "source": []
  },
  {
   "cell_type": "code",
   "execution_count": 7,
   "id": "e006b31b",
   "metadata": {},
   "outputs": [
    {
     "data": {
      "text/plain": [
       "[<matplotlib.lines.Line2D at 0x7f5a0402d6d0>]"
      ]
     },
     "execution_count": 7,
     "metadata": {},
     "output_type": "execute_result"
    },
    {
     "data": {
      "image/png": "[encoded data removed]",
      "text/plain": [
       "<Figure size 432x288 with 1 Axes>"
      ]
     },
     "metadata": {
      "needs_background": "light"
     },
     "output_type": "display_data"
    }
   ],
   "source": [
    "plt.plot(np.asarray(score_list)[20:])"
   ]
  },
  {
   "cell_type": "code",
   "execution_count": 8,
   "id": "ad66af8b",
   "metadata": {},
   "outputs": [
    {
     "name": "stdout",
     "output_type": "stream",
     "text": [
      "tensor(0.9937, device='cuda:0', grad_fn=<MaxBackward1>)\n"
     ]
    },
    {
     "data": {
      "image/png": "[encoded data removed]",
      "text/plain": [
       "<Figure size 1080x360 with 1 Axes>"
      ]
     },
     "metadata": {
      "needs_background": "light"
     },
     "output_type": "display_data"
    }
   ],
   "source": [
    "plt.figure(figsize = (15,5))\n",
    "plt.plot(S_test[0].cpu().detach().numpy())\n",
    "plt.plot(test_S_out[1].cpu().detach().numpy())\n",
    "#plt.xlim(4500,5200)\n",
    "#plt.ylim(-1,10)\n",
    "print(torch.max(test_S_out))"
   ]
  },
  {
   "cell_type": "code",
   "execution_count": 8,
   "id": "780f8cd8",
   "metadata": {},
   "outputs": [],
   "source": [
    "#torch.save(model.state_dict(), \"/media/hdd01/sklee/CA1_clust4-60_AP/na_pred_nona_true/gru_l20_h40_0.2ms.pt\")\n",
    "#np.save(\"/media/hdd01/sklee/CA1_clust4-60_AP/na_pred_nona_true/gru_l20_h40_0.2ms_test.npy\", test_S_out.cpu().detach().numpy())"
   ]
  },
  {
   "cell_type": "code",
   "execution_count": null,
   "id": "220095ad",
   "metadata": {},
   "outputs": [],
   "source": []
  }
 ],
 "metadata": {
  "kernelspec": {
   "display_name": "Python 3",
   "language": "python",
   "name": "python3"
  },
  "language_info": {
   "codemirror_mode": {
    "name": "ipython",
    "version": 3
   },
   "file_extension": ".py",
   "mimetype": "text/x-python",
   "name": "python",
   "nbconvert_exporter": "python",
   "pygments_lexer": "ipython3",
   "version": "3.8.8"
  }
 },
 "nbformat": 4,
 "nbformat_minor": 5
}
