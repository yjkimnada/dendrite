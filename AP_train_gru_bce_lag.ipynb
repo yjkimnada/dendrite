{
 "cells": [
  {
   "cell_type": "code",
   "execution_count": 1,
   "id": "e7faa469",
   "metadata": {},
   "outputs": [],
   "source": [
    "import numpy as np\n",
    "import torch \n",
    "import torch.nn as nn\n",
    "from tqdm import tnrange\n",
    "import torch.optim as optim\n",
    "import torch.nn.functional as F\n",
    "from sklearn import metrics\n",
    "import matplotlib.pyplot as plt\n",
    "import time\n",
    "from sklearn.metrics import explained_variance_score"
   ]
  },
  {
   "cell_type": "code",
   "execution_count": 2,
   "id": "8753064b",
   "metadata": {},
   "outputs": [],
   "source": [
    "class AP_GRU_Lag(nn.Module):\n",
    "    def __init__(self, H_no, lag, device):\n",
    "        super().__init__()\n",
    "        \n",
    "        self.H_no = H_no\n",
    "        self.device = device\n",
    "        \n",
    "        self.rnn = nn.GRU(lag+1, H_no, batch_first=True)\n",
    "        self.linear = nn.Linear(H_no, 1)\n",
    "        \n",
    "    def forward(self, V):\n",
    "        #V is shape (batch, 50000, lag+1)\n",
    "\n",
    "        rnn_out, _ = self.rnn(V) #(batch,50000,H)\n",
    "        rnn_out = rnn_out.reshape(-1,self.H_no)\n",
    "        lin_out = self.linear(rnn_out) #(batch*50000,1)\n",
    "        final = torch.sigmoid(lin_out.reshape(V.shape[0], V.shape[1]))\n",
    "        \n",
    "        return final\n",
    "\n"
   ]
  },
  {
   "cell_type": "code",
   "execution_count": 3,
   "id": "6e8d732d",
   "metadata": {},
   "outputs": [
    {
     "name": "stdout",
     "output_type": "stream",
     "text": [
      "torch.Size([1000, 2000, 20])\n"
     ]
    }
   ],
   "source": [
    "batch_size = 20\n",
    "batch_length = int(50000 / 5 / 5)\n",
    "H_no = 40\n",
    "device = torch.device(\"cuda\")\n",
    "lag = 20\n",
    "\n",
    "epoch_no = 400\n",
    "iter_no = epoch_no * 980 // batch_size\n",
    "\n",
    "#V = np.load(\"/media/hdd01/sklee/CA1_clust4-60_AP/data/vdata_T10_Ne2000_gA0.6_tauA1_gN0.8_Ni200_gG0.1_gB0.1_noDendNa_Er0.5_Ir7.4_random_NR_rep1000_stimseed1.npy\").reshape(-1,50001)[:,:50000]\n",
    "#V = np.load(\"/media/hdd01/sklee/CA1_clust4-60_AP/comb_pred/V_comb_pred_2ms.npy\").reshape(-1,batch_length)\n",
    "V = np.load(\"/media/hdd01/sklee/CA1_clust4-60_AP/na_pred_nona_true/V_na_pred_nona_true_5ms.npy\").reshape(-1,batch_length)\n",
    "S = np.load(\"/media/hdd01/sklee/CA1_clust4-60_AP/data/spike_train_5ms.npy\").reshape(-1,batch_length)\n",
    "\n",
    "V-= np.mean(V)\n",
    "\n",
    "V = torch.from_numpy(V)\n",
    "S = torch.from_numpy(S)\n",
    "\n",
    "V_lag = np.zeros((V.shape[0], V.shape[1], lag)) #(lag,1000,50000)\n",
    "for i in range(lag):\n",
    "    V_lag[:,i+1:,i] = V[:,:-i-1]\n",
    "\n",
    "V_lag = torch.from_numpy(V_lag)\n",
    "print(V_lag.shape)"
   ]
  },
  {
   "cell_type": "code",
   "execution_count": 4,
   "id": "bfda0478",
   "metadata": {},
   "outputs": [
    {
     "name": "stdout",
     "output_type": "stream",
     "text": [
      "torch.Size([19600, 20])\n"
     ]
    }
   ],
   "source": [
    "V_train = V[:980].float()\n",
    "V_test = V[980:].float().to(device)\n",
    "S_train = S[:980].float()\n",
    "S_test = S[980:].float().to(device)\n",
    "V_lag_train = V_lag[:980].float()\n",
    "V_lag_test = V_lag[980:].float().to(device)\n",
    "\n",
    "train_idx = np.empty((epoch_no, 980))\n",
    "for i in range(epoch_no):\n",
    "    part_idx = np.arange(0,980,1)\n",
    "    np.random.shuffle(part_idx)\n",
    "    train_idx[i] = part_idx\n",
    "train_idx = train_idx.reshape(-1, batch_size)\n",
    "train_idx = torch.from_numpy(train_idx).long()\n",
    "print(train_idx.shape)"
   ]
  },
  {
   "cell_type": "code",
   "execution_count": 5,
   "id": "784b45c2",
   "metadata": {},
   "outputs": [
    {
     "name": "stdout",
     "output_type": "stream",
     "text": [
      "7601\n"
     ]
    }
   ],
   "source": [
    "model = AP_GRU_Lag(H_no, lag, device)\n",
    "optimizer = torch.optim.Adam(model.parameters(), lr = 0.0025)\n",
    "\n",
    "model.to(device).float()\n",
    "print(sum(p.numel() for p in model.parameters() if p.requires_grad))\n",
    "\n",
    "bce_criterion = nn.BCELoss(reduction=\"mean\")"
   ]
  },
  {
   "cell_type": "code",
   "execution_count": 6,
   "id": "84e29a0c",
   "metadata": {
    "scrolled": false
   },
   "outputs": [
    {
     "name": "stderr",
     "output_type": "stream",
     "text": [
      "<ipython-input-6-855b0e42f0dd>:4: TqdmDeprecationWarning: Please use `tqdm.notebook.trange` instead of `tqdm.tnrange`\n",
      "  for i in tnrange(10000):\n"
     ]
    },
    {
     "data": {
      "application/vnd.jupyter.widget-view+json": {
       "model_id": "c5cce0b67b4f45c1898a0ce358fe4008",
       "version_major": 2,
       "version_minor": 0
      },
      "text/plain": [
       "  0%|          | 0/10000 [00:00<?, ?it/s]"
      ]
     },
     "metadata": {},
     "output_type": "display_data"
    },
    {
     "name": "stdout",
     "output_type": "stream",
     "text": [
      "0 0.7024317383766174\n",
      "49 0.026844793930649757\n",
      "99 0.021208256483078003\n",
      "149 0.018966741859912872\n",
      "199 0.017512163147330284\n",
      "249 0.01659122295677662\n",
      "299 0.015885937958955765\n",
      "349 0.015307734720408916\n",
      "399 0.014832055196166039\n",
      "449 0.014433935284614563\n",
      "499 0.01405801810324192\n",
      "549 0.013716951943933964\n",
      "599 0.013388524763286114\n",
      "649 0.01309136487543583\n",
      "699 0.012856240384280682\n",
      "749 0.012510223314166069\n",
      "799 0.012317737564444542\n",
      "849 0.011968168430030346\n",
      "899 0.011678590439260006\n",
      "949 0.011360225267708302\n",
      "999 0.0112366434186697\n",
      "1049 0.011213636957108974\n",
      "1099 0.010656042024493217\n",
      "1149 0.010514487512409687\n",
      "1199 0.010206957347691059\n",
      "1249 0.010011480189859867\n",
      "1299 0.01003026869148016\n",
      "1349 0.009893104434013367\n",
      "1399 0.009666032157838345\n",
      "1449 0.009519552811980247\n",
      "1499 0.009359006769955158\n",
      "1549 0.00930898915976286\n",
      "1599 0.00945671834051609\n",
      "1649 0.009372634813189507\n",
      "1699 0.009063785895705223\n",
      "1749 0.009104101918637753\n",
      "1799 0.009088234975934029\n",
      "1849 0.008916082791984081\n",
      "1899 0.008818823844194412\n",
      "1949 0.008669961243867874\n",
      "1999 0.008743468672037125\n",
      "2049 0.008904846385121346\n",
      "2099 0.008699468336999416\n",
      "2149 0.009280474856495857\n",
      "2199 0.008619844913482666\n",
      "2249 0.008887577801942825\n",
      "2299 0.008673790842294693\n",
      "2349 0.008537488989531994\n",
      "2399 0.008637783117592335\n",
      "2449 0.008634720928966999\n",
      "2499 0.008491787128150463\n",
      "2549 0.008958636783063412\n",
      "2599 0.008464138954877853\n",
      "2649 0.00869073811918497\n",
      "2699 0.008775213733315468\n",
      "2749 0.008607346564531326\n",
      "2799 0.00850056391209364\n",
      "2849 0.008559423498809338\n",
      "2899 0.00849595945328474\n",
      "2949 0.008530090562999249\n",
      "2999 0.008776997216045856\n",
      "3049 0.008757089264690876\n",
      "3099 0.008429186418652534\n",
      "3149 0.008573507890105247\n",
      "3199 0.008439878933131695\n",
      "3249 0.008754185400903225\n",
      "3299 0.008363467641174793\n",
      "3349 0.008512654341757298\n",
      "3399 0.008382042869925499\n",
      "3449 0.008361149579286575\n",
      "3499 0.008583133108913898\n",
      "3549 0.008623171597719193\n",
      "3599 0.008600854314863682\n",
      "3649 0.008417163975536823\n",
      "3699 0.008543719537556171\n",
      "3749 0.0084022032096982\n",
      "3799 0.00878927018493414\n",
      "3849 0.008416717872023582\n",
      "3899 0.008548449724912643\n",
      "3949 0.008338633924722672\n",
      "3999 0.008756031282246113\n",
      "4049 0.008470279164612293\n",
      "4099 0.00843208096921444\n",
      "4149 0.008467249572277069\n",
      "4199 0.00837920792400837\n",
      "4249 0.008535472676157951\n",
      "4299 0.008466953411698341\n",
      "4349 0.008646592497825623\n",
      "4399 0.008300933986902237\n",
      "4449 0.008305598050355911\n",
      "4499 0.008267952129244804\n",
      "4549 0.009053017944097519\n",
      "4599 0.008705135434865952\n",
      "4649 0.008382292464375496\n",
      "4699 0.008532828651368618\n",
      "4749 0.008247371762990952\n",
      "4799 0.008687472902238369\n",
      "4849 0.008386041037738323\n",
      "4899 0.008292368613183498\n",
      "4949 0.008303333073854446\n",
      "4999 0.008388659916818142\n",
      "5049 0.008322256617248058\n",
      "5099 0.008283915929496288\n",
      "5149 0.008231726475059986\n",
      "5199 0.00835438072681427\n",
      "5249 0.00828282255679369\n",
      "5299 0.008290781639516354\n",
      "5349 0.008648586459457874\n",
      "5399 0.00830828957259655\n",
      "5449 0.008308126591145992\n",
      "5499 0.008813180029392242\n",
      "5549 0.008279530331492424\n",
      "5599 0.008383749052882195\n",
      "5649 0.008178817108273506\n",
      "5699 0.008470160886645317\n",
      "5749 0.008802267722785473\n",
      "5799 0.008199156261980534\n",
      "5849 0.008422105573117733\n",
      "5899 0.008261159062385559\n",
      "5949 0.008331021293997765\n",
      "5999 0.008264782838523388\n",
      "6049 0.008636890910565853\n",
      "6099 0.008471372537314892\n",
      "6149 0.008543851785361767\n",
      "6199 0.008428696542978287\n",
      "6249 0.008383214473724365\n",
      "6299 0.008579067885875702\n",
      "6349 0.00831426028162241\n",
      "6399 0.00842277705669403\n",
      "6449 0.008262352086603642\n",
      "6499 0.008481445722281933\n",
      "6549 0.008444586768746376\n",
      "6599 0.008711559697985649\n",
      "6649 0.008608793839812279\n",
      "6699 0.008243950083851814\n",
      "6749 0.008276800625026226\n",
      "6799 0.008826902136206627\n",
      "6849 0.008625171147286892\n",
      "6899 0.008427800610661507\n",
      "6949 0.008367327973246574\n",
      "6999 0.008450750261545181\n",
      "7049 0.008313597179949284\n",
      "7099 0.00858647096902132\n",
      "7149 0.008197491057217121\n",
      "7199 0.008351403288543224\n",
      "7249 0.00831124372780323\n",
      "7299 0.008088606409728527\n",
      "7349 0.00831348355859518\n",
      "7399 0.00836073700338602\n",
      "7449 0.008106590248644352\n",
      "7499 0.008532430976629257\n",
      "7549 0.008124956861138344\n",
      "7599 0.00810546986758709\n",
      "7649 0.008228965103626251\n",
      "7699 0.008424421772360802\n",
      "7749 0.008501681499183178\n",
      "7799 0.008010964840650558\n",
      "7849 0.00837765634059906\n",
      "7899 0.008376806043088436\n",
      "7949 0.008269398473203182\n",
      "7999 0.008354848250746727\n",
      "8049 0.008232749067246914\n",
      "8099 0.008546195924282074\n",
      "8149 0.008144519291818142\n",
      "8199 0.008378175087273121\n",
      "8249 0.00850745104253292\n",
      "8299 0.008415722288191319\n",
      "8349 0.0081979651004076\n",
      "8399 0.008179472759366035\n",
      "8449 0.008220521733164787\n",
      "8499 0.00814158283174038\n",
      "8549 0.008417371660470963\n",
      "8599 0.008234525099396706\n",
      "8649 0.008467127569019794\n",
      "8699 0.008193153887987137\n",
      "8749 0.008229131810367107\n",
      "8799 0.008685223758220673\n",
      "8849 0.008350752294063568\n",
      "8899 0.008351319469511509\n",
      "8949 0.008356355130672455\n",
      "8999 0.008451931178569794\n",
      "9049 0.008261443115770817\n",
      "9099 0.008242657408118248\n",
      "9149 0.00864857342094183\n",
      "9199 0.008385314606130123\n",
      "9249 0.008123242296278477\n",
      "9299 0.008871088735759258\n",
      "9349 0.008362081833183765\n",
      "9399 0.008094116114079952\n"
     ]
    },
    {
     "ename": "KeyboardInterrupt",
     "evalue": "",
     "output_type": "error",
     "traceback": [
      "\u001b[0;31m---------------------------------------------------------------------------\u001b[0m",
      "\u001b[0;31mKeyboardInterrupt\u001b[0m                         Traceback (most recent call last)",
      "\u001b[0;32m<ipython-input-6-855b0e42f0dd>\u001b[0m in \u001b[0;36m<module>\u001b[0;34m\u001b[0m\n\u001b[1;32m     19\u001b[0m     \u001b[0mloss\u001b[0m \u001b[0;34m=\u001b[0m \u001b[0mbce_criterion\u001b[0m\u001b[0;34m(\u001b[0m\u001b[0mS_out\u001b[0m\u001b[0;34m,\u001b[0m \u001b[0mbatch_S\u001b[0m\u001b[0;34m)\u001b[0m\u001b[0;34m\u001b[0m\u001b[0;34m\u001b[0m\u001b[0m\n\u001b[1;32m     20\u001b[0m \u001b[0;34m\u001b[0m\u001b[0m\n\u001b[0;32m---> 21\u001b[0;31m     \u001b[0mloss\u001b[0m\u001b[0;34m.\u001b[0m\u001b[0mbackward\u001b[0m\u001b[0;34m(\u001b[0m\u001b[0;34m)\u001b[0m\u001b[0;34m\u001b[0m\u001b[0;34m\u001b[0m\u001b[0m\n\u001b[0m\u001b[1;32m     22\u001b[0m     \u001b[0mnn\u001b[0m\u001b[0;34m.\u001b[0m\u001b[0mutils\u001b[0m\u001b[0;34m.\u001b[0m\u001b[0mclip_grad_norm_\u001b[0m\u001b[0;34m(\u001b[0m\u001b[0mmodel\u001b[0m\u001b[0;34m.\u001b[0m\u001b[0mparameters\u001b[0m\u001b[0;34m(\u001b[0m\u001b[0;34m)\u001b[0m\u001b[0;34m,\u001b[0m \u001b[0;36m10\u001b[0m\u001b[0;34m)\u001b[0m\u001b[0;34m\u001b[0m\u001b[0;34m\u001b[0m\u001b[0m\n\u001b[1;32m     23\u001b[0m     \u001b[0moptimizer\u001b[0m\u001b[0;34m.\u001b[0m\u001b[0mstep\u001b[0m\u001b[0;34m(\u001b[0m\u001b[0;34m)\u001b[0m\u001b[0;34m\u001b[0m\u001b[0;34m\u001b[0m\u001b[0m\n",
      "\u001b[0;32m~/anaconda3/lib/python3.8/site-packages/torch/tensor.py\u001b[0m in \u001b[0;36mbackward\u001b[0;34m(self, gradient, retain_graph, create_graph, inputs)\u001b[0m\n\u001b[1;32m    243\u001b[0m                 \u001b[0mcreate_graph\u001b[0m\u001b[0;34m=\u001b[0m\u001b[0mcreate_graph\u001b[0m\u001b[0;34m,\u001b[0m\u001b[0;34m\u001b[0m\u001b[0;34m\u001b[0m\u001b[0m\n\u001b[1;32m    244\u001b[0m                 inputs=inputs)\n\u001b[0;32m--> 245\u001b[0;31m         \u001b[0mtorch\u001b[0m\u001b[0;34m.\u001b[0m\u001b[0mautograd\u001b[0m\u001b[0;34m.\u001b[0m\u001b[0mbackward\u001b[0m\u001b[0;34m(\u001b[0m\u001b[0mself\u001b[0m\u001b[0;34m,\u001b[0m \u001b[0mgradient\u001b[0m\u001b[0;34m,\u001b[0m \u001b[0mretain_graph\u001b[0m\u001b[0;34m,\u001b[0m \u001b[0mcreate_graph\u001b[0m\u001b[0;34m,\u001b[0m \u001b[0minputs\u001b[0m\u001b[0;34m=\u001b[0m\u001b[0minputs\u001b[0m\u001b[0;34m)\u001b[0m\u001b[0;34m\u001b[0m\u001b[0;34m\u001b[0m\u001b[0m\n\u001b[0m\u001b[1;32m    246\u001b[0m \u001b[0;34m\u001b[0m\u001b[0m\n\u001b[1;32m    247\u001b[0m     \u001b[0;32mdef\u001b[0m \u001b[0mregister_hook\u001b[0m\u001b[0;34m(\u001b[0m\u001b[0mself\u001b[0m\u001b[0;34m,\u001b[0m \u001b[0mhook\u001b[0m\u001b[0;34m)\u001b[0m\u001b[0;34m:\u001b[0m\u001b[0;34m\u001b[0m\u001b[0;34m\u001b[0m\u001b[0m\n",
      "\u001b[0;32m~/anaconda3/lib/python3.8/site-packages/torch/autograd/__init__.py\u001b[0m in \u001b[0;36mbackward\u001b[0;34m(tensors, grad_tensors, retain_graph, create_graph, grad_variables, inputs)\u001b[0m\n\u001b[1;32m    143\u001b[0m         \u001b[0mretain_graph\u001b[0m \u001b[0;34m=\u001b[0m \u001b[0mcreate_graph\u001b[0m\u001b[0;34m\u001b[0m\u001b[0;34m\u001b[0m\u001b[0m\n\u001b[1;32m    144\u001b[0m \u001b[0;34m\u001b[0m\u001b[0m\n\u001b[0;32m--> 145\u001b[0;31m     Variable._execution_engine.run_backward(\n\u001b[0m\u001b[1;32m    146\u001b[0m         \u001b[0mtensors\u001b[0m\u001b[0;34m,\u001b[0m \u001b[0mgrad_tensors_\u001b[0m\u001b[0;34m,\u001b[0m \u001b[0mretain_graph\u001b[0m\u001b[0;34m,\u001b[0m \u001b[0mcreate_graph\u001b[0m\u001b[0;34m,\u001b[0m \u001b[0minputs\u001b[0m\u001b[0;34m,\u001b[0m\u001b[0;34m\u001b[0m\u001b[0;34m\u001b[0m\u001b[0m\n\u001b[1;32m    147\u001b[0m         allow_unreachable=True, accumulate_grad=True)  # allow_unreachable flag\n",
      "\u001b[0;31mKeyboardInterrupt\u001b[0m: "
     ]
    }
   ],
   "source": [
    "score_list = []\n",
    "\n",
    "#for i in tnrange(iter_no):\n",
    "for i in tnrange(10000):    \n",
    "    s = time.time()\n",
    "    model.train()\n",
    "    optimizer.zero_grad()\n",
    "    \n",
    "    batch_idx = train_idx[i]\n",
    "    batch_S = S_train[batch_idx].to(device)\n",
    "    batch_V = V_train[batch_idx].to(device)\n",
    "    batch_V_lag = V_lag_train[batch_idx].to(device)\n",
    "    \n",
    "    batch_V_in = torch.zeros(batch_size, batch_length, lag+1).to(device)\n",
    "    batch_V_in[:,:,0] = batch_V\n",
    "    batch_V_in[:,:,1:] = batch_V_lag\n",
    "    \n",
    "    S_out = model(batch_V_in)\n",
    "    loss = bce_criterion(S_out, batch_S)\n",
    "    \n",
    "    loss.backward()\n",
    "    nn.utils.clip_grad_norm_(model.parameters(), 10)\n",
    "    optimizer.step()\n",
    "    \n",
    "    step_time = time.time() - s\n",
    "    \n",
    "    if (i%50 == 49) or (i == 0):\n",
    "        model.eval()\n",
    "        V_test_in = torch.zeros(batch_size, batch_length, lag+1).to(device)\n",
    "        V_test_in[:,:,0] = V_test\n",
    "        V_test_in[:,:,1:] = V_lag_test\n",
    "        \n",
    "        test_S_out = model(V_test_in)\n",
    "        test_loss = bce_criterion(test_S_out, S_test).item()\n",
    "        \n",
    "        score_list.append(test_loss)\n",
    "        print(i, test_loss)"
   ]
  },
  {
   "cell_type": "code",
   "execution_count": null,
   "id": "f591ea9b",
   "metadata": {},
   "outputs": [],
   "source": []
  },
  {
   "cell_type": "code",
   "execution_count": 7,
   "id": "e006b31b",
   "metadata": {},
   "outputs": [
    {
     "data": {
      "text/plain": [
       "[<matplotlib.lines.Line2D at 0x7f11d83ec340>]"
      ]
     },
     "execution_count": 7,
     "metadata": {},
     "output_type": "execute_result"
    },
    {
     "data": {
      "image/png": "[encoded data removed]",
      "text/plain": [
       "<Figure size 432x288 with 1 Axes>"
      ]
     },
     "metadata": {
      "needs_background": "light"
     },
     "output_type": "display_data"
    }
   ],
   "source": [
    "plt.plot(np.asarray(score_list)[20:])"
   ]
  },
  {
   "cell_type": "code",
   "execution_count": 8,
   "id": "ad66af8b",
   "metadata": {},
   "outputs": [
    {
     "name": "stdout",
     "output_type": "stream",
     "text": [
      "tensor(0.9905, device='cuda:0', grad_fn=<MaxBackward1>)\n"
     ]
    },
    {
     "data": {
      "image/png": "[encoded data removed]",
      "text/plain": [
       "<Figure size 1080x360 with 1 Axes>"
      ]
     },
     "metadata": {
      "needs_background": "light"
     },
     "output_type": "display_data"
    }
   ],
   "source": [
    "plt.figure(figsize = (15,5))\n",
    "plt.plot(S_test[0].cpu().detach().numpy())\n",
    "plt.plot(test_S_out[1].cpu().detach().numpy())\n",
    "#plt.xlim(4500,5200)\n",
    "#plt.ylim(-1,10)\n",
    "print(torch.max(test_S_out))"
   ]
  },
  {
   "cell_type": "code",
   "execution_count": 9,
   "id": "780f8cd8",
   "metadata": {},
   "outputs": [],
   "source": [
    "#torch.save(model.state_dict(), \"/media/hdd01/sklee/CA1_clust4-60_AP/na_pred_nona_true/gru_l20_h40_5ms.pt\")\n",
    "#np.save(\"/media/hdd01/sklee/CA1_clust4-60_AP/na_pred_nona_true/gru_l20_h40_5ms_test.npy\", test_S_out.cpu().detach().numpy())"
   ]
  },
  {
   "cell_type": "code",
   "execution_count": null,
   "id": "220095ad",
   "metadata": {},
   "outputs": [],
   "source": []
  }
 ],
 "metadata": {
  "kernelspec": {
   "display_name": "Python 3",
   "language": "python",
   "name": "python3"
  },
  "language_info": {
   "codemirror_mode": {
    "name": "ipython",
    "version": 3
   },
   "file_extension": ".py",
   "mimetype": "text/x-python",
   "name": "python",
   "nbconvert_exporter": "python",
   "pygments_lexer": "ipython3",
   "version": "3.8.8"
  }
 },
 "nbformat": 4,
 "nbformat_minor": 5
}
