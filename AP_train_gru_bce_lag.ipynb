{
 "cells": [
  {
   "cell_type": "code",
   "execution_count": 1,
   "id": "e7faa469",
   "metadata": {},
   "outputs": [],
   "source": [
    "import numpy as np\n",
    "import torch \n",
    "import torch.nn as nn\n",
    "from tqdm import tnrange\n",
    "import torch.optim as optim\n",
    "import torch.nn.functional as F\n",
    "from sklearn import metrics\n",
    "import matplotlib.pyplot as plt\n",
    "import time\n",
    "from sklearn.metrics import explained_variance_score"
   ]
  },
  {
   "cell_type": "code",
   "execution_count": 2,
   "id": "8753064b",
   "metadata": {},
   "outputs": [],
   "source": [
    "class AP_GRU_Lag(nn.Module):\n",
    "    def __init__(self, H_no, lag, device):\n",
    "        super().__init__()\n",
    "        \n",
    "        self.H_no = H_no\n",
    "        self.device = device\n",
    "        \n",
    "        self.rnn = nn.GRU(lag+1, H_no, batch_first=True)\n",
    "        self.linear = nn.Linear(H_no, 1)\n",
    "        \n",
    "    def forward(self, V):\n",
    "        #V is shape (batch, 50000, lag+1)\n",
    "\n",
    "        rnn_out, _ = self.rnn(V) #(batch,50000,H)\n",
    "        rnn_out = rnn_out.reshape(-1,self.H_no)\n",
    "        lin_out = self.linear(rnn_out) #(batch*50000,1)\n",
    "        final = torch.sigmoid(lin_out.reshape(V.shape[0], V.shape[1]))\n",
    "        \n",
    "        return final\n",
    "\n"
   ]
  },
  {
   "cell_type": "code",
   "execution_count": 3,
   "id": "6e8d732d",
   "metadata": {},
   "outputs": [
    {
     "name": "stdout",
     "output_type": "stream",
     "text": [
      "torch.Size([1000, 2000, 20])\n"
     ]
    }
   ],
   "source": [
    "batch_size = 20\n",
    "batch_length = int(50000 / 5 / 5)\n",
    "H_no = 40\n",
    "device = torch.device(\"cuda\")\n",
    "lag = 20\n",
    "\n",
    "epoch_no = 400\n",
    "iter_no = epoch_no * 980 // batch_size\n",
    "\n",
    "#V = np.load(\"/media/hdd01/sklee/CA1_clust4-60_AP/data/vdata_T10_Ne2000_gA0.6_tauA1_gN0.8_Ni200_gG0.1_gB0.1_noDendNa_Er0.5_Ir7.4_random_NR_rep1000_stimseed1.npy\").reshape(-1,50001)[:,:50000]\n",
    "#V = np.load(\"/media/hdd01/sklee/CA1_clust4-60_AP/comb_pred/V_comb_pred_2ms.npy\").reshape(-1,batch_length)\n",
    "V = np.load(\"/media/hdd01/sklee/CA1_clust4-60_aSoma/diff_true/V_diff_true_5ms.npy\").reshape(-1,batch_length)\n",
    "S = np.load(\"/media/hdd01/sklee/CA1_clust4-60_aSoma/data/spike_train_5ms.npy\").reshape(-1,batch_length)\n",
    "\n",
    "V-= np.mean(V)\n",
    "\n",
    "V = torch.from_numpy(V)\n",
    "S = torch.from_numpy(S)\n",
    "\n",
    "V_lag = np.zeros((V.shape[0], V.shape[1], lag)) #(lag,1000,50000)\n",
    "for i in range(lag):\n",
    "    V_lag[:,i+1:,i] = V[:,:-i-1]\n",
    "\n",
    "V_lag = torch.from_numpy(V_lag)\n",
    "print(V_lag.shape)"
   ]
  },
  {
   "cell_type": "code",
   "execution_count": 4,
   "id": "bfda0478",
   "metadata": {},
   "outputs": [
    {
     "name": "stdout",
     "output_type": "stream",
     "text": [
      "torch.Size([19600, 20])\n"
     ]
    }
   ],
   "source": [
    "V_train = V[:980].float()\n",
    "V_test = V[980:].float().to(device)\n",
    "S_train = S[:980].float()\n",
    "S_test = S[980:].float().to(device)\n",
    "V_lag_train = V_lag[:980].float()\n",
    "V_lag_test = V_lag[980:].float().to(device)\n",
    "\n",
    "train_idx = np.empty((epoch_no, 980))\n",
    "for i in range(epoch_no):\n",
    "    part_idx = np.arange(0,980,1)\n",
    "    np.random.shuffle(part_idx)\n",
    "    train_idx[i] = part_idx\n",
    "train_idx = train_idx.reshape(-1, batch_size)\n",
    "train_idx = torch.from_numpy(train_idx).long()\n",
    "print(train_idx.shape)"
   ]
  },
  {
   "cell_type": "code",
   "execution_count": 5,
   "id": "784b45c2",
   "metadata": {},
   "outputs": [
    {
     "name": "stdout",
     "output_type": "stream",
     "text": [
      "7601\n"
     ]
    }
   ],
   "source": [
    "model = AP_GRU_Lag(H_no, lag, device)\n",
    "optimizer = torch.optim.Adam(model.parameters(), lr = 0.0025)\n",
    "\n",
    "model.to(device).float()\n",
    "print(sum(p.numel() for p in model.parameters() if p.requires_grad))\n",
    "\n",
    "bce_criterion = nn.BCELoss(reduction=\"mean\")"
   ]
  },
  {
   "cell_type": "code",
   "execution_count": 6,
   "id": "84e29a0c",
   "metadata": {
    "scrolled": false
   },
   "outputs": [
    {
     "name": "stderr",
     "output_type": "stream",
     "text": [
      "<ipython-input-6-855b0e42f0dd>:4: TqdmDeprecationWarning: Please use `tqdm.notebook.trange` instead of `tqdm.tnrange`\n",
      "  for i in tnrange(10000):\n"
     ]
    },
    {
     "data": {
      "application/vnd.jupyter.widget-view+json": {
       "model_id": "a4d64c0fb63c40408e0f774c98c8a6f0",
       "version_major": 2,
       "version_minor": 0
      },
      "text/plain": [
       "  0%|          | 0/10000 [00:00<?, ?it/s]"
      ]
     },
     "metadata": {},
     "output_type": "display_data"
    },
    {
     "name": "stdout",
     "output_type": "stream",
     "text": [
      "0 0.6277293562889099\n",
      "49 0.020804068073630333\n",
      "99 0.015077495947480202\n",
      "149 0.013661581091582775\n",
      "199 0.012829248793423176\n",
      "249 0.01215587742626667\n",
      "299 0.011683165095746517\n",
      "349 0.011366842314600945\n",
      "399 0.011057966388761997\n",
      "449 0.010844969190657139\n",
      "499 0.010663456283509731\n",
      "549 0.01040054950863123\n",
      "599 0.010471999645233154\n",
      "649 0.010135109536349773\n",
      "699 0.010015306994318962\n",
      "749 0.009713753126561642\n",
      "799 0.009527856484055519\n",
      "849 0.009154255501925945\n",
      "899 0.008870494551956654\n",
      "949 0.008752954192459583\n",
      "999 0.009118258021771908\n",
      "1049 0.008722614496946335\n",
      "1099 0.008448324166238308\n",
      "1149 0.008163525722920895\n",
      "1199 0.008190354332327843\n",
      "1249 0.008175214752554893\n",
      "1299 0.00814013835042715\n",
      "1349 0.007989036850631237\n",
      "1399 0.007819305174052715\n",
      "1449 0.007741009350866079\n",
      "1499 0.00806356966495514\n",
      "1549 0.008107970468699932\n",
      "1599 0.008166497573256493\n",
      "1649 0.008591956458985806\n",
      "1699 0.008389384485781193\n",
      "1749 0.007799940183758736\n",
      "1799 0.008824296295642853\n",
      "1849 0.008147630840539932\n",
      "1899 0.00799607951194048\n",
      "1949 0.007709442172199488\n",
      "1999 0.007922213524580002\n",
      "2049 0.009330754168331623\n",
      "2099 0.007637813221663237\n",
      "2149 0.007812223397195339\n",
      "2199 0.008658749051392078\n",
      "2249 0.008041854947805405\n",
      "2299 0.007727158721536398\n",
      "2349 0.007416425738483667\n",
      "2399 0.007611033506691456\n",
      "2449 0.0074109663255512714\n",
      "2499 0.0075189657509326935\n",
      "2549 0.007273857016116381\n",
      "2599 0.007767846342176199\n",
      "2649 0.0074446783401072025\n",
      "2699 0.007698275614529848\n",
      "2749 0.007596043404191732\n",
      "2799 0.007242565508931875\n",
      "2849 0.007658582646399736\n",
      "2899 0.007379770278930664\n",
      "2949 0.0071348403580486774\n",
      "2999 0.007375521585345268\n",
      "3049 0.007494966499507427\n",
      "3099 0.007258807308971882\n",
      "3149 0.007443626876920462\n",
      "3199 0.007358231116086245\n",
      "3249 0.007139516994357109\n",
      "3299 0.0072066145949065685\n",
      "3349 0.007093087770044804\n",
      "3399 0.0070596844889223576\n",
      "3449 0.007059860974550247\n",
      "3499 0.00701873516663909\n",
      "3549 0.007216500584036112\n",
      "3599 0.007156943902373314\n",
      "3649 0.007356533780694008\n",
      "3699 0.007137100677937269\n",
      "3749 0.00699412077665329\n",
      "3799 0.007378784939646721\n",
      "3849 0.007688854821026325\n",
      "3899 0.007101387716829777\n",
      "3949 0.006977354176342487\n",
      "3999 0.007110794074833393\n",
      "4049 0.007239018101245165\n",
      "4099 0.007248499896377325\n",
      "4149 0.0075787208043038845\n",
      "4199 0.006929595954716206\n",
      "4249 0.006994942203164101\n",
      "4299 0.0068350364454090595\n",
      "4349 0.007074815221130848\n",
      "4399 0.0069586834870278835\n",
      "4449 0.00705217057839036\n",
      "4499 0.0070082456804811954\n",
      "4549 0.007127807475626469\n",
      "4599 0.006808037403970957\n",
      "4649 0.007208767347037792\n",
      "4699 0.007201146334409714\n",
      "4749 0.006985409185290337\n",
      "4799 0.0072113326750695705\n",
      "4849 0.006843336392194033\n",
      "4899 0.007419921457767487\n",
      "4949 0.006991795729845762\n",
      "4999 0.00677017867565155\n",
      "5049 0.006733730901032686\n",
      "5099 0.006763041485100985\n",
      "5149 0.006921545136719942\n",
      "5199 0.006815389730036259\n",
      "5249 0.0066923657432198524\n",
      "5299 0.0071706403978168964\n",
      "5349 0.0067255231551826\n",
      "5399 0.006735149770975113\n",
      "5449 0.006679743994027376\n",
      "5499 0.006868206430226564\n",
      "5549 0.006664600223302841\n",
      "5599 0.006858088541775942\n",
      "5649 0.006689774338155985\n",
      "5699 0.006707875058054924\n",
      "5749 0.007081768475472927\n",
      "5799 0.006726444698870182\n",
      "5849 0.007103153970092535\n",
      "5899 0.006582498084753752\n",
      "5949 0.006887094583362341\n",
      "5999 0.006891610566526651\n",
      "6049 0.006771150976419449\n",
      "6099 0.0066899945959448814\n",
      "6149 0.006749426946043968\n",
      "6199 0.006783965975046158\n",
      "6249 0.0068641784600913525\n",
      "6299 0.0068340483121573925\n",
      "6349 0.006767144426703453\n",
      "6399 0.006846126168966293\n",
      "6449 0.0065679303370416164\n",
      "6499 0.006575132720172405\n",
      "6549 0.0069050914607942104\n",
      "6599 0.007665797136723995\n",
      "6649 0.006917126476764679\n",
      "6699 0.0066672987304627895\n",
      "6749 0.007407910190522671\n",
      "6799 0.007795118726789951\n",
      "6849 0.006950876209884882\n",
      "6899 0.006678222678601742\n",
      "6949 0.006810408551245928\n",
      "6999 0.006928193382918835\n",
      "7049 0.006835384760051966\n",
      "7099 0.007327504456043243\n",
      "7149 0.006753736641258001\n",
      "7199 0.006591873709112406\n",
      "7249 0.006694875191897154\n",
      "7299 0.006811235565692186\n",
      "7349 0.006713951006531715\n",
      "7399 0.006771191023290157\n",
      "7449 0.0067072645761072636\n",
      "7499 0.006879362277686596\n",
      "7549 0.006771279964596033\n",
      "7599 0.006950064096599817\n",
      "7649 0.006557702552527189\n",
      "7699 0.006858558394014835\n",
      "7749 0.006926086265593767\n",
      "7799 0.007290234323590994\n",
      "7849 0.006761164870113134\n",
      "7899 0.007290121167898178\n",
      "7949 0.0069907307624816895\n",
      "7999 0.006890963762998581\n",
      "8049 0.0066786534152925014\n",
      "8099 0.006895102560520172\n",
      "8149 0.006846915930509567\n",
      "8199 0.0067571010440588\n",
      "8249 0.0067169563844799995\n",
      "8299 0.006756594870239496\n",
      "8349 0.006864340044558048\n",
      "8399 0.00679410295560956\n",
      "8449 0.006943903397768736\n",
      "8499 0.0068874298594892025\n",
      "8549 0.00690033845603466\n",
      "8599 0.006979768164455891\n",
      "8649 0.006772411987185478\n",
      "8699 0.006787712685763836\n",
      "8749 0.0066167693585157394\n",
      "8799 0.006782050710171461\n",
      "8849 0.0068794721737504005\n",
      "8899 0.006790370214730501\n",
      "8949 0.007060456555336714\n",
      "8999 0.007110069040209055\n",
      "9049 0.006927458103746176\n",
      "9099 0.006891383323818445\n",
      "9149 0.006686806213110685\n",
      "9199 0.0069542815908789635\n",
      "9249 0.0068369703367352486\n",
      "9299 0.006945268716663122\n",
      "9349 0.007442666217684746\n",
      "9399 0.006700080819427967\n",
      "9449 0.0069124214351177216\n",
      "9499 0.0068429443053901196\n",
      "9549 0.006979163270443678\n",
      "9599 0.006814814638346434\n",
      "9649 0.0071948799304664135\n",
      "9699 0.006885824259370565\n",
      "9749 0.007084833923727274\n",
      "9799 0.006880035158246756\n",
      "9849 0.007098700385540724\n",
      "9899 0.0067974585108459\n",
      "9949 0.007154523860663176\n",
      "9999 0.007003083825111389\n"
     ]
    }
   ],
   "source": [
    "score_list = []\n",
    "\n",
    "#for i in tnrange(iter_no):\n",
    "for i in tnrange(10000):    \n",
    "    s = time.time()\n",
    "    model.train()\n",
    "    optimizer.zero_grad()\n",
    "    \n",
    "    batch_idx = train_idx[i]\n",
    "    batch_S = S_train[batch_idx].to(device)\n",
    "    batch_V = V_train[batch_idx].to(device)\n",
    "    batch_V_lag = V_lag_train[batch_idx].to(device)\n",
    "    \n",
    "    batch_V_in = torch.zeros(batch_size, batch_length, lag+1).to(device)\n",
    "    batch_V_in[:,:,0] = batch_V\n",
    "    batch_V_in[:,:,1:] = batch_V_lag\n",
    "    \n",
    "    S_out = model(batch_V_in)\n",
    "    loss = bce_criterion(S_out, batch_S)\n",
    "    \n",
    "    loss.backward()\n",
    "    nn.utils.clip_grad_norm_(model.parameters(), 10)\n",
    "    optimizer.step()\n",
    "    \n",
    "    step_time = time.time() - s\n",
    "    \n",
    "    if (i%50 == 49) or (i == 0):\n",
    "        model.eval()\n",
    "        V_test_in = torch.zeros(batch_size, batch_length, lag+1).to(device)\n",
    "        V_test_in[:,:,0] = V_test\n",
    "        V_test_in[:,:,1:] = V_lag_test\n",
    "        \n",
    "        test_S_out = model(V_test_in)\n",
    "        test_loss = bce_criterion(test_S_out, S_test).item()\n",
    "        \n",
    "        score_list.append(test_loss)\n",
    "        print(i, test_loss)"
   ]
  },
  {
   "cell_type": "code",
   "execution_count": null,
   "id": "f591ea9b",
   "metadata": {},
   "outputs": [],
   "source": []
  },
  {
   "cell_type": "code",
   "execution_count": 7,
   "id": "e006b31b",
   "metadata": {},
   "outputs": [
    {
     "data": {
      "text/plain": [
       "[<matplotlib.lines.Line2D at 0x7f71b435c400>]"
      ]
     },
     "execution_count": 7,
     "metadata": {},
     "output_type": "execute_result"
    },
    {
     "data": {
      "image/png": "[encoded data removed]",
      "text/plain": [
       "<Figure size 432x288 with 1 Axes>"
      ]
     },
     "metadata": {
      "needs_background": "light"
     },
     "output_type": "display_data"
    }
   ],
   "source": [
    "plt.plot(np.asarray(score_list)[20:])"
   ]
  },
  {
   "cell_type": "code",
   "execution_count": 8,
   "id": "ad66af8b",
   "metadata": {},
   "outputs": [
    {
     "name": "stdout",
     "output_type": "stream",
     "text": [
      "tensor(0.7918, device='cuda:0', grad_fn=<MaxBackward1>)\n"
     ]
    },
    {
     "data": {
      "image/png": "[encoded data removed]",
      "text/plain": [
       "<Figure size 1080x360 with 1 Axes>"
      ]
     },
     "metadata": {
      "needs_background": "light"
     },
     "output_type": "display_data"
    }
   ],
   "source": [
    "plt.figure(figsize = (15,5))\n",
    "plt.plot(S_test[0].cpu().detach().numpy())\n",
    "plt.plot(test_S_out[1].cpu().detach().numpy())\n",
    "#plt.xlim(4500,5200)\n",
    "#plt.ylim(-1,10)\n",
    "print(torch.max(test_S_out))"
   ]
  },
  {
   "cell_type": "code",
   "execution_count": 7,
   "id": "780f8cd8",
   "metadata": {},
   "outputs": [],
   "source": [
    "#torch.save(model.state_dict(), \"/media/hdd01/sklee/CA1_clust4-60_aSoma/diff_true/gru_l20_h40_5ms.pt\")\n",
    "#np.save(\"/media/hdd01/sklee/CA1_clust4-60_aSoma/diff_true/gru_l20_h40_5ms_test.npy\", test_S_out.cpu().detach().numpy())"
   ]
  },
  {
   "cell_type": "code",
   "execution_count": null,
   "id": "220095ad",
   "metadata": {},
   "outputs": [],
   "source": []
  }
 ],
 "metadata": {
  "kernelspec": {
   "display_name": "Python 3",
   "language": "python",
   "name": "python3"
  },
  "language_info": {
   "codemirror_mode": {
    "name": "ipython",
    "version": 3
   },
   "file_extension": ".py",
   "mimetype": "text/x-python",
   "name": "python",
   "nbconvert_exporter": "python",
   "pygments_lexer": "ipython3",
   "version": "3.8.8"
  }
 },
 "nbformat": 4,
 "nbformat_minor": 5
}
