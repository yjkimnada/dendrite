{
 "cells": [
  {
   "cell_type": "code",
   "execution_count": 1,
   "metadata": {},
   "outputs": [],
   "source": [
    "import numpy as np\n",
    "import torch\n",
    "from train_rootspike_glm import train_glm\n",
    "import matplotlib.pyplot as plt"
   ]
  },
  {
   "cell_type": "markdown",
   "metadata": {},
   "source": [
    "# Train"
   ]
  },
  {
   "cell_type": "code",
   "execution_count": 2,
   "metadata": {},
   "outputs": [],
   "source": [
    "base_dir = \"/media/hdd01/sklee/\"\n",
    "experiment = \"clust4-60\"\n",
    "cell_type = \"CA1\"\n",
    "\n",
    "E_neural_file = \"Espikes_neural.npy\"\n",
    "I_neural_file = \"Ispikes_neural.npy\"\n",
    "V_file = \"vdata_T10_Ne2000_gA0.6_tauA1_gN0.8_Ni200_gG0.1_gB0.1_Er0.5_Ir7.4_random_NR_rep10_stimseed1.npy\"\n",
    "C_syn_e_file = \"handsub6_C_syn_e.npy\"\n",
    "C_syn_i_file = \"handsub6_C_syn_i.npy\"\n",
    "C_den_file = \"handsub6_C_den.npy\"\n",
    "Z_file = \"spk_loc.npy\"\n",
    "\n",
    "E_neural = np.load(base_dir+cell_type+\"_\"+experiment+\"/data/\"+E_neural_file)\n",
    "I_neural = np.load(base_dir+cell_type+\"_\"+experiment+\"/data/\"+I_neural_file)\n",
    "V = np.load(base_dir+cell_type+\"_\"+experiment+\"/data/\"+V_file)[:,:50000].flatten()\n",
    "C_syn_e = np.load(base_dir+cell_type+\"_\"+experiment+\"/data/\"+C_syn_e_file)\n",
    "C_syn_i = np.load(base_dir+cell_type+\"_\"+experiment+\"/data/\"+C_syn_i_file)\n",
    "C_den = np.load(base_dir+cell_type+\"_\"+experiment+\"/data/\"+C_den_file)\n",
    "Z = np.load(base_dir+cell_type+\"_\"+experiment+\"/data/\"+Z_file)\n",
    "\n",
    "E_neural = torch.from_numpy(E_neural)\n",
    "I_neural = torch.from_numpy(I_neural)\n",
    "C_syn_e = torch.from_numpy(C_syn_e)\n",
    "C_syn_i = torch.from_numpy(C_syn_i)\n",
    "V = torch.from_numpy(V)\n",
    "C_den = torch.from_numpy(C_den)\n",
    "Z = torch.from_numpy(Z)"
   ]
  },
  {
   "cell_type": "code",
   "execution_count": 3,
   "metadata": {},
   "outputs": [],
   "source": [
    "model_type = \"alpha_rootspike\"\n",
    "T_train = 60 * 1000 * 5\n",
    "T_test = 10 * 1000 * 5\n",
    "T_no = 500\n",
    "save_dir = base_dir+cell_type+\"_\"+experiment+\"/\"\n",
    "device = torch.device(\"cuda\")\n",
    "batch_size = 100000\n",
    "iter_no = 20000\n",
    "epoch_no = 15\n",
    "lr = 0.001\n",
    "\n"
   ]
  },
  {
   "cell_type": "code",
   "execution_count": 4,
   "metadata": {
    "scrolled": false
   },
   "outputs": [
    {
     "name": "stdout",
     "output_type": "stream",
     "text": [
      "327\n"
     ]
    },
    {
     "data": {
      "application/vnd.jupyter.widget-view+json": {
       "model_id": "52777c1d65e744cbb5dc9a9985b52f32",
       "version_major": 2,
       "version_minor": 0
      },
      "text/plain": [
       "HBox(children=(HTML(value=''), FloatProgress(value=0.0, max=20000.0), HTML(value='')))"
      ]
     },
     "metadata": {},
     "output_type": "display_data"
    },
    {
     "name": "stdout",
     "output_type": "stream",
     "text": [
      "999 -0.01899552345275879 0.009494250640273094 1 259\n",
      "1999 0.39613795280456543 0.007184659130871296 1 103\n",
      "2999 0.6323962211608887 0.0068504950031638145 0 63\n",
      "3999 0.72151780128479 0.006833086255937815 1 48\n",
      "4999 0.7844074964523315 0.006804801058024168 1 46\n",
      "5999 0.8163480162620544 0.006845903117209673 1 36\n",
      "6999 -1.4014778137207031 91.46051788330078 462 45384\n",
      "7999 0.8566688299179077 0.006967648863792419 2 38\n",
      "8999 -4.77601432800293 78.90217590332031 462 39115\n",
      "9999 0.7918072938919067 0.008151981048285961 0 80\n",
      "10999 -0.3466378450393677 97.99189758300781 462 48669\n",
      "11999 0.8676190376281738 0.00703942496329546 0 46\n",
      "12999 0.8735628724098206 0.006914349272847176 0 33\n",
      "13999 -12.515281677246094 32.1059684753418 0 16189\n",
      "14999 0.8679088354110718 0.007133074104785919 1 47\n",
      "15999 -2.2398157119750977 94.4778060913086 462 46938\n",
      "16999 0.8809417486190796 0.0069344486109912395 1 35\n",
      "17999 -12.13005256652832 69.00211334228516 462 34219\n",
      "18999 -5.244850158691406 9.551798820495605 0 4931\n",
      "19999 -12.688425064086914 22.49688720703125 1 11407\n",
      "\n",
      "0.8872830867767334\n",
      "82.80265\n",
      "2 32\n"
     ]
    }
   ],
   "source": [
    "train_glm(model_type, V, Z, E_neural, I_neural, T_train, T_test,\n",
    "                T_no, batch_size, iter_no, epoch_no, C_den, C_syn_e, C_syn_i, \n",
    "                device, lr, save_dir)"
   ]
  },
  {
   "cell_type": "code",
   "execution_count": null,
   "metadata": {},
   "outputs": [],
   "source": []
  },
  {
   "cell_type": "code",
   "execution_count": null,
   "metadata": {},
   "outputs": [],
   "source": []
  },
  {
   "cell_type": "code",
   "execution_count": null,
   "metadata": {},
   "outputs": [],
   "source": [
    "output = np.load(\"/media/hdd01/sklee/\"+cell_type+\"_\"+experiment+\"/\"+model_type+\"_sub6_output.npz\")"
   ]
  },
  {
   "cell_type": "code",
   "execution_count": null,
   "metadata": {},
   "outputs": [],
   "source": [
    "test = output[\"test\"]\n",
    "#C_syn_e = output[\"C_syn_e\"]\n",
    "#C_syn_i = output[\"C_syn_i\"]\n",
    "filters = output[\"filters\"]"
   ]
  },
  {
   "cell_type": "code",
   "execution_count": null,
   "metadata": {},
   "outputs": [],
   "source": [
    "plt.figure(figsize = (20,6))\n",
    "plt.plot(V[T_train:T_train+T_test][16000:26000][:])\n",
    "plt.plot(test[16000:26000][:])\n"
   ]
  },
  {
   "cell_type": "code",
   "execution_count": null,
   "metadata": {},
   "outputs": [],
   "source": [
    "sub_no = 6\n",
    "print(filters.shape)\n",
    "\n",
    "fig, axs = plt.subplots(nrows=sub_no, ncols=4, figsize = (20,20))\n",
    "for i in range(sub_no):\n",
    "    axs[i,0].plot(filters[i])\n",
    "    axs[i,1].plot(filters[sub_no+i])\n",
    "    axs[i,2].plot(filters[2*sub_no+i][:])\n",
    "    axs[i,3].plot(filters[3*sub_no+i][:])\n",
    "    #axs[i,2].plot(filters[sub_no*2+i])"
   ]
  },
  {
   "cell_type": "code",
   "execution_count": null,
   "metadata": {},
   "outputs": [],
   "source": [
    "fig, axs = plt.subplots(ncols=2, figsize = (20,5))\n",
    "axs[0].plot(filters[-2][:])\n",
    "axs[1].plot(filters[-1][:])"
   ]
  },
  {
   "cell_type": "code",
   "execution_count": null,
   "metadata": {},
   "outputs": [],
   "source": []
  }
 ],
 "metadata": {
  "kernelspec": {
   "display_name": "Python 3",
   "language": "python",
   "name": "python3"
  },
  "language_info": {
   "codemirror_mode": {
    "name": "ipython",
    "version": 3
   },
   "file_extension": ".py",
   "mimetype": "text/x-python",
   "name": "python",
   "nbconvert_exporter": "python",
   "pygments_lexer": "ipython3",
   "version": "3.8.5"
  }
 },
 "nbformat": 4,
 "nbformat_minor": 4
}
