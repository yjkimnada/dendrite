{
 "cells": [
  {
   "cell_type": "code",
   "execution_count": 1,
   "id": "90263edc",
   "metadata": {},
   "outputs": [],
   "source": [
    "import numpy as np\n",
    "import torch \n",
    "import torch.nn as nn\n",
    "from tqdm import tnrange\n",
    "import torch.optim as optim\n",
    "import torch.nn.functional as F\n",
    "from sklearn import metrics\n",
    "import matplotlib.pyplot as plt\n",
    "import time\n",
    "from sklearn.metrics import explained_variance_score\n",
    "from models.gru import GRU\n",
    "import scipy"
   ]
  },
  {
   "cell_type": "code",
   "execution_count": 2,
   "id": "f7504a80",
   "metadata": {},
   "outputs": [],
   "source": [
    "class AP_GRU_Lag(nn.Module):\n",
    "    def __init__(self, H_no, lag, device):\n",
    "        super().__init__()\n",
    "        \n",
    "        self.H_no = H_no\n",
    "        self.device = device\n",
    "        \n",
    "        self.rnn = nn.GRU(lag+1, H_no, batch_first=True)\n",
    "        self.linear = nn.Linear(H_no, 1)\n",
    "        \n",
    "    def forward(self, V):\n",
    "        #V is shape (batch, 50000, lag+1)\n",
    "\n",
    "        rnn_out, _ = self.rnn(V) #(batch,50000,H)\n",
    "        rnn_out = rnn_out.reshape(-1,self.H_no)\n",
    "        lin_out = self.linear(rnn_out) #(batch*50000,1)\n",
    "        final = torch.sigmoid(lin_out.reshape(V.shape[0], V.shape[1]))\n",
    "        \n",
    "        return final"
   ]
  },
  {
   "cell_type": "code",
   "execution_count": 3,
   "id": "5b71ef9a",
   "metadata": {},
   "outputs": [],
   "source": [
    "T_train = 980 * 1000 * 50\n",
    "T_test = 1 * 1000 * 50\n",
    "batch_size = 5\n",
    "batch_length = 50000\n",
    "H_casc = 20\n",
    "H_out = 40\n",
    "device = torch.device(\"cuda:0\")\n",
    "iter_no = 9800*2\n",
    "epoch_no = iter_no*batch_length*batch_size//T_train\n",
    "lag = 20\n",
    "E_no = 2000\n",
    "I_no = 200\n",
    "sub_no = 5"
   ]
  },
  {
   "cell_type": "code",
   "execution_count": 4,
   "id": "ac7fd035",
   "metadata": {},
   "outputs": [],
   "source": [
    "base_dir = \"/scratch/yjk27/\"\n",
    "experiment = \"clust4-60\"\n",
    "cell_type = \"CA1\"\n",
    "E_neural_file = \"Espikes_neural.npz\"\n",
    "I_neural_file = \"Ispikes_neural.npz\"\n",
    "\n",
    "E_neural = scipy.sparse.load_npz(base_dir+cell_type+\"_\"+experiment+\"/data/\"+E_neural_file)\n",
    "I_neural = scipy.sparse.load_npz(base_dir+cell_type+\"_\"+experiment+\"/data/\"+I_neural_file)\n",
    "S = np.load(\"/scratch/yjk27/CA1_clust4-60_AP/data/spike_train_0.2ms.npy\").flatten()\n",
    "S = torch.from_numpy(S)\n",
    "\n",
    "C_syn_e = np.load(base_dir+cell_type+\"_\"+experiment+\"/data/handsub5_C_syn_e.npy\")\n",
    "C_syn_i = np.load(base_dir+cell_type+\"_\"+experiment+\"/data/handsub5_C_syn_i.npy\")\n",
    "C_syn_e = torch.from_numpy(C_syn_e).float()\n",
    "C_syn_i = torch.from_numpy(C_syn_i).float()"
   ]
  },
  {
   "cell_type": "code",
   "execution_count": 5,
   "id": "c461e9ee",
   "metadata": {},
   "outputs": [],
   "source": [
    "S_train = S[:T_train].float()\n",
    "S_test = S[-50000:].to(device).float()\n",
    "\n",
    "test_E_neural = E_neural[-50000:].toarray()\n",
    "test_I_neural = I_neural[-50000:].toarray()\n",
    "train_E_neural = E_neural[:T_train]\n",
    "train_I_neural = I_neural[:T_train]\n",
    "test_E_neural = torch.from_numpy(test_E_neural).float().to(device)\n",
    "test_I_neural = torch.from_numpy(test_I_neural).float().to(device)\n",
    "\n",
    "train_idx = np.empty((epoch_no, T_train//batch_length//batch_size))\n",
    "for i in range(epoch_no):\n",
    "    part_idx = np.arange(0, T_train, batch_length*batch_size)\n",
    "    np.random.shuffle(part_idx)\n",
    "    train_idx[i] = part_idx\n",
    "train_idx = train_idx.flatten()\n",
    "train_idx = torch.from_numpy(train_idx)"
   ]
  },
  {
   "cell_type": "code",
   "execution_count": 6,
   "id": "4f3cb3a4",
   "metadata": {},
   "outputs": [],
   "source": [
    "model_na = GRU(C_syn_e.to(device), C_syn_i.to(device), H_casc, device)\n",
    "model_nona = GRU(C_syn_e.to(device), C_syn_i.to(device), H_casc, device)\n",
    "model_ap = AP_GRU_Lag(H_out, lag, device)\n",
    "\n",
    "optimizer_na = torch.optim.Adam(model_na.parameters(), lr = 0.0005)\n",
    "optimizer_nona = torch.optim.Adam(model_nona.parameters(), lr = 0.0005)\n",
    "optimizer_ap = torch.optim.Adam(model_ap.parameters(), lr = 0.0005)\n",
    "model_na.to(device).float()\n",
    "model_nona.to(device).float()\n",
    "model_ap.to(device).float()\n",
    "\n",
    "bce_criterion = nn.BCELoss(reduction=\"mean\")"
   ]
  },
  {
   "cell_type": "code",
   "execution_count": 7,
   "id": "90735447",
   "metadata": {},
   "outputs": [
    {
     "data": {
      "text/plain": [
       "<All keys matched successfully>"
      ]
     },
     "execution_count": 7,
     "metadata": {},
     "output_type": "execute_result"
    }
   ],
   "source": [
    "model_na.load_state_dict(torch.load(\"/scratch/yjk27/CA1_clust4-60/mono/gru_s5_h20.pt\",\n",
    "                     map_location=device))\n",
    "model_nona.load_state_dict(torch.load(\"/scratch/yjk27/CA1_clust4-60_noNA/mono/gru_s5_h20.pt\",\n",
    "                     map_location=device))\n",
    "model_ap.load_state_dict(torch.load(\"/scratch/yjk27/CA1_clust4-60_AP/comb_pred/gru_l20_h40_0.2ms.pt\",\n",
    "                     map_location=device))"
   ]
  },
  {
   "cell_type": "code",
   "execution_count": 8,
   "id": "f34c78b6",
   "metadata": {
    "scrolled": true
   },
   "outputs": [
    {
     "name": "stderr",
     "output_type": "stream",
     "text": [
      "<ipython-input-8-648034f868db>:3: TqdmDeprecationWarning: Please use `tqdm.notebook.trange` instead of `tqdm.tnrange`\n",
      "  for i in tnrange(iter_no):\n"
     ]
    },
    {
     "data": {
      "application/vnd.jupyter.widget-view+json": {
       "model_id": "0208598da1ab41189a19477b9ffacd1b",
       "version_major": 2,
       "version_minor": 0
      },
      "text/plain": [
       "  0%|          | 0/19600 [00:00<?, ?it/s]"
      ]
     },
     "metadata": {},
     "output_type": "display_data"
    },
    {
     "name": "stdout",
     "output_type": "stream",
     "text": [
      "0 0.0010769516 17.52251148223877\n",
      "49 0.001101939 16.16802167892456\n",
      "99 0.0010760628 16.020034313201904\n",
      "149 0.0011363904 16.146130323410034\n",
      "199 0.0011041694 16.51260232925415\n",
      "249 0.001103356 15.992956161499023\n",
      "299 0.0010894069 16.22067904472351\n",
      "349 0.0010702348 16.117244720458984\n",
      "399 0.0010751614 16.105877161026\n",
      "449 0.0011560109 16.000539541244507\n",
      "499 0.0010637717 16.320362091064453\n",
      "549 0.0011119182 15.861346244812012\n",
      "599 0.0010493882 16.19486975669861\n",
      "649 0.0010906884 16.58070731163025\n",
      "699 0.0010945591 15.97835636138916\n",
      "749 0.0010818439 16.244476079940796\n",
      "799 0.001073363 16.1535964012146\n",
      "849 0.0010922624 16.265002727508545\n",
      "899 0.0011369305 16.067280054092407\n",
      "949 0.0010626079 16.294339418411255\n",
      "999 0.0011317389 16.164814710617065\n",
      "1049 0.0010887898 16.25582242012024\n",
      "1099 0.0010222099 16.18536376953125\n",
      "1149 0.001126238 15.99255895614624\n",
      "1199 0.001101499 16.12905526161194\n",
      "1249 0.0011165683 16.128421783447266\n",
      "1299 0.0010548473 15.976870775222778\n",
      "1349 0.0011169421 16.124593257904053\n",
      "1399 0.0011100768 16.35306167602539\n",
      "1449 0.0011311547 16.09849452972412\n",
      "1499 0.0011133373 15.959580898284912\n",
      "1549 0.0010667682 16.433914184570312\n",
      "1599 0.0010577329 16.28562831878662\n",
      "1649 0.0010089327 16.03471040725708\n",
      "1699 0.0010727881 15.964259147644043\n",
      "1749 0.0010648359 16.092634439468384\n",
      "1799 0.0011090187 15.969528913497925\n",
      "1849 0.0011100451 16.19518494606018\n",
      "1899 0.0010722787 16.190628051757812\n",
      "1949 0.001102409 16.113563299179077\n",
      "1999 0.0010819746 16.21073007583618\n",
      "2049 0.0010379384 16.039226531982422\n",
      "2099 0.0010334186 16.1490318775177\n",
      "2149 0.0010612344 16.163469314575195\n",
      "2199 0.0011172304 16.119877815246582\n",
      "2249 0.0010482724 16.08189845085144\n",
      "2299 0.0010717015 16.043983936309814\n",
      "2349 0.0010645716 15.963475227355957\n",
      "2399 0.0011117404 16.012922525405884\n",
      "2449 0.0011027524 15.861179828643799\n",
      "2499 0.001055217 16.155936241149902\n",
      "2549 0.0010922075 16.003861665725708\n",
      "2599 0.0010822287 15.973618507385254\n",
      "2649 0.0010753865 15.854315996170044\n",
      "2699 0.0010756088 16.17876386642456\n",
      "2749 0.0010799799 16.14255952835083\n",
      "2799 0.0010497442 15.930272340774536\n",
      "2849 0.001047158 16.31602191925049\n",
      "2899 0.0011085003 16.333123922348022\n",
      "2949 0.0010449614 15.994898319244385\n",
      "2999 0.0011285468 16.242547035217285\n",
      "3049 0.0010199514 16.23242449760437\n",
      "3099 0.0010357765 16.12156891822815\n",
      "3149 0.001026746 16.117640256881714\n",
      "3199 0.0010939131 16.22852659225464\n",
      "3249 0.0010661148 16.159761905670166\n",
      "3299 0.0010668386 15.932801008224487\n",
      "3349 0.0010760105 16.454840183258057\n",
      "3399 0.0010605293 16.283611536026\n",
      "3449 0.0010750227 16.065251111984253\n",
      "3499 0.0010745896 16.155560731887817\n",
      "3549 0.0010523982 16.332927465438843\n",
      "3599 0.0010567035 16.184058904647827\n"
     ]
    },
    {
     "name": "stderr",
     "output_type": "stream",
     "text": [
      "IOPub message rate exceeded.\n",
      "The notebook server will temporarily stop sending output\n",
      "to the client in order to avoid crashing it.\n",
      "To change this limit, set the config variable\n",
      "`--NotebookApp.iopub_msg_rate_limit`.\n",
      "\n",
      "Current values:\n",
      "NotebookApp.iopub_msg_rate_limit=1000.0 (msgs/sec)\n",
      "NotebookApp.rate_limit_window=3.0 (secs)\n",
      "\n"
     ]
    },
    {
     "ename": "KeyboardInterrupt",
     "evalue": "",
     "output_type": "error",
     "traceback": [
      "\u001b[0;31m---------------------------------------------------------------------------\u001b[0m",
      "\u001b[0;31mKeyboardInterrupt\u001b[0m                         Traceback (most recent call last)",
      "\u001b[0;32m<ipython-input-8-648034f868db>\u001b[0m in \u001b[0;36m<module>\u001b[0;34m\u001b[0m\n\u001b[1;32m     18\u001b[0m     \u001b[0mbatch_S\u001b[0m \u001b[0;34m=\u001b[0m \u001b[0mS_train\u001b[0m\u001b[0;34m[\u001b[0m\u001b[0mbatch_idx\u001b[0m \u001b[0;34m:\u001b[0m \u001b[0mbatch_idx\u001b[0m\u001b[0;34m+\u001b[0m\u001b[0mbatch_length\u001b[0m\u001b[0;34m*\u001b[0m\u001b[0mbatch_size\u001b[0m\u001b[0;34m]\u001b[0m\u001b[0;34m.\u001b[0m\u001b[0mreshape\u001b[0m\u001b[0;34m(\u001b[0m\u001b[0mbatch_size\u001b[0m\u001b[0;34m,\u001b[0m \u001b[0;34m-\u001b[0m\u001b[0;36m1\u001b[0m\u001b[0;34m)\u001b[0m\u001b[0;34m.\u001b[0m\u001b[0mto\u001b[0m\u001b[0;34m(\u001b[0m\u001b[0mdevice\u001b[0m\u001b[0;34m)\u001b[0m\u001b[0;34m\u001b[0m\u001b[0;34m\u001b[0m\u001b[0m\n\u001b[1;32m     19\u001b[0m \u001b[0;34m\u001b[0m\u001b[0m\n\u001b[0;32m---> 20\u001b[0;31m     \u001b[0mbatch_na\u001b[0m\u001b[0;34m,\u001b[0m \u001b[0m_\u001b[0m \u001b[0;34m=\u001b[0m \u001b[0mmodel_na\u001b[0m\u001b[0;34m(\u001b[0m\u001b[0mbatch_E_neural\u001b[0m\u001b[0;34m,\u001b[0m \u001b[0mbatch_I_neural\u001b[0m\u001b[0;34m)\u001b[0m\u001b[0;34m\u001b[0m\u001b[0;34m\u001b[0m\u001b[0m\n\u001b[0m\u001b[1;32m     21\u001b[0m     \u001b[0mbatch_nona\u001b[0m\u001b[0;34m,\u001b[0m \u001b[0m_\u001b[0m \u001b[0;34m=\u001b[0m \u001b[0mmodel_nona\u001b[0m\u001b[0;34m(\u001b[0m\u001b[0mbatch_E_neural\u001b[0m\u001b[0;34m,\u001b[0m \u001b[0mbatch_I_neural\u001b[0m\u001b[0;34m)\u001b[0m\u001b[0;34m\u001b[0m\u001b[0;34m\u001b[0m\u001b[0m\n\u001b[1;32m     22\u001b[0m \u001b[0;34m\u001b[0m\u001b[0m\n",
      "\u001b[0;32m/scratch/yjk27/anaconda3/lib/python3.8/site-packages/torch/nn/modules/module.py\u001b[0m in \u001b[0;36m_call_impl\u001b[0;34m(self, *input, **kwargs)\u001b[0m\n\u001b[1;32m    725\u001b[0m             \u001b[0mresult\u001b[0m \u001b[0;34m=\u001b[0m \u001b[0mself\u001b[0m\u001b[0;34m.\u001b[0m\u001b[0m_slow_forward\u001b[0m\u001b[0;34m(\u001b[0m\u001b[0;34m*\u001b[0m\u001b[0minput\u001b[0m\u001b[0;34m,\u001b[0m \u001b[0;34m**\u001b[0m\u001b[0mkwargs\u001b[0m\u001b[0;34m)\u001b[0m\u001b[0;34m\u001b[0m\u001b[0;34m\u001b[0m\u001b[0m\n\u001b[1;32m    726\u001b[0m         \u001b[0;32melse\u001b[0m\u001b[0;34m:\u001b[0m\u001b[0;34m\u001b[0m\u001b[0;34m\u001b[0m\u001b[0m\n\u001b[0;32m--> 727\u001b[0;31m             \u001b[0mresult\u001b[0m \u001b[0;34m=\u001b[0m \u001b[0mself\u001b[0m\u001b[0;34m.\u001b[0m\u001b[0mforward\u001b[0m\u001b[0;34m(\u001b[0m\u001b[0;34m*\u001b[0m\u001b[0minput\u001b[0m\u001b[0;34m,\u001b[0m \u001b[0;34m**\u001b[0m\u001b[0mkwargs\u001b[0m\u001b[0;34m)\u001b[0m\u001b[0;34m\u001b[0m\u001b[0;34m\u001b[0m\u001b[0m\n\u001b[0m\u001b[1;32m    728\u001b[0m         for hook in itertools.chain(\n\u001b[1;32m    729\u001b[0m                 \u001b[0m_global_forward_hooks\u001b[0m\u001b[0;34m.\u001b[0m\u001b[0mvalues\u001b[0m\u001b[0;34m(\u001b[0m\u001b[0;34m)\u001b[0m\u001b[0;34m,\u001b[0m\u001b[0;34m\u001b[0m\u001b[0;34m\u001b[0m\u001b[0m\n",
      "\u001b[0;32m/scratch/yjk27/dendrite/models/gru.py\u001b[0m in \u001b[0;36mforward\u001b[0;34m(self, S_e, S_i)\u001b[0m\n\u001b[1;32m     36\u001b[0m         \u001b[0mS_sub\u001b[0m \u001b[0;34m=\u001b[0m \u001b[0mS_e_sub\u001b[0m \u001b[0;34m+\u001b[0m \u001b[0mS_i_sub\u001b[0m\u001b[0;34m\u001b[0m\u001b[0;34m\u001b[0m\u001b[0m\n\u001b[1;32m     37\u001b[0m \u001b[0;34m\u001b[0m\u001b[0m\n\u001b[0;32m---> 38\u001b[0;31m         \u001b[0msub_out\u001b[0m \u001b[0;34m=\u001b[0m \u001b[0mtorch\u001b[0m\u001b[0;34m.\u001b[0m\u001b[0mzeros\u001b[0m\u001b[0;34m(\u001b[0m\u001b[0mbatch_size\u001b[0m\u001b[0;34m,\u001b[0m \u001b[0mT_data\u001b[0m\u001b[0;34m,\u001b[0m \u001b[0mself\u001b[0m\u001b[0;34m.\u001b[0m\u001b[0msub_no\u001b[0m\u001b[0;34m)\u001b[0m\u001b[0;34m.\u001b[0m\u001b[0mto\u001b[0m\u001b[0;34m(\u001b[0m\u001b[0mself\u001b[0m\u001b[0;34m.\u001b[0m\u001b[0mdevice\u001b[0m\u001b[0;34m)\u001b[0m\u001b[0;34m\u001b[0m\u001b[0;34m\u001b[0m\u001b[0m\n\u001b[0m\u001b[1;32m     39\u001b[0m \u001b[0;34m\u001b[0m\u001b[0m\n\u001b[1;32m     40\u001b[0m         \u001b[0;32mfor\u001b[0m \u001b[0ms\u001b[0m \u001b[0;32min\u001b[0m \u001b[0mrange\u001b[0m\u001b[0;34m(\u001b[0m\u001b[0mself\u001b[0m\u001b[0;34m.\u001b[0m\u001b[0msub_no\u001b[0m\u001b[0;34m)\u001b[0m\u001b[0;34m:\u001b[0m\u001b[0;34m\u001b[0m\u001b[0;34m\u001b[0m\u001b[0m\n",
      "\u001b[0;31mKeyboardInterrupt\u001b[0m: "
     ]
    }
   ],
   "source": [
    "score_list = np.zeros((iter_no//50))\n",
    "\n",
    "for i in tnrange(iter_no):\n",
    "    s = time.time()\n",
    "    \n",
    "    model_na.train()\n",
    "    model_nona.train()\n",
    "    model_ap.train()\n",
    "    optimizer_na.zero_grad()\n",
    "    optimizer_nona.zero_grad()\n",
    "    optimizer_ap.zero_grad()\n",
    "    \n",
    "    batch_idx = train_idx[i].long()\n",
    "    batch_E_neural = train_E_neural[batch_idx : batch_idx+batch_length*batch_size].toarray().reshape(batch_size, batch_length, -1)\n",
    "    batch_I_neural = train_I_neural[batch_idx : batch_idx+batch_length*batch_size].toarray().reshape(batch_size, batch_length, -1)\n",
    "    batch_E_neural = torch.from_numpy(batch_E_neural).float().to(device)\n",
    "    batch_I_neural = torch.from_numpy(batch_I_neural).float().to(device)\n",
    "    batch_S = S_train[batch_idx : batch_idx+batch_length*batch_size].reshape(batch_size, -1).to(device)\n",
    "    \n",
    "    batch_na, _ = model_na(batch_E_neural, batch_I_neural)\n",
    "    batch_nona, _ = model_nona(batch_E_neural, batch_I_neural)\n",
    "    \n",
    "    batch_soma = batch_na + batch_nona\n",
    "    batch_soma_in = torch.zeros((batch_size, batch_length, lag+1)).to(device) #(lag,1000,50000)\n",
    "    for j in range(lag):\n",
    "        batch_soma_in[:,j+1:,j+1] = batch_soma_in[:,j+1:,j+1] + batch_soma[:,:-j-1]\n",
    "    batch_soma_in[:,:,0] = batch_soma_in[:,:,0] + batch_soma \n",
    "    \n",
    "    S_out = model_ap(batch_soma_in)\n",
    "    #loss = torch.mean((V_out - batch_V) ** 2)\n",
    "    loss = bce_criterion(S_out, batch_S)\n",
    "\n",
    "    loss.backward()\n",
    "    nn.utils.clip_grad_norm_(model_na.parameters(), 1)\n",
    "    nn.utils.clip_grad_norm_(model_nona.parameters(), 1)\n",
    "    nn.utils.clip_grad_norm_(model_ap.parameters(), 1)\n",
    "    optimizer_na.step()\n",
    "    optimizer_nona.step()\n",
    "    optimizer_ap.step()\n",
    "    s1 = time.time()\n",
    "    \n",
    "    if (i%50 == 49) or (i == 0):\n",
    "        model_na.eval()\n",
    "        model_nona.eval()\n",
    "        model_ap.eval()\n",
    "\n",
    "        test_na, _ = model_na(test_E_neural.unsqueeze(0), test_I_neural.unsqueeze(0))\n",
    "        test_nona, _ = model_nona(test_E_neural.unsqueeze(0), test_I_neural.unsqueeze(0))\n",
    "        \n",
    "        test_soma = test_na + test_nona\n",
    "        test_soma_in = torch.zeros((1, batch_length, lag+1)).to(device) #(lag,1000,50000)\n",
    "        for j in range(lag):\n",
    "            test_soma_in[:,j+1:,j+1] = test_soma_in[:,j+1:,j+1] + test_soma[:,:-j-1]\n",
    "        test_soma_in[:,:,0] = test_soma_in[:,:,0] + test_soma\n",
    "        \n",
    "        test_S_out = model_ap(test_soma_in).flatten()\n",
    "        #test_loss = torch.mean((test_S_out - S_test)**2).cpu().detach().numpy()\n",
    "        test_loss = bce_criterion(test_S_out, S_test).cpu().detach().numpy()\n",
    "        score_list[i//50] = test_loss\n",
    "        \n",
    "        print(i, test_loss, s1 - s)"
   ]
  },
  {
   "cell_type": "code",
   "execution_count": null,
   "id": "7f91a8f2",
   "metadata": {},
   "outputs": [],
   "source": []
  },
  {
   "cell_type": "code",
   "execution_count": 9,
   "id": "90e50664",
   "metadata": {},
   "outputs": [
    {
     "data": {
      "text/plain": [
       "[<matplotlib.lines.Line2D at 0x7f019ecc3160>]"
      ]
     },
     "execution_count": 9,
     "metadata": {},
     "output_type": "execute_result"
    },
    {
     "data": {
      "image/png": "[encoded data removed]",
      "text/plain": [
       "<Figure size 432x288 with 1 Axes>"
      ]
     },
     "metadata": {
      "needs_background": "light"
     },
     "output_type": "display_data"
    }
   ],
   "source": [
    "plt.plot(score_list[:79])"
   ]
  },
  {
   "cell_type": "code",
   "execution_count": 12,
   "id": "227dff44",
   "metadata": {},
   "outputs": [
    {
     "data": {
      "text/plain": [
       "(20000.0, 30000.0)"
      ]
     },
     "execution_count": 12,
     "metadata": {},
     "output_type": "execute_result"
    },
    {
     "data": {
      "image/png": "[encoded data removed]",
      "text/plain": [
       "<Figure size 1080x360 with 1 Axes>"
      ]
     },
     "metadata": {
      "needs_background": "light"
     },
     "output_type": "display_data"
    }
   ],
   "source": [
    "plt.figure(figsize=(15,5))\n",
    "plt.plot(S_test.cpu().detach().numpy())\n",
    "plt.plot(test_S_out.cpu().detach().numpy())\n",
    "#plt.plot()\n",
    "#plt.plot(batch_V[0].cpu().detach().numpy())\n",
    "#plt.plot(V[315*50000:316*50000].cpu().detach().numpy())\n",
    "plt.xlim(20000,30000)"
   ]
  },
  {
   "cell_type": "code",
   "execution_count": 13,
   "id": "2117dfcb",
   "metadata": {},
   "outputs": [],
   "source": [
    "#torch.save(model_ap.state_dict(), \"/scratch/yjk27/CA1_clust4-60_AP/comb_pred/gru_l20_h40_0.2ms_joint.pt\")\n",
    "#torch.save(model_na.state_dict(), \"/scratch/yjk27/CA1_clust4-60_AP/comb_pred/gru_s5_h20_na_joint.pt\")\n",
    "#torch.save(model_nona.state_dict(), \"/scratch/yjk27/CA1_clust4-60_AP/comb_pred/gru_s5_h20_nona_joint.pt\")\n"
   ]
  },
  {
   "cell_type": "markdown",
   "id": "b4efe029",
   "metadata": {},
   "source": [
    "# Test"
   ]
  },
  {
   "cell_type": "code",
   "execution_count": 7,
   "id": "e3b94d5a",
   "metadata": {},
   "outputs": [
    {
     "data": {
      "text/plain": [
       "AP_GRU_Lag(\n",
       "  (rnn): GRU(21, 40, batch_first=True)\n",
       "  (linear): Linear(in_features=40, out_features=1, bias=True)\n",
       ")"
      ]
     },
     "execution_count": 7,
     "metadata": {},
     "output_type": "execute_result"
    }
   ],
   "source": [
    "model_na.load_state_dict(torch.load(\"/scratch/yjk27/CA1_clust4-60_AP/comb_pred/gru_s5_h20_na_joint.pt\",\n",
    "                     map_location=device))\n",
    "model_nona.load_state_dict(torch.load(\"/scratch/yjk27/CA1_clust4-60_AP/comb_pred/gru_s5_h20_nona_joint.pt\",\n",
    "                     map_location=device))\n",
    "model_ap.load_state_dict(torch.load(\"/scratch/yjk27/CA1_clust4-60_AP/comb_pred/gru_l20_h40_0.2ms_joint.pt\",\n",
    "                     map_location=device))\n",
    "\n",
    "model_na.eval()\n",
    "model_nona.eval()\n",
    "model_ap.eval()"
   ]
  },
  {
   "cell_type": "code",
   "execution_count": 8,
   "id": "1ffc064f",
   "metadata": {},
   "outputs": [
    {
     "name": "stderr",
     "output_type": "stream",
     "text": [
      "<ipython-input-8-6e5ca55d7103>:4: TqdmDeprecationWarning: Please use `tqdm.notebook.trange` instead of `tqdm.tnrange`\n",
      "  for i in tnrange(20//batch_size):\n"
     ]
    },
    {
     "data": {
      "application/vnd.jupyter.widget-view+json": {
       "model_id": "981b67886c834c2583ae8c07f2d1942c",
       "version_major": 2,
       "version_minor": 0
      },
      "text/plain": [
       "  0%|          | 0/4 [00:00<?, ?it/s]"
      ]
     },
     "metadata": {},
     "output_type": "display_data"
    }
   ],
   "source": [
    "S_test = S[980*50000:].reshape(20,50000)\n",
    "test_S_out = np.empty((20,50000))\n",
    "batch_size = 5\n",
    "for i in tnrange(20//batch_size):\n",
    "    batch_E_neural = E_neural[980*50000 + i*batch_size*50000: 980*50000 + (i+1)*batch_size*50000].toarray().reshape(batch_size, 50000, 2000)\n",
    "    batch_I_neural = I_neural[980*50000 + i*batch_size*50000: 980*50000 + (i+1)*batch_size*50000].toarray().reshape(batch_size, 50000, 200)\n",
    "    batch_E_neural = torch.from_numpy(batch_E_neural).float().to(device)\n",
    "    batch_I_neural = torch.from_numpy(batch_I_neural).float().to(device)\n",
    "    \n",
    "    batch_na, _ = model_na(batch_E_neural, batch_I_neural)\n",
    "    batch_nona, _ = model_nona(batch_E_neural, batch_I_neural)\n",
    "    batch_soma = batch_na + batch_nona\n",
    "    batch_soma_in = torch.zeros((batch_size, batch_length, lag+1)).to(device) #(lag,1000,50000)\n",
    "    for j in range(lag):\n",
    "        batch_soma_in[:,j+1:,j+1] = batch_soma_in[:,j+1:,j+1] + batch_soma[:,:-j-1]\n",
    "    batch_soma_in[:,:,0] = batch_soma_in[:,:,0] + batch_soma \n",
    "    \n",
    "    S_out = model_ap(batch_soma_in)\n",
    "    test_S_out[i*batch_size:(i+1)*batch_size] = S_out.cpu().detach().numpy()"
   ]
  },
  {
   "cell_type": "code",
   "execution_count": 10,
   "id": "7c93d3a5",
   "metadata": {},
   "outputs": [
    {
     "data": {
      "text/plain": [
       "(23000.0, 27000.0)"
      ]
     },
     "execution_count": 10,
     "metadata": {},
     "output_type": "execute_result"
    },
    {
     "data": {
      "image/png": "[encoded data removed]",
      "text/plain": [
       "<Figure size 1080x360 with 1 Axes>"
      ]
     },
     "metadata": {
      "needs_background": "light"
     },
     "output_type": "display_data"
    }
   ],
   "source": [
    "plt.figure(figsize=(15,5))\n",
    "plt.plot(S_test[0])\n",
    "plt.plot(test_S_out[0])\n",
    "plt.xlim(23000,27000)"
   ]
  },
  {
   "cell_type": "code",
   "execution_count": null,
   "id": "10debb88",
   "metadata": {},
   "outputs": [],
   "source": []
  },
  {
   "cell_type": "code",
   "execution_count": 12,
   "id": "8164356b",
   "metadata": {},
   "outputs": [],
   "source": [
    "#np.save(\"/scratch/yjk27/CA1_clust4-60_AP/comb_pred/gru_l20_h40_0.2ms_test_joint.npy\", test_S_out)"
   ]
  },
  {
   "cell_type": "code",
   "execution_count": null,
   "id": "7b076226",
   "metadata": {},
   "outputs": [],
   "source": []
  }
 ],
 "metadata": {
  "kernelspec": {
   "display_name": "Python 3",
   "language": "python",
   "name": "python3"
  },
  "language_info": {
   "codemirror_mode": {
    "name": "ipython",
    "version": 3
   },
   "file_extension": ".py",
   "mimetype": "text/x-python",
   "name": "python",
   "nbconvert_exporter": "python",
   "pygments_lexer": "ipython3",
   "version": "3.8.8"
  }
 },
 "nbformat": 4,
 "nbformat_minor": 5
}
