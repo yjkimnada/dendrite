{
 "cells": [
  {
   "cell_type": "code",
   "execution_count": 1,
   "metadata": {},
   "outputs": [],
   "source": [
    "import numpy as np\n",
    "import torch\n",
    "from train_glm import train_glm\n"
   ]
  },
  {
   "cell_type": "code",
   "execution_count": 2,
   "metadata": {},
   "outputs": [],
   "source": [
    "base_dir = \"/media/hdd01/sklee/\"\n",
    "experiment = \"random\"\n",
    "cell_type = \"CA1\"\n",
    "\n",
    "E_neural_file = \"Espikes_T10_Ne2000_gA0.6_tauA1_gN0.8_Ni200_gG0.7_gB1.2_Er1_Ir7.5_random_NR_neural.npy\"\n",
    "I_neural_file = \"Ispikes_T10_Ne2000_gA0.6_tauA1_gN0.8_Ni200_gG0.7_gB1.2_Er1_Ir7.5_random_NR_neural.npy\"\n",
    "V_file = \"vdata_T10_Ne2000_gA0.6_tauA1_gN0.8_Ni200_gG0.7_gB1.2_Er1_Ir7.5_random_NR_rep16_stimseed1.npy\"\n",
    "C_syn_e_file = \"handsub6_C_syn_e.npy\"\n",
    "C_syn_i_file = \"handsub6_C_syn_i.npy\"\n",
    "C_den_file = \"handsub6_C_den.npy\"\n",
    "\n",
    "\n",
    "E_neural = np.load(base_dir+cell_type+\"_\"+experiment+\"/data/\"+E_neural_file)\n",
    "I_neural = np.load(base_dir+cell_type+\"_\"+experiment+\"/data/\"+I_neural_file)\n",
    "V = np.load(base_dir+cell_type+\"_\"+experiment+\"/data/\"+V_file)[:,:10000].flatten()\n",
    "C_syn_e = np.load(base_dir+cell_type+\"_\"+experiment+\"/data/\"+C_syn_e_file)\n",
    "C_syn_i = np.load(base_dir+cell_type+\"_\"+experiment+\"/data/\"+C_syn_i_file)\n",
    "C_den = np.load(base_dir+cell_type+\"_\"+experiment+\"/data/\"+C_den_file)\n",
    "\n",
    "E_neural = torch.from_numpy(E_neural)\n",
    "I_neural = torch.from_numpy(I_neural)\n",
    "C_syn_e = torch.from_numpy(C_syn_e)\n",
    "C_syn_i = torch.from_numpy(C_syn_i)\n",
    "V = torch.from_numpy(V)\n",
    "C_den = torch.from_numpy(C_den)"
   ]
  },
  {
   "cell_type": "code",
   "execution_count": 3,
   "metadata": {},
   "outputs": [],
   "source": [
    "model_type = \"alpha\"\n",
    "T_train = 65000\n",
    "T_test = 15000\n",
    "T_no = 100\n",
    "save_dir = base_dir+cell_type+\"_\"+experiment+\"/\"\n",
    "device = torch.device(\"cuda\")\n",
    "sparse_no = 0\n",
    "\n",
    "if model_type == \"alpha\":\n",
    "    batch_size = 60000\n",
    "    iter_no = 10000\n",
    "    epoch_no = 5\n",
    "elif model_type == \"alpha_cos\":\n",
    "    batch_size = 3000\n",
    "    iter_no = 25000\n",
    "    epoch_no = 5"
   ]
  },
  {
   "cell_type": "code",
   "execution_count": null,
   "metadata": {
    "scrolled": false
   },
   "outputs": [
    {
     "data": {
      "application/vnd.jupyter.widget-view+json": {
       "model_id": "2f9b0559d0084f2db98240ef4986611e",
       "version_major": 2,
       "version_minor": 0
      },
      "text/plain": [
       "HBox(children=(HTML(value=''), FloatProgress(value=0.0, max=10000.0), HTML(value='')))"
      ]
     },
     "metadata": {},
     "output_type": "display_data"
    },
    {
     "name": "stdout",
     "output_type": "stream",
     "text": [
      "0 -0.265132394699815\n",
      "100 0.44772912389754305\n",
      "200 0.6268710689670149\n",
      "300 0.7601954255179011\n",
      "400 0.7972123512728247\n",
      "500 0.8111613787820449\n",
      "600 0.8159947415160794\n",
      "700 0.8144832655804338\n",
      "800 0.8226770749238002\n",
      "900 0.8246232095494243\n",
      "1000 0.826594974005049\n",
      "1100 0.8284099162318243\n",
      "1200 0.8281544623119654\n",
      "1300 0.8299373382650888\n",
      "1400 0.8320169252148061\n",
      "1500 0.8294666511203039\n",
      "1600 0.832656757520879\n",
      "1700 0.8327981176495116\n",
      "1800 0.8336219411315866\n",
      "1900 0.8323004829637548\n",
      "2000 0.8336449613052691\n",
      "2100 0.8331911664609598\n",
      "2200 0.8306422842883208\n",
      "2300 0.8349611340460603\n",
      "2400 0.8331650803618894\n",
      "2500 0.8364497205849521\n",
      "2600 0.8362621893343092\n",
      "2700 0.8349389472443306\n",
      "2800 0.8372244713488659\n",
      "2900 0.8378415676112936\n",
      "3000 0.8384248616772182\n",
      "3100 0.8368194494878183\n",
      "3200 0.8386060582426152\n",
      "3300 0.8390993064130737\n",
      "3400 0.8387284534361001\n",
      "3500 0.8391543536514245\n",
      "3600 0.8397290289891784\n",
      "3700 0.83914368342854\n",
      "3800 0.8399164160550369\n",
      "3900 0.8396760216342491\n",
      "4000 0.8389167876930657\n",
      "4100 0.8404005295532971\n",
      "4200 0.8394530357123798\n",
      "4300 0.8397283732814966\n",
      "4400 0.8411188964174857\n",
      "4500 0.841285986505616\n",
      "4600 0.8388898229071633\n",
      "4700 0.8415230291256385\n",
      "4800 0.8408595983797149\n",
      "4900 0.8414285111368024\n",
      "5000 0.8405110379598474\n",
      "5100 0.8405622695151259\n",
      "5200 0.8401945745288775\n",
      "5300 0.8413076317279642\n",
      "5400 0.8413429788661021\n",
      "5500 0.8409127276884576\n",
      "5600 0.8395408311283594\n",
      "5700 0.8408638032515914\n",
      "5800 0.8406129692665237\n",
      "5900 0.8411030554406831\n",
      "6000 0.840031547409722\n",
      "6100 0.8418831088693972\n",
      "6200 0.8411530124991488\n",
      "6300 0.8419084346893659\n",
      "6400 0.8421072759749886\n",
      "6500 0.8425264020998446\n",
      "6600 0.8417851026749317\n",
      "6700 0.8430389154644896\n",
      "6800 0.8412606225881768\n",
      "6900 0.8413867234617064\n",
      "7000 0.8419129735350466\n",
      "7100 0.8423230167749545\n",
      "7200 0.8420789691619998\n",
      "7300 0.8415403764668112\n",
      "7400 0.8418361776628289\n",
      "7500 0.8424380329356922\n",
      "7600 0.8415114128765447\n",
      "7700 0.8415075513959114\n",
      "7800 0.8417947993938585\n",
      "7900 0.8419930238107348\n",
      "8000 0.8428032416748383\n",
      "8100 0.8417166473440706\n",
      "8200 0.8420177879166093\n",
      "8300 0.8425607208617972\n",
      "8400 0.8410551457067568\n"
     ]
    }
   ],
   "source": [
    "train_glm(model_type, V, E_neural, I_neural, T_train, T_test,\n",
    "                T_no, batch_size, iter_no, epoch_no, C_den, C_syn_e, C_syn_i, \n",
    "                sparse_no, device, save_dir)"
   ]
  },
  {
   "cell_type": "code",
   "execution_count": null,
   "metadata": {},
   "outputs": [],
   "source": []
  },
  {
   "cell_type": "code",
   "execution_count": null,
   "metadata": {},
   "outputs": [],
   "source": []
  }
 ],
 "metadata": {
  "kernelspec": {
   "display_name": "Python 3",
   "language": "python",
   "name": "python3"
  },
  "language_info": {
   "codemirror_mode": {
    "name": "ipython",
    "version": 3
   },
   "file_extension": ".py",
   "mimetype": "text/x-python",
   "name": "python",
   "nbconvert_exporter": "python",
   "pygments_lexer": "ipython3",
   "version": "3.8.5"
  }
 },
 "nbformat": 4,
 "nbformat_minor": 4
}
