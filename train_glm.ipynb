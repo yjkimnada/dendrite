{
 "cells": [
  {
   "cell_type": "code",
   "execution_count": 1,
   "metadata": {},
   "outputs": [],
   "source": [
    "import numpy as np\n",
    "import torch\n",
    "from train_glm import train_glm\n"
   ]
  },
  {
   "cell_type": "code",
   "execution_count": 2,
   "metadata": {},
   "outputs": [],
   "source": [
    "base_dir = \"/media/hdd01/sklee/\"\n",
    "experiment = \"random\"\n",
    "cell_type = \"CA1\"\n",
    "\n",
    "E_neural_file = \"Espikes_T10_Ne2000_gA0.6_tauA1_gN0.8_Ni200_gG0.7_gB1.2_Er1_Ir7.5_random_NR_neural.npy\"\n",
    "I_neural_file = \"Ispikes_T10_Ne2000_gA0.6_tauA1_gN0.8_Ni200_gG0.7_gB1.2_Er1_Ir7.5_random_NR_neural.npy\"\n",
    "V_file = \"vdata_T10_Ne2000_gA0.6_tauA1_gN0.8_Ni200_gG0.7_gB1.2_Er1_Ir7.5_random_NR_rep16_stimseed1.npy\"\n",
    "C_syn_e_file = \"handsub6_C_syn_e.npy\"\n",
    "C_syn_i_file = \"handsub6_C_syn_i.npy\"\n",
    "C_den_file = \"handsub6_C_den.npy\"\n",
    "\n",
    "\n",
    "E_neural = np.load(base_dir+cell_type+\"_\"+experiment+\"/data/\"+E_neural_file)\n",
    "I_neural = np.load(base_dir+cell_type+\"_\"+experiment+\"/data/\"+I_neural_file)\n",
    "V = np.load(base_dir+cell_type+\"_\"+experiment+\"/data/\"+V_file)[:,:10000].flatten()\n",
    "C_syn_e = np.load(base_dir+cell_type+\"_\"+experiment+\"/data/\"+C_syn_e_file)\n",
    "C_syn_i = np.load(base_dir+cell_type+\"_\"+experiment+\"/data/\"+C_syn_i_file)\n",
    "C_den = np.load(base_dir+cell_type+\"_\"+experiment+\"/data/\"+C_den_file)\n",
    "\n",
    "E_neural = torch.from_numpy(E_neural)\n",
    "I_neural = torch.from_numpy(I_neural)\n",
    "C_syn_e = torch.from_numpy(C_syn_e)\n",
    "C_syn_i = torch.from_numpy(C_syn_i)\n",
    "V = torch.from_numpy(V)\n",
    "C_den = torch.from_numpy(C_den)"
   ]
  },
  {
   "cell_type": "code",
   "execution_count": 3,
   "metadata": {},
   "outputs": [],
   "source": [
    "model_type = \"alpha\"\n",
    "T_train = 65000\n",
    "T_test = 15000\n",
    "T_no = 100\n",
    "save_dir = base_dir+cell_type+\"_\"+experiment+\"/\"\n",
    "device = torch.device(\"cuda\")\n",
    "sparse_no = 0\n",
    "\n",
    "if model_type == \"alpha\":\n",
    "    batch_size = 60000\n",
    "    iter_no = 10000\n",
    "    epoch_no = 5\n",
    "elif model_type == \"alpha_cos\":\n",
    "    batch_size = 60000\n",
    "    iter_no = 25000\n",
    "    epoch_no = 5"
   ]
  },
  {
   "cell_type": "code",
   "execution_count": null,
   "metadata": {
    "scrolled": false
   },
   "outputs": [
    {
     "data": {
      "application/vnd.jupyter.widget-view+json": {
       "model_id": "39ed6d95466a457cbbd95b9a47d145fe",
       "version_major": 2,
       "version_minor": 0
      },
      "text/plain": [
       "HBox(children=(HTML(value=''), FloatProgress(value=0.0, max=10000.0), HTML(value='')))"
      ]
     },
     "metadata": {},
     "output_type": "display_data"
    },
    {
     "name": "stdout",
     "output_type": "stream",
     "text": [
      "0 -0.3559658530772656\n",
      "100 0.46150344238991536\n",
      "200 0.6331824635897636\n",
      "300 0.7514788974272371\n",
      "400 0.7881755236151419\n",
      "500 0.8004920798946826\n",
      "600 0.8083489511137301\n",
      "700 0.8138267776900521\n",
      "800 0.8158036514748138\n",
      "900 0.820310073525091\n",
      "1000 0.8246959824550801\n",
      "1100 0.8266707272462365\n",
      "1200 0.8262262926624613\n",
      "1300 0.8279557115668128\n",
      "1400 0.8290273709843634\n",
      "1500 0.8295821820558867\n",
      "1600 0.833818423416506\n",
      "1700 0.8336017374852183\n",
      "1800 0.8331554775157732\n",
      "1900 0.8348021104249337\n",
      "2000 0.8343534646629106\n",
      "2100 0.8326715898400702\n",
      "2200 0.8363980902757844\n",
      "2300 0.836208146429368\n",
      "2400 0.8348825527855964\n",
      "2500 0.8357578881908536\n",
      "2600 0.8323674525197289\n",
      "2700 0.833537114032136\n",
      "2800 0.8363770382452078\n",
      "2900 0.8379233895962692\n",
      "3000 0.8364676492360208\n",
      "3100 0.8367056504477082\n",
      "3200 0.8372752603650284\n",
      "3300 0.8374834961748526\n",
      "3400 0.8368870010508751\n",
      "3500 0.8377472037048834\n",
      "3600 0.837952149995774\n",
      "3700 0.8383356405623241\n",
      "3800 0.839538290967658\n",
      "3900 0.8390161340731253\n",
      "4000 0.8397771049872529\n",
      "4100 0.8359658219065971\n",
      "4200 0.8398286263708934\n",
      "4300 0.8396849022484688\n",
      "4400 0.8384566483421151\n",
      "4500 0.8392875928670515\n",
      "4600 0.8398964706964593\n",
      "4700 0.840147514063502\n",
      "4800 0.8394137562913986\n",
      "4900 0.8390313177990771\n",
      "5000 0.8394570096110847\n",
      "5100 0.8400261504773504\n",
      "5200 0.8406505076754744\n",
      "5300 0.8385399480151698\n",
      "5400 0.8409938946734162\n",
      "5500 0.8408258487349305\n",
      "5600 0.8390324929882993\n",
      "5700 0.8406669573652107\n",
      "5800 0.8401603346665273\n",
      "5900 0.8403688855469584\n",
      "6000 0.8399177671190154\n",
      "6100 0.8405544356504768\n",
      "6200 0.840765959570203\n",
      "6300 0.8411926292314273\n",
      "6400 0.8395314849081803\n",
      "6500 0.8404998093101645\n",
      "6600 0.8414829407585389\n",
      "6700 0.8395531469305411\n",
      "6800 0.8416476251156276\n",
      "6900 0.8400298399926598\n",
      "7000 0.8410518630749051\n",
      "7100 0.8398479333367199\n",
      "7200 0.8410494853465589\n",
      "7300 0.8418563986856282\n",
      "7400 0.8417835114706507\n",
      "7500 0.8413888807089065\n",
      "7600 0.8414849996863512\n",
      "7700 0.8410010020921633\n",
      "7800 0.8408522050855973\n",
      "7900 0.8419007785726046\n",
      "8000 0.8422726830706462\n",
      "8100 0.840870359531993\n",
      "8200 0.8414338145232034\n",
      "8300 0.8404114371043441\n",
      "8400 0.8424158466555435\n",
      "8500 0.8409993916334274\n",
      "8600 0.8406032828001537\n",
      "8700 0.8415962760685277\n",
      "8800 0.8405309108795456\n",
      "8900 0.8422130099993497\n",
      "9000 0.8416892358241402\n",
      "9100 0.8414393210166609\n",
      "9200 0.8415345570706035\n",
      "9300 0.8409131247522856\n"
     ]
    }
   ],
   "source": [
    "train_glm(model_type, V, E_neural, I_neural, T_train, T_test,\n",
    "                T_no, batch_size, iter_no, epoch_no, C_den, C_syn_e, C_syn_i, \n",
    "                sparse_no, device, save_dir)"
   ]
  },
  {
   "cell_type": "code",
   "execution_count": null,
   "metadata": {},
   "outputs": [],
   "source": []
  },
  {
   "cell_type": "code",
   "execution_count": null,
   "metadata": {},
   "outputs": [],
   "source": []
  }
 ],
 "metadata": {
  "kernelspec": {
   "display_name": "Python 3",
   "language": "python",
   "name": "python3"
  },
  "language_info": {
   "codemirror_mode": {
    "name": "ipython",
    "version": 3
   },
   "file_extension": ".py",
   "mimetype": "text/x-python",
   "name": "python",
   "nbconvert_exporter": "python",
   "pygments_lexer": "ipython3",
   "version": "3.8.5"
  }
 },
 "nbformat": 4,
 "nbformat_minor": 4
}
