{
 "cells": [
  {
   "cell_type": "code",
   "execution_count": 1,
   "id": "c6f1104d",
   "metadata": {},
   "outputs": [],
   "source": [
    "import numpy as np\n",
    "import matplotlib.pyplot as plt\n",
    "from tqdm import tnrange"
   ]
  },
  {
   "cell_type": "code",
   "execution_count": 2,
   "id": "9b3769dc",
   "metadata": {},
   "outputs": [
    {
     "name": "stdout",
     "output_type": "stream",
     "text": [
      "(4, 500000)\n",
      "(8, 500000)\n",
      "(12, 500000)\n",
      "(24, 500000)\n",
      "(48, 500000)\n"
     ]
    }
   ],
   "source": [
    "raw4 = np.load(\"/media/hdd01/sklee/CA1_dspike_samples/4clusterOf60_vDdata_T10_Ne2000_gA0.6_tauA1_gN0.8_Ni200_gG0.1_gB0.1_Er0.5_Ir7.4_random_NR_rep10_stimseed1.npy\").reshape(-1,10,50001)[:,:,:50000].reshape(4,-1)\n",
    "raw8 = np.load(\"/media/hdd01/sklee/CA1_dspike_samples/8clusterOf30_vDdata_T10_Ne2000_gA0.6_tauA1_gN0.8_Ni200_gG0.1_gB0.1_Er0.5_Ir7.4_random_NR_rep10_stimseed1.npy\").reshape(-1,10,50001)[:,:,:50000].reshape(8,-1)\n",
    "raw12 = np.load(\"/media/hdd01/sklee/CA1_dspike_samples/12clusterOf20_vDdata_T10_Ne2000_gA0.6_tauA1_gN0.8_Ni200_gG0.1_gB0.1_Er0.5_Ir7.4_random_NR_rep10_stimseed1.npy\").reshape(-1,10,50001)[:,:,:50000].reshape(12,-1)\n",
    "raw24 = np.load(\"/media/hdd01/sklee/CA1_dspike_samples/24clusterOf10_vDdata_T10_Ne2000_gA0.6_tauA1_gN0.8_Ni200_gG0.1_gB0.1_Er0.5_Ir7.4_random_NR_rep10_stimseed1.npy\").reshape(-1,10,50001)[:,:,:50000].reshape(24,-1)\n",
    "raw48 = np.load(\"/media/hdd01/sklee/CA1_dspike_samples/48clusterOf5_vDdata_T10_Ne2000_gA0.6_tauA1_gN0.8_Ni200_gG0.1_gB0.1_Er0.5_Ir7.4_random_NR_rep10_stimseed1.npy\").reshape(-1,10,50001)[:,:,:50000].reshape(48,-1)\n",
    "\n",
    "\n",
    "print(raw4.shape)\n",
    "print(raw8.shape)\n",
    "print(raw12.shape)\n",
    "print(raw24.shape)\n",
    "print(raw48.shape)"
   ]
  },
  {
   "cell_type": "code",
   "execution_count": 3,
   "id": "42a85fcd",
   "metadata": {},
   "outputs": [
    {
     "name": "stdout",
     "output_type": "stream",
     "text": [
      "[1.86 2.31 0.5  1.5 ]\n",
      "[3.1  1.73 0.   0.48 0.   1.93 2.16 0.14]\n",
      "[1.14 1.02 0.   0.01 0.   0.53 0.88 0.   0.   0.   0.   0.25]\n",
      "[0.03 0.01 0.   0.   0.   0.03 0.03 0.   0.   0.   0.   0.   0.   0.\n",
      " 0.   0.22 0.   0.   0.   0.   0.06 0.02 0.   0.  ]\n",
      "[0.   0.   0.   0.   0.   0.   0.   0.   0.   0.   0.   0.   0.   0.\n",
      " 0.   0.   0.   0.   0.   0.   0.   0.   0.   0.   0.   0.   0.   0.02\n",
      " 0.01 0.   0.   0.   0.   0.   0.   0.   0.   0.   0.   0.   0.   0.02\n",
      " 0.   0.   0.   0.02 0.   0.  ]\n",
      "6.17\n",
      "9.540000000000001\n",
      "3.8299999999999996\n",
      "0.4\n",
      "0.06999999999999999\n"
     ]
    }
   ],
   "source": [
    "count4 = np.zeros((4))\n",
    "count8 = np.zeros((8))\n",
    "count12 = np.zeros((12))\n",
    "count24 = np.zeros((24))\n",
    "count48 = np.zeros((48))\n",
    "\n",
    "threshold = -10\n",
    "\n",
    "for i in range(4):\n",
    "    raw_idx = np.where(raw4[i] >= threshold)[0]\n",
    "    for j in range(raw_idx.shape[0]):\n",
    "        if j == 0:\n",
    "            count4[i] += 1\n",
    "        elif raw_idx[j] - raw_idx[j-1] > 1:\n",
    "            count4[i] += 1\n",
    "            \n",
    "for i in range(8):\n",
    "    raw_idx = np.where(raw8[i] >= threshold)[0]\n",
    "    for j in range(raw_idx.shape[0]):\n",
    "        if j == 0:\n",
    "            count8[i] += 1\n",
    "        elif raw_idx[j] - raw_idx[j-1] > 1:\n",
    "            count8[i] += 1\n",
    "            \n",
    "for i in range(12):\n",
    "    raw_idx = np.where(raw12[i] >= threshold)[0]\n",
    "    for j in range(raw_idx.shape[0]):\n",
    "        if j == 0:\n",
    "            count12[i] += 1\n",
    "        elif raw_idx[j] - raw_idx[j-1] > 1:\n",
    "            count12[i] += 1\n",
    "            \n",
    "for i in range(24):\n",
    "    raw_idx = np.where(raw24[i] >= threshold)[0]\n",
    "    for j in range(raw_idx.shape[0]):\n",
    "        if j == 0:\n",
    "            count24[i] += 1\n",
    "        elif raw_idx[j] - raw_idx[j-1] > 1:\n",
    "            count24[i] += 1\n",
    "            \n",
    "for i in range(48):\n",
    "    raw_idx = np.where(raw48[i] >= threshold)[0]\n",
    "    for j in range(raw_idx.shape[0]):\n",
    "        if j == 0:\n",
    "            count48[i] += 1\n",
    "        elif raw_idx[j] - raw_idx[j-1] > 1:\n",
    "            count48[i] += 1            \n",
    "\n",
    "            \n",
    "print(count4 / 10 / 10)\n",
    "print(count8 / 10 / 10)\n",
    "print(count12 / 10 / 10)\n",
    "print(count24 / 10 / 10)\n",
    "print(count48 / 10 / 10)\n",
    "\n",
    "print(np.sum(count4) / 10 / 10)\n",
    "print(np.sum(count8) / 10 / 10)\n",
    "print(np.sum(count12) / 10 / 10)\n",
    "print(np.sum(count24) / 10 / 10)\n",
    "print(np.sum(count48) / 10 / 10)"
   ]
  },
  {
   "cell_type": "code",
   "execution_count": null,
   "id": "906d88bd",
   "metadata": {},
   "outputs": [],
   "source": []
  },
  {
   "cell_type": "code",
   "execution_count": 9,
   "id": "09c1f01c",
   "metadata": {},
   "outputs": [
    {
     "ename": "NameError",
     "evalue": "name 'raw' is not defined",
     "output_type": "error",
     "traceback": [
      "\u001b[0;31m---------------------------------------------------------------------------\u001b[0m",
      "\u001b[0;31mNameError\u001b[0m                                 Traceback (most recent call last)",
      "\u001b[0;32m<ipython-input-9-c0ff72b79b8b>\u001b[0m in \u001b[0;36m<module>\u001b[0;34m\u001b[0m\n\u001b[1;32m      4\u001b[0m \u001b[0midx2\u001b[0m \u001b[0;34m=\u001b[0m \u001b[0mnp\u001b[0m\u001b[0;34m.\u001b[0m\u001b[0mrandom\u001b[0m\u001b[0;34m.\u001b[0m\u001b[0mrandint\u001b[0m\u001b[0;34m(\u001b[0m\u001b[0;36m1000\u001b[0m\u001b[0;34m)\u001b[0m\u001b[0;34m\u001b[0m\u001b[0;34m\u001b[0m\u001b[0m\n\u001b[1;32m      5\u001b[0m \u001b[0;34m\u001b[0m\u001b[0m\n\u001b[0;32m----> 6\u001b[0;31m \u001b[0mplt\u001b[0m\u001b[0;34m.\u001b[0m\u001b[0mplot\u001b[0m\u001b[0;34m(\u001b[0m\u001b[0mraw\u001b[0m\u001b[0;34m[\u001b[0m\u001b[0midx1\u001b[0m\u001b[0;34m,\u001b[0m\u001b[0midx2\u001b[0m\u001b[0;34m]\u001b[0m\u001b[0;34m[\u001b[0m\u001b[0;36m20000\u001b[0m\u001b[0;34m:\u001b[0m\u001b[0;36m30000\u001b[0m\u001b[0;34m]\u001b[0m\u001b[0;34m,\u001b[0m \u001b[0mlinewidth\u001b[0m\u001b[0;34m=\u001b[0m\u001b[0;36m1\u001b[0m\u001b[0;34m)\u001b[0m\u001b[0;34m\u001b[0m\u001b[0;34m\u001b[0m\u001b[0m\n\u001b[0m\u001b[1;32m      7\u001b[0m \u001b[0mplt\u001b[0m\u001b[0;34m.\u001b[0m\u001b[0mylim\u001b[0m\u001b[0;34m(\u001b[0m\u001b[0;34m-\u001b[0m\u001b[0;36m70\u001b[0m\u001b[0;34m,\u001b[0m\u001b[0;36m20\u001b[0m\u001b[0;34m)\u001b[0m\u001b[0;34m\u001b[0m\u001b[0;34m\u001b[0m\u001b[0m\n\u001b[1;32m      8\u001b[0m \u001b[0mplt\u001b[0m\u001b[0;34m.\u001b[0m\u001b[0myticks\u001b[0m\u001b[0;34m(\u001b[0m\u001b[0mnp\u001b[0m\u001b[0;34m.\u001b[0m\u001b[0marange\u001b[0m\u001b[0;34m(\u001b[0m\u001b[0;34m-\u001b[0m\u001b[0;36m70\u001b[0m\u001b[0;34m,\u001b[0m\u001b[0;36m21\u001b[0m\u001b[0;34m,\u001b[0m\u001b[0;36m5\u001b[0m\u001b[0;34m)\u001b[0m\u001b[0;34m)\u001b[0m\u001b[0;34m\u001b[0m\u001b[0;34m\u001b[0m\u001b[0m\n",
      "\u001b[0;31mNameError\u001b[0m: name 'raw' is not defined"
     ]
    },
    {
     "data": {
      "text/plain": [
       "<Figure size 1080x360 with 0 Axes>"
      ]
     },
     "metadata": {},
     "output_type": "display_data"
    }
   ],
   "source": [
    "plt.figure(figsize = (15,5))\n",
    "\n",
    "idx1 = np.random.randint(4)\n",
    "idx2 = np.random.randint(1000)\n",
    "\n",
    "plt.plot(raw[idx1,idx2][20000:30000], linewidth=1)\n",
    "plt.ylim(-70,20)\n",
    "plt.yticks(np.arange(-70,21,5))\n",
    "print(idx1,idx2)"
   ]
  },
  {
   "cell_type": "code",
   "execution_count": null,
   "id": "0cff3259",
   "metadata": {},
   "outputs": [],
   "source": []
  },
  {
   "cell_type": "code",
   "execution_count": null,
   "id": "645b2ac9",
   "metadata": {},
   "outputs": [],
   "source": []
  }
 ],
 "metadata": {
  "kernelspec": {
   "display_name": "Python 3",
   "language": "python",
   "name": "python3"
  },
  "language_info": {
   "codemirror_mode": {
    "name": "ipython",
    "version": 3
   },
   "file_extension": ".py",
   "mimetype": "text/x-python",
   "name": "python",
   "nbconvert_exporter": "python",
   "pygments_lexer": "ipython3",
   "version": "3.8.8"
  }
 },
 "nbformat": 4,
 "nbformat_minor": 5
}
