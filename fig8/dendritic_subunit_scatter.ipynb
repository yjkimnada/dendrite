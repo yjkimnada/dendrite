{
 "cells": [
  {
   "cell_type": "code",
   "execution_count": 2,
   "id": "068e61c5",
   "metadata": {},
   "outputs": [],
   "source": [
    "import matplotlib.pyplot as plt\n",
    "import numpy as np\n",
    "from tqdm import tnrange\n",
    "import scipy.stats\n",
    "from sklearn.metrics import explained_variance_score\n",
    "import matplotlib as mpl"
   ]
  },
  {
   "cell_type": "code",
   "execution_count": null,
   "id": "0d638074",
   "metadata": {},
   "outputs": [],
   "source": []
  },
  {
   "cell_type": "code",
   "execution_count": 7,
   "id": "3db8ebc0",
   "metadata": {},
   "outputs": [
    {
     "name": "stdout",
     "output_type": "stream",
     "text": [
      "0\n",
      "4\n",
      "2\n",
      "0\n",
      "---------\n",
      "3\n",
      "2\n",
      "3\n",
      "3\n",
      "---------\n",
      "3\n",
      "3\n",
      "0\n",
      "2\n",
      "---------\n",
      "0\n",
      "1\n",
      "4\n",
      "0\n",
      "---------\n",
      "0\n",
      "2\n",
      "3\n",
      "0\n",
      "---------\n"
     ]
    }
   ],
   "source": [
    "diff_corr_array = np.empty((5,4))\n",
    "nona_corr_array = np.empty((5,4))\n",
    "soma_diff_corr_array = np.empty((5,4))\n",
    "soma_nona_corr_array = np.empty((5,4))\n",
    "\n",
    "\n",
    "for i in range(5):\n",
    "    gru4_diff_subout = np.load(\"/media/hdd01/sklee/CA1_clust4-60/clust/gru_s5_h20_pretrain_output_set\"+str(i+1)+\".npz\")[\"sub_out\"][-20:,:].transpose([1,0,2]).reshape(5,-1)\n",
    "    gru4_nona_subout = np.load(\"/media/hdd01/sklee/CA1_clust4-60_noNA/clust/gru_s5_h20_pretrain_output_set\"+str(i+1)+\".npz\")[\"sub_out\"][-20:,:].transpose([1,0,2]).reshape(5,-1)\n",
    "    true4_dend_na = np.load(\"/media/hdd01/sklee/CA1_clust4-60/data/vDdata_T10_Ne2000_gA0.6_tauA1_gN0.8_Ni200_gG0.1_gB0.1_Er0.5_Ir7.4_random_NR_rep1000_stimseed1_set\"+str(i+1)+\".npy\").reshape(4,1000,50001)[:,-20:,:50000].reshape(4,-1)\n",
    "    true4_dend_nona = np.load(\"/media/hdd01/sklee/CA1_clust4-60_noNA/data/vDdata_T10_Ne2000_gA0.6_tauA1_gN0.8_Ni200_gG0.1_gB0.1_noDendNa_Er0.5_Ir7.4_random_NR_rep1000_stimseed1_set\"+str(i+1)+\".npy\").reshape(4,1000,50001)[:,-20:,:50000].reshape(4,-1)\n",
    "    true4_dend = true4_dend_na - true4_dend_nona\n",
    "    true4_dend_nona = true4_dend_nona - np.mean(true4_dend_nona, 1).reshape(-1,1)\n",
    "    gru4_nona_subout -= np.mean(gru4_nona_subout, 1).reshape(-1,1)\n",
    "    gru4_diff_subout -= np.mean(gru4_diff_subout, axis=1).reshape(-1,1)\n",
    "    diff_C_syn_e = np.load(\"/media/hdd01/sklee/CA1_clust4-60/clust/gru_s5_h20_pretrain_output_set\"+str(i+1)+\".npz\")[\"C_syn_e\"]\n",
    "    diff_C_syn_e = np.argmax(diff_C_syn_e, 0)\n",
    "    nona_C_syn_e = np.load(\"/media/hdd01/sklee/CA1_clust4-60_noNA/clust/gru_s5_h20_pretrain_output_set\"+str(i+1)+\".npz\")[\"C_syn_e\"]\n",
    "    nona_C_syn_e = np.argmax(nona_C_syn_e, 0)\n",
    "    diff_soma = np.load(\"/media/hdd01/sklee/CA1_clust4-60/data/V_diff_stimseed1_set\"+str(i+1)+\".npy\")[-50000*20:]\n",
    "    nona_soma = np.load(\"/media/hdd01/sklee/CA1_clust4-60_noNA/data/vdata_T10_Ne2000_gA0.6_tauA1_gN0.8_Ni200_gG0.1_gB0.1_noDendNa_Er0.5_Ir7.4_random_NR_rep1000_stimseed1_set\"+str(i+1)+\".npy\")[-20:,:50000].flatten()\n",
    "    \n",
    "    for j in range(4):\n",
    "        diff_sub_idx = scipy.stats.mode(diff_C_syn_e[880+j*60:880+(j+1)*60]).mode.item()\n",
    "        nona_sub_idx = scipy.stats.mode(nona_C_syn_e[880+j*60:880+(j+1)*60]).mode.item()\n",
    "        print(diff_sub_idx)\n",
    "        #for k in range(5):\n",
    "            #diff_corr_array[i,j,k] = np.corrcoef(true4_dend[j], gru4_diff_subout[k])[0][1]\n",
    "            #nona_corr_array[i,j,k] = np.corrcoef(true4_dend_nona[j], gru4_nona_subout[k])[0][1]\n",
    "        diff_corr_array[i,j] = np.corrcoef(true4_dend[j], gru4_diff_subout[diff_sub_idx])[0][1]\n",
    "        nona_corr_array[i,j] = np.corrcoef(true4_dend_nona[j], gru4_nona_subout[diff_sub_idx])[0][1]\n",
    "        \n",
    "        soma_diff_corr_array[i,j] = np.corrcoef(true4_dend[j], diff_soma)[0][1]\n",
    "        soma_nona_corr_array[i,j] = np.corrcoef(true4_dend_nona[j], nona_soma)[0][1]\n",
    "        \n",
    "    print(\"---------\")"
   ]
  },
  {
   "cell_type": "code",
   "execution_count": 8,
   "id": "dac2592d",
   "metadata": {},
   "outputs": [
    {
     "data": {
      "image/png": "[encoded data removed]",
      "text/plain": [
       "<Figure size 864x360 with 2 Axes>"
      ]
     },
     "metadata": {
      "needs_background": "light"
     },
     "output_type": "display_data"
    }
   ],
   "source": [
    "fig, axs = plt.subplots(ncols=2, figsize=(12,5))\n",
    "\n",
    "axs[0].hist(soma_nona_corr_array.flatten(), alpha=0.5, label=\"v_other\")\n",
    "axs[0].hist(soma_diff_corr_array.flatten(), alpha=0.5, label=\"v_Na\")\n",
    "axs[0].legend()\n",
    "axs[0].set_title(\"dendrite vs. soma\")\n",
    "axs[0].set_xlabel(\"corr. coef.\")\n",
    "axs[0].set_ylabel(\"counts\")\n",
    "\n",
    "axs[1].hist(nona_corr_array.flatten(), alpha=0.5, label=\"v_other\")\n",
    "axs[1].hist(diff_corr_array.flatten(), alpha=0.5, label=\"v_Na\")\n",
    "axs[1].set_title(\"dendrite vs. matched subunit\")\n",
    "axs[1].set_xlabel(\"corr. coef.\")\n",
    "\n",
    "plt.show()"
   ]
  },
  {
   "cell_type": "code",
   "execution_count": null,
   "id": "39721f06",
   "metadata": {},
   "outputs": [],
   "source": []
  },
  {
   "cell_type": "code",
   "execution_count": null,
   "id": "82022f91",
   "metadata": {},
   "outputs": [],
   "source": []
  },
  {
   "cell_type": "code",
   "execution_count": 3,
   "id": "67a6d2b2",
   "metadata": {},
   "outputs": [],
   "source": [
    "gru4_diff_subout = np.load(\"/media/hdd01/sklee/CA1_clust4-60/clust/gru_s5_h20_pretrain_output_set1.npz\")[\"sub_out\"][-1,:]\n",
    "gru4_nona_subout = np.load(\"/media/hdd01/sklee/CA1_clust4-60_noNA/clust/gru_s5_h20_pretrain_output_set1.npz\")[\"sub_out\"][-1,:]\n",
    "true4_dend_na = np.load(\"/media/hdd01/sklee/CA1_clust4-60/data/vDdata_T10_Ne2000_gA0.6_tauA1_gN0.8_Ni200_gG0.1_gB0.1_Er0.5_Ir7.4_random_NR_rep1000_stimseed1_set1.npy\").reshape(4,1000,50001)[:,-1,:50000]\n",
    "true4_dend_nona = np.load(\"/media/hdd01/sklee/CA1_clust4-60_noNA/data/vDdata_T10_Ne2000_gA0.6_tauA1_gN0.8_Ni200_gG0.1_gB0.1_noDendNa_Er0.5_Ir7.4_random_NR_rep1000_stimseed1_set1.npy\").reshape(4,1000,50001)[:,-1,:50000]\n",
    "true4_dend = true4_dend_na - true4_dend_nona\n",
    "true4_dend_nona = true4_dend_nona - np.mean(true4_dend_nona, 1).reshape(-1,1)\n",
    "gru4_nona_subout -= np.mean(gru4_nona_subout, 1).reshape(-1,1)\n",
    "gru4_diff_subout -= np.mean(gru4_diff_subout, axis=1).reshape(-1,1)"
   ]
  },
  {
   "cell_type": "code",
   "execution_count": 4,
   "id": "19f5d6c2",
   "metadata": {},
   "outputs": [
    {
     "name": "stdout",
     "output_type": "stream",
     "text": [
      "ModeResult(mode=array([3]), count=array([60]))\n",
      "ModeResult(mode=array([3]), count=array([59]))\n",
      "ModeResult(mode=array([0]), count=array([60]))\n",
      "ModeResult(mode=array([3]), count=array([52]))\n"
     ]
    }
   ],
   "source": [
    "C_syn_e = np.load(\"/media/hdd01/sklee/CA1_clust4-60_noNA/clust/gru_s5_h20_pretrain_output_set1.npz\")[\"C_syn_e\"]\n",
    "C_syn_e = np.argmax(C_syn_e, 0)\n",
    "print(scipy.stats.mode(C_syn_e[880:940]))\n",
    "print(scipy.stats.mode(C_syn_e[940:1000]))\n",
    "print(scipy.stats.mode(C_syn_e[1000:1060]))\n",
    "print(scipy.stats.mode(C_syn_e[1060:1120]))"
   ]
  },
  {
   "cell_type": "code",
   "execution_count": 5,
   "id": "c0ec035d",
   "metadata": {},
   "outputs": [
    {
     "name": "stdout",
     "output_type": "stream",
     "text": [
      "ModeResult(mode=array([0]), count=array([60]))\n",
      "ModeResult(mode=array([4]), count=array([60]))\n",
      "ModeResult(mode=array([2]), count=array([45]))\n",
      "ModeResult(mode=array([0]), count=array([60]))\n"
     ]
    }
   ],
   "source": [
    "C_syn_e = np.load(\"/media/hdd01/sklee/CA1_clust4-60/clust/gru_s5_h20_pretrain_output_set1.npz\")[\"C_syn_e\"]\n",
    "C_syn_e = np.argmax(C_syn_e, 0)\n",
    "print(scipy.stats.mode(C_syn_e[880:940]))\n",
    "print(scipy.stats.mode(C_syn_e[940:1000]))\n",
    "print(scipy.stats.mode(C_syn_e[1000:1060]))\n",
    "print(scipy.stats.mode(C_syn_e[1060:1120]))"
   ]
  },
  {
   "cell_type": "code",
   "execution_count": null,
   "id": "64bf97f9",
   "metadata": {},
   "outputs": [],
   "source": []
  }
 ],
 "metadata": {
  "kernelspec": {
   "display_name": "Python 3 (ipykernel)",
   "language": "python",
   "name": "python3"
  },
  "language_info": {
   "codemirror_mode": {
    "name": "ipython",
    "version": 3
   },
   "file_extension": ".py",
   "mimetype": "text/x-python",
   "name": "python",
   "nbconvert_exporter": "python",
   "pygments_lexer": "ipython3",
   "version": "3.8.8"
  }
 },
 "nbformat": 4,
 "nbformat_minor": 5
}
