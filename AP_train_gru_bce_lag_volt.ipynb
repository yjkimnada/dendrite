{
 "cells": [
  {
   "cell_type": "code",
   "execution_count": 1,
   "id": "e7faa469",
   "metadata": {},
   "outputs": [],
   "source": [
    "import numpy as np\n",
    "import torch \n",
    "import torch.nn as nn\n",
    "from tqdm import tnrange\n",
    "import torch.optim as optim\n",
    "import torch.nn.functional as F\n",
    "from sklearn import metrics\n",
    "import matplotlib.pyplot as plt\n",
    "import time\n",
    "from sklearn.metrics import explained_variance_score"
   ]
  },
  {
   "cell_type": "code",
   "execution_count": 2,
   "id": "8753064b",
   "metadata": {},
   "outputs": [],
   "source": [
    "class AP_GRU_Lag(nn.Module):\n",
    "    def __init__(self, H_no, lag, device):\n",
    "        super().__init__()\n",
    "        \n",
    "        self.H_no = H_no\n",
    "        self.device = device\n",
    "        \n",
    "        self.rnn = nn.GRU(lag+1, H_no, batch_first=True)\n",
    "        self.linear = nn.Linear(H_no, 1)\n",
    "        \n",
    "    def forward(self, V):\n",
    "        #V is shape (batch, 50000, lag+1)\n",
    "\n",
    "        rnn_out, _ = self.rnn(V) #(batch,50000,H)\n",
    "        rnn_out = rnn_out.reshape(-1,self.H_no)\n",
    "        lin_out = self.linear(rnn_out).reshape(V.shape[0], V.shape[1]) #(batch*50000,1)\n",
    "        \n",
    "        return lin_out\n",
    "\n"
   ]
  },
  {
   "cell_type": "code",
   "execution_count": 3,
   "id": "6e8d732d",
   "metadata": {},
   "outputs": [
    {
     "name": "stdout",
     "output_type": "stream",
     "text": [
      "torch.Size([1000, 50000, 20])\n"
     ]
    }
   ],
   "source": [
    "batch_size = 20\n",
    "batch_length = int(50000 / 5 / 0.2)\n",
    "H_no = 40\n",
    "device = torch.device(\"cuda:0\")\n",
    "lag = 20\n",
    "\n",
    "epoch_no = 400\n",
    "iter_no = epoch_no * 980 // batch_size\n",
    "\n",
    "#V = np.load(\"/media/hdd01/sklee/CA1_clust4-60_AP/data/vdata_T10_Ne2000_gA0.6_tauA1_gN0.8_Ni200_gG0.1_gB0.1_Er0.5_Ir7.4_random_NR_rep1000_stimseed1.npy\").reshape(-1,50001)[:,:50000]\n",
    "#V = np.load(\"/media/hdd01/sklee/CA1_clust4-60_AP/data/V_diff_stimseed1.npy\").reshape(-1,batch_length)\n",
    "#V = np.load(\"/scratch/yjk27/CA1_clust4-60_AP/comb_pred/V_comb_pred_dend_interact_0.2ms.npy\").reshape(-1,batch_length)\n",
    "V = np.load(\"/scratch/yjk27/CA1_clust4-60_AP/diff_pred/V_diff_pred_0.2ms.npy\").reshape(-1,batch_length)\n",
    "#V = np.load(\"/media/hdd01/sklee/CA1_clust4-60_AP/whole_pred/V_whole_pred_0.2ms.npy\").reshape(-1,batch_length)\n",
    "S = np.load(\"/scratch/yjk27/CA1_clust4-60_AP/data/V_diff_stimseed1.npy\").reshape(-1,batch_length)\n",
    "\n",
    "V-= np.mean(V)\n",
    "\n",
    "V = torch.from_numpy(V)\n",
    "S = torch.from_numpy(S)\n",
    "\n",
    "V_lag = np.zeros((V.shape[0], V.shape[1], lag)) #(lag,1000,50000)\n",
    "for i in range(lag):\n",
    "    V_lag[:,i+1:,i] = V[:,:-i-1]\n",
    "\n",
    "V_lag = torch.from_numpy(V_lag)\n",
    "print(V_lag.shape)"
   ]
  },
  {
   "cell_type": "code",
   "execution_count": 4,
   "id": "bfda0478",
   "metadata": {},
   "outputs": [
    {
     "name": "stdout",
     "output_type": "stream",
     "text": [
      "torch.Size([19600, 20])\n"
     ]
    }
   ],
   "source": [
    "V_train = V[:980].float()\n",
    "V_test = V[980:].float().to(device)\n",
    "S_train = S[:980].float()\n",
    "S_test = S[980:].float().to(device)\n",
    "V_lag_train = V_lag[:980].float()\n",
    "V_lag_test = V_lag[980:].float().to(device)\n",
    "\n",
    "train_idx = np.empty((epoch_no, 980))\n",
    "for i in range(epoch_no):\n",
    "    part_idx = np.arange(0,980,1)\n",
    "    np.random.shuffle(part_idx)\n",
    "    train_idx[i] = part_idx\n",
    "train_idx = train_idx.reshape(-1, batch_size)\n",
    "train_idx = torch.from_numpy(train_idx).long()\n",
    "print(train_idx.shape)"
   ]
  },
  {
   "cell_type": "code",
   "execution_count": 5,
   "id": "784b45c2",
   "metadata": {},
   "outputs": [
    {
     "name": "stdout",
     "output_type": "stream",
     "text": [
      "7601\n"
     ]
    }
   ],
   "source": [
    "model = AP_GRU_Lag(H_no, lag, device)\n",
    "optimizer = torch.optim.Adam(model.parameters(), lr = 0.001)\n",
    "\n",
    "model.to(device).float()\n",
    "print(sum(p.numel() for p in model.parameters() if p.requires_grad))"
   ]
  },
  {
   "cell_type": "code",
   "execution_count": 6,
   "id": "a964d137",
   "metadata": {},
   "outputs": [],
   "source": [
    "#model.load_state_dict(torch.load(\"/scratch/yjk27/CA1_clust4-60_AP/comb_pred/gru_l20_h40_0.2ms_V.pt\",\n",
    "                     #map_location=device))"
   ]
  },
  {
   "cell_type": "code",
   "execution_count": 7,
   "id": "84e29a0c",
   "metadata": {
    "scrolled": true
   },
   "outputs": [
    {
     "name": "stderr",
     "output_type": "stream",
     "text": [
      "<ipython-input-7-5c73ecaa3ca6>:4: TqdmDeprecationWarning: Please use `tqdm.notebook.trange` instead of `tqdm.tnrange`\n",
      "  for i in tnrange(10000):\n"
     ]
    },
    {
     "data": {
      "application/vnd.jupyter.widget-view+json": {
       "model_id": "19b3e7b3d2a246dcb5befe1978567e24",
       "version_major": 2,
       "version_minor": 0
      },
      "text/plain": [
       "  0%|          | 0/10000 [00:00<?, ?it/s]"
      ]
     },
     "metadata": {},
     "output_type": "display_data"
    },
    {
     "name": "stdout",
     "output_type": "stream",
     "text": [
      "0 9.808480262756348 0.004829823970794678\n",
      "49 9.664485931396484 0.018139779567718506\n",
      "99 9.636690139770508 0.020975589752197266\n",
      "149 9.623976707458496 0.02227652072906494\n",
      "199 9.616153717041016 0.02304983139038086\n",
      "249 9.56152629852295 0.028658151626586914\n",
      "299 9.487274169921875 0.036211609840393066\n",
      "349 9.459290504455566 0.038988351821899414\n",
      "399 9.419754028320312 0.04304629564285278\n",
      "449 9.364920616149902 0.048561692237854004\n",
      "499 9.364664077758789 0.04858958721160889\n",
      "549 9.326336860656738 0.05248129367828369\n",
      "599 9.307877540588379 0.05443000793457031\n",
      "649 9.286680221557617 0.056556522846221924\n",
      "699 9.266448020935059 0.058569252490997314\n",
      "749 9.266003608703613 0.05862802267074585\n",
      "799 9.239213943481445 0.06138288974761963\n",
      "849 9.265572547912598 0.058660686016082764\n",
      "899 9.220596313476562 0.06325840950012207\n",
      "949 9.225584030151367 0.0627867579460144\n",
      "999 9.206884384155273 0.06461775302886963\n",
      "1049 9.194669723510742 0.0658915638923645\n",
      "1099 9.206067085266113 0.06474149227142334\n",
      "1149 9.176996231079102 0.06766068935394287\n",
      "1199 9.191800117492676 0.06621700525283813\n",
      "1249 9.185898780822754 0.06718552112579346\n",
      "1299 9.16153621673584 0.06923437118530273\n",
      "1349 9.161328315734863 0.06927162408828735\n",
      "1399 9.15760612487793 0.06971073150634766\n",
      "1449 9.153873443603516 0.07076752185821533\n",
      "1499 9.169961929321289 0.06843239068984985\n",
      "1549 9.115538597106934 0.07392513751983643\n",
      "1599 9.133284568786621 0.07214629650115967\n",
      "1649 9.117403030395508 0.07385879755020142\n",
      "1699 9.111233711242676 0.0744672417640686\n",
      "1749 9.09550666809082 0.076363205909729\n",
      "1799 9.088233947753906 0.07703995704650879\n",
      "1849 9.064220428466797 0.07920736074447632\n",
      "1899 9.08906078338623 0.07704442739486694\n",
      "1949 9.101114273071289 0.07540231943130493\n",
      "1999 9.079229354858398 0.07758653163909912\n",
      "2049 9.07082462310791 0.07844066619873047\n",
      "2099 9.050118446350098 0.08054560422897339\n",
      "2149 9.11223030090332 0.0743970274925232\n",
      "2199 9.083287239074707 0.07733345031738281\n",
      "2249 9.07455825805664 0.0780908465385437\n",
      "2299 9.049007415771484 0.08065736293792725\n",
      "2349 9.082159996032715 0.07729965448379517\n",
      "2399 9.075078964233398 0.07801169157028198\n",
      "2449 9.045243263244629 0.08127546310424805\n",
      "2499 9.045610427856445 0.0810096263885498\n",
      "2549 9.025891304016113 0.08308905363082886\n",
      "2599 9.066756248474121 0.07888591289520264\n",
      "2649 9.035731315612793 0.0821833610534668\n",
      "2699 9.040786743164062 0.08155238628387451\n",
      "2749 9.034099578857422 0.08238726854324341\n",
      "2799 9.038870811462402 0.08170151710510254\n",
      "2849 9.004359245300293 0.08520734310150146\n",
      "2899 9.0275297164917 0.08283954858779907\n",
      "2949 9.052774429321289 0.08028709888458252\n",
      "2999 9.010266304016113 0.08459734916687012\n",
      "3049 9.032761573791504 0.08235657215118408\n",
      "3099 9.033132553100586 0.08235162496566772\n",
      "3149 8.996664047241211 0.08610719442367554\n",
      "3199 9.080408096313477 0.07797521352767944\n",
      "3249 9.033939361572266 0.08224302530288696\n",
      "3299 8.987120628356934 0.08706784248352051\n",
      "3349 9.00539779663086 0.08513033390045166\n",
      "3399 9.024439811706543 0.0831613540649414\n",
      "3449 8.986714363098145 0.08699548244476318\n",
      "3499 8.977106094360352 0.08809643983840942\n",
      "3549 9.012436866760254 0.08447015285491943\n",
      "3599 9.019255638122559 0.08395004272460938\n",
      "3649 8.972485542297363 0.08893537521362305\n",
      "3699 8.99707317352295 0.08593744039535522\n",
      "3749 8.97318172454834 0.0885317325592041\n",
      "3799 8.977137565612793 0.08804720640182495\n",
      "3849 8.973250389099121 0.08848452568054199\n",
      "3899 8.982536315917969 0.08788007497787476\n",
      "3949 8.937887191772461 0.09196281433105469\n",
      "3999 9.012786865234375 0.08437788486480713\n",
      "4049 9.002340316772461 0.08559316396713257\n",
      "4099 8.93906307220459 0.09183549880981445\n",
      "4149 8.925458908081055 0.09330052137374878\n",
      "4199 8.929699897766113 0.0928734540939331\n",
      "4249 8.934743881225586 0.09248268604278564\n",
      "4299 8.914265632629395 0.09435409307479858\n",
      "4349 8.923806190490723 0.0934181809425354\n",
      "4399 8.913122177124023 0.09455978870391846\n",
      "4449 8.954106330871582 0.09037631750106812\n",
      "4499 8.924982070922852 0.09371048212051392\n",
      "4549 8.94802188873291 0.09144890308380127\n",
      "4599 8.949291229248047 0.09078937768936157\n",
      "4649 8.92035961151123 0.09374302625656128\n",
      "4699 8.943347930908203 0.09139823913574219\n",
      "4749 8.981310844421387 0.08755391836166382\n",
      "4799 8.974808692932129 0.08841925859451294\n",
      "4849 8.98487377166748 0.08717334270477295\n",
      "4899 9.007725715637207 0.08485168218612671\n",
      "4949 8.935487747192383 0.09223735332489014\n",
      "4999 8.923811912536621 0.09337788820266724\n",
      "5049 8.90583610534668 0.09521478414535522\n",
      "5099 8.946366310119629 0.09108465909957886\n",
      "5149 8.90481185913086 0.09533900022506714\n",
      "5199 8.948931694030762 0.09128749370574951\n",
      "5249 8.919511795043945 0.09381288290023804\n",
      "5299 8.959928512573242 0.08970969915390015\n",
      "5349 8.905229568481445 0.09526574611663818\n",
      "5399 8.890992164611816 0.09671688079833984\n",
      "5449 8.943487167358398 0.09149152040481567\n",
      "5499 8.923524856567383 0.09342807531356812\n",
      "5549 8.911354064941406 0.09466367959976196\n",
      "5599 8.914132118225098 0.0943642258644104\n",
      "5649 9.002830505371094 0.08536392450332642\n",
      "5699 8.891512870788574 0.09666705131530762\n",
      "5749 8.927973747253418 0.0929533839225769\n",
      "5799 8.940996170043945 0.09177422523498535\n",
      "5849 8.895403861999512 0.09629887342453003\n",
      "5899 8.89644718170166 0.09617537260055542\n",
      "5949 8.925122261047363 0.09326827526092529\n",
      "5999 8.871877670288086 0.09881377220153809\n",
      "6049 8.917159080505371 0.09422683715820312\n",
      "6099 8.899175643920898 0.09592169523239136\n",
      "6149 8.897713661193848 0.09603816270828247\n",
      "6199 8.877382278442383 0.098094642162323\n",
      "6249 8.872769355773926 0.0985749363899231\n",
      "6299 8.917041778564453 0.09410500526428223\n",
      "6349 8.875636100769043 0.09829926490783691\n",
      "6399 8.892461776733398 0.09661394357681274\n",
      "6449 8.888032913208008 0.0970420241355896\n",
      "6499 8.936038970947266 0.09214669466018677\n",
      "6549 8.89393424987793 0.09656387567520142\n",
      "6599 8.866107940673828 0.09923946857452393\n",
      "6649 8.901341438293457 0.09566628932952881\n",
      "6699 8.898743629455566 0.09593719244003296\n",
      "6749 8.88205623626709 0.09761834144592285\n",
      "6799 8.868412971496582 0.09918618202209473\n",
      "6849 8.993522644042969 0.08639001846313477\n",
      "6899 8.873213768005371 0.09851747751235962\n",
      "6949 8.866747856140137 0.09918570518493652\n",
      "6999 8.988998413085938 0.08690410852432251\n",
      "7049 8.941544532775879 0.09158724546432495\n",
      "7099 8.854779243469238 0.10038954019546509\n",
      "7149 8.862454414367676 0.09964513778686523\n",
      "7199 8.861130714416504 0.09974426031112671\n",
      "7249 8.846588134765625 0.10122185945510864\n",
      "7299 8.872476577758789 0.09859293699264526\n",
      "7349 8.907198905944824 0.09515494108200073\n",
      "7399 8.869595527648926 0.09892749786376953\n",
      "7449 8.902186393737793 0.09573167562484741\n",
      "7499 8.845926284790039 0.10128968954086304\n",
      "7549 8.875042915344238 0.09833472967147827\n",
      "7599 8.868825912475586 0.09898066520690918\n",
      "7649 8.870832443237305 0.09876424074172974\n",
      "7699 8.876349449157715 0.09822535514831543\n",
      "7749 8.90949535369873 0.09487152099609375\n",
      "7799 8.86347770690918 0.09951764345169067\n",
      "7849 8.85368824005127 0.1006087064743042\n",
      "7899 8.875982284545898 0.09825015068054199\n",
      "7949 8.832048416137695 0.10271209478378296\n",
      "7999 8.89622974395752 0.09622496366500854\n",
      "8049 8.904443740844727 0.09539258480072021\n",
      "8099 8.88406753540039 0.09751206636428833\n",
      "8149 8.879555702209473 0.0979001522064209\n",
      "8199 8.882527351379395 0.0975847840309143\n",
      "8249 8.844439506530762 0.10144013166427612\n",
      "8299 8.852025985717773 0.10067635774612427\n",
      "8349 8.853089332580566 0.10057038068771362\n",
      "8399 8.829254150390625 0.10305124521255493\n",
      "8449 8.857022285461426 0.10021567344665527\n",
      "8499 8.890579223632812 0.09675455093383789\n",
      "8549 8.847463607788086 0.10113656520843506\n",
      "8599 8.866655349731445 0.09919607639312744\n",
      "8649 8.836605072021484 0.10232406854629517\n",
      "8699 8.814749717712402 0.10447460412979126\n",
      "8749 8.848172187805176 0.10106253623962402\n",
      "8799 8.866740226745605 0.09927999973297119\n",
      "8849 8.918094635009766 0.09398216009140015\n",
      "8899 8.8706636428833 0.0989389419555664\n",
      "8949 8.841646194458008 0.10172390937805176\n",
      "8999 8.813902854919434 0.10461783409118652\n",
      "9049 8.827634811401367 0.10317659378051758\n",
      "9099 8.834234237670898 0.10257083177566528\n",
      "9149 8.833930969238281 0.10251688957214355\n",
      "9199 8.830889701843262 0.10281723737716675\n",
      "9249 8.85888671875 0.10003632307052612\n",
      "9299 8.835290908813477 0.10237115621566772\n",
      "9349 8.828557968139648 0.10328024625778198\n",
      "9399 8.82351016998291 0.10358566045761108\n",
      "9449 8.85053539276123 0.10083252191543579\n",
      "9499 8.838915824890137 0.10200691223144531\n",
      "9549 8.867694854736328 0.09907853603363037\n",
      "9599 8.814191818237305 0.10452443361282349\n"
     ]
    },
    {
     "name": "stdout",
     "output_type": "stream",
     "text": [
      "9649 8.845014572143555 0.101382315158844\n",
      "9699 8.82225513458252 0.10382002592086792\n",
      "9749 8.834152221679688 0.10259813070297241\n",
      "9799 8.85082721710205 0.10080850124359131\n",
      "9849 8.861351013183594 0.09988874197006226\n",
      "9899 8.870930671691895 0.09876155853271484\n",
      "9949 8.847749710083008 0.10122835636138916\n",
      "9999 8.834186553955078 0.1025739312171936\n"
     ]
    }
   ],
   "source": [
    "score_list = []\n",
    "\n",
    "#for i in tnrange(iter_no):\n",
    "for i in tnrange(10000):    \n",
    "    s = time.time()\n",
    "    model.train()\n",
    "    optimizer.zero_grad()\n",
    "    \n",
    "    batch_idx = train_idx[i]\n",
    "    batch_S = S_train[batch_idx].to(device)\n",
    "    batch_V = V_train[batch_idx].to(device)\n",
    "    batch_V_lag = V_lag_train[batch_idx].to(device)\n",
    "    \n",
    "    batch_V_in = torch.zeros(batch_size, batch_length, lag+1).to(device)\n",
    "    batch_V_in[:,:,0] = batch_V\n",
    "    batch_V_in[:,:,1:] = batch_V_lag\n",
    "    \n",
    "    S_out = model(batch_V_in)\n",
    "    loss = torch.mean((S_out - batch_S) ** 2)\n",
    "    \n",
    "    loss.backward()\n",
    "    nn.utils.clip_grad_norm_(model.parameters(), 10)\n",
    "    optimizer.step()\n",
    "    \n",
    "    step_time = time.time() - s\n",
    "    \n",
    "    if (i%50 == 49) or (i == 0):\n",
    "        model.eval()\n",
    "        V_test_in = torch.zeros(batch_size, batch_length, lag+1).to(device)\n",
    "        V_test_in[:,:,0] = V_test\n",
    "        V_test_in[:,:,1:] = V_lag_test\n",
    "        \n",
    "        test_S_out = model(V_test_in)\n",
    "        test_loss = torch.mean((S_test - test_S_out) ** 2)\n",
    "        test_var_exp = explained_variance_score(S_test.flatten().cpu().detach().numpy(),\n",
    "                                                test_S_out.flatten().cpu().detach().numpy())\n",
    "        \n",
    "        score_list.append(test_loss.item())\n",
    "        print(i, test_loss.item(), test_var_exp)"
   ]
  },
  {
   "cell_type": "code",
   "execution_count": null,
   "id": "f64d64ae",
   "metadata": {},
   "outputs": [],
   "source": []
  },
  {
   "cell_type": "code",
   "execution_count": 8,
   "id": "e006b31b",
   "metadata": {},
   "outputs": [
    {
     "data": {
      "text/plain": [
       "[<matplotlib.lines.Line2D at 0x7f5fb4090bb0>]"
      ]
     },
     "execution_count": 8,
     "metadata": {},
     "output_type": "execute_result"
    },
    {
     "data": {
      "image/png": "[encoded data removed]",
      "text/plain": [
       "<Figure size 432x288 with 1 Axes>"
      ]
     },
     "metadata": {
      "needs_background": "light"
     },
     "output_type": "display_data"
    }
   ],
   "source": [
    "plt.plot(np.asarray(score_list)[:])\n"
   ]
  },
  {
   "cell_type": "code",
   "execution_count": 9,
   "id": "ad66af8b",
   "metadata": {},
   "outputs": [
    {
     "name": "stdout",
     "output_type": "stream",
     "text": [
      "tensor(25.0616, device='cuda:0', grad_fn=<MaxBackward1>)\n"
     ]
    },
    {
     "data": {
      "text/plain": [
       "(23000.0, 28000.0)"
      ]
     },
     "execution_count": 9,
     "metadata": {},
     "output_type": "execute_result"
    },
    {
     "data": {
      "image/png": "[encoded data removed]",
      "text/plain": [
       "<Figure size 1080x360 with 1 Axes>"
      ]
     },
     "metadata": {
      "needs_background": "light"
     },
     "output_type": "display_data"
    }
   ],
   "source": [
    "plt.figure(figsize = (15,5))\n",
    "plt.plot(S_test[0].cpu().detach().numpy())\n",
    "plt.plot(test_S_out[0].cpu().detach().numpy())\n",
    "#plt.xlim(4500,5200)\n",
    "#plt.ylim(-1,10)\n",
    "print(torch.max(test_S_out))\n",
    "plt.xlim(23000,28000)"
   ]
  },
  {
   "cell_type": "code",
   "execution_count": null,
   "id": "555c43cf",
   "metadata": {},
   "outputs": [],
   "source": []
  },
  {
   "cell_type": "code",
   "execution_count": 11,
   "id": "1f59f818",
   "metadata": {},
   "outputs": [
    {
     "ename": "AttributeError",
     "evalue": "'numpy.ndarray' object has no attribute 'cpu'",
     "output_type": "error",
     "traceback": [
      "\u001b[0;31m---------------------------------------------------------------------------\u001b[0m",
      "\u001b[0;31mAttributeError\u001b[0m                            Traceback (most recent call last)",
      "\u001b[0;32m<ipython-input-11-c1da3a0730df>\u001b[0m in \u001b[0;36m<module>\u001b[0;34m\u001b[0m\n\u001b[0;32m----> 1\u001b[0;31m \u001b[0mtest_S_out\u001b[0m \u001b[0;34m=\u001b[0m \u001b[0mtest_S_out\u001b[0m\u001b[0;34m.\u001b[0m\u001b[0mcpu\u001b[0m\u001b[0;34m(\u001b[0m\u001b[0;34m)\u001b[0m\u001b[0;34m.\u001b[0m\u001b[0mdetach\u001b[0m\u001b[0;34m(\u001b[0m\u001b[0;34m)\u001b[0m\u001b[0;34m.\u001b[0m\u001b[0mnumpy\u001b[0m\u001b[0;34m(\u001b[0m\u001b[0;34m)\u001b[0m\u001b[0;34m\u001b[0m\u001b[0;34m\u001b[0m\u001b[0m\n\u001b[0m\u001b[1;32m      2\u001b[0m \u001b[0mtest_S_out_next\u001b[0m \u001b[0;34m=\u001b[0m \u001b[0mnp\u001b[0m\u001b[0;34m.\u001b[0m\u001b[0mzeros_like\u001b[0m\u001b[0;34m(\u001b[0m\u001b[0mtest_S_out\u001b[0m\u001b[0;34m)\u001b[0m\u001b[0;34m\u001b[0m\u001b[0;34m\u001b[0m\u001b[0m\n\u001b[1;32m      3\u001b[0m \u001b[0mtest_S_out_next\u001b[0m\u001b[0;34m[\u001b[0m\u001b[0;34m:\u001b[0m\u001b[0;34m,\u001b[0m\u001b[0;34m:\u001b[0m\u001b[0;34m-\u001b[0m\u001b[0;36m1\u001b[0m\u001b[0;34m]\u001b[0m \u001b[0;34m=\u001b[0m \u001b[0mtest_S_out\u001b[0m\u001b[0;34m[\u001b[0m\u001b[0;34m:\u001b[0m\u001b[0;34m,\u001b[0m\u001b[0;36m1\u001b[0m\u001b[0;34m:\u001b[0m\u001b[0;34m]\u001b[0m\u001b[0;34m\u001b[0m\u001b[0;34m\u001b[0m\u001b[0m\n\u001b[1;32m      4\u001b[0m \u001b[0mtest_S_out_thresh\u001b[0m \u001b[0;34m=\u001b[0m \u001b[0mnp\u001b[0m\u001b[0;34m.\u001b[0m\u001b[0mzeros_like\u001b[0m\u001b[0;34m(\u001b[0m\u001b[0mtest_S_out\u001b[0m\u001b[0;34m)\u001b[0m\u001b[0;34m\u001b[0m\u001b[0;34m\u001b[0m\u001b[0m\n\u001b[1;32m      5\u001b[0m \u001b[0;34m\u001b[0m\u001b[0m\n",
      "\u001b[0;31mAttributeError\u001b[0m: 'numpy.ndarray' object has no attribute 'cpu'"
     ]
    }
   ],
   "source": [
    "test_S_out = test_S_out.cpu().detach().numpy()\n",
    "test_S_out_next = np.zeros_like(test_S_out)\n",
    "test_S_out_next[:,:-1] = test_S_out[:,1:]\n",
    "test_S_out_thresh = np.zeros_like(test_S_out)\n",
    "\n",
    "thresh = 15\n",
    "\n",
    "for i in range(test_S_out.shape[0]):\n",
    "    idx = np.where((test_S_out[i] < thresh) & (test_S_out_next[i] >= thresh))[0]\n",
    "    test_S_out_thresh[i][idx] = 1"
   ]
  },
  {
   "cell_type": "code",
   "execution_count": 11,
   "id": "eedc4b33",
   "metadata": {},
   "outputs": [
    {
     "name": "stdout",
     "output_type": "stream",
     "text": [
      "167.0\n"
     ]
    }
   ],
   "source": [
    "print(np.sum(test_S_out_thresh))"
   ]
  },
  {
   "cell_type": "code",
   "execution_count": null,
   "id": "b5a25719",
   "metadata": {},
   "outputs": [],
   "source": []
  },
  {
   "cell_type": "code",
   "execution_count": 12,
   "id": "780f8cd8",
   "metadata": {},
   "outputs": [],
   "source": [
    "torch.save(model.state_dict(), \"/scratch/yjk27/CA1_clust4-60_AP/diff_pred/gru_l20_h40_0.2ms_V.pt\")"
   ]
  },
  {
   "cell_type": "code",
   "execution_count": 13,
   "id": "220095ad",
   "metadata": {},
   "outputs": [],
   "source": [
    "np.save(\"/scratch/yjk27/CA1_clust4-60_AP/diff_pred/gru_l20_h40_0.2ms_test_V.npy\", test_S_out)\n",
    "np.save(\"/scratch/yjk27/CA1_clust4-60_AP/diff_pred/gru_l20_h40_0.2ms_test_S.npy\", test_S_out_thresh)"
   ]
  },
  {
   "cell_type": "code",
   "execution_count": null,
   "id": "1c67e132",
   "metadata": {},
   "outputs": [],
   "source": []
  },
  {
   "cell_type": "code",
   "execution_count": null,
   "id": "38561d5b",
   "metadata": {},
   "outputs": [],
   "source": []
  }
 ],
 "metadata": {
  "kernelspec": {
   "display_name": "Python 3",
   "language": "python",
   "name": "python3"
  },
  "language_info": {
   "codemirror_mode": {
    "name": "ipython",
    "version": 3
   },
   "file_extension": ".py",
   "mimetype": "text/x-python",
   "name": "python",
   "nbconvert_exporter": "python",
   "pygments_lexer": "ipython3",
   "version": "3.8.8"
  }
 },
 "nbformat": 4,
 "nbformat_minor": 5
}
