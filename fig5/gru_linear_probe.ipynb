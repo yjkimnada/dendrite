{
 "cells": [
  {
   "cell_type": "code",
   "execution_count": 1,
   "id": "38186d84",
   "metadata": {},
   "outputs": [],
   "source": [
    "import numpy as np\n",
    "import torch \n",
    "import torch.nn as nn\n",
    "from tqdm import tnrange\n",
    "import torch.optim as optim\n",
    "import torch.nn.functional as F\n",
    "from sklearn import metrics\n",
    "import matplotlib.pyplot as plt\n",
    "import scipy\n",
    "import time"
   ]
  },
  {
   "cell_type": "code",
   "execution_count": 2,
   "id": "bb3a6a71",
   "metadata": {},
   "outputs": [],
   "source": [
    "class Linear(nn.Module):\n",
    "    def __init__(self, C_syn_e, C_syn_i, T_no, device):\n",
    "        super().__init__()\n",
    "        \n",
    "        self.sub_no = C_syn_e.shape[0]\n",
    "        self.C_syn_e = C_syn_e\n",
    "        self.C_syn_i = C_syn_i\n",
    "        self.T_no = T_no\n",
    "        self.E_no = C_syn_e.shape[1]\n",
    "        self.I_no = C_syn_i.shape[1]\n",
    "        self.device = device\n",
    "        \n",
    "        self.E_scale = nn.Parameter(torch.zeros(self.E_no))\n",
    "        self.I_scale = nn.Parameter(torch.zeros(self.I_no))\n",
    "        \n",
    "        self.cos_basis_no = 30\n",
    "        self.scale = 7.5\n",
    "        self.shift = 1\n",
    "        \n",
    "        self.kern_basis = torch.zeros(self.cos_basis_no, T_no).to(device)\n",
    "        for i in range(self.cos_basis_no):\n",
    "            phi = 1.5707963267948966*i\n",
    "            xmin = phi - 3.141592653589793\n",
    "            xmax = phi + 3.141592653589793\n",
    "\n",
    "            x_in = torch.arange(0, T_no, 1)\n",
    "            raw_cos = self.scale  * torch.log(x_in + self.shift + 1e-7)\n",
    "\n",
    "            basis = 0.5*torch.cos(raw_cos - phi) + 0.5\n",
    "            basis[raw_cos < xmin] = 0.0\n",
    "            basis[raw_cos > xmax] = 0.0\n",
    "            self.kern_basis[i] = basis\n",
    "        \n",
    "        self.W_e = nn.Parameter(torch.randn(self.sub_no , self.cos_basis_no)*0.01)        \n",
    "        self.W_i = nn.Parameter(torch.randn(self.sub_no , self.cos_basis_no)*0.01)\n",
    "        self.V_o = nn.Parameter(torch.zeros(1))\n",
    "    \n",
    "    def forward(self, S_e, S_i):\n",
    "        # S is (batch, T, E)\n",
    "        T_data = S_e.shape[1]\n",
    "        batch = S_e.shape[0]\n",
    "\n",
    "        S_e = S_e * torch.exp(self.E_scale.reshape(1,1,-1))\n",
    "        S_i = S_i * torch.exp(self.I_scale.reshape(1,1,-1))\n",
    "        syn_e = torch.matmul(S_e, self.C_syn_e.T.unsqueeze(0))\n",
    "        syn_i = torch.matmul(S_i, self.C_syn_i.T.unsqueeze(0))\n",
    "\n",
    "        pad_syn_e = torch.zeros(batch, T_data + self.T_no-1, self.sub_no).to(self.device)\n",
    "        pad_syn_i = torch.zeros(batch, T_data + self.T_no-1, self.sub_no).to(self.device)\n",
    "        pad_syn_e[:,-T_data:] = pad_syn_e[:,-T_data:] + syn_e\n",
    "        pad_syn_i[:,-T_data:] = pad_syn_i[:,-T_data:] + syn_i\n",
    "        pad_syn_e = pad_syn_e.permute(0,2,1)\n",
    "        pad_syn_i = pad_syn_i.permute(0,2,1)\n",
    "        \n",
    "        layer1_e_kern = torch.matmul(self.W_e, self.kern_basis) # (sub*H, T_no)\n",
    "        layer1_i_kern = torch.matmul(self.W_i, self.kern_basis) # (sub*H, T_no)\n",
    "        layer1_e_kern = torch.flip(layer1_e_kern, [1]).unsqueeze(1)\n",
    "        layer1_i_kern = torch.flip(layer1_i_kern, [1]).unsqueeze(1)\n",
    "        \n",
    "        layer1_e_conv = F.conv1d(pad_syn_e, layer1_e_kern, groups=self.sub_no)\n",
    "        layer1_i_conv = F.conv1d(pad_syn_i, layer1_i_kern, groups=self.sub_no)\n",
    "        layer1_out = layer1_e_conv + layer1_i_conv + self.V_o\n",
    "        \n",
    "        return layer1_out"
   ]
  },
  {
   "cell_type": "code",
   "execution_count": 3,
   "id": "98cd0229",
   "metadata": {},
   "outputs": [],
   "source": [
    "sub_no = 10\n",
    "E_no = 2000\n",
    "I_no = 200\n",
    "T_no = 500\n",
    "device = torch.device(\"cuda\")\n",
    "\n",
    "base_dir = \"/media/hdd01/sklee/\"\n",
    "experiment = \"clust4-60\"\n",
    "cell_type = \"CA1\"\n",
    "E_neural_file = \"Espikes_neural.npz\"\n",
    "I_neural_file = \"Ispikes_neural.npz\"\n",
    "\n",
    "V = np.load(\"/media/hdd01/sklee/CA1_clust4-60/hand/gru_s10_h20_output.npz\")[\"sub_out\"]\n",
    "V = torch.from_numpy(V)\n",
    "V_train = V[:19].float().to(device)\n",
    "V_test = V[-1].float().to(device)\n",
    "\n",
    "E_neural = scipy.sparse.load_npz(base_dir+cell_type+\"_\"+experiment+\"/data/\"+E_neural_file)\n",
    "I_neural = scipy.sparse.load_npz(base_dir+cell_type+\"_\"+experiment+\"/data/\"+I_neural_file)\n",
    "\n",
    "C_syn_e = np.load(\"/media/hdd01/sklee/CA1_clust4-60/data/handsub10_C_syn_e.npy\")\n",
    "C_syn_i = np.load(\"/media/hdd01/sklee/CA1_clust4-60/data/handsub10_C_syn_i.npy\")\n",
    "C_syn_e = torch.from_numpy(C_syn_e).float()\n",
    "C_syn_i = torch.from_numpy(C_syn_i).float()"
   ]
  },
  {
   "cell_type": "code",
   "execution_count": 4,
   "id": "a8da2d0e",
   "metadata": {},
   "outputs": [],
   "source": [
    "train_E_neural = E_neural[-20*50000:-1*50000].toarray().reshape(19,50000,2000)\n",
    "train_I_neural = I_neural[-20*50000:-1*50000].toarray().reshape(19,50000,200)\n",
    "test_E_neural = E_neural[-1*50000:].toarray().reshape(1,50000,2000)\n",
    "test_I_neural = I_neural[-1*50000:].toarray().reshape(1,50000,200)\n",
    "\n",
    "test_E_neural = torch.from_numpy(test_E_neural).float().to(device)\n",
    "test_I_neural = torch.from_numpy(test_I_neural).float().to(device)\n",
    "train_E_neural = torch.from_numpy(train_E_neural)\n",
    "train_I_neural = torch.from_numpy(train_I_neural)\n",
    "\n",
    "train_idx = np.empty((1000, 19))\n",
    "for i in range(1000):\n",
    "    part_idx = np.arange(19)\n",
    "    np.random.shuffle(part_idx)\n",
    "    train_idx[i] = part_idx\n",
    "train_idx = train_idx.flatten()\n",
    "train_idx = torch.from_numpy(train_idx).long()"
   ]
  },
  {
   "cell_type": "code",
   "execution_count": 5,
   "id": "69bc7ead",
   "metadata": {},
   "outputs": [
    {
     "name": "stdout",
     "output_type": "stream",
     "text": [
      "2801\n"
     ]
    }
   ],
   "source": [
    "model = Linear(C_syn_e.to(device), C_syn_i.to(device), T_no, device)\n",
    "\n",
    "optimizer = torch.optim.Adam(model.parameters(), lr = 0.005/(1**100))\n",
    "\n",
    "model.to(device).float()\n",
    "print(sum(p.numel() for p in model.parameters() if p.requires_grad))"
   ]
  },
  {
   "cell_type": "code",
   "execution_count": 6,
   "id": "a35f5140",
   "metadata": {},
   "outputs": [
    {
     "name": "stderr",
     "output_type": "stream",
     "text": [
      "<ipython-input-6-c90aa0cc275f>:4: TqdmDeprecationWarning: Please use `tqdm.notebook.trange` instead of `tqdm.tnrange`\n",
      "  for i in tnrange(10000):\n"
     ]
    },
    {
     "data": {
      "application/vnd.jupyter.widget-view+json": {
       "model_id": "079d38d4470d48faa1a1a87edc0b73ea",
       "version_major": 2,
       "version_minor": 0
      },
      "text/plain": [
       "  0%|          | 0/10000 [00:00<?, ?it/s]"
      ]
     },
     "metadata": {},
     "output_type": "display_data"
    },
    {
     "name": "stdout",
     "output_type": "stream",
     "text": [
      "0 0.092146\n",
      "49 0.012022\n",
      "99 0.010968\n",
      "149 0.010097\n",
      "199 0.009191\n",
      "249 0.008643\n",
      "299 0.008591\n",
      "349 0.008516\n",
      "399 0.00853\n",
      "449 0.008531\n",
      "499 0.008546\n",
      "549 0.008533\n",
      "599 0.00858\n",
      "649 0.008545\n"
     ]
    },
    {
     "ename": "KeyboardInterrupt",
     "evalue": "",
     "output_type": "error",
     "traceback": [
      "\u001b[0;31m---------------------------------------------------------------------------\u001b[0m",
      "\u001b[0;31mKeyboardInterrupt\u001b[0m                         Traceback (most recent call last)",
      "\u001b[0;32m<ipython-input-6-c90aa0cc275f>\u001b[0m in \u001b[0;36m<module>\u001b[0;34m\u001b[0m\n\u001b[1;32m      7\u001b[0m \u001b[0;34m\u001b[0m\u001b[0m\n\u001b[1;32m      8\u001b[0m     \u001b[0mbatch_idx\u001b[0m \u001b[0;34m=\u001b[0m \u001b[0mtrain_idx\u001b[0m\u001b[0;34m[\u001b[0m\u001b[0mi\u001b[0m\u001b[0;34m*\u001b[0m\u001b[0;36m5\u001b[0m\u001b[0;34m:\u001b[0m\u001b[0;34m(\u001b[0m\u001b[0mi\u001b[0m\u001b[0;34m+\u001b[0m\u001b[0;36m1\u001b[0m\u001b[0;34m)\u001b[0m\u001b[0;34m*\u001b[0m\u001b[0;36m5\u001b[0m\u001b[0;34m]\u001b[0m\u001b[0;34m\u001b[0m\u001b[0;34m\u001b[0m\u001b[0m\n\u001b[0;32m----> 9\u001b[0;31m     \u001b[0mbatch_E_neural\u001b[0m \u001b[0;34m=\u001b[0m \u001b[0mtrain_E_neural\u001b[0m\u001b[0;34m[\u001b[0m\u001b[0mbatch_idx\u001b[0m\u001b[0;34m]\u001b[0m\u001b[0;34m.\u001b[0m\u001b[0mfloat\u001b[0m\u001b[0;34m(\u001b[0m\u001b[0;34m)\u001b[0m\u001b[0;34m.\u001b[0m\u001b[0mto\u001b[0m\u001b[0;34m(\u001b[0m\u001b[0mdevice\u001b[0m\u001b[0;34m)\u001b[0m\u001b[0;34m\u001b[0m\u001b[0;34m\u001b[0m\u001b[0m\n\u001b[0m\u001b[1;32m     10\u001b[0m     \u001b[0mbatch_I_neural\u001b[0m \u001b[0;34m=\u001b[0m \u001b[0mtrain_I_neural\u001b[0m\u001b[0;34m[\u001b[0m\u001b[0mbatch_idx\u001b[0m\u001b[0;34m]\u001b[0m\u001b[0;34m.\u001b[0m\u001b[0mfloat\u001b[0m\u001b[0;34m(\u001b[0m\u001b[0;34m)\u001b[0m\u001b[0;34m.\u001b[0m\u001b[0mto\u001b[0m\u001b[0;34m(\u001b[0m\u001b[0mdevice\u001b[0m\u001b[0;34m)\u001b[0m\u001b[0;34m\u001b[0m\u001b[0;34m\u001b[0m\u001b[0m\n\u001b[1;32m     11\u001b[0m     \u001b[0mbatch_V\u001b[0m \u001b[0;34m=\u001b[0m \u001b[0mV_train\u001b[0m\u001b[0;34m[\u001b[0m\u001b[0mbatch_idx\u001b[0m\u001b[0;34m]\u001b[0m\u001b[0;34m\u001b[0m\u001b[0;34m\u001b[0m\u001b[0m\n",
      "\u001b[0;31mKeyboardInterrupt\u001b[0m: "
     ]
    }
   ],
   "source": [
    "score_list = []\n",
    "\n",
    "#for i in tnrange(iter_no):\n",
    "for i in tnrange(10000):\n",
    "    model.train()\n",
    "    optimizer.zero_grad()\n",
    "    \n",
    "    batch_idx = train_idx[i*5:(i+1)*5]\n",
    "    batch_E_neural = train_E_neural[batch_idx].float().to(device)\n",
    "    batch_I_neural = train_I_neural[batch_idx].float().to(device)\n",
    "    batch_V = V_train[batch_idx]\n",
    "    \n",
    "    V_pred = model(batch_E_neural, batch_I_neural)\n",
    "    \n",
    "    loss = torch.mean((V_pred - batch_V)**2)\n",
    "    loss.backward()\n",
    "    optimizer.step()\n",
    "    \n",
    "    if (i%50 == 49) or (i == 0):\n",
    "        model.eval()\n",
    "        test_V_pred = model(test_E_neural, test_I_neural)\n",
    "                 \n",
    "        test_mse = torch.mean((V_test-test_V_pred.squeeze(0))**2).item()\n",
    "        score_list.append(test_mse)\n",
    "                \n",
    "        print(i, np.round(test_mse,6))\n"
   ]
  },
  {
   "cell_type": "code",
   "execution_count": 7,
   "id": "7f01a81d",
   "metadata": {},
   "outputs": [
    {
     "name": "stdout",
     "output_type": "stream",
     "text": [
      "torch.Size([10, 50000])\n"
     ]
    }
   ],
   "source": [
    "print(V_test.shape)"
   ]
  },
  {
   "cell_type": "code",
   "execution_count": 8,
   "id": "502b809f",
   "metadata": {},
   "outputs": [
    {
     "name": "stdout",
     "output_type": "stream",
     "text": [
      "torch.Size([1, 10, 50000])\n"
     ]
    }
   ],
   "source": [
    "print(test_V_pred.shape)"
   ]
  },
  {
   "cell_type": "code",
   "execution_count": 11,
   "id": "b59280d0",
   "metadata": {},
   "outputs": [
    {
     "name": "stderr",
     "output_type": "stream",
     "text": [
      "<ipython-input-11-36894832a7b5>:5: TqdmDeprecationWarning: Please use `tqdm.notebook.trange` instead of `tqdm.tnrange`\n",
      "  for i in tnrange(8):\n"
     ]
    },
    {
     "data": {
      "application/vnd.jupyter.widget-view+json": {
       "model_id": "abcbae7ca15d4cf3b3a05b9eac58b8a3",
       "version_major": 2,
       "version_minor": 0
      },
      "text/plain": [
       "  0%|          | 0/8 [00:00<?, ?it/s]"
      ]
     },
     "metadata": {},
     "output_type": "display_data"
    }
   ],
   "source": [
    "final_test = np.zeros((8,3,30,6000))\n",
    "\n",
    "syn_list = [821, 580, 1211, 692]\n",
    "\n",
    "for i in tnrange(8):\n",
    "    if i == 0:\n",
    "        syn = 930\n",
    "    elif i == 1:\n",
    "        syn = 990\n",
    "    elif i == 2:\n",
    "        syn = 1050\n",
    "    elif i == 3:\n",
    "        syn = 1110\n",
    "    else:\n",
    "        syn = syn_list[i-4]\n",
    "    \n",
    "    for j in range(3):\n",
    "        for k in range(30):\n",
    "            E_in = torch.zeros(1,6000,2000).cuda()\n",
    "            I_in = torch.zeros(1,6000,200).cuda()\n",
    "            \n",
    "            if j == 0:\n",
    "                spk_times = np.arange(500,500+10*(k+1),10)\n",
    "            elif j == 1:\n",
    "                spk_times = np.arange(500,500+50*(k+1),50)\n",
    "            elif j == 2:\n",
    "                spk_times = np.arange(500,500+150*(k+1),150)\n",
    "            \n",
    "            E_in[0, spk_times ,syn] = 1\n",
    "            test = model(E_in, I_in)\n",
    "            #final_test[i,j,k] = test.cpu().detach().numpy()"
   ]
  },
  {
   "cell_type": "code",
   "execution_count": null,
   "id": "1b0246df",
   "metadata": {},
   "outputs": [],
   "source": []
  },
  {
   "cell_type": "code",
   "execution_count": 14,
   "id": "71746475",
   "metadata": {},
   "outputs": [
    {
     "name": "stdout",
     "output_type": "stream",
     "text": [
      "torch.Size([1, 10, 6000])\n",
      "tensor([-0.0779, -0.0779, -0.0779, -0.0779, -0.0779, -0.0784, -0.0779, -0.0779,\n",
      "        -0.0779, -0.0779], device='cuda:0', grad_fn=<MeanBackward1>)\n"
     ]
    }
   ],
   "source": [
    "print(test.shape)\n",
    "print(torch.mean(test[0], 1))"
   ]
  },
  {
   "cell_type": "code",
   "execution_count": 15,
   "id": "a549f557",
   "metadata": {},
   "outputs": [
    {
     "data": {
      "image/png": "[encoded data removed]",
      "text/plain": [
       "<Figure size 720x864 with 10 Axes>"
      ]
     },
     "metadata": {
      "needs_background": "light"
     },
     "output_type": "display_data"
    }
   ],
   "source": [
    "fig, axs = plt.subplots(nrows=10, figsize = (10,12))\n",
    "for i in range(10):\n",
    "    axs[i].plot(test[0,i].cpu().detach().numpy())"
   ]
  },
  {
   "cell_type": "code",
   "execution_count": null,
   "id": "3306ff40",
   "metadata": {},
   "outputs": [],
   "source": []
  }
 ],
 "metadata": {
  "kernelspec": {
   "display_name": "Python 3",
   "language": "python",
   "name": "python3"
  },
  "language_info": {
   "codemirror_mode": {
    "name": "ipython",
    "version": 3
   },
   "file_extension": ".py",
   "mimetype": "text/x-python",
   "name": "python",
   "nbconvert_exporter": "python",
   "pygments_lexer": "ipython3",
   "version": "3.8.8"
  }
 },
 "nbformat": 4,
 "nbformat_minor": 5
}
