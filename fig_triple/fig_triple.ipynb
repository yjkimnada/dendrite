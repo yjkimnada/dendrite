{
 "cells": [
  {
   "cell_type": "code",
   "execution_count": 13,
   "id": "369652cc",
   "metadata": {},
   "outputs": [],
   "source": [
    "import numpy as np\n",
    "import matplotlib.pyplot as plt\n",
    "from sklearn.metrics import explained_variance_score\n",
    "import matplotlib as mpl"
   ]
  },
  {
   "cell_type": "code",
   "execution_count": 9,
   "id": "8600043e",
   "metadata": {},
   "outputs": [],
   "source": [
    "glm4 = np.load(\"/media/hdd01/sklee/CA1_clust4-60/hand/glm_s10_h2_output.npz\")[\"test\"]\n",
    "glm8 = np.load(\"/media/hdd01/sklee/CA1_clust8-30/hand/glm_s14_h2_output.npz\")[\"test\"]\n",
    "glm12 = np.load(\"/media/hdd01/sklee/CA1_clust12-20/hand/glm_s18_h2_output.npz\")[\"test\"]\n",
    "glm4_tri = np.load(\"/media/hdd01/sklee/CA1_clust4-60/hand/glm_s5_h3_output.npz\")[\"test\"]\n",
    "glm8_tri = np.load(\"/media/hdd01/sklee/CA1_clust8-30/hand/glm_s9_h3_output.npz\")[\"test\"]\n",
    "glm12_tri = np.load(\"/media/hdd01/sklee/CA1_clust12-20/hand/glm_s13_h3_output.npz\")[\"test\"]\n",
    "\n",
    "gru4 = np.load(\"/media/hdd01/sklee/CA1_clust4-60/hand/gru_s10_h20_output.npz\")[\"test\"]\n",
    "gru8 = np.load(\"/media/hdd01/sklee/CA1_clust8-30/hand/gru_s14_h20_output.npz\")[\"test\"]\n",
    "gru12 = np.load(\"/media/hdd01/sklee/CA1_clust12-20/hand/gru_s18_h20_output.npz\")[\"test\"]\n",
    "gru4_tri = np.load(\"/media/hdd01/sklee/CA1_clust4-60/hand/grumulti_s8_h20_output.npz\")[\"test\"]\n",
    "gru8_tri = np.load(\"/media/hdd01/sklee/CA1_clust8-30/hand/grumulti_s16_h20_output.npz\")[\"test\"]\n",
    "gru12_tri = np.load(\"/media/hdd01/sklee/CA1_clust12-20/hand/grumulti_s24_h20_output.npz\")[\"test\"]\n",
    "\n",
    "true4 = np.load(\"/media/hdd01/sklee/CA1_clust4-60/data/V_diff_stimseed1_set1.npy\")[-20*50000:].reshape((20,-1))\n",
    "true8 = np.load(\"/media/hdd01/sklee/CA1_clust8-30/data/V_diff_stimseed1.npy\")[-20*50000:].reshape((20,-1))\n",
    "true12 = np.load(\"/media/hdd01/sklee/CA1_clust12-20/data/V_diff_stimseed1.npy\")[-20*50000:].reshape((20,-1))"
   ]
  },
  {
   "cell_type": "code",
   "execution_count": 10,
   "id": "08e3a02f",
   "metadata": {},
   "outputs": [],
   "source": [
    "glm_var_exp = np.empty((20, 6))\n",
    "gru_var_exp = np.empty((20, 6))\n",
    "\n",
    "for i in range(20):\n",
    "    glm_var_exp[i,0] = explained_variance_score(true4[i], glm4[i])\n",
    "    glm_var_exp[i,2] = explained_variance_score(true8[i], glm8[i])\n",
    "    glm_var_exp[i,4] = explained_variance_score(true12[i], glm12[i])\n",
    "    glm_var_exp[i,1] = explained_variance_score(true4[i], glm4_tri[i])\n",
    "    glm_var_exp[i,3] = explained_variance_score(true8[i], glm8_tri[i])\n",
    "    glm_var_exp[i,5] = explained_variance_score(true12[i], glm12_tri[i])\n",
    "    \n",
    "    gru_var_exp[i,0] = explained_variance_score(true4[i], gru4[i])\n",
    "    gru_var_exp[i,2] = explained_variance_score(true8[i], gru8[i])\n",
    "    gru_var_exp[i,4] = explained_variance_score(true12[i], gru12[i])\n",
    "    gru_var_exp[i,1] = explained_variance_score(true4[i], gru4_tri[i])\n",
    "    gru_var_exp[i,3] = explained_variance_score(true8[i], gru8_tri[i])\n",
    "    gru_var_exp[i,5] = explained_variance_score(true12[i], gru12_tri[i])"
   ]
  },
  {
   "cell_type": "code",
   "execution_count": 25,
   "id": "39859625",
   "metadata": {},
   "outputs": [
    {
     "data": {
      "image/png": "[encoded data removed]",
      "text/plain": [
       "<Figure size 720x360 with 2 Axes>"
      ]
     },
     "metadata": {
      "needs_background": "light"
     },
     "output_type": "display_data"
    }
   ],
   "source": [
    "mpl.rcParams['pdf.fonttype'] = 42\n",
    "mpl.rcParams['font.sans-serif'] = \"Arial\"\n",
    "mpl.rcParams['font.family'] = \"sans-serif\"\n",
    "plt.rcParams['font.size'] = '13'\n",
    "\n",
    "fig = plt.figure(constrained_layout=True, figsize = (10,5))\n",
    "gs = fig.add_gridspec(1,2, wspace=0.1, hspace=0.1)\n",
    "ax1 = fig.add_subplot(gs[0])\n",
    "ax2 = fig.add_subplot(gs[1])\n",
    "\n",
    "colors = [\"gray\", \"tab:pink\", \"gray\", \"tab:pink\", \"gray\", \"tab:pink\"]\n",
    "cap_colors = [\"gray\", \"gray\", \"tab:pink\", \"tab:pink\",\n",
    "             \"gray\", \"gray\", \"tab:pink\", \"tab:pink\",\n",
    "             \"gray\", \"gray\", \"tab:pink\", \"tab:pink\"]\n",
    "bp = ax1.boxplot(glm_var_exp, positions = [1,2,4,5,7,8], widths = 0.6, patch_artist=True)\n",
    "for i in range(glm_var_exp.shape[1]):\n",
    "    plt.setp(bp['boxes'][i], facecolor=colors[i])\n",
    "    plt.setp(bp['boxes'][i], alpha=0.5)\n",
    "    plt.setp(bp[\"fliers\"][i], markeredgecolor=colors[i])\n",
    "    plt.setp(bp[\"boxes\"][i], color=colors[i])\n",
    "    plt.setp(bp[\"medians\"][i], color=colors[i])\n",
    "for i in range(glm_var_exp.shape[1]*2):\n",
    "    plt.setp(bp['whiskers'][i], color=cap_colors[i])\n",
    "    plt.setp(bp['caps'][i], color=cap_colors[i])\n",
    "    \n",
    "ax1.set_xticks([1.5, 4.5, 7.5])\n",
    "ax1.set_xticklabels([\"4\", \"8\", \"12\"])\n",
    "ax1.set_xlabel(\"cluster no.\")\n",
    "ax1.set_ylim(0,1)\n",
    "ax1.set_title(\"$\\mathregular{v_{noNa}}$ GLM fits\")\n",
    "ax1.set_ylabel(\"variance explained\")\n",
    "\n",
    "hR = ax1.scatter(1,1,c='tab:pink', marker=\"s\")\n",
    "hG = ax1.scatter(1,1,c='gray', marker=\"s\")\n",
    "ax1.legend((hG, hR),('2-plex', '3-plex'), frameon=False, fontsize=11)\n",
    "hG.set_visible(False)\n",
    "hR.set_visible(False)\n",
    "\n",
    "bp = ax2.boxplot(gru_var_exp, positions = [1,2,4,5,7,8], widths = 0.6, patch_artist=True)\n",
    "for i in range(glm_var_exp.shape[1]):\n",
    "    plt.setp(bp['boxes'][i], facecolor=colors[i])\n",
    "    plt.setp(bp['boxes'][i], alpha=0.5)\n",
    "    plt.setp(bp[\"fliers\"][i], markeredgecolor=colors[i])\n",
    "    plt.setp(bp[\"boxes\"][i], color=colors[i])\n",
    "    plt.setp(bp[\"medians\"][i], color=colors[i])\n",
    "for i in range(glm_var_exp.shape[1]*2):\n",
    "    plt.setp(bp['whiskers'][i], color=cap_colors[i])\n",
    "    plt.setp(bp['caps'][i], color=cap_colors[i])\n",
    "    \n",
    "ax2.set_xticks([1.5, 4.5, 7.5])\n",
    "ax2.set_xticklabels([\"4\", \"8\", \"12\"])\n",
    "ax2.set_xlabel(\"cluster no.\")\n",
    "ax2.set_ylim(0,1)\n",
    "ax2.set_title(\"$\\mathregular{v_{noNa}}$ GRU fits\")\n",
    "\n",
    "hR = ax2.scatter(1,1,c='tab:pink', marker=\"s\")\n",
    "hG = ax2.scatter(1,1,c='gray', marker=\"s\")\n",
    "ax2.legend((hG, hR),('2-layer', '3-layer'), frameon=False, fontsize=11)\n",
    "hG.set_visible(False)\n",
    "hR.set_visible(False)"
   ]
  },
  {
   "cell_type": "code",
   "execution_count": null,
   "id": "0a40e815",
   "metadata": {},
   "outputs": [],
   "source": []
  }
 ],
 "metadata": {
  "kernelspec": {
   "display_name": "Python 3 (ipykernel)",
   "language": "python",
   "name": "python3"
  },
  "language_info": {
   "codemirror_mode": {
    "name": "ipython",
    "version": 3
   },
   "file_extension": ".py",
   "mimetype": "text/x-python",
   "name": "python",
   "nbconvert_exporter": "python",
   "pygments_lexer": "ipython3",
   "version": "3.8.8"
  }
 },
 "nbformat": 4,
 "nbformat_minor": 5
}
