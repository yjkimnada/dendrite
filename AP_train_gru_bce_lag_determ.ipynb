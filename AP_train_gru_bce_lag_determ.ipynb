{
 "cells": [
  {
   "cell_type": "code",
   "execution_count": 1,
   "id": "e7faa469",
   "metadata": {},
   "outputs": [],
   "source": [
    "import numpy as np\n",
    "import torch \n",
    "import torch.nn as nn\n",
    "from tqdm import tnrange\n",
    "import torch.optim as optim\n",
    "import torch.nn.functional as F\n",
    "from sklearn import metrics\n",
    "import matplotlib.pyplot as plt\n",
    "import time\n",
    "from sklearn.metrics import explained_variance_score"
   ]
  },
  {
   "cell_type": "code",
   "execution_count": 2,
   "id": "8753064b",
   "metadata": {},
   "outputs": [],
   "source": [
    "class AP_GRU_Lag(nn.Module):\n",
    "    def __init__(self, H_no, lag, device):\n",
    "        super().__init__()\n",
    "        \n",
    "        self.H_no = H_no\n",
    "        self.device = device\n",
    "        \n",
    "        self.rnn = nn.GRU(lag+1, H_no, batch_first=True)\n",
    "        self.linear = nn.Linear(H_no, 1)\n",
    "        self.step = Step.apply\n",
    "        \n",
    "    def forward(self, V, temp):\n",
    "        #V is shape (batch, 50000, lag+1)\n",
    "\n",
    "        rnn_out, _ = self.rnn(V) #(batch,50000,H)\n",
    "        rnn_out = rnn_out.reshape(-1,self.H_no)\n",
    "        lin_out = self.linear(rnn_out) #(batch*50000,1)\n",
    "        #final = torch.sigmoid(lin_out.reshape(V.shape[0], V.shape[1]))\n",
    "        final = self.step(lin_out.reshape(V.shape[0], V.shape[1]) / temp)\n",
    "        \n",
    "        return final\n",
    "\n",
    "class Step(torch.autograd.Function):\n",
    "\n",
    "    @staticmethod\n",
    "    def forward(ctx, input):\n",
    "        ctx.save_for_backward(input)\n",
    "        return torch.heaviside(input, torch.ones_like(input))\n",
    "\n",
    "    @staticmethod\n",
    "    def backward(ctx, grad_output):\n",
    "        input, = ctx.saved_tensors\n",
    "        grad_input = grad_output.clone()\n",
    "        return grad_input * torch.sigmoid(input) * (1 - torch.sigmoid(input))"
   ]
  },
  {
   "cell_type": "code",
   "execution_count": 3,
   "id": "6e8d732d",
   "metadata": {},
   "outputs": [
    {
     "name": "stdout",
     "output_type": "stream",
     "text": [
      "torch.Size([1000, 50000, 20])\n"
     ]
    }
   ],
   "source": [
    "batch_size = 20\n",
    "batch_length = int(50000 / 5 / 0.2)\n",
    "H_no = 40\n",
    "device = torch.device(\"cuda\")\n",
    "lag = 20\n",
    "\n",
    "epoch_no = 400\n",
    "iter_no = epoch_no * 980 // batch_size\n",
    "\n",
    "V = np.load(\"/media/hdd01/sklee/CA1_clust4-60/data/vdata_T10_Ne2000_gA0.6_tauA1_gN0.8_Ni200_gG0.1_gB0.1_Er0.5_Ir7.4_random_NR_rep1000_stimseed1.npy\").reshape(-1,50001)[:,:50000]\n",
    "#V = np.load(\"/media/hdd01/sklee/CA1_clust4-60_AP/data/V_diff_stimseed1.npy\").reshape(-1,batch_length)\n",
    "#V = np.load(\"/media/hdd01/sklee/CA1_clust4-60_AP/comb_pred/V_comb_pred_0.2ms.npy\").reshape(-1,batch_length)\n",
    "#V = np.load(\"/media/hdd01/sklee/CA1_clust4-60_AP/diff_true/V_diff_true_0.2ms.npy\").reshape(-1,batch_length)\n",
    "S = np.load(\"/media/hdd01/sklee/CA1_clust4-60_AP/data/spike_train_0.2ms.npy\").reshape(-1,batch_length)\n",
    "\n",
    "V-= np.mean(V)\n",
    "\n",
    "V = torch.from_numpy(V)\n",
    "S = torch.from_numpy(S)\n",
    "\n",
    "V_lag = np.zeros((V.shape[0], V.shape[1], lag)) #(lag,1000,50000)\n",
    "for i in range(lag):\n",
    "    V_lag[:,i+1:,i] = V[:,:-i-1]\n",
    "\n",
    "V_lag = torch.from_numpy(V_lag)\n",
    "print(V_lag.shape)"
   ]
  },
  {
   "cell_type": "code",
   "execution_count": 4,
   "id": "bfda0478",
   "metadata": {},
   "outputs": [
    {
     "name": "stdout",
     "output_type": "stream",
     "text": [
      "torch.Size([19600, 20])\n"
     ]
    }
   ],
   "source": [
    "V_train = V[:980].float()\n",
    "V_test = V[980:].float().to(device)\n",
    "S_train = S[:980].float()\n",
    "S_test = S[980:].float().to(device)\n",
    "V_lag_train = V_lag[:980].float()\n",
    "V_lag_test = V_lag[980:].float().to(device)\n",
    "\n",
    "train_idx = np.empty((epoch_no, 980))\n",
    "for i in range(epoch_no):\n",
    "    part_idx = np.arange(0,980,1)\n",
    "    np.random.shuffle(part_idx)\n",
    "    train_idx[i] = part_idx\n",
    "train_idx = train_idx.reshape(-1, batch_size)\n",
    "train_idx = torch.from_numpy(train_idx).long()\n",
    "print(train_idx.shape)"
   ]
  },
  {
   "cell_type": "code",
   "execution_count": 5,
   "id": "784b45c2",
   "metadata": {},
   "outputs": [
    {
     "name": "stdout",
     "output_type": "stream",
     "text": [
      "7601\n"
     ]
    }
   ],
   "source": [
    "model = AP_GRU_Lag(H_no, lag, device)\n",
    "optimizer = torch.optim.Adam(model.parameters(), lr = 0.0005)\n",
    "\n",
    "model.to(device).float()\n",
    "print(sum(p.numel() for p in model.parameters() if p.requires_grad))\n",
    "\n",
    "bce_criterion = nn.BCELoss(reduction=\"mean\")"
   ]
  },
  {
   "cell_type": "code",
   "execution_count": 6,
   "id": "84e29a0c",
   "metadata": {
    "scrolled": false
   },
   "outputs": [
    {
     "name": "stderr",
     "output_type": "stream",
     "text": [
      "<ipython-input-6-ed3c07dad700>:6: TqdmDeprecationWarning: Please use `tqdm.notebook.trange` instead of `tqdm.tnrange`\n",
      "  for i in tnrange(iter_no):\n"
     ]
    },
    {
     "data": {
      "application/vnd.jupyter.widget-view+json": {
       "model_id": "24c86576d3eb440580ab796fcceb6f8a",
       "version_major": 2,
       "version_minor": 0
      },
      "text/plain": [
       "  0%|          | 0/19600 [00:00<?, ?it/s]"
      ]
     },
     "metadata": {},
     "output_type": "display_data"
    },
    {
     "name": "stdout",
     "output_type": "stream",
     "text": [
      "0 172.4680938720703 444848.0\n",
      "49 0.02678292989730835 325.0\n",
      "99 0.013709913939237595 241.0\n",
      "149 0.008002351969480515 143.0\n",
      "199 0.010893306694924831 218.0\n",
      "249 0.009215922094881535 182.0\n",
      "299 0.009839816950261593 200.0\n",
      "349 0.011724142357707024 233.0\n",
      "399 0.008984465152025223 176.0\n",
      "449 0.011714343912899494 231.0\n",
      "499 0.00910535454750061 185.0\n",
      "549 0.008435155265033245 182.0\n",
      "599 0.0021646323148161173 8.0\n",
      "649 0.002080569276586175 0.0\n",
      "699 0.0032077431678771973 47.0\n",
      "749 0.0080414405092597 178.0\n",
      "799 0.002080569276586175 0.0\n",
      "849 0.21396856009960175 2636.0\n",
      "899 0.002080569276586175 0.0\n",
      "949 0.002080569276586175 0.0\n",
      "999 0.002080569276586175 0.0\n",
      "1049 0.002080569276586175 0.0\n",
      "1099 0.00966140627861023 213.0\n",
      "1149 0.0021223900839686394 6.0\n",
      "1199 0.002075508702546358 1.0\n",
      "1249 0.002508820965886116 21.0\n",
      "1299 0.002080569276586175 0.0\n",
      "1349 0.002080569276586175 0.0\n",
      "1399 0.049493320286273956 857.0\n",
      "1449 0.5295156240463257 4414.0\n",
      "1499 0.002367135137319565 14.0\n",
      "1549 0.01958620920777321 410.0\n",
      "1599 0.018482664600014687 447.0\n",
      "1649 0.002165726153180003 6.0\n",
      "1699 0.025212852284312248 542.0\n",
      "1749 0.002080569276586175 0.0\n",
      "1799 0.002080569276586175 0.0\n",
      "1849 0.06209343671798706 1007.0\n",
      "1899 0.002080569276586175 0.0\n",
      "1949 0.2360512763261795 2102.0\n",
      "1999 0.0021862469147890806 8.0\n",
      "2049 0.0021577724255621433 8.0\n",
      "2099 8.667156219482422 25039.0\n",
      "2149 1.4037175178527832 6908.0\n",
      "2199 10.189318656921387 28461.0\n"
     ]
    },
    {
     "ename": "KeyboardInterrupt",
     "evalue": "",
     "output_type": "error",
     "traceback": [
      "\u001b[0;31m---------------------------------------------------------------------------\u001b[0m",
      "\u001b[0;31mKeyboardInterrupt\u001b[0m                         Traceback (most recent call last)",
      "\u001b[0;32m<ipython-input-6-ed3c07dad700>\u001b[0m in \u001b[0;36m<module>\u001b[0;34m\u001b[0m\n\u001b[1;32m     35\u001b[0m \u001b[0;34m\u001b[0m\u001b[0m\n\u001b[1;32m     36\u001b[0m \u001b[0;34m\u001b[0m\u001b[0m\n\u001b[0;32m---> 37\u001b[0;31m     \u001b[0mloss\u001b[0m\u001b[0;34m.\u001b[0m\u001b[0mbackward\u001b[0m\u001b[0;34m(\u001b[0m\u001b[0;34m)\u001b[0m\u001b[0;34m\u001b[0m\u001b[0;34m\u001b[0m\u001b[0m\n\u001b[0m\u001b[1;32m     38\u001b[0m     \u001b[0mnn\u001b[0m\u001b[0;34m.\u001b[0m\u001b[0mutils\u001b[0m\u001b[0;34m.\u001b[0m\u001b[0mclip_grad_norm_\u001b[0m\u001b[0;34m(\u001b[0m\u001b[0mmodel\u001b[0m\u001b[0;34m.\u001b[0m\u001b[0mparameters\u001b[0m\u001b[0;34m(\u001b[0m\u001b[0;34m)\u001b[0m\u001b[0;34m,\u001b[0m \u001b[0;36m10\u001b[0m\u001b[0;34m)\u001b[0m\u001b[0;34m\u001b[0m\u001b[0;34m\u001b[0m\u001b[0m\n\u001b[1;32m     39\u001b[0m     \u001b[0moptimizer\u001b[0m\u001b[0;34m.\u001b[0m\u001b[0mstep\u001b[0m\u001b[0;34m(\u001b[0m\u001b[0;34m)\u001b[0m\u001b[0;34m\u001b[0m\u001b[0;34m\u001b[0m\u001b[0m\n",
      "\u001b[0;32m~/anaconda3/lib/python3.8/site-packages/torch/tensor.py\u001b[0m in \u001b[0;36mbackward\u001b[0;34m(self, gradient, retain_graph, create_graph, inputs)\u001b[0m\n\u001b[1;32m    243\u001b[0m                 \u001b[0mcreate_graph\u001b[0m\u001b[0;34m=\u001b[0m\u001b[0mcreate_graph\u001b[0m\u001b[0;34m,\u001b[0m\u001b[0;34m\u001b[0m\u001b[0;34m\u001b[0m\u001b[0m\n\u001b[1;32m    244\u001b[0m                 inputs=inputs)\n\u001b[0;32m--> 245\u001b[0;31m         \u001b[0mtorch\u001b[0m\u001b[0;34m.\u001b[0m\u001b[0mautograd\u001b[0m\u001b[0;34m.\u001b[0m\u001b[0mbackward\u001b[0m\u001b[0;34m(\u001b[0m\u001b[0mself\u001b[0m\u001b[0;34m,\u001b[0m \u001b[0mgradient\u001b[0m\u001b[0;34m,\u001b[0m \u001b[0mretain_graph\u001b[0m\u001b[0;34m,\u001b[0m \u001b[0mcreate_graph\u001b[0m\u001b[0;34m,\u001b[0m \u001b[0minputs\u001b[0m\u001b[0;34m=\u001b[0m\u001b[0minputs\u001b[0m\u001b[0;34m)\u001b[0m\u001b[0;34m\u001b[0m\u001b[0;34m\u001b[0m\u001b[0m\n\u001b[0m\u001b[1;32m    246\u001b[0m \u001b[0;34m\u001b[0m\u001b[0m\n\u001b[1;32m    247\u001b[0m     \u001b[0;32mdef\u001b[0m \u001b[0mregister_hook\u001b[0m\u001b[0;34m(\u001b[0m\u001b[0mself\u001b[0m\u001b[0;34m,\u001b[0m \u001b[0mhook\u001b[0m\u001b[0;34m)\u001b[0m\u001b[0;34m:\u001b[0m\u001b[0;34m\u001b[0m\u001b[0;34m\u001b[0m\u001b[0m\n",
      "\u001b[0;32m~/anaconda3/lib/python3.8/site-packages/torch/autograd/__init__.py\u001b[0m in \u001b[0;36mbackward\u001b[0;34m(tensors, grad_tensors, retain_graph, create_graph, grad_variables, inputs)\u001b[0m\n\u001b[1;32m    143\u001b[0m         \u001b[0mretain_graph\u001b[0m \u001b[0;34m=\u001b[0m \u001b[0mcreate_graph\u001b[0m\u001b[0;34m\u001b[0m\u001b[0;34m\u001b[0m\u001b[0m\n\u001b[1;32m    144\u001b[0m \u001b[0;34m\u001b[0m\u001b[0m\n\u001b[0;32m--> 145\u001b[0;31m     Variable._execution_engine.run_backward(\n\u001b[0m\u001b[1;32m    146\u001b[0m         \u001b[0mtensors\u001b[0m\u001b[0;34m,\u001b[0m \u001b[0mgrad_tensors_\u001b[0m\u001b[0;34m,\u001b[0m \u001b[0mretain_graph\u001b[0m\u001b[0;34m,\u001b[0m \u001b[0mcreate_graph\u001b[0m\u001b[0;34m,\u001b[0m \u001b[0minputs\u001b[0m\u001b[0;34m,\u001b[0m\u001b[0;34m\u001b[0m\u001b[0;34m\u001b[0m\u001b[0m\n\u001b[1;32m    147\u001b[0m         allow_unreachable=True, accumulate_grad=True)  # allow_unreachable flag\n",
      "\u001b[0;31mKeyboardInterrupt\u001b[0m: "
     ]
    }
   ],
   "source": [
    "score_list = []\n",
    "temp_list = np.logspace(0,-4,100)\n",
    "\n",
    "spk_kern = torch.exp(-0.05*torch.arange(100).to(device))\n",
    "\n",
    "for i in tnrange(iter_no):\n",
    "#for i in tnrange(10000):    \n",
    "    s = time.time()\n",
    "    model.train()\n",
    "    optimizer.zero_grad()\n",
    "    \n",
    "    temp = torch.tensor(temp_list[i//50])\n",
    "    \n",
    "    batch_idx = train_idx[i]\n",
    "    batch_S = S_train[batch_idx].to(device)\n",
    "    batch_V = V_train[batch_idx].to(device)\n",
    "    batch_V_lag = V_lag_train[batch_idx].to(device)\n",
    "    \n",
    "    batch_V_in = torch.zeros(batch_size, batch_length, lag+1).to(device)\n",
    "    batch_V_in[:,:,0] = batch_V\n",
    "    batch_V_in[:,:,1:] = batch_V_lag\n",
    "    \n",
    "    S_out = model(batch_V_in, temp)\n",
    "    #loss = bce_criterion(S_out, batch_S)\n",
    "    \n",
    "    S_pad_out = torch.zeros(S_out.shape[0], S_out.shape[1]+99).to(device)\n",
    "    S_pad_out[:,99:] = S_pad_out[:,99:] + S_out\n",
    "    S_conv_out = F.conv1d(S_pad_out.unsqueeze(1), spk_kern.reshape(1,1,-1)).squeeze(1)\n",
    "    \n",
    "    batch_S_pad = torch.zeros(batch_S.shape[0], batch_S.shape[1]+99).to(device)\n",
    "    batch_S_pad[:,99:] = batch_S_pad[:,99:] + batch_S\n",
    "    batch_S_conv = F.conv1d(batch_S_pad.unsqueeze(1), spk_kern.reshape(1,1,-1)).squeeze(1)\n",
    "    \n",
    "    loss = torch.mean((S_conv_out - batch_S_conv) ** 2)\n",
    "    \n",
    "    \n",
    "    loss.backward()\n",
    "    nn.utils.clip_grad_norm_(model.parameters(), 10)\n",
    "    optimizer.step()\n",
    "    \n",
    "    step_time = time.time() - s\n",
    "    \n",
    "    if (i%50 == 49) or (i == 0):\n",
    "        model.eval()\n",
    "        V_test_in = torch.zeros(batch_size, batch_length, lag+1).to(device)\n",
    "        V_test_in[:,:,0] = V_test\n",
    "        V_test_in[:,:,1:] = V_lag_test\n",
    "        \n",
    "        test_S_out = model(V_test_in, 1)\n",
    "        #test_loss = bce_criterion(test_S_out, S_test).item()\n",
    "        \n",
    "        #score_list.append(test_loss)\n",
    "        \n",
    "        test_S_pad_out = torch.zeros(test_S_out.shape[0], test_S_out.shape[1]+99).to(device)\n",
    "        test_S_pad_out[:,99:] = test_S_pad_out[:,99:] + test_S_out\n",
    "        test_S_conv_out = F.conv1d(test_S_pad_out.unsqueeze(1), spk_kern.reshape(1,1,-1)).squeeze(1)\n",
    "\n",
    "        test_S_pad = torch.zeros(S_test.shape[0], S_test.shape[1]+99).to(device)\n",
    "        test_S_pad[:,99:] = test_S_pad[:,99:] + S_test\n",
    "        test_S_conv = F.conv1d(test_S_pad.unsqueeze(1), spk_kern.reshape(1,1,-1)).squeeze(1)\n",
    "        \n",
    "        test_loss = torch.mean((test_S_conv_out - test_S_conv) ** 2)\n",
    "        \n",
    "        print(i, test_loss.item(), torch.sum(test_S_out).item())\n",
    "        \n",
    "        #tp = np.where((test_S_out.cpu().detach().numpy() == 1) & (S_test.cpu().detach().numpy() == 1))[0].size\n",
    "        #fp = np.where((test_S_out.cpu().detach().numpy() == 1) & (S_test.cpu().detach().numpy() == 0))[0].size\n",
    "        #tn = np.where((test_S_out.cpu().detach().numpy() == 0) & (S_test.cpu().detach().numpy() == 0))[0].size\n",
    "        #fn = np.where((test_S_out.cpu().detach().numpy() == 0) & (S_test.cpu().detach().numpy() == 1))[0].size\n",
    "        \n",
    "        #print(\"TP\",tp,\"FP\",fp,\"TN\",tn,\"FN\",fn)\n",
    "        #print(\"-----------------------\")"
   ]
  },
  {
   "cell_type": "code",
   "execution_count": 7,
   "id": "7ad1d474",
   "metadata": {},
   "outputs": [
    {
     "name": "stdout",
     "output_type": "stream",
     "text": [
      "tensor(0.0021, device='cuda:0')\n"
     ]
    }
   ],
   "source": [
    "print(torch.mean((test_S_conv - torch.zeros_like(S_test)) ** 2))"
   ]
  },
  {
   "cell_type": "code",
   "execution_count": null,
   "id": "f591ea9b",
   "metadata": {},
   "outputs": [],
   "source": []
  },
  {
   "cell_type": "code",
   "execution_count": 8,
   "id": "e006b31b",
   "metadata": {},
   "outputs": [
    {
     "data": {
      "text/plain": [
       "(0.0, 0.1)"
      ]
     },
     "execution_count": 8,
     "metadata": {},
     "output_type": "execute_result"
    },
    {
     "data": {
      "image/png": "[encoded data removed]",
      "text/plain": [
       "<Figure size 432x288 with 1 Axes>"
      ]
     },
     "metadata": {
      "needs_background": "light"
     },
     "output_type": "display_data"
    }
   ],
   "source": [
    "plt.plot(np.asarray(score_list)[20:])\n",
    "plt.ylim(0,0.1)"
   ]
  },
  {
   "cell_type": "code",
   "execution_count": 13,
   "id": "ad66af8b",
   "metadata": {},
   "outputs": [
    {
     "name": "stdout",
     "output_type": "stream",
     "text": [
      "tensor(1., device='cuda:0', grad_fn=<MaxBackward1>)\n"
     ]
    },
    {
     "data": {
      "image/png": "[encoded data removed]",
      "text/plain": [
       "<Figure size 1080x360 with 1 Axes>"
      ]
     },
     "metadata": {
      "needs_background": "light"
     },
     "output_type": "display_data"
    }
   ],
   "source": [
    "plt.figure(figsize = (15,5))\n",
    "plt.plot(S_test[2].cpu().detach().numpy()[23000:27000])\n",
    "plt.plot(test_S_out[2].cpu().detach().numpy()[23000:27000])\n",
    "#plt.xlim(4500,5200)\n",
    "#plt.ylim(-1,10)\n",
    "print(torch.max(test_S_out))"
   ]
  },
  {
   "cell_type": "code",
   "execution_count": null,
   "id": "3f7ea906",
   "metadata": {},
   "outputs": [],
   "source": []
  },
  {
   "cell_type": "code",
   "execution_count": 18,
   "id": "2502936b",
   "metadata": {},
   "outputs": [
    {
     "name": "stdout",
     "output_type": "stream",
     "text": [
      "0.7171717171717171 0.9861111111111112\n"
     ]
    }
   ],
   "source": [
    "prec_rec = np.empty((20,2))\n",
    "\n",
    "for i in range(20):\n",
    "    tp = np.where((test_S_out[i].cpu().detach().numpy() == 1) & (S_test[i].cpu().detach().numpy() == 1))[0].size\n",
    "    fp = np.where((test_S_out[i].cpu().detach().numpy() == 1) & (S_test[i].cpu().detach().numpy() == 0))[0].size\n",
    "    tn = np.where((test_S_out[i].cpu().detach().numpy() == 0) & (S_test[i].cpu().detach().numpy() == 0))[0].size\n",
    "    fn = np.where((test_S_out[i].cpu().detach().numpy() == 0) & (S_test[i].cpu().detach().numpy() == 1))[0].size\n",
    "    \n",
    "    prec_rec[i,0] = tp / (tp + fp)\n",
    "    prec_rec[i,1] = tp / (tp + fn)\n",
    "    \n",
    "tp = np.where((test_S_out.cpu().detach().numpy() == 1) & (S_test.cpu().detach().numpy() == 1))[0].size\n",
    "fp = np.where((test_S_out.cpu().detach().numpy() == 1) & (S_test.cpu().detach().numpy() == 0))[0].size\n",
    "tn = np.where((test_S_out.cpu().detach().numpy() == 0) & (S_test.cpu().detach().numpy() == 0))[0].size\n",
    "fn = np.where((test_S_out.cpu().detach().numpy() == 0) & (S_test.cpu().detach().numpy() == 1))[0].size\n",
    "\n",
    "prec = tp / (tp + fp)\n",
    "rec = tp / (tp + fn)\n",
    "print(rec, prec)"
   ]
  },
  {
   "cell_type": "code",
   "execution_count": null,
   "id": "f433a46a",
   "metadata": {},
   "outputs": [],
   "source": []
  },
  {
   "cell_type": "code",
   "execution_count": 9,
   "id": "780f8cd8",
   "metadata": {},
   "outputs": [],
   "source": [
    "#torch.save(model.state_dict(), \"/media/hdd01/sklee/CA1_clust4-60_AP/na_true_0.1noise1/gru_l20_h40_0.2ms.pt\")\n",
    "#np.save(\"/media/hdd01/sklee/CA1_clust4-60_AP/na_true_0.1noise1/gru_l20_h40_0.2ms_test.npy\", test_S_out.cpu().detach().numpy())"
   ]
  },
  {
   "cell_type": "code",
   "execution_count": 7,
   "id": "220095ad",
   "metadata": {},
   "outputs": [],
   "source": [
    "#np.save(\"/media/hdd01/sklee/CA1_clust4-60_AP/comb_pred/gru_determ_l20_h40_0.2ms_test.npy\", test_S_out.cpu().detach().numpy())"
   ]
  },
  {
   "cell_type": "code",
   "execution_count": null,
   "id": "d3e77eaa",
   "metadata": {},
   "outputs": [],
   "source": []
  }
 ],
 "metadata": {
  "kernelspec": {
   "display_name": "Python 3",
   "language": "python",
   "name": "python3"
  },
  "language_info": {
   "codemirror_mode": {
    "name": "ipython",
    "version": 3
   },
   "file_extension": ".py",
   "mimetype": "text/x-python",
   "name": "python",
   "nbconvert_exporter": "python",
   "pygments_lexer": "ipython3",
   "version": "3.8.8"
  }
 },
 "nbformat": 4,
 "nbformat_minor": 5
}
