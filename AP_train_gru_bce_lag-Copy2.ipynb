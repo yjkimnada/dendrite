{
 "cells": [
  {
   "cell_type": "code",
   "execution_count": 1,
   "id": "e7faa469",
   "metadata": {},
   "outputs": [],
   "source": [
    "import numpy as np\n",
    "import torch \n",
    "import torch.nn as nn\n",
    "from tqdm import tnrange\n",
    "import torch.optim as optim\n",
    "import torch.nn.functional as F\n",
    "from sklearn import metrics\n",
    "import matplotlib.pyplot as plt\n",
    "import time\n",
    "from sklearn.metrics import explained_variance_score"
   ]
  },
  {
   "cell_type": "code",
   "execution_count": 2,
   "id": "8753064b",
   "metadata": {},
   "outputs": [],
   "source": [
    "class AP_GRU_Lag(nn.Module):\n",
    "    def __init__(self, H_no, lag, device):\n",
    "        super().__init__()\n",
    "        \n",
    "        self.H_no = H_no\n",
    "        self.device = device\n",
    "        \n",
    "        self.rnn = nn.GRU(lag+1, H_no, batch_first=True)\n",
    "        self.linear = nn.Linear(H_no, 1)\n",
    "        \n",
    "    def forward(self, V):\n",
    "        #V is shape (batch, 50000, lag+1)\n",
    "\n",
    "        rnn_out, _ = self.rnn(V) #(batch,50000,H)\n",
    "        rnn_out = rnn_out.reshape(-1,self.H_no)\n",
    "        lin_out = self.linear(rnn_out) #(batch*50000,1)\n",
    "        final = torch.sigmoid(lin_out.reshape(V.shape[0], V.shape[1]))\n",
    "        \n",
    "        return final\n",
    "\n"
   ]
  },
  {
   "cell_type": "code",
   "execution_count": 3,
   "id": "6e8d732d",
   "metadata": {},
   "outputs": [
    {
     "name": "stdout",
     "output_type": "stream",
     "text": [
      "torch.Size([1000, 2000, 20])\n"
     ]
    }
   ],
   "source": [
    "batch_size = 20\n",
    "batch_length = int(50000 / 5 / 5)\n",
    "H_no = 40\n",
    "device = torch.device(\"cuda\")\n",
    "lag = 20\n",
    "\n",
    "epoch_no = 400\n",
    "iter_no = epoch_no * 980 // batch_size\n",
    "\n",
    "#V = np.load(\"/media/hdd01/sklee/CA1_clust4-60_noNA/data/vdata_T10_Ne2000_gA0.6_tauA1_gN0.8_Ni200_gG0.1_gB0.1_noDendNa_Er0.5_Ir7.4_random_NR_rep1000_stimseed1.npy\").reshape(-1,50001)[:,:50000]\n",
    "#V = np.load(\"/media/hdd01/sklee/CA1_clust4-60_AP/whole_pred/V_whole_pred_0.4ms.npy\")\n",
    "V = np.load(\"/media/hdd01/sklee/CA1_clust4-60_aSoma/nona_pred/V_nona_pred_5ms.npy\").reshape(-1,batch_length)\n",
    "S = np.load(\"/media/hdd01/sklee/CA1_clust4-60_aSoma/data/spike_train_5ms.npy\").reshape(-1,batch_length)\n",
    "\n",
    "V-= np.mean(V)\n",
    "\n",
    "V = torch.from_numpy(V)\n",
    "S = torch.from_numpy(S)\n",
    "\n",
    "V_lag = np.zeros((V.shape[0], V.shape[1], lag)) #(lag,1000,50000)\n",
    "for i in range(lag):\n",
    "    #V_pad = np.zeros_like(V)\n",
    "    #V_pad[:,i+1:] = V[:,:-i-1]\n",
    "    #V_lag[:,:,i] = V - V_pad\n",
    "    \n",
    "    V_lag[:,i+1:,i] = V[:,:-i-1]\n",
    "\n",
    "V_lag = torch.from_numpy(V_lag)\n",
    "print(V_lag.shape)"
   ]
  },
  {
   "cell_type": "code",
   "execution_count": 4,
   "id": "bfda0478",
   "metadata": {},
   "outputs": [
    {
     "name": "stdout",
     "output_type": "stream",
     "text": [
      "torch.Size([19600, 20])\n"
     ]
    }
   ],
   "source": [
    "V_train = V[:980].float()\n",
    "V_test = V[980:].float().to(device)\n",
    "S_train = S[:980].float()\n",
    "S_test = S[980:].float().to(device)\n",
    "V_lag_train = V_lag[:980].float()\n",
    "V_lag_test = V_lag[980:].float().to(device)\n",
    "\n",
    "train_idx = np.empty((epoch_no, 980))\n",
    "for i in range(epoch_no):\n",
    "    part_idx = np.arange(0,980,1)\n",
    "    np.random.shuffle(part_idx)\n",
    "    train_idx[i] = part_idx\n",
    "train_idx = train_idx.reshape(-1, batch_size)\n",
    "train_idx = torch.from_numpy(train_idx).long()\n",
    "print(train_idx.shape)"
   ]
  },
  {
   "cell_type": "code",
   "execution_count": 5,
   "id": "784b45c2",
   "metadata": {},
   "outputs": [
    {
     "name": "stdout",
     "output_type": "stream",
     "text": [
      "7601\n"
     ]
    }
   ],
   "source": [
    "model = AP_GRU_Lag(H_no, lag, device)\n",
    "optimizer = torch.optim.Adam(model.parameters(), lr = 0.0025)\n",
    "\n",
    "model.to(device).float()\n",
    "print(sum(p.numel() for p in model.parameters() if p.requires_grad))\n",
    "\n",
    "bce_criterion = nn.BCELoss(reduction=\"mean\")"
   ]
  },
  {
   "cell_type": "code",
   "execution_count": 6,
   "id": "84e29a0c",
   "metadata": {
    "scrolled": false
   },
   "outputs": [
    {
     "name": "stderr",
     "output_type": "stream",
     "text": [
      "<ipython-input-6-3f6365253ab0>:5: TqdmDeprecationWarning: Please use `tqdm.notebook.trange` instead of `tqdm.tnrange`\n",
      "  for i in tnrange(10000):\n"
     ]
    },
    {
     "data": {
      "application/vnd.jupyter.widget-view+json": {
       "model_id": "eb17b290a6954716a022b3f0f4b2abb2",
       "version_major": 2,
       "version_minor": 0
      },
      "text/plain": [
       "  0%|          | 0/10000 [00:00<?, ?it/s]"
      ]
     },
     "metadata": {},
     "output_type": "display_data"
    },
    {
     "name": "stdout",
     "output_type": "stream",
     "text": [
      "0 0.7204750776290894\n",
      "49 0.02295076474547386\n",
      "99 0.016871253028512\n",
      "149 0.01473821047693491\n",
      "199 0.013581685721874237\n",
      "249 0.012740148231387138\n",
      "299 0.012132219970226288\n",
      "349 0.011720147915184498\n",
      "399 0.011453132145106792\n",
      "449 0.011194508522748947\n",
      "499 0.01101742498576641\n",
      "549 0.010875263251364231\n",
      "599 0.01071480568498373\n",
      "649 0.010614383965730667\n",
      "699 0.010513213463127613\n",
      "749 0.010384390130639076\n",
      "799 0.010261700488626957\n",
      "849 0.010189534164965153\n",
      "899 0.010116479359567165\n",
      "949 0.010133666917681694\n",
      "999 0.009989170357584953\n",
      "1049 0.009918879717588425\n",
      "1099 0.009890696965157986\n",
      "1149 0.009866108186542988\n",
      "1199 0.009744501672685146\n",
      "1249 0.009726282209157944\n",
      "1299 0.00952076818794012\n",
      "1349 0.00927195604890585\n",
      "1399 0.009031824767589569\n",
      "1449 0.008814069442451\n",
      "1499 0.008570315316319466\n",
      "1549 0.008502816781401634\n",
      "1599 0.008188137784600258\n",
      "1649 0.008209312334656715\n",
      "1699 0.007960274815559387\n",
      "1749 0.007758860010653734\n",
      "1799 0.007590561639517546\n",
      "1849 0.007679958827793598\n",
      "1899 0.007302298676222563\n",
      "1949 0.007384502794593573\n",
      "1999 0.007210420910269022\n",
      "2049 0.006993572693318129\n",
      "2099 0.007066091522574425\n",
      "2149 0.007032464258372784\n",
      "2199 0.007029999978840351\n",
      "2249 0.006740263197571039\n",
      "2299 0.0068418364971876144\n",
      "2349 0.0068894377909600735\n",
      "2399 0.007363604381680489\n",
      "2449 0.006833813153207302\n",
      "2499 0.006866194773465395\n",
      "2549 0.006860142573714256\n",
      "2599 0.007637954317033291\n",
      "2649 0.007038555573672056\n",
      "2699 0.0066634598188102245\n",
      "2749 0.006564106792211533\n",
      "2799 0.006752874702215195\n",
      "2849 0.006517421454191208\n",
      "2899 0.006679563783109188\n",
      "2949 0.006381155923008919\n",
      "2999 0.006371437106281519\n",
      "3049 0.006288137752562761\n",
      "3099 0.006495106499642134\n",
      "3149 0.006572645623236895\n",
      "3199 0.006471717730164528\n",
      "3249 0.006616942584514618\n",
      "3299 0.006411594804376364\n",
      "3349 0.006409425288438797\n",
      "3399 0.006676774471998215\n",
      "3449 0.006282051093876362\n",
      "3499 0.006534317042678595\n",
      "3549 0.006604824680835009\n",
      "3599 0.006574644241482019\n",
      "3649 0.006450569722801447\n",
      "3699 0.006443667225539684\n",
      "3749 0.006653661839663982\n",
      "3799 0.0064642117358744144\n",
      "3849 0.00646473141387105\n",
      "3899 0.006309085991233587\n",
      "3949 0.006194481160491705\n",
      "3999 0.006718771066516638\n",
      "4049 0.0062833563424646854\n",
      "4099 0.0061698658391833305\n",
      "4149 0.0061323209665715694\n",
      "4199 0.0062611885368824005\n",
      "4249 0.006383497733622789\n",
      "4299 0.006171040236949921\n",
      "4349 0.006205390673130751\n",
      "4399 0.006350439507514238\n",
      "4449 0.006283102091401815\n",
      "4499 0.006589752156287432\n",
      "4549 0.006526242010295391\n",
      "4599 0.0062856716103851795\n",
      "4649 0.006605987437069416\n",
      "4699 0.005949094891548157\n",
      "4749 0.00595687935128808\n",
      "4799 0.006740259472280741\n",
      "4849 0.006377495359629393\n",
      "4899 0.006588432937860489\n",
      "4949 0.006314700935035944\n",
      "4999 0.006342356093227863\n",
      "5049 0.005999682936817408\n",
      "5099 0.006256298162043095\n",
      "5149 0.006105315871536732\n",
      "5199 0.0063064731657505035\n",
      "5249 0.0063873655162751675\n",
      "5299 0.006101585924625397\n",
      "5349 0.006242808885872364\n",
      "5399 0.006208468694239855\n",
      "5449 0.005984154995530844\n",
      "5499 0.006283982191234827\n",
      "5549 0.006243543699383736\n",
      "5599 0.0068962606601417065\n",
      "5649 0.006272864528000355\n",
      "5699 0.006190610583871603\n",
      "5749 0.006388789974153042\n",
      "5799 0.006187974940985441\n",
      "5849 0.006366355810314417\n",
      "5899 0.006381150800734758\n",
      "5949 0.006226907018572092\n",
      "5999 0.006382383406162262\n",
      "6049 0.006220282521098852\n",
      "6099 0.0059762978926301\n",
      "6149 0.006373399868607521\n",
      "6199 0.0061929658986628056\n",
      "6249 0.006093871779739857\n",
      "6299 0.006131449248641729\n",
      "6349 0.00638952013105154\n",
      "6399 0.006416125223040581\n",
      "6449 0.0059842802584171295\n",
      "6499 0.006016967818140984\n",
      "6549 0.006245580036193132\n",
      "6599 0.00620748708024621\n",
      "6649 0.006145783234387636\n",
      "6699 0.006323455832898617\n",
      "6749 0.00630910461768508\n",
      "6799 0.0060989572666585445\n",
      "6849 0.006201605778187513\n",
      "6899 0.0061418525874614716\n",
      "6949 0.006047090515494347\n",
      "6999 0.006311908829957247\n",
      "7049 0.00607871962711215\n",
      "7099 0.0062965285032987595\n",
      "7149 0.006361192092299461\n",
      "7199 0.005990636069327593\n",
      "7249 0.006270687561482191\n",
      "7299 0.006387890316545963\n",
      "7349 0.00620414549484849\n",
      "7399 0.006057082675397396\n",
      "7449 0.006283248774707317\n",
      "7499 0.006062368396669626\n",
      "7549 0.006268975790590048\n",
      "7599 0.006246786564588547\n",
      "7649 0.006427654065191746\n",
      "7699 0.006254236213862896\n",
      "7749 0.006062876898795366\n",
      "7799 0.006111052352935076\n",
      "7849 0.006971638184040785\n",
      "7899 0.0066425078548491\n",
      "7949 0.0062851994298398495\n",
      "7999 0.006217294372618198\n",
      "8049 0.0066389767453074455\n",
      "8099 0.006458016578108072\n",
      "8149 0.00630552601069212\n",
      "8199 0.006295421160757542\n",
      "8249 0.006544251926243305\n",
      "8299 0.006559661123901606\n",
      "8349 0.006475611589848995\n",
      "8399 0.0065009137615561485\n",
      "8449 0.006285536102950573\n",
      "8499 0.006455954629927874\n",
      "8549 0.006422501057386398\n",
      "8599 0.006260478403419256\n",
      "8649 0.006333205848932266\n",
      "8699 0.006486603990197182\n",
      "8749 0.006353706121444702\n",
      "8799 0.006235850974917412\n",
      "8849 0.006274905987083912\n",
      "8899 0.006403961218893528\n",
      "8949 0.006395915988832712\n",
      "8999 0.006282908376306295\n",
      "9049 0.0062578232027590275\n",
      "9099 0.006212703417986631\n",
      "9149 0.0068260785192251205\n",
      "9199 0.006330795586109161\n",
      "9249 0.0062264553271234035\n",
      "9299 0.0062390463426709175\n",
      "9349 0.0061431401409208775\n",
      "9399 0.0062529840506613255\n",
      "9449 0.0064103673212230206\n",
      "9499 0.006189148407429457\n",
      "9549 0.006148301064968109\n",
      "9599 0.005909002386033535\n",
      "9649 0.006174106616526842\n",
      "9699 0.006405065767467022\n",
      "9749 0.006455512251704931\n",
      "9799 0.006359146907925606\n",
      "9849 0.006272372789680958\n",
      "9899 0.006283178459852934\n",
      "9949 0.006210928317159414\n",
      "9999 0.006496697664260864\n"
     ]
    }
   ],
   "source": [
    "score_list = []\n",
    "\n",
    "\n",
    "#for i in tnrange(iter_no):\n",
    "for i in tnrange(10000):  \n",
    "    s = time.time()\n",
    "    model.train()\n",
    "    optimizer.zero_grad()\n",
    "    \n",
    "    batch_idx = train_idx[i]\n",
    "    batch_S = S_train[batch_idx].to(device)\n",
    "    batch_V = V_train[batch_idx].to(device)\n",
    "    batch_V_lag = V_lag_train[batch_idx].to(device)\n",
    "    \n",
    "    batch_V_in = torch.zeros(batch_size, batch_length, lag+1).to(device)\n",
    "    batch_V_in[:,:,0] = batch_V\n",
    "    batch_V_in[:,:,1:] = batch_V_lag\n",
    "    \n",
    "    S_out = model(batch_V_in)\n",
    "    loss = bce_criterion(S_out, batch_S)\n",
    "    \n",
    "    loss.backward()\n",
    "    nn.utils.clip_grad_norm_(model.parameters(), 10)\n",
    "    optimizer.step()\n",
    "    \n",
    "    step_time = time.time() - s\n",
    "    \n",
    "    if (i%50 == 49) or (i == 0):\n",
    "        model.eval()\n",
    "        V_test_in = torch.zeros(batch_size, batch_length, lag+1).to(device)\n",
    "        V_test_in[:,:,0] = V_test\n",
    "        V_test_in[:,:,1:] = V_lag_test\n",
    "        test_S_out = model(V_test_in)\n",
    "        test_loss = bce_criterion(test_S_out, S_test).item()\n",
    "        \n",
    "        score_list.append(test_loss)\n",
    "        print(i, test_loss)"
   ]
  },
  {
   "cell_type": "code",
   "execution_count": null,
   "id": "f591ea9b",
   "metadata": {},
   "outputs": [],
   "source": []
  },
  {
   "cell_type": "code",
   "execution_count": 7,
   "id": "e006b31b",
   "metadata": {},
   "outputs": [
    {
     "data": {
      "text/plain": [
       "[<matplotlib.lines.Line2D at 0x7fb89c3d26d0>]"
      ]
     },
     "execution_count": 7,
     "metadata": {},
     "output_type": "execute_result"
    },
    {
     "data": {
      "image/png": "[encoded data removed]",
      "text/plain": [
       "<Figure size 432x288 with 1 Axes>"
      ]
     },
     "metadata": {
      "needs_background": "light"
     },
     "output_type": "display_data"
    }
   ],
   "source": [
    "plt.plot(np.asarray(score_list)[20:])"
   ]
  },
  {
   "cell_type": "code",
   "execution_count": 8,
   "id": "ad66af8b",
   "metadata": {},
   "outputs": [
    {
     "name": "stdout",
     "output_type": "stream",
     "text": [
      "tensor(0.9962, device='cuda:0', grad_fn=<MaxBackward1>)\n"
     ]
    },
    {
     "data": {
      "image/png": "[encoded data removed]",
      "text/plain": [
       "<Figure size 1080x360 with 1 Axes>"
      ]
     },
     "metadata": {
      "needs_background": "light"
     },
     "output_type": "display_data"
    }
   ],
   "source": [
    "plt.figure(figsize = (15,5))\n",
    "plt.plot(S_test[0].cpu().detach().numpy())\n",
    "plt.plot(test_S_out[1].cpu().detach().numpy())\n",
    "#plt.xlim(4500,5200)\n",
    "#plt.ylim(-1,10)\n",
    "print(torch.max(test_S_out))"
   ]
  },
  {
   "cell_type": "code",
   "execution_count": 9,
   "id": "780f8cd8",
   "metadata": {},
   "outputs": [],
   "source": [
    "#torch.save(model.state_dict(), \"/media/hdd01/sklee/CA1_clust4-60_aSoma/nona_pred/gru_l20_h40_5ms.pt\")\n",
    "#np.save(\"/media/hdd01/sklee/CA1_clust4-60_aSoma/nona_pred/gru_l20_h40_5ms_test.npy\", test_S_out.cpu().detach().numpy())"
   ]
  },
  {
   "cell_type": "code",
   "execution_count": null,
   "id": "220095ad",
   "metadata": {},
   "outputs": [],
   "source": []
  }
 ],
 "metadata": {
  "kernelspec": {
   "display_name": "Python 3",
   "language": "python",
   "name": "python3"
  },
  "language_info": {
   "codemirror_mode": {
    "name": "ipython",
    "version": 3
   },
   "file_extension": ".py",
   "mimetype": "text/x-python",
   "name": "python",
   "nbconvert_exporter": "python",
   "pygments_lexer": "ipython3",
   "version": "3.8.8"
  }
 },
 "nbformat": 4,
 "nbformat_minor": 5
}
