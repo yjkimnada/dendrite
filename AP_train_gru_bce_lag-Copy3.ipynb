{
 "cells": [
  {
   "cell_type": "code",
   "execution_count": 1,
   "id": "e7faa469",
   "metadata": {},
   "outputs": [],
   "source": [
    "import numpy as np\n",
    "import torch \n",
    "import torch.nn as nn\n",
    "from tqdm import tnrange\n",
    "import torch.optim as optim\n",
    "import torch.nn.functional as F\n",
    "from sklearn import metrics\n",
    "import matplotlib.pyplot as plt\n",
    "import time\n",
    "from sklearn.metrics import explained_variance_score"
   ]
  },
  {
   "cell_type": "code",
   "execution_count": 2,
   "id": "8753064b",
   "metadata": {},
   "outputs": [],
   "source": [
    "class AP_GRU_Lag(nn.Module):\n",
    "    def __init__(self, H_no, lag, device):\n",
    "        super().__init__()\n",
    "        \n",
    "        self.H_no = H_no\n",
    "        self.device = device\n",
    "        \n",
    "        self.rnn = nn.GRU(lag+1, H_no, batch_first=True)\n",
    "        self.linear = nn.Linear(H_no, 1)\n",
    "        \n",
    "    def forward(self, V):\n",
    "        #V is shape (batch, 50000, lag+1)\n",
    "\n",
    "        rnn_out, _ = self.rnn(V) #(batch,50000,H)\n",
    "        rnn_out = rnn_out.reshape(-1,self.H_no)\n",
    "        lin_out = self.linear(rnn_out) #(batch*50000,1)\n",
    "        final = torch.sigmoid(lin_out.reshape(V.shape[0], V.shape[1]))\n",
    "        \n",
    "        return final\n",
    "\n"
   ]
  },
  {
   "cell_type": "code",
   "execution_count": 3,
   "id": "6e8d732d",
   "metadata": {},
   "outputs": [
    {
     "name": "stdout",
     "output_type": "stream",
     "text": [
      "torch.Size([1000, 250, 20])\n"
     ]
    }
   ],
   "source": [
    "batch_size = 20\n",
    "batch_length = 250\n",
    "H_no = 40\n",
    "device = torch.device(\"cuda\")\n",
    "lag = 20\n",
    "\n",
    "epoch_no = 400\n",
    "iter_no = epoch_no * 980 // batch_size\n",
    "\n",
    "#V = np.load(\"/media/hdd01/sklee/CA1_clust4-60_noNA/data/vdata_T10_Ne2000_gA0.6_tauA1_gN0.8_Ni200_gG0.1_gB0.1_noDendNa_Er0.5_Ir7.4_random_NR_rep1000_stimseed1.npy\").reshape(-1,50001)[:,:50000]\n",
    "V = np.load(\"/media/hdd01/sklee/CA1_clust4-60_aSoma/comb_pred/V_comb_pred_40ms.npy\")\n",
    "#V = np.load(\"/media/hdd01/sklee/CA1_clust4-60_AP/na_true/V_na_true_0.4ms.npy\").reshape(-1,batch_length)\n",
    "S = np.load(\"/media/hdd01/sklee/CA1_clust4-60_aSoma/data/spike_train_40ms.npy\").reshape(-1,batch_length)\n",
    "\n",
    "V-= np.mean(V)\n",
    "\n",
    "V = torch.from_numpy(V)\n",
    "S = torch.from_numpy(S)\n",
    "\n",
    "V_lag = np.zeros((V.shape[0], V.shape[1], lag)) #(lag,1000,50000)\n",
    "for i in range(lag):\n",
    "    #V_pad = np.zeros_like(V)\n",
    "    #V_pad[:,i+1:] = V[:,:-i-1]\n",
    "    #V_lag[:,:,i] = V - V_pad\n",
    "    \n",
    "    V_lag[:,i+1:,i] = V[:,:-i-1]\n",
    "\n",
    "V_lag = torch.from_numpy(V_lag)\n",
    "print(V_lag.shape)"
   ]
  },
  {
   "cell_type": "code",
   "execution_count": 4,
   "id": "bfda0478",
   "metadata": {},
   "outputs": [
    {
     "name": "stdout",
     "output_type": "stream",
     "text": [
      "torch.Size([19600, 20])\n"
     ]
    }
   ],
   "source": [
    "V_train = V[:980].float()\n",
    "V_test = V[980:].float().to(device)\n",
    "S_train = S[:980].float()\n",
    "S_test = S[980:].float().to(device)\n",
    "V_lag_train = V_lag[:980].float()\n",
    "V_lag_test = V_lag[980:].float().to(device)\n",
    "\n",
    "train_idx = np.empty((epoch_no, 980))\n",
    "for i in range(epoch_no):\n",
    "    part_idx = np.arange(0,980,1)\n",
    "    np.random.shuffle(part_idx)\n",
    "    train_idx[i] = part_idx\n",
    "train_idx = train_idx.reshape(-1, batch_size)\n",
    "train_idx = torch.from_numpy(train_idx).long()\n",
    "print(train_idx.shape)"
   ]
  },
  {
   "cell_type": "code",
   "execution_count": 5,
   "id": "784b45c2",
   "metadata": {},
   "outputs": [
    {
     "name": "stdout",
     "output_type": "stream",
     "text": [
      "7601\n"
     ]
    }
   ],
   "source": [
    "model = AP_GRU_Lag(H_no, lag, device)\n",
    "optimizer = torch.optim.Adam(model.parameters(), lr = 0.0025)\n",
    "\n",
    "model.to(device).float()\n",
    "print(sum(p.numel() for p in model.parameters() if p.requires_grad))\n",
    "\n",
    "bce_criterion = nn.BCELoss(reduction=\"mean\")"
   ]
  },
  {
   "cell_type": "code",
   "execution_count": 6,
   "id": "84e29a0c",
   "metadata": {
    "scrolled": false
   },
   "outputs": [
    {
     "name": "stderr",
     "output_type": "stream",
     "text": [
      "<ipython-input-6-0033da776966>:5: TqdmDeprecationWarning: Please use `tqdm.notebook.trange` instead of `tqdm.tnrange`\n",
      "  for i in tnrange(10000):\n"
     ]
    },
    {
     "data": {
      "application/vnd.jupyter.widget-view+json": {
       "model_id": "e8f7a55fd1b241c3bd268a2a8a8bf773",
       "version_major": 2,
       "version_minor": 0
      },
      "text/plain": [
       "  0%|          | 0/10000 [00:00<?, ?it/s]"
      ]
     },
     "metadata": {},
     "output_type": "display_data"
    },
    {
     "name": "stdout",
     "output_type": "stream",
     "text": [
      "0 0.6570560336112976\n",
      "49 0.046782881021499634\n",
      "99 0.0299979355186224\n",
      "149 0.025395242497324944\n",
      "199 0.021718304604291916\n",
      "249 0.01970670185983181\n",
      "299 0.019001811742782593\n",
      "349 0.01853007636964321\n",
      "399 0.016392569988965988\n",
      "449 0.01629837416112423\n",
      "499 0.015286063775420189\n",
      "549 0.016266504302620888\n",
      "599 0.01524991076439619\n",
      "649 0.014420205727219582\n",
      "699 0.014055868610739708\n",
      "749 0.013844158500432968\n",
      "799 0.01286690030246973\n",
      "849 0.01397336833178997\n",
      "899 0.01254592277109623\n",
      "949 0.011987783946096897\n",
      "999 0.012092331424355507\n",
      "1049 0.012428642250597477\n",
      "1099 0.012783457525074482\n",
      "1149 0.012286707758903503\n",
      "1199 0.012706431560218334\n",
      "1249 0.011892322450876236\n",
      "1299 0.01143663004040718\n",
      "1349 0.012633358128368855\n",
      "1399 0.011635939590632915\n",
      "1449 0.012280597351491451\n",
      "1499 0.012143667787313461\n",
      "1549 0.011298072524368763\n",
      "1599 0.011350075714290142\n",
      "1649 0.011478578671813011\n",
      "1699 0.012491906061768532\n",
      "1749 0.011348969303071499\n",
      "1799 0.011096169240772724\n",
      "1849 0.01110286545008421\n",
      "1899 0.01270805299282074\n",
      "1949 0.010821102187037468\n",
      "1999 0.011851148679852486\n",
      "2049 0.011135654523968697\n",
      "2099 0.01202379073947668\n",
      "2149 0.01081977691501379\n",
      "2199 0.010363689623773098\n",
      "2249 0.010728356428444386\n",
      "2299 0.011870342306792736\n",
      "2349 0.011411834508180618\n",
      "2399 0.011242272332310677\n",
      "2449 0.01110941730439663\n",
      "2499 0.010741219855844975\n",
      "2549 0.011342129670083523\n",
      "2599 0.011901873163878918\n",
      "2649 0.010759185068309307\n",
      "2699 0.010413579642772675\n",
      "2749 0.010830587707459927\n",
      "2799 0.01080714538693428\n",
      "2849 0.010742663405835629\n",
      "2899 0.01042819395661354\n",
      "2949 0.011961241252720356\n",
      "2999 0.010660607367753983\n",
      "3049 0.011336680501699448\n",
      "3099 0.011012107133865356\n",
      "3149 0.012516499496996403\n",
      "3199 0.011561197228729725\n",
      "3249 0.011167039163410664\n",
      "3299 0.011475750245153904\n",
      "3349 0.011007914319634438\n",
      "3399 0.010783097706735134\n",
      "3449 0.011212451383471489\n",
      "3499 0.011365408077836037\n",
      "3549 0.011741376481950283\n",
      "3599 0.010828498750925064\n",
      "3649 0.011157839559018612\n",
      "3699 0.011927030980587006\n",
      "3749 0.013347686268389225\n",
      "3799 0.012563393451273441\n",
      "3849 0.011467458680272102\n",
      "3899 0.011482167057693005\n",
      "3949 0.010878230445086956\n",
      "3999 0.010997430421411991\n",
      "4049 0.012230058200657368\n",
      "4099 0.01210718508809805\n",
      "4149 0.012070737779140472\n",
      "4199 0.01079461257904768\n",
      "4249 0.011365540325641632\n",
      "4299 0.011238541454076767\n",
      "4349 0.013053679838776588\n",
      "4399 0.011248324066400528\n",
      "4449 0.012769868597388268\n",
      "4499 0.01231183297932148\n",
      "4549 0.011779342778027058\n",
      "4599 0.010831563733518124\n"
     ]
    },
    {
     "ename": "KeyboardInterrupt",
     "evalue": "",
     "output_type": "error",
     "traceback": [
      "\u001b[0;31m---------------------------------------------------------------------------\u001b[0m",
      "\u001b[0;31mKeyboardInterrupt\u001b[0m                         Traceback (most recent call last)",
      "\u001b[0;32m<ipython-input-6-0033da776966>\u001b[0m in \u001b[0;36m<module>\u001b[0;34m\u001b[0m\n\u001b[1;32m     17\u001b[0m     \u001b[0mbatch_V_in\u001b[0m\u001b[0;34m[\u001b[0m\u001b[0;34m:\u001b[0m\u001b[0;34m,\u001b[0m\u001b[0;34m:\u001b[0m\u001b[0;34m,\u001b[0m\u001b[0;36m1\u001b[0m\u001b[0;34m:\u001b[0m\u001b[0;34m]\u001b[0m \u001b[0;34m=\u001b[0m \u001b[0mbatch_V_lag\u001b[0m\u001b[0;34m\u001b[0m\u001b[0;34m\u001b[0m\u001b[0m\n\u001b[1;32m     18\u001b[0m \u001b[0;34m\u001b[0m\u001b[0m\n\u001b[0;32m---> 19\u001b[0;31m     \u001b[0mS_out\u001b[0m \u001b[0;34m=\u001b[0m \u001b[0mmodel\u001b[0m\u001b[0;34m(\u001b[0m\u001b[0mbatch_V_in\u001b[0m\u001b[0;34m)\u001b[0m\u001b[0;34m\u001b[0m\u001b[0;34m\u001b[0m\u001b[0m\n\u001b[0m\u001b[1;32m     20\u001b[0m     \u001b[0mloss\u001b[0m \u001b[0;34m=\u001b[0m \u001b[0mbce_criterion\u001b[0m\u001b[0;34m(\u001b[0m\u001b[0mS_out\u001b[0m\u001b[0;34m,\u001b[0m \u001b[0mbatch_S\u001b[0m\u001b[0;34m)\u001b[0m\u001b[0;34m\u001b[0m\u001b[0;34m\u001b[0m\u001b[0m\n\u001b[1;32m     21\u001b[0m \u001b[0;34m\u001b[0m\u001b[0m\n",
      "\u001b[0;32m~/anaconda3/lib/python3.8/site-packages/torch/nn/modules/module.py\u001b[0m in \u001b[0;36m_call_impl\u001b[0;34m(self, *input, **kwargs)\u001b[0m\n\u001b[1;32m    871\u001b[0m \u001b[0;34m\u001b[0m\u001b[0m\n\u001b[1;32m    872\u001b[0m         for hook in itertools.chain(\n\u001b[0;32m--> 873\u001b[0;31m                 \u001b[0m_global_forward_pre_hooks\u001b[0m\u001b[0;34m.\u001b[0m\u001b[0mvalues\u001b[0m\u001b[0;34m(\u001b[0m\u001b[0;34m)\u001b[0m\u001b[0;34m,\u001b[0m\u001b[0;34m\u001b[0m\u001b[0;34m\u001b[0m\u001b[0m\n\u001b[0m\u001b[1;32m    874\u001b[0m                 self._forward_pre_hooks.values()):\n\u001b[1;32m    875\u001b[0m             \u001b[0mresult\u001b[0m \u001b[0;34m=\u001b[0m \u001b[0mhook\u001b[0m\u001b[0;34m(\u001b[0m\u001b[0mself\u001b[0m\u001b[0;34m,\u001b[0m \u001b[0minput\u001b[0m\u001b[0;34m)\u001b[0m\u001b[0;34m\u001b[0m\u001b[0;34m\u001b[0m\u001b[0m\n",
      "\u001b[0;31mKeyboardInterrupt\u001b[0m: "
     ]
    }
   ],
   "source": [
    "score_list = []\n",
    "\n",
    "\n",
    "#for i in tnrange(iter_no):\n",
    "for i in tnrange(10000):\n",
    "    s = time.time()\n",
    "    model.train()\n",
    "    optimizer.zero_grad()\n",
    "    \n",
    "    batch_idx = train_idx[i]\n",
    "    batch_S = S_train[batch_idx].to(device)\n",
    "    batch_V = V_train[batch_idx].to(device)\n",
    "    batch_V_lag = V_lag_train[batch_idx].to(device)\n",
    "    \n",
    "    batch_V_in = torch.zeros(batch_size, batch_length, lag+1).to(device)\n",
    "    batch_V_in[:,:,0] = batch_V\n",
    "    batch_V_in[:,:,1:] = batch_V_lag\n",
    "    \n",
    "    S_out = model(batch_V_in)\n",
    "    loss = bce_criterion(S_out, batch_S)\n",
    "    \n",
    "    loss.backward()\n",
    "    nn.utils.clip_grad_norm_(model.parameters(), 10)\n",
    "    optimizer.step()\n",
    "    \n",
    "    step_time = time.time() - s\n",
    "    \n",
    "    if (i%50 == 49) or (i == 0):\n",
    "        model.eval()\n",
    "        V_test_in = torch.zeros(batch_size, batch_length, lag+1).to(device)\n",
    "        V_test_in[:,:,0] = V_test\n",
    "        V_test_in[:,:,1:] = V_lag_test\n",
    "        \n",
    "        test_S_out = model(V_test_in)\n",
    "        test_loss = bce_criterion(test_S_out, S_test).item()\n",
    "        \n",
    "        score_list.append(test_loss)\n",
    "        print(i, test_loss)"
   ]
  },
  {
   "cell_type": "code",
   "execution_count": null,
   "id": "f591ea9b",
   "metadata": {},
   "outputs": [],
   "source": []
  },
  {
   "cell_type": "code",
   "execution_count": 7,
   "id": "e006b31b",
   "metadata": {},
   "outputs": [
    {
     "data": {
      "text/plain": [
       "[<matplotlib.lines.Line2D at 0x7f1bb4046250>]"
      ]
     },
     "execution_count": 7,
     "metadata": {},
     "output_type": "execute_result"
    },
    {
     "data": {
      "image/png": "[encoded data removed]",
      "text/plain": [
       "<Figure size 432x288 with 1 Axes>"
      ]
     },
     "metadata": {
      "needs_background": "light"
     },
     "output_type": "display_data"
    }
   ],
   "source": [
    "plt.plot(np.asarray(score_list)[20:])"
   ]
  },
  {
   "cell_type": "code",
   "execution_count": 8,
   "id": "ad66af8b",
   "metadata": {},
   "outputs": [
    {
     "name": "stdout",
     "output_type": "stream",
     "text": [
      "tensor(0.9942, device='cuda:0', grad_fn=<MaxBackward1>)\n"
     ]
    },
    {
     "data": {
      "image/png": "[encoded data removed]",
      "text/plain": [
       "<Figure size 1080x360 with 1 Axes>"
      ]
     },
     "metadata": {
      "needs_background": "light"
     },
     "output_type": "display_data"
    }
   ],
   "source": [
    "plt.figure(figsize = (15,5))\n",
    "plt.plot(S_test[0].cpu().detach().numpy())\n",
    "plt.plot(test_S_out[1].cpu().detach().numpy())\n",
    "#plt.xlim(4500,5200)\n",
    "#plt.ylim(-1,10)\n",
    "print(torch.max(test_S_out))"
   ]
  },
  {
   "cell_type": "code",
   "execution_count": 7,
   "id": "780f8cd8",
   "metadata": {},
   "outputs": [],
   "source": [
    "#torch.save(model.state_dict(), \"/media/hdd01/sklee/CA1_clust4-60_aSoma/comb_pred/gru_l20_h40_40ms.pt\")\n",
    "#np.save(\"/media/hdd01/sklee/CA1_clust4-60_aSoma/comb_pred/gru_l20_h40_40ms_test.npy\", test_S_out.cpu().detach().numpy())"
   ]
  },
  {
   "cell_type": "code",
   "execution_count": null,
   "id": "220095ad",
   "metadata": {},
   "outputs": [],
   "source": []
  }
 ],
 "metadata": {
  "kernelspec": {
   "display_name": "Python 3",
   "language": "python",
   "name": "python3"
  },
  "language_info": {
   "codemirror_mode": {
    "name": "ipython",
    "version": 3
   },
   "file_extension": ".py",
   "mimetype": "text/x-python",
   "name": "python",
   "nbconvert_exporter": "python",
   "pygments_lexer": "ipython3",
   "version": "3.8.8"
  }
 },
 "nbformat": 4,
 "nbformat_minor": 5
}
