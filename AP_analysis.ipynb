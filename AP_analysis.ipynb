{
 "cells": [
  {
   "cell_type": "code",
   "execution_count": 6,
   "id": "e1a5b53a",
   "metadata": {},
   "outputs": [],
   "source": [
    "import numpy as np\n",
    "import matplotlib.pyplot as plt\n",
    "from tqdm import tnrange\n",
    "from sklearn import metrics\n",
    "from sklearn.metrics import precision_recall_curve\n",
    "from sklearn.metrics import average_precision_score\n",
    "import scipy"
   ]
  },
  {
   "cell_type": "code",
   "execution_count": null,
   "id": "b445e058",
   "metadata": {},
   "outputs": [],
   "source": []
  },
  {
   "cell_type": "code",
   "execution_count": 7,
   "id": "85c35e0d",
   "metadata": {},
   "outputs": [],
   "source": [
    "V_na_true = np.load(\"/media/hdd01/sklee/CA1_clust4-60_AP/na_true/gru_l20_h40_0.2ms_test_V.npy\")\n",
    "V_nona_true = np.load(\"/media/hdd01/sklee/CA1_clust4-60_AP/nona_true/gru_l20_h40_0.2ms_test_V.npy\")\n",
    "V_comb_pred = np.load(\"/media/hdd01/sklee/CA1_clust4-60_AP/comb_pred/gru_l20_h40_0.2ms_test_V.npy\")\n",
    "V_whole_pred = np.load(\"/media/hdd01/sklee/CA1_clust4-60_AP/whole_pred/gru_l20_h40_0.2ms_test_V.npy\")\n",
    "V_ap_true = np.load(\"/media/hdd01/sklee/CA1_clust4-60_AP/ap_true/gru_l20_h40_0.2ms_test_V.npy\")\n",
    "\n",
    "spk = np.load(\"/media/hdd01/sklee/CA1_clust4-60_AP/data/spike_train_0.2ms.npy\")[980*50000:].flatten()\n",
    "\n",
    "V_na_true_next = np.zeros((20,50000))\n",
    "V_nona_true_next = np.zeros((20,50000))\n",
    "V_comb_pred_next = np.zeros((20,50000))\n",
    "V_whole_pred_next = np.zeros((20,50000))\n",
    "V_ap_true_next = np.zeros((20,50000))\n",
    "\n",
    "V_na_true_next[:,:-1] = V_na_true[:,1:]\n",
    "V_nona_true_next[:,:-1] = V_nona_true[:,1:]\n",
    "V_comb_pred_next[:,:-1] = V_comb_pred[:,1:]\n",
    "V_whole_pred_next[:,:-1] = V_whole_pred[:,1:]\n",
    "V_ap_true_next[:,:-1] = V_ap_true[:,1:]"
   ]
  },
  {
   "cell_type": "code",
   "execution_count": 8,
   "id": "df135071",
   "metadata": {},
   "outputs": [
    {
     "name": "stderr",
     "output_type": "stream",
     "text": [
      "<ipython-input-8-8b3666104174>:9: TqdmDeprecationWarning: Please use `tqdm.notebook.trange` instead of `tqdm.tnrange`\n",
      "  for n in tnrange(5):\n"
     ]
    },
    {
     "data": {
      "application/vnd.jupyter.widget-view+json": {
       "model_id": "8e019339e2e74972aad280bdd12546d9",
       "version_major": 2,
       "version_minor": 0
      },
      "text/plain": [
       "  0%|          | 0/5 [00:00<?, ?it/s]"
      ]
     },
     "metadata": {},
     "output_type": "display_data"
    }
   ],
   "source": [
    "thresh_list = np.arange(10,20)\n",
    "bin_size = 4 * 5\n",
    "na_true_pr = np.empty((thresh_list.shape[0], 2))\n",
    "nona_true_pr = np.empty((thresh_list.shape[0], 2))\n",
    "comb_pred_pr = np.empty((thresh_list.shape[0], 2))\n",
    "whole_pred_pr = np.empty((thresh_list.shape[0], 2))\n",
    "ap_true_pr = np.empty((thresh_list.shape[0], 2))\n",
    "\n",
    "for n in tnrange(5):\n",
    "    if n == 0:\n",
    "        V = V_na_true\n",
    "        V_next = V_na_true_next\n",
    "    elif n == 1:\n",
    "        V = V_nona_true\n",
    "        V_next = V_nona_true_next\n",
    "    elif n == 2:\n",
    "        V = V_comb_pred\n",
    "        V_next = V_comb_pred_next\n",
    "    elif n == 3:\n",
    "        V = V_whole_pred\n",
    "        V_next = V_whole_pred_next\n",
    "    elif n == 4:\n",
    "        V = V_ap_true\n",
    "        V_next = V_ap_true_next\n",
    "        \n",
    "    for i in range(thresh_list.shape[0]):\n",
    "        thresh = thresh_list[i]\n",
    "        S = np.zeros((20,50000))\n",
    "        \n",
    "        for j in range(20):\n",
    "            idx = np.where((V[j] < thresh) & (V_next[j] >= thresh))[0]\n",
    "            S[j,idx] = 1\n",
    "\n",
    "        prob_bin = scipy.ndimage.convolve1d(S.reshape(20,50000), np.ones((bin_size)), 1)\n",
    "        prob_bin = prob_bin[:,bin_size-1:-bin_size+1]\n",
    "        prob_bin[prob_bin>0] = 1\n",
    "        spk_bin = scipy.ndimage.convolve1d(spk.reshape(20,50000), np.ones((bin_size)), 1)\n",
    "        spk_bin = spk_bin[:,bin_size-1:-bin_size+1]\n",
    "        spk_bin[spk_bin>0] = 1\n",
    "\n",
    "        tp = np.where((prob_bin == 1) & (spk_bin == 1))[0].size\n",
    "        fp = np.where((prob_bin == 1) & (spk_bin == 0))[0].size\n",
    "        tn = np.where((prob_bin == 0) & (spk_bin == 0))[0].size\n",
    "        fn = np.where((prob_bin == 0) & (spk_bin == 1))[0].size\n",
    "        \n",
    "        prec = tp / (tp + fp)\n",
    "        rec = tp / (tp + fn)\n",
    "        \n",
    "        if n == 0:\n",
    "            na_true_pr[i,0] = prec\n",
    "            na_true_pr[i,1] = rec\n",
    "        elif n == 1:\n",
    "            nona_true_pr[i,0] = prec\n",
    "            nona_true_pr[i,1] = rec\n",
    "        elif n == 2:\n",
    "            comb_pred_pr[i,0] = prec\n",
    "            comb_pred_pr[i,1] = rec\n",
    "        elif n == 3:\n",
    "            whole_pred_pr[i,0] = prec\n",
    "            whole_pred_pr[i,1] = rec\n",
    "        elif n == 4:\n",
    "            ap_true_pr[i,0] = prec\n",
    "            ap_true_pr[i,1] = rec"
   ]
  },
  {
   "cell_type": "code",
   "execution_count": 9,
   "id": "a44a124c",
   "metadata": {},
   "outputs": [
    {
     "data": {
      "image/png": "[encoded data removed]",
      "text/plain": [
       "<Figure size 864x504 with 4 Axes>"
      ]
     },
     "metadata": {
      "needs_background": "light"
     },
     "output_type": "display_data"
    }
   ],
   "source": [
    "fig, axs = plt.subplots(nrows=2, ncols=2, figsize=(12,7))\n",
    "\n",
    "for row in range(2):\n",
    "    for col in range(2):\n",
    "        idx = row*2+col\n",
    "        if idx == 0:\n",
    "            axs[row,col].scatter(na_true_pr[:,1],\n",
    "                          na_true_pr[:,0])\n",
    "        elif idx == 1:\n",
    "            axs[row,col].scatter(nona_true_pr[:,1],\n",
    "                          nona_true_pr[:,0])\n",
    "        elif idx == 2:\n",
    "            axs[row,col].scatter(comb_pred_pr[:,1],\n",
    "                          comb_pred_pr[:,0])\n",
    "        elif idx == 3:\n",
    "            axs[row,col].scatter(whole_pred_pr[:,1],\n",
    "                          whole_pred_pr[:,0])\n",
    "            \n",
    "        axs[row,col].set_xlabel(\"Recall\")\n",
    "        axs[row,col].set_ylabel(\"Precision\")\n",
    "        axs[row,col].set_xlim(0,1)\n",
    "        axs[row,col].set_ylim(0,1)\n",
    "        \n",
    "#axs[0,0].set_title(\"sub-threshold 0.2ms\")\n",
    "#axs[0,1].set_title(\"sub-threshold 0.4ms\")\n",
    "#axs[1,0].set_title(\"sub-threshold 1ms\")\n",
    "#axs[1,1].set_title(\"sub-threshold 2ms\")\n",
    "\n",
    "fig.tight_layout()\n",
    "\n"
   ]
  },
  {
   "cell_type": "code",
   "execution_count": 10,
   "id": "3e540412",
   "metadata": {},
   "outputs": [
    {
     "name": "stdout",
     "output_type": "stream",
     "text": [
      "AP True 0.9156565656565656 0.9156565656565656\n",
      "Na True 0.8085858585858586 0.8295336787564767\n",
      "No Na True 0.34393939393939393 0.6026548672566372\n",
      "Comb Pred 0.4686868686868687 0.5948717948717949\n",
      "Whole Pred 0.3388888888888889 0.5413473174667205\n"
     ]
    }
   ],
   "source": [
    "print(\"AP True\", ap_true_pr[6,1], ap_true_pr[6,0])\n",
    "print(\"Na True\", na_true_pr[6,1], na_true_pr[6,0])\n",
    "print(\"No Na True\", nona_true_pr[6,1], nona_true_pr[6,0])\n",
    "print(\"Comb Pred\", comb_pred_pr[6,1], comb_pred_pr[6,0])\n",
    "print(\"Whole Pred\", whole_pred_pr[6,1], whole_pred_pr[6,0])"
   ]
  },
  {
   "cell_type": "code",
   "execution_count": null,
   "id": "4db0ba3f",
   "metadata": {},
   "outputs": [],
   "source": []
  },
  {
   "cell_type": "code",
   "execution_count": 11,
   "id": "18d7935f",
   "metadata": {},
   "outputs": [],
   "source": [
    "V_ap_true = np.load(\"/media/hdd01/sklee/CA1_clust4-60_AP/ap_true/gru_l20_h40_0.2ms_test_V.npy\")\n",
    "V_na_true = np.load(\"/media/hdd01/sklee/CA1_clust4-60_AP/na_true/gru_l20_h40_0.2ms_test_V.npy\")\n",
    "V_nona_true = np.load(\"/media/hdd01/sklee/CA1_clust4-60_AP/nona_true/gru_l20_h40_0.2ms_test_V.npy\")\n",
    "V_comb_pred = np.load(\"/media/hdd01/sklee/CA1_clust4-60_AP/comb_pred/gru_l20_h40_0.2ms_test_V.npy\")\n",
    "V_whole_pred = np.load(\"/media/hdd01/sklee/CA1_clust4-60_AP/whole_pred/gru_l20_h40_0.2ms_test_V.npy\")\n",
    "spk = np.load(\"/media/hdd01/sklee/CA1_clust4-60_AP/data/spike_train_0.2ms.npy\")[980*50000:].reshape(20,50000)\n",
    "\n",
    "V_ap_true_next = np.zeros((20,50000))\n",
    "V_na_true_next = np.zeros((20,50000))\n",
    "V_nona_true_next = np.zeros((20,50000))\n",
    "V_comb_pred_next = np.zeros((20,50000))\n",
    "V_whole_pred_next = np.zeros((20,50000))\n",
    "\n",
    "V_ap_true_next[:,:-1] = V_ap_true[:,1:]\n",
    "V_na_true_next[:,:-1] = V_na_true[:,1:]\n",
    "V_nona_true_next[:,:-1] = V_nona_true[:,1:]\n",
    "V_comb_pred_next[:,:-1] = V_comb_pred[:,1:]\n",
    "V_whole_pred_next[:,:-1] = V_whole_pred[:,1:]\n",
    "\n",
    "ap_true_coinc = np.zeros((20,))\n",
    "na_true_coinc = np.zeros((20,))\n",
    "nona_true_coinc = np.zeros((20,))\n",
    "comb_pred_coinc = np.zeros((20,))\n",
    "whole_pred_coinc = np.zeros((20,))\n",
    "thresh = 15\n",
    "window = 4 * 5\n",
    "T = 50000\n",
    "\n",
    "for n in range(5):\n",
    "    if n == 0:\n",
    "        V = V_ap_true\n",
    "        V_next = V_ap_true_next\n",
    "    elif n == 1:\n",
    "        V = V_na_true\n",
    "        V_next = V_na_true_next\n",
    "    elif n == 2:\n",
    "        V = V_nona_true\n",
    "        V_next = V_nona_true_next\n",
    "    elif n == 3:\n",
    "        V = V_comb_pred\n",
    "        V_next = V_comb_pred_next\n",
    "    elif n == 4:\n",
    "        V = V_whole_pred\n",
    "        V_next = V_whole_pred_next\n",
    "    \n",
    "    S = np.zeros((20,50000))\n",
    "    \n",
    "    for i in range(20):\n",
    "        idx = np.where((V[i] < thresh) & (V_next[i] >= thresh))[0]\n",
    "        S[i,idx] = 1\n",
    "    \n",
    "    pred_bin = scipy.ndimage.convolve1d(S.reshape(20,50000), np.ones((window)), 1)\n",
    "    pred_bin = pred_bin[:,window-1:-window+1]\n",
    "    pred_bin[pred_bin>0] = 1\n",
    "    spk_bin = scipy.ndimage.convolve1d(spk.reshape(20,50000), np.ones((window)), 1)\n",
    "    spk_bin = spk_bin[:,window-1:-window+1]\n",
    "    spk_bin[spk_bin>0] = 1\n",
    "            \n",
    "    for i in range(20):\n",
    "        N_n = int(np.sum(spk[i]))\n",
    "        N_m = int(np.sum(S[i]))\n",
    "        #N_pois = 2 * window * N_n * N_m / T\n",
    "        #N_nm = np.where((pred_bin[i] == 1) & (spk_bin[i] == 1))[0].size\n",
    "        #coinc = (N_nm - N_pois) / (0.5*(1-N_pois/N_n)*(N_n+N_m))\n",
    "        \n",
    "        N_coinc = np.where((pred_bin[i] == 1) & (spk_bin[i] == 1))[0].size\n",
    "        N_pois = 2 * window * N_n * N_m / T\n",
    "        N = 1 - 2*N_m/T*window\n",
    "        coinc = (N_coinc - N_pois)/(0.5*(N_n+N_m))/(N)\n",
    "        \n",
    "        if n == 0:\n",
    "            ap_true_coinc[i] = coinc\n",
    "        elif n == 1:\n",
    "            na_true_coinc[i] = coinc\n",
    "        elif n == 2:\n",
    "            nona_true_coinc[i] = coinc\n",
    "        elif n == 3:\n",
    "            comb_pred_coinc[i] = coinc\n",
    "        elif n == 4:\n",
    "            whole_pred_coinc[i] = coinc\n",
    "            "
   ]
  },
  {
   "cell_type": "code",
   "execution_count": 13,
   "id": "3f4cda86",
   "metadata": {},
   "outputs": [
    {
     "data": {
      "image/png": "[encoded data removed]",
      "text/plain": [
       "<Figure size 432x288 with 1 Axes>"
      ]
     },
     "metadata": {
      "needs_background": "light"
     },
     "output_type": "display_data"
    }
   ],
   "source": [
    "coinc_all = np.zeros((20,5))\n",
    "coinc_all[:,0] = ap_true_coinc\n",
    "coinc_all[:,1] = na_true_coinc\n",
    "coinc_all[:,2] = nona_true_coinc\n",
    "coinc_all[:,3] = comb_pred_coinc\n",
    "coinc_all[:,4] = whole_pred_coinc\n",
    "\n",
    "plt.boxplot(coinc_all)\n",
    "plt.show()"
   ]
  },
  {
   "cell_type": "code",
   "execution_count": 14,
   "id": "f170b20f",
   "metadata": {},
   "outputs": [],
   "source": [
    "np.save(\"/media/hdd01/sklee/CA1_clust4-60_AP/ap_true/coinc_2ms_15v.npy\", ap_true_coinc)\n",
    "np.save(\"/media/hdd01/sklee/CA1_clust4-60_AP/na_true/coinc_2ms_15v.npy\", na_true_coinc)\n",
    "np.save(\"/media/hdd01/sklee/CA1_clust4-60_AP/nona_true/coinc_2ms_15v.npy\", nona_true_coinc)\n",
    "np.save(\"/media/hdd01/sklee/CA1_clust4-60_AP/comb_pred/coinc_2ms_15v.npy\", comb_pred_coinc)\n",
    "np.save(\"/media/hdd01/sklee/CA1_clust4-60_AP/whole_pred/coinc_2ms_15v.npy\", whole_pred_coinc)"
   ]
  },
  {
   "cell_type": "code",
   "execution_count": null,
   "id": "d1fa0588",
   "metadata": {},
   "outputs": [],
   "source": []
  },
  {
   "cell_type": "code",
   "execution_count": 3,
   "id": "8b651387",
   "metadata": {},
   "outputs": [
    {
     "name": "stderr",
     "output_type": "stream",
     "text": [
      "<ipython-input-3-b0887cb02ca1>:4: TqdmDeprecationWarning: Please use `tqdm.notebook.trange` instead of `tqdm.tnrange`\n",
      "  for i in tnrange(4):\n"
     ]
    },
    {
     "data": {
      "application/vnd.jupyter.widget-view+json": {
       "model_id": "f6460a59af8f43f9b3632db76dee4efa",
       "version_major": 2,
       "version_minor": 0
      },
      "text/plain": [
       "  0%|          | 0/4 [00:00<?, ?it/s]"
      ]
     },
     "metadata": {},
     "output_type": "display_data"
    }
   ],
   "source": [
    "ms_list = [1,2,5,10]\n",
    "auc_array = np.zeros((4,13,20))\n",
    "\n",
    "for i in tnrange(4):\n",
    "    length = int(50000/ms_list[i]/5)\n",
    "    ap_true_all = np.load(\"/media/hdd01/sklee/CA1_clust4-60_AP/ap_true/gru_l20_h40_\"+str(ms_list[i])+\"ms_test.npy\").flatten()\n",
    "    na_true_all = np.load(\"/media/hdd01/sklee/CA1_clust4-60_AP/na_true/gru_l20_h40_\"+str(ms_list[i])+\"ms_test.npy\").flatten()\n",
    "    nona_true_all = np.load(\"/media/hdd01/sklee/CA1_clust4-60_AP/nona_true/gru_l20_h40_\"+str(ms_list[i])+\"ms_test.npy\").flatten()\n",
    "    comb_pred_all = np.load(\"/media/hdd01/sklee/CA1_clust4-60_AP/comb_pred/gru_l20_h40_\"+str(ms_list[i])+\"ms_test.npy\").flatten()\n",
    "    whole_pred_all = np.load(\"/media/hdd01/sklee/CA1_clust4-60_AP/whole_pred/gru_l20_h40_\"+str(ms_list[i])+\"ms_test.npy\").flatten()\n",
    "    diff_true_all = np.load(\"/media/hdd01/sklee/CA1_clust4-60_AP/diff_true/gru_l20_h40_\"+str(ms_list[i])+\"ms_test.npy\").flatten()\n",
    "    diff_pred_all = np.load(\"/media/hdd01/sklee/CA1_clust4-60_AP/diff_pred/gru_l20_h40_\"+str(ms_list[i])+\"ms_test.npy\").flatten()\n",
    "    nona_pred_all = np.load(\"/media/hdd01/sklee/CA1_clust4-60_AP/nona_pred/gru_l20_h40_\"+str(ms_list[i])+\"ms_test.npy\").flatten()\n",
    "    na_true_late_all = np.load(\"/media/hdd01/sklee/CA1_clust4-60_AP/na_true_late/gru_l20_h40_\"+str(ms_list[i])+\"ms_test.npy\").flatten()\n",
    "    comb_pred_late_all = np.load(\"/media/hdd01/sklee/CA1_clust4-60_AP/comb_pred_late/gru_l20_h40_\"+str(ms_list[i])+\"ms_test.npy\").flatten()\n",
    "    na_true_nona_pred_all = np.load(\"/media/hdd01/sklee/CA1_clust4-60_AP/na_true_nona_pred/gru_l20_h40_\"+str(ms_list[i])+\"ms_test.npy\").flatten()\n",
    "    na_pred_nona_true_all = np.load(\"/media/hdd01/sklee/CA1_clust4-60_AP/na_pred_nona_true/gru_l20_h40_\"+str(ms_list[i])+\"ms_test.npy\").flatten()\n",
    "    na_true_noise_all = np.load(\"/media/hdd01/sklee/CA1_clust4-60_AP/na_true_noise/gru_l20_h40_\"+str(ms_list[i])+\"ms_test.npy\").flatten()\n",
    "    \n",
    "    spk_all = np.load(\"/media/hdd01/sklee/CA1_clust4-60_AP/data/spike_train_\"+str(ms_list[i])+\"ms.npy\")[980*length:].flatten()\n",
    "    \n",
    "    for j in range(20):\n",
    "        ap_true = ap_true_all[j*length:(j+1)*length]\n",
    "        na_true = na_true_all[j*length:(j+1)*length]\n",
    "        nona_true = nona_true_all[j*length:(j+1)*length]\n",
    "        comb_pred = comb_pred_all[j*length:(j+1)*length]\n",
    "        whole_pred = whole_pred_all[j*length:(j+1)*length]\n",
    "        diff_true = diff_true_all[j*length:(j+1)*length]\n",
    "        diff_pred = diff_pred_all[j*length:(j+1)*length]\n",
    "        nona_pred = nona_pred_all[j*length:(j+1)*length]\n",
    "        na_true_late = na_true_late_all[j*length:(j+1)*length]\n",
    "        comb_pred_late = comb_pred_late_all[j*length:(j+1)*length]\n",
    "        na_true_nona_pred = na_true_nona_pred_all[j*length:(j+1)*length]\n",
    "        na_pred_nona_true = na_pred_nona_true_all[j*length:(j+1)*length]\n",
    "        na_true_noise = na_true_noise_all[j*length:(j+1)*length]\n",
    "        spk = spk_all[j*length:(j+1)*length]\n",
    "        \n",
    "        prec_comb_pred, rec_comb_pred, _ = precision_recall_curve(spk, comb_pred)\n",
    "        prec_whole_pred, rec_whole_pred, _ = precision_recall_curve(spk, whole_pred)\n",
    "        prec_ap_true, rec_ap_true, _ = precision_recall_curve(spk, ap_true)\n",
    "        prec_na_true, rec_na_true, _ = precision_recall_curve(spk, na_true)\n",
    "        prec_nona_true, rec_nona_true, _ = precision_recall_curve(spk, nona_true)\n",
    "        prec_diff_true, rec_diff_true, _ = precision_recall_curve(spk, diff_true)\n",
    "        prec_diff_pred, rec_diff_pred, _ = precision_recall_curve(spk, diff_pred)\n",
    "        prec_nona_pred, rec_nona_pred, _ = precision_recall_curve(spk, nona_pred)\n",
    "        prec_na_true_late, rec_na_true_late, _ = precision_recall_curve(spk, na_true_late)\n",
    "        prec_comb_pred_late, rec_comb_pred_late, _ = precision_recall_curve(spk, comb_pred_late)\n",
    "        prec_na_true_nona_pred, rec_na_true_nona_pred, _ = precision_recall_curve(spk, na_true_nona_pred)\n",
    "        prec_na_pred_nona_true, rec_na_pred_nona_true, _ = precision_recall_curve(spk, na_pred_nona_true)\n",
    "        prec_na_true_noise, rec_na_true_noise, _ = precision_recall_curve(spk, na_true_noise)\n",
    "\n",
    "        prarea_comb_pred = metrics.auc(rec_comb_pred, prec_comb_pred)\n",
    "        prarea_whole_pred = metrics.auc(rec_whole_pred, prec_whole_pred)\n",
    "        prarea_ap_true = metrics.auc(rec_ap_true, prec_ap_true)\n",
    "        prarea_na_true = metrics.auc(rec_na_true, prec_na_true)\n",
    "        prarea_nona_true = metrics.auc(rec_nona_true, prec_nona_true)\n",
    "        prarea_diff_true = metrics.auc(rec_diff_true, prec_diff_true)\n",
    "        prarea_diff_pred = metrics.auc(rec_diff_pred, prec_diff_pred)\n",
    "        prarea_nona_pred = metrics.auc(rec_nona_pred, prec_nona_pred)\n",
    "        prarea_na_true_late = metrics.auc(rec_na_true_late, prec_na_true_late)\n",
    "        prarea_comb_pred_late = metrics.auc(rec_comb_pred_late, prec_comb_pred_late)\n",
    "        prarea_na_true_nona_pred = metrics.auc(rec_na_true_nona_pred, prec_na_true_nona_pred)\n",
    "        prarea_na_pred_nona_true = metrics.auc(rec_na_pred_nona_true, prec_na_pred_nona_true)\n",
    "        prarea_na_true_noise = metrics.auc(rec_na_true_noise, prec_na_true_noise)\n",
    "        \n",
    "        auc_array[i,0,j] = prarea_ap_true\n",
    "        auc_array[i,1,j] = prarea_na_true\n",
    "        auc_array[i,2,j] = prarea_nona_true\n",
    "        auc_array[i,3,j] = prarea_comb_pred\n",
    "        auc_array[i,4,j] = prarea_whole_pred\n",
    "        auc_array[i,5,j] = prarea_diff_true\n",
    "        auc_array[i,6,j] = prarea_diff_pred\n",
    "        auc_array[i,7,j] = prarea_nona_pred\n",
    "        auc_array[i,8,j] = prarea_na_true_late\n",
    "        auc_array[i,9,j] = prarea_comb_pred_late\n",
    "        auc_array[i,10,j] = prarea_na_true_nona_pred\n",
    "        auc_array[i,11,j] = prarea_na_pred_nona_true\n",
    "        auc_array[i,12,j] = prarea_na_true_noise"
   ]
  },
  {
   "cell_type": "code",
   "execution_count": 5,
   "id": "3d89ea51",
   "metadata": {},
   "outputs": [
    {
     "name": "stderr",
     "output_type": "stream",
     "text": [
      "<ipython-input-5-90c9aa75c4ff>:80: UserWarning: This figure was using constrained_layout, but that is incompatible with subplots_adjust and/or tight_layout; disabling constrained_layout.\n",
      "  fig.tight_layout()\n"
     ]
    },
    {
     "data": {
      "image/png": "[encoded data removed]",
      "text/plain": [
       "<Figure size 1080x360 with 1 Axes>"
      ]
     },
     "metadata": {
      "needs_background": "light"
     },
     "output_type": "display_data"
    }
   ],
   "source": [
    "fig = plt.figure(constrained_layout=True, figsize = (15,5))\n",
    "gs = fig.add_gridspec(1,1, wspace=0, hspace=0)\n",
    "ax = fig.add_subplot(gs[0,0])\n",
    "\n",
    "colors = [\"tab:blue\",\"tab:orange\",\"tab:green\",\n",
    "         \"tab:red\",\"tab:purple\",\"tab:brown\",\"tab:pink\",\"tab:gray\",\n",
    "         \"tab:olive\",\"tab:cyan\",\"turquoise\",\"lime\", \"teal\"]\n",
    "\n",
    "# first boxplot pair\n",
    "bp = ax.boxplot(auc_array[0].T, positions = np.arange(0,13,1), widths = 0.6, patch_artist=True)\n",
    "for patch, color in zip(bp['boxes'], colors):\n",
    "    patch.set_facecolor(color)\n",
    "    patch.set_alpha(0.5)\n",
    "for patch in bp[\"medians\"]:\n",
    "    patch.set_color(\"black\")\n",
    "    \n",
    "# first boxplot pair\n",
    "bp = ax.boxplot(auc_array[1].T, positions = np.arange(15,28,1), widths = 0.6, patch_artist=True)\n",
    "for patch, color in zip(bp['boxes'], colors):\n",
    "    patch.set_facecolor(color)\n",
    "    patch.set_alpha(0.5)\n",
    "for patch in bp[\"medians\"]:\n",
    "    patch.set_color(\"black\")\n",
    "    \n",
    "# first boxplot pair\n",
    "bp = ax.boxplot(auc_array[2].T, positions = np.arange(30,43,1), widths = 0.6, patch_artist=True)\n",
    "for patch, color in zip(bp['boxes'], colors):\n",
    "    patch.set_facecolor(color)\n",
    "    patch.set_alpha(0.5)\n",
    "for patch in bp[\"medians\"]:\n",
    "    patch.set_color(\"black\")\n",
    "    \n",
    "# first boxplot pair\n",
    "bp = ax.boxplot(auc_array[3].T, positions = np.arange(45,58,1), widths = 0.6, patch_artist=True)\n",
    "for patch, color in zip(bp['boxes'], colors):\n",
    "    patch.set_facecolor(color)\n",
    "    patch.set_alpha(0.5)\n",
    "for patch in bp[\"medians\"]:\n",
    "    patch.set_color(\"black\")\n",
    "    \n",
    "ax.set_xticks([6.5,21.5,23,51.5])\n",
    "ax.set_xticklabels([\"1ms\", \"2ms\", \"5ms\", \"10ms\"])\n",
    "ax.spines.right.set_visible(False)\n",
    "ax.spines.top.set_visible(False)\n",
    "ax.set_title(\"AP, Na+\")\n",
    "\n",
    "h1, = ax.plot(1,1,'tab:blue')\n",
    "h2, = ax.plot(1,1,'tab:orange')\n",
    "h3, = ax.plot(1,1,'tab:green')\n",
    "h4, = ax.plot(1,1,'tab:red')\n",
    "h5, = ax.plot(1,1,'tab:purple')\n",
    "h6, = ax.plot(1,1,'tab:brown')\n",
    "h7, = ax.plot(1,1,'tab:pink')\n",
    "h8, = ax.plot(1,1,'tab:gray')\n",
    "h9, = ax.plot(1,1,'tab:olive')\n",
    "h10, = ax.plot(1,1,'tab:cyan')\n",
    "h11, = ax.plot(1,1,'turquoise')\n",
    "h12, = ax.plot(1,1,'lime')\n",
    "h13, = ax.plot(1,1,'teal')\n",
    "\n",
    "ax.legend((h1,h2,h3,h4,h5,h6,h7,h8,h9,h10,h11,h12,h13),('AP True','Na+ True','No Na+ True','Comb Pred',\n",
    "                                           'Whole Pred', 'Diff True', 'Diff Pred', 'No Na+ Pred',\n",
    "                                           'Na+ True (Late)', 'Comb Pred (Late)', \"Diff True & No Na+ Pred\",\n",
    "                                           \"Diff Pred & No Na+ True\", \"Na+ True + Noise\"))\n",
    "h1.set_visible(False)\n",
    "h2.set_visible(False)\n",
    "h3.set_visible(False)\n",
    "h4.set_visible(False)\n",
    "h5.set_visible(False)\n",
    "h6.set_visible(False)\n",
    "h7.set_visible(False)\n",
    "h8.set_visible(False)\n",
    "h9.set_visible(False)\n",
    "h10.set_visible(False)\n",
    "h11.set_visible(False)\n",
    "h11.set_visible(False)\n",
    "h12.set_visible(False)\n",
    "h13.set_visible(False)\n",
    "\n",
    "fig.tight_layout()\n",
    "plt.show()"
   ]
  },
  {
   "cell_type": "code",
   "execution_count": null,
   "id": "fac7a727",
   "metadata": {},
   "outputs": [],
   "source": []
  },
  {
   "cell_type": "code",
   "execution_count": null,
   "id": "24128ed1",
   "metadata": {},
   "outputs": [],
   "source": []
  },
  {
   "cell_type": "code",
   "execution_count": null,
   "id": "6dc906dc",
   "metadata": {},
   "outputs": [],
   "source": []
  },
  {
   "cell_type": "code",
   "execution_count": null,
   "id": "820dbe2e",
   "metadata": {},
   "outputs": [],
   "source": []
  }
 ],
 "metadata": {
  "kernelspec": {
   "display_name": "Python 3",
   "language": "python",
   "name": "python3"
  },
  "language_info": {
   "codemirror_mode": {
    "name": "ipython",
    "version": 3
   },
   "file_extension": ".py",
   "mimetype": "text/x-python",
   "name": "python",
   "nbconvert_exporter": "python",
   "pygments_lexer": "ipython3",
   "version": "3.8.8"
  }
 },
 "nbformat": 4,
 "nbformat_minor": 5
}
