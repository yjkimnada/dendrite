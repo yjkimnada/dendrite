{
 "cells": [
  {
   "cell_type": "code",
   "execution_count": 1,
   "id": "e1a5b53a",
   "metadata": {},
   "outputs": [],
   "source": [
    "import numpy as np\n",
    "import matplotlib.pyplot as plt\n",
    "from tqdm import tnrange\n",
    "from sklearn import metrics\n",
    "from sklearn.metrics import precision_recall_curve\n",
    "from sklearn.metrics import average_precision_score\n",
    "import scipy"
   ]
  },
  {
   "cell_type": "code",
   "execution_count": 2,
   "id": "e0b75313",
   "metadata": {},
   "outputs": [
    {
     "name": "stderr",
     "output_type": "stream",
     "text": [
      "<ipython-input-2-fda7b504c990>:12: TqdmDeprecationWarning: Please use `tqdm.notebook.trange` instead of `tqdm.tnrange`\n",
      "  for n in tnrange(4):\n"
     ]
    },
    {
     "data": {
      "application/vnd.jupyter.widget-view+json": {
       "model_id": "1e3e512462614386a4f911cf6e81ab01",
       "version_major": 2,
       "version_minor": 0
      },
      "text/plain": [
       "  0%|          | 0/4 [00:00<?, ?it/s]"
      ]
     },
     "metadata": {},
     "output_type": "display_data"
    },
    {
     "name": "stderr",
     "output_type": "stream",
     "text": [
      "<ipython-input-2-fda7b504c990>:15: TqdmDeprecationWarning: Please use `tqdm.notebook.trange` instead of `tqdm.tnrange`\n",
      "  for i in tnrange(thresh_list.shape[0]):\n"
     ]
    },
    {
     "data": {
      "application/vnd.jupyter.widget-view+json": {
       "model_id": "ffc3cf22201b4b2182c02ce67634167b",
       "version_major": 2,
       "version_minor": 0
      },
      "text/plain": [
       "  0%|          | 0/29365 [00:00<?, ?it/s]"
      ]
     },
     "metadata": {},
     "output_type": "display_data"
    },
    {
     "ename": "KeyboardInterrupt",
     "evalue": "",
     "output_type": "error",
     "traceback": [
      "\u001b[0;31m---------------------------------------------------------------------------\u001b[0m",
      "\u001b[0;31mKeyboardInterrupt\u001b[0m                         Traceback (most recent call last)",
      "\u001b[0;32m<ipython-input-2-fda7b504c990>\u001b[0m in \u001b[0;36m<module>\u001b[0;34m\u001b[0m\n\u001b[1;32m     16\u001b[0m         \u001b[0mthresh\u001b[0m \u001b[0;34m=\u001b[0m \u001b[0mthresh_list\u001b[0m\u001b[0;34m[\u001b[0m\u001b[0mi\u001b[0m\u001b[0;34m]\u001b[0m\u001b[0;34m\u001b[0m\u001b[0;34m\u001b[0m\u001b[0m\n\u001b[1;32m     17\u001b[0m         \u001b[0mprob_new\u001b[0m \u001b[0;34m=\u001b[0m \u001b[0mnp\u001b[0m\u001b[0;34m.\u001b[0m\u001b[0mcopy\u001b[0m\u001b[0;34m(\u001b[0m\u001b[0mprob_all\u001b[0m\u001b[0;34m)\u001b[0m\u001b[0;34m\u001b[0m\u001b[0;34m\u001b[0m\u001b[0m\n\u001b[0;32m---> 18\u001b[0;31m         \u001b[0mprob_new\u001b[0m\u001b[0;34m[\u001b[0m\u001b[0mprob_all\u001b[0m\u001b[0;34m<\u001b[0m\u001b[0mthresh\u001b[0m\u001b[0;34m]\u001b[0m \u001b[0;34m=\u001b[0m \u001b[0;36m0\u001b[0m\u001b[0;34m\u001b[0m\u001b[0;34m\u001b[0m\u001b[0m\n\u001b[0m\u001b[1;32m     19\u001b[0m         \u001b[0mprob_new\u001b[0m\u001b[0;34m[\u001b[0m\u001b[0mprob_all\u001b[0m\u001b[0;34m>=\u001b[0m\u001b[0mthresh\u001b[0m\u001b[0;34m]\u001b[0m \u001b[0;34m=\u001b[0m \u001b[0;36m1\u001b[0m\u001b[0;34m\u001b[0m\u001b[0;34m\u001b[0m\u001b[0m\n\u001b[1;32m     20\u001b[0m \u001b[0;34m\u001b[0m\u001b[0m\n",
      "\u001b[0;31mKeyboardInterrupt\u001b[0m: "
     ]
    }
   ],
   "source": [
    "experiment = \"CA1_clust4-60_AP\"\n",
    "setting = \"na_true_0.1noise1\"\n",
    "\n",
    "prob_all = np.load(\"/media/hdd01/sklee/\"+experiment+\"/\"+setting+\"/gru_l20_h40_0.2ms_test.npy\").flatten()\n",
    "spk = np.load(\"/media/hdd01/sklee/\"+experiment+\"/data/spike_train_0.2ms.npy\")[980*50000:].flatten()\n",
    "prec_all, rec_all, thresh_list = precision_recall_curve(spk, prob_all)\n",
    "#thresh_list = thresh_list[np.arange(0,thresh_list.shape[0],5)]\n",
    "\n",
    "ms_list = [1,2,5,10]\n",
    "pr_array = np.empty((4,thresh_list.shape[0],2))\n",
    "\n",
    "for n in tnrange(4):\n",
    "    bin_size = ms_list[n] * 5\n",
    "    \n",
    "    for i in tnrange(thresh_list.shape[0]):\n",
    "        thresh = thresh_list[i]\n",
    "        prob_new = np.copy(prob_all)\n",
    "        prob_new[prob_all<thresh] = 0\n",
    "        prob_new[prob_all>=thresh] = 1\n",
    "        \n",
    "        prob_bin = scipy.ndimage.convolve1d(prob_new.reshape(20,50000), np.ones((bin_size)), 1)\n",
    "        prob_bin = prob_bin[:,bin_size-1:-bin_size+1]\n",
    "        prob_bin[prob_bin>0] = 1\n",
    "        spk_bin = scipy.ndimage.convolve1d(spk.reshape(20,50000), np.ones((bin_size)), 1)\n",
    "        spk_bin = spk_bin[:,bin_size-1:-bin_size+1]\n",
    "        spk_bin[spk_bin>0] = 1\n",
    "        \n",
    "        tp = np.where((prob_bin == 1) & (spk_bin == 1))[0].size\n",
    "        fp = np.where((prob_bin == 1) & (spk_bin == 0))[0].size\n",
    "        tn = np.where((prob_bin == 0) & (spk_bin == 0))[0].size\n",
    "        fn = np.where((prob_bin == 0) & (spk_bin == 1))[0].size\n",
    "        \n",
    "        prec = tp / (tp + fp)\n",
    "        rec = tp / (tp + fn)\n",
    "        pr_array[n,i,0] = prec\n",
    "        pr_array[n,i,1] = rec"
   ]
  },
  {
   "cell_type": "code",
   "execution_count": null,
   "id": "42874cfe",
   "metadata": {},
   "outputs": [],
   "source": [
    "fig, axs = plt.subplots(nrows=2, ncols=2, figsize=(12,7))\n",
    "for row in range(2):\n",
    "    for col in range(2):\n",
    "        idx = row*2+col\n",
    "        axs[row,col].plot(pr_array[idx,:,1],pr_array[idx,:,0])\n",
    "        axs[row,col].set_title(str(metrics.auc(pr_array[idx,:,1],pr_array[idx,:,0])))"
   ]
  },
  {
   "cell_type": "code",
   "execution_count": null,
   "id": "97f9f0aa",
   "metadata": {},
   "outputs": [],
   "source": []
  },
  {
   "cell_type": "code",
   "execution_count": null,
   "id": "aac5400b",
   "metadata": {},
   "outputs": [],
   "source": [
    "np.save(\"/media/hdd01/sklee/\"+experiment+\"/\"+setting+\"/prec_rec_\"+setting+\".npy\", pr_array)"
   ]
  },
  {
   "cell_type": "code",
   "execution_count": null,
   "id": "3b0b8d06",
   "metadata": {},
   "outputs": [],
   "source": []
  },
  {
   "cell_type": "code",
   "execution_count": 12,
   "id": "7f2c2c37",
   "metadata": {},
   "outputs": [
    {
     "name": "stderr",
     "output_type": "stream",
     "text": [
      "<ipython-input-12-52156013d406>:21: TqdmDeprecationWarning: Please use `tqdm.notebook.trange` instead of `tqdm.tnrange`\n",
      "  for i in tnrange(4):\n"
     ]
    },
    {
     "data": {
      "application/vnd.jupyter.widget-view+json": {
       "model_id": "77e463463703409fbeb76c4e00b47d36",
       "version_major": 2,
       "version_minor": 0
      },
      "text/plain": [
       "  0%|          | 0/4 [00:00<?, ?it/s]"
      ]
     },
     "metadata": {},
     "output_type": "display_data"
    }
   ],
   "source": [
    "auc_array = np.zeros((4,15))\n",
    "\n",
    "experiment = \"CA1_clust4-60_AP\"\n",
    "\n",
    "ap_true_pr = np.load(\"/media/hdd01/sklee/\"+experiment+\"/ap_true/prec_rec_ap_true.npy\")\n",
    "na_true_pr = np.load(\"/media/hdd01/sklee/\"+experiment+\"/na_true/prec_rec_na_true.npy\")\n",
    "comb_pred_pr = np.load(\"/media/hdd01/sklee/\"+experiment+\"/comb_pred/prec_rec_comb_pred.npy\")\n",
    "whole_pred_pr = np.load(\"/media/hdd01/sklee/\"+experiment+\"/whole_pred/prec_rec_whole_pred.npy\")\n",
    "nona_true_pr = np.load(\"/media/hdd01/sklee/\"+experiment+\"/nona_true/prec_rec_nona_true.npy\")\n",
    "nona_pred_pr = np.load(\"/media/hdd01/sklee/\"+experiment+\"/nona_pred/prec_rec_nona_pred.npy\")\n",
    "diff_true_pr = np.load(\"/media/hdd01/sklee/\"+experiment+\"/diff_true/prec_rec_diff_true.npy\")\n",
    "diff_pred_pr = np.load(\"/media/hdd01/sklee/\"+experiment+\"/diff_pred/prec_rec_diff_pred.npy\")\n",
    "na_true_nona_pred_pr = np.load(\"/media/hdd01/sklee/\"+experiment+\"/na_true_nona_pred/prec_rec_na_true_nona_pred.npy\")\n",
    "na_pred_nona_true_pr = np.load(\"/media/hdd01/sklee/\"+experiment+\"/na_pred_nona_true/prec_rec_na_pred_nona_true.npy\")\n",
    "na_true_late_pr = np.load(\"/media/hdd01/sklee/\"+experiment+\"/na_true_late/prec_rec_na_true_late.npy\")\n",
    "comb_pred_late_pr = np.load(\"/media/hdd01/sklee/\"+experiment+\"/comb_pred_late/prec_rec_comb_pred_late.npy\")\n",
    "na_true_noise1_pr = np.load(\"/media/hdd01/sklee/\"+experiment+\"/na_true_noise1/prec_rec_na_true_noise1.npy\")\n",
    "na_true_noise2_pr = np.load(\"/media/hdd01/sklee/\"+experiment+\"/na_true_noise2/prec_rec_na_true_noise2.npy\")\n",
    "na_true_noise3_pr = np.load(\"/media/hdd01/sklee/\"+experiment+\"/na_true_noise3/prec_rec_na_true_noise3.npy\")\n",
    "\n",
    "for i in tnrange(4):\n",
    "    prarea_ap_true = metrics.auc(ap_true_pr[i,:,1], ap_true_pr[i,:,0])\n",
    "    prarea_na_true = metrics.auc(na_true_pr[i,:,1], na_true_pr[i,:,0])\n",
    "    prarea_comb_pred = metrics.auc(comb_pred_pr[i,:,1], comb_pred_pr[i,:,0])\n",
    "    prarea_whole_pred = metrics.auc(whole_pred_pr[i,:,1], whole_pred_pr[i,:,0])\n",
    "    prarea_nona_true = metrics.auc(nona_true_pr[i,:,1], nona_true_pr[i,:,0])\n",
    "    prarea_nona_pred = metrics.auc(nona_pred_pr[i,:,1], nona_pred_pr[i,:,0])\n",
    "    prarea_diff_true = metrics.auc(diff_true_pr[i,:,1], diff_true_pr[i,:,0])\n",
    "    prarea_diff_pred = metrics.auc(diff_pred_pr[i,:,1], diff_pred_pr[i,:,0])\n",
    "    prarea_na_true_nona_pred = metrics.auc(na_true_nona_pred_pr[i,:,1], na_true_nona_pred_pr[i,:,0])\n",
    "    prarea_na_pred_nona_true = metrics.auc(na_pred_nona_true_pr[i,:,1], na_pred_nona_true_pr[i,:,0])\n",
    "    prarea_na_true_late = metrics.auc(na_true_late_pr[i,:,1], na_true_late_pr[i,:,0])\n",
    "    prarea_comb_pred_late = metrics.auc(comb_pred_late_pr[i,:,1], comb_pred_late_pr[i,:,0])\n",
    "    prarea_na_true_noise1 = metrics.auc(na_true_noise1_pr[i,:,1], na_true_noise1_pr[i,:,0])\n",
    "    prarea_na_true_noise2 = metrics.auc(na_true_noise2_pr[i,:,1], na_true_noise2_pr[i,:,0])\n",
    "    prarea_na_true_noise3 = metrics.auc(na_true_noise3_pr[i,:,1], na_true_noise3_pr[i,:,0])\n",
    "    \n",
    "    auc_array[i,0] = prarea_ap_true\n",
    "    auc_array[i,1] = prarea_na_true\n",
    "    auc_array[i,2] = prarea_comb_pred\n",
    "    auc_array[i,3] = prarea_whole_pred\n",
    "    auc_array[i,4] = prarea_nona_true\n",
    "    auc_array[i,5] = prarea_nona_pred\n",
    "    auc_array[i,6] = prarea_diff_true\n",
    "    auc_array[i,7] = prarea_diff_pred\n",
    "    auc_array[i,8] = prarea_na_true_nona_pred\n",
    "    auc_array[i,9] = prarea_na_pred_nona_true\n",
    "    auc_array[i,10] = prarea_na_true_late\n",
    "    auc_array[i,11] = prarea_comb_pred_late\n",
    "    auc_array[i,12] = prarea_na_true_noise1\n",
    "    auc_array[i,13] = prarea_na_true_noise2\n",
    "    auc_array[i,14] = prarea_na_true_noise3\n",
    "    "
   ]
  },
  {
   "cell_type": "code",
   "execution_count": 13,
   "id": "cf042c63",
   "metadata": {},
   "outputs": [
    {
     "data": {
      "image/png": "[encoded data removed]",
      "text/plain": [
       "<Figure size 1080x360 with 1 Axes>"
      ]
     },
     "metadata": {
      "needs_background": "light"
     },
     "output_type": "display_data"
    }
   ],
   "source": [
    "fig = plt.figure(constrained_layout=True, figsize = (15,5))\n",
    "gs = fig.add_gridspec(1,1, wspace=0, hspace=0)\n",
    "ax = fig.add_subplot(gs[0,0])\n",
    "\n",
    "colors = [\"tab:blue\",\"tab:orange\",\"tab:green\",\n",
    "         \"tab:red\",\"tab:purple\",\"tab:brown\",\"tab:pink\",\"tab:gray\",\n",
    "         \"tab:olive\",\"tab:cyan\",\"turquoise\",\"lime\", \"teal\", \"chocolate\", \"deeppink\"]\n",
    "\n",
    "width = 1\n",
    "ap_true_bar = ax.bar(np.arange(0,16*4,16), auc_array[:,0], width, label='AP True', color=colors[0])\n",
    "na_true_bar = ax.bar(np.arange(1,16*4+1,16), auc_array[:,1], width, label='Na+ True', color=colors[1])\n",
    "na_true_bar = ax.bar(np.arange(2,16*4+2,16), auc_array[:,2], width, label='Comb Pred', color=colors[2])\n",
    "na_true_bar = ax.bar(np.arange(3,16*4+3,16), auc_array[:,3], width, label='Whole Pred', color=colors[3])\n",
    "na_true_bar = ax.bar(np.arange(4,16*4+4,16), auc_array[:,4], width, label='No Na+ True', color=colors[4])\n",
    "na_true_bar = ax.bar(np.arange(5,16*4+5,16), auc_array[:,5], width, label='No Na+ Pred', color=colors[5])\n",
    "na_true_bar = ax.bar(np.arange(6,16*4+6,16), auc_array[:,6], width, label='Diff True', color=colors[6])\n",
    "na_true_bar = ax.bar(np.arange(7,16*4+7,16), auc_array[:,7], width, label='Diff Pred', color=colors[7])\n",
    "na_true_bar = ax.bar(np.arange(8,16*4+8,16), auc_array[:,8], width, label='Na+ True & No Na+ Pred', color=colors[8])\n",
    "na_true_bar = ax.bar(np.arange(9,16*4+9,16), auc_array[:,9], width, label='Na+ Pred & No Na+ True', color=colors[9])\n",
    "na_true_bar = ax.bar(np.arange(10,16*4+10,16), auc_array[:,10], width, label='Na+ True (Late)', color=colors[10])\n",
    "na_true_bar = ax.bar(np.arange(11,16*4+11,16), auc_array[:,11], width, label='Comb Pred (Late)', color=colors[11])\n",
    "na_true_bar = ax.bar(np.arange(12,16*4+12,16), auc_array[:,12], width, label='Na+ True Noise1', color=colors[12])\n",
    "na_true_bar = ax.bar(np.arange(13,16*4+13,16), auc_array[:,13], width, label='Na+ True Noise2', color=colors[13])\n",
    "na_true_bar = ax.bar(np.arange(14,16*4+14,16), auc_array[:,14], width, label='Na+ True Noise3', color=colors[14])\n",
    "\n",
    "ax.legend()\n",
    "ax.set_xticks(np.arange(6.5,16*4+6.5,16))\n",
    "ax.set_xticklabels([\"1ms\",\"2ms\",\"5ms\",\"10ms\"])\n",
    "ax.set_ylabel(\"Prec-Rec AUC\")\n",
    "ax.set_title(\"Yes AP, Yes Na+\")\n",
    "\n",
    "\n",
    "plt.show()"
   ]
  },
  {
   "cell_type": "code",
   "execution_count": null,
   "id": "fac7a727",
   "metadata": {},
   "outputs": [],
   "source": []
  },
  {
   "cell_type": "code",
   "execution_count": 2,
   "id": "71af0358",
   "metadata": {},
   "outputs": [
    {
     "name": "stderr",
     "output_type": "stream",
     "text": [
      "<ipython-input-2-05a0d2d4e78a>:15: TqdmDeprecationWarning: Please use `tqdm.notebook.trange` instead of `tqdm.tnrange`\n",
      "  for i in tnrange(4):\n"
     ]
    },
    {
     "data": {
      "application/vnd.jupyter.widget-view+json": {
       "model_id": "6afd1b5888c64f2f9df40d8217d5d66b",
       "version_major": 2,
       "version_minor": 0
      },
      "text/plain": [
       "  0%|          | 0/4 [00:00<?, ?it/s]"
      ]
     },
     "metadata": {},
     "output_type": "display_data"
    }
   ],
   "source": [
    "noise_no = 1\n",
    "auc_array = np.zeros((4,4 + 3*noise_no))\n",
    "\n",
    "experiment = \"CA1_clust4-60_AP\"\n",
    "\n",
    "na_true_pr = np.load(\"/media/hdd01/sklee/\"+experiment+\"/na_true/prec_rec_na_true.npy\")\n",
    "na_true_pr = np.load(\"/media/hdd01/sklee/\"+experiment+\"/na_true/prec_rec_na_true.npy\")\n",
    "comb_pred_pr = np.load(\"/media/hdd01/sklee/\"+experiment+\"/comb_pred/prec_rec_comb_pred.npy\")\n",
    "na_true_nona_pred_pr = np.load(\"/media/hdd01/sklee/\"+experiment+\"/na_true_nona_pred/prec_rec_na_true_nona_pred.npy\")\n",
    "na_pred_nona_true_pr = np.load(\"/media/hdd01/sklee/\"+experiment+\"/na_pred_nona_true/prec_rec_na_pred_nona_true.npy\")\n",
    "na_true_1noise1_pr = np.load(\"/media/hdd01/sklee/\"+experiment+\"/na_true_1noise1/prec_rec_na_true_1noise1.npy\")\n",
    "na_true_1noise2_pr = np.load(\"/media/hdd01/sklee/\"+experiment+\"/na_true_1noise2/prec_rec_na_true_1noise2.npy\")\n",
    "na_true_1noise3_pr = np.load(\"/media/hdd01/sklee/\"+experiment+\"/na_true_1noise3/prec_rec_na_true_1noise3.npy\")\n",
    "\n",
    "for i in tnrange(4):\n",
    "    prarea_na_true = metrics.auc(na_true_pr[i,:,1], na_true_pr[i,:,0])\n",
    "    prarea_comb_pred = metrics.auc(comb_pred_pr[i,:,1], comb_pred_pr[i,:,0])\n",
    "    prarea_na_true_nona_pred = metrics.auc(na_true_nona_pred_pr[i,:,1], na_true_nona_pred_pr[i,:,0])\n",
    "    prarea_na_pred_nona_true = metrics.auc(na_pred_nona_true_pr[i,:,1], na_pred_nona_true_pr[i,:,0])\n",
    "    prarea_na_true_1noise1 = metrics.auc(na_true_1noise1_pr[i,:,1], na_true_1noise1_pr[i,:,0])\n",
    "    prarea_na_true_1noise2 = metrics.auc(na_true_1noise2_pr[i,:,1], na_true_1noise2_pr[i,:,0])\n",
    "    prarea_na_true_1noise3 = metrics.auc(na_true_1noise3_pr[i,:,1], na_true_1noise3_pr[i,:,0])\n",
    "    \n",
    "    auc_array[i,0] = prarea_na_true\n",
    "    auc_array[i,1] = prarea_comb_pred\n",
    "    auc_array[i,2] = prarea_na_true_1noise1\n",
    "    auc_array[i,3] = prarea_na_true_nona_pred\n",
    "    auc_array[i,4] = prarea_na_true_1noise2\n",
    "    auc_array[i,5] = prarea_na_pred_nona_true\n",
    "    auc_array[i,6] = prarea_na_true_1noise3\n",
    "    \n",
    "    "
   ]
  },
  {
   "cell_type": "code",
   "execution_count": null,
   "id": "07f2e91a",
   "metadata": {},
   "outputs": [],
   "source": [
    "fig = plt.figure(constrained_layout=True, figsize = (15,5))\n",
    "gs = fig.add_gridspec(1,1, wspace=0, hspace=0)\n",
    "ax = fig.add_subplot(gs[0,0])\n",
    "\n",
    "colors = [\"tab:blue\",\"tab:orange\",\"tab:green\",\n",
    "         \"tab:red\",\"tab:purple\",\"tab:brown\",\"tab:pink\",\"tab:gray\",\n",
    "         \"tab:olive\",\"tab:cyan\",\"turquoise\",\"lime\", \"teal\", \"chocolate\", \"deeppink\"]\n",
    "\n",
    "width = 1\n",
    "bar_no = 1 + 7\n",
    "ax.bar(np.arange(0,bar_no*4,bar_no), auc_array[:,0], width, label='Na+ True', color=colors[0], edgecolor='black')\n",
    "ax.bar(np.arange(1,bar_no*4+1,bar_no), auc_array[:,1], width, label='Comb Pred', color=colors[1], edgecolor='black')\n",
    "ax.bar(np.arange(2,bar_no*4+2,bar_no), auc_array[:,2], width, label='Noise1 (x1)', color=colors[1], hatch='+', edgecolor='black')\n",
    "ax.bar(np.arange(3,bar_no*4+3,bar_no), auc_array[:,3], width, label='Na+ True & No Na+ Pred', color=colors[2], edgecolor='black')\n",
    "ax.bar(np.arange(4,bar_no*4+4,bar_no), auc_array[:,4], width, label='Noise2 (x1)', color=colors[2], hatch='+', edgecolor='black')\n",
    "ax.bar(np.arange(5,bar_no*4+5,bar_no), auc_array[:,5], width, label='Na+ Pred & No Na+ True', color=colors[3], edgecolor='black')\n",
    "ax.bar(np.arange(6,bar_no*4+6,bar_no), auc_array[:,6], width, label='Noise3 (x1)', color=colors[3], hatch='+++', edgecolor='black')\n",
    "\n",
    "ax.legend()\n",
    "ax.set_xticks(np.arange(bar_no//2-1,bar_no*4+bar_no//2-1,bar_no))\n",
    "ax.set_xticklabels([\"1ms\",\"2ms\",\"5ms\",\"10ms\"])\n",
    "ax.set_ylabel(\"Prec-Rec AUC\")\n",
    "ax.set_title(\"Yes AP, Yes Na+ (NOISE EDITION)\")\n",
    "\n",
    "\n",
    "plt.show()"
   ]
  },
  {
   "cell_type": "code",
   "execution_count": null,
   "id": "11225916",
   "metadata": {},
   "outputs": [],
   "source": []
  }
 ],
 "metadata": {
  "kernelspec": {
   "display_name": "Python 3",
   "language": "python",
   "name": "python3"
  },
  "language_info": {
   "codemirror_mode": {
    "name": "ipython",
    "version": 3
   },
   "file_extension": ".py",
   "mimetype": "text/x-python",
   "name": "python",
   "nbconvert_exporter": "python",
   "pygments_lexer": "ipython3",
   "version": "3.8.8"
  }
 },
 "nbformat": 4,
 "nbformat_minor": 5
}
