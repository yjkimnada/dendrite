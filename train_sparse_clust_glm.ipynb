{
 "cells": [
  {
   "cell_type": "code",
   "execution_count": 1,
   "metadata": {},
   "outputs": [],
   "source": [
    "import numpy as np\n",
    "import torch \n",
    "import torch.nn as nn\n",
    "from tqdm import tnrange\n",
    "import torch.optim as optim\n",
    "import torch.nn.functional as F\n",
    "from sklearn import metrics\n",
    "import matplotlib.pyplot as plt\n",
    "from sklearn.metrics import explained_variance_score\n",
    "import scipy\n",
    "import time\n",
    "\n",
    "from models.sub_sparse_clust_cos_glm import Sub_Sparse_Clust_Cos_GLM"
   ]
  },
  {
   "cell_type": "markdown",
   "metadata": {},
   "source": [
    "# Hyperparameters"
   ]
  },
  {
   "cell_type": "code",
   "execution_count": 2,
   "metadata": {},
   "outputs": [
    {
     "name": "stdout",
     "output_type": "stream",
     "text": [
      "torch.Size([299])\n",
      "torch.Size([8])\n"
     ]
    }
   ],
   "source": [
    "base_dir = \"/media/hdd01/sklee/\"\n",
    "experiment = \"clust4-60\"\n",
    "cell_type = \"CA1\"\n",
    "E_neural_file = \"Espikes_neural.npz\"\n",
    "I_neural_file = \"Ispikes_neural.npz\"\n",
    "#V_file = \"vdata_T10_Ne2000_gA0.6_tauA1_gN0.8_Ni200_gG0.1_gB0.1_Er0.5_Ir7.4_random_NR_rep1000_stimseed1.npy\"\n",
    "V_file = \"V_diff.npy\"\n",
    "eloc_file = \"Elocs_T10_Ne2000_gA0.6_tauA1_gN0.8_Ni200_gG0.1_gB0.1_Er0.5_Ir7.4_random_NR_rep1000_stimseed1.npy\"\n",
    "iloc_file = \"Ilocs_T10_Ne2000_gA0.6_tauA1_gN0.8_Ni200_gG0.1_gB0.1_Er0.5_Ir7.4_random_NR_rep1000_stimseed1.npy\"\n",
    "\n",
    "E_neural = scipy.sparse.load_npz(base_dir+cell_type+\"_\"+experiment+\"/data/\"+E_neural_file)\n",
    "I_neural = scipy.sparse.load_npz(base_dir+cell_type+\"_\"+experiment+\"/data/\"+I_neural_file)\n",
    "#V = np.load(base_dir+cell_type+\"_\"+experiment+\"/data/\"+V_file)[:,:50000].flatten()\n",
    "V = np.load(base_dir+cell_type+\"_\"+experiment+\"/data/\"+V_file)\n",
    "V = torch.from_numpy(V)\n",
    "#V -= torch.mean(V)\n",
    "eloc = np.load(base_dir+cell_type+\"_\"+experiment+\"/data/\"+eloc_file)\n",
    "iloc = np.load(base_dir+cell_type+\"_\"+experiment+\"/data/\"+iloc_file)\n",
    "\n",
    "den_idx = np.unique(eloc[880:1120,0])\n",
    "e_idx = np.where(np.isin(eloc[:,0], den_idx) == True)[0]\n",
    "i_idx = np.where(np.isin(iloc[:,0], den_idx) == True)[0]\n",
    "e_idx = torch.from_numpy(e_idx)\n",
    "i_idx = torch.from_numpy(i_idx)\n",
    "print(e_idx.size())\n",
    "print(i_idx.size())"
   ]
  },
  {
   "cell_type": "code",
   "execution_count": 3,
   "metadata": {},
   "outputs": [],
   "source": [
    "T_train = 995 * 1000 * 50\n",
    "T_test = 1 * 1000 * 50\n",
    "H_no = 2\n",
    "sub_no = 4\n",
    "#E_no = 2000\n",
    "#I_no = 200\n",
    "E_no = 299\n",
    "I_no = 8\n",
    "T_no = 500\n",
    "device = torch.device(\"cuda\")\n",
    "\n",
    "batch_length = 50000\n",
    "batch_size = 5\n",
    "iter_no = 9950*2\n",
    "epoch_no = iter_no*batch_length*batch_size//T_train "
   ]
  },
  {
   "cell_type": "markdown",
   "metadata": {},
   "source": [
    "# Preprocess"
   ]
  },
  {
   "cell_type": "code",
   "execution_count": 4,
   "metadata": {},
   "outputs": [],
   "source": [
    "V_train = V[:T_train].float()\n",
    "V_test = V[-50000:].to(device).float()\n",
    "\n",
    "test_E_neural = E_neural[-50000:].toarray()\n",
    "test_I_neural = I_neural[-50000:].toarray()\n",
    "train_E_neural = E_neural[:T_train]\n",
    "train_I_neural = I_neural[:T_train]\n",
    "\n",
    "test_E_neural = torch.from_numpy(test_E_neural).float().to(device)\n",
    "test_I_neural = torch.from_numpy(test_I_neural).float().to(device)\n",
    "\n",
    "train_idx = np.empty((epoch_no, T_train//batch_length//batch_size))\n",
    "for i in range(epoch_no):\n",
    "    part_idx = np.arange(0, T_train, batch_length*batch_size)\n",
    "    np.random.shuffle(part_idx)\n",
    "    train_idx[i] = part_idx\n",
    "train_idx = train_idx.flatten()\n",
    "train_idx = torch.from_numpy(train_idx)"
   ]
  },
  {
   "cell_type": "markdown",
   "metadata": {},
   "source": [
    "# Train"
   ]
  },
  {
   "cell_type": "code",
   "execution_count": 5,
   "metadata": {},
   "outputs": [
    {
     "name": "stdout",
     "output_type": "stream",
     "text": [
      "NOT E_scale\n",
      "NOT I_scale\n",
      "NOT W_e_layer1\n",
      "NOT W_i_layer1\n",
      "NOT W_layer2\n",
      "NOT b_layer1\n",
      "C_syn_e_raw\n",
      "C_syn_i_raw\n",
      "NOT V_o\n",
      "1936\n"
     ]
    }
   ],
   "source": [
    "model = Sub_Sparse_Clust_Cos_GLM(sub_no, E_no, I_no, T_no, H_no, device)\n",
    "syn_params = []\n",
    "rest_params = []\n",
    "\n",
    "for name, params in model.named_parameters():\n",
    "    if (name == \"C_syn_e_raw\") or (name == \"C_syn_i_raw\"):\n",
    "        syn_params.append(params)\n",
    "        print(name)\n",
    "    else:\n",
    "        rest_params.append(params)\n",
    "        print(\"NOT\", name)\n",
    "\n",
    "optimizer = torch.optim.Adam(rest_params, lr = 0.005)\n",
    "syn_optimizer = torch.optim.Adam(syn_params, lr = 0.00025)\n",
    "\n",
    "#syn_scheduler = torch.optim.lr_scheduler.StepLR(syn_optimizer, step_size=50, gamma=0.97)\n",
    "\n",
    "model.to(device).float()\n",
    "print(sum(p.numel() for p in model.parameters() if p.requires_grad))"
   ]
  },
  {
   "cell_type": "code",
   "execution_count": 6,
   "metadata": {
    "scrolled": false
   },
   "outputs": [
    {
     "data": {
      "application/vnd.jupyter.widget-view+json": {
       "model_id": "df5ea8861d834e2bbd3e965ae511e64e",
       "version_major": 2,
       "version_minor": 0
      },
      "text/plain": [
       "HBox(children=(HTML(value=''), FloatProgress(value=0.0, max=19900.0), HTML(value='')))"
      ]
     },
     "metadata": {},
     "output_type": "display_data"
    },
    {
     "name": "stdout",
     "output_type": "stream",
     "text": [
      "0 0.100613 0.0002 1.35 1.3667 1.6833 1.4667\n",
      "1.35 1.2192 1.3726 1.5412\n",
      "------------------------\n",
      "49 0.183506 0.0087 1.3 1.3833 1.6667 1.4667\n",
      "1.3322 1.1556 1.3785 1.5412\n",
      "------------------------\n",
      "99 0.190572 0.0173 1.2833 1.3833 1.65 1.4667\n",
      "1.2912 1.1556 1.3839 1.5412\n",
      "------------------------\n",
      "149 0.169382 0.026 1.1667 1.3333 1.6833 1.45\n",
      "1.1921 1.1412 1.3048 1.5398\n",
      "------------------------\n",
      "199 0.151126 0.0346 1.1167 1.3333 1.6833 1.5833\n",
      "1.1556 1.1412 1.3048 1.5353\n",
      "------------------------\n",
      "249 0.144172 0.0433 1.0667 1.3167 1.7 1.6167\n",
      "1.1141 1.1692 1.2644 1.5285\n",
      "------------------------\n",
      "299 0.138584 0.052 1.0167 1.35 1.7167 1.6\n",
      "1.0675 1.2144 1.2912 1.5322\n",
      "------------------------\n",
      "349 0.143674 0.0606 1.0167 1.35 1.7167 1.6\n",
      "1.0675 1.2144 1.2912 1.5322\n",
      "------------------------\n",
      "399 0.124833 0.0693 1.0333 1.3167 1.7333 1.6333\n",
      "1.0836 1.237 1.2497 1.5582\n",
      "------------------------\n",
      "449 0.129827 0.078 1.0667 1.3167 1.5667 1.6333\n",
      "1.0802 1.2709 1.2328 1.5582\n",
      "------------------------\n",
      "499 0.133052 0.0866 1.0667 1.3333 1.5 1.6667\n",
      "1.0802 1.2768 1.2034 1.5819\n",
      "------------------------\n",
      "549 0.137108 0.0953 1.0667 1.2833 1.5 1.7667\n",
      "1.0802 1.2573 1.2034 1.5718\n",
      "------------------------\n",
      "599 0.12903 0.1039 1.0667 1.2333 1.45 1.85\n",
      "1.0802 1.2328 1.1669 1.5873\n",
      "------------------------\n",
      "649 0.115359 0.1126 1.0667 1.25 1.5167 1.9\n",
      "1.0802 1.2415 1.1353 1.5492\n",
      "------------------------\n",
      "699 0.096152 0.1213 1.0167 1.2 1.55 1.9833\n",
      "1.0336 1.2136 1.1331 1.5082\n",
      "------------------------\n",
      "749 0.074483 0.1299 1.0167 1.2167 1.5333 2.0833\n",
      "1.0336 1.2234 1.1684 1.3997\n",
      "------------------------\n",
      "799 0.049493 0.1386 1.0 1.2167 1.5167 2.2\n",
      "1.0169 1.2234 1.1692 1.2814\n",
      "------------------------\n",
      "849 0.056756 0.1472 0.9833 1.1833 1.4833 2.2\n",
      "0.9997 1.2031 1.1353 1.2814\n",
      "------------------------\n",
      "899 0.015237 0.1559 1.0 1.15 1.45 2.2\n",
      "0.9492 1.1805 1.0992 1.2814\n",
      "------------------------\n",
      "949 -0.008098 0.1646 0.9833 1.15 1.4333 2.2667\n",
      "0.9319 1.2144 1.0294 1.1819\n",
      "------------------------\n",
      "999 -0.016086 0.1732 0.95 1.15 1.4333 2.3667\n",
      "0.9297 1.2144 1.0294 1.0158\n",
      "------------------------\n",
      "1049 -0.034539 0.1819 0.95 1.0667 1.4 2.3667\n",
      "0.9297 1.2158 0.9898 1.0158\n",
      "------------------------\n",
      "1099 -0.069438 0.1906 0.95 1.0333 1.4 2.3667\n",
      "0.9297 1.2192 0.9898 1.0158\n",
      "------------------------\n",
      "1149 -0.056293 0.1992 0.95 1.0 1.3667 2.4\n",
      "0.9297 1.2203 0.948 0.922\n",
      "------------------------\n",
      "1199 -0.053853 0.2079 0.9167 0.9167 1.3833 2.4667\n",
      "0.9251 1.1624 0.9184 0.7955\n",
      "------------------------\n",
      "1249 -0.086677 0.2165 0.9333 0.9 1.4333 2.4667\n",
      "0.9785 1.1763 0.9955 0.7955\n",
      "------------------------\n",
      "1299 -0.125555 0.2252 0.9333 0.8167 1.4167 2.5\n",
      "0.9785 1.1014 0.9251 0.6949\n",
      "------------------------\n",
      "1349 -0.152412 0.2339 0.9333 0.75 1.4167 2.5833\n",
      "0.9785 1.0381 0.9251 0.5523\n",
      "------------------------\n",
      "1399 -0.15467 0.2425 1.0 0.7667 1.4167 2.6\n",
      "1.0169 1.0633 0.9251 0.5492\n",
      "------------------------\n",
      "1449 -0.144696 0.2512 0.9667 0.7333 1.4167 2.6333\n",
      "0.9819 1.1141 0.9251 0.5412\n",
      "------------------------\n",
      "1499 -0.089689 0.2599 1.0167 0.7 1.45 2.6333\n",
      "1.0336 1.1288 0.9636 0.5412\n",
      "------------------------\n",
      "1549 -0.103518 0.2685 1.0 0.6833 1.5 2.6333\n",
      "0.9831 1.1353 0.9661 0.5412\n",
      "------------------------\n",
      "1599 -0.121366 0.2772 1.0 0.65 1.4667 2.7\n",
      "0.9831 1.1127 0.9311 0.4847\n",
      "------------------------\n",
      "1649 -0.05792 0.2858 1.05 0.5833 1.5333 2.7\n",
      "1.0314 1.0607 0.9989 0.4847\n",
      "------------------------\n",
      "1699 -0.103062 0.2945 1.0833 0.5167 1.6 2.7\n",
      "0.9929 0.9997 1.0576 0.4847\n",
      "------------------------\n",
      "1749 -0.109228 0.3032 1.1 0.5167 1.6 2.7\n",
      "0.9729 0.9997 1.0576 0.4847\n",
      "------------------------\n",
      "1799 -0.066405 0.3118 1.0833 0.4833 1.7167 2.7\n",
      "0.959 0.9658 1.0879 0.4847\n",
      "------------------------\n",
      "1849 -0.051824 0.3205 1.1333 0.3833 1.7167 2.6833\n",
      "0.9989 0.7489 1.0879 0.4912\n",
      "------------------------\n",
      "1899 -0.038002 0.3291 1.15 0.4 1.7167 2.7\n",
      "0.9771 0.7864 1.0879 0.4847\n",
      "------------------------\n",
      "1949 -0.067186 0.3378 1.2 0.3833 1.7167 2.7\n",
      "1.0102 0.7489 1.0879 0.4847\n",
      "------------------------\n",
      "1999 -0.058281 0.3465 1.2167 0.4 1.7833 2.7167\n",
      "1.0201 0.7864 1.1218 0.4438\n",
      "------------------------\n",
      "2049 -0.05079 0.3551 1.25 0.4 1.8 2.7167\n",
      "1.0381 0.7864 1.078 0.4438\n",
      "------------------------\n",
      "2099 -0.049429 0.3638 1.2667 0.4 1.85 2.7667\n",
      "1.0124 0.7864 1.1466 0.4192\n",
      "------------------------\n",
      "2149 0.026503 0.3725 1.3167 0.4 1.9333 2.75\n",
      "1.0336 0.7864 1.1141 0.428\n",
      "------------------------\n",
      "2199 0.059319 0.3811 1.3333 0.4167 2.0333 2.75\n",
      "1.0056 0.8234 1.1175 0.428\n",
      "------------------------\n",
      "2249 0.05241 0.3898 1.35 0.4167 2.1 2.75\n",
      "1.011 0.8234 1.1085 0.428\n",
      "------------------------\n",
      "2299 0.071719 0.3984 1.4167 0.3333 2.15 2.7833\n",
      "0.9929 0.6667 1.0449 0.4099\n",
      "------------------------\n",
      "2349 0.053628 0.4071 1.4833 0.3333 2.2167 2.8\n",
      "1.0336 0.6667 1.0201 0.4\n",
      "------------------------\n",
      "2399 0.097848 0.4158 1.55 0.2833 2.25 2.7833\n",
      "0.9975 0.5455 1.0042 0.4099\n",
      "------------------------\n",
      "2449 0.125887 0.4244 1.65 0.2833 2.2833 2.7833\n",
      "0.9432 0.5455 0.9862 0.4099\n",
      "------------------------\n",
      "2499 0.108948 0.4331 1.6667 0.2833 2.3167 2.8\n",
      "0.904 0.5455 0.9658 0.4\n",
      "------------------------\n",
      "2549 0.120001 0.4417 1.7 0.2833 2.3167 2.8\n",
      "0.8576 0.5455 0.9658 0.4\n",
      "------------------------\n",
      "2599 0.129819 0.4504 1.75 0.2833 2.3167 2.8\n",
      "0.8008 0.5455 0.9658 0.4\n",
      "------------------------\n",
      "2649 0.143767 0.4591 1.75 0.2 2.3167 2.8\n",
      "0.7331 0.3661 0.9658 0.4\n",
      "------------------------\n",
      "2699 0.131966 0.4677 1.8167 0.1667 2.3167 2.8167\n",
      "0.7285 0.3107 0.9658 0.3556\n",
      "------------------------\n",
      "2749 0.131308 0.4764 1.85 0.1667 2.3167 2.8167\n",
      "0.7059 0.3107 0.9658 0.3556\n",
      "------------------------\n",
      "2799 0.152937 0.4851 1.8667 0.1667 2.3167 2.8\n",
      "0.6938 0.3107 0.9658 0.3661\n",
      "------------------------\n",
      "2849 0.180606 0.4937 1.8667 0.1333 2.35 2.8333\n",
      "0.6938 0.2531 0.9432 0.2429\n",
      "------------------------\n",
      "2899 0.170824 0.5024 1.9167 0.1333 2.35 2.85\n",
      "0.654 0.2531 0.9432 0.2314\n",
      "------------------------\n",
      "2949 0.223172 0.511 1.9167 0.1333 2.35 2.85\n",
      "0.654 0.2531 0.9432 0.2314\n",
      "------------------------\n",
      "2999 0.213655 0.5197 1.9167 0.1333 2.35 2.85\n",
      "0.654 0.2531 0.9432 0.2314\n",
      "------------------------\n",
      "3049 0.239533 0.5284 1.9167 0.1333 2.35 2.85\n",
      "0.654 0.2531 0.9432 0.2314\n",
      "------------------------\n",
      "3099 0.259574 0.537 1.9167 0.1333 2.35 2.85\n",
      "0.654 0.2531 0.9432 0.2314\n",
      "------------------------\n",
      "3149 0.24182 0.5457 1.9167 0.1333 2.35 2.85\n",
      "0.654 0.2531 0.9432 0.2314\n",
      "------------------------\n",
      "3199 0.284358 0.5544 1.9167 0.1333 2.35 2.85\n",
      "0.654 0.2531 0.9432 0.2314\n",
      "------------------------\n",
      "3249 0.287274 0.563 1.9167 0.1333 2.35 2.85\n",
      "0.654 0.2531 0.9432 0.2314\n",
      "------------------------\n",
      "3299 0.306941 0.5717 1.9167 0.1333 2.35 2.85\n",
      "0.654 0.2531 0.9432 0.2314\n",
      "------------------------\n",
      "3349 0.302952 0.5803 1.9167 0.1333 2.35 2.85\n",
      "0.654 0.2531 0.9432 0.2314\n",
      "------------------------\n",
      "3399 0.316102 0.589 1.9167 0.1333 2.35 2.85\n",
      "0.654 0.2531 0.9432 0.2314\n",
      "------------------------\n",
      "3449 0.331006 0.5977 1.9167 0.1333 2.35 2.85\n",
      "0.654 0.2531 0.9432 0.2314\n",
      "------------------------\n",
      "3499 0.318035 0.6063 1.9167 0.1333 2.35 2.85\n",
      "0.654 0.2531 0.9432 0.2314\n",
      "------------------------\n",
      "3549 0.341938 0.615 1.9167 0.1333 2.35 2.85\n",
      "0.654 0.2531 0.9432 0.2314\n",
      "------------------------\n",
      "3599 0.33734 0.6236 1.9167 0.1333 2.35 2.85\n",
      "0.654 0.2531 0.9432 0.2314\n",
      "------------------------\n",
      "3649 0.340446 0.6323 1.9167 0.1333 2.35 2.85\n",
      "0.654 0.2531 0.9432 0.2314\n",
      "------------------------\n",
      "3699 0.333771 0.641 1.9167 0.1333 2.35 2.85\n",
      "0.654 0.2531 0.9432 0.2314\n",
      "------------------------\n",
      "3749 0.343074 0.6496 1.9167 0.1333 2.35 2.85\n",
      "0.654 0.2531 0.9432 0.2314\n",
      "------------------------\n",
      "3799 0.342246 0.6583 1.9167 0.1333 2.35 2.85\n",
      "0.654 0.2531 0.9432 0.2314\n",
      "------------------------\n",
      "3849 0.340162 0.667 1.9167 0.1333 2.35 2.85\n",
      "0.654 0.2531 0.9432 0.2314\n",
      "------------------------\n",
      "3899 0.343778 0.6756 1.9167 0.1333 2.35 2.85\n",
      "0.654 0.2531 0.9432 0.2314\n",
      "------------------------\n",
      "3949 0.345336 0.6843 1.9167 0.1333 2.35 2.85\n",
      "0.654 0.2531 0.9432 0.2314\n",
      "------------------------\n",
      "3999 0.349748 0.6929 1.9167 0.1333 2.35 2.85\n",
      "0.654 0.2531 0.9432 0.2314\n",
      "------------------------\n",
      "4049 0.338329 0.7016 1.9167 0.1333 2.35 2.85\n",
      "0.654 0.2531 0.9432 0.2314\n",
      "------------------------\n",
      "4099 0.354334 0.7103 1.9167 0.1333 2.35 2.85\n",
      "0.654 0.2531 0.9432 0.2314\n",
      "------------------------\n",
      "4149 0.345208 0.7189 1.9167 0.1333 2.35 2.85\n",
      "0.654 0.2531 0.9432 0.2314\n",
      "------------------------\n",
      "4199 0.359048 0.7276 1.9167 0.1333 2.35 2.85\n",
      "0.654 0.2531 0.9432 0.2314\n",
      "------------------------\n"
     ]
    },
    {
     "name": "stdout",
     "output_type": "stream",
     "text": [
      "4249 0.349259 0.7362 1.9167 0.1333 2.35 2.85\n",
      "0.654 0.2531 0.9432 0.2314\n",
      "------------------------\n",
      "4299 0.348967 0.7449 1.9167 0.1333 2.35 2.85\n",
      "0.654 0.2531 0.9432 0.2314\n",
      "------------------------\n",
      "4349 0.355727 0.7536 1.9167 0.1333 2.35 2.85\n",
      "0.654 0.2531 0.9432 0.2314\n",
      "------------------------\n",
      "4399 0.337733 0.7622 1.9167 0.1333 2.35 2.85\n",
      "0.654 0.2531 0.9432 0.2314\n",
      "------------------------\n",
      "4449 0.353864 0.7709 1.9167 0.1333 2.35 2.85\n",
      "0.654 0.2531 0.9432 0.2314\n",
      "------------------------\n",
      "4499 0.344418 0.7796 1.9167 0.1333 2.35 2.85\n",
      "0.654 0.2531 0.9432 0.2314\n",
      "------------------------\n",
      "4549 0.349913 0.7882 1.9167 0.1333 2.35 2.85\n",
      "0.654 0.2531 0.9432 0.2314\n",
      "------------------------\n",
      "4599 0.350329 0.7969 1.9167 0.1333 2.35 2.85\n",
      "0.654 0.2531 0.9432 0.2314\n",
      "------------------------\n",
      "4649 0.351909 0.8055 1.9167 0.1333 2.35 2.85\n",
      "0.654 0.2531 0.9432 0.2314\n",
      "------------------------\n",
      "4699 0.348224 0.8142 1.9167 0.1333 2.35 2.85\n",
      "0.654 0.2531 0.9432 0.2314\n",
      "------------------------\n",
      "\n"
     ]
    },
    {
     "ename": "KeyboardInterrupt",
     "evalue": "",
     "output_type": "error",
     "traceback": [
      "\u001b[0;31m---------------------------------------------------------------------------\u001b[0m",
      "\u001b[0;31mKeyboardInterrupt\u001b[0m                         Traceback (most recent call last)",
      "\u001b[0;32m<ipython-input-6-9cfcae6b16a0>\u001b[0m in \u001b[0;36m<module>\u001b[0;34m\u001b[0m\n\u001b[1;32m     29\u001b[0m     \u001b[0mloss\u001b[0m \u001b[0;34m=\u001b[0m \u001b[0mtorch\u001b[0m\u001b[0;34m.\u001b[0m\u001b[0mmean\u001b[0m\u001b[0;34m(\u001b[0m\u001b[0;34m(\u001b[0m\u001b[0mV_pred\u001b[0m \u001b[0;34m-\u001b[0m \u001b[0mbatch_V\u001b[0m\u001b[0;34m[\u001b[0m\u001b[0;34m:\u001b[0m\u001b[0;34m,\u001b[0m\u001b[0;34m:\u001b[0m\u001b[0;34m]\u001b[0m\u001b[0;34m)\u001b[0m\u001b[0;34m**\u001b[0m\u001b[0;36m2\u001b[0m\u001b[0;34m)\u001b[0m\u001b[0;34m\u001b[0m\u001b[0;34m\u001b[0m\u001b[0m\n\u001b[1;32m     30\u001b[0m \u001b[0;34m\u001b[0m\u001b[0m\n\u001b[0;32m---> 31\u001b[0;31m     \u001b[0mloss\u001b[0m\u001b[0;34m.\u001b[0m\u001b[0mbackward\u001b[0m\u001b[0;34m(\u001b[0m\u001b[0;34m)\u001b[0m\u001b[0;34m\u001b[0m\u001b[0;34m\u001b[0m\u001b[0m\n\u001b[0m\u001b[1;32m     32\u001b[0m     \u001b[0moptimizer\u001b[0m\u001b[0;34m.\u001b[0m\u001b[0mstep\u001b[0m\u001b[0;34m(\u001b[0m\u001b[0;34m)\u001b[0m\u001b[0;34m\u001b[0m\u001b[0;34m\u001b[0m\u001b[0m\n\u001b[1;32m     33\u001b[0m     \u001b[0msyn_optimizer\u001b[0m\u001b[0;34m.\u001b[0m\u001b[0mstep\u001b[0m\u001b[0;34m(\u001b[0m\u001b[0;34m)\u001b[0m\u001b[0;34m\u001b[0m\u001b[0;34m\u001b[0m\u001b[0m\n",
      "\u001b[0;32m~/anaconda3/lib/python3.8/site-packages/torch/tensor.py\u001b[0m in \u001b[0;36mbackward\u001b[0;34m(self, gradient, retain_graph, create_graph)\u001b[0m\n\u001b[1;32m    219\u001b[0m                 \u001b[0mretain_graph\u001b[0m\u001b[0;34m=\u001b[0m\u001b[0mretain_graph\u001b[0m\u001b[0;34m,\u001b[0m\u001b[0;34m\u001b[0m\u001b[0;34m\u001b[0m\u001b[0m\n\u001b[1;32m    220\u001b[0m                 create_graph=create_graph)\n\u001b[0;32m--> 221\u001b[0;31m         \u001b[0mtorch\u001b[0m\u001b[0;34m.\u001b[0m\u001b[0mautograd\u001b[0m\u001b[0;34m.\u001b[0m\u001b[0mbackward\u001b[0m\u001b[0;34m(\u001b[0m\u001b[0mself\u001b[0m\u001b[0;34m,\u001b[0m \u001b[0mgradient\u001b[0m\u001b[0;34m,\u001b[0m \u001b[0mretain_graph\u001b[0m\u001b[0;34m,\u001b[0m \u001b[0mcreate_graph\u001b[0m\u001b[0;34m)\u001b[0m\u001b[0;34m\u001b[0m\u001b[0;34m\u001b[0m\u001b[0m\n\u001b[0m\u001b[1;32m    222\u001b[0m \u001b[0;34m\u001b[0m\u001b[0m\n\u001b[1;32m    223\u001b[0m     \u001b[0;32mdef\u001b[0m \u001b[0mregister_hook\u001b[0m\u001b[0;34m(\u001b[0m\u001b[0mself\u001b[0m\u001b[0;34m,\u001b[0m \u001b[0mhook\u001b[0m\u001b[0;34m)\u001b[0m\u001b[0;34m:\u001b[0m\u001b[0;34m\u001b[0m\u001b[0;34m\u001b[0m\u001b[0m\n",
      "\u001b[0;32m~/anaconda3/lib/python3.8/site-packages/torch/autograd/__init__.py\u001b[0m in \u001b[0;36mbackward\u001b[0;34m(tensors, grad_tensors, retain_graph, create_graph, grad_variables)\u001b[0m\n\u001b[1;32m    128\u001b[0m         \u001b[0mretain_graph\u001b[0m \u001b[0;34m=\u001b[0m \u001b[0mcreate_graph\u001b[0m\u001b[0;34m\u001b[0m\u001b[0;34m\u001b[0m\u001b[0m\n\u001b[1;32m    129\u001b[0m \u001b[0;34m\u001b[0m\u001b[0m\n\u001b[0;32m--> 130\u001b[0;31m     Variable._execution_engine.run_backward(\n\u001b[0m\u001b[1;32m    131\u001b[0m         \u001b[0mtensors\u001b[0m\u001b[0;34m,\u001b[0m \u001b[0mgrad_tensors_\u001b[0m\u001b[0;34m,\u001b[0m \u001b[0mretain_graph\u001b[0m\u001b[0;34m,\u001b[0m \u001b[0mcreate_graph\u001b[0m\u001b[0;34m,\u001b[0m\u001b[0;34m\u001b[0m\u001b[0;34m\u001b[0m\u001b[0m\n\u001b[1;32m    132\u001b[0m         allow_unreachable=True)  # allow_unreachable flag\n",
      "\u001b[0;31mKeyboardInterrupt\u001b[0m: "
     ]
    }
   ],
   "source": [
    "import sys\n",
    "if not sys.warnoptions:\n",
    "    import warnings\n",
    "    warnings.simplefilter(\"ignore\")\n",
    "\n",
    "score_list = []\n",
    "rad_max = np.round(np.sqrt((sub_no-1)/sub_no**2 + (1-1/sub_no)**2), 4)\n",
    "rad_list = np.linspace(0,rad_max,5000)\n",
    "rad_count = 0\n",
    "\n",
    "for i in tnrange(iter_no):\n",
    "    model.train()\n",
    "    optimizer.zero_grad()\n",
    "    syn_optimizer.zero_grad()\n",
    "    \n",
    "    if (rad_count < 4999):\n",
    "        rad_count += 1\n",
    "    rad = rad_list[rad_count]\n",
    "    \n",
    "    batch_idx = train_idx[i].long()\n",
    "    batch_E_neural = train_E_neural[batch_idx : batch_idx+batch_length*batch_size].toarray().reshape(batch_size, batch_length, -1)\n",
    "    batch_I_neural = train_I_neural[batch_idx : batch_idx+batch_length*batch_size].toarray().reshape(batch_size, batch_length, -1)\n",
    "    batch_E_neural = torch.from_numpy(batch_E_neural).float().to(device)\n",
    "    batch_I_neural = torch.from_numpy(batch_I_neural).float().to(device)\n",
    "    batch_V = V_train[batch_idx : batch_idx+batch_length*batch_size].reshape(batch_size, -1).to(device)\n",
    "    \n",
    "    #V_pred, _, _ = model(batch_E_neural[:,:,:], batch_I_neural[:,:,:], rad, False)\n",
    "    V_pred, _, _ = model(batch_E_neural[:,:,e_idx], batch_I_neural[:,:,i_idx], rad, False)\n",
    "    loss = torch.mean((V_pred - batch_V[:,:])**2)\n",
    "    \n",
    "    loss.backward()\n",
    "    optimizer.step()\n",
    "    syn_optimizer.step()\n",
    "    #syn_scheduler.step()\n",
    "    \n",
    "    if (i%50 == 49) or (i == 0):\n",
    "        model.eval()\n",
    "        #test_V_pred, test_C_syn_e, test_C_syn_i = model(test_E_neural.unsqueeze(0)[:,:,:], test_I_neural.unsqueeze(0)[:,:,:], -1, True)\n",
    "        test_V_pred, test_C_syn_e, test_C_syn_i = model(test_E_neural.unsqueeze(0)[:,:,e_idx], test_I_neural.unsqueeze(0)[:,:,i_idx], -1, True)\n",
    "        test_V_pred = test_V_pred.flatten()\n",
    "                 \n",
    "        test_score = explained_variance_score(V_test[:].cpu().detach().numpy(), test_V_pred.cpu().detach().numpy())\n",
    "        test_mse = torch.mean((V_test[:]-test_V_pred)**2).item()\n",
    "        score_list.append(test_score)\n",
    "        \n",
    "        #C_syn_idx = torch.argmax(test_C_syn_e[:,880:1120], 0).float()\n",
    "        C_syn_idx = torch.argmax(test_C_syn_e, 0).float()\n",
    "                        \n",
    "        \"\"\"   \n",
    "        print(i, np.round(test_score,6),\n",
    "              np.round(torch.mean(C_syn_idx[:60]).item(), 4),\n",
    "             np.round(torch.mean(C_syn_idx[60:120]).item(), 4),\n",
    "             np.round(torch.mean(C_syn_idx[120:180]).item(), 4),\n",
    "             np.round(torch.mean(C_syn_idx[180:240]).item(), 4))\n",
    "        print(np.round(torch.var(C_syn_idx[:60]).item(), 4),\n",
    "             np.round(torch.var(C_syn_idx[60:120]).item(), 4),\n",
    "             np.round(torch.var(C_syn_idx[120:180]).item(), 4),\n",
    "             np.round(torch.var(C_syn_idx[180:240]).item(), 4))\n",
    "        print(\"------------------------\")\n",
    "        \"\"\"\n",
    "        print(i, np.round(test_score,6),\n",
    "              np.round(rad, 4),\n",
    "              np.round(torch.mean(C_syn_idx[29:89]).item(), 4),\n",
    "             np.round(torch.mean(C_syn_idx[89:149]).item(), 4),\n",
    "             np.round(torch.mean(C_syn_idx[149:209]).item(), 4),\n",
    "             np.round(torch.mean(C_syn_idx[209:269]).item(), 4))\n",
    "        print(np.round(torch.var(C_syn_idx[29:89]).item(), 4),\n",
    "             np.round(torch.var(C_syn_idx[89:149]).item(), 4),\n",
    "             np.round(torch.var(C_syn_idx[149:209]).item(), 4),\n",
    "             np.round(torch.var(C_syn_idx[209:269]).item(), 4))\n",
    "        print(\"------------------------\")"
   ]
  },
  {
   "cell_type": "code",
   "execution_count": null,
   "metadata": {},
   "outputs": [],
   "source": [
    "# Stalls at 2400"
   ]
  },
  {
   "cell_type": "code",
   "execution_count": 7,
   "metadata": {},
   "outputs": [],
   "source": [
    "C_syn_plot = np.zeros((E_no))\n",
    "\n",
    "for e in range(E_no):\n",
    "    C_syn_plot[e] = torch.argmax(model.C_syn_e_raw[:,e])"
   ]
  },
  {
   "cell_type": "code",
   "execution_count": 8,
   "metadata": {},
   "outputs": [
    {
     "data": {
      "text/plain": [
       "<matplotlib.collections.PathCollection at 0x7f5964313910>"
      ]
     },
     "execution_count": 8,
     "metadata": {},
     "output_type": "execute_result"
    },
    {
     "data": {
      "image/png": "[encoded data removed]",
      "text/plain": [
       "<Figure size 1080x360 with 1 Axes>"
      ]
     },
     "metadata": {
      "needs_background": "light"
     },
     "output_type": "display_data"
    }
   ],
   "source": [
    "plt.figure(figsize = (15,5))\n",
    "plt.scatter(np.arange(E_no), C_syn_plot, s=1)"
   ]
  },
  {
   "cell_type": "code",
   "execution_count": 7,
   "metadata": {},
   "outputs": [
    {
     "ename": "NameError",
     "evalue": "name 'C_syn_plot' is not defined",
     "output_type": "error",
     "traceback": [
      "\u001b[0;31m---------------------------------------------------------------------------\u001b[0m",
      "\u001b[0;31mNameError\u001b[0m                                 Traceback (most recent call last)",
      "\u001b[0;32m<ipython-input-7-8aacab481c0b>\u001b[0m in \u001b[0;36m<module>\u001b[0;34m\u001b[0m\n\u001b[1;32m      1\u001b[0m \u001b[0mplt\u001b[0m\u001b[0;34m.\u001b[0m\u001b[0mfigure\u001b[0m\u001b[0;34m(\u001b[0m\u001b[0mfigsize\u001b[0m \u001b[0;34m=\u001b[0m \u001b[0;34m(\u001b[0m\u001b[0;36m15\u001b[0m\u001b[0;34m,\u001b[0m\u001b[0;36m5\u001b[0m\u001b[0;34m)\u001b[0m\u001b[0;34m)\u001b[0m\u001b[0;34m\u001b[0m\u001b[0;34m\u001b[0m\u001b[0m\n\u001b[0;32m----> 2\u001b[0;31m \u001b[0mplt\u001b[0m\u001b[0;34m.\u001b[0m\u001b[0mscatter\u001b[0m\u001b[0;34m(\u001b[0m\u001b[0mnp\u001b[0m\u001b[0;34m.\u001b[0m\u001b[0marange\u001b[0m\u001b[0;34m(\u001b[0m\u001b[0;36m240\u001b[0m\u001b[0;34m)\u001b[0m\u001b[0;34m,\u001b[0m \u001b[0mC_syn_plot\u001b[0m\u001b[0;34m[\u001b[0m\u001b[0;36m880\u001b[0m\u001b[0;34m:\u001b[0m\u001b[0;36m1120\u001b[0m\u001b[0;34m]\u001b[0m\u001b[0;34m,\u001b[0m \u001b[0ms\u001b[0m\u001b[0;34m=\u001b[0m\u001b[0;36m1\u001b[0m\u001b[0;34m)\u001b[0m\u001b[0;34m\u001b[0m\u001b[0;34m\u001b[0m\u001b[0m\n\u001b[0m",
      "\u001b[0;31mNameError\u001b[0m: name 'C_syn_plot' is not defined"
     ]
    },
    {
     "data": {
      "text/plain": [
       "<Figure size 1080x360 with 0 Axes>"
      ]
     },
     "metadata": {},
     "output_type": "display_data"
    }
   ],
   "source": [
    "plt.figure(figsize = (15,5))\n",
    "plt.scatter(np.arange(240), C_syn_plot[880:1120], s=1)"
   ]
  },
  {
   "cell_type": "code",
   "execution_count": 10,
   "metadata": {},
   "outputs": [
    {
     "data": {
      "text/plain": [
       "<matplotlib.collections.PathCollection at 0x7f834d131d60>"
      ]
     },
     "execution_count": 10,
     "metadata": {},
     "output_type": "execute_result"
    },
    {
     "data": {
      "image/png": "[encoded data removed]",
      "text/plain": [
       "<Figure size 1080x360 with 1 Axes>"
      ]
     },
     "metadata": {
      "needs_background": "light"
     },
     "output_type": "display_data"
    }
   ],
   "source": [
    "plt.figure(figsize = (15,5))\n",
    "plt.scatter(np.arange(E_no), np.exp(model.E_scale.cpu().detach().numpy()), s=1)"
   ]
  },
  {
   "cell_type": "code",
   "execution_count": 18,
   "metadata": {},
   "outputs": [],
   "source": [
    "#torch.save(model.state_dict(), \"/media/hdd01/sklee/CA1_clust4-60/glm_diff_clust_s8_h2.pt\")\n",
    "\n",
    "#np.savez(\"/media/hdd01/sklee/CA1_clust4-60/glm_diff_clust_s8_h2_output.npz\",\n",
    "         test = test_V_pred.cpu().detach().numpy().flatten(),\n",
    "         kern_e = kern_e,\n",
    "         kern_i = kern_i,\n",
    "         scale_e = scale_e,\n",
    "         scale_i = scale_i,\n",
    "         C_syn_e = C_syn_e,\n",
    "         C_syn_i = C_syn_i)"
   ]
  },
  {
   "cell_type": "code",
   "execution_count": null,
   "metadata": {},
   "outputs": [],
   "source": []
  }
 ],
 "metadata": {
  "kernelspec": {
   "display_name": "Python 3",
   "language": "python",
   "name": "python3"
  },
  "language_info": {
   "codemirror_mode": {
    "name": "ipython",
    "version": 3
   },
   "file_extension": ".py",
   "mimetype": "text/x-python",
   "name": "python",
   "nbconvert_exporter": "python",
   "pygments_lexer": "ipython3",
   "version": "3.8.5"
  }
 },
 "nbformat": 4,
 "nbformat_minor": 4
}
