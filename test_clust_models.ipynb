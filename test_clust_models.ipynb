{
 "cells": [
  {
   "cell_type": "code",
   "execution_count": 1,
   "metadata": {},
   "outputs": [],
   "source": [
    "import numpy as np\n",
    "import torch \n",
    "import torch.nn as nn\n",
    "from tqdm import tnrange\n",
    "import torch.optim as optim\n",
    "import torch.nn.functional as F\n",
    "from sklearn import metrics\n",
    "import matplotlib.pyplot as plt\n",
    "from sklearn.metrics import explained_variance_score\n",
    "import scipy\n",
    "import time\n",
    "\n",
    "from models.sub_clust_cos_glm import Sub_Clust_Cos_GLM\n",
    "from models.clust_gru import Clust_GRU"
   ]
  },
  {
   "cell_type": "code",
   "execution_count": 2,
   "metadata": {},
   "outputs": [],
   "source": [
    "base_dir = \"/media/hdd01/sklee/\"\n",
    "experiment = \"clust12-20_noNA\"\n",
    "cell_type = \"CA1\"\n",
    "E_neural_file = \"Espikes_neural.npz\"\n",
    "I_neural_file = \"Ispikes_neural.npz\"\n",
    "model_type = \"gru\"\n",
    "\n",
    "E_neural = scipy.sparse.load_npz(base_dir+cell_type+\"_\"+experiment+\"/data/\"+E_neural_file)\n",
    "I_neural = scipy.sparse.load_npz(base_dir+cell_type+\"_\"+experiment+\"/data/\"+I_neural_file)"
   ]
  },
  {
   "cell_type": "code",
   "execution_count": 3,
   "metadata": {},
   "outputs": [],
   "source": [
    "H_no = 20\n",
    "sub_no = 13\n",
    "E_no = 2000\n",
    "I_no = 200\n",
    "T_no = 500\n",
    "device = torch.device(\"cuda\")"
   ]
  },
  {
   "cell_type": "code",
   "execution_count": 4,
   "metadata": {},
   "outputs": [
    {
     "name": "stdout",
     "output_type": "stream",
     "text": [
      "49014\n"
     ]
    }
   ],
   "source": [
    "if model_type == \"gru\":\n",
    "    model = Clust_GRU(sub_no, E_no, I_no, H_no, device)\n",
    "elif model_type == \"glm\":\n",
    "    model = Sub_Clust_Cos_GLM(sub_no, E_no, I_no, T_no, H_no, device)\n",
    "    \n",
    "model.to(device).float()\n",
    "model.load_state_dict(torch.load(base_dir+cell_type+\"_\"+experiment+\"/clust/\"+model_type+\"_s\"+str(sub_no)+\"_h\"+str(H_no)+\"_pretrain.pt\", map_location=device))\n",
    "model.eval()\n",
    "print(sum(p.numel() for p in model.parameters() if p.requires_grad))"
   ]
  },
  {
   "cell_type": "code",
   "execution_count": null,
   "metadata": {},
   "outputs": [],
   "source": []
  },
  {
   "cell_type": "code",
   "execution_count": null,
   "metadata": {},
   "outputs": [
    {
     "name": "stderr",
     "output_type": "stream",
     "text": [
      "<ipython-input-5-6776e3adcb6a>:5: TqdmDeprecationWarning: Please use `tqdm.notebook.trange` instead of `tqdm.tnrange`\n",
      "  for i in tnrange(20):\n"
     ]
    },
    {
     "data": {
      "application/vnd.jupyter.widget-view+json": {
       "model_id": "87b026fd9ca64d7792dd4eb6bbba7c2d",
       "version_major": 2,
       "version_minor": 0
      },
      "text/plain": [
       "  0%|          | 0/20 [00:00<?, ?it/s]"
      ]
     },
     "metadata": {},
     "output_type": "display_data"
    }
   ],
   "source": [
    "if (model_type == \"gru\"):\n",
    "    test = np.zeros((20,50000))\n",
    "    sub_out = np.zeros((20, sub_no, 50000))\n",
    "\n",
    "    for i in tnrange(20):\n",
    "        if i < 19:\n",
    "            part_E_neural = torch.from_numpy(E_neural[(-20+i)*50000:(-19+i)*50000].toarray()).to(device).float().unsqueeze(0)\n",
    "            part_I_neural = torch.from_numpy(I_neural[(-20+i)*50000:(-19+i)*50000].toarray()).to(device).float().unsqueeze(0)\n",
    "        elif i == 19:\n",
    "            part_E_neural = torch.from_numpy(E_neural[(-20+i)*50000:].toarray()).to(device).float().unsqueeze(0)\n",
    "            part_I_neural = torch.from_numpy(I_neural[(-20+i)*50000:].toarray()).to(device).float().unsqueeze(0)\n",
    "        \n",
    "        part_test, part_sub_out, C_syn_e, C_syn_i = model(part_E_neural, part_I_neural, 0.0001)\n",
    "        test[i] = part_test.cpu().detach().numpy().flatten()\n",
    "        sub_out[i] = part_sub_out.squeeze(0).T.cpu().detach().numpy()\n",
    "        \n",
    "    E_scale = np.exp(model.E_scale.cpu().detach().numpy())\n",
    "    C_syn_e = C_syn_e.cpu().detach().numpy()\n",
    "    C_syn_i = C_syn_i.cpu().detach().numpy()\n",
    "    \n",
    "    np.savez(base_dir+cell_type+\"_\"+experiment+\"/clust/\"+model_type+\"_s\"+str(sub_no)+\"_h\"+str(H_no)+\"_pretrain_output.npz\",\n",
    "        test=test,\n",
    "        sub_out=sub_out,\n",
    "        E_scale = E_scale,\n",
    "            C_syn_e = C_syn_e,\n",
    "            C_syn_i = C_syn_i)\n",
    "\n",
    "    \n",
    "elif (model_type == \"glm\"):\n",
    "    test = np.zeros((20,50000))\n",
    "    nonlin_in = np.zeros((20,sub_no,H_no, 50000))\n",
    "    sub_out = np.zeros((20, sub_no, 50000))\n",
    "    \n",
    "    for i in tnrange(20):\n",
    "        if i < 19:\n",
    "            part_E_neural = torch.from_numpy(E_neural[(-20+i)*50000:(-19+i)*50000].toarray()).to(device).float().unsqueeze(0)\n",
    "            part_I_neural = torch.from_numpy(I_neural[(-20+i)*50000:(-19+i)*50000].toarray()).to(device).float().unsqueeze(0)\n",
    "        elif i == 19:\n",
    "            part_E_neural = torch.from_numpy(E_neural[(-20+i)*50000:].toarray()).to(device).float().unsqueeze(0)\n",
    "            part_I_neural = torch.from_numpy(I_neural[(-20+i)*50000:].toarray()).to(device).float().unsqueeze(0)\n",
    "\n",
    "        part_test, part_sub_out, C_syn_e, C_syn_i = model(part_E_neural, part_I_neural, 0.0001)\n",
    "        test[i] = part_test.cpu().detach().numpy().flatten()\n",
    "        sub_out[i] = part_sub_out.squeeze(0).T.cpu().detach().numpy()\n",
    "        \n",
    "    C_syn_e = C_syn_e.cpu().detach().numpy()\n",
    "    C_syn_i = C_syn_i.cpu().detach().numpy()\n",
    "        \n",
    "    cos_basis_no = 30\n",
    "    scale = 7.5\n",
    "    shift = 1\n",
    "        \n",
    "    kern_basis = torch.zeros(cos_basis_no, T_no).to(device)\n",
    "    for i in range(cos_basis_no):\n",
    "        phi = 1.5707963267948966*i\n",
    "        xmin = phi - 3.141592653589793\n",
    "        xmax = phi + 3.141592653589793\n",
    "\n",
    "        x_in = torch.arange(0, T_no, 1)\n",
    "        raw_cos = scale  * torch.log(x_in + shift + 1e-7)\n",
    "\n",
    "        basis = 0.5*torch.cos(raw_cos - phi) + 0.5\n",
    "        basis[raw_cos < xmin] = 0.0\n",
    "        basis[raw_cos > xmax] = 0.0\n",
    "        kern_basis[i] = basis\n",
    "        \n",
    "    e_kern = torch.matmul(model.W_e_layer1, kern_basis).reshape(sub_no, H_no, T_no).cpu().detach().numpy()\n",
    "    i_kern = torch.matmul(model.W_i_layer1, kern_basis).reshape(sub_no, H_no, T_no).cpu().detach().numpy()\n",
    "    \n",
    "    E_scale = np.exp(model.E_scale.cpu().detach().numpy())\n",
    "    np.savez(base_dir+cell_type+\"_\"+experiment+\"/clust/\"+model_type+\"_s\"+str(sub_no)+\"_h\"+str(H_no)+\"_pretrain_output.npz\",\n",
    "        test=test,\n",
    "        nonlin_in=nonlin_in,\n",
    "        sub_out=sub_out,\n",
    "        e_kern=e_kern,\n",
    "        i_kern=i_kern,\n",
    "        E_scale=E_scale,\n",
    "            C_syn_e = C_syn_e,\n",
    "            C_syn_i = C_syn_i)\n"
   ]
  },
  {
   "cell_type": "code",
   "execution_count": null,
   "metadata": {},
   "outputs": [],
   "source": []
  },
  {
   "cell_type": "code",
   "execution_count": null,
   "metadata": {},
   "outputs": [],
   "source": []
  },
  {
   "cell_type": "code",
   "execution_count": null,
   "metadata": {},
   "outputs": [],
   "source": []
  }
 ],
 "metadata": {
  "kernelspec": {
   "display_name": "Python 3",
   "language": "python",
   "name": "python3"
  },
  "language_info": {
   "codemirror_mode": {
    "name": "ipython",
    "version": 3
   },
   "file_extension": ".py",
   "mimetype": "text/x-python",
   "name": "python",
   "nbconvert_exporter": "python",
   "pygments_lexer": "ipython3",
   "version": "3.8.8"
  }
 },
 "nbformat": 4,
 "nbformat_minor": 4
}
