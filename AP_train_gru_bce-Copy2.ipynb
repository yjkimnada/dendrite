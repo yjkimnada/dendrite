{
 "cells": [
  {
   "cell_type": "code",
   "execution_count": 1,
   "id": "e7faa469",
   "metadata": {},
   "outputs": [],
   "source": [
    "import numpy as np\n",
    "import torch \n",
    "import torch.nn as nn\n",
    "from tqdm import tnrange\n",
    "import torch.optim as optim\n",
    "import torch.nn.functional as F\n",
    "from sklearn import metrics\n",
    "import matplotlib.pyplot as plt\n",
    "import time\n",
    "from sklearn.metrics import explained_variance_score"
   ]
  },
  {
   "cell_type": "code",
   "execution_count": 2,
   "id": "8753064b",
   "metadata": {},
   "outputs": [],
   "source": [
    "class AP_GRU_Lag(nn.Module):\n",
    "    def __init__(self, H_no, lag, device):\n",
    "        super().__init__()\n",
    "        \n",
    "        self.H_no = H_no\n",
    "        self.device = device\n",
    "        \n",
    "        self.rnn = nn.GRU(lag+1, H_no, batch_first=True)\n",
    "        self.linear = nn.Linear(H_no, 1)\n",
    "        \n",
    "    def forward(self, V):\n",
    "        #V is shape (batch, 50000, lag+1)\n",
    "\n",
    "        rnn_out, _ = self.rnn(V) #(batch,50000,H)\n",
    "        rnn_out = rnn_out.reshape(-1,self.H_no)\n",
    "        lin_out = self.linear(rnn_out) #(batch*50000,1)\n",
    "        final = torch.sigmoid(lin_out.reshape(V.shape[0], V.shape[1]))\n",
    "        \n",
    "        return final\n",
    "\n"
   ]
  },
  {
   "cell_type": "code",
   "execution_count": 3,
   "id": "6e8d732d",
   "metadata": {},
   "outputs": [
    {
     "name": "stdout",
     "output_type": "stream",
     "text": [
      "torch.Size([1000, 50000, 20])\n"
     ]
    }
   ],
   "source": [
    "batch_size = 20\n",
    "batch_length = 50000\n",
    "H_no = 40\n",
    "device = torch.device(\"cuda\")\n",
    "lag = 20\n",
    "\n",
    "epoch_no = 400\n",
    "iter_no = epoch_no * 980 // batch_size\n",
    "\n",
    "V = np.load(\"/media/hdd01/sklee/CA1_clust4-60_AP/data/vdata_T10_Ne2000_gA0.6_tauA1_gN0.8_Ni200_gG0.1_gB0.1_Er0.5_Ir7.4_random_NR_rep1000_stimseed1.npy\").reshape(-1,50001)[:,:50000]\n",
    "#V = np.load(\"/media/hdd01/sklee/CA1_clust4-60_AP/comb_pred/V_comb_pred.npy\")\n",
    "S = np.load(\"/media/hdd01/sklee/CA1_clust4-60_AP/data/spike_train.npy\").reshape(-1,batch_length)\n",
    "\n",
    "V-= np.mean(V)\n",
    "\n",
    "V = torch.from_numpy(V)\n",
    "S = torch.from_numpy(S)\n",
    "\n",
    "V_lag = np.zeros((V.shape[0], V.shape[1], lag)) #(lag,1000,50000)\n",
    "for i in range(lag):\n",
    "    #V_pad = np.zeros_like(V)\n",
    "    #V_pad[:,i+1:] = V[:,:-i-1]\n",
    "    #V_lag[:,:,i] = V - V_pad\n",
    "    \n",
    "    V_lag[:,i+1:,i] = V[:,:-i-1]\n",
    "\n",
    "V_lag = torch.from_numpy(V_lag)\n",
    "print(V_lag.shape)"
   ]
  },
  {
   "cell_type": "code",
   "execution_count": 4,
   "id": "bfda0478",
   "metadata": {},
   "outputs": [
    {
     "name": "stdout",
     "output_type": "stream",
     "text": [
      "torch.Size([19600, 20])\n"
     ]
    }
   ],
   "source": [
    "V_train = V[:980].float()\n",
    "V_test = V[980:].float().to(device)\n",
    "S_train = S[:980].float()\n",
    "S_test = S[980:].float().to(device)\n",
    "V_lag_train = V_lag[:980].float()\n",
    "V_lag_test = V_lag[980:].float().to(device)\n",
    "\n",
    "train_idx = np.empty((epoch_no, 980))\n",
    "for i in range(epoch_no):\n",
    "    part_idx = np.arange(0,980,1)\n",
    "    np.random.shuffle(part_idx)\n",
    "    train_idx[i] = part_idx\n",
    "train_idx = train_idx.reshape(-1, batch_size)\n",
    "train_idx = torch.from_numpy(train_idx).long()\n",
    "print(train_idx.shape)"
   ]
  },
  {
   "cell_type": "code",
   "execution_count": 5,
   "id": "784b45c2",
   "metadata": {},
   "outputs": [
    {
     "name": "stdout",
     "output_type": "stream",
     "text": [
      "7601\n"
     ]
    }
   ],
   "source": [
    "model = AP_GRU_Lag(H_no, lag, device)\n",
    "optimizer = torch.optim.Adam(model.parameters(), lr = 0.0025)\n",
    "\n",
    "model.to(device).float()\n",
    "print(sum(p.numel() for p in model.parameters() if p.requires_grad))\n",
    "\n",
    "bce_criterion = nn.BCELoss(reduction=\"mean\")"
   ]
  },
  {
   "cell_type": "code",
   "execution_count": 7,
   "id": "84e29a0c",
   "metadata": {
    "scrolled": false
   },
   "outputs": [
    {
     "name": "stderr",
     "output_type": "stream",
     "text": [
      "<ipython-input-7-37596d4407d9>:5: TqdmDeprecationWarning: Please use `tqdm.notebook.trange` instead of `tqdm.tnrange`\n",
      "  for i in tnrange(iter_no):\n"
     ]
    },
    {
     "data": {
      "application/vnd.jupyter.widget-view+json": {
       "model_id": "fe9299f94a424c9babd8d55033602218",
       "version_major": 2,
       "version_minor": 0
      },
      "text/plain": [
       "  0%|          | 0/19600 [00:00<?, ?it/s]"
      ]
     },
     "metadata": {},
     "output_type": "display_data"
    },
    {
     "name": "stdout",
     "output_type": "stream",
     "text": [
      "0 0.7181244492530823\n",
      "49 0.006293756887316704\n",
      "99 0.0031056494917720556\n",
      "149 0.0021654199808835983\n",
      "199 0.0016619411762803793\n",
      "249 0.0013444372452795506\n",
      "299 0.0011317967437207699\n",
      "349 0.000976809300482273\n",
      "399 0.0008688991074450314\n",
      "449 0.0007852801936678588\n",
      "499 0.0007185504073277116\n",
      "549 0.0006637799087911844\n",
      "599 0.0006141686462797225\n",
      "649 0.0005565264145843685\n",
      "699 0.0005160192376933992\n",
      "749 0.00048091504140757024\n",
      "799 0.00045297370525076985\n",
      "849 0.00042770319851115346\n",
      "899 0.0004062236112076789\n",
      "949 0.0003871997760143131\n",
      "999 0.00036990540684200823\n",
      "1049 0.00035410115378908813\n",
      "1099 0.0003378696274012327\n",
      "1149 0.00031398035935126245\n",
      "1199 0.000302808650303632\n",
      "1249 0.00029084717971272767\n",
      "1299 0.0002809993748087436\n",
      "1349 0.00027203455101698637\n",
      "1399 0.000263587455265224\n",
      "1449 0.0002547052863519639\n",
      "1499 0.0002467572339810431\n",
      "1549 0.00022589584114030004\n",
      "1599 0.00021659985941369087\n",
      "1649 0.0002093880611937493\n",
      "1699 0.00020349444821476936\n",
      "1749 0.00019602706015575677\n",
      "1799 0.00019019132014364004\n",
      "1849 0.00018431860371492803\n",
      "1899 0.0001787905493983999\n",
      "1949 0.000174378277733922\n",
      "1999 0.00016831581888254732\n",
      "2049 0.00016375949780922383\n",
      "2099 0.0001581253600306809\n",
      "2149 0.00015565499779768288\n",
      "2199 0.0001494274038122967\n",
      "2249 0.00014655696577392519\n",
      "2299 0.00014261927572079003\n",
      "2349 0.00013716943794861436\n",
      "2399 0.0001339184818789363\n",
      "2449 0.0001281604345422238\n",
      "2499 0.00012478523422032595\n",
      "2549 0.0001210060145240277\n",
      "2599 0.00011680513125611469\n",
      "2649 0.00011335274029988796\n",
      "2699 0.00011102174903498963\n",
      "2749 0.00011043649283237755\n",
      "2799 0.00010598460357869044\n",
      "2849 0.00010352712706662714\n",
      "2899 0.00010028405813500285\n",
      "2949 9.807151218410581e-05\n",
      "2999 9.571597183821723e-05\n",
      "3049 9.369235340273008e-05\n",
      "3099 9.192705329041928e-05\n",
      "3149 9.207963012158871e-05\n",
      "3199 9.08825095393695e-05\n",
      "3249 8.637598511995748e-05\n",
      "3299 8.802519005257636e-05\n",
      "3349 8.31962242955342e-05\n",
      "3399 8.116558456094936e-05\n",
      "3449 7.962269592098892e-05\n",
      "3499 7.782418833812699e-05\n",
      "3549 7.724428724031895e-05\n",
      "3599 7.546686538262293e-05\n",
      "3649 7.41574986022897e-05\n",
      "3699 7.419529720209539e-05\n",
      "3749 7.06570572219789e-05\n",
      "3799 7.370133243966848e-05\n",
      "3849 6.926723290234804e-05\n",
      "3899 7.382804324151948e-05\n",
      "3949 6.947720976313576e-05\n",
      "3999 6.599328480660915e-05\n",
      "4049 6.497367576230317e-05\n",
      "4099 6.477273564087227e-05\n",
      "4149 6.438704440370202e-05\n",
      "4199 6.166919774841517e-05\n",
      "4249 7.415584695991129e-05\n",
      "4299 6.058595681679435e-05\n",
      "4349 5.9772704844363034e-05\n",
      "4399 5.833177419845015e-05\n",
      "4449 5.755301390308887e-05\n",
      "4499 5.700224937754683e-05\n",
      "4549 5.719088949263096e-05\n",
      "4599 6.129185203462839e-05\n",
      "4649 5.363482705433853e-05\n",
      "4699 5.53703102923464e-05\n",
      "4749 5.6357192079303786e-05\n",
      "4799 5.331198190106079e-05\n",
      "4849 5.172296368982643e-05\n",
      "4899 5.292228524922393e-05\n",
      "4949 4.9716512876329944e-05\n",
      "4999 4.859890032093972e-05\n",
      "5049 5.054449138697237e-05\n",
      "5099 4.8646139475749806e-05\n",
      "5149 4.752473614644259e-05\n",
      "5199 4.739739961223677e-05\n",
      "5249 4.5668672100873664e-05\n",
      "5299 5.336625690688379e-05\n",
      "5349 4.621491825673729e-05\n",
      "5399 4.391974653117359e-05\n",
      "5449 5.091888306196779e-05\n",
      "5499 4.611527037923224e-05\n",
      "5549 5.5132597481133416e-05\n",
      "5599 5.207150024943985e-05\n",
      "5649 4.37037851952482e-05\n",
      "5699 4.2076710087712854e-05\n",
      "5749 5.024359779781662e-05\n",
      "5799 5.165006223251112e-05\n",
      "5849 4.689772322308272e-05\n",
      "5899 3.87434774893336e-05\n",
      "5949 3.976440348196775e-05\n",
      "5999 3.993965219706297e-05\n",
      "6049 3.77442229364533e-05\n",
      "6099 3.733783887582831e-05\n",
      "6149 4.436127346707508e-05\n",
      "6199 4.1054459870792925e-05\n",
      "6249 4.1314422560390085e-05\n",
      "6299 3.5985296563012525e-05\n",
      "6349 3.667504643090069e-05\n",
      "6399 3.845088940579444e-05\n",
      "6449 3.3901182177942246e-05\n",
      "6499 4.541549060377292e-05\n",
      "6549 3.470139199635014e-05\n",
      "6599 3.44119944202248e-05\n",
      "6649 3.632138032116927e-05\n",
      "6699 3.3415835787309334e-05\n",
      "6749 3.36046505253762e-05\n",
      "6799 3.663818642962724e-05\n",
      "6849 3.222861414542422e-05\n",
      "6899 3.3606094802962616e-05\n",
      "6949 3.5620145354187116e-05\n",
      "6999 3.299735180917196e-05\n",
      "7049 3.3404176065232605e-05\n",
      "7099 3.1406187190441415e-05\n",
      "7149 3.019842188223265e-05\n",
      "7199 3.39182406605687e-05\n",
      "7249 2.9972545235068537e-05\n",
      "7299 4.5762590161757544e-05\n",
      "7349 2.9004948373767547e-05\n",
      "7399 3.426248804316856e-05\n",
      "7449 2.9458995413733646e-05\n",
      "7499 2.9009359423071146e-05\n",
      "7549 3.5886314435629174e-05\n",
      "7599 3.037205897271633e-05\n",
      "7649 3.1688177841715515e-05\n",
      "7699 3.568710235413164e-05\n",
      "7749 2.7686202884069644e-05\n",
      "7799 2.8654734705924056e-05\n",
      "7849 2.6429825084051117e-05\n",
      "7899 2.9743767299805768e-05\n",
      "7949 3.577505412977189e-05\n",
      "7999 2.8191359888296574e-05\n",
      "8049 2.910155126301106e-05\n",
      "8099 2.7483029043651186e-05\n",
      "8149 2.7311447411193512e-05\n",
      "8199 3.178697807015851e-05\n",
      "8249 2.9623837690451182e-05\n"
     ]
    },
    {
     "ename": "KeyboardInterrupt",
     "evalue": "",
     "output_type": "error",
     "traceback": [
      "\u001b[0;31m---------------------------------------------------------------------------\u001b[0m",
      "\u001b[0;31mKeyboardInterrupt\u001b[0m                         Traceback (most recent call last)",
      "\u001b[0;32m<ipython-input-7-37596d4407d9>\u001b[0m in \u001b[0;36m<module>\u001b[0;34m\u001b[0m\n\u001b[1;32m     17\u001b[0m     \u001b[0mbatch_V_in\u001b[0m\u001b[0;34m[\u001b[0m\u001b[0;34m:\u001b[0m\u001b[0;34m,\u001b[0m\u001b[0;34m:\u001b[0m\u001b[0;34m,\u001b[0m\u001b[0;36m1\u001b[0m\u001b[0;34m:\u001b[0m\u001b[0;34m]\u001b[0m \u001b[0;34m=\u001b[0m \u001b[0mbatch_V_lag\u001b[0m\u001b[0;34m\u001b[0m\u001b[0;34m\u001b[0m\u001b[0m\n\u001b[1;32m     18\u001b[0m \u001b[0;34m\u001b[0m\u001b[0m\n\u001b[0;32m---> 19\u001b[0;31m     \u001b[0mS_out\u001b[0m \u001b[0;34m=\u001b[0m \u001b[0mmodel\u001b[0m\u001b[0;34m(\u001b[0m\u001b[0mbatch_V_in\u001b[0m\u001b[0;34m)\u001b[0m\u001b[0;34m\u001b[0m\u001b[0;34m\u001b[0m\u001b[0m\n\u001b[0m\u001b[1;32m     20\u001b[0m     \u001b[0mloss\u001b[0m \u001b[0;34m=\u001b[0m \u001b[0mbce_criterion\u001b[0m\u001b[0;34m(\u001b[0m\u001b[0mS_out\u001b[0m\u001b[0;34m,\u001b[0m \u001b[0mbatch_S\u001b[0m\u001b[0;34m)\u001b[0m\u001b[0;34m\u001b[0m\u001b[0;34m\u001b[0m\u001b[0m\n\u001b[1;32m     21\u001b[0m \u001b[0;34m\u001b[0m\u001b[0m\n",
      "\u001b[0;32m~/anaconda3/lib/python3.8/site-packages/torch/nn/modules/module.py\u001b[0m in \u001b[0;36m_call_impl\u001b[0;34m(self, *input, **kwargs)\u001b[0m\n\u001b[1;32m    887\u001b[0m             \u001b[0mresult\u001b[0m \u001b[0;34m=\u001b[0m \u001b[0mself\u001b[0m\u001b[0;34m.\u001b[0m\u001b[0m_slow_forward\u001b[0m\u001b[0;34m(\u001b[0m\u001b[0;34m*\u001b[0m\u001b[0minput\u001b[0m\u001b[0;34m,\u001b[0m \u001b[0;34m**\u001b[0m\u001b[0mkwargs\u001b[0m\u001b[0;34m)\u001b[0m\u001b[0;34m\u001b[0m\u001b[0;34m\u001b[0m\u001b[0m\n\u001b[1;32m    888\u001b[0m         \u001b[0;32melse\u001b[0m\u001b[0;34m:\u001b[0m\u001b[0;34m\u001b[0m\u001b[0;34m\u001b[0m\u001b[0m\n\u001b[0;32m--> 889\u001b[0;31m             \u001b[0mresult\u001b[0m \u001b[0;34m=\u001b[0m \u001b[0mself\u001b[0m\u001b[0;34m.\u001b[0m\u001b[0mforward\u001b[0m\u001b[0;34m(\u001b[0m\u001b[0;34m*\u001b[0m\u001b[0minput\u001b[0m\u001b[0;34m,\u001b[0m \u001b[0;34m**\u001b[0m\u001b[0mkwargs\u001b[0m\u001b[0;34m)\u001b[0m\u001b[0;34m\u001b[0m\u001b[0;34m\u001b[0m\u001b[0m\n\u001b[0m\u001b[1;32m    890\u001b[0m         for hook in itertools.chain(\n\u001b[1;32m    891\u001b[0m                 \u001b[0m_global_forward_hooks\u001b[0m\u001b[0;34m.\u001b[0m\u001b[0mvalues\u001b[0m\u001b[0;34m(\u001b[0m\u001b[0;34m)\u001b[0m\u001b[0;34m,\u001b[0m\u001b[0;34m\u001b[0m\u001b[0;34m\u001b[0m\u001b[0m\n",
      "\u001b[0;32m<ipython-input-2-48ceaec43093>\u001b[0m in \u001b[0;36mforward\u001b[0;34m(self, V)\u001b[0m\n\u001b[1;32m     12\u001b[0m         \u001b[0;31m#V is shape (batch, 50000, lag+1)\u001b[0m\u001b[0;34m\u001b[0m\u001b[0;34m\u001b[0m\u001b[0;34m\u001b[0m\u001b[0m\n\u001b[1;32m     13\u001b[0m \u001b[0;34m\u001b[0m\u001b[0m\n\u001b[0;32m---> 14\u001b[0;31m         \u001b[0mrnn_out\u001b[0m\u001b[0;34m,\u001b[0m \u001b[0m_\u001b[0m \u001b[0;34m=\u001b[0m \u001b[0mself\u001b[0m\u001b[0;34m.\u001b[0m\u001b[0mrnn\u001b[0m\u001b[0;34m(\u001b[0m\u001b[0mV\u001b[0m\u001b[0;34m)\u001b[0m \u001b[0;31m#(batch,50000,H)\u001b[0m\u001b[0;34m\u001b[0m\u001b[0;34m\u001b[0m\u001b[0m\n\u001b[0m\u001b[1;32m     15\u001b[0m         \u001b[0mrnn_out\u001b[0m \u001b[0;34m=\u001b[0m \u001b[0mrnn_out\u001b[0m\u001b[0;34m.\u001b[0m\u001b[0mreshape\u001b[0m\u001b[0;34m(\u001b[0m\u001b[0;34m-\u001b[0m\u001b[0;36m1\u001b[0m\u001b[0;34m,\u001b[0m\u001b[0mself\u001b[0m\u001b[0;34m.\u001b[0m\u001b[0mH_no\u001b[0m\u001b[0;34m)\u001b[0m\u001b[0;34m\u001b[0m\u001b[0;34m\u001b[0m\u001b[0m\n\u001b[1;32m     16\u001b[0m         \u001b[0mlin_out\u001b[0m \u001b[0;34m=\u001b[0m \u001b[0mself\u001b[0m\u001b[0;34m.\u001b[0m\u001b[0mlinear\u001b[0m\u001b[0;34m(\u001b[0m\u001b[0mrnn_out\u001b[0m\u001b[0;34m)\u001b[0m \u001b[0;31m#(batch*50000,1)\u001b[0m\u001b[0;34m\u001b[0m\u001b[0;34m\u001b[0m\u001b[0m\n",
      "\u001b[0;32m~/anaconda3/lib/python3.8/site-packages/torch/nn/modules/module.py\u001b[0m in \u001b[0;36m_call_impl\u001b[0;34m(self, *input, **kwargs)\u001b[0m\n\u001b[1;32m    887\u001b[0m             \u001b[0mresult\u001b[0m \u001b[0;34m=\u001b[0m \u001b[0mself\u001b[0m\u001b[0;34m.\u001b[0m\u001b[0m_slow_forward\u001b[0m\u001b[0;34m(\u001b[0m\u001b[0;34m*\u001b[0m\u001b[0minput\u001b[0m\u001b[0;34m,\u001b[0m \u001b[0;34m**\u001b[0m\u001b[0mkwargs\u001b[0m\u001b[0;34m)\u001b[0m\u001b[0;34m\u001b[0m\u001b[0;34m\u001b[0m\u001b[0m\n\u001b[1;32m    888\u001b[0m         \u001b[0;32melse\u001b[0m\u001b[0;34m:\u001b[0m\u001b[0;34m\u001b[0m\u001b[0;34m\u001b[0m\u001b[0m\n\u001b[0;32m--> 889\u001b[0;31m             \u001b[0mresult\u001b[0m \u001b[0;34m=\u001b[0m \u001b[0mself\u001b[0m\u001b[0;34m.\u001b[0m\u001b[0mforward\u001b[0m\u001b[0;34m(\u001b[0m\u001b[0;34m*\u001b[0m\u001b[0minput\u001b[0m\u001b[0;34m,\u001b[0m \u001b[0;34m**\u001b[0m\u001b[0mkwargs\u001b[0m\u001b[0;34m)\u001b[0m\u001b[0;34m\u001b[0m\u001b[0;34m\u001b[0m\u001b[0m\n\u001b[0m\u001b[1;32m    890\u001b[0m         for hook in itertools.chain(\n\u001b[1;32m    891\u001b[0m                 \u001b[0m_global_forward_hooks\u001b[0m\u001b[0;34m.\u001b[0m\u001b[0mvalues\u001b[0m\u001b[0;34m(\u001b[0m\u001b[0;34m)\u001b[0m\u001b[0;34m,\u001b[0m\u001b[0;34m\u001b[0m\u001b[0;34m\u001b[0m\u001b[0m\n",
      "\u001b[0;32m~/anaconda3/lib/python3.8/site-packages/torch/nn/modules/rnn.py\u001b[0m in \u001b[0;36mforward\u001b[0;34m(self, input, hx)\u001b[0m\n\u001b[1;32m    819\u001b[0m         \u001b[0mself\u001b[0m\u001b[0;34m.\u001b[0m\u001b[0mcheck_forward_args\u001b[0m\u001b[0;34m(\u001b[0m\u001b[0minput\u001b[0m\u001b[0;34m,\u001b[0m \u001b[0mhx\u001b[0m\u001b[0;34m,\u001b[0m \u001b[0mbatch_sizes\u001b[0m\u001b[0;34m)\u001b[0m\u001b[0;34m\u001b[0m\u001b[0;34m\u001b[0m\u001b[0m\n\u001b[1;32m    820\u001b[0m         \u001b[0;32mif\u001b[0m \u001b[0mbatch_sizes\u001b[0m \u001b[0;32mis\u001b[0m \u001b[0;32mNone\u001b[0m\u001b[0;34m:\u001b[0m\u001b[0;34m\u001b[0m\u001b[0;34m\u001b[0m\u001b[0m\n\u001b[0;32m--> 821\u001b[0;31m             result = _VF.gru(input, hx, self._flat_weights, self.bias, self.num_layers,\n\u001b[0m\u001b[1;32m    822\u001b[0m                              self.dropout, self.training, self.bidirectional, self.batch_first)\n\u001b[1;32m    823\u001b[0m         \u001b[0;32melse\u001b[0m\u001b[0;34m:\u001b[0m\u001b[0;34m\u001b[0m\u001b[0;34m\u001b[0m\u001b[0m\n",
      "\u001b[0;31mKeyboardInterrupt\u001b[0m: "
     ]
    }
   ],
   "source": [
    "score_list = []\n",
    "\n",
    "part_time_idx = torch.arange(0,50000)\n",
    "\n",
    "for i in tnrange(iter_no):\n",
    "    s = time.time()\n",
    "    model.train()\n",
    "    optimizer.zero_grad()\n",
    "    \n",
    "    batch_idx = train_idx[i]\n",
    "    batch_S = S_train[batch_idx].to(device)[:,part_time_idx]\n",
    "    batch_V = V_train[batch_idx].to(device)[:,part_time_idx]\n",
    "    batch_V_lag = V_lag_train[batch_idx].to(device)[:,part_time_idx]\n",
    "    \n",
    "    batch_V_in = torch.zeros(batch_size, batch_length, lag+1).to(device)\n",
    "    batch_V_in[:,:,0] = batch_V\n",
    "    batch_V_in[:,:,1:] = batch_V_lag\n",
    "    \n",
    "    S_out = model(batch_V_in)\n",
    "    loss = bce_criterion(S_out, batch_S)\n",
    "    \n",
    "    loss.backward()\n",
    "    nn.utils.clip_grad_norm_(model.parameters(), 20)\n",
    "    optimizer.step()\n",
    "    \n",
    "    step_time = time.time() - s\n",
    "    \n",
    "    if (i%50 == 49) or (i == 0):\n",
    "        model.eval()\n",
    "        V_test_in = torch.zeros(batch_size, batch_length, lag+1).to(device)\n",
    "        V_test_in[:,:,0] = V_test\n",
    "        V_test_in[:,:,1:] = V_lag_test\n",
    "        \n",
    "        test_S_out = model(V_test_in[:,part_time_idx])\n",
    "        test_loss = bce_criterion(test_S_out, S_test[:,part_time_idx]).item()\n",
    "        \n",
    "        score_list.append(test_loss)\n",
    "        print(i, test_loss)"
   ]
  },
  {
   "cell_type": "code",
   "execution_count": null,
   "id": "f591ea9b",
   "metadata": {},
   "outputs": [],
   "source": []
  },
  {
   "cell_type": "code",
   "execution_count": 10,
   "id": "e006b31b",
   "metadata": {},
   "outputs": [
    {
     "data": {
      "text/plain": [
       "[<matplotlib.lines.Line2D at 0x7f8b64d75c70>]"
      ]
     },
     "execution_count": 10,
     "metadata": {},
     "output_type": "execute_result"
    },
    {
     "data": {
      "image/png": "[encoded data removed]",
      "text/plain": [
       "<Figure size 432x288 with 1 Axes>"
      ]
     },
     "metadata": {
      "needs_background": "light"
     },
     "output_type": "display_data"
    }
   ],
   "source": [
    "plt.plot(np.asarray(score_list)[20:])"
   ]
  },
  {
   "cell_type": "code",
   "execution_count": 12,
   "id": "ad66af8b",
   "metadata": {},
   "outputs": [
    {
     "data": {
      "text/plain": [
       "(23000.0, 26000.0)"
      ]
     },
     "execution_count": 12,
     "metadata": {},
     "output_type": "execute_result"
    },
    {
     "data": {
      "image/png": "[encoded data removed]",
      "text/plain": [
       "<Figure size 1080x360 with 1 Axes>"
      ]
     },
     "metadata": {
      "needs_background": "light"
     },
     "output_type": "display_data"
    }
   ],
   "source": [
    "plt.figure(figsize = (15,5))\n",
    "plt.plot(S_test[0].cpu().detach().numpy()[part_time_idx])\n",
    "plt.plot(test_S_out[1].cpu().detach().numpy())\n",
    "plt.xlim(23000,26000)\n",
    "#plt.ylim(-1,10)"
   ]
  },
  {
   "cell_type": "code",
   "execution_count": 13,
   "id": "780f8cd8",
   "metadata": {},
   "outputs": [],
   "source": [
    "#torch.save(model.state_dict(), \"/media/hdd01/sklee/CA1_clust4-60_AP/ap_true/gru_l20_h40.pt\")\n",
    "#np.save(\"/media/hdd01/sklee/CA1_clust4-60_AP/ap_true/gru_l20_h40_test.npy\", test_S_out.cpu().detach().numpy())"
   ]
  },
  {
   "cell_type": "code",
   "execution_count": null,
   "id": "220095ad",
   "metadata": {},
   "outputs": [],
   "source": []
  }
 ],
 "metadata": {
  "kernelspec": {
   "display_name": "Python 3",
   "language": "python",
   "name": "python3"
  },
  "language_info": {
   "codemirror_mode": {
    "name": "ipython",
    "version": 3
   },
   "file_extension": ".py",
   "mimetype": "text/x-python",
   "name": "python",
   "nbconvert_exporter": "python",
   "pygments_lexer": "ipython3",
   "version": "3.8.8"
  }
 },
 "nbformat": 4,
 "nbformat_minor": 5
}
