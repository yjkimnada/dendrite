{
 "cells": [
  {
   "cell_type": "code",
   "execution_count": 2,
   "id": "dacedeac",
   "metadata": {},
   "outputs": [],
   "source": [
    "import numpy as np\n",
    "import matplotlib.pyplot as plt\n",
    "import scipy.sparse\n",
    "from matplotlib import cm\n",
    "import matplotlib as mpl\n",
    "from cycler import cycler\n",
    "from matplotlib import rc\n",
    "import scipy.stats\n",
    "from sklearn.metrics import explained_variance_score\n",
    "from tqdm import tnrange"
   ]
  },
  {
   "cell_type": "code",
   "execution_count": 3,
   "id": "2c255297",
   "metadata": {},
   "outputs": [],
   "source": [
    "true_diff = np.load(\"/scratch/yjk27/CA1_clust4-60/data/V_diff_stimseed1_set1.npy\")[-50000*20:].reshape(20,50000)\n",
    "one_diff_test = np.load(\"/scratch/yjk27/CA1_clust4-60/hand/glm_s10_h1_output.npz\")[\"test\"]\n",
    "two_diff_test = np.load(\"/scratch/yjk27/CA1_clust4-60/hand/glm_s10_h2_output.npz\")[\"test\"]\n",
    "gru_diff_test = np.load(\"/scratch/yjk27/CA1_clust4-60/hand/gru_s10_h20_output.npz\")[\"test\"]\n",
    "gru_dend_diff_test = np.load(\"/scratch/yjk27/CA1_clust4-60/hand/gru_dend_s5_h20_output.npz\")[\"test\"]"
   ]
  },
  {
   "cell_type": "code",
   "execution_count": 4,
   "id": "d18d865b",
   "metadata": {},
   "outputs": [],
   "source": [
    "var_exp = np.zeros((20,4))\n",
    "\n",
    "for i in range(20):\n",
    "    var_exp[i,0] = explained_variance_score(true_diff[i], one_diff_test[i])\n",
    "    var_exp[i,1] = explained_variance_score(true_diff[i], two_diff_test[i])\n",
    "    var_exp[i,2] = explained_variance_score(true_diff[i], gru_diff_test[i])\n",
    "    var_exp[i,3] = explained_variance_score(true_diff[i], gru_dend_diff_test[i])"
   ]
  },
  {
   "cell_type": "code",
   "execution_count": null,
   "id": "937da946",
   "metadata": {},
   "outputs": [],
   "source": [
    "mpl.rcParams['pdf.fonttype'] = 42\n",
    "mpl.rcParams['font.sans-serif'] = \"Arial\"\n",
    "mpl.rcParams['font.family'] = \"sans-serif\"\n",
    "plt.rcParams['font.size'] = '13'\n",
    "\n",
    "fig = plt.figure(constrained_layout=True, figsize = (5,5))\n",
    "gs = fig.add_gridspec(1,1, wspace=0, hspace=0)\n",
    "ax = fig.add_subplot(gs[0,0])\n",
    "\n",
    "colors = [\"green\", \"blue\", \"red\", \"purple\"]\n",
    "cap_colors = [\"green\", \"green\", \"blue\", \"blue\", \"red\", \"red\", \"purple\", \"purple\"]\n",
    "\n",
    "bp = ax.boxplot(var_exp, positions = [1,2,3,4], widths = 0.6, patch_artist=True)\n",
    "for i in range(var_exp.shape[1]):\n",
    "    plt.setp(bp['boxes'][i], facecolor=colors[i])\n",
    "    plt.setp(bp['boxes'][i], alpha=0.5)\n",
    "    plt.setp(bp[\"fliers\"][i], markeredgecolor=colors[i])\n",
    "    plt.setp(bp[\"boxes\"][i], color=colors[i])\n",
    "    plt.setp(bp[\"medians\"][i], color=colors[i])\n",
    "for i in range(var_exp.shape[1]*2):\n",
    "    plt.setp(bp['whiskers'][i], color=cap_colors[i])\n",
    "    plt.setp(bp['caps'][i], color=cap_colors[i])\n",
    "    \n",
    "\n",
    "    \n",
    "ax.set_xticklabels([\"static\", \"static w/\\nmultiplex\", \"dynamic\", \"dynamic w/\\ndendritic\\ninteractions\"])\n",
    "ax.set_ylim(0,1)\n",
    "ax.margins(x=0.005, y=0.005)\n",
    "ax.spines[\"right\"].set_visible(False)\n",
    "ax.spines[\"top\"].set_visible(False)\n",
    "ax.spines[\"left\"].set_bounds((0,1))\n",
    "ax.spines[\"bottom\"].set_visible(False)\n",
    "ax.tick_params(axis=\"x\", length=0)\n",
    "ax.set_ylabel(\"variance explained\")\n",
    " \n",
    "\"\"\"\n",
    "#ax5.set_xticklabels([\"4\", \"8\", \"12\"])\n",
    "#ax5.set_xlabel(\"number of clusters\")\n",
    "ax5.set_ylim(0,1)\n",
    "ax5.margins(x=0.005, y=0.005)\n",
    "ax5.spines.right.set_visible(False)\n",
    "ax5.spines.top.set_visible(False)\n",
    "ax5.set_title(\"$\\mathregular{v_{Na}}$\")\n",
    "ax5.spines.bottom.set_visible(False)\n",
    "ax5.tick_params(axis=\"x\", length=0)\n",
    "ax5.set_yticks(np.arange(0,1.01,0.5))\n",
    "ax5.spines.left.set_bounds((0,1))\n",
    "\"\"\"\n",
    "\n",
    "#plt.show()\n",
    "#fig.savefig(\"/scratch/yjk27/dendrite/fig_dend_interact/fig_dend_interact_raw.pdf\", bbox_inches=\"tight\", transparent=True)"
   ]
  },
  {
   "cell_type": "code",
   "execution_count": null,
   "id": "4b91ad9b",
   "metadata": {},
   "outputs": [],
   "source": []
  },
  {
   "cell_type": "code",
   "execution_count": null,
   "id": "7d702a24",
   "metadata": {},
   "outputs": [],
   "source": []
  }
 ],
 "metadata": {
  "kernelspec": {
   "display_name": "Python 3",
   "language": "python",
   "name": "python3"
  },
  "language_info": {
   "codemirror_mode": {
    "name": "ipython",
    "version": 3
   },
   "file_extension": ".py",
   "mimetype": "text/x-python",
   "name": "python",
   "nbconvert_exporter": "python",
   "pygments_lexer": "ipython3",
   "version": "3.8.8"
  }
 },
 "nbformat": 4,
 "nbformat_minor": 5
}
