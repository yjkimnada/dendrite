{
 "cells": [
  {
   "cell_type": "code",
   "execution_count": 1,
   "id": "87a38fc0",
   "metadata": {},
   "outputs": [],
   "source": [
    "import numpy as np\n",
    "import matplotlib.pyplot as plt\n",
    "import scipy.sparse\n",
    "from matplotlib import cm\n",
    "import matplotlib as mpl\n",
    "from cycler import cycler\n",
    "from matplotlib import rc\n",
    "import scipy.stats\n",
    "from sklearn.metrics import explained_variance_score\n",
    "import seaborn as sns"
   ]
  },
  {
   "cell_type": "code",
   "execution_count": 2,
   "id": "379d64b7",
   "metadata": {},
   "outputs": [],
   "source": [
    "true_na_1 = np.load(\"/media/hdd01/sklee/CA1_clust12-20/data/vdata_T10_Ne2000_gA0.6_tauA1_gN0.8_Ni200_gG0.1_gB0.1_Er0.5_Ir7.4_random_NR_rep1000_stimseed1.npy\")[-20:,:50000]\n",
    "true_diff_1 = np.load(\"/media/hdd01/sklee/CA1_clust12-20/data/V_diff_stimseed1.npy\")[-50000*20:].reshape(20,50000)\n",
    "true_na_2 = np.load(\"/media/hdd01/sklee/CA1_1.5clust12-20/data/vdata_T10_Ne2000_gA0.6_tauA1_gN0.8_Ni200_gG0.1_gB0.1_Er0.5_Ir7.4_random_NR_rep1000_stimseed1.npy\")[-20:,:50000]\n",
    "true_diff_2 = np.load(\"/media/hdd01/sklee/CA1_1.5clust12-20/data/V_diff_stimseed1.npy\")[-50000*20:].reshape(20,50000)\n",
    "\n",
    "one_diff_test_1 = np.load(\"/media/hdd01/sklee/CA1_clust12-20/hand/glm_s18_h1_output.npz\")[\"test\"]\n",
    "two_diff_test_1 = np.load(\"/media/hdd01/sklee/CA1_clust12-20/hand/glm_s18_h2_output.npz\")[\"test\"]\n",
    "gru_diff_test_1 = np.load(\"/media/hdd01/sklee/CA1_clust12-20/hand/gru_s18_h20_output.npz\")[\"test\"]\n",
    "#one_diff_test_2 = np.load(\"/media/hdd01/sklee/CA1_1.5clust12-20/hand/glm_s18_h1_output.npz\")[\"test\"]\n",
    "two_diff_test_2 = np.load(\"/media/hdd01/sklee/CA1_1.5clust12-20/hand/glm_s18_h2_output.npz\")[\"test\"]\n",
    "gru_diff_test_2 = np.load(\"/media/hdd01/sklee/CA1_1.5clust12-20/hand/gru_s18_h20_output.npz\")[\"test\"]\n",
    "\n",
    "\n"
   ]
  },
  {
   "cell_type": "code",
   "execution_count": 3,
   "id": "2bb088a3",
   "metadata": {},
   "outputs": [],
   "source": [
    "diff_var_exp_array = np.zeros((2,3,20))\n",
    "#nona_var_exp_array = np.zeros((3,3,20))\n",
    "\n",
    "for i in range(20):\n",
    "    diff_var_exp_array[0,0,i] = explained_variance_score(true_diff_1[i], one_diff_test_1[i])\n",
    "    diff_var_exp_array[0,1,i] = explained_variance_score(true_diff_1[i], two_diff_test_1[i])\n",
    "    diff_var_exp_array[0,2,i] = explained_variance_score(true_diff_1[i], gru_diff_test_1[i])\n",
    "    #nona_var_exp_array[0,0,i] = explained_variance_score(true_nona_1[i], one_nona_test_1[i])\n",
    "    #nona_var_exp_array[0,1,i] = explained_variance_score(true_nona_1[i], two_nona_test_1[i])\n",
    "    #nona_var_exp_array[0,2,i] = explained_variance_score(true_nona_1[i], gru_nona_test_1[i])\n",
    "    \n",
    "    #diff_var_exp_array[1,0,i] = explained_variance_score(true_diff_2[i], one_diff_test_2[i])\n",
    "    diff_var_exp_array[1,1,i] = explained_variance_score(true_diff_2[i], two_diff_test_2[i])\n",
    "    diff_var_exp_array[1,2,i] = explained_variance_score(true_diff_2[i], gru_diff_test_2[i])\n",
    "    #nona_var_exp_array[1,0,i] = explained_variance_score(true_nona_2[i], one_nona_test_2[i])\n",
    "    #nona_var_exp_array[1,1,i] = explained_variance_score(true_nona_2[i], two_nona_test_2[i])\n",
    "    #nona_var_exp_array[1,2,i] = explained_variance_score(true_nona_2[i], gru_nona_test_2[i])"
   ]
  },
  {
   "cell_type": "code",
   "execution_count": 21,
   "id": "dad6308a",
   "metadata": {
    "scrolled": false
   },
   "outputs": [
    {
     "data": {
      "text/plain": [
       "Text(0.5, 1.0, 'Na+ differential fits (12 clusters only)')"
      ]
     },
     "execution_count": 21,
     "metadata": {},
     "output_type": "execute_result"
    },
    {
     "data": {
      "image/png": "[encoded data removed]",
      "text/plain": [
       "<Figure size 720x432 with 1 Axes>"
      ]
     },
     "metadata": {
      "needs_background": "light"
     },
     "output_type": "display_data"
    }
   ],
   "source": [
    "plt.figure(figsize = (10,6))\n",
    "colors = [\"green\", \"blue\", \"red\"]\n",
    "\n",
    "bp = plt.boxplot(diff_var_exp_array[0].T, positions=[1,2,3], widths=0.6, patch_artist=True)\n",
    "for patch, color in zip(bp['boxes'], colors):\n",
    "    patch.set_facecolor(color)\n",
    "    patch.set_alpha(0.5)\n",
    "for patch in bp[\"medians\"]:\n",
    "    patch.set_color(\"black\")\n",
    "    \n",
    "bp = plt.boxplot(diff_var_exp_array[1].T, positions=[5,6,7], widths=0.6, patch_artist=True)\n",
    "for patch, color in zip(bp['boxes'], colors):\n",
    "    patch.set_facecolor(color)\n",
    "    patch.set_alpha(0.5)\n",
    "for patch in bp[\"medians\"]:\n",
    "    patch.set_color(\"black\")\n",
    "    \n",
    "hB, = plt.plot(1,1,'blue')\n",
    "hR, = plt.plot(1,1,'red')\n",
    "hG, = plt.plot(1,1,'green')\n",
    "plt.legend((hG, hB, hR),('1-plex GLM', '2-plex GLM', 'GRU'))\n",
    "hB.set_visible(False)\n",
    "hR.set_visible(False)\n",
    "hG.set_visible(False)\n",
    "\n",
    "plt.xticks([2,6], labels=[\"Clust Syn Weight = 1\", \"Clust Syn Weight = 1.5\"])\n",
    "plt.ylabel(\"Variance Explained\")\n",
    "plt.ylim(0.1,0.8)\n",
    "plt.title(\"Na+ differential fits (12 clusters only)\")"
   ]
  },
  {
   "cell_type": "code",
   "execution_count": null,
   "id": "b38cd0ea",
   "metadata": {},
   "outputs": [],
   "source": []
  }
 ],
 "metadata": {
  "kernelspec": {
   "display_name": "Python 3",
   "language": "python",
   "name": "python3"
  },
  "language_info": {
   "codemirror_mode": {
    "name": "ipython",
    "version": 3
   },
   "file_extension": ".py",
   "mimetype": "text/x-python",
   "name": "python",
   "nbconvert_exporter": "python",
   "pygments_lexer": "ipython3",
   "version": "3.8.8"
  }
 },
 "nbformat": 4,
 "nbformat_minor": 5
}
