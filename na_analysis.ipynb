{
 "cells": [
  {
   "cell_type": "code",
   "execution_count": 1,
   "metadata": {},
   "outputs": [],
   "source": [
    "import numpy as np\n",
    "import matplotlib.pyplot as plt"
   ]
  },
  {
   "cell_type": "code",
   "execution_count": 2,
   "metadata": {},
   "outputs": [],
   "source": [
    "base_dir = \"/media/hdd01/sklee/\"\n",
    "cell_type = \"CA1\"\n",
    "experiment = \"clust4-60\"\n",
    "T_train = 60 * 1000 * 5\n",
    "T_test = 10 * 1000 * 5\n",
    "sub_no = 6"
   ]
  },
  {
   "cell_type": "code",
   "execution_count": 3,
   "metadata": {},
   "outputs": [],
   "source": [
    "V_file = \"vdata_T10_Ne2000_gA0.6_tauA1_gN0.8_Ni200_gG0.1_gB0.1_Er0.5_Ir7.4_random_NR_rep10_stimseed1.npy\"\n",
    "V_ref = np.load(base_dir+cell_type+\"_\"+experiment+\"/data/\"+V_file)[:,:50000].flatten()[T_train:T_train+T_test]\n",
    "V_spike_pred = np.load(\"/media/hdd01/sklee/\"+cell_type+\"_\"+experiment+\"/alpha_rootspike_sub6_output.npz\")[\"test\"]\n",
    "V_pred = np.load(\"/media/hdd01/sklee/\"+cell_type+\"_\"+experiment+\"/alpha_sub6_output.npz\")[\"test\"]\n",
    "\n",
    "S_ref = np.load(base_dir+cell_type+\"_\"+experiment+\"/data/spk_loc.npy\").flatten()[T_train:T_train+T_test]\n",
    "S_pred = np.load(\"/media/hdd01/sklee/\"+cell_type+\"_\"+experiment+\"/alpha_rootspike_sub6_output.npz\")[\"spikes\"]\n",
    "S_prob = np.load(\"/media/hdd01/sklee/\"+cell_type+\"_\"+experiment+\"/alpha_rootspike_sub6_output.npz\")[\"probs\"]\n",
    "\n"
   ]
  },
  {
   "cell_type": "code",
   "execution_count": 4,
   "metadata": {},
   "outputs": [],
   "source": [
    "fig, axs = plt.subplots(nrows=2, figsize = (20,13))\n",
    "x = np.arange(0,2000,0.2)\n",
    "axs[0].plot(x, V_ref[16000:26000], c=\"black\", alpha=0.85, label=\"True\")\n",
    "axs[0].plot(x, V_spike_pred[16000:26000], c=\"red\", alpha=0.7, label=\"Spikes (Var. Exp.: 0.90396)\")\n",
    "axs[0].plot(x, V_pred[16000:26000], c=\"blue\", alpha=0.7, label=\"No Spikes (Var. Exp.: 0.91418)\")\n",
    "\n",
    "axs[0].legend()\n",
    "axs[0].set_ylabel(\"Voltage (mV)\")\n",
    "\n",
    "\n",
    "axs[1].plot(x, S_prob[16000:26000], alpha=0.85, linewidth=1, c=\"gray\", label=\"Probability\")\n",
    "axs[1].scatter(x, S_ref[16000:26000]-0.9, c=\"black\", alpha=1, marker=\"|\", s=400, label=\"True Spikes\", linewidth=2)\n",
    "axs[1].scatter(x, S_pred[16000:26000]*0.98-0.9, c=\"red\", alpha=1, marker=\"|\", s=400, label=\"Predicted Spikes\", linewidth=2)\n",
    "axs[1].legend()\n",
    "\n",
    "axs[1].set_ylim(0,0.15)\n",
    "axs[1].set_xlabel(\"Time (ms)\")\n",
    "axs[1].set_ylabel(\"Spike Probability\")\n",
    "\n",
    "plt.savefig(base_dir+cell_type+\"_\"+experiment+\"/rootspike_output.png\", bbox_inches='tight', dpi=200, facecolor='w')\n",
    "plt.close()"
   ]
  },
  {
   "cell_type": "code",
   "execution_count": null,
   "metadata": {},
   "outputs": [],
   "source": []
  },
  {
   "cell_type": "code",
   "execution_count": 5,
   "metadata": {},
   "outputs": [
    {
     "name": "stdout",
     "output_type": "stream",
     "text": [
      "(14, 500)\n"
     ]
    }
   ],
   "source": [
    "filters = np.load(\"/media/hdd01/sklee/\"+cell_type+\"_\"+experiment+\"/alpha_rootspike_sub6_output.npz\")[\"filters\"][2*sub_no:]\n",
    "print(filters.shape)"
   ]
  },
  {
   "cell_type": "code",
   "execution_count": 6,
   "metadata": {},
   "outputs": [],
   "source": [
    "fig, axs = plt.subplots(nrows=sub_no+1, ncols=2, figsize = (20,20))\n",
    "x = np.arange(0,40,0.2)\n",
    "\n",
    "for i in range(sub_no):\n",
    "    axs[i,0].plot(x, filters[i*2,:200], color=\"blue\")\n",
    "    axs[i,0].hlines(y=0,xmin=0,xmax=40, linewidth=1, color=\"gray\", linestyle=\"--\", alpha=0.8)\n",
    "    axs[i,0].set_title(\"Excitatory Filter Subunit \" +str(i))\n",
    "    axs[i,0].set_xticks([])\n",
    "    axs[i,1].plot(x, filters[i*2+1,:200], color=\"red\")\n",
    "    axs[i,1].hlines(y=0,xmin=0,xmax=40, linewidth=1, color=\"gray\", linestyle=\"--\", alpha=0.8)\n",
    "    axs[i,1].set_title(\"Inhibitory Filter Subunit \" +str(i))\n",
    "    axs[i,1].set_xticks([])\n",
    "\n",
    "axs[sub_no,0].plot(x, filters[-2,:200], color=\"green\")\n",
    "axs[sub_no,1].plot(x, filters[-1,:200], color=\"orange\")\n",
    "axs[sub_no,0].hlines(y=0,xmin=0,xmax=40, linewidth=1, color=\"gray\", linestyle=\"--\", alpha=0.8)\n",
    "axs[sub_no,1].hlines(y=0,xmin=0,xmax=40, linewidth=1, color=\"gray\", linestyle=\"--\", alpha=0.8)\n",
    "axs[sub_no,0].set_title(\"Root Subunit Spike Shape Filter\")\n",
    "axs[sub_no,1].set_title(\"Root Subunit Spike History Filter\")\n",
    "axs[sub_no,0].set_xlabel(\"Time (ms)\")\n",
    "axs[sub_no,1].set_xlabel(\"Time (ms)\")\n",
    "\n",
    "plt.savefig(base_dir+cell_type+\"_\"+experiment+\"/rootspike_filters.png\", bbox_inches='tight', dpi=200, facecolor='w')\n",
    "plt.close()"
   ]
  },
  {
   "cell_type": "code",
   "execution_count": null,
   "metadata": {},
   "outputs": [],
   "source": []
  },
  {
   "cell_type": "code",
   "execution_count": null,
   "metadata": {},
   "outputs": [],
   "source": []
  }
 ],
 "metadata": {
  "kernelspec": {
   "display_name": "Python 3",
   "language": "python",
   "name": "python3"
  },
  "language_info": {
   "codemirror_mode": {
    "name": "ipython",
    "version": 3
   },
   "file_extension": ".py",
   "mimetype": "text/x-python",
   "name": "python",
   "nbconvert_exporter": "python",
   "pygments_lexer": "ipython3",
   "version": "3.8.5"
  }
 },
 "nbformat": 4,
 "nbformat_minor": 4
}
