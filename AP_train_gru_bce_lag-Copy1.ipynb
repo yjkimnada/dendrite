{
 "cells": [
  {
   "cell_type": "code",
   "execution_count": 1,
   "id": "e7faa469",
   "metadata": {},
   "outputs": [],
   "source": [
    "import numpy as np\n",
    "import torch \n",
    "import torch.nn as nn\n",
    "from tqdm import tnrange\n",
    "import torch.optim as optim\n",
    "import torch.nn.functional as F\n",
    "from sklearn import metrics\n",
    "import matplotlib.pyplot as plt\n",
    "import time\n",
    "from sklearn.metrics import explained_variance_score"
   ]
  },
  {
   "cell_type": "code",
   "execution_count": 2,
   "id": "8753064b",
   "metadata": {},
   "outputs": [],
   "source": [
    "class AP_GRU_Lag(nn.Module):\n",
    "    def __init__(self, H_no, lag, device):\n",
    "        super().__init__()\n",
    "        \n",
    "        self.H_no = H_no\n",
    "        self.device = device\n",
    "        \n",
    "        self.rnn = nn.GRU(lag+1, H_no, batch_first=True)\n",
    "        self.linear = nn.Linear(H_no, 1)\n",
    "        \n",
    "    def forward(self, V):\n",
    "        #V is shape (batch, 50000, lag+1)\n",
    "\n",
    "        rnn_out, _ = self.rnn(V) #(batch,50000,H)\n",
    "        rnn_out = rnn_out.reshape(-1,self.H_no)\n",
    "        lin_out = self.linear(rnn_out) #(batch*50000,1)\n",
    "        final = torch.sigmoid(lin_out.reshape(V.shape[0], V.shape[1]))\n",
    "        \n",
    "        return final\n",
    "\n"
   ]
  },
  {
   "cell_type": "code",
   "execution_count": 3,
   "id": "6e8d732d",
   "metadata": {},
   "outputs": [
    {
     "name": "stdout",
     "output_type": "stream",
     "text": [
      "torch.Size([1000, 2000, 20])\n"
     ]
    }
   ],
   "source": [
    "batch_size = 20\n",
    "batch_length = int(50000 / 5 / 5)\n",
    "H_no = 40\n",
    "device = torch.device(\"cuda\")\n",
    "lag = 20\n",
    "\n",
    "epoch_no = 400\n",
    "iter_no = epoch_no * 980 // batch_size\n",
    "\n",
    "#V = np.load(\"/media/hdd01/sklee/CA1_clust4-60_noNA/data/vdata_T10_Ne2000_gA0.6_tauA1_gN0.8_Ni200_gG0.1_gB0.1_noDendNa_Er0.5_Ir7.4_random_NR_rep1000_stimseed1.npy\").reshape(-1,50001)[:,:50000]\n",
    "#V = np.load(\"/media/hdd01/sklee/CA1_clust4-60_AP/comb_pred/V_comb_pred_0.4ms.npy\")\n",
    "V = np.load(\"/media/hdd01/sklee/CA1_clust4-60_aSoma/diff_pred/V_diff_pred_5ms.npy\").reshape(-1,batch_length)\n",
    "S = np.load(\"/media/hdd01/sklee/CA1_clust4-60_aSoma/data/spike_train_5ms.npy\").reshape(-1,batch_length)\n",
    "\n",
    "V-= np.mean(V)\n",
    "\n",
    "V = torch.from_numpy(V)\n",
    "S = torch.from_numpy(S)\n",
    "\n",
    "V_lag = np.zeros((V.shape[0], V.shape[1], lag)) #(lag,1000,50000)\n",
    "for i in range(lag):\n",
    "    #V_pad = np.zeros_like(V)\n",
    "    #V_pad[:,i+1:] = V[:,:-i-1]\n",
    "    #V_lag[:,:,i] = V - V_pad\n",
    "    \n",
    "    V_lag[:,i+1:,i] = V[:,:-i-1]\n",
    "\n",
    "V_lag = torch.from_numpy(V_lag)\n",
    "print(V_lag.shape)"
   ]
  },
  {
   "cell_type": "code",
   "execution_count": 4,
   "id": "bfda0478",
   "metadata": {},
   "outputs": [
    {
     "name": "stdout",
     "output_type": "stream",
     "text": [
      "torch.Size([19600, 20])\n"
     ]
    }
   ],
   "source": [
    "V_train = V[:980].float()\n",
    "V_test = V[980:].float().to(device)\n",
    "S_train = S[:980].float()\n",
    "S_test = S[980:].float().to(device)\n",
    "V_lag_train = V_lag[:980].float()\n",
    "V_lag_test = V_lag[980:].float().to(device)\n",
    "\n",
    "train_idx = np.empty((epoch_no, 980))\n",
    "for i in range(epoch_no):\n",
    "    part_idx = np.arange(0,980,1)\n",
    "    np.random.shuffle(part_idx)\n",
    "    train_idx[i] = part_idx\n",
    "train_idx = train_idx.reshape(-1, batch_size)\n",
    "train_idx = torch.from_numpy(train_idx).long()\n",
    "print(train_idx.shape)"
   ]
  },
  {
   "cell_type": "code",
   "execution_count": 5,
   "id": "784b45c2",
   "metadata": {},
   "outputs": [
    {
     "name": "stdout",
     "output_type": "stream",
     "text": [
      "7601\n"
     ]
    }
   ],
   "source": [
    "model = AP_GRU_Lag(H_no, lag, device)\n",
    "optimizer = torch.optim.Adam(model.parameters(), lr = 0.0025)\n",
    "\n",
    "model.to(device).float()\n",
    "print(sum(p.numel() for p in model.parameters() if p.requires_grad))\n",
    "\n",
    "bce_criterion = nn.BCELoss(reduction=\"mean\")"
   ]
  },
  {
   "cell_type": "code",
   "execution_count": 6,
   "id": "84e29a0c",
   "metadata": {
    "scrolled": false
   },
   "outputs": [
    {
     "name": "stderr",
     "output_type": "stream",
     "text": [
      "<ipython-input-6-1443ae8f432f>:5: TqdmDeprecationWarning: Please use `tqdm.notebook.trange` instead of `tqdm.tnrange`\n",
      "  for i in tnrange(10000):\n"
     ]
    },
    {
     "data": {
      "application/vnd.jupyter.widget-view+json": {
       "model_id": "47cda026f3064d63a170213c7560db3f",
       "version_major": 2,
       "version_minor": 0
      },
      "text/plain": [
       "  0%|          | 0/10000 [00:00<?, ?it/s]"
      ]
     },
     "metadata": {},
     "output_type": "display_data"
    },
    {
     "name": "stdout",
     "output_type": "stream",
     "text": [
      "0 0.7097633481025696\n",
      "49 0.024021456018090248\n",
      "99 0.01673966273665428\n",
      "149 0.014627767726778984\n",
      "199 0.013438520021736622\n",
      "249 0.012627527117729187\n",
      "299 0.01207264419645071\n",
      "349 0.011686928570270538\n",
      "399 0.011382538825273514\n",
      "449 0.011132513172924519\n",
      "499 0.010874273255467415\n",
      "549 0.01060972735285759\n",
      "599 0.010268239304423332\n",
      "649 0.009796314872801304\n",
      "699 0.00956013984978199\n",
      "749 0.009145969524979591\n",
      "799 0.009118873625993729\n",
      "849 0.008529148995876312\n",
      "899 0.00857233814895153\n",
      "949 0.008201372809708118\n",
      "999 0.008246397599577904\n",
      "1049 0.00813356414437294\n",
      "1099 0.008217169903218746\n",
      "1149 0.008063745684921741\n",
      "1199 0.00840221531689167\n",
      "1249 0.007782435975968838\n",
      "1299 0.007753677200525999\n",
      "1349 0.007624429184943438\n",
      "1399 0.007619100157171488\n",
      "1449 0.007489577867090702\n",
      "1499 0.007470077369362116\n",
      "1549 0.007385616656392813\n",
      "1599 0.007254117168486118\n",
      "1649 0.007876263000071049\n",
      "1699 0.00689250323921442\n",
      "1749 0.006967983208596706\n",
      "1799 0.006703475024551153\n",
      "1849 0.00702716875821352\n",
      "1899 0.007419032044708729\n",
      "1949 0.007392727304250002\n",
      "1999 0.006684144958853722\n",
      "2049 0.006555936299264431\n",
      "2099 0.006760234013199806\n",
      "2149 0.006598892156034708\n",
      "2199 0.006685033906251192\n",
      "2249 0.006446524057537317\n",
      "2299 0.0067346226423978806\n",
      "2349 0.0066207703202962875\n",
      "2399 0.007223297841846943\n",
      "2449 0.006629713345319033\n",
      "2499 0.006372700911015272\n",
      "2549 0.006402433384209871\n",
      "2599 0.006645249668508768\n",
      "2649 0.006767280399799347\n",
      "2699 0.006521458271890879\n",
      "2749 0.006642718333750963\n",
      "2799 0.006509249564260244\n",
      "2849 0.0064676618203520775\n",
      "2899 0.006335497833788395\n",
      "2949 0.006327519193291664\n",
      "2999 0.006285001989454031\n",
      "3049 0.006304912269115448\n",
      "3099 0.00656876340508461\n",
      "3149 0.00647763954475522\n",
      "3199 0.006379400379955769\n",
      "3249 0.006360792554914951\n",
      "3299 0.0064541930332779884\n",
      "3349 0.006144583225250244\n",
      "3399 0.006320311687886715\n",
      "3449 0.006294318940490484\n",
      "3499 0.006245221011340618\n",
      "3549 0.006257345899939537\n",
      "3599 0.00624022725969553\n",
      "3649 0.006312591955065727\n",
      "3699 0.006388331763446331\n",
      "3749 0.0063425833359360695\n",
      "3799 0.006219921633601189\n",
      "3849 0.006615918595343828\n",
      "3899 0.006381024606525898\n",
      "3949 0.006801981013268232\n",
      "3999 0.006398672237992287\n",
      "4049 0.006348360329866409\n",
      "4099 0.00666467659175396\n",
      "4149 0.006193023640662432\n",
      "4199 0.006199032533913851\n",
      "4249 0.00642118975520134\n",
      "4299 0.006279733497649431\n",
      "4349 0.006232283543795347\n",
      "4399 0.006253901869058609\n",
      "4449 0.006284575909376144\n",
      "4499 0.006497364491224289\n",
      "4549 0.006210746709257364\n",
      "4599 0.006246672011911869\n",
      "4649 0.006385578773915768\n",
      "4699 0.006255786400288343\n",
      "4749 0.0069652763195335865\n",
      "4799 0.006300858687609434\n",
      "4849 0.006625989452004433\n",
      "4899 0.00633579446002841\n",
      "4949 0.00637015188112855\n",
      "4999 0.006148212123662233\n",
      "5049 0.006985723506659269\n",
      "5099 0.006397406104952097\n",
      "5149 0.006313033401966095\n",
      "5199 0.006769633386284113\n",
      "5249 0.006359149236232042\n",
      "5299 0.006077972240746021\n",
      "5349 0.006241883151233196\n",
      "5399 0.006917377933859825\n",
      "5449 0.006192055996507406\n",
      "5499 0.006339743733406067\n",
      "5549 0.0062818326987326145\n",
      "5599 0.00628497451543808\n",
      "5649 0.006489122752100229\n",
      "5699 0.0064836712554097176\n",
      "5749 0.006179584190249443\n",
      "5799 0.006305651273578405\n",
      "5849 0.006154797971248627\n",
      "5899 0.006253506522625685\n",
      "5949 0.006235133856534958\n",
      "5999 0.006161929108202457\n",
      "6049 0.0061758942902088165\n",
      "6099 0.006168249994516373\n",
      "6149 0.00625149579718709\n",
      "6199 0.006252212915569544\n",
      "6249 0.006837858352810144\n",
      "6299 0.0062549663707613945\n",
      "6349 0.00631121639162302\n",
      "6399 0.006187214516103268\n",
      "6449 0.006403035018593073\n",
      "6499 0.006123747210949659\n",
      "6549 0.006211051717400551\n",
      "6599 0.00626014219596982\n",
      "6649 0.0062632933259010315\n",
      "6699 0.006333635188639164\n",
      "6749 0.00626215897500515\n",
      "6799 0.006204070057719946\n",
      "6849 0.006642033811658621\n",
      "6899 0.006318202242255211\n",
      "6949 0.006186907645314932\n",
      "6999 0.006343357730656862\n",
      "7049 0.006218880880624056\n",
      "7099 0.006158133503049612\n",
      "7149 0.0062425159849226475\n",
      "7199 0.006358574144542217\n",
      "7249 0.006608444266021252\n",
      "7299 0.006307264789938927\n",
      "7349 0.006260177586227655\n",
      "7399 0.006771871820092201\n",
      "7449 0.006265303585678339\n",
      "7499 0.006511810701340437\n",
      "7549 0.006218210328370333\n",
      "7599 0.006389385089278221\n",
      "7649 0.006686801556497812\n",
      "7699 0.00641393568366766\n",
      "7749 0.006492520682513714\n",
      "7799 0.006295479368418455\n",
      "7849 0.006487186066806316\n",
      "7899 0.006295369006693363\n",
      "7949 0.006551321130245924\n",
      "7999 0.0069735366851091385\n",
      "8049 0.006397339515388012\n",
      "8099 0.006298048421740532\n",
      "8149 0.006432098802179098\n",
      "8199 0.006249692756682634\n",
      "8249 0.006410883739590645\n",
      "8299 0.006314606871455908\n",
      "8349 0.0061747608706355095\n",
      "8399 0.006664725486189127\n",
      "8449 0.006489346269518137\n",
      "8499 0.006564770359545946\n",
      "8549 0.006234478205442429\n",
      "8599 0.006816979963332415\n",
      "8649 0.006495255045592785\n",
      "8699 0.006321920547634363\n",
      "8749 0.00637747161090374\n",
      "8799 0.006310514640063047\n",
      "8849 0.006346484180539846\n",
      "8899 0.00652985367923975\n",
      "8949 0.006225151475518942\n",
      "8999 0.006287422496825457\n",
      "9049 0.006258054636418819\n",
      "9099 0.006273162085562944\n",
      "9149 0.006379830185323954\n",
      "9199 0.006645844783633947\n",
      "9249 0.006297285668551922\n",
      "9299 0.006245640572160482\n",
      "9349 0.0062796128913760185\n",
      "9399 0.006481681484729052\n",
      "9449 0.0061681997030973434\n",
      "9499 0.006678084377199411\n",
      "9549 0.006351471412926912\n",
      "9599 0.006345097441226244\n",
      "9649 0.006429595872759819\n",
      "9699 0.006452609319239855\n",
      "9749 0.006485052406787872\n",
      "9799 0.006542739924043417\n",
      "9849 0.006261566188186407\n",
      "9899 0.0063416846096515656\n",
      "9949 0.006421941798180342\n",
      "9999 0.006283747497946024\n"
     ]
    }
   ],
   "source": [
    "score_list = []\n",
    "\n",
    "\n",
    "#for i in tnrange(iter_no):\n",
    "for i in tnrange(10000):  \n",
    "    s = time.time()\n",
    "    model.train()\n",
    "    optimizer.zero_grad()\n",
    "    \n",
    "    batch_idx = train_idx[i]\n",
    "    batch_S = S_train[batch_idx].to(device)\n",
    "    batch_V = V_train[batch_idx].to(device)\n",
    "    batch_V_lag = V_lag_train[batch_idx].to(device)\n",
    "    \n",
    "    batch_V_in = torch.zeros(batch_size, batch_length, lag+1).to(device)\n",
    "    batch_V_in[:,:,0] = batch_V\n",
    "    batch_V_in[:,:,1:] = batch_V_lag\n",
    "    \n",
    "    S_out = model(batch_V_in)\n",
    "    loss = bce_criterion(S_out, batch_S)\n",
    "    \n",
    "    loss.backward()\n",
    "    nn.utils.clip_grad_norm_(model.parameters(), 10)\n",
    "    optimizer.step()\n",
    "    \n",
    "    step_time = time.time() - s\n",
    "    \n",
    "    if (i%50 == 49) or (i == 0):\n",
    "        model.eval()\n",
    "        V_test_in = torch.zeros(batch_size, batch_length, lag+1).to(device)\n",
    "        V_test_in[:,:,0] = V_test\n",
    "        V_test_in[:,:,1:] = V_lag_test\n",
    "        \n",
    "        test_S_out = model(V_test_in)\n",
    "        test_loss = bce_criterion(test_S_out, S_test).item()\n",
    "        \n",
    "        score_list.append(test_loss)\n",
    "        print(i, test_loss)"
   ]
  },
  {
   "cell_type": "code",
   "execution_count": null,
   "id": "f591ea9b",
   "metadata": {},
   "outputs": [],
   "source": []
  },
  {
   "cell_type": "code",
   "execution_count": 7,
   "id": "e006b31b",
   "metadata": {},
   "outputs": [
    {
     "data": {
      "text/plain": [
       "[<matplotlib.lines.Line2D at 0x7f8af00cc400>]"
      ]
     },
     "execution_count": 7,
     "metadata": {},
     "output_type": "execute_result"
    },
    {
     "data": {
      "image/png": "[encoded data removed]",
      "text/plain": [
       "<Figure size 432x288 with 1 Axes>"
      ]
     },
     "metadata": {
      "needs_background": "light"
     },
     "output_type": "display_data"
    }
   ],
   "source": [
    "plt.plot(np.asarray(score_list)[20:])"
   ]
  },
  {
   "cell_type": "code",
   "execution_count": 8,
   "id": "ad66af8b",
   "metadata": {},
   "outputs": [
    {
     "name": "stdout",
     "output_type": "stream",
     "text": [
      "tensor(0.8410, device='cuda:0', grad_fn=<MaxBackward1>)\n"
     ]
    },
    {
     "data": {
      "image/png": "[encoded data removed]",
      "text/plain": [
       "<Figure size 1080x360 with 1 Axes>"
      ]
     },
     "metadata": {
      "needs_background": "light"
     },
     "output_type": "display_data"
    }
   ],
   "source": [
    "plt.figure(figsize = (15,5))\n",
    "plt.plot(S_test[0].cpu().detach().numpy())\n",
    "plt.plot(test_S_out[1].cpu().detach().numpy())\n",
    "#plt.xlim(4500,5200)\n",
    "#plt.ylim(-1,10)\n",
    "print(torch.max(test_S_out))"
   ]
  },
  {
   "cell_type": "code",
   "execution_count": 7,
   "id": "780f8cd8",
   "metadata": {},
   "outputs": [],
   "source": [
    "#torch.save(model.state_dict(), \"/media/hdd01/sklee/CA1_clust4-60_aSoma/diff_pred/gru_l20_h40_5ms.pt\")\n",
    "#np.save(\"/media/hdd01/sklee/CA1_clust4-60_aSoma/diff_pred/gru_l20_h40_5ms_test.npy\", test_S_out.cpu().detach().numpy())"
   ]
  },
  {
   "cell_type": "code",
   "execution_count": null,
   "id": "220095ad",
   "metadata": {},
   "outputs": [],
   "source": []
  }
 ],
 "metadata": {
  "kernelspec": {
   "display_name": "Python 3",
   "language": "python",
   "name": "python3"
  },
  "language_info": {
   "codemirror_mode": {
    "name": "ipython",
    "version": 3
   },
   "file_extension": ".py",
   "mimetype": "text/x-python",
   "name": "python",
   "nbconvert_exporter": "python",
   "pygments_lexer": "ipython3",
   "version": "3.8.8"
  }
 },
 "nbformat": 4,
 "nbformat_minor": 5
}
