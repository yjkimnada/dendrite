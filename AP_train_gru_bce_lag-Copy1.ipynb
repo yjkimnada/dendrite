{
 "cells": [
  {
   "cell_type": "code",
   "execution_count": 1,
   "id": "e7faa469",
   "metadata": {},
   "outputs": [],
   "source": [
    "import numpy as np\n",
    "import torch \n",
    "import torch.nn as nn\n",
    "from tqdm import tnrange\n",
    "import torch.optim as optim\n",
    "import torch.nn.functional as F\n",
    "from sklearn import metrics\n",
    "import matplotlib.pyplot as plt\n",
    "import time\n",
    "from sklearn.metrics import explained_variance_score"
   ]
  },
  {
   "cell_type": "code",
   "execution_count": 2,
   "id": "8753064b",
   "metadata": {},
   "outputs": [],
   "source": [
    "class AP_GRU_Lag(nn.Module):\n",
    "    def __init__(self, H_no, lag, device):\n",
    "        super().__init__()\n",
    "        \n",
    "        self.H_no = H_no\n",
    "        self.device = device\n",
    "        \n",
    "        self.rnn = nn.GRU(lag+1, H_no, batch_first=True)\n",
    "        self.linear = nn.Linear(H_no, 1)\n",
    "        \n",
    "    def forward(self, V):\n",
    "        #V is shape (batch, 50000, lag+1)\n",
    "\n",
    "        rnn_out, _ = self.rnn(V) #(batch,50000,H)\n",
    "        rnn_out = rnn_out.reshape(-1,self.H_no)\n",
    "        lin_out = self.linear(rnn_out) #(batch*50000,1)\n",
    "        final = torch.sigmoid(lin_out.reshape(V.shape[0], V.shape[1]))\n",
    "        \n",
    "        return final\n",
    "\n"
   ]
  },
  {
   "cell_type": "code",
   "execution_count": 3,
   "id": "6e8d732d",
   "metadata": {},
   "outputs": [
    {
     "name": "stdout",
     "output_type": "stream",
     "text": [
      "torch.Size([1000, 50000, 20])\n"
     ]
    }
   ],
   "source": [
    "batch_size = 20\n",
    "batch_length = int(50000 / 5 / 0.2)\n",
    "H_no = 40\n",
    "device = torch.device(\"cuda\")\n",
    "lag = 20\n",
    "\n",
    "epoch_no = 400\n",
    "iter_no = epoch_no * 980 // batch_size\n",
    "\n",
    "#V = np.load(\"/media/hdd01/sklee/CA1_clust4-60_noNA/data/vdata_T10_Ne2000_gA0.6_tauA1_gN0.8_Ni200_gG0.1_gB0.1_noDendNa_Er0.5_Ir7.4_random_NR_rep1000_stimseed1.npy\").reshape(-1,50001)[:,:50000]\n",
    "#V = np.load(\"/media/hdd01/sklee/CA1_clust4-60_AP/comb_pred/V_comb_pred_0.4ms.npy\")\n",
    "V = np.load(\"/media/hdd01/sklee/CA1_clust4-60_AP/na_true_nona_pred/V_na_true_nona_pred_0.2ms.npy\").reshape(-1,batch_length)\n",
    "S = np.load(\"/media/hdd01/sklee/CA1_clust4-60_AP/data/spike_train_0.2ms.npy\").reshape(-1,batch_length)\n",
    "\n",
    "V-= np.mean(V)\n",
    "\n",
    "V = torch.from_numpy(V)\n",
    "S = torch.from_numpy(S)\n",
    "\n",
    "V_lag = np.zeros((V.shape[0], V.shape[1], lag)) #(lag,1000,50000)\n",
    "for i in range(lag):\n",
    "    #V_pad = np.zeros_like(V)\n",
    "    #V_pad[:,i+1:] = V[:,:-i-1]\n",
    "    #V_lag[:,:,i] = V - V_pad\n",
    "    \n",
    "    V_lag[:,i+1:,i] = V[:,:-i-1]\n",
    "\n",
    "V_lag = torch.from_numpy(V_lag)\n",
    "print(V_lag.shape)"
   ]
  },
  {
   "cell_type": "code",
   "execution_count": 4,
   "id": "bfda0478",
   "metadata": {},
   "outputs": [
    {
     "name": "stdout",
     "output_type": "stream",
     "text": [
      "torch.Size([19600, 20])\n"
     ]
    }
   ],
   "source": [
    "V_train = V[:980].float()\n",
    "V_test = V[980:].float().to(device)\n",
    "S_train = S[:980].float()\n",
    "S_test = S[980:].float().to(device)\n",
    "V_lag_train = V_lag[:980].float()\n",
    "V_lag_test = V_lag[980:].float().to(device)\n",
    "\n",
    "train_idx = np.empty((epoch_no, 980))\n",
    "for i in range(epoch_no):\n",
    "    part_idx = np.arange(0,980,1)\n",
    "    np.random.shuffle(part_idx)\n",
    "    train_idx[i] = part_idx\n",
    "train_idx = train_idx.reshape(-1, batch_size)\n",
    "train_idx = torch.from_numpy(train_idx).long()\n",
    "print(train_idx.shape)"
   ]
  },
  {
   "cell_type": "code",
   "execution_count": 5,
   "id": "784b45c2",
   "metadata": {},
   "outputs": [
    {
     "name": "stdout",
     "output_type": "stream",
     "text": [
      "7601\n"
     ]
    }
   ],
   "source": [
    "model = AP_GRU_Lag(H_no, lag, device)\n",
    "optimizer = torch.optim.Adam(model.parameters(), lr = 0.0025)\n",
    "\n",
    "model.to(device).float()\n",
    "print(sum(p.numel() for p in model.parameters() if p.requires_grad))\n",
    "\n",
    "bce_criterion = nn.BCELoss(reduction=\"mean\")"
   ]
  },
  {
   "cell_type": "code",
   "execution_count": 6,
   "id": "84e29a0c",
   "metadata": {
    "scrolled": false
   },
   "outputs": [
    {
     "name": "stderr",
     "output_type": "stream",
     "text": [
      "<ipython-input-6-ff74019a41bb>:4: TqdmDeprecationWarning: Please use `tqdm.notebook.trange` instead of `tqdm.tnrange`\n",
      "  for i in tnrange(iter_no):\n"
     ]
    },
    {
     "data": {
      "application/vnd.jupyter.widget-view+json": {
       "model_id": "a51144f40f8a4734b1f8ed9109cb59cf",
       "version_major": 2,
       "version_minor": 0
      },
      "text/plain": [
       "  0%|          | 0/19600 [00:00<?, ?it/s]"
      ]
     },
     "metadata": {},
     "output_type": "display_data"
    },
    {
     "name": "stdout",
     "output_type": "stream",
     "text": [
      "0 0.714466392993927\n",
      "49 0.006971892435103655\n",
      "99 0.0030067721381783485\n",
      "149 0.002394778421148658\n",
      "199 0.002083652652800083\n",
      "249 0.0018904629396274686\n",
      "299 0.001762128435075283\n",
      "349 0.0016596054192632437\n",
      "399 0.001588171347975731\n",
      "449 0.0015250112628564239\n",
      "499 0.0014751957496628165\n",
      "549 0.0014422587119042873\n",
      "599 0.001416834071278572\n",
      "649 0.0013963293749839067\n",
      "699 0.001379324123263359\n",
      "749 0.0013647394953295588\n",
      "799 0.0013521471992135048\n",
      "849 0.0013406227808445692\n",
      "899 0.0013300017453730106\n",
      "949 0.0013199043460190296\n",
      "999 0.001309372833929956\n",
      "1049 0.001296323724091053\n",
      "1099 0.001279809046536684\n",
      "1149 0.0012613586150109768\n",
      "1199 0.0012442620936781168\n",
      "1249 0.0012296743225306273\n",
      "1299 0.00121691869571805\n",
      "1349 0.0012044236063957214\n",
      "1399 0.0011894835624843836\n",
      "1449 0.0011780551867559552\n",
      "1499 0.001166993286460638\n",
      "1549 0.0011574492091313004\n",
      "1599 0.0011474083876237273\n",
      "1649 0.0011387771228328347\n",
      "1699 0.0011319081531837583\n",
      "1749 0.001126013812609017\n",
      "1799 0.0011197117855772376\n",
      "1849 0.0011139437556266785\n",
      "1899 0.0011066645383834839\n",
      "1949 0.0011002590181306005\n",
      "1999 0.0010936367325484753\n",
      "2049 0.0010883943177759647\n",
      "2099 0.0010822296608239412\n",
      "2149 0.001078742672689259\n",
      "2199 0.0010743561433628201\n",
      "2249 0.0010705618187785149\n",
      "2299 0.0010676826350390911\n",
      "2349 0.0010635387152433395\n",
      "2399 0.0010628809686750174\n",
      "2449 0.0010550764854997396\n",
      "2499 0.0010508612031117082\n",
      "2549 0.0010436157463118434\n",
      "2599 0.0010348865762352943\n",
      "2649 0.001032122178003192\n",
      "2699 0.0010201447876170278\n",
      "2749 0.001014029374346137\n",
      "2799 0.0010065182577818632\n",
      "2849 0.0010020012268796563\n",
      "2899 0.000998938805423677\n",
      "2949 0.0009933519177138805\n",
      "2999 0.001002539531327784\n",
      "3049 0.0009899901924654841\n",
      "3099 0.0009949307423084974\n",
      "3149 0.0009952961700037122\n",
      "3199 0.000988104147836566\n",
      "3249 0.000995767186395824\n",
      "3299 0.0009787139715626836\n",
      "3349 0.0009789984906092286\n",
      "3399 0.0009765358990989625\n",
      "3449 0.0009769389871507883\n",
      "3499 0.0009693249594420195\n",
      "3549 0.0009764599963091314\n",
      "3599 0.0009737602667883039\n",
      "3649 0.0009630571003071964\n",
      "3699 0.0009741767426021397\n",
      "3749 0.0009770363103598356\n",
      "3799 0.0009611765271984041\n",
      "3849 0.000959014636464417\n",
      "3899 0.0009658691706135869\n",
      "3949 0.0009576398879289627\n",
      "3999 0.000958701188210398\n",
      "4049 0.0009620717610232532\n",
      "4099 0.0009574608411639929\n",
      "4149 0.0009540310129523277\n",
      "4199 0.0009732639882713556\n",
      "4249 0.0009535017306916416\n",
      "4299 0.0009488899959251285\n",
      "4349 0.0009547995869070292\n",
      "4399 0.0009473550599068403\n",
      "4449 0.0009512152173556387\n",
      "4499 0.0009462932357564569\n",
      "4549 0.000942982907872647\n",
      "4599 0.0009529898525215685\n",
      "4649 0.0009445633622817695\n",
      "4699 0.0009495143895037472\n",
      "4749 0.0009432519436813891\n",
      "4799 0.0009481605957262218\n",
      "4849 0.0009391198982484639\n",
      "4899 0.0009407930774614215\n",
      "4949 0.0009428433841094375\n",
      "4999 0.0009380141855217516\n",
      "5049 0.0009383569122292101\n",
      "5099 0.0009416273678652942\n",
      "5149 0.0009357212111353874\n",
      "5199 0.0009353668428957462\n",
      "5249 0.0009337217779830098\n",
      "5299 0.0009372569038532674\n",
      "5349 0.0009569627000018954\n",
      "5399 0.0009315371280536056\n",
      "5449 0.0009265822009183466\n",
      "5499 0.0009598199394531548\n",
      "5549 0.0009295184281654656\n",
      "5599 0.0009293528855778277\n",
      "5649 0.0009367425227537751\n",
      "5699 0.0009297153446823359\n",
      "5749 0.0009397736866958439\n",
      "5799 0.000959263474214822\n",
      "5849 0.0009204675443470478\n",
      "5899 0.0009209747076965868\n",
      "5949 0.000933225906919688\n",
      "5999 0.0009339864482171834\n",
      "6049 0.000941673933994025\n",
      "6099 0.0009203824447467923\n",
      "6149 0.0009350127074867487\n",
      "6199 0.0009251562878489494\n",
      "6249 0.0009212474105879664\n",
      "6299 0.000938823854085058\n",
      "6349 0.0009321562247350812\n",
      "6399 0.0009328825399279594\n",
      "6449 0.0009259989019483328\n",
      "6499 0.0009304161067120731\n",
      "6549 0.0009248911519534886\n",
      "6599 0.0009219836210832\n",
      "6649 0.0009257324854843318\n",
      "6699 0.0009485322516411543\n",
      "6749 0.0009362485143356025\n",
      "6799 0.0009498718427494168\n",
      "6849 0.0009216185426339507\n",
      "6899 0.0009187012328766286\n",
      "6949 0.0009192259167321026\n",
      "6999 0.0009185595554299653\n",
      "7049 0.0009255369659513235\n",
      "7099 0.0009195840102620423\n",
      "7149 0.0009302584803663194\n",
      "7199 0.0009271770250052214\n",
      "7249 0.0009272424504160881\n",
      "7299 0.000912454619538039\n",
      "7349 0.0009126060758717358\n",
      "7399 0.0009337708470411599\n",
      "7449 0.0009367473539896309\n",
      "7499 0.0009136818698607385\n",
      "7549 0.0009158505708910525\n",
      "7599 0.0009163781651295722\n",
      "7649 0.0009235449251718819\n",
      "7699 0.0009334796923212707\n",
      "7749 0.0009269410511478782\n",
      "7799 0.000927116023376584\n",
      "7849 0.0009259060025215149\n",
      "7899 0.0009293401963077486\n",
      "7949 0.0009322912083007395\n",
      "7999 0.0009149422403424978\n",
      "8049 0.0009233815944753587\n",
      "8099 0.0009269760921597481\n",
      "8149 0.0009499741136096418\n",
      "8199 0.0009244586690329015\n",
      "8249 0.00093432905850932\n",
      "8299 0.000942753569688648\n",
      "8349 0.0009308376465924084\n",
      "8399 0.000936124415602535\n",
      "8449 0.0009134112624451518\n",
      "8499 0.0009230174473486841\n",
      "8549 0.0009198017651215196\n",
      "8599 0.0009279391961172223\n",
      "8649 0.0009219707571901381\n",
      "8699 0.0009383090073242784\n",
      "8749 0.0009349978063255548\n",
      "8799 0.0009133940911851823\n",
      "8849 0.0009405688615515828\n",
      "8899 0.000919449666980654\n",
      "8949 0.000935981806833297\n",
      "8999 0.000920906662940979\n",
      "9049 0.0009267720743082464\n",
      "9099 0.0009133197017945349\n",
      "9149 0.0009330771281383932\n",
      "9199 0.0009213759913109243\n",
      "9249 0.0009226264082826674\n",
      "9299 0.0009168786928057671\n"
     ]
    },
    {
     "ename": "KeyboardInterrupt",
     "evalue": "",
     "output_type": "error",
     "traceback": [
      "\u001b[0;31m---------------------------------------------------------------------------\u001b[0m",
      "\u001b[0;31mKeyboardInterrupt\u001b[0m                         Traceback (most recent call last)",
      "\u001b[0;32m<ipython-input-6-ff74019a41bb>\u001b[0m in \u001b[0;36m<module>\u001b[0;34m\u001b[0m\n\u001b[1;32m     20\u001b[0m     \u001b[0mloss\u001b[0m \u001b[0;34m=\u001b[0m \u001b[0mbce_criterion\u001b[0m\u001b[0;34m(\u001b[0m\u001b[0mS_out\u001b[0m\u001b[0;34m,\u001b[0m \u001b[0mbatch_S\u001b[0m\u001b[0;34m)\u001b[0m\u001b[0;34m\u001b[0m\u001b[0;34m\u001b[0m\u001b[0m\n\u001b[1;32m     21\u001b[0m \u001b[0;34m\u001b[0m\u001b[0m\n\u001b[0;32m---> 22\u001b[0;31m     \u001b[0mloss\u001b[0m\u001b[0;34m.\u001b[0m\u001b[0mbackward\u001b[0m\u001b[0;34m(\u001b[0m\u001b[0;34m)\u001b[0m\u001b[0;34m\u001b[0m\u001b[0;34m\u001b[0m\u001b[0m\n\u001b[0m\u001b[1;32m     23\u001b[0m     \u001b[0mnn\u001b[0m\u001b[0;34m.\u001b[0m\u001b[0mutils\u001b[0m\u001b[0;34m.\u001b[0m\u001b[0mclip_grad_norm_\u001b[0m\u001b[0;34m(\u001b[0m\u001b[0mmodel\u001b[0m\u001b[0;34m.\u001b[0m\u001b[0mparameters\u001b[0m\u001b[0;34m(\u001b[0m\u001b[0;34m)\u001b[0m\u001b[0;34m,\u001b[0m \u001b[0;36m10\u001b[0m\u001b[0;34m)\u001b[0m\u001b[0;34m\u001b[0m\u001b[0;34m\u001b[0m\u001b[0m\n\u001b[1;32m     24\u001b[0m     \u001b[0moptimizer\u001b[0m\u001b[0;34m.\u001b[0m\u001b[0mstep\u001b[0m\u001b[0;34m(\u001b[0m\u001b[0;34m)\u001b[0m\u001b[0;34m\u001b[0m\u001b[0;34m\u001b[0m\u001b[0m\n",
      "\u001b[0;32m~/anaconda3/lib/python3.8/site-packages/torch/tensor.py\u001b[0m in \u001b[0;36mbackward\u001b[0;34m(self, gradient, retain_graph, create_graph, inputs)\u001b[0m\n\u001b[1;32m    243\u001b[0m                 \u001b[0mcreate_graph\u001b[0m\u001b[0;34m=\u001b[0m\u001b[0mcreate_graph\u001b[0m\u001b[0;34m,\u001b[0m\u001b[0;34m\u001b[0m\u001b[0;34m\u001b[0m\u001b[0m\n\u001b[1;32m    244\u001b[0m                 inputs=inputs)\n\u001b[0;32m--> 245\u001b[0;31m         \u001b[0mtorch\u001b[0m\u001b[0;34m.\u001b[0m\u001b[0mautograd\u001b[0m\u001b[0;34m.\u001b[0m\u001b[0mbackward\u001b[0m\u001b[0;34m(\u001b[0m\u001b[0mself\u001b[0m\u001b[0;34m,\u001b[0m \u001b[0mgradient\u001b[0m\u001b[0;34m,\u001b[0m \u001b[0mretain_graph\u001b[0m\u001b[0;34m,\u001b[0m \u001b[0mcreate_graph\u001b[0m\u001b[0;34m,\u001b[0m \u001b[0minputs\u001b[0m\u001b[0;34m=\u001b[0m\u001b[0minputs\u001b[0m\u001b[0;34m)\u001b[0m\u001b[0;34m\u001b[0m\u001b[0;34m\u001b[0m\u001b[0m\n\u001b[0m\u001b[1;32m    246\u001b[0m \u001b[0;34m\u001b[0m\u001b[0m\n\u001b[1;32m    247\u001b[0m     \u001b[0;32mdef\u001b[0m \u001b[0mregister_hook\u001b[0m\u001b[0;34m(\u001b[0m\u001b[0mself\u001b[0m\u001b[0;34m,\u001b[0m \u001b[0mhook\u001b[0m\u001b[0;34m)\u001b[0m\u001b[0;34m:\u001b[0m\u001b[0;34m\u001b[0m\u001b[0;34m\u001b[0m\u001b[0m\n",
      "\u001b[0;32m~/anaconda3/lib/python3.8/site-packages/torch/autograd/__init__.py\u001b[0m in \u001b[0;36mbackward\u001b[0;34m(tensors, grad_tensors, retain_graph, create_graph, grad_variables, inputs)\u001b[0m\n\u001b[1;32m    143\u001b[0m         \u001b[0mretain_graph\u001b[0m \u001b[0;34m=\u001b[0m \u001b[0mcreate_graph\u001b[0m\u001b[0;34m\u001b[0m\u001b[0;34m\u001b[0m\u001b[0m\n\u001b[1;32m    144\u001b[0m \u001b[0;34m\u001b[0m\u001b[0m\n\u001b[0;32m--> 145\u001b[0;31m     Variable._execution_engine.run_backward(\n\u001b[0m\u001b[1;32m    146\u001b[0m         \u001b[0mtensors\u001b[0m\u001b[0;34m,\u001b[0m \u001b[0mgrad_tensors_\u001b[0m\u001b[0;34m,\u001b[0m \u001b[0mretain_graph\u001b[0m\u001b[0;34m,\u001b[0m \u001b[0mcreate_graph\u001b[0m\u001b[0;34m,\u001b[0m \u001b[0minputs\u001b[0m\u001b[0;34m,\u001b[0m\u001b[0;34m\u001b[0m\u001b[0;34m\u001b[0m\u001b[0m\n\u001b[1;32m    147\u001b[0m         allow_unreachable=True, accumulate_grad=True)  # allow_unreachable flag\n",
      "\u001b[0;31mKeyboardInterrupt\u001b[0m: "
     ]
    }
   ],
   "source": [
    "score_list = []\n",
    "\n",
    "\n",
    "for i in tnrange(iter_no):\n",
    "#for i in tnrange(10000):  \n",
    "    s = time.time()\n",
    "    model.train()\n",
    "    optimizer.zero_grad()\n",
    "    \n",
    "    batch_idx = train_idx[i]\n",
    "    batch_S = S_train[batch_idx].to(device)\n",
    "    batch_V = V_train[batch_idx].to(device)\n",
    "    batch_V_lag = V_lag_train[batch_idx].to(device)\n",
    "    \n",
    "    batch_V_in = torch.zeros(batch_size, batch_length, lag+1).to(device)\n",
    "    batch_V_in[:,:,0] = batch_V\n",
    "    batch_V_in[:,:,1:] = batch_V_lag\n",
    "    \n",
    "    S_out = model(batch_V_in)\n",
    "    loss = bce_criterion(S_out, batch_S)\n",
    "    \n",
    "    loss.backward()\n",
    "    nn.utils.clip_grad_norm_(model.parameters(), 10)\n",
    "    optimizer.step()\n",
    "    \n",
    "    step_time = time.time() - s\n",
    "    \n",
    "    if (i%50 == 49) or (i == 0):\n",
    "        model.eval()\n",
    "        V_test_in = torch.zeros(batch_size, batch_length, lag+1).to(device)\n",
    "        V_test_in[:,:,0] = V_test\n",
    "        V_test_in[:,:,1:] = V_lag_test\n",
    "        \n",
    "        test_S_out = model(V_test_in)\n",
    "        test_loss = bce_criterion(test_S_out, S_test).item()\n",
    "        \n",
    "        score_list.append(test_loss)\n",
    "        print(i, test_loss)"
   ]
  },
  {
   "cell_type": "code",
   "execution_count": null,
   "id": "f591ea9b",
   "metadata": {},
   "outputs": [],
   "source": []
  },
  {
   "cell_type": "code",
   "execution_count": 7,
   "id": "e006b31b",
   "metadata": {},
   "outputs": [
    {
     "data": {
      "text/plain": [
       "[<matplotlib.lines.Line2D at 0x7f502c70f670>]"
      ]
     },
     "execution_count": 7,
     "metadata": {},
     "output_type": "execute_result"
    },
    {
     "data": {
      "image/png": "[encoded data removed]",
      "text/plain": [
       "<Figure size 432x288 with 1 Axes>"
      ]
     },
     "metadata": {
      "needs_background": "light"
     },
     "output_type": "display_data"
    }
   ],
   "source": [
    "plt.plot(np.asarray(score_list)[20:])"
   ]
  },
  {
   "cell_type": "code",
   "execution_count": 8,
   "id": "ad66af8b",
   "metadata": {},
   "outputs": [
    {
     "name": "stdout",
     "output_type": "stream",
     "text": [
      "tensor(0.0779, device='cuda:0', grad_fn=<MaxBackward1>)\n"
     ]
    },
    {
     "data": {
      "image/png": "[encoded data removed]",
      "text/plain": [
       "<Figure size 1080x360 with 1 Axes>"
      ]
     },
     "metadata": {
      "needs_background": "light"
     },
     "output_type": "display_data"
    }
   ],
   "source": [
    "plt.figure(figsize = (15,5))\n",
    "plt.plot(S_test[0].cpu().detach().numpy())\n",
    "plt.plot(test_S_out[1].cpu().detach().numpy())\n",
    "#plt.xlim(4500,5200)\n",
    "#plt.ylim(-1,10)\n",
    "print(torch.max(test_S_out))"
   ]
  },
  {
   "cell_type": "code",
   "execution_count": 8,
   "id": "780f8cd8",
   "metadata": {},
   "outputs": [],
   "source": [
    "#torch.save(model.state_dict(), \"/media/hdd01/sklee/CA1_clust4-60_AP/na_true_nona_pred/gru_l20_h40_0.2ms.pt\")\n",
    "#np.save(\"/media/hdd01/sklee/CA1_clust4-60_AP/na_true_nona_pred/gru_l20_h40_0.2ms_test.npy\", test_S_out.cpu().detach().numpy())"
   ]
  },
  {
   "cell_type": "code",
   "execution_count": null,
   "id": "220095ad",
   "metadata": {},
   "outputs": [],
   "source": []
  },
  {
   "cell_type": "code",
   "execution_count": null,
   "id": "01fc4bb0",
   "metadata": {},
   "outputs": [],
   "source": []
  }
 ],
 "metadata": {
  "kernelspec": {
   "display_name": "Python 3",
   "language": "python",
   "name": "python3"
  },
  "language_info": {
   "codemirror_mode": {
    "name": "ipython",
    "version": 3
   },
   "file_extension": ".py",
   "mimetype": "text/x-python",
   "name": "python",
   "nbconvert_exporter": "python",
   "pygments_lexer": "ipython3",
   "version": "3.8.8"
  }
 },
 "nbformat": 4,
 "nbformat_minor": 5
}
