{
 "cells": [
  {
   "cell_type": "code",
   "execution_count": 1,
   "id": "e7faa469",
   "metadata": {},
   "outputs": [],
   "source": [
    "import numpy as np\n",
    "import torch \n",
    "import torch.nn as nn\n",
    "from tqdm import tnrange\n",
    "import torch.optim as optim\n",
    "import torch.nn.functional as F\n",
    "from sklearn import metrics\n",
    "import matplotlib.pyplot as plt\n",
    "import time\n",
    "from sklearn.metrics import explained_variance_score"
   ]
  },
  {
   "cell_type": "code",
   "execution_count": 2,
   "id": "8753064b",
   "metadata": {},
   "outputs": [],
   "source": [
    "class AP_GRU_Lag(nn.Module):\n",
    "    def __init__(self, H_no, lag, device):\n",
    "        super().__init__()\n",
    "        \n",
    "        self.H_no = H_no\n",
    "        self.device = device\n",
    "        \n",
    "        self.rnn = nn.GRU(lag+1, H_no, batch_first=True)\n",
    "        self.linear = nn.Linear(H_no, 1)\n",
    "        \n",
    "    def forward(self, V):\n",
    "        #V is shape (batch, 50000, lag+1)\n",
    "\n",
    "        rnn_out, _ = self.rnn(V) #(batch,50000,H)\n",
    "        rnn_out = rnn_out.reshape(-1,self.H_no)\n",
    "        lin_out = self.linear(rnn_out) #(batch*50000,1)\n",
    "        final = torch.sigmoid(lin_out.reshape(V.shape[0], V.shape[1]))\n",
    "        \n",
    "        return final\n",
    "\n"
   ]
  },
  {
   "cell_type": "code",
   "execution_count": 3,
   "id": "6e8d732d",
   "metadata": {},
   "outputs": [
    {
     "name": "stdout",
     "output_type": "stream",
     "text": [
      "torch.Size([1000, 1000, 20])\n"
     ]
    }
   ],
   "source": [
    "batch_size = 20\n",
    "batch_length = int(50000 / 5 / 10)\n",
    "H_no = 40\n",
    "device = torch.device(\"cuda\")\n",
    "lag = 20\n",
    "\n",
    "epoch_no = 400\n",
    "iter_no = epoch_no * 980 // batch_size\n",
    "\n",
    "#V = np.load(\"/media/hdd01/sklee/CA1_clust4-60_noNA/data/vdata_T10_Ne2000_gA0.6_tauA1_gN0.8_Ni200_gG0.1_gB0.1_noDendNa_Er0.5_Ir7.4_random_NR_rep1000_stimseed1.npy\").reshape(-1,50001)[:,:50000]\n",
    "#V = np.load(\"/media/hdd01/sklee/CA1_clust4-60_AP/comb_pred/V_comb_pred_0.4ms.npy\")\n",
    "V = np.load(\"/media/hdd01/sklee/CA1_clust4-60_aSoma/diff_pred/V_diff_pred_10ms.npy\").reshape(-1,batch_length)\n",
    "S = np.load(\"/media/hdd01/sklee/CA1_clust4-60_aSoma/data/spike_train_10ms.npy\").reshape(-1,batch_length)\n",
    "\n",
    "V-= np.mean(V)\n",
    "\n",
    "V = torch.from_numpy(V)\n",
    "S = torch.from_numpy(S)\n",
    "\n",
    "V_lag = np.zeros((V.shape[0], V.shape[1], lag)) #(lag,1000,50000)\n",
    "for i in range(lag):\n",
    "    #V_pad = np.zeros_like(V)\n",
    "    #V_pad[:,i+1:] = V[:,:-i-1]\n",
    "    #V_lag[:,:,i] = V - V_pad\n",
    "    \n",
    "    V_lag[:,i+1:,i] = V[:,:-i-1]\n",
    "\n",
    "V_lag = torch.from_numpy(V_lag)\n",
    "print(V_lag.shape)"
   ]
  },
  {
   "cell_type": "code",
   "execution_count": 4,
   "id": "bfda0478",
   "metadata": {},
   "outputs": [
    {
     "name": "stdout",
     "output_type": "stream",
     "text": [
      "torch.Size([19600, 20])\n"
     ]
    }
   ],
   "source": [
    "V_train = V[:980].float()\n",
    "V_test = V[980:].float().to(device)\n",
    "S_train = S[:980].float()\n",
    "S_test = S[980:].float().to(device)\n",
    "V_lag_train = V_lag[:980].float()\n",
    "V_lag_test = V_lag[980:].float().to(device)\n",
    "\n",
    "train_idx = np.empty((epoch_no, 980))\n",
    "for i in range(epoch_no):\n",
    "    part_idx = np.arange(0,980,1)\n",
    "    np.random.shuffle(part_idx)\n",
    "    train_idx[i] = part_idx\n",
    "train_idx = train_idx.reshape(-1, batch_size)\n",
    "train_idx = torch.from_numpy(train_idx).long()\n",
    "print(train_idx.shape)"
   ]
  },
  {
   "cell_type": "code",
   "execution_count": 5,
   "id": "784b45c2",
   "metadata": {},
   "outputs": [
    {
     "name": "stdout",
     "output_type": "stream",
     "text": [
      "7601\n"
     ]
    }
   ],
   "source": [
    "model = AP_GRU_Lag(H_no, lag, device)\n",
    "optimizer = torch.optim.Adam(model.parameters(), lr = 0.0025)\n",
    "\n",
    "model.to(device).float()\n",
    "print(sum(p.numel() for p in model.parameters() if p.requires_grad))\n",
    "\n",
    "bce_criterion = nn.BCELoss(reduction=\"mean\")"
   ]
  },
  {
   "cell_type": "code",
   "execution_count": 6,
   "id": "84e29a0c",
   "metadata": {
    "scrolled": false
   },
   "outputs": [
    {
     "name": "stderr",
     "output_type": "stream",
     "text": [
      "<ipython-input-6-1443ae8f432f>:5: TqdmDeprecationWarning: Please use `tqdm.notebook.trange` instead of `tqdm.tnrange`\n",
      "  for i in tnrange(10000):\n"
     ]
    },
    {
     "data": {
      "application/vnd.jupyter.widget-view+json": {
       "model_id": "d2e389c6fbd545ebb92886c2065c7c7a",
       "version_major": 2,
       "version_minor": 0
      },
      "text/plain": [
       "  0%|          | 0/10000 [00:00<?, ?it/s]"
      ]
     },
     "metadata": {},
     "output_type": "display_data"
    },
    {
     "name": "stdout",
     "output_type": "stream",
     "text": [
      "0 0.6274271607398987\n",
      "49 0.029436590149998665\n",
      "99 0.023060258477926254\n",
      "149 0.02027609758079052\n",
      "199 0.018622305244207382\n",
      "249 0.017430486157536507\n",
      "299 0.016632849350571632\n",
      "349 0.015981795266270638\n",
      "399 0.015492227859795094\n",
      "449 0.014782901853322983\n",
      "499 0.014099898748099804\n",
      "549 0.013592327944934368\n",
      "599 0.012514649890363216\n",
      "649 0.011819090694189072\n",
      "699 0.011463622562587261\n",
      "749 0.011380983516573906\n",
      "799 0.010520554147660732\n",
      "849 0.010504545643925667\n",
      "899 0.010132313705980778\n",
      "949 0.010137001052498817\n",
      "999 0.00974495243281126\n",
      "1049 0.010113850235939026\n",
      "1099 0.010382268577814102\n",
      "1149 0.009566700085997581\n",
      "1199 0.010133834555745125\n",
      "1249 0.009341160766780376\n",
      "1299 0.009851031005382538\n",
      "1349 0.009250279515981674\n",
      "1399 0.009254097938537598\n",
      "1449 0.00907234288752079\n",
      "1499 0.008884510956704617\n",
      "1549 0.009070678614079952\n",
      "1599 0.008934836834669113\n",
      "1649 0.008852464146912098\n",
      "1699 0.00939671415835619\n",
      "1749 0.009464518167078495\n",
      "1799 0.009462211281061172\n",
      "1849 0.008627145551145077\n",
      "1899 0.009372171945869923\n",
      "1949 0.008637399412691593\n",
      "1999 0.008699692785739899\n",
      "2049 0.008478322997689247\n",
      "2099 0.008885996416211128\n",
      "2149 0.008747574873268604\n",
      "2199 0.008880692534148693\n",
      "2249 0.008355659432709217\n",
      "2299 0.008824871852993965\n",
      "2349 0.00971795991063118\n",
      "2399 0.00839181151241064\n",
      "2449 0.008838451467454433\n",
      "2499 0.008254111744463444\n",
      "2549 0.008793029002845287\n",
      "2599 0.008236958645284176\n",
      "2649 0.008459859527647495\n",
      "2699 0.008148450404405594\n",
      "2749 0.008812271058559418\n",
      "2799 0.008277496322989464\n",
      "2849 0.008401233702898026\n",
      "2899 0.008571126498281956\n",
      "2949 0.008572062477469444\n",
      "2999 0.008163041435182095\n",
      "3049 0.008596410974860191\n",
      "3099 0.008560851216316223\n",
      "3149 0.008224349468946457\n",
      "3199 0.00811388622969389\n",
      "3249 0.008580042980611324\n",
      "3299 0.008521009236574173\n",
      "3349 0.00834164209663868\n",
      "3399 0.00837834645062685\n",
      "3449 0.008657035417854786\n",
      "3499 0.008324307389557362\n",
      "3549 0.008095198310911655\n",
      "3599 0.008512784726917744\n",
      "3649 0.008464932441711426\n",
      "3699 0.008268846198916435\n",
      "3749 0.008206005208194256\n",
      "3799 0.008585095405578613\n",
      "3849 0.008135514333844185\n",
      "3899 0.008297784253954887\n",
      "3949 0.008379028178751469\n",
      "3999 0.00842483900487423\n",
      "4049 0.00886490847915411\n",
      "4099 0.00800344068557024\n",
      "4149 0.008145303465425968\n",
      "4199 0.007959382608532906\n",
      "4249 0.00804748386144638\n",
      "4299 0.008238527923822403\n",
      "4349 0.008073335513472557\n",
      "4399 0.008056658320128918\n",
      "4449 0.00868484191596508\n",
      "4499 0.008274870924651623\n",
      "4549 0.00813710130751133\n",
      "4599 0.008488647639751434\n",
      "4649 0.008251611143350601\n",
      "4699 0.00791387539356947\n",
      "4749 0.00882911216467619\n",
      "4799 0.00808580219745636\n",
      "4849 0.008113441057503223\n",
      "4899 0.008400661870837212\n",
      "4949 0.007545172702521086\n",
      "4999 0.008123675361275673\n",
      "5049 0.008048683404922485\n",
      "5099 0.009089871309697628\n",
      "5149 0.008188750594854355\n",
      "5199 0.008053370751440525\n",
      "5249 0.007961624301970005\n",
      "5299 0.008508965373039246\n",
      "5349 0.008271648548543453\n",
      "5399 0.008263248950242996\n",
      "5449 0.007938372902572155\n",
      "5499 0.007950495928525925\n",
      "5549 0.00816276203840971\n",
      "5599 0.008390047587454319\n",
      "5649 0.008247079327702522\n",
      "5699 0.008399371057748795\n",
      "5749 0.007793931290507317\n",
      "5799 0.00782067235559225\n",
      "5849 0.008105384185910225\n",
      "5899 0.008342759683728218\n",
      "5949 0.007912090979516506\n",
      "5999 0.008825431577861309\n",
      "6049 0.007863788865506649\n",
      "6099 0.008226020261645317\n",
      "6149 0.008013169281184673\n",
      "6199 0.008203920908272266\n",
      "6249 0.007647564634680748\n",
      "6299 0.007951785810291767\n",
      "6349 0.007831009104847908\n",
      "6399 0.008410213515162468\n",
      "6449 0.008047210052609444\n",
      "6499 0.008305194787681103\n",
      "6549 0.007942762225866318\n",
      "6599 0.00821839738637209\n",
      "6649 0.008062121458351612\n",
      "6699 0.00831087026745081\n",
      "6749 0.007895496673882008\n",
      "6799 0.008120780810713768\n",
      "6849 0.0079243378713727\n",
      "6899 0.00822368636727333\n",
      "6949 0.008681424893438816\n",
      "6999 0.008064629510045052\n",
      "7049 0.007905014790594578\n",
      "7099 0.008019830100238323\n",
      "7149 0.008758696727454662\n",
      "7199 0.008094905875623226\n",
      "7249 0.008033315651118755\n",
      "7299 0.008120764046907425\n",
      "7349 0.0080557344481349\n",
      "7399 0.008038620464503765\n",
      "7449 0.008258108049631119\n",
      "7499 0.008036111481487751\n",
      "7549 0.007660833653062582\n",
      "7599 0.00825930293649435\n",
      "7649 0.008132915943861008\n",
      "7699 0.008261666633188725\n",
      "7749 0.008448741398751736\n",
      "7799 0.008088549599051476\n",
      "7849 0.008535399101674557\n",
      "7899 0.008307153359055519\n",
      "7949 0.00806395709514618\n",
      "7999 0.00796754565089941\n",
      "8049 0.007915165275335312\n",
      "8099 0.008128855377435684\n",
      "8149 0.007988432422280312\n",
      "8199 0.00863918848335743\n",
      "8249 0.008312438614666462\n",
      "8299 0.00833917036652565\n",
      "8349 0.00857623852789402\n",
      "8399 0.008359271101653576\n",
      "8449 0.00849089678376913\n",
      "8499 0.00867302343249321\n",
      "8549 0.008207887411117554\n",
      "8599 0.008436650969088078\n",
      "8649 0.008079285733401775\n",
      "8699 0.008182543329894543\n",
      "8749 0.008112704381346703\n",
      "8799 0.008080973289906979\n",
      "8849 0.008080389350652695\n",
      "8899 0.008125310763716698\n",
      "8949 0.008237454108893871\n",
      "8999 0.008660725317895412\n",
      "9049 0.008481277152895927\n",
      "9099 0.008614779449999332\n",
      "9149 0.008155586197972298\n",
      "9199 0.008220555260777473\n",
      "9249 0.008195241913199425\n",
      "9299 0.008349664509296417\n",
      "9349 0.00840599462389946\n",
      "9399 0.008625305257737637\n",
      "9449 0.008538918569684029\n",
      "9499 0.008661476895213127\n",
      "9549 0.008099870756268501\n",
      "9599 0.008427785709500313\n",
      "9649 0.008893177844583988\n",
      "9699 0.008370578289031982\n",
      "9749 0.008785590529441833\n",
      "9799 0.00890952255576849\n",
      "9849 0.008396001532673836\n",
      "9899 0.008358762599527836\n",
      "9949 0.008270851336419582\n",
      "9999 0.00817208830267191\n"
     ]
    }
   ],
   "source": [
    "score_list = []\n",
    "\n",
    "\n",
    "#for i in tnrange(iter_no):\n",
    "for i in tnrange(10000):  \n",
    "    s = time.time()\n",
    "    model.train()\n",
    "    optimizer.zero_grad()\n",
    "    \n",
    "    batch_idx = train_idx[i]\n",
    "    batch_S = S_train[batch_idx].to(device)\n",
    "    batch_V = V_train[batch_idx].to(device)\n",
    "    batch_V_lag = V_lag_train[batch_idx].to(device)\n",
    "    \n",
    "    batch_V_in = torch.zeros(batch_size, batch_length, lag+1).to(device)\n",
    "    batch_V_in[:,:,0] = batch_V\n",
    "    batch_V_in[:,:,1:] = batch_V_lag\n",
    "    \n",
    "    S_out = model(batch_V_in)\n",
    "    loss = bce_criterion(S_out, batch_S)\n",
    "    \n",
    "    loss.backward()\n",
    "    nn.utils.clip_grad_norm_(model.parameters(), 10)\n",
    "    optimizer.step()\n",
    "    \n",
    "    step_time = time.time() - s\n",
    "    \n",
    "    if (i%50 == 49) or (i == 0):\n",
    "        model.eval()\n",
    "        V_test_in = torch.zeros(batch_size, batch_length, lag+1).to(device)\n",
    "        V_test_in[:,:,0] = V_test\n",
    "        V_test_in[:,:,1:] = V_lag_test\n",
    "        \n",
    "        test_S_out = model(V_test_in)\n",
    "        test_loss = bce_criterion(test_S_out, S_test).item()\n",
    "        \n",
    "        score_list.append(test_loss)\n",
    "        print(i, test_loss)"
   ]
  },
  {
   "cell_type": "code",
   "execution_count": null,
   "id": "f591ea9b",
   "metadata": {},
   "outputs": [],
   "source": []
  },
  {
   "cell_type": "code",
   "execution_count": 7,
   "id": "e006b31b",
   "metadata": {},
   "outputs": [
    {
     "data": {
      "text/plain": [
       "[<matplotlib.lines.Line2D at 0x7fb7981663d0>]"
      ]
     },
     "execution_count": 7,
     "metadata": {},
     "output_type": "execute_result"
    },
    {
     "data": {
      "image/png": "[encoded data removed]",
      "text/plain": [
       "<Figure size 432x288 with 1 Axes>"
      ]
     },
     "metadata": {
      "needs_background": "light"
     },
     "output_type": "display_data"
    }
   ],
   "source": [
    "plt.plot(np.asarray(score_list)[20:])"
   ]
  },
  {
   "cell_type": "code",
   "execution_count": 8,
   "id": "ad66af8b",
   "metadata": {},
   "outputs": [
    {
     "name": "stdout",
     "output_type": "stream",
     "text": [
      "tensor(0.9973, device='cuda:0', grad_fn=<MaxBackward1>)\n"
     ]
    },
    {
     "data": {
      "image/png": "[encoded data removed]",
      "text/plain": [
       "<Figure size 1080x360 with 1 Axes>"
      ]
     },
     "metadata": {
      "needs_background": "light"
     },
     "output_type": "display_data"
    }
   ],
   "source": [
    "plt.figure(figsize = (15,5))\n",
    "plt.plot(S_test[0].cpu().detach().numpy())\n",
    "plt.plot(test_S_out[1].cpu().detach().numpy())\n",
    "#plt.xlim(4500,5200)\n",
    "#plt.ylim(-1,10)\n",
    "print(torch.max(test_S_out))"
   ]
  },
  {
   "cell_type": "code",
   "execution_count": 9,
   "id": "780f8cd8",
   "metadata": {},
   "outputs": [],
   "source": [
    "#torch.save(model.state_dict(), \"/media/hdd01/sklee/CA1_clust4-60_aSoma/diff_pred/gru_l20_h40_10ms.pt\")\n",
    "#np.save(\"/media/hdd01/sklee/CA1_clust4-60_aSoma/diff_pred/gru_l20_h40_10ms_test.npy\", test_S_out.cpu().detach().numpy())"
   ]
  },
  {
   "cell_type": "code",
   "execution_count": null,
   "id": "220095ad",
   "metadata": {},
   "outputs": [],
   "source": []
  }
 ],
 "metadata": {
  "kernelspec": {
   "display_name": "Python 3",
   "language": "python",
   "name": "python3"
  },
  "language_info": {
   "codemirror_mode": {
    "name": "ipython",
    "version": 3
   },
   "file_extension": ".py",
   "mimetype": "text/x-python",
   "name": "python",
   "nbconvert_exporter": "python",
   "pygments_lexer": "ipython3",
   "version": "3.8.8"
  }
 },
 "nbformat": 4,
 "nbformat_minor": 5
}
