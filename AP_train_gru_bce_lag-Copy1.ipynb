{
 "cells": [
  {
   "cell_type": "code",
   "execution_count": 1,
   "id": "e7faa469",
   "metadata": {},
   "outputs": [],
   "source": [
    "import numpy as np\n",
    "import torch \n",
    "import torch.nn as nn\n",
    "from tqdm import tnrange\n",
    "import torch.optim as optim\n",
    "import torch.nn.functional as F\n",
    "from sklearn import metrics\n",
    "import matplotlib.pyplot as plt\n",
    "import time\n",
    "from sklearn.metrics import explained_variance_score"
   ]
  },
  {
   "cell_type": "code",
   "execution_count": 2,
   "id": "8753064b",
   "metadata": {},
   "outputs": [],
   "source": [
    "class AP_GRU_Lag(nn.Module):\n",
    "    def __init__(self, H_no, lag, device):\n",
    "        super().__init__()\n",
    "        \n",
    "        self.H_no = H_no\n",
    "        self.device = device\n",
    "        \n",
    "        self.rnn = nn.GRU(lag+1, H_no, batch_first=True)\n",
    "        self.linear = nn.Linear(H_no, 1)\n",
    "        \n",
    "    def forward(self, V):\n",
    "        #V is shape (batch, 50000, lag+1)\n",
    "\n",
    "        rnn_out, _ = self.rnn(V) #(batch,50000,H)\n",
    "        rnn_out = rnn_out.reshape(-1,self.H_no)\n",
    "        lin_out = self.linear(rnn_out) #(batch*50000,1)\n",
    "        final = torch.sigmoid(lin_out.reshape(V.shape[0], V.shape[1]))\n",
    "        \n",
    "        return final\n",
    "\n"
   ]
  },
  {
   "cell_type": "code",
   "execution_count": 3,
   "id": "6e8d732d",
   "metadata": {},
   "outputs": [
    {
     "name": "stdout",
     "output_type": "stream",
     "text": [
      "torch.Size([1000, 50000, 20])\n"
     ]
    }
   ],
   "source": [
    "batch_size = 20\n",
    "batch_length = int(50000 / 5 / 0.2)\n",
    "H_no = 40\n",
    "device = torch.device(\"cuda\")\n",
    "lag = 20\n",
    "\n",
    "epoch_no = 400\n",
    "iter_no = epoch_no * 980 // batch_size\n",
    "\n",
    "#V = np.load(\"/media/hdd01/sklee/CA1_clust4-60_noNA/data/vdata_T10_Ne2000_gA0.6_tauA1_gN0.8_Ni200_gG0.1_gB0.1_noDendNa_Er0.5_Ir7.4_random_NR_rep1000_stimseed1.npy\").reshape(-1,50001)[:,:50000]\n",
    "#V = np.load(\"/media/hdd01/sklee/CA1_clust4-60_AP/comb_pred/V_comb_pred_0.4ms.npy\")\n",
    "V = np.load(\"/media/hdd01/sklee/CA1_clust4-60_AP/diff_pred/V_diff_pred_0.2ms.npy\").reshape(-1,batch_length)\n",
    "S = np.load(\"/media/hdd01/sklee/CA1_clust4-60_AP/data/spike_train_0.2ms.npy\").reshape(-1,batch_length)\n",
    "\n",
    "V-= np.mean(V)\n",
    "\n",
    "V = torch.from_numpy(V)\n",
    "S = torch.from_numpy(S)\n",
    "\n",
    "V_lag = np.zeros((V.shape[0], V.shape[1], lag)) #(lag,1000,50000)\n",
    "for i in range(lag):\n",
    "    #V_pad = np.zeros_like(V)\n",
    "    #V_pad[:,i+1:] = V[:,:-i-1]\n",
    "    #V_lag[:,:,i] = V - V_pad\n",
    "    \n",
    "    V_lag[:,i+1:,i] = V[:,:-i-1]\n",
    "\n",
    "V_lag = torch.from_numpy(V_lag)\n",
    "print(V_lag.shape)"
   ]
  },
  {
   "cell_type": "code",
   "execution_count": 4,
   "id": "bfda0478",
   "metadata": {},
   "outputs": [
    {
     "name": "stdout",
     "output_type": "stream",
     "text": [
      "torch.Size([19600, 20])\n"
     ]
    }
   ],
   "source": [
    "V_train = V[:980].float()\n",
    "V_test = V[980:].float().to(device)\n",
    "S_train = S[:980].float()\n",
    "S_test = S[980:].float().to(device)\n",
    "V_lag_train = V_lag[:980].float()\n",
    "V_lag_test = V_lag[980:].float().to(device)\n",
    "\n",
    "train_idx = np.empty((epoch_no, 980))\n",
    "for i in range(epoch_no):\n",
    "    part_idx = np.arange(0,980,1)\n",
    "    np.random.shuffle(part_idx)\n",
    "    train_idx[i] = part_idx\n",
    "train_idx = train_idx.reshape(-1, batch_size)\n",
    "train_idx = torch.from_numpy(train_idx).long()\n",
    "print(train_idx.shape)"
   ]
  },
  {
   "cell_type": "code",
   "execution_count": 5,
   "id": "784b45c2",
   "metadata": {},
   "outputs": [
    {
     "name": "stdout",
     "output_type": "stream",
     "text": [
      "7601\n"
     ]
    }
   ],
   "source": [
    "model = AP_GRU_Lag(H_no, lag, device)\n",
    "optimizer = torch.optim.Adam(model.parameters(), lr = 0.0025)\n",
    "\n",
    "model.to(device).float()\n",
    "print(sum(p.numel() for p in model.parameters() if p.requires_grad))\n",
    "\n",
    "bce_criterion = nn.BCELoss(reduction=\"mean\")"
   ]
  },
  {
   "cell_type": "code",
   "execution_count": 6,
   "id": "84e29a0c",
   "metadata": {
    "scrolled": false
   },
   "outputs": [
    {
     "name": "stderr",
     "output_type": "stream",
     "text": [
      "<ipython-input-6-1443ae8f432f>:5: TqdmDeprecationWarning: Please use `tqdm.notebook.trange` instead of `tqdm.tnrange`\n",
      "  for i in tnrange(10000):\n"
     ]
    },
    {
     "data": {
      "application/vnd.jupyter.widget-view+json": {
       "model_id": "f78148b22c0048beba59c925cd1099a0",
       "version_major": 2,
       "version_minor": 0
      },
      "text/plain": [
       "  0%|          | 0/10000 [00:00<?, ?it/s]"
      ]
     },
     "metadata": {},
     "output_type": "display_data"
    },
    {
     "name": "stdout",
     "output_type": "stream",
     "text": [
      "0 0.7257763147354126\n",
      "49 0.00924177747219801\n",
      "99 0.004063595086336136\n",
      "149 0.0029650358483195305\n",
      "199 0.0024979542940855026\n",
      "249 0.002263230038806796\n",
      "299 0.0021249717101454735\n",
      "349 0.0020331996493041515\n",
      "399 0.001967215444892645\n",
      "449 0.001914126449264586\n",
      "499 0.001864006044343114\n",
      "549 0.0018237686017528176\n",
      "599 0.0017927174922078848\n",
      "649 0.001766069559380412\n",
      "699 0.0017412625020369887\n",
      "749 0.0017181509174406528\n",
      "799 0.0016988615971058607\n",
      "849 0.0016818977892398834\n",
      "899 0.0016667708987370133\n",
      "949 0.001654350315220654\n",
      "999 0.0016443938948214054\n",
      "1049 0.0016362541355192661\n",
      "1099 0.0016291365027427673\n",
      "1149 0.0016233166679739952\n",
      "1199 0.0016181694809347391\n",
      "1249 0.0016135770129039884\n",
      "1299 0.0016096855979412794\n",
      "1349 0.0016060565831139684\n",
      "1399 0.0016028800746425986\n",
      "1449 0.0016001947224140167\n",
      "1499 0.0015977004077285528\n",
      "1549 0.001595503301359713\n",
      "1599 0.0015933881513774395\n",
      "1649 0.0015914604300633073\n",
      "1699 0.0015896940603852272\n",
      "1749 0.001588165876455605\n",
      "1799 0.0015866495668888092\n",
      "1849 0.0015850504860281944\n",
      "1899 0.0015837149694561958\n",
      "1949 0.0015822331188246608\n",
      "1999 0.0015808084281161427\n",
      "2049 0.0015790654579177499\n",
      "2099 0.0015773253981024027\n",
      "2149 0.0015751570463180542\n",
      "2199 0.0015724251279607415\n",
      "2249 0.0015676349867135286\n",
      "2299 0.001561774406582117\n",
      "2349 0.0015576500445604324\n",
      "2399 0.001553029753267765\n",
      "2449 0.0015482886228710413\n",
      "2499 0.001533607253804803\n",
      "2549 0.001519099110737443\n",
      "2599 0.0015098301228135824\n",
      "2649 0.0015025815228000283\n",
      "2699 0.0015000085113570094\n",
      "2749 0.0014869411243125796\n",
      "2799 0.0014807224506512284\n",
      "2849 0.001474902150221169\n",
      "2899 0.0014688068768009543\n",
      "2949 0.00146220694296062\n",
      "2999 0.0014542927965521812\n",
      "3049 0.0014475058997049928\n",
      "3099 0.0014424892142415047\n",
      "3149 0.0014308036770671606\n",
      "3199 0.0014244895428419113\n",
      "3249 0.0014188316417858005\n",
      "3299 0.001412983750924468\n",
      "3349 0.0014081037370488048\n",
      "3399 0.0014046482974663377\n",
      "3449 0.0014046275755390525\n",
      "3499 0.0013993482571095228\n",
      "3549 0.0013962947996333241\n",
      "3599 0.0013957183109596372\n",
      "3649 0.0013886288506910205\n",
      "3699 0.0013882056809961796\n",
      "3749 0.0013860224280506372\n",
      "3799 0.001382803195156157\n",
      "3849 0.0013808306539431214\n",
      "3899 0.0013784128241240978\n",
      "3949 0.001376159954816103\n",
      "3999 0.0013734494568780065\n",
      "4049 0.001371094724163413\n",
      "4099 0.0013684253208339214\n",
      "4149 0.0013648959575220942\n",
      "4199 0.0013612416805699468\n",
      "4249 0.0013590160524472594\n",
      "4299 0.001354220905341208\n",
      "4349 0.001350853475742042\n",
      "4399 0.0013495825696736574\n",
      "4449 0.001348524005152285\n",
      "4499 0.0013474643928930163\n",
      "4549 0.0013445144286379218\n",
      "4599 0.0013417998561635613\n",
      "4649 0.0013418078888207674\n",
      "4699 0.001341431518085301\n",
      "4749 0.0013370612869039178\n",
      "4799 0.001333843800239265\n",
      "4849 0.0013341848971322179\n",
      "4899 0.001329718274064362\n",
      "4949 0.0013282637810334563\n",
      "4999 0.001331730978563428\n",
      "5049 0.0013320817379280925\n",
      "5099 0.00132493965793401\n",
      "5149 0.0013223697897046804\n",
      "5199 0.0013244280125945807\n",
      "5249 0.0013167354045435786\n",
      "5299 0.0013188442680984735\n",
      "5349 0.0013237907551229\n",
      "5399 0.0013181640533730388\n",
      "5449 0.0013126228004693985\n",
      "5499 0.0013154319021850824\n",
      "5549 0.001315688481554389\n",
      "5599 0.001315334695391357\n",
      "5649 0.001313245389610529\n",
      "5699 0.0013129455037415028\n",
      "5749 0.001314161578193307\n",
      "5799 0.0013082358054816723\n",
      "5849 0.0013101680669933558\n",
      "5899 0.0013121372321620584\n",
      "5949 0.0013223630376160145\n",
      "5999 0.0013093764428049326\n",
      "6049 0.0013103479286655784\n",
      "6099 0.001304019009694457\n",
      "6149 0.0013062851503491402\n",
      "6199 0.0013058283366262913\n",
      "6249 0.0013043669750913978\n",
      "6299 0.0013102111406624317\n",
      "6349 0.001305018668062985\n",
      "6399 0.0013007018715143204\n",
      "6449 0.0013020549667999148\n",
      "6499 0.0013018036261200905\n",
      "6549 0.0012993284035474062\n",
      "6599 0.001295623485930264\n",
      "6649 0.0013006916269659996\n",
      "6699 0.0012957416474819183\n",
      "6749 0.0012970920652151108\n",
      "6799 0.001306544174440205\n",
      "6849 0.0012950898380950093\n",
      "6899 0.0012985803186893463\n",
      "6949 0.0012942883186042309\n",
      "6999 0.0012931752717122436\n",
      "7049 0.0012918903958052397\n",
      "7099 0.0012939004227519035\n",
      "7149 0.0012892164522781968\n",
      "7199 0.001291767111979425\n",
      "7249 0.0012893835082650185\n",
      "7299 0.0012902339221909642\n",
      "7349 0.0012915843399241567\n",
      "7399 0.0012896572006866336\n",
      "7449 0.0012855022214353085\n",
      "7499 0.0012854074593633413\n",
      "7549 0.0012826207093894482\n",
      "7599 0.0012846896424889565\n",
      "7649 0.0012822930002585053\n",
      "7699 0.0012801573611795902\n",
      "7749 0.0012790038017556071\n",
      "7799 0.0012796877417713404\n",
      "7849 0.001279737800359726\n",
      "7899 0.0012767229927703738\n",
      "7949 0.0012772660702466965\n",
      "7999 0.0012760048266500235\n",
      "8049 0.001273538451641798\n",
      "8099 0.0012769685126841068\n",
      "8149 0.0012758029624819756\n",
      "8199 0.0012725043343380094\n",
      "8249 0.0012714811600744724\n",
      "8299 0.0012687022099271417\n",
      "8349 0.001266762730665505\n",
      "8399 0.0012685667024925351\n",
      "8449 0.0012637104373425245\n",
      "8499 0.0012696334160864353\n",
      "8549 0.0012663882225751877\n",
      "8599 0.0012671652948483825\n",
      "8649 0.0012613498838618398\n",
      "8699 0.0012601313646882772\n",
      "8749 0.0012599281035363674\n",
      "8799 0.0012586041120812297\n",
      "8849 0.0012569656828418374\n",
      "8899 0.001256765564903617\n",
      "8949 0.0012535251444205642\n",
      "8999 0.0012558943126350641\n",
      "9049 0.0012504910118877888\n",
      "9099 0.0012498998548835516\n",
      "9149 0.0012490565422922373\n",
      "9199 0.0012492492096498609\n",
      "9249 0.001249846420250833\n",
      "9299 0.0012517868308350444\n",
      "9349 0.001245959079824388\n",
      "9399 0.0012571961851790547\n",
      "9449 0.0012494693510234356\n",
      "9499 0.0012425897875800729\n",
      "9549 0.0012435170356184244\n",
      "9599 0.0012450749054551125\n",
      "9649 0.0012451827060431242\n",
      "9699 0.0012411992065608501\n",
      "9749 0.0012443341547623277\n",
      "9799 0.0012486104387789965\n",
      "9849 0.0012385437730699778\n",
      "9899 0.001238263794220984\n",
      "9949 0.0012407759204506874\n",
      "9999 0.0012385481968522072\n"
     ]
    }
   ],
   "source": [
    "score_list = []\n",
    "\n",
    "\n",
    "for i in tnrange(iter_no):\n",
    "#for i in tnrange(10000):  \n",
    "    s = time.time()\n",
    "    model.train()\n",
    "    optimizer.zero_grad()\n",
    "    \n",
    "    batch_idx = train_idx[i]\n",
    "    batch_S = S_train[batch_idx].to(device)\n",
    "    batch_V = V_train[batch_idx].to(device)\n",
    "    batch_V_lag = V_lag_train[batch_idx].to(device)\n",
    "    \n",
    "    batch_V_in = torch.zeros(batch_size, batch_length, lag+1).to(device)\n",
    "    batch_V_in[:,:,0] = batch_V\n",
    "    batch_V_in[:,:,1:] = batch_V_lag\n",
    "    \n",
    "    S_out = model(batch_V_in)\n",
    "    loss = bce_criterion(S_out, batch_S)\n",
    "    \n",
    "    loss.backward()\n",
    "    nn.utils.clip_grad_norm_(model.parameters(), 10)\n",
    "    optimizer.step()\n",
    "    \n",
    "    step_time = time.time() - s\n",
    "    \n",
    "    if (i%50 == 49) or (i == 0):\n",
    "        model.eval()\n",
    "        V_test_in = torch.zeros(batch_size, batch_length, lag+1).to(device)\n",
    "        V_test_in[:,:,0] = V_test\n",
    "        V_test_in[:,:,1:] = V_lag_test\n",
    "        \n",
    "        test_S_out = model(V_test_in)\n",
    "        test_loss = bce_criterion(test_S_out, S_test).item()\n",
    "        \n",
    "        score_list.append(test_loss)\n",
    "        print(i, test_loss)"
   ]
  },
  {
   "cell_type": "code",
   "execution_count": null,
   "id": "f591ea9b",
   "metadata": {},
   "outputs": [],
   "source": []
  },
  {
   "cell_type": "code",
   "execution_count": 7,
   "id": "e006b31b",
   "metadata": {},
   "outputs": [
    {
     "data": {
      "text/plain": [
       "[<matplotlib.lines.Line2D at 0x7f05e8ebb400>]"
      ]
     },
     "execution_count": 7,
     "metadata": {},
     "output_type": "execute_result"
    },
    {
     "data": {
      "image/png": "[encoded data removed]",
      "text/plain": [
       "<Figure size 432x288 with 1 Axes>"
      ]
     },
     "metadata": {
      "needs_background": "light"
     },
     "output_type": "display_data"
    }
   ],
   "source": [
    "plt.plot(np.asarray(score_list)[20:])"
   ]
  },
  {
   "cell_type": "code",
   "execution_count": 8,
   "id": "ad66af8b",
   "metadata": {},
   "outputs": [
    {
     "name": "stdout",
     "output_type": "stream",
     "text": [
      "tensor(0.0779, device='cuda:0', grad_fn=<MaxBackward1>)\n"
     ]
    },
    {
     "data": {
      "image/png": "[encoded data removed]",
      "text/plain": [
       "<Figure size 1080x360 with 1 Axes>"
      ]
     },
     "metadata": {
      "needs_background": "light"
     },
     "output_type": "display_data"
    }
   ],
   "source": [
    "plt.figure(figsize = (15,5))\n",
    "plt.plot(S_test[0].cpu().detach().numpy())\n",
    "plt.plot(test_S_out[1].cpu().detach().numpy())\n",
    "#plt.xlim(4500,5200)\n",
    "#plt.ylim(-1,10)\n",
    "print(torch.max(test_S_out))"
   ]
  },
  {
   "cell_type": "code",
   "execution_count": 9,
   "id": "780f8cd8",
   "metadata": {},
   "outputs": [],
   "source": [
    "#torch.save(model.state_dict(), \"/media/hdd01/sklee/CA1_clust4-60_AP/diff_pred/gru_l20_h40_0.2ms.pt\")\n",
    "#np.save(\"/media/hdd01/sklee/CA1_clust4-60_AP/diff_pred/gru_l20_h40_0.2ms_test.npy\", test_S_out.cpu().detach().numpy())"
   ]
  },
  {
   "cell_type": "code",
   "execution_count": null,
   "id": "220095ad",
   "metadata": {},
   "outputs": [],
   "source": []
  },
  {
   "cell_type": "code",
   "execution_count": null,
   "id": "01fc4bb0",
   "metadata": {},
   "outputs": [],
   "source": []
  }
 ],
 "metadata": {
  "kernelspec": {
   "display_name": "Python 3",
   "language": "python",
   "name": "python3"
  },
  "language_info": {
   "codemirror_mode": {
    "name": "ipython",
    "version": 3
   },
   "file_extension": ".py",
   "mimetype": "text/x-python",
   "name": "python",
   "nbconvert_exporter": "python",
   "pygments_lexer": "ipython3",
   "version": "3.8.8"
  }
 },
 "nbformat": 4,
 "nbformat_minor": 5
}
