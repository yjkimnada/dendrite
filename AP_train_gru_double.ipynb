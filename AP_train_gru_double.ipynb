{
 "cells": [
  {
   "cell_type": "code",
   "execution_count": 1,
   "id": "e7faa469",
   "metadata": {},
   "outputs": [],
   "source": [
    "import numpy as np\n",
    "import torch \n",
    "import torch.nn as nn\n",
    "from tqdm import tnrange\n",
    "import torch.optim as optim\n",
    "import torch.nn.functional as F\n",
    "from sklearn import metrics\n",
    "import matplotlib.pyplot as plt\n",
    "import time\n",
    "from sklearn.metrics import explained_variance_score"
   ]
  },
  {
   "cell_type": "code",
   "execution_count": 2,
   "id": "8753064b",
   "metadata": {},
   "outputs": [],
   "source": [
    "class AP_GRU_Double(nn.Module):\n",
    "    def __init__(self, H_no, device):\n",
    "        super().__init__()\n",
    "        \n",
    "        self.H_no = H_no\n",
    "        self.device = device\n",
    "        \n",
    "        self.rnn = nn.GRU(2, H_no, batch_first=True)\n",
    "        self.linear = nn.Linear(H_no, 1)\n",
    "        \n",
    "    def forward(self, V, D):\n",
    "        #V, D is shape (batch, 50000)\n",
    "        \n",
    "        VD = torch.zeros(V.shape[0], V.shape[1], 2).to(self.device)\n",
    "        VD[:,:,0] = VD[:,:,0] + V\n",
    "        VD[:,:,1] = VD[:,:,1] + D\n",
    "        \n",
    "        rnn_out, _ = self.rnn(VD) #(batch,50000,H)\n",
    "        rnn_out = rnn_out.reshape(-1,self.H_no)\n",
    "        lin_out = self.linear(rnn_out) #(batch*50000,1)\n",
    "        lin_out = lin_out.reshape(V.shape[0], V.shape[1])\n",
    "        \n",
    "        return lin_out\n",
    "\n"
   ]
  },
  {
   "cell_type": "code",
   "execution_count": 3,
   "id": "6e8d732d",
   "metadata": {},
   "outputs": [],
   "source": [
    "batch_size = 20\n",
    "batch_length = 50000\n",
    "H_no = 30\n",
    "device = torch.device(\"cuda\")\n",
    "\n",
    "epoch_no = 300\n",
    "iter_no = epoch_no * 980 // batch_size\n",
    "\n",
    "V = np.load(\"/media/hdd01/sklee/CA1_clust4-60/data/vdata_T10_Ne2000_gA0.6_tauA1_gN0.8_Ni200_gG0.1_gB0.1_Er0.5_Ir7.4_random_NR_rep1000_stimseed1.npy\").reshape(-1,50001)[:,:50000].flatten()\n",
    "#V = np.load(\"/media/hdd01/sklee/CA1_clust4-60_AP/comb_pred/V_comb_pred.npy\").flatten()\n",
    "\n",
    "#D = np.zeros((V.shape[0]))\n",
    "#D[:-1] = np.diff(V)\n",
    "#D = V.copy()\n",
    "#D_train = np.load(\"/media/hdd01/sklee/CA1_clust4-60/hand/gru_s10_h20_extra_output.npz\")[\"test\"]\n",
    "#D_test = np.load(\"/media/hdd01/sklee/CA1_clust4-60/hand/gru_s10_h20_output.npz\")[\"test\"]\n",
    "D_train = np.load(\"/media/hdd01/sklee/CA1_clust4-60/data/V_diff_stimseed1.npy\")[:980*50000].reshape(-1, batch_length)\n",
    "D_test = np.load(\"/media/hdd01/sklee/CA1_clust4-60/data/V_diff_stimseed1.npy\")[980*50000:].reshape(-1, batch_length)\n",
    "D_train = torch.from_numpy(D_train).float()\n",
    "D_test = torch.from_numpy(D_test).float().to(device)\n",
    "\n",
    "#D = D.reshape(-1,batch_length)\n",
    "V = V.reshape(-1,batch_length)\n",
    "S = np.load(\"/media/hdd01/sklee/CA1_clust4-60_AP/data/V_diff_stimseed1.npy\").reshape(-1,batch_length)\n",
    "\n",
    "V -= np.mean(V)\n",
    "D_train = D_train - np.mean(np.load(\"/media/hdd01/sklee/CA1_clust4-60/data/V_diff_stimseed1.npy\"))\n",
    "D_test = D_test - np.mean(np.load(\"/media/hdd01/sklee/CA1_clust4-60/data/V_diff_stimseed1.npy\"))\n",
    "\n",
    "V = torch.from_numpy(V)\n",
    "#D = torch.from_numpy(D)\n",
    "S = torch.from_numpy(S)\n"
   ]
  },
  {
   "cell_type": "code",
   "execution_count": 4,
   "id": "242f5d1a",
   "metadata": {},
   "outputs": [],
   "source": [
    "V_train = V[:980].float()\n",
    "V_test = V[980:].float().to(device)\n",
    "#D_train = D[:980].float()\n",
    "#D_test = D[980:].float().to(device)\n",
    "S_train = S[:980].float()\n",
    "S_test = S[980:].float() .to(device)\n",
    "\n",
    "train_idx = np.empty((epoch_no, 980//batch_size))\n",
    "for i in range(epoch_no):\n",
    "    part_idx = np.arange(0,980,batch_size)\n",
    "    np.random.shuffle(part_idx)\n",
    "    train_idx[i] = part_idx\n",
    "train_idx = train_idx.flatten()\n",
    "train_idx = torch.from_numpy(train_idx)\n"
   ]
  },
  {
   "cell_type": "code",
   "execution_count": 5,
   "id": "784b45c2",
   "metadata": {},
   "outputs": [
    {
     "name": "stdout",
     "output_type": "stream",
     "text": [
      "3091\n"
     ]
    }
   ],
   "source": [
    "model = AP_GRU_Double(H_no, device)\n",
    "optimizer = torch.optim.Adam(model.parameters(), lr = 0.001)\n",
    "\n",
    "model.to(device).float()\n",
    "print(sum(p.numel() for p in model.parameters() if p.requires_grad))\n",
    "\n",
    "bce_criterion = nn.BCELoss(reduction=\"mean\")"
   ]
  },
  {
   "cell_type": "code",
   "execution_count": 6,
   "id": "84e29a0c",
   "metadata": {
    "scrolled": false
   },
   "outputs": [
    {
     "name": "stderr",
     "output_type": "stream",
     "text": [
      "<ipython-input-6-58280cc07b24>:5: TqdmDeprecationWarning: Please use `tqdm.notebook.trange` instead of `tqdm.tnrange`\n",
      "  for i in tnrange(iter_no):\n"
     ]
    },
    {
     "data": {
      "application/vnd.jupyter.widget-view+json": {
       "model_id": "0d8c3412dd53462f8f0078463e3b7bcf",
       "version_major": 2,
       "version_minor": 0
      },
      "text/plain": [
       "  0%|          | 0/14700 [00:00<?, ?it/s]"
      ]
     },
     "metadata": {},
     "output_type": "display_data"
    },
    {
     "name": "stdout",
     "output_type": "stream",
     "text": [
      "0 0.0034294724464416504 0.0025178194046020508\n",
      "49 0.01628565788269043 0.015087544918060303\n",
      "99 0.033243000507354736 0.03105074167251587\n",
      "149 0.04713386297225952 0.051754772663116455\n",
      "199 0.030974984169006348 0.03667557239532471\n",
      "249 0.08307939767837524 0.09375888109207153\n",
      "299 0.1456998586654663 0.1292095184326172\n",
      "349 0.1871016025543213 0.19630974531173706\n",
      "399 0.21226578950881958 0.2177344560623169\n",
      "449 0.22995853424072266 0.23150348663330078\n",
      "499 0.24841535091400146 0.20595437288284302\n",
      "549 0.25608181953430176 0.2642393708229065\n",
      "599 0.2647523880004883 0.2329273223876953\n",
      "649 0.2860948443412781 0.2861465811729431\n",
      "699 0.26447486877441406 0.24784475564956665\n",
      "749 0.29398012161254883 0.25230318307876587\n",
      "799 0.3095211386680603 0.29109567403793335\n",
      "849 0.2553197145462036 0.2903207540512085\n",
      "899 0.3232351541519165 0.3083627223968506\n",
      "949 0.24051517248153687 0.2920238971710205\n",
      "999 0.31956207752227783 0.36932045221328735\n",
      "1049 0.34381192922592163 0.28893017768859863\n",
      "1099 0.2717247009277344 0.28635627031326294\n",
      "1149 0.2630804777145386 0.2855084538459778\n",
      "1199 0.3205694556236267 0.36486929655075073\n",
      "1249 0.37108057737350464 0.35968267917633057\n",
      "1299 0.34377622604370117 0.3246384263038635\n",
      "1349 0.35741376876831055 0.3237881660461426\n",
      "1399 0.30555933713912964 0.25568705797195435\n",
      "1449 0.3723910450935364 0.41735488176345825\n",
      "1499 0.37596166133880615 0.3917226195335388\n",
      "1549 0.35587501525878906 0.34892046451568604\n",
      "1599 0.37318867444992065 0.3860659599304199\n",
      "1649 0.37624138593673706 0.40040796995162964\n",
      "1699 0.35756629705429077 0.3718125820159912\n",
      "1749 0.3777674436569214 0.38616448640823364\n",
      "1799 0.3272712826728821 0.29855912923812866\n",
      "1849 0.4334287643432617 0.4756808280944824\n",
      "1899 0.3670470714569092 0.3244485855102539\n",
      "1949 0.4067017436027527 0.4271094799041748\n",
      "1999 0.40920132398605347 0.38842713832855225\n",
      "2049 0.4293633699417114 0.4415363073348999\n",
      "2099 0.4381646513938904 0.38975703716278076\n",
      "2149 0.36589962244033813 0.43821460008621216\n",
      "2199 0.4531514048576355 0.36831533908843994\n",
      "2249 0.45104044675827026 0.3625560402870178\n",
      "2299 0.46646595001220703 0.38373786211013794\n",
      "2349 0.46807312965393066 0.5303810238838196\n",
      "2399 0.4207160472869873 0.504919171333313\n",
      "2449 0.42569535970687866 0.25441455841064453\n",
      "2499 0.47738116979599 0.49343687295913696\n",
      "2549 0.40939581394195557 0.3977377414703369\n",
      "2599 0.4965067505836487 0.47067373991012573\n",
      "2649 0.47966688871383667 0.5063352584838867\n",
      "2699 0.4706171154975891 0.4783557057380676\n",
      "2749 0.4787108898162842 0.42954301834106445\n",
      "2799 0.48038047552108765 0.47346723079681396\n",
      "2849 0.4429008960723877 0.4894140362739563\n",
      "2899 0.5176554918289185 0.4913625121116638\n",
      "2949 0.4649994373321533 0.43645375967025757\n",
      "2999 0.33585137128829956 0.360095739364624\n",
      "3049 0.47134554386138916 0.5293201208114624\n",
      "3099 0.354617178440094 0.39056169986724854\n",
      "3149 0.42995041608810425 0.4188770651817322\n",
      "3199 0.48170995712280273 0.5121898651123047\n",
      "3249 0.39092862606048584 0.4124795198440552\n",
      "3299 0.5088737607002258 0.526626467704773\n",
      "3349 0.4624170660972595 0.5393792390823364\n",
      "3399 0.4597223401069641 0.5209797620773315\n",
      "3449 0.4689980745315552 0.51976478099823\n",
      "3499 0.49505293369293213 0.4101065993309021\n",
      "3549 0.41409868001937866 0.40606093406677246\n",
      "3599 0.5062791705131531 0.4884641766548157\n",
      "3649 0.5078254342079163 0.48698586225509644\n",
      "3699 0.4595857858657837 0.37808454036712646\n",
      "3749 0.4764626622200012 0.496589720249176\n",
      "3799 0.5143625736236572 0.45005500316619873\n",
      "3849 0.5024672746658325 0.4574689269065857\n",
      "3899 0.525445282459259 0.5272918939590454\n",
      "3949 0.4209333062171936 0.487007737159729\n",
      "3999 0.3715882897377014 0.4170474410057068\n",
      "4049 0.4683201313018799 0.5216642618179321\n",
      "4099 0.5212998986244202 0.47910434007644653\n",
      "4149 0.4664015769958496 0.45823144912719727\n",
      "4199 0.5089545845985413 0.43288254737854004\n",
      "4249 0.45575088262557983 0.4921942949295044\n",
      "4299 0.43779826164245605 0.44098377227783203\n",
      "4349 0.5155481100082397 0.5220807790756226\n",
      "4399 0.5020908117294312 0.559682309627533\n",
      "4449 0.5446960926055908 0.5010494589805603\n",
      "4499 0.41644203662872314 0.4481273889541626\n",
      "4549 0.5223767757415771 0.4220275282859802\n",
      "4599 0.4013252258300781 0.35792434215545654\n",
      "4649 0.5316666960716248 0.5768745541572571\n",
      "4699 0.5694789886474609 0.5851603150367737\n",
      "4749 0.3898743987083435 0.5395760536193848\n",
      "4799 0.4091634750366211 0.45235806703567505\n",
      "4849 0.5644506812095642 0.4813119173049927\n",
      "4899 0.4732935428619385 0.42006874084472656\n",
      "4949 0.3981305956840515 0.46230798959732056\n",
      "4999 0.5578548908233643 0.4347569942474365\n",
      "5049 0.5735188126564026 0.47125113010406494\n",
      "5099 0.4555237293243408 0.5807645320892334\n",
      "5149 0.551781177520752 0.41241341829299927\n",
      "5199 0.5373880863189697 0.5030606985092163\n",
      "5249 0.5690873861312866 0.5025833249092102\n",
      "5299 0.4510488510131836 0.3710658550262451\n",
      "5349 0.5732042789459229 0.516189455986023\n",
      "5399 0.5501559972763062 0.5516555309295654\n",
      "5449 0.5227357149124146 0.5436832904815674\n",
      "5499 0.588652491569519 0.5165368914604187\n",
      "5549 0.5784544944763184 0.6244807243347168\n",
      "5599 0.5617085695266724 0.5104118585586548\n",
      "5649 0.5508022904396057 0.4518311023712158\n",
      "5699 0.6048809289932251 0.651557207107544\n",
      "5749 0.5578229427337646 0.5429630279541016\n",
      "5799 0.5669480562210083 0.6070387363433838\n",
      "5849 0.6249374747276306 0.5549114346504211\n",
      "5899 0.5547348260879517 0.5911093950271606\n",
      "5949 0.5815854072570801 0.6089587807655334\n",
      "5999 0.5867912173271179 0.5168948769569397\n",
      "6049 0.5643643140792847 0.545685350894928\n",
      "6099 0.5900540351867676 0.5749683380126953\n",
      "6149 0.57075035572052 0.5693874359130859\n",
      "6199 0.6207612752914429 0.5513880252838135\n",
      "6249 0.5335242748260498 0.47779273986816406\n",
      "6299 0.6091393232345581 0.6377203464508057\n",
      "6349 0.6221780776977539 0.5697301626205444\n",
      "6399 0.6249561905860901 0.5668532848358154\n",
      "6449 0.6220521926879883 0.6135820150375366\n",
      "6499 0.38511544466018677 0.37301915884017944\n",
      "6549 0.62082439661026 0.5369511246681213\n",
      "6599 0.6356942057609558 0.6063733100891113\n",
      "6649 0.6116693019866943 0.6268341541290283\n",
      "6699 0.6236953735351562 0.5414305925369263\n",
      "6749 0.3838460445404053 0.40727853775024414\n",
      "6799 0.6263890266418457 0.6507759094238281\n",
      "6849 0.5494991540908813 0.5591918230056763\n",
      "6899 0.6069165468215942 0.6677409410476685\n",
      "6949 0.5704696178436279 0.5832432508468628\n",
      "6999 0.6361404061317444 0.6522417068481445\n",
      "7049 0.5542884469032288 0.6085851192474365\n",
      "7099 0.6205170154571533 0.623222827911377\n",
      "7149 0.5813032388687134 0.6758725643157959\n",
      "7199 0.6423866748809814 0.684755802154541\n",
      "7249 0.6547979116439819 0.6769207119941711\n",
      "7299 0.6396384239196777 0.5547453165054321\n",
      "7349 0.5420646667480469 0.5811824202537537\n",
      "7399 0.6556175947189331 0.6385296583175659\n",
      "7449 0.6035702228546143 0.6714316606521606\n",
      "7499 0.6491863131523132 0.6837413311004639\n",
      "7549 0.6421489715576172 0.627336323261261\n",
      "7599 0.6342180967330933 0.6956266164779663\n",
      "7649 0.6386525630950928 0.614037275314331\n",
      "7699 0.595174252986908 0.5285958051681519\n",
      "7749 0.6665691137313843 0.6783428192138672\n",
      "7799 0.6565538048744202 0.7046955823898315\n",
      "7849 0.6350372433662415 0.6519756317138672\n",
      "7899 0.6399901509284973 0.6867599487304688\n",
      "7949 0.6384134292602539 0.6625373363494873\n",
      "7999 0.6086678504943848 0.6525670289993286\n",
      "8049 0.6613473892211914 0.6256580352783203\n",
      "8099 0.55992192029953 0.5129909515380859\n",
      "8149 0.6443459391593933 0.629205584526062\n"
     ]
    },
    {
     "ename": "KeyboardInterrupt",
     "evalue": "",
     "output_type": "error",
     "traceback": [
      "\u001b[0;31m---------------------------------------------------------------------------\u001b[0m",
      "\u001b[0;31mKeyboardInterrupt\u001b[0m                         Traceback (most recent call last)",
      "\u001b[0;32m<ipython-input-6-58280cc07b24>\u001b[0m in \u001b[0;36m<module>\u001b[0;34m\u001b[0m\n\u001b[1;32m     14\u001b[0m     \u001b[0mbatch_D\u001b[0m \u001b[0;34m=\u001b[0m \u001b[0mD_train\u001b[0m\u001b[0;34m[\u001b[0m\u001b[0mbatch_idx\u001b[0m\u001b[0;34m]\u001b[0m\u001b[0;34m.\u001b[0m\u001b[0mto\u001b[0m\u001b[0;34m(\u001b[0m\u001b[0mdevice\u001b[0m\u001b[0;34m)\u001b[0m\u001b[0;34m[\u001b[0m\u001b[0;34m:\u001b[0m\u001b[0;34m,\u001b[0m\u001b[0mpart_time_idx\u001b[0m\u001b[0;34m]\u001b[0m\u001b[0;34m\u001b[0m\u001b[0;34m\u001b[0m\u001b[0m\n\u001b[1;32m     15\u001b[0m \u001b[0;34m\u001b[0m\u001b[0m\n\u001b[0;32m---> 16\u001b[0;31m     \u001b[0mS_out\u001b[0m \u001b[0;34m=\u001b[0m \u001b[0mmodel\u001b[0m\u001b[0;34m(\u001b[0m\u001b[0mbatch_V\u001b[0m\u001b[0;34m,\u001b[0m \u001b[0mbatch_D\u001b[0m\u001b[0;34m)\u001b[0m\u001b[0;34m\u001b[0m\u001b[0;34m\u001b[0m\u001b[0m\n\u001b[0m\u001b[1;32m     17\u001b[0m     \u001b[0mloss\u001b[0m \u001b[0;34m=\u001b[0m \u001b[0mtorch\u001b[0m\u001b[0;34m.\u001b[0m\u001b[0mmean\u001b[0m\u001b[0;34m(\u001b[0m\u001b[0;34m(\u001b[0m\u001b[0mS_out\u001b[0m \u001b[0;34m-\u001b[0m \u001b[0mbatch_S\u001b[0m\u001b[0;34m)\u001b[0m\u001b[0;34m**\u001b[0m\u001b[0;36m2\u001b[0m\u001b[0;34m)\u001b[0m\u001b[0;34m\u001b[0m\u001b[0;34m\u001b[0m\u001b[0m\n\u001b[1;32m     18\u001b[0m     \u001b[0;31m#loss = torch.var(S_out - batch_S)\u001b[0m\u001b[0;34m\u001b[0m\u001b[0;34m\u001b[0m\u001b[0;34m\u001b[0m\u001b[0m\n",
      "\u001b[0;32m~/anaconda3/lib/python3.8/site-packages/torch/nn/modules/module.py\u001b[0m in \u001b[0;36m_call_impl\u001b[0;34m(self, *input, **kwargs)\u001b[0m\n\u001b[1;32m    887\u001b[0m             \u001b[0mresult\u001b[0m \u001b[0;34m=\u001b[0m \u001b[0mself\u001b[0m\u001b[0;34m.\u001b[0m\u001b[0m_slow_forward\u001b[0m\u001b[0;34m(\u001b[0m\u001b[0;34m*\u001b[0m\u001b[0minput\u001b[0m\u001b[0;34m,\u001b[0m \u001b[0;34m**\u001b[0m\u001b[0mkwargs\u001b[0m\u001b[0;34m)\u001b[0m\u001b[0;34m\u001b[0m\u001b[0;34m\u001b[0m\u001b[0m\n\u001b[1;32m    888\u001b[0m         \u001b[0;32melse\u001b[0m\u001b[0;34m:\u001b[0m\u001b[0;34m\u001b[0m\u001b[0;34m\u001b[0m\u001b[0m\n\u001b[0;32m--> 889\u001b[0;31m             \u001b[0mresult\u001b[0m \u001b[0;34m=\u001b[0m \u001b[0mself\u001b[0m\u001b[0;34m.\u001b[0m\u001b[0mforward\u001b[0m\u001b[0;34m(\u001b[0m\u001b[0;34m*\u001b[0m\u001b[0minput\u001b[0m\u001b[0;34m,\u001b[0m \u001b[0;34m**\u001b[0m\u001b[0mkwargs\u001b[0m\u001b[0;34m)\u001b[0m\u001b[0;34m\u001b[0m\u001b[0;34m\u001b[0m\u001b[0m\n\u001b[0m\u001b[1;32m    890\u001b[0m         for hook in itertools.chain(\n\u001b[1;32m    891\u001b[0m                 \u001b[0m_global_forward_hooks\u001b[0m\u001b[0;34m.\u001b[0m\u001b[0mvalues\u001b[0m\u001b[0;34m(\u001b[0m\u001b[0;34m)\u001b[0m\u001b[0;34m,\u001b[0m\u001b[0;34m\u001b[0m\u001b[0;34m\u001b[0m\u001b[0m\n",
      "\u001b[0;32m<ipython-input-2-4c891881235f>\u001b[0m in \u001b[0;36mforward\u001b[0;34m(self, V, D)\u001b[0m\n\u001b[1;32m     16\u001b[0m         \u001b[0mVD\u001b[0m\u001b[0;34m[\u001b[0m\u001b[0;34m:\u001b[0m\u001b[0;34m,\u001b[0m\u001b[0;34m:\u001b[0m\u001b[0;34m,\u001b[0m\u001b[0;36m1\u001b[0m\u001b[0;34m]\u001b[0m \u001b[0;34m=\u001b[0m \u001b[0mVD\u001b[0m\u001b[0;34m[\u001b[0m\u001b[0;34m:\u001b[0m\u001b[0;34m,\u001b[0m\u001b[0;34m:\u001b[0m\u001b[0;34m,\u001b[0m\u001b[0;36m1\u001b[0m\u001b[0;34m]\u001b[0m \u001b[0;34m+\u001b[0m \u001b[0mD\u001b[0m\u001b[0;34m\u001b[0m\u001b[0;34m\u001b[0m\u001b[0m\n\u001b[1;32m     17\u001b[0m \u001b[0;34m\u001b[0m\u001b[0m\n\u001b[0;32m---> 18\u001b[0;31m         \u001b[0mrnn_out\u001b[0m\u001b[0;34m,\u001b[0m \u001b[0m_\u001b[0m \u001b[0;34m=\u001b[0m \u001b[0mself\u001b[0m\u001b[0;34m.\u001b[0m\u001b[0mrnn\u001b[0m\u001b[0;34m(\u001b[0m\u001b[0mVD\u001b[0m\u001b[0;34m)\u001b[0m \u001b[0;31m#(batch,50000,H)\u001b[0m\u001b[0;34m\u001b[0m\u001b[0;34m\u001b[0m\u001b[0m\n\u001b[0m\u001b[1;32m     19\u001b[0m         \u001b[0mrnn_out\u001b[0m \u001b[0;34m=\u001b[0m \u001b[0mrnn_out\u001b[0m\u001b[0;34m.\u001b[0m\u001b[0mreshape\u001b[0m\u001b[0;34m(\u001b[0m\u001b[0;34m-\u001b[0m\u001b[0;36m1\u001b[0m\u001b[0;34m,\u001b[0m\u001b[0mself\u001b[0m\u001b[0;34m.\u001b[0m\u001b[0mH_no\u001b[0m\u001b[0;34m)\u001b[0m\u001b[0;34m\u001b[0m\u001b[0;34m\u001b[0m\u001b[0m\n\u001b[1;32m     20\u001b[0m         \u001b[0mlin_out\u001b[0m \u001b[0;34m=\u001b[0m \u001b[0mself\u001b[0m\u001b[0;34m.\u001b[0m\u001b[0mlinear\u001b[0m\u001b[0;34m(\u001b[0m\u001b[0mrnn_out\u001b[0m\u001b[0;34m)\u001b[0m \u001b[0;31m#(batch*50000,1)\u001b[0m\u001b[0;34m\u001b[0m\u001b[0;34m\u001b[0m\u001b[0m\n",
      "\u001b[0;32m~/anaconda3/lib/python3.8/site-packages/torch/nn/modules/module.py\u001b[0m in \u001b[0;36m_call_impl\u001b[0;34m(self, *input, **kwargs)\u001b[0m\n\u001b[1;32m    887\u001b[0m             \u001b[0mresult\u001b[0m \u001b[0;34m=\u001b[0m \u001b[0mself\u001b[0m\u001b[0;34m.\u001b[0m\u001b[0m_slow_forward\u001b[0m\u001b[0;34m(\u001b[0m\u001b[0;34m*\u001b[0m\u001b[0minput\u001b[0m\u001b[0;34m,\u001b[0m \u001b[0;34m**\u001b[0m\u001b[0mkwargs\u001b[0m\u001b[0;34m)\u001b[0m\u001b[0;34m\u001b[0m\u001b[0;34m\u001b[0m\u001b[0m\n\u001b[1;32m    888\u001b[0m         \u001b[0;32melse\u001b[0m\u001b[0;34m:\u001b[0m\u001b[0;34m\u001b[0m\u001b[0;34m\u001b[0m\u001b[0m\n\u001b[0;32m--> 889\u001b[0;31m             \u001b[0mresult\u001b[0m \u001b[0;34m=\u001b[0m \u001b[0mself\u001b[0m\u001b[0;34m.\u001b[0m\u001b[0mforward\u001b[0m\u001b[0;34m(\u001b[0m\u001b[0;34m*\u001b[0m\u001b[0minput\u001b[0m\u001b[0;34m,\u001b[0m \u001b[0;34m**\u001b[0m\u001b[0mkwargs\u001b[0m\u001b[0;34m)\u001b[0m\u001b[0;34m\u001b[0m\u001b[0;34m\u001b[0m\u001b[0m\n\u001b[0m\u001b[1;32m    890\u001b[0m         for hook in itertools.chain(\n\u001b[1;32m    891\u001b[0m                 \u001b[0m_global_forward_hooks\u001b[0m\u001b[0;34m.\u001b[0m\u001b[0mvalues\u001b[0m\u001b[0;34m(\u001b[0m\u001b[0;34m)\u001b[0m\u001b[0;34m,\u001b[0m\u001b[0;34m\u001b[0m\u001b[0;34m\u001b[0m\u001b[0m\n",
      "\u001b[0;32m~/anaconda3/lib/python3.8/site-packages/torch/nn/modules/rnn.py\u001b[0m in \u001b[0;36mforward\u001b[0;34m(self, input, hx)\u001b[0m\n\u001b[1;32m    819\u001b[0m         \u001b[0mself\u001b[0m\u001b[0;34m.\u001b[0m\u001b[0mcheck_forward_args\u001b[0m\u001b[0;34m(\u001b[0m\u001b[0minput\u001b[0m\u001b[0;34m,\u001b[0m \u001b[0mhx\u001b[0m\u001b[0;34m,\u001b[0m \u001b[0mbatch_sizes\u001b[0m\u001b[0;34m)\u001b[0m\u001b[0;34m\u001b[0m\u001b[0;34m\u001b[0m\u001b[0m\n\u001b[1;32m    820\u001b[0m         \u001b[0;32mif\u001b[0m \u001b[0mbatch_sizes\u001b[0m \u001b[0;32mis\u001b[0m \u001b[0;32mNone\u001b[0m\u001b[0;34m:\u001b[0m\u001b[0;34m\u001b[0m\u001b[0;34m\u001b[0m\u001b[0m\n\u001b[0;32m--> 821\u001b[0;31m             result = _VF.gru(input, hx, self._flat_weights, self.bias, self.num_layers,\n\u001b[0m\u001b[1;32m    822\u001b[0m                              self.dropout, self.training, self.bidirectional, self.batch_first)\n\u001b[1;32m    823\u001b[0m         \u001b[0;32melse\u001b[0m\u001b[0;34m:\u001b[0m\u001b[0;34m\u001b[0m\u001b[0;34m\u001b[0m\u001b[0m\n",
      "\u001b[0;31mKeyboardInterrupt\u001b[0m: "
     ]
    }
   ],
   "source": [
    "score_list = []\n",
    "\n",
    "part_time_idx = torch.arange(0,50000)\n",
    "\n",
    "for i in tnrange(iter_no):\n",
    "    s = time.time()\n",
    "    model.train()\n",
    "    optimizer.zero_grad()\n",
    "    \n",
    "    batch_idx_start = train_idx[i]\n",
    "    batch_idx = torch.arange(batch_idx_start, batch_idx_start+5).long()\n",
    "    batch_S = S_train[batch_idx].to(device)[:,part_time_idx]\n",
    "    batch_V = V_train[batch_idx].to(device)[:,part_time_idx]\n",
    "    batch_D = D_train[batch_idx].to(device)[:,part_time_idx]\n",
    "    \n",
    "    S_out = model(batch_V, batch_D)\n",
    "    loss = torch.mean((S_out - batch_S)**2)\n",
    "    #loss = torch.var(S_out - batch_S)\n",
    "    \n",
    "    loss.backward()\n",
    "    nn.utils.clip_grad_norm_(model.parameters(), 10)\n",
    "    optimizer.step()\n",
    "    \n",
    "    step_time = time.time() - s\n",
    "    \n",
    "    if (i%50 == 49) or (i == 0):\n",
    "        model.eval()\n",
    "        test_S_out = model(V_test[:,part_time_idx], D_test[:,part_time_idx])\n",
    "        test_loss = explained_variance_score(S_test[:,part_time_idx].cpu().detach().numpy().flatten(), test_S_out.cpu().detach().numpy().flatten())\n",
    "        train_loss = explained_variance_score(batch_S.cpu().detach().numpy().flatten(), S_out.cpu().detach().numpy().flatten())\n",
    "        \n",
    "        score_list.append(test_loss)\n",
    "        print(i, test_loss, train_loss)"
   ]
  },
  {
   "cell_type": "code",
   "execution_count": null,
   "id": "f591ea9b",
   "metadata": {},
   "outputs": [],
   "source": []
  },
  {
   "cell_type": "code",
   "execution_count": 7,
   "id": "e006b31b",
   "metadata": {},
   "outputs": [
    {
     "data": {
      "text/plain": [
       "[<matplotlib.lines.Line2D at 0x7f4dc199c430>]"
      ]
     },
     "execution_count": 7,
     "metadata": {},
     "output_type": "execute_result"
    },
    {
     "data": {
      "image/png": "[encoded data removed]",
      "text/plain": [
       "<Figure size 432x288 with 1 Axes>"
      ]
     },
     "metadata": {
      "needs_background": "light"
     },
     "output_type": "display_data"
    }
   ],
   "source": [
    "plt.plot(np.asarray(score_list))"
   ]
  },
  {
   "cell_type": "code",
   "execution_count": 8,
   "id": "ad66af8b",
   "metadata": {},
   "outputs": [
    {
     "data": {
      "text/plain": [
       "(23000.0, 26000.0)"
      ]
     },
     "execution_count": 8,
     "metadata": {},
     "output_type": "execute_result"
    },
    {
     "data": {
      "image/png": "[encoded data removed]",
      "text/plain": [
       "<Figure size 1080x360 with 1 Axes>"
      ]
     },
     "metadata": {
      "needs_background": "light"
     },
     "output_type": "display_data"
    }
   ],
   "source": [
    "plt.figure(figsize = (15,5))\n",
    "plt.plot(S_test[0].cpu().detach().numpy()[part_time_idx])\n",
    "plt.plot(test_S_out[1].cpu().detach().numpy())\n",
    "plt.xlim(23000,26000)\n",
    "#plt.ylim(-1,10)"
   ]
  },
  {
   "cell_type": "code",
   "execution_count": null,
   "id": "84a65d08",
   "metadata": {},
   "outputs": [],
   "source": [
    "np.save()"
   ]
  }
 ],
 "metadata": {
  "kernelspec": {
   "display_name": "Python 3",
   "language": "python",
   "name": "python3"
  },
  "language_info": {
   "codemirror_mode": {
    "name": "ipython",
    "version": 3
   },
   "file_extension": ".py",
   "mimetype": "text/x-python",
   "name": "python",
   "nbconvert_exporter": "python",
   "pygments_lexer": "ipython3",
   "version": "3.8.8"
  }
 },
 "nbformat": 4,
 "nbformat_minor": 5
}
