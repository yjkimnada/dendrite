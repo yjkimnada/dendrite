{
 "cells": [
  {
   "cell_type": "code",
   "execution_count": 1,
   "id": "b63e8cb2",
   "metadata": {},
   "outputs": [],
   "source": [
    "import matplotlib.pyplot as plt\n",
    "import numpy as np\n",
    "from tqdm import tnrange\n",
    "import scipy.stats\n",
    "import pandas as pd\n",
    "from scipy.stats import rankdata\n",
    "import matplotlib as mpl\n",
    "from weightedcorr import WeightedCorr\n",
    "import itertools"
   ]
  },
  {
   "cell_type": "code",
   "execution_count": 2,
   "id": "c1ebf1bf",
   "metadata": {},
   "outputs": [
    {
     "name": "stderr",
     "output_type": "stream",
     "text": [
      "/tmp/ipykernel_30462/569377441.py:24: TqdmDeprecationWarning: Please use `tqdm.notebook.trange` instead of `tqdm.tnrange`\n",
      "  for i in tnrange(rep_no):\n"
     ]
    },
    {
     "data": {
      "application/vnd.jupyter.widget-view+json": {
       "model_id": "f4880c30c4cc4f36a32895663f5cbcea",
       "version_major": 2,
       "version_minor": 0
      },
      "text/plain": [
       "  0%|          | 0/5 [00:00<?, ?it/s]"
      ]
     },
     "metadata": {},
     "output_type": "display_data"
    }
   ],
   "source": [
    "rep_no = 5\n",
    "\n",
    "C4_diff_all = np.zeros((rep_no, 2000,2000))\n",
    "C4_nona_all = np.zeros((rep_no, 2000,2000))\n",
    "C8_diff_all = np.zeros((rep_no, 2000,2000))\n",
    "C8_nona_all = np.zeros((rep_no, 2000,2000))\n",
    "C12_diff_all = np.zeros((rep_no, 2000,2000))\n",
    "C12_nona_all = np.zeros((rep_no, 2000,2000))\n",
    "\n",
    "C4_diff_scale_all = np.zeros((rep_no, 2000))\n",
    "C4_nona_scale_all = np.zeros((rep_no, 2000))\n",
    "C8_diff_scale_all = np.zeros((rep_no, 2000))\n",
    "C8_nona_scale_all = np.zeros((rep_no, 2000))\n",
    "C12_diff_scale_all = np.zeros((rep_no, 2000))\n",
    "C12_nona_scale_all = np.zeros((rep_no, 2000))\n",
    "\n",
    "C4_rand_all = np.zeros((rep_no, 2000, 2000))\n",
    "C4_rand_scale_all = np.random.rand(rep_no, 2000)\n",
    "C8_rand_all = np.zeros((rep_no, 2000, 2000))\n",
    "C8_rand_scale_all = np.random.rand(rep_no, 2000)\n",
    "C12_rand_all = np.zeros((rep_no, 2000, 2000))\n",
    "C12_rand_scale_all = np.random.rand(rep_no, 2000)\n",
    "\n",
    "for i in tnrange(rep_no):\n",
    "    if i == 0:\n",
    "        C4_dist_raw = np.load(\"/media/hdd01/sklee/CA1_clust4-60/data/clust4_syn_dist.npy\")[:,-1]\n",
    "        C8_dist_raw = np.load(\"/media/hdd01/sklee/CA1_clust8-30/data/clust8_syn_dist.npy\")[:,-1]\n",
    "        C12_dist_raw = np.load(\"/media/hdd01/sklee/CA1_clust12-20/data/clust12_syn_dist.npy\")[:,-1]\n",
    "\n",
    "        C4_diff_scale = np.load(\"/media/hdd01/sklee/CA1_clust4-60/clust/gru_s5_h20_pretrain_output_set\"+str(i+1)+\".npz\")[\"E_scale\"]\n",
    "        C4_nona_scale = np.load(\"/media/hdd01/sklee/CA1_clust4-60_noNA/clust/gru_s5_h20_pretrain_output_set\"+str(i+1)+\".npz\")[\"E_scale\"]\n",
    "        C8_diff_scale = np.load(\"/media/hdd01/sklee/CA1_clust8-30/clust/gru_s9_h20_pretrain_output_set\"+str(i+1)+\".npz\")[\"E_scale\"]\n",
    "        C8_nona_scale = np.load(\"/media/hdd01/sklee/CA1_clust8-30_noNA/clust/gru_s9_h20_pretrain_output_set\"+str(i+1)+\".npz\")[\"E_scale\"]\n",
    "        C12_diff_scale = np.load(\"/media/hdd01/sklee/CA1_clust12-20/clust/gru_s13_h20_pretrain_output_set\"+str(i+1)+\".npz\")[\"E_scale\"]\n",
    "        C12_nona_scale = np.load(\"/media/hdd01/sklee/CA1_clust12-20_noNA/clust/gru_s13_h20_pretrain_output_set\"+str(i+1)+\".npz\")[\"E_scale\"]\n",
    "    \n",
    "    else:\n",
    "        C4_dist_raw = np.load(\"/media/hdd01/sklee/CA1_clust4-60/data/clust4_syn_dist.npy\")[:-1,-1]\n",
    "        C8_dist_raw = np.load(\"/media/hdd01/sklee/CA1_clust8-30/data/clust8_syn_dist.npy\")[:-1,-1]\n",
    "        C12_dist_raw = np.load(\"/media/hdd01/sklee/CA1_clust12-20/data/clust12_syn_dist.npy\")[:-1,-1]\n",
    "\n",
    "        C4_diff_scale = np.load(\"/media/hdd01/sklee/CA1_clust4-60/clust/gru_s5_h20_pretrain_output_set\"+str(i+1)+\".npz\")[\"E_scale\"]\n",
    "        C4_nona_scale = np.load(\"/media/hdd01/sklee/CA1_clust4-60_noNA/clust/gru_s5_h20_pretrain_output_set\"+str(i+1)+\".npz\")[\"E_scale\"]\n",
    "        C8_diff_scale = np.load(\"/media/hdd01/sklee/CA1_clust8-30/clust/gru_s9_h20_pretrain_output_set\"+str(i+1)+\".npz\")[\"E_scale\"]\n",
    "        C8_nona_scale = np.load(\"/media/hdd01/sklee/CA1_clust8-30_noNA/clust/gru_s9_h20_pretrain_output_set\"+str(i+1)+\".npz\")[\"E_scale\"]\n",
    "        C12_diff_scale = np.load(\"/media/hdd01/sklee/CA1_clust12-20/clust/gru_s13_h20_pretrain_output_set\"+str(i+1)+\".npz\")[\"E_scale\"]\n",
    "        C12_nona_scale = np.load(\"/media/hdd01/sklee/CA1_clust12-20_noNA/clust/gru_s13_h20_pretrain_output_set\"+str(i+1)+\".npz\")[\"E_scale\"]\n",
    "    \n",
    "    C4_diff_scale_all[i] = C4_diff_scale\n",
    "    C4_nona_scale_all[i] = C4_nona_scale\n",
    "    C8_diff_scale_all[i] = C8_diff_scale\n",
    "    C8_nona_scale_all[i] = C8_nona_scale\n",
    "    C12_diff_scale_all[i] = C12_diff_scale\n",
    "    C12_nona_scale_all[i] = C12_nona_scale"
   ]
  },
  {
   "cell_type": "code",
   "execution_count": 3,
   "id": "88c3bc6b",
   "metadata": {},
   "outputs": [
    {
     "name": "stderr",
     "output_type": "stream",
     "text": [
      "/tmp/ipykernel_30462/3928889102.py:5: TqdmDeprecationWarning: Please use `tqdm.notebook.trange` instead of `tqdm.tnrange`\n",
      "  for i in tnrange(2000):\n"
     ]
    },
    {
     "data": {
      "application/vnd.jupyter.widget-view+json": {
       "model_id": "43f24cc872554ba1b62220ee4952ae58",
       "version_major": 2,
       "version_minor": 0
      },
      "text/plain": [
       "  0%|          | 0/2000 [00:00<?, ?it/s]"
      ]
     },
     "metadata": {},
     "output_type": "display_data"
    }
   ],
   "source": [
    "C4_dist = np.zeros((2000,2000))\n",
    "C8_dist = np.zeros((2000,2000))\n",
    "C12_dist = np.zeros((2000,2000))\n",
    "\n",
    "for i in tnrange(2000):\n",
    "    for j in range(2000):\n",
    "        C4_dist[i,j] = np.abs(C4_dist_raw[i] - C4_dist_raw[j])\n",
    "        C8_dist[i,j] = np.abs(C8_dist_raw[i] - C8_dist_raw[j])\n",
    "        C12_dist[i,j] = np.abs(C12_dist_raw[i] - C12_dist_raw[j])\n",
    "        \n",
    "C4_unique = np.unique(C4_dist_raw)\n",
    "C8_unique = np.unique(C8_dist_raw)\n",
    "C12_unique = np.unique(C12_dist_raw)"
   ]
  },
  {
   "cell_type": "code",
   "execution_count": 4,
   "id": "cee5061f",
   "metadata": {},
   "outputs": [],
   "source": [
    "C4_diff_scale_mat_all = np.matmul(C4_diff_scale_all.reshape(rep_no,-1,1), C4_diff_scale_all.reshape(rep_no,1,-1))\n",
    "C4_nona_scale_mat_all = np.matmul(C4_nona_scale_all.reshape(rep_no,-1,1), C4_nona_scale_all.reshape(rep_no,1,-1))\n",
    "C8_diff_scale_mat_all = np.matmul(C8_diff_scale_all.reshape(rep_no,-1,1), C8_diff_scale_all.reshape(rep_no,1,-1))\n",
    "C8_nona_scale_mat_all = np.matmul(C8_nona_scale_all.reshape(rep_no,-1,1), C8_nona_scale_all.reshape(rep_no,1,-1))\n",
    "C12_diff_scale_mat_all = np.matmul(C12_diff_scale_all.reshape(rep_no,-1,1), C12_diff_scale_all.reshape(rep_no,1,-1))\n",
    "C12_nona_scale_mat_all = np.matmul(C12_nona_scale_all.reshape(rep_no,-1,1), C12_nona_scale_all.reshape(rep_no,1,-1))\n",
    "C4_rand_scale_mat_all = np.matmul(C4_rand_scale_all.reshape(rep_no,-1,1), C4_rand_scale_all.reshape(rep_no,1,-1))\n",
    "C8_rand_scale_mat_all = np.matmul(C8_rand_scale_all.reshape(rep_no,-1,1), C8_rand_scale_all.reshape(rep_no,1,-1))\n",
    "C12_rand_scale_mat_all = np.matmul(C12_rand_scale_all.reshape(rep_no,-1,1), C12_rand_scale_all.reshape(rep_no,1,-1))\n"
   ]
  },
  {
   "cell_type": "code",
   "execution_count": 9,
   "id": "308b09b2",
   "metadata": {},
   "outputs": [
    {
     "name": "stderr",
     "output_type": "stream",
     "text": [
      "/tmp/ipykernel_30462/2225894489.py:21: TqdmDeprecationWarning: Please use `tqdm.notebook.trange` instead of `tqdm.tnrange`\n",
      "  for i in tnrange(poss_choice.shape[0]):\n"
     ]
    },
    {
     "data": {
      "application/vnd.jupyter.widget-view+json": {
       "model_id": "5031f2733d6a4bfd862b16dc72059db2",
       "version_major": 2,
       "version_minor": 0
      },
      "text/plain": [
       "  0%|          | 0/1820 [00:00<?, ?it/s]"
      ]
     },
     "metadata": {},
     "output_type": "display_data"
    },
    {
     "name": "stderr",
     "output_type": "stream",
     "text": [
      "/tmp/ipykernel_30462/2225894489.py:31: FutureWarning: Using a non-tuple sequence for multidimensional indexing is deprecated; use `arr[tuple(seq)]` instead of `arr[seq]`. In the future this will be interpreted as an array index, `arr[np.array(seq)]`, which will result either in an error or a different result.\n",
      "  sub_proc[np.meshgrid(syn_idx, syn_idx)] = 0\n",
      "/tmp/ipykernel_30462/2225894489.py:39: FutureWarning: Using a non-tuple sequence for multidimensional indexing is deprecated; use `arr[tuple(seq)]` instead of `arr[seq]`. In the future this will be interpreted as an array index, `arr[np.array(seq)]`, which will result either in an error or a different result.\n",
      "  sub_proc[np.meshgrid(syn_idx, syn_idx)] = 0\n",
      "/tmp/ipykernel_30462/2225894489.py:35: FutureWarning: Using a non-tuple sequence for multidimensional indexing is deprecated; use `arr[tuple(seq)]` instead of `arr[seq]`. In the future this will be interpreted as an array index, `arr[np.array(seq)]`, which will result either in an error or a different result.\n",
      "  sub_proc[np.meshgrid(syn_idx, syn_idx)] = 0\n"
     ]
    }
   ],
   "source": [
    "x, y = np.triu_indices(2000, k=0)\n",
    "\n",
    "grid_no = 16\n",
    "thresh_no = 12\n",
    "corr_type = \"spearman\"\n",
    "grid_vals = np.empty((grid_no))\n",
    "dist_unique = C12_unique\n",
    "dist_raw = C12_dist_raw\n",
    "dist = C12_dist\n",
    "weights = C12_nona_scale_mat_all\n",
    "grid_width = dist_unique.size // grid_no\n",
    "for g in range(grid_no):\n",
    "    grid_vals[g] = dist_unique[grid_width//2 + grid_width*g]\n",
    "\n",
    "poss_choice = itertools.combinations(np.arange(grid_no), thresh_no)\n",
    "poss_choice = list(poss_choice)\n",
    "poss_choice = np.asarray(poss_choice)\n",
    "\n",
    "corrs = np.empty((poss_choice.shape[0]))\n",
    "\n",
    "for i in tnrange(poss_choice.shape[0]):\n",
    "    choice = poss_choice[i]\n",
    "    thresh = grid_vals[choice]\n",
    "    #sub_raw = np.empty((2000))\n",
    "    sub_proc = np.ones((2000,2000))\n",
    "    \n",
    "    for n in range(thresh_no+1):\n",
    "        if n == 0:\n",
    "            syn_idx = np.where(dist_raw < thresh[n])[0]\n",
    "            #sub_raw[syn_idx] = n\n",
    "            sub_proc[np.meshgrid(syn_idx, syn_idx)] = 0\n",
    "        elif n == thresh_no:\n",
    "            syn_idx = np.where(dist_raw >= thresh[n-1])[0]\n",
    "            #sub_raw[syn_idx] = n\n",
    "            sub_proc[np.meshgrid(syn_idx, syn_idx)] = 0\n",
    "        else:\n",
    "            syn_idx = np.where((dist_raw >= thresh[n-1]) & (dist_raw < thresh[n]))[0]\n",
    "            #sub_raw[syn_idx] = n\n",
    "            sub_proc[np.meshgrid(syn_idx, syn_idx)] = 0\n",
    "            \n",
    "    #for r in range(rep_no):\n",
    "    corr = WeightedCorr(x=pd.Series(dist[x,y]),\n",
    "                   y=pd.Series(sub_proc[x,y]),\n",
    "                   w=pd.Series(weights[0][x,y]))(method=corr_type)\n",
    "    corrs[i] = corr"
   ]
  },
  {
   "cell_type": "code",
   "execution_count": null,
   "id": "fbbe5023",
   "metadata": {},
   "outputs": [],
   "source": []
  },
  {
   "cell_type": "code",
   "execution_count": null,
   "id": "21990af4",
   "metadata": {},
   "outputs": [],
   "source": [
    "# C4 noNa\n",
    "# [276.52453461 493.82127046 655.87144452 733.61829079]\n",
    "\n",
    "# C4 Diff\n",
    "# [276.52453461 493.82127046 655.87144452 733.61829079]\n",
    "# 0.8052398081902775\n",
    "\n",
    "# C8 NoNa\n",
    "# [ 38.82286519 188.45162766 239.98441648 306.32355328 374.43015368\n",
    "  # 464.68369799 648.73394184 744.41561658]\n",
    "# 0.7139320669690151\n",
    "\n",
    "# C8 Diff\n",
    "# \n",
    "# "
   ]
  },
  {
   "cell_type": "code",
   "execution_count": 10,
   "id": "d4b7a351",
   "metadata": {},
   "outputs": [
    {
     "name": "stdout",
     "output_type": "stream",
     "text": [
      "0.5686416862043158\n"
     ]
    },
    {
     "data": {
      "image/png": "[encoded data removed]",
      "text/plain": [
       "<Figure size 432x288 with 1 Axes>"
      ]
     },
     "metadata": {
      "needs_background": "light"
     },
     "output_type": "display_data"
    }
   ],
   "source": [
    "plt.plot(corrs)\n",
    "print(np.max(corrs))"
   ]
  },
  {
   "cell_type": "code",
   "execution_count": 12,
   "id": "94dc8110",
   "metadata": {
    "scrolled": false
   },
   "outputs": [
    {
     "name": "stdout",
     "output_type": "stream",
     "text": [
      "[[ 35.43181455  66.8284628   85.96031766 176.38208163 206.29095176\n",
      "  255.43735371 308.21142371 364.87467551 434.69183171 574.74702929\n",
      "  681.63407081 753.6972767 ]\n",
      " [ 35.43181455  66.8284628  159.82622347 176.38208163 206.29095176\n",
      "  255.43735371 308.21142371 364.87467551 434.69183171 574.74702929\n",
      "  681.63407081 753.6972767 ]\n",
      " [ 35.43181455  66.8284628   85.96031766 106.26734859 206.29095176\n",
      "  255.43735371 308.21142371 364.87467551 434.69183171 574.74702929\n",
      "  681.63407081 753.6972767 ]\n",
      " [ 35.43181455 141.24296597 159.82622347 176.38208163 206.29095176\n",
      "  255.43735371 308.21142371 364.87467551 434.69183171 574.74702929\n",
      "  681.63407081 753.6972767 ]\n",
      " [ 35.43181455  66.8284628  106.26734859 176.38208163 206.29095176\n",
      "  255.43735371 308.21142371 364.87467551 434.69183171 574.74702929\n",
      "  681.63407081 753.6972767 ]\n",
      " [ 35.43181455  85.96031766 106.26734859 176.38208163 206.29095176\n",
      "  255.43735371 308.21142371 364.87467551 434.69183171 574.74702929\n",
      "  681.63407081 753.6972767 ]\n",
      " [ 35.43181455  66.8284628   85.96031766 106.26734859 176.38208163\n",
      "  255.43735371 308.21142371 364.87467551 434.69183171 574.74702929\n",
      "  681.63407081 753.6972767 ]\n",
      " [ 35.43181455  66.8284628  141.24296597 176.38208163 206.29095176\n",
      "  255.43735371 308.21142371 364.87467551 434.69183171 574.74702929\n",
      "  681.63407081 753.6972767 ]\n",
      " [ 35.43181455  85.96031766 159.82622347 176.38208163 206.29095176\n",
      "  255.43735371 308.21142371 364.87467551 434.69183171 574.74702929\n",
      "  681.63407081 753.6972767 ]\n",
      " [ 35.43181455  66.8284628   85.96031766 159.82622347 206.29095176\n",
      "  255.43735371 308.21142371 364.87467551 434.69183171 574.74702929\n",
      "  681.63407081 753.6972767 ]]\n"
     ]
    }
   ],
   "source": [
    "best_thresh = poss_choice[np.flip(np.argsort(corrs))[:10]]\n",
    "\n",
    "print(grid_vals[best_thresh])"
   ]
  },
  {
   "cell_type": "code",
   "execution_count": null,
   "id": "4e04c06c",
   "metadata": {},
   "outputs": [],
   "source": []
  }
 ],
 "metadata": {
  "kernelspec": {
   "display_name": "Python 3 (ipykernel)",
   "language": "python",
   "name": "python3"
  },
  "language_info": {
   "codemirror_mode": {
    "name": "ipython",
    "version": 3
   },
   "file_extension": ".py",
   "mimetype": "text/x-python",
   "name": "python",
   "nbconvert_exporter": "python",
   "pygments_lexer": "ipython3",
   "version": "3.8.8"
  }
 },
 "nbformat": 4,
 "nbformat_minor": 5
}
