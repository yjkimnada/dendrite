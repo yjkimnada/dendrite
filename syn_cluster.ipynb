{
 "cells": [
  {
   "cell_type": "code",
   "execution_count": 6,
   "metadata": {},
   "outputs": [],
   "source": [
    "import numpy as np\n",
    "from tqdm import tnrange\n",
    "import matplotlib.pyplot as plt\n",
    "import scipy.sparse\n",
    "import scipy.signal\n",
    "import torch\n",
    "import torch.nn.functional as F\n",
    "import scipy"
   ]
  },
  {
   "cell_type": "code",
   "execution_count": 7,
   "metadata": {},
   "outputs": [],
   "source": [
    "base_dir = \"/media/hdd01/sklee/\"\n",
    "experiment = \"rand\"\n",
    "cell_type = \"CA1\"\n",
    "E_neural_file = \"Espikes_neural.npz\"\n",
    "V_file = \"V_diff.npy\"\n",
    "eloc_file = \"Elocs_T10_Ne2000_gA0.6_tauA1_gN0.8_Ni200_gG0.7_gB1.2_Er1_Ir7.5_random_NR_rep651_stimseed1.npy\"\n",
    "#eloc_file = \"Elocs_T10_Ne2000_gA0.6_tauA1_gN0.8_Ni200_gG0.1_gB0.1_Er0.5_Ir7.4_random_NR_rep1000_stimseed1.npy\"\n",
    "\n",
    "E_neural = scipy.sparse.load_npz(base_dir+cell_type+\"_\"+experiment+\"/data/\"+E_neural_file)\n",
    "V = np.load(base_dir+cell_type+\"_\"+experiment+\"/data/\"+V_file)\n",
    "eloc = np.load(base_dir+cell_type+\"_\"+experiment+\"/data/\"+eloc_file)"
   ]
  },
  {
   "cell_type": "code",
   "execution_count": 5,
   "metadata": {},
   "outputs": [
    {
     "name": "stderr",
     "output_type": "stream",
     "text": [
      "<ipython-input-5-80181dc3f169>:8: TqdmDeprecationWarning: Please use `tqdm.notebook.trange` instead of `tqdm.tnrange`\n",
      "  for syn in tnrange(2000):\n"
     ]
    },
    {
     "data": {
      "application/vnd.jupyter.widget-view+json": {
       "model_id": "4375cbea7f2341b7845914b2d101c66c",
       "version_major": 2,
       "version_minor": 0
      },
      "text/plain": [
       "HBox(children=(HTML(value=''), FloatProgress(value=0.0, max=2000.0), HTML(value='')))"
      ]
     },
     "metadata": {},
     "output_type": "display_data"
    },
    {
     "name": "stdout",
     "output_type": "stream",
     "text": [
      "\n"
     ]
    },
    {
     "ename": "KeyboardInterrupt",
     "evalue": "",
     "output_type": "error",
     "traceback": [
      "\u001b[0;31m---------------------------------------------------------------------------\u001b[0m",
      "\u001b[0;31mKeyboardInterrupt\u001b[0m                         Traceback (most recent call last)",
      "\u001b[0;32m<ipython-input-5-80181dc3f169>\u001b[0m in \u001b[0;36m<module>\u001b[0;34m\u001b[0m\n\u001b[1;32m     22\u001b[0m \u001b[0;34m\u001b[0m\u001b[0m\n\u001b[1;32m     23\u001b[0m         \u001b[0mneural_conv_part\u001b[0m \u001b[0;34m=\u001b[0m \u001b[0mneural_conv\u001b[0m\u001b[0;34m[\u001b[0m\u001b[0mt_syn\u001b[0m \u001b[0;34m-\u001b[0m \u001b[0mS_wind\u001b[0m\u001b[0;34m:\u001b[0m \u001b[0mt_syn\u001b[0m \u001b[0;34m+\u001b[0m \u001b[0mS_wind\u001b[0m\u001b[0;34m]\u001b[0m\u001b[0;34m.\u001b[0m\u001b[0mtoarray\u001b[0m\u001b[0;34m(\u001b[0m\u001b[0;34m)\u001b[0m\u001b[0;34m\u001b[0m\u001b[0;34m\u001b[0m\u001b[0m\n\u001b[0;32m---> 24\u001b[0;31m         \u001b[0mS_part_contrib\u001b[0m \u001b[0;34m=\u001b[0m \u001b[0mnp\u001b[0m\u001b[0;34m.\u001b[0m\u001b[0msum\u001b[0m\u001b[0;34m(\u001b[0m\u001b[0mneural_conv_part\u001b[0m\u001b[0;34m,\u001b[0m \u001b[0;36m0\u001b[0m\u001b[0;34m)\u001b[0m \u001b[0;34m*\u001b[0m \u001b[0mV_weight\u001b[0m\u001b[0;34m\u001b[0m\u001b[0;34m\u001b[0m\u001b[0m\n\u001b[0m\u001b[1;32m     25\u001b[0m         \u001b[0mheat_map\u001b[0m\u001b[0;34m[\u001b[0m\u001b[0msyn\u001b[0m\u001b[0;34m,\u001b[0m \u001b[0msyn_except\u001b[0m\u001b[0;34m]\u001b[0m \u001b[0;34m+=\u001b[0m \u001b[0mS_part_contrib\u001b[0m\u001b[0;34m\u001b[0m\u001b[0;34m\u001b[0m\u001b[0m\n",
      "\u001b[0;32m<__array_function__ internals>\u001b[0m in \u001b[0;36msum\u001b[0;34m(*args, **kwargs)\u001b[0m\n",
      "\u001b[0;31mKeyboardInterrupt\u001b[0m: "
     ]
    }
   ],
   "source": [
    "heat_map = np.empty((2000,2000))\n",
    "\n",
    "S_wind = 30\n",
    "S_t = np.arange(-S_wind, S_wind)\n",
    "S_kern = np.exp(-S_t**2/500)\n",
    "V_wind = 75\n",
    "\n",
    "for syn in tnrange(2000):\n",
    "    syn_except = np.arange(2000)\n",
    "    syn_except = np.delete(syn_except, syn)\n",
    "    syn_idx = scipy.sparse.find(E_neural[:,syn])[0]\n",
    "    syn_neural = E_neural[:,syn].toarray().flatten()\n",
    "    \n",
    "    syn_conv = scipy.signal.convolve(syn_neural, S_kern, mode=\"same\")\n",
    "    neural_conv = E_neural[:,syn_except].multiply(syn_conv.reshape(-1,1))\n",
    "    neural_conv = scipy.sparse.csr_matrix(neural_conv)\n",
    "    \n",
    "    for s in range(syn_idx.shape[0]):\n",
    "        t_syn = syn_idx[s]\n",
    "        V_part = V[t_syn : t_syn + V_wind]\n",
    "        V_weight = np.sum(np.abs(V_part))\n",
    "        \n",
    "        neural_conv_part = neural_conv[t_syn - S_wind: t_syn + S_wind].toarray()\n",
    "        S_part_contrib = np.sum(neural_conv_part, 0) * V_weight\n",
    "        heat_map[syn, syn_except] += S_part_contrib"
   ]
  },
  {
   "cell_type": "code",
   "execution_count": null,
   "metadata": {},
   "outputs": [],
   "source": []
  },
  {
   "cell_type": "code",
   "execution_count": 8,
   "metadata": {},
   "outputs": [
    {
     "name": "stderr",
     "output_type": "stream",
     "text": [
      "<ipython-input-8-f0f44580f73c>:17: TqdmDeprecationWarning: Please use `tqdm.notebook.trange` instead of `tqdm.tnrange`\n",
      "  for s in tnrange(syn_idx.shape[0]):\n"
     ]
    },
    {
     "data": {
      "application/vnd.jupyter.widget-view+json": {
       "model_id": "6707c49bfebf4c869e22f75c818c521d",
       "version_major": 2,
       "version_minor": 0
      },
      "text/plain": [
       "HBox(children=(HTML(value=''), FloatProgress(value=0.0, max=12297.0), HTML(value='')))"
      ]
     },
     "metadata": {},
     "output_type": "display_data"
    },
    {
     "name": "stdout",
     "output_type": "stream",
     "text": [
      "\n"
     ]
    }
   ],
   "source": [
    "syn_no = 400\n",
    "syn_except = np.arange(2000)\n",
    "syn_except = np.delete(syn_except, syn_no)\n",
    "syn_idx = scipy.sparse.find(E_neural[:,syn_no])[0]\n",
    "syn_neural = E_neural[:,syn_no].toarray().flatten()\n",
    "\n",
    "S_wind = 30\n",
    "S_t = np.arange(-S_wind, S_wind)\n",
    "S_kern = np.exp(-S_t**2/500)\n",
    "syn_conv = scipy.signal.convolve(syn_neural, S_kern, mode=\"same\")\n",
    "neural_conv = E_neural[:,syn_except].multiply(syn_conv.reshape(-1,1))\n",
    "neural_conv = scipy.sparse.csr_matrix(neural_conv)\n",
    "\n",
    "hist = np.zeros((1999))\n",
    "\n",
    "V_wind = 75\n",
    "for s in tnrange(syn_idx.shape[0]):\n",
    "    t_syn = syn_idx[s]\n",
    "    V_part = V[t_syn : t_syn + V_wind]\n",
    "    V_weight = np.sum(np.abs(V_part))\n",
    "    \n",
    "    neural_conv_part = neural_conv[t_syn - S_wind: t_syn + S_wind].toarray()\n",
    "    S_part_contrib = np.sum(neural_conv_part, 0) * V_weight\n",
    "    hist += S_part_contrib\n",
    "\n"
   ]
  },
  {
   "cell_type": "code",
   "execution_count": 9,
   "metadata": {},
   "outputs": [
    {
     "data": {
      "text/plain": [
       "<matplotlib.collections.PathCollection at 0x7fd2762aff40>"
      ]
     },
     "execution_count": 9,
     "metadata": {},
     "output_type": "execute_result"
    },
    {
     "data": {
      "image/png": "[encoded data removed]",
      "text/plain": [
       "<Figure size 1080x360 with 1 Axes>"
      ]
     },
     "metadata": {
      "needs_background": "light"
     },
     "output_type": "display_data"
    }
   ],
   "source": [
    "plt.figure(figsize = (15,5))\n",
    "plt.scatter(np.arange(1999), hist, s=1)"
   ]
  },
  {
   "cell_type": "code",
   "execution_count": null,
   "metadata": {},
   "outputs": [],
   "source": []
  },
  {
   "cell_type": "code",
   "execution_count": null,
   "metadata": {},
   "outputs": [],
   "source": []
  }
 ],
 "metadata": {
  "kernelspec": {
   "display_name": "Python 3",
   "language": "python",
   "name": "python3"
  },
  "language_info": {
   "codemirror_mode": {
    "name": "ipython",
    "version": 3
   },
   "file_extension": ".py",
   "mimetype": "text/x-python",
   "name": "python",
   "nbconvert_exporter": "python",
   "pygments_lexer": "ipython3",
   "version": "3.8.5"
  }
 },
 "nbformat": 4,
 "nbformat_minor": 4
}
