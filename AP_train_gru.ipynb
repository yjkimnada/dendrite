{
 "cells": [
  {
   "cell_type": "code",
   "execution_count": 1,
   "id": "e7faa469",
   "metadata": {},
   "outputs": [],
   "source": [
    "import numpy as np\n",
    "import torch \n",
    "import torch.nn as nn\n",
    "from tqdm import tnrange\n",
    "import torch.optim as optim\n",
    "import torch.nn.functional as F\n",
    "from sklearn import metrics\n",
    "import matplotlib.pyplot as plt\n",
    "import time"
   ]
  },
  {
   "cell_type": "code",
   "execution_count": 2,
   "id": "8753064b",
   "metadata": {},
   "outputs": [],
   "source": [
    "class AP_GRU(nn.Module):\n",
    "    def __init__(self, H_no, device):\n",
    "        super().__init__()\n",
    "        \n",
    "        self.H_no = H_no\n",
    "        self.device = device\n",
    "        \n",
    "        self.rnn = nn.GRU(2, H_no, batch_first=True)\n",
    "        self.linear = nn.Linear(H_no, 1)\n",
    "        \n",
    "    def forward(self, V, D):\n",
    "        #V, D is shape (batch, 50000)\n",
    "        \n",
    "        VD = torch.zeros(V.shape[0], V.shape[1], 2).to(self.device)\n",
    "        VD[:,:,0] = VD[:,:,0] + V\n",
    "        VD[:,:,1] = VD[:,:,1] + D\n",
    "        \n",
    "        rnn_out, _ = self.rnn(VD) #(batch,50000,H)\n",
    "        rnn_out = rnn_out.reshape(-1,self.H_no)\n",
    "        lin_out = self.linear(rnn_out) #(batch*50000,1)\n",
    "        lin_out = lin_out.reshape(V.shape[0], V.shape[1])\n",
    "        \n",
    "        P = torch.sigmoid(lin_out)\n",
    "        S = torch.bernoulli(P)\n",
    "        return S, P\n",
    "\n"
   ]
  },
  {
   "cell_type": "code",
   "execution_count": 3,
   "id": "6e8d732d",
   "metadata": {},
   "outputs": [],
   "source": [
    "batch_size = 5\n",
    "batch_length = 50000\n",
    "H_no = 20\n",
    "device = torch.device(\"cuda\")\n",
    "\n",
    "epoch_no = 200\n",
    "iter_no = epoch_no * 980 // batch_size\n",
    "\n",
    "#V = np.load(\"/media/hdd01/sklee/CA1_clust4-60/data/vdata_T10_Ne2000_gA0.6_tauA1_gN0.8_Ni200_gG0.1_gB0.1_Er0.5_Ir7.4_random_NR_rep1000_stimseed1.npy\").reshape(-1,50001)[:,:50000].flatten()\n",
    "V = np.load(\"/media/hdd01/sklee/CA1_clust4-60_AP/comb_pred/V_comb_pred.npy\").flatten()\n",
    "\n",
    "#D = np.zeros((V.shape[0]))\n",
    "#D[:-1] = np.diff(V)\n",
    "#D = V.copy()\n",
    "D_train = np.load(\"/media/hdd01/sklee/CA1_clust4-60/hand/gru_s10_h20_extra_output.npz\")[\"test\"]\n",
    "D_test = np.load(\"/media/hdd01/sklee/CA1_clust4-60/hand/gru_s10_h20_output.npz\")[\"test\"]\n",
    "D_train = torch.from_numpy(D_train).float()\n",
    "D_test = torch.from_numpy(D_test).float().to(device)\n",
    "\n",
    "#D = D.reshape(-1,batch_length)\n",
    "V = V.reshape(-1,batch_length)\n",
    "S = np.load(\"/media/hdd01/sklee/CA1_clust4-60_AP/data/spk.npy\").reshape(-1,batch_length)\n",
    "\n",
    "V = torch.from_numpy(V)\n",
    "#D = torch.from_numpy(D)\n",
    "S = torch.from_numpy(S)\n"
   ]
  },
  {
   "cell_type": "code",
   "execution_count": 4,
   "id": "242f5d1a",
   "metadata": {},
   "outputs": [],
   "source": [
    "V_train = V[:980].float()\n",
    "V_test = V[980:].float().to(device)\n",
    "#D_train = D[:980].float()\n",
    "#D_test = D[980:].float().to(device)\n",
    "S_train = S[:980].float()\n",
    "S_test = S[980:].float() .to(device)\n",
    "\n",
    "train_idx = np.empty((epoch_no, 980//batch_size))\n",
    "for i in range(epoch_no):\n",
    "    part_idx = np.arange(0,980,batch_size)\n",
    "    np.random.shuffle(part_idx)\n",
    "    train_idx[i] = part_idx\n",
    "train_idx = train_idx.flatten()\n",
    "train_idx = torch.from_numpy(train_idx)\n"
   ]
  },
  {
   "cell_type": "code",
   "execution_count": 5,
   "id": "784b45c2",
   "metadata": {},
   "outputs": [
    {
     "name": "stdout",
     "output_type": "stream",
     "text": [
      "1461\n"
     ]
    }
   ],
   "source": [
    "model = AP_GRU(H_no, device)\n",
    "optimizer = torch.optim.Adam(model.parameters(), lr = 0.005)\n",
    "\n",
    "model.to(device).float()\n",
    "print(sum(p.numel() for p in model.parameters() if p.requires_grad))\n",
    "\n",
    "bce_criterion = nn.BCELoss(reduction=\"mean\")"
   ]
  },
  {
   "cell_type": "code",
   "execution_count": null,
   "id": "84e29a0c",
   "metadata": {
    "scrolled": false
   },
   "outputs": [
    {
     "name": "stderr",
     "output_type": "stream",
     "text": [
      "<ipython-input-6-321b4365c8b7>:5: TqdmDeprecationWarning: Please use `tqdm.notebook.trange` instead of `tqdm.tnrange`\n",
      "  for i in tnrange(iter_no):\n"
     ]
    },
    {
     "data": {
      "application/vnd.jupyter.widget-view+json": {
       "model_id": "4513a6b164b44bba8e6fcdfd0f06caa4",
       "version_major": 2,
       "version_minor": 0
      },
      "text/plain": [
       "  0%|          | 0/39200 [00:00<?, ?it/s]"
      ]
     },
     "metadata": {},
     "output_type": "display_data"
    },
    {
     "name": "stdout",
     "output_type": "stream",
     "text": [
      "0 0.6340872645378113 0.37604784965515137\n",
      "49 0.009508124552667141 0.37241673469543457\n",
      "99 0.005726509261876345 0.5062687397003174\n",
      "149 0.004959480371326208 0.425339937210083\n",
      "199 0.004629230592399836 0.478137731552124\n",
      "249 0.004466642159968615 0.37035679817199707\n",
      "299 0.0043790871277451515 0.37130165100097656\n",
      "349 0.004329805728048086 0.37137770652770996\n",
      "399 0.0043032849207520485 0.37166810035705566\n",
      "449 0.004287321120500565 0.3696575164794922\n",
      "499 0.004276724997907877 0.370006799697876\n",
      "549 0.004267666023224592 0.37082958221435547\n",
      "599 0.004252763465046883 0.36997246742248535\n",
      "649 0.00420819828286767 0.37123799324035645\n",
      "699 0.00410723639652133 0.36964869499206543\n",
      "749 0.003958052955567837 0.371173620223999\n",
      "799 0.0036759490612894297 0.374314546585083\n",
      "849 0.003397780004888773 0.3728632926940918\n",
      "899 0.003327199025079608 0.37188291549682617\n",
      "949 0.0032756065484136343 0.37299299240112305\n",
      "999 0.0032370928674936295 0.3731253147125244\n",
      "1049 0.003210380207747221 0.36943626403808594\n",
      "1099 0.0031808922067284584 0.36995697021484375\n",
      "1149 0.003159022657200694 0.3708217144012451\n",
      "1199 0.0031428358051925898 0.37039709091186523\n",
      "1249 0.0031268643215298653 0.3719298839569092\n",
      "1299 0.003113885410130024 0.3699305057525635\n",
      "1349 0.003106961026787758 0.3700540065765381\n",
      "1399 0.0030920887365937233 0.3704257011413574\n",
      "1449 0.003085135715082288 0.37159276008605957\n",
      "1499 0.0030760893132537603 0.3709890842437744\n",
      "1549 0.003069872036576271 0.3699612617492676\n",
      "1599 0.003064439631998539 0.3722054958343506\n",
      "1649 0.003056440968066454 0.3990824222564697\n",
      "1699 0.003053442109376192 0.37229347229003906\n",
      "1749 0.003044392680749297 0.37281322479248047\n",
      "1799 0.0030464513693004847 0.400285005569458\n",
      "1849 0.003042672062292695 0.40035533905029297\n",
      "1899 0.003026610240340233 0.4018731117248535\n",
      "1949 0.003031780943274498 0.3734304904937744\n",
      "1999 0.003013386856764555 0.39965081214904785\n",
      "2049 0.003016534959897399 0.37454795837402344\n",
      "2099 0.003013873938471079 0.38346314430236816\n",
      "2149 0.0029960188549011946 0.4062981605529785\n",
      "2199 0.00298954825848341 0.3874673843383789\n",
      "2249 0.002982824109494686 0.38660264015197754\n",
      "2299 0.002982994308695197 0.39340972900390625\n",
      "2349 0.0029766832012683153 0.393657922744751\n",
      "2399 0.0029693194665014744 0.38485217094421387\n",
      "2449 0.002965864259749651 0.3927154541015625\n",
      "2499 0.002963258186355233 0.3889615535736084\n",
      "2549 0.0029643659945577383 0.37250614166259766\n",
      "2599 0.002956563141196966 0.3733844757080078\n",
      "2649 0.0029524562414735556 0.37558746337890625\n",
      "2699 0.002950103487819433 0.38656139373779297\n",
      "2749 0.0029505647253245115 0.3768179416656494\n",
      "2799 0.0029458655044436455 0.3708312511444092\n",
      "2849 0.0029428270645439625 0.37630653381347656\n",
      "2899 0.0029415711760520935 0.3712623119354248\n",
      "2949 0.002940978854894638 0.3725855350494385\n",
      "2999 0.0029357827734202147 0.36975598335266113\n",
      "3049 0.0029425276443362236 0.36678338050842285\n",
      "3099 0.0029347955714911222 0.3720123767852783\n",
      "3149 0.0029343469068408012 0.3755836486816406\n"
     ]
    }
   ],
   "source": [
    "score_list = []\n",
    "\n",
    "part_time_idx = torch.arange(12000,32000)\n",
    "\n",
    "for i in tnrange(iter_no):\n",
    "    s = time.time()\n",
    "    model.train()\n",
    "    optimizer.zero_grad()\n",
    "    \n",
    "    batch_idx_start = train_idx[i]\n",
    "    batch_idx = torch.arange(batch_idx_start, batch_idx_start+5).long()\n",
    "    batch_S = S_train[batch_idx].to(device)[:,part_time_idx]\n",
    "    batch_V = V_train[batch_idx].to(device)[:,part_time_idx]\n",
    "    batch_D = D_train[batch_idx].to(device)[:,part_time_idx]\n",
    "    \n",
    "    S_out, batch_P = model(batch_V, batch_D)\n",
    "    loss = bce_criterion(batch_P, batch_S)\n",
    "    loss.backward()\n",
    "    optimizer.step()\n",
    "    \n",
    "    step_time = time.time() - s\n",
    "    \n",
    "    if (i%50 == 49) or (i == 0):\n",
    "        model.eval()\n",
    "        test_S_out, P_test = model(V_test[:,part_time_idx], D_test[:,part_time_idx])\n",
    "        test_loss = bce_criterion(P_test, S_test[:,part_time_idx]).item()\n",
    "        \n",
    "        score_list.append(test_loss)\n",
    "        print(i, test_loss, step_time)"
   ]
  },
  {
   "cell_type": "code",
   "execution_count": null,
   "id": "f591ea9b",
   "metadata": {},
   "outputs": [],
   "source": []
  },
  {
   "cell_type": "code",
   "execution_count": 7,
   "id": "e006b31b",
   "metadata": {},
   "outputs": [],
   "source": [
    "# 2649 0.004261615686118603 (true_na with refractory)\n",
    "# 31249 0.0029351413249969482  (true_na without refractory)\n",
    "# 35499 0.0030055860988795757  (comb_pred without refractory)\n",
    "# 29749 0.003061493393033743  (whole_pred without refractory)\n",
    "\n",
    "\n",
    "# AP True\n",
    "# 0.00019483866344671696 (V, D)\n",
    "# 0.0006420775316655636 (V only)\n",
    "\n",
    "# Na True\n",
    "# 0.0012602820061147213 (V, D)\n",
    "# 0.0018874892266467214 (V only)\n",
    "\n",
    "# No Na True\n",
    "# 0.0013189633609727025 (V, D)\n",
    "# 0.0018882722361013293 (V only)"
   ]
  },
  {
   "cell_type": "code",
   "execution_count": 7,
   "id": "fad67e83",
   "metadata": {},
   "outputs": [
    {
     "data": {
      "text/plain": [
       "<matplotlib.legend.Legend at 0x7f6f0d2f7700>"
      ]
     },
     "execution_count": 7,
     "metadata": {},
     "output_type": "execute_result"
    },
    {
     "data": {
      "image/png": "[encoded data removed]",
      "text/plain": [
       "<Figure size 1080x360 with 1 Axes>"
      ]
     },
     "metadata": {
      "needs_background": "light"
     },
     "output_type": "display_data"
    }
   ],
   "source": [
    "plt.figure(figsize = (15,5))\n",
    "plt.plot(np.arange(0,1000,0.2), P_test[0][10000:15000].cpu().detach().numpy()[:], label=\"Probability of Spiking\")\n",
    "plt.scatter(np.arange(0,1000,0.2), S_test[0][12000:32000][10000:15000].cpu().detach().numpy()-0.8, s=100, color=\"black\", marker=\"|\", label=\"True\")\n",
    "plt.scatter(np.arange(0,1000,0.2), test_S_out[0][10000:15000].cpu().detach().numpy()*0.9-0.8, s=100, color=\"red\", marker=\"|\", label=\"Predicted (bernoulli sample)\")\n",
    "plt.ylim(0,0.25)\n",
    "plt.xlabel(\"Time (ms)\")\n",
    "plt.ylabel(\"Probability\")\n",
    "plt.legend()"
   ]
  },
  {
   "cell_type": "code",
   "execution_count": null,
   "id": "ad66af8b",
   "metadata": {},
   "outputs": [],
   "source": []
  }
 ],
 "metadata": {
  "kernelspec": {
   "display_name": "Python 3",
   "language": "python",
   "name": "python3"
  },
  "language_info": {
   "codemirror_mode": {
    "name": "ipython",
    "version": 3
   },
   "file_extension": ".py",
   "mimetype": "text/x-python",
   "name": "python",
   "nbconvert_exporter": "python",
   "pygments_lexer": "ipython3",
   "version": "3.8.8"
  }
 },
 "nbformat": 4,
 "nbformat_minor": 5
}
