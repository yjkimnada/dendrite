{
 "cells": [
  {
   "cell_type": "code",
   "execution_count": 1,
   "metadata": {},
   "outputs": [],
   "source": [
    "import numpy as np\n",
    "import torch \n",
    "import torch.nn as nn\n",
    "from tqdm import tnrange\n",
    "import torch.optim as optim\n",
    "import torch.nn.functional as F\n",
    "from sklearn import metrics\n",
    "import matplotlib.pyplot as plt\n",
    "from sklearn.metrics import explained_variance_score\n",
    "import scipy\n",
    "import torch\n",
    "from greedy_models.mono_flat_glm import Mono_Flat_GLM"
   ]
  },
  {
   "cell_type": "code",
   "execution_count": 2,
   "metadata": {},
   "outputs": [],
   "source": [
    "base_dir = \"/media/hdd01/sklee/\"\n",
    "experiment = \"clust4-60\"\n",
    "cell_type = \"CA1\"\n",
    "V_file = \"vdata_T10_Ne2000_gA0.6_tauA1_gN0.8_Ni200_gG0.1_gB0.1_Er0.5_Ir7.4_random_NR_rep1000_stimseed1.npy\"\n",
    "E_neural_file = \"Espikes_neural.npz\"\n",
    "I_neural_file = \"Ispikes_neural.npz\"\n",
    "\n",
    "E_neural = scipy.sparse.load_npz(base_dir+cell_type+\"_\"+experiment+\"/data/\"+E_neural_file)\n",
    "I_neural = scipy.sparse.load_npz(base_dir+cell_type+\"_\"+experiment+\"/data/\"+I_neural_file)\n",
    "V = np.load(base_dir+cell_type+\"_\"+experiment+\"/data/\"+V_file)[:,:50000].flatten()\n",
    "V = torch.from_numpy(V)"
   ]
  },
  {
   "cell_type": "code",
   "execution_count": 3,
   "metadata": {},
   "outputs": [
    {
     "name": "stdout",
     "output_type": "stream",
     "text": [
      "60\n"
     ]
    }
   ],
   "source": [
    "T_train = 998 * 1000 * 50\n",
    "T_test = 1 * 1000 * 50\n",
    "T_no = 500\n",
    "E_no = E_neural.shape[1]\n",
    "I_no = I_neural.shape[1]\n",
    "device = torch.device(\"cuda\")\n",
    "sub_no = 10\n",
    "\n",
    "batch_size = 100000\n",
    "iter_no = 9990*3\n",
    "epoch_no = iter_no*batch_size//T_train \n",
    "print(epoch_no)"
   ]
  },
  {
   "cell_type": "code",
   "execution_count": 4,
   "metadata": {},
   "outputs": [],
   "source": [
    "V_train = V[:T_train].to(device)\n",
    "V_test = V[T_train:T_train + T_test].to(device)\n",
    "\n",
    "test_E_neural = E_neural[T_train:T_train+T_test].toarray()\n",
    "test_I_neural = I_neural[T_train:T_train+T_test].toarray()\n",
    "test_E_neural = torch.from_numpy(test_E_neural).float().to(device)\n",
    "test_I_neural = torch.from_numpy(test_I_neural).float().to(device)\n",
    "\n",
    "train_E_neural = E_neural[:T_train]\n",
    "train_I_neural = I_neural[:T_train]"
   ]
  },
  {
   "cell_type": "code",
   "execution_count": 5,
   "metadata": {},
   "outputs": [],
   "source": [
    "batch_no = (T_train - batch_size) * epoch_no\n",
    "train_idx = np.empty((epoch_no, T_train//batch_size))\n",
    "for i in range(epoch_no):\n",
    "    part_idx = np.arange(0, T_train, batch_size)\n",
    "    np.random.shuffle(part_idx)\n",
    "    train_idx[i] = part_idx\n",
    "train_idx = train_idx.flatten()\n",
    "train_idx = torch.from_numpy(train_idx)"
   ]
  },
  {
   "cell_type": "code",
   "execution_count": 6,
   "metadata": {},
   "outputs": [
    {
     "name": "stdout",
     "output_type": "stream",
     "text": [
      "32023\n"
     ]
    }
   ],
   "source": [
    "model = Mono_Flat_GLM(sub_no, E_no, I_no, T_no, device)\n",
    "optimizer = torch.optim.Adam(model.parameters(), lr = 0.001)\n",
    "scheduler = torch.optim.lr_scheduler.StepLR(optimizer, step_size=50, gamma=0.98)\n",
    "\n",
    "model.to(device).float()\n",
    "print(sum(p.numel() for p in model.parameters() if p.requires_grad))"
   ]
  },
  {
   "cell_type": "code",
   "execution_count": 7,
   "metadata": {
    "scrolled": false
   },
   "outputs": [
    {
     "name": "stderr",
     "output_type": "stream",
     "text": [
      "<ipython-input-7-a0762f1ffd06>:4: TqdmDeprecationWarning: Please use `tqdm.notebook.trange` instead of `tqdm.tnrange`\n",
      "  for i in tnrange(iter_no):\n"
     ]
    },
    {
     "data": {
      "application/vnd.jupyter.widget-view+json": {
       "model_id": "c25b1dd7a65a403fbbdd5a9344d620bb",
       "version_major": 2,
       "version_minor": 0
      },
      "text/plain": [
       "HBox(children=(HTML(value=''), FloatProgress(value=0.0, max=29970.0), HTML(value='')))"
      ]
     },
     "metadata": {},
     "output_type": "display_data"
    },
    {
     "name": "stdout",
     "output_type": "stream",
     "text": [
      "0 0.06816732187757335\n",
      "100 0.47386196991802676\n",
      "200 0.34525351248514957\n",
      "300 0.26463304013939126\n",
      "400 0.17918728114602422\n",
      "500 0.3258423993738183\n",
      "600 0.2876245882119025\n",
      "700 0.5393771955421076\n",
      "800 0.5507324759760731\n",
      "900 0.6236056076803105\n",
      "1000 0.6243636253441576\n",
      "1100 0.6947938920962343\n",
      "1200 0.7004058403413168\n",
      "1300 0.6384404964393495\n",
      "1400 0.6520196934716496\n",
      "1500 0.7683423350157537\n",
      "1600 0.8232143895217239\n",
      "1700 0.842353927621434\n",
      "1800 0.8737615966437564\n",
      "1900 0.8893507785877557\n",
      "2000 0.9256908162139028\n",
      "2100 0.9352827286130193\n",
      "2200 0.9431068989422183\n",
      "2300 0.9476474615087845\n",
      "2400 0.9432026166670492\n",
      "2500 0.9439393643569163\n",
      "2600 0.9479156598503047\n",
      "2700 0.9484858423584771\n",
      "2800 0.9509021188369151\n",
      "2900 0.9514463074963119\n",
      "3000 0.950732234283787\n",
      "3100 0.952291738251638\n",
      "3200 0.9541294891269093\n",
      "3300 0.9535570480281252\n",
      "3400 0.9549361362940645\n",
      "3500 0.9550207525326542\n",
      "3600 0.9558475133093521\n",
      "3700 0.9579070054665042\n",
      "3800 0.9581880992974748\n",
      "3900 0.9584176395425561\n",
      "4000 0.9600041609031053\n",
      "4100 0.9603242516603699\n",
      "4200 0.9599499128038997\n",
      "4300 0.9611086333504623\n",
      "4400 0.9600722530127631\n",
      "4500 0.9622753799580972\n",
      "4600 0.9610884241108323\n",
      "4700 0.9606490973701813\n",
      "4800 0.9601576798642886\n",
      "4900 0.9621151012635125\n",
      "5000 0.9624469460994096\n",
      "5100 0.9600752094418592\n",
      "5200 0.9625772530484226\n",
      "5300 0.9627915278545008\n",
      "5400 0.9629072315177802\n",
      "5500 0.9619871096852289\n",
      "5600 0.9618888408121551\n",
      "5700 0.9621186865425267\n",
      "5800 0.9621014783201414\n",
      "5900 0.9629064546519174\n",
      "6000 0.9615820885870942\n",
      "6100 0.9630947539061756\n",
      "6200 0.9618663900230229\n",
      "6300 0.9622136251931547\n",
      "6400 0.9603579260330748\n",
      "6500 0.9614533096896306\n",
      "6600 0.9626253683445158\n",
      "6700 0.96189787795587\n",
      "6800 0.961477150594689\n",
      "6900 0.9616995553788793\n",
      "7000 0.9614788133641805\n",
      "7100 0.9622809546122597\n",
      "7200 0.961494362701244\n",
      "7300 0.9622441356082622\n",
      "7400 0.9603246733528059\n",
      "7500 0.9616179918656234\n",
      "7600 0.9625248899706109\n",
      "7700 0.9626054435218268\n",
      "7800 0.9611470929257888\n",
      "7900 0.9630635555677994\n",
      "8000 0.9612158284621752\n",
      "8100 0.9623521730085322\n",
      "8200 0.9623574396516243\n",
      "8300 0.9617368100675906\n",
      "8400 0.9616796043922001\n",
      "8500 0.9626206627323308\n",
      "8600 0.9620591138420385\n",
      "8700 0.9610274983986791\n",
      "8800 0.9617118227924286\n",
      "8900 0.9609997984188331\n",
      "9000 0.962611889622593\n",
      "9100 0.9624377614356613\n",
      "9200 0.9610758463991343\n",
      "9300 0.9620443757276533\n",
      "9400 0.9621930844783174\n",
      "9500 0.9608382401552797\n",
      "9600 0.9597587976323684\n",
      "9700 0.9620302815277649\n",
      "9800 0.963087673450356\n",
      "9900 0.9607611630027115\n",
      "10000 0.960861538988391\n",
      "10100 0.9626713452351452\n",
      "10200 0.9619210820227971\n",
      "10300 0.9611595710000105\n",
      "10400 0.959539457593726\n",
      "10500 0.9597854218705903\n",
      "10600 0.9606738174902979\n",
      "10700 0.9601778724539818\n",
      "10800 0.9603742094450657\n",
      "10900 0.9616239940157338\n",
      "11000 0.961326961771789\n",
      "11100 0.9598593034354901\n",
      "11200 0.9604800511528558\n",
      "11300 0.9610710924289875\n",
      "11400 0.9620723190392341\n",
      "11500 0.9611619275830874\n",
      "11600 0.9623811848283976\n",
      "11700 0.9612837670784715\n",
      "11800 0.9621898816992343\n",
      "11900 0.9608819891476555\n",
      "12000 0.9600370816070518\n",
      "12100 0.9603649204986824\n",
      "12200 0.9615703557531533\n",
      "12300 0.9616715035229819\n",
      "12400 0.9608961972185205\n",
      "12500 0.9609383172664332\n",
      "12600 0.9609296512033699\n",
      "12700 0.9612524597199457\n",
      "12800 0.9609052438593311\n",
      "12900 0.9621707553079989\n",
      "13000 0.9608791420305574\n",
      "13100 0.9599321431186262\n",
      "13200 0.9595441617816606\n",
      "13300 0.9609967673797175\n",
      "13400 0.9601514635747224\n",
      "13500 0.9616064972358676\n",
      "13600 0.9612495207952313\n",
      "13700 0.9606626569353734\n",
      "13800 0.9610810512433278\n",
      "13900 0.9603480298809816\n",
      "14000 0.96064588849723\n",
      "14100 0.9607156939151498\n",
      "14200 0.9604588353145813\n",
      "14300 0.9608531710428219\n",
      "14400 0.9590665084490937\n",
      "14500 0.9592464424955343\n",
      "14600 0.9593573692719155\n",
      "14700 0.9590913192785753\n",
      "14800 0.9592360816855756\n",
      "14900 0.9595705112894464\n",
      "15000 0.9599152130710884\n",
      "15100 0.958627040845592\n",
      "15200 0.9586107166728727\n",
      "15300 0.9586799607032896\n",
      "15400 0.9594627154681374\n",
      "15500 0.9595450443943404\n",
      "15600 0.9588193343362996\n",
      "15700 0.9587438094871412\n",
      "15800 0.959119349167777\n",
      "15900 0.95895711171276\n",
      "16000 0.9596143323727901\n",
      "16100 0.9595423917210959\n",
      "16200 0.9595294281835521\n",
      "16300 0.958552593835369\n",
      "16400 0.9587196886969357\n",
      "16500 0.9592712427718939\n",
      "16600 0.9592875211380372\n",
      "16700 0.9592327833329795\n",
      "16800 0.9592586709675524\n",
      "16900 0.9593192281530625\n",
      "17000 0.9593180058498669\n",
      "17100 0.9594192440545861\n",
      "17200 0.9596565408165085\n",
      "17300 0.9593179960698796\n",
      "17400 0.9593335600147989\n",
      "17500 0.9593993260989199\n",
      "17600 0.959705018836142\n",
      "17700 0.9591306613862509\n",
      "17800 0.9593992702856491\n",
      "17900 0.9592179735670625\n",
      "18000 0.95939858034133\n",
      "18100 0.9592001737627539\n",
      "18200 0.9593150521816147\n",
      "18300 0.9593443177044927\n",
      "18400 0.9592071843546093\n",
      "18500 0.9592454562749521\n",
      "18600 0.9593392941134875\n",
      "18700 0.9593474702799373\n",
      "18800 0.9592268802240916\n",
      "18900 0.9592137941587141\n",
      "19000 0.9592158739541897\n",
      "19100 0.9592310049361604\n",
      "19200 0.9591979298269643\n",
      "19300 0.9592479483615745\n",
      "19400 0.9593205291798002\n",
      "19500 0.9592921796273268\n",
      "19600 0.9593129401276794\n",
      "19700 0.9592231112818401\n",
      "19800 0.9592253452730922\n",
      "19900 0.9592375304029345\n",
      "20000 0.9593116287603194\n",
      "20100 0.9593209879721627\n",
      "20200 0.9592351717911416\n",
      "20300 0.9592350337823672\n",
      "20400 0.9593017896088866\n",
      "20500 0.9592986750576059\n",
      "20600 0.9593003327926968\n",
      "20700 0.9593103622681978\n",
      "20800 0.9593054191161954\n",
      "20900 0.9592989287859351\n",
      "21000 0.9593164557997108\n",
      "21100 0.9586963878771042\n",
      "21200 0.9592272974584996\n",
      "21300 0.9586898207115281\n",
      "21400 0.9587040619049593\n",
      "21500 0.9592409313859851\n",
      "21600 0.9592554381739979\n",
      "21700 0.9592496688060528\n",
      "21800 0.9587037061618622\n",
      "21900 0.9586883401740074\n",
      "22000 0.9586920872595665\n",
      "22100 0.9586964900186026\n",
      "22200 0.9586888178990574\n",
      "22300 0.9587721002890047\n",
      "22400 0.958698257315768\n",
      "22500 0.9586940263841207\n",
      "22600 0.9586925932507259\n",
      "22700 0.9587040076266318\n",
      "22800 0.9587802703463035\n",
      "22900 0.9586977764984819\n",
      "23000 0.9586909781118945\n",
      "23100 0.9586933538977994\n",
      "23200 0.9587789040106475\n",
      "23300 0.9587779229545721\n",
      "23400 0.9587783260236727\n",
      "23500 0.9586937957012266\n",
      "23600 0.9586970787644848\n",
      "23700 0.9587818780998275\n",
      "23800 0.9586972220119634\n",
      "23900 0.9587017897877081\n",
      "24000 0.9586961343169648\n",
      "24100 0.9587760831603983\n",
      "24200 0.958778033388984\n",
      "24300 0.9587802113908033\n",
      "24400 0.9587798521612139\n",
      "24500 0.9587756995367376\n",
      "24600 0.9586953514764083\n",
      "24700 0.9586998098026999\n",
      "24800 0.958703385065296\n",
      "24900 0.9587789678031469\n",
      "25000 0.9586957335329083\n",
      "25100 0.9586978329213989\n",
      "25200 0.958779391523513\n",
      "25300 0.9587792750203544\n",
      "25400 0.958778234930066\n",
      "25500 0.9587778315861265\n",
      "25600 0.9587793570027342\n",
      "25700 0.9587781778763541\n",
      "25800 0.958779972119512\n",
      "25900 0.958778176577284\n",
      "26000 0.9587757713715521\n",
      "26100 0.9587765311523089\n",
      "26200 0.9586959028094829\n",
      "26300 0.9587760035518453\n",
      "26400 0.9587773677351078\n",
      "26500 0.9587772091239406\n",
      "26600 0.9587774965272833\n",
      "\n"
     ]
    },
    {
     "ename": "KeyboardInterrupt",
     "evalue": "",
     "output_type": "error",
     "traceback": [
      "\u001b[0;31m---------------------------------------------------------------------------\u001b[0m",
      "\u001b[0;31mKeyboardInterrupt\u001b[0m                         Traceback (most recent call last)",
      "\u001b[0;32m<ipython-input-7-a0762f1ffd06>\u001b[0m in \u001b[0;36m<module>\u001b[0;34m\u001b[0m\n\u001b[1;32m     13\u001b[0m     \u001b[0mbatch_E_neural\u001b[0m \u001b[0;34m=\u001b[0m \u001b[0mtrain_E_neural\u001b[0m\u001b[0;34m[\u001b[0m\u001b[0mbatch_idx\u001b[0m \u001b[0;34m:\u001b[0m \u001b[0mbatch_idx\u001b[0m\u001b[0;34m+\u001b[0m\u001b[0mbatch_size\u001b[0m\u001b[0;34m]\u001b[0m\u001b[0;34m.\u001b[0m\u001b[0mtoarray\u001b[0m\u001b[0;34m(\u001b[0m\u001b[0;34m)\u001b[0m\u001b[0;34m\u001b[0m\u001b[0;34m\u001b[0m\u001b[0m\n\u001b[1;32m     14\u001b[0m     \u001b[0mbatch_I_neural\u001b[0m \u001b[0;34m=\u001b[0m \u001b[0mtrain_I_neural\u001b[0m\u001b[0;34m[\u001b[0m\u001b[0mbatch_idx\u001b[0m \u001b[0;34m:\u001b[0m \u001b[0mbatch_idx\u001b[0m\u001b[0;34m+\u001b[0m\u001b[0mbatch_size\u001b[0m\u001b[0;34m]\u001b[0m\u001b[0;34m.\u001b[0m\u001b[0mtoarray\u001b[0m\u001b[0;34m(\u001b[0m\u001b[0;34m)\u001b[0m\u001b[0;34m\u001b[0m\u001b[0;34m\u001b[0m\u001b[0m\n\u001b[0;32m---> 15\u001b[0;31m     \u001b[0mbatch_E_neural\u001b[0m \u001b[0;34m=\u001b[0m \u001b[0mtorch\u001b[0m\u001b[0;34m.\u001b[0m\u001b[0mfrom_numpy\u001b[0m\u001b[0;34m(\u001b[0m\u001b[0mbatch_E_neural\u001b[0m\u001b[0;34m)\u001b[0m\u001b[0;34m.\u001b[0m\u001b[0mfloat\u001b[0m\u001b[0;34m(\u001b[0m\u001b[0;34m)\u001b[0m\u001b[0;34m.\u001b[0m\u001b[0mto\u001b[0m\u001b[0;34m(\u001b[0m\u001b[0mdevice\u001b[0m\u001b[0;34m)\u001b[0m\u001b[0;34m\u001b[0m\u001b[0;34m\u001b[0m\u001b[0m\n\u001b[0m\u001b[1;32m     16\u001b[0m     \u001b[0mbatch_I_neural\u001b[0m \u001b[0;34m=\u001b[0m \u001b[0mtorch\u001b[0m\u001b[0;34m.\u001b[0m\u001b[0mfrom_numpy\u001b[0m\u001b[0;34m(\u001b[0m\u001b[0mbatch_I_neural\u001b[0m\u001b[0;34m)\u001b[0m\u001b[0;34m.\u001b[0m\u001b[0mfloat\u001b[0m\u001b[0;34m(\u001b[0m\u001b[0;34m)\u001b[0m\u001b[0;34m.\u001b[0m\u001b[0mto\u001b[0m\u001b[0;34m(\u001b[0m\u001b[0mdevice\u001b[0m\u001b[0;34m)\u001b[0m\u001b[0;34m\u001b[0m\u001b[0;34m\u001b[0m\u001b[0m\n\u001b[1;32m     17\u001b[0m     \u001b[0mbatch_V\u001b[0m \u001b[0;34m=\u001b[0m \u001b[0mV_train\u001b[0m\u001b[0;34m[\u001b[0m\u001b[0mbatch_idx\u001b[0m \u001b[0;34m:\u001b[0m \u001b[0mbatch_idx\u001b[0m\u001b[0;34m+\u001b[0m\u001b[0mbatch_size\u001b[0m\u001b[0;34m]\u001b[0m\u001b[0;34m\u001b[0m\u001b[0;34m\u001b[0m\u001b[0m\n",
      "\u001b[0;31mKeyboardInterrupt\u001b[0m: "
     ]
    }
   ],
   "source": [
    "temp_list = np.logspace(0,-3,50)\n",
    "temp_count = 0\n",
    "\n",
    "for i in tnrange(iter_no):\n",
    "    model.train()\n",
    "    optimizer.zero_grad()\n",
    "    \n",
    "    if (i%50 == 49) & (temp_count < 49):\n",
    "        temp_count += 1\n",
    "    temp = temp_list[temp_count]\n",
    "        \n",
    "    batch_idx = train_idx[i].long()\n",
    "    batch_E_neural = train_E_neural[batch_idx : batch_idx+batch_size].toarray()\n",
    "    batch_I_neural = train_I_neural[batch_idx : batch_idx+batch_size].toarray()\n",
    "    batch_E_neural = torch.from_numpy(batch_E_neural).float().to(device)\n",
    "    batch_I_neural = torch.from_numpy(batch_I_neural).float().to(device)\n",
    "    batch_V = V_train[batch_idx : batch_idx+batch_size]\n",
    "    \n",
    "    batch_pred, out_filters = model(batch_E_neural, batch_I_neural, temp, False)\n",
    "    loss = torch.var(batch_pred - batch_V)\n",
    "    \n",
    "    loss.backward()\n",
    "    optimizer.step()\n",
    "    scheduler.step()\n",
    "    \n",
    "    if i%100 == 0:\n",
    "        model.eval()\n",
    "        test_V_pred, test_out_filters = model(test_E_neural, test_I_neural, 0, True)\n",
    "            \n",
    "        test_score = metrics.explained_variance_score(y_true=V_test.cpu().detach().numpy(),\n",
    "                                                      y_pred=test_V_pred.cpu().detach().numpy())\n",
    "        print(i, test_score)"
   ]
  },
  {
   "cell_type": "code",
   "execution_count": null,
   "metadata": {},
   "outputs": [],
   "source": []
  },
  {
   "cell_type": "code",
   "execution_count": 8,
   "metadata": {},
   "outputs": [],
   "source": [
    "clust_array = np.zeros((E_no))\n",
    "for i in range(E_no):\n",
    "    clust_array[i] = torch.argmax(model.C_syn_e_logit[:,i])"
   ]
  },
  {
   "cell_type": "code",
   "execution_count": 9,
   "metadata": {},
   "outputs": [
    {
     "data": {
      "text/plain": [
       "<matplotlib.collections.PathCollection at 0x7f573c30ea90>"
      ]
     },
     "execution_count": 9,
     "metadata": {},
     "output_type": "execute_result"
    },
    {
     "data": {
      "image/png": "[encoded data removed]",
      "text/plain": [
       "<Figure size 1080x360 with 1 Axes>"
      ]
     },
     "metadata": {
      "needs_background": "light"
     },
     "output_type": "display_data"
    }
   ],
   "source": [
    "plt.figure(figsize = (15,5))\n",
    "plt.scatter(np.arange(E_no), clust_array, s=1)"
   ]
  },
  {
   "cell_type": "code",
   "execution_count": 10,
   "metadata": {},
   "outputs": [],
   "source": [
    "eloc = np.load(\"/media/hdd01/sklee/CA1_clust4-60/data/Elocs_T10_Ne2000_gA0.6_tauA1_gN0.8_Ni200_gG0.1_gB0.1_Er0.5_Ir7.4_random_NR_rep1000_stimseed1.npy\")\n",
    "\n",
    "den_array = np.zeros((E_no))\n",
    "clust_array = np.zeros((E_no))\n",
    "for i in range(E_no):\n",
    "    den_array[i] = eloc[i,0]\n",
    "    clust_array[i] = torch.argmax(model.C_syn_e_logit[:,i])"
   ]
  },
  {
   "cell_type": "code",
   "execution_count": 11,
   "metadata": {},
   "outputs": [
    {
     "data": {
      "text/plain": [
       "<matplotlib.collections.PathCollection at 0x7f573c266820>"
      ]
     },
     "execution_count": 11,
     "metadata": {},
     "output_type": "execute_result"
    },
    {
     "data": {
      "image/png": "[encoded data removed]",
      "text/plain": [
       "<Figure size 1080x360 with 1 Axes>"
      ]
     },
     "metadata": {
      "needs_background": "light"
     },
     "output_type": "display_data"
    }
   ],
   "source": [
    "plt.figure(figsize = (15,5))\n",
    "plt.scatter(den_array, clust_array, s=1)"
   ]
  },
  {
   "cell_type": "code",
   "execution_count": null,
   "metadata": {},
   "outputs": [],
   "source": []
  },
  {
   "cell_type": "code",
   "execution_count": null,
   "metadata": {},
   "outputs": [],
   "source": []
  }
 ],
 "metadata": {
  "kernelspec": {
   "display_name": "Python 3",
   "language": "python",
   "name": "python3"
  },
  "language_info": {
   "codemirror_mode": {
    "name": "ipython",
    "version": 3
   },
   "file_extension": ".py",
   "mimetype": "text/x-python",
   "name": "python",
   "nbconvert_exporter": "python",
   "pygments_lexer": "ipython3",
   "version": "3.8.5"
  }
 },
 "nbformat": 4,
 "nbformat_minor": 4
}
