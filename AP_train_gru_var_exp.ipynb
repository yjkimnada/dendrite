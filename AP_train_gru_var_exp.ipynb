{
 "cells": [
  {
   "cell_type": "code",
   "execution_count": 1,
   "id": "e7faa469",
   "metadata": {},
   "outputs": [],
   "source": [
    "import numpy as np\n",
    "import torch \n",
    "import torch.nn as nn\n",
    "from tqdm import tnrange\n",
    "import torch.optim as optim\n",
    "import torch.nn.functional as F\n",
    "from sklearn import metrics\n",
    "import matplotlib.pyplot as plt\n",
    "import time\n",
    "from sklearn.metrics import explained_variance_score"
   ]
  },
  {
   "cell_type": "code",
   "execution_count": 2,
   "id": "8753064b",
   "metadata": {},
   "outputs": [],
   "source": [
    "class AP_GRU_Single(nn.Module):\n",
    "    def __init__(self, H_no, device):\n",
    "        super().__init__()\n",
    "        \n",
    "        self.H_no = H_no\n",
    "        self.device = device\n",
    "        \n",
    "        self.rnn = nn.GRU(1, H_no, batch_first=True)\n",
    "        self.linear = nn.Linear(H_no, 1)\n",
    "        \n",
    "    def forward(self, V):\n",
    "        #V is shape (batch, 50000)\n",
    "\n",
    "        rnn_out, _ = self.rnn(V.unsqueeze(2)) #(batch,50000,H)\n",
    "        rnn_out = rnn_out.reshape(-1,self.H_no)\n",
    "        lin_out = self.linear(rnn_out) #(batch*50000,1)\n",
    "        lin_out = lin_out.reshape(V.shape[0], V.shape[1])\n",
    "        \n",
    "        return lin_out\n",
    "\n"
   ]
  },
  {
   "cell_type": "code",
   "execution_count": 3,
   "id": "6e8d732d",
   "metadata": {},
   "outputs": [],
   "source": [
    "batch_size = 20\n",
    "batch_length = 50000\n",
    "H_no = 30\n",
    "device = torch.device(\"cuda\")\n",
    "\n",
    "epoch_no = 400\n",
    "iter_no = epoch_no * 980 // batch_size\n",
    "\n",
    "#V = np.load(\"/media/hdd01/sklee/CA1_clust4-60/data/vdata_T10_Ne2000_gA0.6_tauA1_gN0.8_Ni200_gG0.1_gB0.1_Er0.5_Ir7.4_random_NR_rep1000_stimseed1.npy\").reshape(-1,50001)[:,:50000].flatten()\n",
    "V = np.load(\"/media/hdd01/sklee/CA1_clust4-60_AP/comb_pred/V_comb_pred.npy\")\n",
    "S = np.load(\"/media/hdd01/sklee/CA1_clust4-60_AP/data/V_diff_stimseed1.npy\").reshape(-1,batch_length)\n",
    "\n",
    "V-= np.mean(V)\n",
    "\n",
    "V = torch.from_numpy(V)\n",
    "S = torch.from_numpy(S)\n"
   ]
  },
  {
   "cell_type": "code",
   "execution_count": 4,
   "id": "bfda0478",
   "metadata": {},
   "outputs": [
    {
     "name": "stdout",
     "output_type": "stream",
     "text": [
      "torch.Size([19600, 20])\n"
     ]
    }
   ],
   "source": [
    "V_train = V[:980].float()\n",
    "V_test = V[980:].float().to(device)\n",
    "S_train = S[:980].float()\n",
    "S_test = S[980:].float() .to(device)\n",
    "\n",
    "train_idx = np.empty((epoch_no, 980))\n",
    "for i in range(epoch_no):\n",
    "    part_idx = np.arange(0,980,1)\n",
    "    np.random.shuffle(part_idx)\n",
    "    train_idx[i] = part_idx\n",
    "train_idx = train_idx.reshape(-1, batch_size)\n",
    "train_idx = torch.from_numpy(train_idx).long()\n",
    "print(train_idx.shape)"
   ]
  },
  {
   "cell_type": "code",
   "execution_count": 5,
   "id": "784b45c2",
   "metadata": {},
   "outputs": [
    {
     "name": "stdout",
     "output_type": "stream",
     "text": [
      "3001\n"
     ]
    }
   ],
   "source": [
    "model = AP_GRU_Single(H_no, device)\n",
    "optimizer = torch.optim.Adam(model.parameters(), lr = 0.001)\n",
    "#optimizer = torch.optim.SGD(model.parameters(), lr=0.025, momentum=0.9)\n",
    "\n",
    "model.to(device).float()\n",
    "print(sum(p.numel() for p in model.parameters() if p.requires_grad))\n",
    "\n",
    "bce_criterion = nn.BCELoss(reduction=\"mean\")"
   ]
  },
  {
   "cell_type": "code",
   "execution_count": 6,
   "id": "84e29a0c",
   "metadata": {
    "scrolled": false
   },
   "outputs": [
    {
     "name": "stderr",
     "output_type": "stream",
     "text": [
      "<ipython-input-6-af9539863d0c>:5: TqdmDeprecationWarning: Please use `tqdm.notebook.trange` instead of `tqdm.tnrange`\n",
      "  for i in tnrange(iter_no):\n"
     ]
    },
    {
     "data": {
      "application/vnd.jupyter.widget-view+json": {
       "model_id": "6b030e01c8894449b7f0cc891a6a1b7a",
       "version_major": 2,
       "version_minor": 0
      },
      "text/plain": [
       "  0%|          | 0/19600 [00:00<?, ?it/s]"
      ]
     },
     "metadata": {},
     "output_type": "display_data"
    },
    {
     "name": "stdout",
     "output_type": "stream",
     "text": [
      "0 0.0003827810287475586 -0.0004233121871948242 9.973074913024902\n",
      "49 0.013148188591003418 0.012608110904693604 9.714152336120605\n",
      "99 0.020048856735229492 0.01978522539138794 9.645573616027832\n",
      "149 0.03077143430709839 0.030443966388702393 9.540029525756836\n",
      "199 0.03292006254196167 0.03701525926589966 9.519305229187012\n",
      "249 0.04587477445602417 0.04645681381225586 9.391395568847656\n",
      "299 0.04842674732208252 0.047537803649902344 9.367053985595703\n",
      "349 0.0654035210609436 0.0674816370010376 9.200705528259277\n",
      "399 0.09021586179733276 0.08586889505386353 8.956122398376465\n",
      "449 0.11316561698913574 0.1140630841255188 8.729945182800293\n",
      "499 0.12400281429290771 0.12780791521072388 8.622481346130371\n",
      "549 0.1408458948135376 0.1255817413330078 8.46020793914795\n",
      "599 0.15460777282714844 0.14969408512115479 8.326411247253418\n",
      "649 0.1782044768333435 0.15144628286361694 8.088888168334961\n",
      "699 0.14784014225006104 0.11490517854690552 8.391340255737305\n",
      "749 0.15844625234603882 0.14718759059906006 8.284000396728516\n",
      "799 0.18517273664474487 0.16145622730255127 8.020318031311035\n",
      "849 0.1849026083946228 0.19318926334381104 8.025712013244629\n",
      "899 0.19937658309936523 0.1870247721672058 7.880828380584717\n",
      "949 0.1866796612739563 0.16759014129638672 8.005447387695312\n",
      "999 0.15149754285812378 0.16943037509918213 8.352543830871582\n",
      "1049 0.20059269666671753 0.18782126903533936 7.8686370849609375\n",
      "1099 0.1990641951560974 0.1916758418083191 7.885167598724365\n",
      "1149 0.21590399742126465 0.2051040530204773 7.71823263168335\n",
      "1199 0.16554737091064453 0.17710286378860474 8.214838981628418\n",
      "1249 0.20095306634902954 0.21699023246765137 7.86564826965332\n",
      "1299 0.2248096466064453 0.22272980213165283 7.630613803863525\n",
      "1349 0.22823083400726318 0.19246959686279297 7.596839427947998\n",
      "1399 0.19903695583343506 0.17902159690856934 7.883814811706543\n",
      "1449 0.20728111267089844 0.2031625509262085 7.803946495056152\n",
      "1499 0.23462986946105957 0.24678152799606323 7.534490585327148\n",
      "1549 0.22568804025650024 0.19797450304031372 7.621530055999756\n",
      "1599 0.23624831438064575 0.22168481349945068 7.517949104309082\n",
      "1649 0.23694151639938354 0.20481210947036743 7.511419773101807\n",
      "1699 0.18130624294281006 0.1897222399711609 8.065786361694336\n",
      "1749 0.23373496532440186 0.2007676362991333 7.543230056762695\n",
      "1799 0.23790448904037476 0.18206703662872314 7.502288818359375\n",
      "1849 0.2378154993057251 0.2341989278793335 7.503008842468262\n",
      "1899 0.21304750442504883 0.17426753044128418 7.747354984283447\n",
      "1949 0.24643945693969727 0.2074441909790039 7.417471408843994\n",
      "1999 0.22046047449111938 0.20933592319488525 7.673475742340088\n",
      "2049 0.24639207124710083 0.2132083773612976 7.417832851409912\n",
      "2099 0.24509155750274658 0.26482754945755005 7.430738925933838\n",
      "2149 0.23847925662994385 0.22867387533187866 7.495989799499512\n",
      "2199 0.2473563551902771 0.2899017333984375 7.408700942993164\n",
      "2249 0.2504580020904541 0.2220240831375122 7.377781867980957\n",
      "2299 0.23360401391983032 0.21050375699996948 7.5508012771606445\n",
      "2349 0.2559214234352112 0.23225635290145874 7.324210166931152\n",
      "2399 0.25440502166748047 0.22256457805633545 7.339344024658203\n",
      "2449 0.2354114055633545 0.2251022458076477 7.526622772216797\n",
      "2499 0.21004313230514526 0.209980309009552 7.775864124298096\n",
      "2549 0.26074105501174927 0.2448304295539856 7.276545524597168\n",
      "2599 0.26266616582870483 0.23218435049057007 7.257524013519287\n",
      "2649 0.2600465416908264 0.22284269332885742 7.284004211425781\n",
      "2699 0.23487287759780884 0.2530307173728943 7.536650657653809\n",
      "2749 0.2455654740333557 0.26396501064300537 7.42583703994751\n",
      "2799 0.2637566924095154 0.2651689648628235 7.247226715087891\n",
      "2849 0.2640202045440674 0.23682332038879395 7.244409084320068\n",
      "2899 0.2681766152381897 0.24309521913528442 7.2037787437438965\n",
      "2949 0.2574186325073242 0.1956576704978943 7.309159755706787\n",
      "2999 0.2598062753677368 0.24553054571151733 7.285756587982178\n",
      "3049 0.26629793643951416 0.24759888648986816 7.223193168640137\n",
      "3099 0.2546084523200989 0.2338060736656189 7.338151931762695\n",
      "3149 0.27484291791915894 0.19168275594711304 7.137797832489014\n",
      "3199 0.265014111995697 0.2682512402534485 7.234518527984619\n",
      "3249 0.2728443741798401 0.25007879734039307 7.1573357582092285\n",
      "3299 0.26748889684677124 0.2525360584259033 7.21091365814209\n",
      "3349 0.269889235496521 0.2940155863761902 7.186614036560059\n",
      "3399 0.2768038511276245 0.3003707528114319 7.119317054748535\n",
      "3449 0.2811722159385681 0.259448766708374 7.0765581130981445\n",
      "3499 0.2785530686378479 0.2591201663017273 7.101438522338867\n",
      "3549 0.28068214654922485 0.26233726739883423 7.080567836761475\n",
      "3599 0.2870410084724426 0.2803717255592346 7.018770694732666\n",
      "3649 0.2911486029624939 0.2659420371055603 6.977163791656494\n",
      "3699 0.29050391912460327 0.27759742736816406 6.983823299407959\n",
      "3749 0.28861188888549805 0.2647959589958191 7.003720760345459\n",
      "3799 0.28586113452911377 0.2487437129020691 7.030646800994873\n",
      "3849 0.28641968965530396 0.22672122716903687 7.026339054107666\n",
      "3899 0.29572588205337524 0.23467379808425903 6.9326491355896\n",
      "3949 0.293906033039093 0.2471596598625183 6.950106143951416\n",
      "3999 0.28755903244018555 0.2769877314567566 7.013156414031982\n",
      "4049 0.2960370182991028 0.2713901400566101 6.929586887359619\n",
      "4099 0.29099828004837036 0.19210708141326904 6.97891092300415\n",
      "4149 0.2836768627166748 0.313593327999115 7.059558868408203\n",
      "4199 0.2973562479019165 0.2653611898422241 6.916133880615234\n",
      "4249 0.29622018337249756 0.264858603477478 6.927976608276367\n",
      "4299 0.29524779319763184 0.2309056520462036 6.937129020690918\n",
      "4349 0.29865801334381104 0.29927247762680054 6.903240203857422\n",
      "4399 0.29887592792510986 0.2363329529762268 6.901413917541504\n",
      "4449 0.29879456758499146 0.2865031957626343 6.901979446411133\n",
      "4499 0.29292893409729004 0.2848231792449951 6.961580276489258\n",
      "4549 0.2935025691986084 0.27097272872924805 6.954008102416992\n",
      "4599 0.30006760358810425 0.2692983150482178 6.889832019805908\n",
      "4649 0.2999379634857178 0.27475470304489136 6.892409801483154\n",
      "4699 0.2920362949371338 0.26093339920043945 6.969144344329834\n",
      "4749 0.2835105061531067 0.27798163890838623 7.054791450500488\n",
      "4799 0.2899189591407776 0.29635709524154663 6.989601135253906\n",
      "4849 0.28721773624420166 0.24185329675674438 7.015885829925537\n",
      "4899 0.3003442883491516 0.2631337642669678 6.887392997741699\n",
      "4949 0.297995388507843 0.2750452160835266 6.910604953765869\n",
      "4999 0.296592652797699 0.29129594564437866 6.923633098602295\n",
      "5049 0.2999080419540405 0.24608641862869263 6.8929290771484375\n",
      "5099 0.29828256368637085 0.24960416555404663 6.907254219055176\n",
      "5149 0.2974836826324463 0.2790753245353699 6.91498327255249\n",
      "5199 0.30510902404785156 0.32116466760635376 6.840167045593262\n",
      "5249 0.30304086208343506 0.2560582756996155 6.8613600730896\n",
      "5299 0.2953324317932129 0.2931329607963562 6.935976982116699\n",
      "5349 0.29518312215805054 0.2588053345680237 6.938110828399658\n",
      "5399 0.29869967699050903 0.2914476990699768 6.903043746948242\n",
      "5449 0.29774826765060425 0.2864123582839966 6.91227912902832\n",
      "5499 0.2991520166397095 0.28004246950149536 6.900167942047119\n",
      "5549 0.2904500365257263 0.25474029779434204 6.984097003936768\n",
      "5599 0.30286329984664917 0.27987778186798096 6.861867427825928\n",
      "5649 0.3005902171134949 0.2730664610862732 6.884242057800293\n",
      "5699 0.2969675064086914 0.28717249631881714 6.920168876647949\n",
      "5749 0.30287593603134155 0.2753775715827942 6.862100124359131\n",
      "5799 0.28880828619003296 0.24529260396957397 7.001413822174072\n",
      "5849 0.29585689306259155 0.2718992233276367 6.9308390617370605\n",
      "5899 0.30440324544906616 0.2882358431816101 6.848779201507568\n",
      "5949 0.3030235767364502 0.2717573642730713 6.86118221282959\n",
      "5999 0.30244821310043335 0.2822675108909607 6.866062164306641\n",
      "6049 0.3023363947868347 0.25378739833831787 6.867089748382568\n",
      "6099 0.30409425497055054 0.303413987159729 6.849775791168213\n",
      "6149 0.2999523878097534 0.2999897003173828 6.890590667724609\n",
      "6199 0.2697404623031616 0.2517277002334595 7.1878981590271\n",
      "6249 0.30416005849838257 0.2596281170845032 6.851230144500732\n",
      "6299 0.2984473705291748 0.2871497869491577 6.905714988708496\n",
      "6349 0.29878169298171997 0.2742233872413635 6.903480052947998\n",
      "6399 0.2988893389701843 0.2712414264678955 6.901686191558838\n",
      "6449 0.29993611574172974 0.31281810998916626 6.8933539390563965\n",
      "6499 0.30116117000579834 0.298160195350647 6.879714012145996\n",
      "6549 0.3063579201698303 0.2836071252822876 6.828293800354004\n",
      "6599 0.3017612099647522 0.2675763964653015 6.872898101806641\n"
     ]
    },
    {
     "name": "stdout",
     "output_type": "stream",
     "text": [
      "6649 0.3051740527153015 0.28983694314956665 6.841545581817627\n",
      "6699 0.29703575372695923 0.30194926261901855 6.919216156005859\n",
      "6749 0.2997090220451355 0.18182015419006348 6.89290189743042\n",
      "6799 0.2955971956253052 0.2606762647628784 6.933443069458008\n",
      "6849 0.2858157753944397 0.2785646915435791 7.029648780822754\n",
      "6899 0.3026801347732544 0.2646726965904236 6.864427089691162\n"
     ]
    },
    {
     "ename": "KeyboardInterrupt",
     "evalue": "",
     "output_type": "error",
     "traceback": [
      "\u001b[0;31m---------------------------------------------------------------------------\u001b[0m",
      "\u001b[0;31mKeyboardInterrupt\u001b[0m                         Traceback (most recent call last)",
      "\u001b[0;32m<ipython-input-6-af9539863d0c>\u001b[0m in \u001b[0;36m<module>\u001b[0;34m\u001b[0m\n\u001b[1;32m     16\u001b[0m     \u001b[0;31m#loss = torch.var(S_out - batch_S)\u001b[0m\u001b[0;34m\u001b[0m\u001b[0;34m\u001b[0m\u001b[0;34m\u001b[0m\u001b[0m\n\u001b[1;32m     17\u001b[0m \u001b[0;34m\u001b[0m\u001b[0m\n\u001b[0;32m---> 18\u001b[0;31m     \u001b[0mloss\u001b[0m\u001b[0;34m.\u001b[0m\u001b[0mbackward\u001b[0m\u001b[0;34m(\u001b[0m\u001b[0;34m)\u001b[0m\u001b[0;34m\u001b[0m\u001b[0;34m\u001b[0m\u001b[0m\n\u001b[0m\u001b[1;32m     19\u001b[0m     \u001b[0mnn\u001b[0m\u001b[0;34m.\u001b[0m\u001b[0mutils\u001b[0m\u001b[0;34m.\u001b[0m\u001b[0mclip_grad_norm_\u001b[0m\u001b[0;34m(\u001b[0m\u001b[0mmodel\u001b[0m\u001b[0;34m.\u001b[0m\u001b[0mparameters\u001b[0m\u001b[0;34m(\u001b[0m\u001b[0;34m)\u001b[0m\u001b[0;34m,\u001b[0m \u001b[0;36m20\u001b[0m\u001b[0;34m)\u001b[0m\u001b[0;34m\u001b[0m\u001b[0;34m\u001b[0m\u001b[0m\n\u001b[1;32m     20\u001b[0m     \u001b[0moptimizer\u001b[0m\u001b[0;34m.\u001b[0m\u001b[0mstep\u001b[0m\u001b[0;34m(\u001b[0m\u001b[0;34m)\u001b[0m\u001b[0;34m\u001b[0m\u001b[0;34m\u001b[0m\u001b[0m\n",
      "\u001b[0;32m~/anaconda3/lib/python3.8/site-packages/torch/tensor.py\u001b[0m in \u001b[0;36mbackward\u001b[0;34m(self, gradient, retain_graph, create_graph, inputs)\u001b[0m\n\u001b[1;32m    243\u001b[0m                 \u001b[0mcreate_graph\u001b[0m\u001b[0;34m=\u001b[0m\u001b[0mcreate_graph\u001b[0m\u001b[0;34m,\u001b[0m\u001b[0;34m\u001b[0m\u001b[0;34m\u001b[0m\u001b[0m\n\u001b[1;32m    244\u001b[0m                 inputs=inputs)\n\u001b[0;32m--> 245\u001b[0;31m         \u001b[0mtorch\u001b[0m\u001b[0;34m.\u001b[0m\u001b[0mautograd\u001b[0m\u001b[0;34m.\u001b[0m\u001b[0mbackward\u001b[0m\u001b[0;34m(\u001b[0m\u001b[0mself\u001b[0m\u001b[0;34m,\u001b[0m \u001b[0mgradient\u001b[0m\u001b[0;34m,\u001b[0m \u001b[0mretain_graph\u001b[0m\u001b[0;34m,\u001b[0m \u001b[0mcreate_graph\u001b[0m\u001b[0;34m,\u001b[0m \u001b[0minputs\u001b[0m\u001b[0;34m=\u001b[0m\u001b[0minputs\u001b[0m\u001b[0;34m)\u001b[0m\u001b[0;34m\u001b[0m\u001b[0;34m\u001b[0m\u001b[0m\n\u001b[0m\u001b[1;32m    246\u001b[0m \u001b[0;34m\u001b[0m\u001b[0m\n\u001b[1;32m    247\u001b[0m     \u001b[0;32mdef\u001b[0m \u001b[0mregister_hook\u001b[0m\u001b[0;34m(\u001b[0m\u001b[0mself\u001b[0m\u001b[0;34m,\u001b[0m \u001b[0mhook\u001b[0m\u001b[0;34m)\u001b[0m\u001b[0;34m:\u001b[0m\u001b[0;34m\u001b[0m\u001b[0;34m\u001b[0m\u001b[0m\n",
      "\u001b[0;32m~/anaconda3/lib/python3.8/site-packages/torch/autograd/__init__.py\u001b[0m in \u001b[0;36mbackward\u001b[0;34m(tensors, grad_tensors, retain_graph, create_graph, grad_variables, inputs)\u001b[0m\n\u001b[1;32m    143\u001b[0m         \u001b[0mretain_graph\u001b[0m \u001b[0;34m=\u001b[0m \u001b[0mcreate_graph\u001b[0m\u001b[0;34m\u001b[0m\u001b[0;34m\u001b[0m\u001b[0m\n\u001b[1;32m    144\u001b[0m \u001b[0;34m\u001b[0m\u001b[0m\n\u001b[0;32m--> 145\u001b[0;31m     Variable._execution_engine.run_backward(\n\u001b[0m\u001b[1;32m    146\u001b[0m         \u001b[0mtensors\u001b[0m\u001b[0;34m,\u001b[0m \u001b[0mgrad_tensors_\u001b[0m\u001b[0;34m,\u001b[0m \u001b[0mretain_graph\u001b[0m\u001b[0;34m,\u001b[0m \u001b[0mcreate_graph\u001b[0m\u001b[0;34m,\u001b[0m \u001b[0minputs\u001b[0m\u001b[0;34m,\u001b[0m\u001b[0;34m\u001b[0m\u001b[0;34m\u001b[0m\u001b[0m\n\u001b[1;32m    147\u001b[0m         allow_unreachable=True, accumulate_grad=True)  # allow_unreachable flag\n",
      "\u001b[0;31mKeyboardInterrupt\u001b[0m: "
     ]
    }
   ],
   "source": [
    "score_list = []\n",
    "\n",
    "part_time_idx = torch.arange(0,50000)\n",
    "\n",
    "for i in tnrange(iter_no):\n",
    "    s = time.time()\n",
    "    model.train()\n",
    "    optimizer.zero_grad()\n",
    "    \n",
    "    batch_idx = train_idx[i]\n",
    "    batch_S = S_train[batch_idx].to(device)[:,part_time_idx]\n",
    "    batch_V = V_train[batch_idx].to(device)[:,part_time_idx]\n",
    "    \n",
    "    S_out = model(batch_V)\n",
    "    loss = torch.mean((S_out - batch_S)**2)\n",
    "    #loss = torch.var(S_out - batch_S)\n",
    "    \n",
    "    loss.backward()\n",
    "    nn.utils.clip_grad_norm_(model.parameters(), 20)\n",
    "    optimizer.step()\n",
    "    \n",
    "    step_time = time.time() - s\n",
    "    \n",
    "    if (i%50 == 49) or (i == 0):\n",
    "        model.eval()\n",
    "        test_S_out = model(V_test[:,part_time_idx])\n",
    "        test_loss = explained_variance_score(S_test[:,part_time_idx].cpu().detach().numpy().flatten(), test_S_out.cpu().detach().numpy().flatten())\n",
    "        train_loss = explained_variance_score(batch_S.cpu().detach().numpy().flatten(), S_out.cpu().detach().numpy().flatten())\n",
    "        test_mse = torch.mean((test_S_out - S_test)**2).item()\n",
    "        \n",
    "        score_list.append(test_loss)\n",
    "        print(i, test_loss, train_loss, test_mse)"
   ]
  },
  {
   "cell_type": "code",
   "execution_count": null,
   "id": "f591ea9b",
   "metadata": {},
   "outputs": [],
   "source": []
  },
  {
   "cell_type": "code",
   "execution_count": 7,
   "id": "e006b31b",
   "metadata": {},
   "outputs": [
    {
     "data": {
      "text/plain": [
       "[<matplotlib.lines.Line2D at 0x7f12fc5f52b0>]"
      ]
     },
     "execution_count": 7,
     "metadata": {},
     "output_type": "execute_result"
    },
    {
     "data": {
      "image/png": "[encoded data removed]",
      "text/plain": [
       "<Figure size 432x288 with 1 Axes>"
      ]
     },
     "metadata": {
      "needs_background": "light"
     },
     "output_type": "display_data"
    }
   ],
   "source": [
    "plt.plot(np.asarray(score_list))"
   ]
  },
  {
   "cell_type": "code",
   "execution_count": 8,
   "id": "ad66af8b",
   "metadata": {},
   "outputs": [
    {
     "data": {
      "text/plain": [
       "(23000.0, 26000.0)"
      ]
     },
     "execution_count": 8,
     "metadata": {},
     "output_type": "execute_result"
    },
    {
     "data": {
      "image/png": "[encoded data removed]",
      "text/plain": [
       "<Figure size 1080x360 with 1 Axes>"
      ]
     },
     "metadata": {
      "needs_background": "light"
     },
     "output_type": "display_data"
    }
   ],
   "source": [
    "plt.figure(figsize = (15,5))\n",
    "plt.plot(S_test[0].cpu().detach().numpy()[part_time_idx])\n",
    "plt.plot(test_S_out[1].cpu().detach().numpy())\n",
    "plt.xlim(23000,26000)\n",
    "#plt.ylim(-1,10)"
   ]
  },
  {
   "cell_type": "code",
   "execution_count": 9,
   "id": "780f8cd8",
   "metadata": {},
   "outputs": [],
   "source": [
    "#torch.save(model.state_dict(), \"/media/hdd01/sklee/CA1_clust4-60_AP/comb_pred/gru_h30.pt\")\n",
    "#np.save(\"/media/hdd01/sklee/CA1_clust4-60_AP/comb_pred/gru_h30_test.npy\", test_S_out.cpu().detach().numpy())"
   ]
  },
  {
   "cell_type": "code",
   "execution_count": null,
   "id": "220095ad",
   "metadata": {},
   "outputs": [],
   "source": []
  }
 ],
 "metadata": {
  "kernelspec": {
   "display_name": "Python 3",
   "language": "python",
   "name": "python3"
  },
  "language_info": {
   "codemirror_mode": {
    "name": "ipython",
    "version": 3
   },
   "file_extension": ".py",
   "mimetype": "text/x-python",
   "name": "python",
   "nbconvert_exporter": "python",
   "pygments_lexer": "ipython3",
   "version": "3.8.8"
  }
 },
 "nbformat": 4,
 "nbformat_minor": 5
}
