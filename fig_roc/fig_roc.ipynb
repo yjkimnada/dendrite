{
 "cells": [
  {
   "cell_type": "code",
   "execution_count": 5,
   "id": "ad24b055",
   "metadata": {},
   "outputs": [],
   "source": [
    "import numpy as np\n",
    "import matplotlib.pyplot as plt\n",
    "import matplotlib as mpl\n",
    "import scipy.stats\n",
    "from sklearn.metrics import precision_recall_curve\n",
    "from sklearn import metrics\n",
    "from tqdm import tnrange\n",
    "import matplotlib"
   ]
  },
  {
   "cell_type": "code",
   "execution_count": 2,
   "id": "0d5cf750",
   "metadata": {},
   "outputs": [
    {
     "name": "stderr",
     "output_type": "stream",
     "text": [
      "/tmp/ipykernel_32533/105049692.py:23: TqdmDeprecationWarning: Please use `tqdm.notebook.trange` instead of `tqdm.tnrange`\n",
      "  for i in tnrange(20):\n"
     ]
    },
    {
     "data": {
      "application/vnd.jupyter.widget-view+json": {
       "model_id": "9d8a0ba3b7f5447c822444a94455be16",
       "version_major": 2,
       "version_minor": 0
      },
      "text/plain": [
       "  0%|          | 0/20 [00:00<?, ?it/s]"
      ]
     },
     "metadata": {},
     "output_type": "display_data"
    }
   ],
   "source": [
    "length = 50000\n",
    "ap_true_active = np.load(\"/media/hdd01/sklee/CA1_clust4-60_AP/ap_true/gru_l20_h40_0.2ms_test.npy\").flatten()\n",
    "na_true_active = np.load(\"/media/hdd01/sklee/CA1_clust4-60_AP/na_true/gru_l20_h40_0.2ms_test.npy\").flatten()\n",
    "nona_true_active = np.load(\"/media/hdd01/sklee/CA1_clust4-60_AP/nona_true/gru_l20_h40_0.2ms_test.npy\").flatten()\n",
    "spk_active = np.load(\"/media/hdd01/sklee/CA1_clust4-60_AP/data/spike_train_0.2ms.npy\")[980*50000:].flatten()\n",
    "\n",
    "prec_ap_true_active, rec_ap_true_active, _ = precision_recall_curve(spk_active, ap_true_active)\n",
    "prec_na_true_active, rec_na_true_active, _ = precision_recall_curve(spk_active, na_true_active)\n",
    "prec_nona_true_active, rec_nona_true_active, _ = precision_recall_curve(spk_active, nona_true_active)\n",
    "\n",
    "fpr_ap_true_active, tpr_ap_true_active, thresholds_ap_true_active = metrics.roc_curve(spk_active, ap_true_active)\n",
    "fpr_na_true_active, tpr_na_true_active, thresholds_na_true_active = metrics.roc_curve(spk_active, na_true_active)\n",
    "fpr_nona_true_active, tpr_nona_true_active, thresholds_nona_true_active = metrics.roc_curve(spk_active, nona_true_active)\n",
    "\n",
    "prarea_ap_true_active_array = np.zeros((20))\n",
    "prarea_na_true_active_array = np.zeros((20))\n",
    "prarea_nona_true_active_array = np.zeros((20))\n",
    "\n",
    "rocarea_ap_true_active_array = np.zeros((20))\n",
    "rocarea_na_true_active_array = np.zeros((20))\n",
    "rocarea_nona_true_active_array = np.zeros((20))\n",
    "\n",
    "for i in tnrange(20):\n",
    "    part_prec_ap_true_active, part_rec_ap_true_active, _ = precision_recall_curve(spk_active[i*length:(i+1)*length], ap_true_active[i*length:(i+1)*length])\n",
    "    part_prec_na_true_active, part_rec_na_true_active, _ = precision_recall_curve(spk_active[i*length:(i+1)*length], na_true_active[i*length:(i+1)*length])\n",
    "    part_prec_nona_true_active, part_rec_nona_true_active, _ = precision_recall_curve(spk_active[i*length:(i+1)*length], nona_true_active[i*length:(i+1)*length])\n",
    "    \n",
    "    prarea_ap_true_active_array[i] = metrics.auc(part_rec_ap_true_active, part_prec_ap_true_active)\n",
    "    prarea_na_true_active_array[i] = metrics.auc(part_rec_na_true_active, part_prec_na_true_active)\n",
    "    prarea_nona_true_active_array[i] = metrics.auc(part_rec_nona_true_active, part_prec_nona_true_active)\n",
    "    \n",
    "    rocarea_ap_true_active_array[i] = metrics.roc_auc_score(spk_active[i*length:(i+1)*length], ap_true_active[i*length:(i+1)*length])\n",
    "    rocarea_na_true_active_array[i] = metrics.roc_auc_score(spk_active[i*length:(i+1)*length], na_true_active[i*length:(i+1)*length])\n",
    "    rocarea_nona_true_active_array[i] = metrics.roc_auc_score(spk_active[i*length:(i+1)*length], nona_true_active[i*length:(i+1)*length])"
   ]
  },
  {
   "cell_type": "code",
   "execution_count": null,
   "id": "20b8391a",
   "metadata": {},
   "outputs": [],
   "source": []
  },
  {
   "cell_type": "code",
   "execution_count": 11,
   "id": "fabf0127",
   "metadata": {},
   "outputs": [
    {
     "name": "stderr",
     "output_type": "stream",
     "text": [
      "/tmp/ipykernel_32533/3204457358.py:89: UserWarning: This figure includes Axes that are not compatible with tight_layout, so results might be incorrect.\n",
      "  fig.tight_layout()\n"
     ]
    },
    {
     "data": {
      "image/png": "[encoded data removed]",
      "text/plain": [
       "<Figure size 576x288 with 2 Axes>"
      ]
     },
     "metadata": {
      "needs_background": "light"
     },
     "output_type": "display_data"
    }
   ],
   "source": [
    "mpl.rcParams['pdf.fonttype'] = 42\n",
    "mpl.rcParams['font.sans-serif'] = \"Arial\"\n",
    "mpl.rcParams['font.family'] = \"sans-serif\"\n",
    "plt.rcParams['font.size'] = '13'\n",
    "matplotlib.rcParams['axes.linewidth'] = 1.25\n",
    "\n",
    "fig = plt.figure(constrained_layout=True, figsize = (8,4))\n",
    "gs = fig.add_gridspec(1,2, wspace=0.1, hspace=0.1)\n",
    "ax1 = fig.add_subplot(gs[1])\n",
    "ax2 = fig.add_subplot(gs[0])\n",
    "\n",
    "color1 = \"chocolate\"\n",
    "color2 = \"black\"\n",
    "color3 = \"purple\"\n",
    "\n",
    "colors = [color1, color2, color3]\n",
    "\n",
    "bp1 = ax1.boxplot(rocarea_ap_true_active_array, positions=[1], widths = 0.6, patch_artist=True)\n",
    "bp2 = ax1.boxplot(rocarea_na_true_active_array, positions=[2], widths = 0.6, patch_artist=True)\n",
    "bp3 = ax1.boxplot(rocarea_nona_true_active_array, positions=[3], widths = 0.6, patch_artist=True)\n",
    "bp_list = [bp1, bp2, bp3]\n",
    "\n",
    "for i in range(3):\n",
    "    plt.setp(bp_list[i]['boxes'], facecolor=colors[i])\n",
    "    plt.setp(bp_list[i]['boxes'], alpha=0.5)\n",
    "    plt.setp(bp_list[i][\"fliers\"], markeredgecolor=colors[i])\n",
    "    plt.setp(bp_list[i][\"boxes\"], color=colors[i])\n",
    "    plt.setp(bp_list[i][\"medians\"], color=colors[i])\n",
    "    for j in range(2):\n",
    "        plt.setp(bp_list[i]['whiskers'][j], color=colors[i])\n",
    "        plt.setp(bp_list[i]['caps'][j], color=colors[i])\n",
    "\n",
    "ax1.set_xticklabels([\"with APs\",\"$\\mathregular{v_{soma}}$\", \"$\\mathregular{v_{noNa}}$\"], rotation=0)\n",
    "ax1.set_ylabel(\"ROC AUC\")\n",
    "ax1.spines.right.set_visible(False)\n",
    "ax1.spines.top.set_visible(False)\n",
    "ax1.spines.bottom.set_visible(False)\n",
    "ax1.set_ylim(0,1)\n",
    "ax1.tick_params(axis=\"x\", length=0)\n",
    "ax1.set_yticks(np.arange(0,1.01,0.25))\n",
    "\n",
    "ins = ax1.inset_axes([0.2,0.15,0.7,0.6])\n",
    "bp1 = ins.boxplot(rocarea_ap_true_active_array, positions=[1], widths = 0.6, patch_artist=True)\n",
    "bp2 = ins.boxplot(rocarea_na_true_active_array, positions=[2], widths = 0.6, patch_artist=True)\n",
    "bp3 = ins.boxplot(rocarea_nona_true_active_array, positions=[3], widths = 0.6, patch_artist=True)\n",
    "bp_list = [bp1, bp2, bp3]\n",
    "\n",
    "for i in range(3):\n",
    "    plt.setp(bp_list[i]['boxes'], facecolor=colors[i])\n",
    "    plt.setp(bp_list[i]['boxes'], alpha=0.5)\n",
    "    plt.setp(bp_list[i][\"fliers\"], markeredgecolor=colors[i])\n",
    "    plt.setp(bp_list[i][\"boxes\"], color=colors[i])\n",
    "    plt.setp(bp_list[i][\"medians\"], color=colors[i])\n",
    "    for j in range(2):\n",
    "        plt.setp(bp_list[i]['whiskers'][j], color=colors[i])\n",
    "        plt.setp(bp_list[i]['caps'][j], color=colors[i])\n",
    "\n",
    "ins.spines.right.set_visible(False)\n",
    "ins.spines.top.set_visible(False)\n",
    "ins.spines.bottom.set_visible(False)\n",
    "ins.set_ylim(0.98,1)\n",
    "ins.tick_params(axis=\"x\", length=0)\n",
    "ins.set_xticks([])\n",
    "ins.set_yticks(np.arange(0.98,1.001,0.01))\n",
    "\n",
    "ax2.plot(fpr_ap_true_active, tpr_ap_true_active, linewidth=1.25, color=\"chocolate\")\n",
    "ax2.plot(fpr_na_true_active, tpr_na_true_active, linewidth=1.25, color=\"black\")\n",
    "ax2.plot(fpr_nona_true_active, tpr_nona_true_active, linewidth=1.25, color=\"purple\")\n",
    "ax2.spines.right.set_visible(False)\n",
    "ax2.spines.top.set_visible(False)\n",
    "ax2.set_ylim(0,1.01)\n",
    "ax2.set_xlim(0,1)\n",
    "ax2.set_xlabel(\"false alarm rate\")\n",
    "ax2.set_ylabel(\"hit rate\")\n",
    "ax2.set_xticks(np.arange(0,1.01,0.25))\n",
    "ax2.set_yticks(np.arange(0,1.01,0.25))\n",
    "\n",
    "ins = ax2.inset_axes([0.2,0.15,0.7,0.6])\n",
    "ins.plot(fpr_ap_true_active, tpr_ap_true_active, linewidth=1.25, color=\"chocolate\")\n",
    "ins.plot(fpr_na_true_active, tpr_na_true_active, linewidth=1.25, color=\"black\")\n",
    "ins.plot(fpr_nona_true_active, tpr_nona_true_active, linewidth=1.25, color=\"purple\")\n",
    "ins.spines.right.set_visible(False)\n",
    "ins.spines.top.set_visible(False)\n",
    "ins.set_ylim(0.95,1.001)\n",
    "ins.set_xlim(0,0.05)\n",
    "ins.set_xticks([0,0.05])\n",
    "ins.set_yticks([0.95,1])\n",
    "\n",
    "fig.tight_layout()\n",
    "#plt.show()\n",
    "#fig.savefig(\"/home/sklee/dendrite/fig_roc/fig_roc_raw.pdf\", bbox_inches=\"tight\", transparent=True)"
   ]
  },
  {
   "cell_type": "code",
   "execution_count": null,
   "id": "6f0a304f",
   "metadata": {},
   "outputs": [],
   "source": []
  }
 ],
 "metadata": {
  "kernelspec": {
   "display_name": "Python 3 (ipykernel)",
   "language": "python",
   "name": "python3"
  },
  "language_info": {
   "codemirror_mode": {
    "name": "ipython",
    "version": 3
   },
   "file_extension": ".py",
   "mimetype": "text/x-python",
   "name": "python",
   "nbconvert_exporter": "python",
   "pygments_lexer": "ipython3",
   "version": "3.8.8"
  }
 },
 "nbformat": 4,
 "nbformat_minor": 5
}
