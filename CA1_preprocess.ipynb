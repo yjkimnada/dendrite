{
 "cells": [
  {
   "cell_type": "code",
   "execution_count": 1,
   "metadata": {},
   "outputs": [],
   "source": [
    "import numpy as np\n",
    "import matplotlib.pyplot as plt\n",
    "from tqdm import tnrange\n",
    "from scipy.sparse import csr_matrix\n",
    "import scipy"
   ]
  },
  {
   "cell_type": "code",
   "execution_count": 2,
   "metadata": {},
   "outputs": [],
   "source": [
    "\n",
    "mode = \"CA1_rand_noNA\"\n",
    "stim = np.load(\"/media/hdd01/sklee/\"+mode+\"/data/stim_T10_Ne2000_gA0.6_tauA1_gN0.8_Ni200_gG0.7_gB1.2_noDendNa_Er1_Ir7.5_random_NR_rep651_stimseed1.npy\")"
   ]
  },
  {
   "cell_type": "code",
   "execution_count": 3,
   "metadata": {},
   "outputs": [
    {
     "name": "stderr",
     "output_type": "stream",
     "text": [
      "<ipython-input-3-dfad487210fc>:9: TqdmDeprecationWarning: Please use `tqdm.notebook.trange` instead of `tqdm.tnrange`\n",
      "  for i in tnrange(repeat):\n"
     ]
    },
    {
     "data": {
      "application/vnd.jupyter.widget-view+json": {
       "model_id": "1180e94f7adc4ff9a63c482d0cc331bb",
       "version_major": 2,
       "version_minor": 0
      },
      "text/plain": [
       "HBox(children=(HTML(value=''), FloatProgress(value=0.0, max=651.0), HTML(value='')))"
      ]
     },
     "metadata": {},
     "output_type": "display_data"
    },
    {
     "name": "stdout",
     "output_type": "stream",
     "text": [
      "\n"
     ]
    }
   ],
   "source": [
    "repeat = 651\n",
    "duration = 10000\n",
    "E_no = 2000\n",
    "I_no = 200\n",
    "\n",
    "e_sparse_list = []\n",
    "i_sparse_list = []\n",
    "\n",
    "for i in tnrange(repeat):\n",
    "    bins = np.arange(0,duration+0.1,0.2)\n",
    "    \n",
    "    part_e_neural = np.zeros((duration*5, E_no))\n",
    "    part_i_neural = np.zeros((duration*5, I_no))\n",
    "    \n",
    "    stim_e = stim[np.where(stim[:,0] == i+1)[0]]\n",
    "    stim_i = stim[np.where(stim[:,0] == -i-1)[0]]\n",
    "    \n",
    "    e_counts, _ = np.histogram(stim_e[:,2], bins)\n",
    "    i_counts, _ = np.histogram(stim_i[:,2], bins)\n",
    "    \n",
    "    e_count = 0\n",
    "    for j in range(e_counts.shape[0]):\n",
    "        e_bin = e_counts[j]\n",
    "        for k in range(e_bin):\n",
    "            e_syn = int(stim_e[e_count,1])\n",
    "            part_e_neural[j, e_syn] += 1\n",
    "            e_count += 1\n",
    "           \n",
    "    i_count=0\n",
    "    for j in range(i_counts.shape[0]):\n",
    "        i_bin = i_counts[j]\n",
    "        for k in range(i_bin):\n",
    "            i_syn = int(stim_i[i_count,1])\n",
    "            part_i_neural[j, i_syn] += 1\n",
    "            i_count += 1\n",
    "            \n",
    "    sparse_part_e_neural = csr_matrix(part_e_neural)\n",
    "    sparse_part_i_neural = csr_matrix(part_i_neural)\n",
    "    \n",
    "    #print(i, csr_matrix.sum(sparse_part_e_neural))\n",
    "    \n",
    "    e_sparse_list.append(sparse_part_e_neural)\n",
    "    i_sparse_list.append(sparse_part_i_neural)\n",
    "    \n",
    "full_e = scipy.sparse.vstack(e_sparse_list)\n",
    "full_i = scipy.sparse.vstack(i_sparse_list)\n"
   ]
  },
  {
   "cell_type": "code",
   "execution_count": 5,
   "metadata": {},
   "outputs": [],
   "source": [
    "scipy.sparse.save_npz(\"/media/hdd01/sklee/\"+mode+\"/data/Espikes_neural.npz\", full_e)\n",
    "scipy.sparse.save_npz(\"/media/hdd01/sklee/\"+mode+\"/data/Ispikes_neural.npz\", full_i)"
   ]
  },
  {
   "cell_type": "code",
   "execution_count": null,
   "metadata": {},
   "outputs": [],
   "source": []
  },
  {
   "cell_type": "code",
   "execution_count": 2,
   "metadata": {},
   "outputs": [],
   "source": [
    "mode = \"CA1_rand\"\n",
    "\n",
    "e_locs = np.load(\"/media/hdd01/sklee/\"+mode+\"/data/Elocs_T10_Ne2000_gA0.6_tauA1_gN0.8_Ni200_gG0.7_gB1.2_Er1_Ir7.5_random_NR_rep651_stimseed1.npy\")\n",
    "i_locs = np.load(\"/media/hdd01/sklee/\"+mode+\"/data/Ilocs_T10_Ne2000_gA0.6_tauA1_gN0.8_Ni200_gG0.7_gB1.2_Er1_Ir7.5_random_NR_rep651_stimseed1.npy\")\n",
    "\n",
    "#syn_locs = np.load(\"/media/hdd01/sklee/CA1_clust25-20/data/synlocs_T10_Ne2000_gA0.6_tauA1_gN0.8_Ni200_gG0.1_gB0.1_Er0.5_Ir7.4_random_NR_rep16_stimseed1.npy\")\n",
    "#e_locs = syn_locs[:2000]\n",
    "#i_locs = syn_locs[2000:]\n",
    "\n",
    "e_no = e_locs.shape[0]\n",
    "i_no = i_locs.shape[0]"
   ]
  },
  {
   "cell_type": "code",
   "execution_count": 10,
   "metadata": {
    "scrolled": false
   },
   "outputs": [
    {
     "name": "stdout",
     "output_type": "stream",
     "text": [
      "0.0\n",
      "152.0\n",
      "-1.0\n",
      "152.0\n"
     ]
    }
   ],
   "source": [
    "print(np.min(e_locs[:,0]))\n",
    "print(np.max(e_locs[:,0]))\n",
    "print(np.min(i_locs[:,0]))\n",
    "print(np.max(i_locs[:,0]))\n"
   ]
  },
  {
   "cell_type": "code",
   "execution_count": 11,
   "metadata": {},
   "outputs": [],
   "source": [
    "C_syn_e = np.zeros((6,2000))\n",
    "C_syn_i = np.zeros((6,200))\n",
    "\n",
    "for i in range(2000):\n",
    "    dend = e_locs[i,0]\n",
    "    if dend <= 15:\n",
    "        C_syn_e[1,i] = 1\n",
    "    elif (dend >= 16) & (dend <= 46):\n",
    "        C_syn_e[2,i] = 1\n",
    "    elif (dend >= 47) & (dend <= 61):\n",
    "        C_syn_e[3,i] = 1\n",
    "    elif (dend >= 62) & (dend <= 74):\n",
    "        C_syn_e[4,i] = 1\n",
    "    elif dend >= 75:\n",
    "        C_syn_e[5,i] = 1\n",
    "\n",
    "for i in range(200):\n",
    "    dend = i_locs[i,0]\n",
    "        \n",
    "    if dend < 0:\n",
    "        C_syn_i[0,i] = 1\n",
    "    elif (dend > 0) & (dend <= 15):\n",
    "        C_syn_i[1,i] = 1\n",
    "    elif (dend >= 16) & (dend <= 46):\n",
    "        C_syn_i[2,i] = 1\n",
    "    elif (dend >= 47) & (dend <= 61):\n",
    "        C_syn_i[3,i] = 1\n",
    "    elif (dend >= 62) & (dend <= 74):\n",
    "        C_syn_i[4,i] = 1\n",
    "    elif dend >= 75:\n",
    "        C_syn_i[5,i] = 1\n",
    "    "
   ]
  },
  {
   "cell_type": "code",
   "execution_count": 17,
   "metadata": {},
   "outputs": [],
   "source": [
    "np.save(\"/media/hdd01/sklee/\"+mode+\"/data/handsub\"+str(6)+\"_C_syn_e.npy\", C_syn_e)\n",
    "np.save(\"/media/hdd01/sklee/\"+mode+\"/data/handsub\"+str(6)+\"_C_syn_i.npy\", C_syn_i)"
   ]
  },
  {
   "cell_type": "code",
   "execution_count": null,
   "metadata": {},
   "outputs": [],
   "source": []
  },
  {
   "cell_type": "code",
   "execution_count": null,
   "metadata": {},
   "outputs": [],
   "source": [
    "sub_no = 11\n",
    "\n",
    "if sub_no == 1:\n",
    "    C_syn_e = np.ones((1,2000))\n",
    "    C_syn_i = np.ones((1,200))\n",
    "    C_den = np.ones((1,1))\n",
    "\n",
    "\n",
    "elif sub_no == 6:\n",
    "    C_syn_e = np.zeros((6,2000))\n",
    "    C_syn_i = np.zeros((6,200))\n",
    "\n",
    "    for i in range(2000):\n",
    "        dend = e_locs[i,0]\n",
    "        if dend <= 15:\n",
    "            C_syn_e[1,i] = 1\n",
    "        elif (dend >= 16) & (dend <= 46):\n",
    "            C_syn_e[2,i] = 1\n",
    "        elif (dend >= 47) & (dend <= 61):\n",
    "            C_syn_e[3,i] = 1\n",
    "        elif (dend >= 62) & (dend <= 74):\n",
    "            C_syn_e[4,i] = 1\n",
    "        elif dend >= 75:\n",
    "            C_syn_e[5,i] = 1\n",
    "\n",
    "    for i in range(200):\n",
    "        dend = i_locs[i,0]\n",
    "        \n",
    "        if dend < 0:\n",
    "            C_syn_i[0,i] = 1\n",
    "        elif (dend > 0) & (dend <= 15):\n",
    "            C_syn_i[1,i] = 1\n",
    "        elif (dend >= 16) & (dend <= 46):\n",
    "            C_syn_i[2,i] = 1\n",
    "        elif (dend >= 47) & (dend <= 61):\n",
    "            C_syn_i[3,i] = 1\n",
    "        elif (dend >= 62) & (dend <= 74):\n",
    "            C_syn_i[4,i] = 1\n",
    "        elif dend >= 75:\n",
    "            C_syn_i[5,i] = 1\n",
    "\n",
    "    C_den = np.zeros((6,6))\n",
    "    C_den[0,1:] = 1\n",
    "    \n",
    "elif sub_no == 11:\n",
    "    C_syn_e = np.zeros((11,2000))\n",
    "    C_syn_i = np.zeros((11,200))\n",
    "    \n",
    "    for i in range(2000):\n",
    "        dend = e_locs[i,0]\n",
    "        if dend <= 15:\n",
    "            C_syn_e[1,i] = 1\n",
    "        elif (dend >= 16) & (dend <= 46):\n",
    "            C_syn_e[2,i] = 1\n",
    "        elif (dend >= 47) & (dend <= 61):\n",
    "            C_syn_e[3,i] = 1\n",
    "        elif (dend >= 62) & (dend <= 74):\n",
    "            C_syn_e[4,i] = 1\n",
    "        elif (dend >= 75) & (dend <= 89):\n",
    "            C_syn_e[5,i] = 1\n",
    "        elif (dend >= 90) & (dend <= 103):\n",
    "            C_syn_e[6,i] = 1\n",
    "        elif (dend >= 104) & (dend <= 114):\n",
    "            C_syn_e[7,i] = 1\n",
    "        elif (dend >= 115) & (dend <= 127):\n",
    "            C_syn_e[8,i] = 1\n",
    "        elif (dend >= 128) & (dend <= 140):\n",
    "            C_syn_e[9,i] = 1\n",
    "        elif dend >= 141:\n",
    "            C_syn_e[10,i] = 1\n",
    "            \n",
    "    for i in range(200):\n",
    "        dend = i_locs[i,0]\n",
    "        if dend < 0:\n",
    "            C_syn_i[0,i] = 1\n",
    "        elif (dend > 0) & (dend <= 15):\n",
    "            C_syn_i[1,i] = 1\n",
    "        elif (dend >= 16) & (dend <= 46):\n",
    "            C_syn_i[2,i] = 1\n",
    "        elif (dend >= 47) & (dend <= 61):\n",
    "            C_syn_i[3,i] = 1\n",
    "        elif (dend >= 62) & (dend <= 74):\n",
    "            C_syn_i[4,i] = 1\n",
    "        elif (dend >= 75) & (dend <= 89):\n",
    "            C_syn_i[5,i] = 1\n",
    "        elif (dend >= 90) & (dend <= 103):\n",
    "            C_syn_i[6,i] = 1\n",
    "        elif (dend >= 104) & (dend <= 114):\n",
    "            C_syn_i[7,i] = 1\n",
    "        elif (dend >= 115) & (dend <= 127):\n",
    "            C_syn_i[8,i] = 1\n",
    "        elif (dend >= 128) & (dend <= 140):\n",
    "            C_syn_i[9,i] = 1\n",
    "        elif dend >= 141:\n",
    "            C_syn_i[10,i] = 1\n",
    "    \n",
    "    C_den = np.zeros((11,11))\n",
    "    C_den[0,1:6] = 1\n",
    "    C_den[5,6:] = 1\n",
    "    \n",
    "print(np.var(np.sum(C_syn_e, 0)))\n",
    "print(np.var(np.sum(C_syn_i, 0)))\n",
    "print(np.sum(C_syn_e))\n",
    "print(np.sum(C_syn_i))\n",
    "print(C_den)"
   ]
  },
  {
   "cell_type": "code",
   "execution_count": null,
   "metadata": {},
   "outputs": [],
   "source": [
    "np.save(\"/media/hdd01/sklee/\"+mode+\"/data/handsub\"+str(sub_no)+\"_C_syn_e.npy\", C_syn_e)\n",
    "np.save(\"/media/hdd01/sklee/\"+mode+\"/data/handsub\"+str(sub_no)+\"_C_syn_i.npy\", C_syn_i)\n",
    "np.save(\"/media/hdd01/sklee/\"+mode+\"/data/handsub\"+str(sub_no)+\"_C_den.npy\", C_den)"
   ]
  },
  {
   "cell_type": "code",
   "execution_count": null,
   "metadata": {},
   "outputs": [],
   "source": []
  },
  {
   "cell_type": "code",
   "execution_count": null,
   "metadata": {},
   "outputs": [],
   "source": [
    "mode = \"CA1_clust4-60\"\n",
    "\n",
    "v = np.load(\"/media/hdd01/sklee/CA1_clust4-60/data/V_diff.npy\")\n",
    "dv = np.diff(v)\n",
    "\n",
    "high_dv = np.zeros((dv.shape[0]-1))\n",
    "\n",
    "for i in tnrange(dv.shape[0] - 1):\n",
    "    if dv[i] >= 0.04:\n",
    "        neg_count = 0\n",
    "        for j in range(10):\n",
    "            if dv[i+j] <= -0.015:\n",
    "                neg_count += 1\n",
    "        if neg_count > 0:\n",
    "            high_dv[i] += 1\n",
    "        \n",
    "print(np.where(high_dv == 1)[0].size)\n",
    "\n",
    "high_dv_diff = np.diff(high_dv)\n",
    "unique_high_dv = np.zeros((high_dv_diff.shape[0]))\n",
    "for i in range(high_dv_diff.shape[0]):\n",
    "    if high_dv_diff[i] == 1:\n",
    "        unique_high_dv[i-3] += 1\n",
    "print(np.sum(unique_high_dv))"
   ]
  },
  {
   "cell_type": "code",
   "execution_count": null,
   "metadata": {},
   "outputs": [],
   "source": [
    "np.save(\"/media/hdd01/sklee/\"+mode+\"/data/spk_loc.npy\", unique_high_dv)"
   ]
  },
  {
   "cell_type": "code",
   "execution_count": null,
   "metadata": {},
   "outputs": [],
   "source": []
  },
  {
   "cell_type": "code",
   "execution_count": 11,
   "metadata": {},
   "outputs": [],
   "source": [
    "yes = np.load(\"/media/hdd01/sklee/CA1_rand/data/vdata_T10_Ne2000_gA0.6_tauA1_gN0.8_Ni200_gG0.7_gB1.2_Er1_Ir7.5_random_NR_rep651_stimseed1.npy\")[:,:50000].flatten()\n",
    "no = np.load(\"/media/hdd01/sklee/CA1_rand_noNA/data/vdata_T10_Ne2000_gA0.6_tauA1_gN0.8_Ni200_gG0.7_gB1.2_noDendNa_Er1_Ir7.5_random_NR_rep651_stimseed1.npy\")[:,:50000].flatten()\n",
    "diff = yes-no"
   ]
  },
  {
   "cell_type": "code",
   "execution_count": 12,
   "metadata": {},
   "outputs": [
    {
     "name": "stdout",
     "output_type": "stream",
     "text": [
      "(32550000,)\n"
     ]
    }
   ],
   "source": [
    "print(yes.shape)"
   ]
  },
  {
   "cell_type": "code",
   "execution_count": 13,
   "metadata": {},
   "outputs": [],
   "source": [
    "np.save(\"/media/hdd01/sklee/CA1_rand/data/V_diff.npy\", diff)"
   ]
  },
  {
   "cell_type": "code",
   "execution_count": null,
   "metadata": {},
   "outputs": [],
   "source": []
  }
 ],
 "metadata": {
  "kernelspec": {
   "display_name": "Python 3",
   "language": "python",
   "name": "python3"
  },
  "language_info": {
   "codemirror_mode": {
    "name": "ipython",
    "version": 3
   },
   "file_extension": ".py",
   "mimetype": "text/x-python",
   "name": "python",
   "nbconvert_exporter": "python",
   "pygments_lexer": "ipython3",
   "version": "3.8.5"
  }
 },
 "nbformat": 4,
 "nbformat_minor": 4
}
