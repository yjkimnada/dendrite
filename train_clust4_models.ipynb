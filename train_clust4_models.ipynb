{
 "cells": [
  {
   "cell_type": "code",
   "execution_count": 1,
   "metadata": {},
   "outputs": [],
   "source": [
    "import numpy as np\n",
    "import torch \n",
    "import torch.nn as nn\n",
    "from tqdm import tnrange\n",
    "import torch.optim as optim\n",
    "import torch.nn.functional as F\n",
    "from sklearn import metrics\n",
    "import matplotlib.pyplot as plt\n",
    "from sklearn.metrics import explained_variance_score\n",
    "import scipy\n",
    "import time\n",
    "\n",
    "from models.sub_clust_cos_glm import Sub_Clust_Cos_GLM\n",
    "from models.clust_gru import Clust_GRU"
   ]
  },
  {
   "cell_type": "markdown",
   "metadata": {},
   "source": [
    "# Hyperparameters"
   ]
  },
  {
   "cell_type": "code",
   "execution_count": 2,
   "metadata": {},
   "outputs": [],
   "source": [
    "base_dir = \"/media/hdd01/sklee/\"\n",
    "experiment = \"clust4-60\"\n",
    "cell_type = \"CA1\"\n",
    "E_neural_file = \"Espikes_neural.npz\"\n",
    "I_neural_file = \"Ispikes_neural.npz\"\n",
    "#V_file = \"vdata_T10_Ne2000_gA0.6_tauA1_gN0.8_Ni200_gG0.1_gB0.1_noDendNa_Er0.5_Ir7.4_random_NR_rep1000_stimseed1.npy\"\n",
    "V_file = \"V_diff.npy\"\n",
    "\n",
    "E_neural = scipy.sparse.load_npz(base_dir+cell_type+\"_\"+experiment+\"/data/\"+E_neural_file)\n",
    "I_neural = scipy.sparse.load_npz(base_dir+cell_type+\"_\"+experiment+\"/data/\"+I_neural_file)\n",
    "#V = np.load(base_dir+cell_type+\"_\"+experiment+\"/data/\"+V_file)[:,:50000].flatten()\n",
    "V = np.load(base_dir+cell_type+\"_\"+experiment+\"/data/\"+V_file)\n",
    "V = torch.from_numpy(V)\n",
    "#V -= torch.mean(V)\n",
    "\n",
    "eloc_file = \"Elocs_T10_Ne2000_gA0.6_tauA1_gN0.8_Ni200_gG0.1_gB0.1_Er0.5_Ir7.4_random_NR_rep1000_stimseed1.npy\"\n",
    "iloc_file = \"Ilocs_T10_Ne2000_gA0.6_tauA1_gN0.8_Ni200_gG0.1_gB0.1_Er0.5_Ir7.4_random_NR_rep1000_stimseed1.npy\"\n",
    "eloc = np.load(base_dir+cell_type+\"_\"+experiment+\"/data/\"+eloc_file)\n",
    "iloc = np.load(base_dir+cell_type+\"_\"+experiment+\"/data/\"+iloc_file)\n",
    "\n",
    "den_idx = np.unique(eloc[880:1120,0])\n",
    "e_idx = np.where(np.isin(eloc[:,0], den_idx) == True)[0]\n",
    "i_idx = np.where(np.isin(iloc[:,0], den_idx) == True)[0]\n",
    "e_idx = torch.from_numpy(e_idx)\n",
    "i_idx = torch.from_numpy(i_idx)\n",
    "\n",
    "#E_scale = np.load(\"/media/hdd01/sklee/CA1_clust4-60/clust/gru_clust_s1_h20_pretrain.npz\")[\"E_scale\"]\n",
    "#E_scale = torch.from_numpy(E_scale)\n",
    "#I_scale = np.load(\"/media/hdd01/sklee/CA1_clust4-60/clust/gru_clust_s1_h20_pretrain.npz\")[\"I_scale\"]\n",
    "#I_scale = torch.from_numpy(I_scale)\n",
    "\n",
    "#E_scale = np.load(\"/media/hdd01/sklee/CA1_clust4-60/clust/pretrain_glm_s5_h2.npz\")[\"E_scale\"]\n",
    "#C_syn_e_raw = np.load(\"/media/hdd01/sklee/CA1_clust4-60/clust/pretrain_glm_s5_h2.npz\")[\"C_syn_e_raw\"]\n",
    "#E_scale = torch.from_numpy(E_scale)\n",
    "#C_syn_e_raw = torch.from_numpy(C_syn_e_raw)"
   ]
  },
  {
   "cell_type": "code",
   "execution_count": 3,
   "metadata": {},
   "outputs": [],
   "source": [
    "T_train = 980 * 1000 * 50\n",
    "T_test = 1 * 1000 * 50\n",
    "H_no = 2\n",
    "sub_no = 5\n",
    "#E_no = 2000\n",
    "#I_no = 200\n",
    "E_no = 299\n",
    "I_no = 8\n",
    "T_no = 500\n",
    "device = torch.device(\"cuda\")\n",
    "\n",
    "increment = 20\n",
    "batch_length = 50000\n",
    "batch_size = 5\n",
    "iter_no = 9800*2\n",
    "epoch_no = iter_no*batch_length*batch_size//T_train "
   ]
  },
  {
   "cell_type": "markdown",
   "metadata": {},
   "source": [
    "# Preprocess"
   ]
  },
  {
   "cell_type": "code",
   "execution_count": 4,
   "metadata": {},
   "outputs": [],
   "source": [
    "V_train = V[:T_train].float()\n",
    "V_test = V[-50000:].to(device).float()\n",
    "\n",
    "test_E_neural = E_neural[-50000:].toarray()\n",
    "test_I_neural = I_neural[-50000:].toarray()\n",
    "train_E_neural = E_neural[:T_train]\n",
    "train_I_neural = I_neural[:T_train]\n",
    "\n",
    "test_E_neural = torch.from_numpy(test_E_neural).float().to(device)\n",
    "test_I_neural = torch.from_numpy(test_I_neural).float().to(device)\n",
    "\n",
    "train_idx = np.empty((epoch_no, T_train//batch_length//batch_size))\n",
    "for i in range(epoch_no):\n",
    "    part_idx = np.arange(0, T_train, batch_length*batch_size)\n",
    "    np.random.shuffle(part_idx)\n",
    "    train_idx[i] = part_idx\n",
    "train_idx = train_idx.flatten()\n",
    "train_idx = torch.from_numpy(train_idx)"
   ]
  },
  {
   "cell_type": "markdown",
   "metadata": {},
   "source": [
    "# Train"
   ]
  },
  {
   "cell_type": "code",
   "execution_count": 5,
   "metadata": {},
   "outputs": [
    {
     "name": "stdout",
     "output_type": "stream",
     "text": [
      "2343\n",
      "1535\n",
      "808\n",
      "(100,)\n"
     ]
    }
   ],
   "source": [
    "model = Sub_Clust_Cos_GLM(sub_no, E_no, I_no, T_no, H_no, device)\n",
    "#model = Clust_GRU(sub_no, E_no, I_no, H_no, device)\n",
    "\n",
    "#full_E_scale = torch.ones(E_no).to(device) * (-3)\n",
    "#full_E_scale[e_idx] = E_scale.to(device)\n",
    "#full_C_syn_e_raw = torch.randn(sub_no, E_no).to(device) * 0.01\n",
    "#full_C_syn_e_raw[:,e_idx] = C_syn_e_raw.to(device)\n",
    "#model.E_scale = nn.Parameter(full_E_scale)\n",
    "#model.C_syn_e_raw = nn.Parameter(full_C_syn_e_raw)\n",
    "\n",
    "syn_params = []\n",
    "rest_params = []\n",
    "\n",
    "for name, params in model.named_parameters():\n",
    "    if (name == \"C_syn_e_raw\") or (name == \"C_syn_i_raw\"):\n",
    "        syn_params.append(params)\n",
    "    else:\n",
    "        rest_params.append(params)\n",
    "\n",
    "# GLM\n",
    "optimizer = torch.optim.Adam(rest_params, lr = 0.005/(1.03**100))\n",
    "syn_optimizer = torch.optim.Adam(syn_params, lr = 0.005)\n",
    "milestones = np.arange(increment-1, increment*100, increment)\n",
    "scheduler = torch.optim.lr_scheduler.MultiStepLR(optimizer, milestones=milestones, gamma=1.03)\n",
    "syn_scheduler = torch.optim.lr_scheduler.StepLR(syn_optimizer, step_size=increment, gamma=0.933)\n",
    "\n",
    "# GRU\n",
    "#optimizer = torch.optim.Adam(rest_params, lr = 0.005)\n",
    "#syn_optimizer = torch.optim.Adam(syn_params, lr = 0.001)\n",
    "#milestones = np.arange(increment-1, increment*100, increment)\n",
    "#scheduler = torch.optim.lr_scheduler.MultiStepLR(optimizer, milestones=milestones, gamma=1)\n",
    "#syn_scheduler = torch.optim.lr_scheduler.StepLR(syn_optimizer, step_size=increment, gamma=1)\n",
    "\n",
    "model.to(device).float()\n",
    "print(sum(p.numel() for p in model.parameters() if p.requires_grad))\n",
    "\n",
    "print(sum(p.numel() for p in syn_params if p.requires_grad))\n",
    "print(sum(p.numel() for p in rest_params if p.requires_grad))\n",
    "print(milestones.shape)"
   ]
  },
  {
   "cell_type": "code",
   "execution_count": null,
   "metadata": {
    "scrolled": false
   },
   "outputs": [
    {
     "data": {
      "application/vnd.jupyter.widget-view+json": {
       "model_id": "7552e46c128b47c7a72a2b0522bbb9bd",
       "version_major": 2,
       "version_minor": 0
      },
      "text/plain": [
       "  0%|          | 0/19600 [00:00<?, ?it/s]"
      ]
     },
     "metadata": {},
     "output_type": "display_data"
    },
    {
     "name": "stdout",
     "output_type": "stream",
     "text": [
      "0 -0.077228 5.450348\n",
      "2.0 2.0 4.0 2.0\n",
      "24 19 25 23\n",
      "------------------------\n",
      "49 0.142023 1.651985\n",
      "2.0 4.0 3.0 4.0\n",
      "34 50 32 35\n",
      "------------------------\n",
      "99 0.161489 1.675765\n",
      "4.0 4.0 1.0 0.0\n",
      "45 57 54 51\n",
      "------------------------\n",
      "149 0.164311 1.486855\n",
      "4.0 4.0 1.0 0.0\n",
      "45 57 50 43\n",
      "------------------------\n",
      "199 0.15999 1.312195\n",
      "4.0 4.0 1.0 0.0\n",
      "46 57 36 43\n",
      "------------------------\n",
      "249 0.146458 0.995171\n",
      "4.0 4.0 1.0 0.0\n",
      "45 57 32 43\n",
      "------------------------\n",
      "299 0.141381 0.865808\n",
      "4.0 4.0 1.0 0.0\n",
      "45 57 34 42\n",
      "------------------------\n",
      "349 0.149034 0.703872\n",
      "4.0 4.0 1.0 0.0\n",
      "45 57 34 39\n",
      "------------------------\n",
      "399 0.149304 0.615205\n",
      "4.0 4.0 0.0 0.0\n",
      "45 57 32 37\n",
      "------------------------\n",
      "449 0.165375 0.471919\n",
      "4.0 4.0 0.0 0.0\n",
      "44 57 31 35\n",
      "------------------------\n",
      "499 0.177269 0.428576\n",
      "4.0 4.0 1.0 0.0\n",
      "43 57 29 34\n",
      "------------------------\n",
      "549 0.183729 0.303026\n",
      "4.0 4.0 0.0 0.0\n",
      "44 57 30 34\n",
      "------------------------\n",
      "599 0.205484 0.202118\n",
      "4.0 4.0 0.0 0.0\n",
      "43 57 29 33\n",
      "------------------------\n",
      "649 0.222543 0.151314\n",
      "4.0 4.0 0.0 0.0\n",
      "43 57 29 33\n",
      "------------------------\n",
      "699 0.234371 0.12528\n",
      "4.0 4.0 1.0 0.0\n",
      "41 57 32 32\n",
      "------------------------\n",
      "749 0.227084 0.091145\n",
      "4.0 4.0 1.0 0.0\n",
      "41 57 33 32\n",
      "------------------------\n",
      "799 0.227356 0.07296\n",
      "4.0 4.0 1.0 0.0\n",
      "41 57 37 31\n",
      "------------------------\n",
      "849 0.231746 0.056307\n",
      "4.0 4.0 1.0 0.0\n",
      "41 59 37 32\n",
      "------------------------\n",
      "899 0.231702 0.045161\n",
      "4.0 4.0 1.0 2.0\n",
      "38 59 38 31\n",
      "------------------------\n",
      "949 0.230519 0.033198\n",
      "4.0 4.0 1.0 2.0\n",
      "37 59 40 31\n",
      "------------------------\n",
      "999 0.237956 0.026996\n",
      "4.0 4.0 1.0 2.0\n",
      "33 59 40 31\n",
      "------------------------\n",
      "1049 0.239546 0.018286\n",
      "4.0 4.0 1.0 2.0\n",
      "31 59 40 33\n",
      "------------------------\n",
      "1099 0.243341 0.016473\n",
      "3.0 4.0 1.0 2.0\n",
      "29 59 42 33\n",
      "------------------------\n",
      "1149 0.246431 0.011284\n",
      "3.0 4.0 1.0 2.0\n",
      "31 59 42 34\n",
      "------------------------\n",
      "1199 0.247171 0.008385\n",
      "3.0 4.0 1.0 2.0\n",
      "32 59 43 34\n",
      "------------------------\n",
      "1249 0.248396 0.006666\n",
      "3.0 4.0 1.0 2.0\n",
      "34 59 43 35\n",
      "------------------------\n",
      "1299 0.251071 0.004651\n",
      "3.0 4.0 1.0 2.0\n",
      "36 59 43 36\n",
      "------------------------\n",
      "1349 0.267918 0.003877\n",
      "3.0 4.0 1.0 2.0\n",
      "37 60 43 36\n",
      "------------------------\n",
      "1399 0.278513 0.002694\n",
      "3.0 4.0 1.0 2.0\n",
      "37 60 44 36\n",
      "------------------------\n",
      "1449 0.292097 0.002524\n",
      "3.0 4.0 1.0 2.0\n",
      "37 60 44 36\n",
      "------------------------\n",
      "1499 0.298002 0.00135\n",
      "3.0 4.0 1.0 2.0\n",
      "37 60 44 39\n",
      "------------------------\n",
      "1549 0.298152 0.001322\n",
      "3.0 4.0 1.0 2.0\n",
      "39 60 44 41\n",
      "------------------------\n",
      "1599 0.31764 0.000726\n",
      "3.0 4.0 1.0 2.0\n",
      "39 60 44 41\n",
      "------------------------\n",
      "1649 0.321305 0.000416\n",
      "3.0 4.0 1.0 2.0\n",
      "39 60 44 41\n",
      "------------------------\n"
     ]
    }
   ],
   "source": [
    "import sys\n",
    "if not sys.warnoptions:\n",
    "    import warnings\n",
    "    warnings.simplefilter(\"ignore\")\n",
    "\n",
    "score_list = []\n",
    "temp_list = np.logspace(0,-3,100)\n",
    "temp_count = 0\n",
    "\n",
    "\"\"\"\n",
    "gamma = 1\n",
    "clust_no = 4\n",
    "clust_size = 60\n",
    "clust_prob = 0.2499\n",
    "rest_prob = (1-clust_no*clust_prob)/(sub_no-clust_no)\n",
    "reg_ref = torch.ones(sub_no).to(device) * rest_prob\n",
    "clust_idx = np.random.choice(np.arange(sub_no),clust_no,replace=False)\n",
    "reg_ref[clust_idx] = clust_prob\n",
    "print(reg_ref)\n",
    "kl_criterion = nn.KLDivLoss(reduction=\"mean\")\n",
    "\"\"\"\n",
    "C_syn_e_raw = model.C_syn_e_raw.detach().clone()\n",
    "\n",
    "\n",
    "for i in tnrange(iter_no):\n",
    "    model.train()\n",
    "    optimizer.zero_grad()\n",
    "    syn_optimizer.zero_grad()\n",
    "           \n",
    "    with torch.no_grad():\n",
    "        model.C_syn_e_raw.copy_(model.C_syn_e_raw - torch.mean(model.C_syn_e_raw, 0).reshape(1,-1))\n",
    "        model.C_syn_i_raw.copy_(model.C_syn_i_raw - torch.mean(model.C_syn_i_raw, 0).reshape(1,-1))\n",
    "    \n",
    "    if (temp_count < 99) & (i%increment == increment-1):\n",
    "        temp_count += 1\n",
    "    temp = temp_list[temp_count]\n",
    "    #if (i%(increment//2) == (increment//2)-1):\n",
    "        #gamma *= 1\n",
    "    \n",
    "    batch_idx = train_idx[i].long()\n",
    "    batch_E_neural = train_E_neural[batch_idx : batch_idx+batch_length*batch_size].toarray().reshape(batch_size, batch_length, -1)\n",
    "    batch_I_neural = train_I_neural[batch_idx : batch_idx+batch_length*batch_size].toarray().reshape(batch_size, batch_length, -1)\n",
    "    batch_E_neural = torch.from_numpy(batch_E_neural).float().to(device)\n",
    "    batch_I_neural = torch.from_numpy(batch_I_neural).float().to(device)\n",
    "    batch_V = V_train[batch_idx : batch_idx+batch_length*batch_size].reshape(batch_size, -1).to(device)\n",
    "    \n",
    "    #V_pred, _, C_syn_e, C_syn_i  = model(batch_E_neural, batch_I_neural, temp, True)\n",
    "    V_pred, _, C_syn_e, C_syn_i  = model(batch_E_neural[:,5000:35000,e_idx], batch_I_neural[:,5000:35000,i_idx], temp, True)\n",
    "    \n",
    "    #C_syn_e_sum = torch.sum(C_syn_e[:,29:269], 1) / torch.sum(C_syn_e[:,29:269])\n",
    "    #reg_loss = kl_criterion(torch.log(C_syn_e_sum) , reg_ref)\n",
    "    \n",
    "    loss = torch.mean((V_pred - batch_V[:,5000:35000])**2)\n",
    "    #loss = torch.mean((V_pred - batch_V[:,:])**2)\n",
    "    \n",
    "    diff_C_syn = torch.sum(torch.abs(model.C_syn_e_raw - C_syn_e_raw))\n",
    "    C_syn_e_raw = model.C_syn_e_raw.detach().clone()\n",
    "    \n",
    "    loss.backward()\n",
    "    optimizer.step()\n",
    "    scheduler.step()\n",
    "    syn_optimizer.step()\n",
    "    syn_scheduler.step()\n",
    "    \n",
    "    if (i%50 == 49) or (i == 0):\n",
    "        model.eval()\n",
    "        #test_V_pred, test_sub_out, test_C_syn_e, test_C_syn_i = model(test_E_neural.unsqueeze(0), test_I_neural.unsqueeze(0), 0.0001, True)\n",
    "        test_V_pred, test_sub_out, test_C_syn_e, test_C_syn_i = model(test_E_neural.unsqueeze(0)[:,5000:35000,e_idx], test_I_neural.unsqueeze(0)[:,5000:35000,i_idx], 0.0001, True)\n",
    "        test_V_pred = test_V_pred.flatten()\n",
    "                 \n",
    "        test_score = explained_variance_score(V_test[5000:35000].cpu().detach().numpy(), test_V_pred.cpu().detach().numpy())\n",
    "        test_mse = torch.mean((V_test[5000:35000]-test_V_pred)**2).item()\n",
    "        #test_score = explained_variance_score(V_test[:].cpu().detach().numpy(), test_V_pred.cpu().detach().numpy())\n",
    "        #test_mse = torch.mean((V_test[:]-test_V_pred)**2).item()\n",
    "        score_list.append(test_score)\n",
    "        \n",
    "        #C_syn_idx = torch.argmax(test_C_syn_e[:,880:1120], 0).float()\n",
    "        C_syn_idx = torch.argmax(test_C_syn_e[:,29:269], 0).float()\n",
    "        \n",
    "        mode1, mode1_idx = torch.mode(C_syn_idx[:60])\n",
    "        mode2, mode2_idx = torch.mode(C_syn_idx[60:120])\n",
    "        mode3, mode3_idx = torch.mode(C_syn_idx[120:180])\n",
    "        mode4, mode4_idx = torch.mode(C_syn_idx[180:240])\n",
    "        mode1_no = torch.numel(torch.where(C_syn_idx[:60] == mode1)[0])\n",
    "        mode2_no = torch.numel(torch.where(C_syn_idx[60:120] == mode2)[0])\n",
    "        mode3_no = torch.numel(torch.where(C_syn_idx[120:180] == mode3)[0])\n",
    "        mode4_no = torch.numel(torch.where(C_syn_idx[180:240] == mode4)[0])\n",
    "                        \n",
    "        print(i, np.round(test_score,6), np.round(diff_C_syn.item(), 6))\n",
    "        print(mode1.item(), mode2.item(), mode3.item(), mode4.item())\n",
    "        print(mode1_no, mode2_no, mode3_no, mode4_no)\n",
    "        print(\"------------------------\")"
   ]
  },
  {
   "cell_type": "code",
   "execution_count": null,
   "metadata": {},
   "outputs": [],
   "source": [
    "print(test_C_syn_e.shape)\n",
    "print(test_C_syn_i.shape)\n",
    "\n",
    "#np.save(\"/media/hdd01/sklee/CA1_clust4-60/glm_diff_s7_h2_C_syn_e.npy\", test_C_syn_e.cpu().detach().numpy())\n",
    "#np.save(\"/media/hdd01/sklee/CA1_clust4-60/glm_diff_s7_h2_C_syn_i.npy\", test_C_syn_i.cpu().detach().numpy())"
   ]
  },
  {
   "cell_type": "code",
   "execution_count": 7,
   "metadata": {},
   "outputs": [
    {
     "data": {
      "text/plain": [
       "[<matplotlib.lines.Line2D at 0x7f730c447250>]"
      ]
     },
     "execution_count": 7,
     "metadata": {},
     "output_type": "execute_result"
    },
    {
     "data": {
      "image/png": "[encoded data removed]",
      "text/plain": [
       "<Figure size 432x288 with 1 Axes>"
      ]
     },
     "metadata": {
      "needs_background": "light"
     },
     "output_type": "display_data"
    }
   ],
   "source": [
    "plt.plot(torch.exp(model.E_scale).cpu().detach().numpy())"
   ]
  },
  {
   "cell_type": "code",
   "execution_count": null,
   "metadata": {},
   "outputs": [],
   "source": []
  },
  {
   "cell_type": "code",
   "execution_count": 8,
   "metadata": {},
   "outputs": [
    {
     "name": "stdout",
     "output_type": "stream",
     "text": [
      "-0.6580716967582703 0.7077803015708923\n",
      "-0.6100299954414368 0.48896026611328125\n",
      "-0.4329186975955963 0.4544651210308075\n",
      "-0.41590791940689087 0.2542840242385864\n"
     ]
    },
    {
     "data": {
      "image/png": "[encoded data removed]",
      "text/plain": [
       "<Figure size 720x576 with 4 Axes>"
      ]
     },
     "metadata": {
      "needs_background": "light"
     },
     "output_type": "display_data"
    }
   ],
   "source": [
    "fig, axs = plt.subplots(ncols=4, figsize = (10,8))\n",
    "start_idx = 29\n",
    "\n",
    "for i in range(4):\n",
    "    axs[i].imshow(model.C_syn_e_raw[:,start_idx+60*i:start_idx+60+60*i].cpu().detach().numpy().T)\n",
    "    print(torch.min(model.C_syn_e_raw[:,start_idx+60*i:start_idx+60+60*i]).item(),\n",
    "          torch.max(model.C_syn_e_raw[:,start_idx+60*i:start_idx+60+60*i]).item())"
   ]
  },
  {
   "cell_type": "code",
   "execution_count": null,
   "metadata": {},
   "outputs": [],
   "source": []
  },
  {
   "cell_type": "code",
   "execution_count": 9,
   "metadata": {},
   "outputs": [],
   "source": [
    "C_syn_plot = np.zeros((E_no))\n",
    "\n",
    "for e in range(E_no):\n",
    "    C_syn_plot[e] = torch.argmax(model.C_syn_e_raw[:,e])"
   ]
  },
  {
   "cell_type": "code",
   "execution_count": 10,
   "metadata": {
    "scrolled": true
   },
   "outputs": [
    {
     "data": {
      "text/plain": [
       "<matplotlib.collections.PathCollection at 0x7f730c2015e0>"
      ]
     },
     "execution_count": 10,
     "metadata": {},
     "output_type": "execute_result"
    },
    {
     "data": {
      "image/png": "[encoded data removed]",
      "text/plain": [
       "<Figure size 1080x360 with 1 Axes>"
      ]
     },
     "metadata": {
      "needs_background": "light"
     },
     "output_type": "display_data"
    }
   ],
   "source": [
    "plt.figure(figsize = (15,5))\n",
    "plt.scatter(np.arange(E_no), C_syn_plot, s=1)"
   ]
  },
  {
   "cell_type": "code",
   "execution_count": 11,
   "metadata": {
    "scrolled": false
   },
   "outputs": [
    {
     "ename": "ValueError",
     "evalue": "x and y must be the same size",
     "output_type": "error",
     "traceback": [
      "\u001b[0;31m---------------------------------------------------------------------------\u001b[0m",
      "\u001b[0;31mValueError\u001b[0m                                Traceback (most recent call last)",
      "\u001b[0;32m<ipython-input-11-8aacab481c0b>\u001b[0m in \u001b[0;36m<module>\u001b[0;34m\u001b[0m\n\u001b[1;32m      1\u001b[0m \u001b[0mplt\u001b[0m\u001b[0;34m.\u001b[0m\u001b[0mfigure\u001b[0m\u001b[0;34m(\u001b[0m\u001b[0mfigsize\u001b[0m \u001b[0;34m=\u001b[0m \u001b[0;34m(\u001b[0m\u001b[0;36m15\u001b[0m\u001b[0;34m,\u001b[0m\u001b[0;36m5\u001b[0m\u001b[0;34m)\u001b[0m\u001b[0;34m)\u001b[0m\u001b[0;34m\u001b[0m\u001b[0;34m\u001b[0m\u001b[0m\n\u001b[0;32m----> 2\u001b[0;31m \u001b[0mplt\u001b[0m\u001b[0;34m.\u001b[0m\u001b[0mscatter\u001b[0m\u001b[0;34m(\u001b[0m\u001b[0mnp\u001b[0m\u001b[0;34m.\u001b[0m\u001b[0marange\u001b[0m\u001b[0;34m(\u001b[0m\u001b[0;36m240\u001b[0m\u001b[0;34m)\u001b[0m\u001b[0;34m,\u001b[0m \u001b[0mC_syn_plot\u001b[0m\u001b[0;34m[\u001b[0m\u001b[0;36m880\u001b[0m\u001b[0;34m:\u001b[0m\u001b[0;36m1120\u001b[0m\u001b[0;34m]\u001b[0m\u001b[0;34m,\u001b[0m \u001b[0ms\u001b[0m\u001b[0;34m=\u001b[0m\u001b[0;36m1\u001b[0m\u001b[0;34m)\u001b[0m\u001b[0;34m\u001b[0m\u001b[0;34m\u001b[0m\u001b[0m\n\u001b[0m",
      "\u001b[0;32m~/anaconda3/lib/python3.8/site-packages/matplotlib/pyplot.py\u001b[0m in \u001b[0;36mscatter\u001b[0;34m(x, y, s, c, marker, cmap, norm, vmin, vmax, alpha, linewidths, edgecolors, plotnonfinite, data, **kwargs)\u001b[0m\n\u001b[1;32m   3035\u001b[0m         \u001b[0mvmin\u001b[0m\u001b[0;34m=\u001b[0m\u001b[0;32mNone\u001b[0m\u001b[0;34m,\u001b[0m \u001b[0mvmax\u001b[0m\u001b[0;34m=\u001b[0m\u001b[0;32mNone\u001b[0m\u001b[0;34m,\u001b[0m \u001b[0malpha\u001b[0m\u001b[0;34m=\u001b[0m\u001b[0;32mNone\u001b[0m\u001b[0;34m,\u001b[0m \u001b[0mlinewidths\u001b[0m\u001b[0;34m=\u001b[0m\u001b[0;32mNone\u001b[0m\u001b[0;34m,\u001b[0m \u001b[0;34m*\u001b[0m\u001b[0;34m,\u001b[0m\u001b[0;34m\u001b[0m\u001b[0;34m\u001b[0m\u001b[0m\n\u001b[1;32m   3036\u001b[0m         edgecolors=None, plotnonfinite=False, data=None, **kwargs):\n\u001b[0;32m-> 3037\u001b[0;31m     __ret = gca().scatter(\n\u001b[0m\u001b[1;32m   3038\u001b[0m         \u001b[0mx\u001b[0m\u001b[0;34m,\u001b[0m \u001b[0my\u001b[0m\u001b[0;34m,\u001b[0m \u001b[0ms\u001b[0m\u001b[0;34m=\u001b[0m\u001b[0ms\u001b[0m\u001b[0;34m,\u001b[0m \u001b[0mc\u001b[0m\u001b[0;34m=\u001b[0m\u001b[0mc\u001b[0m\u001b[0;34m,\u001b[0m \u001b[0mmarker\u001b[0m\u001b[0;34m=\u001b[0m\u001b[0mmarker\u001b[0m\u001b[0;34m,\u001b[0m \u001b[0mcmap\u001b[0m\u001b[0;34m=\u001b[0m\u001b[0mcmap\u001b[0m\u001b[0;34m,\u001b[0m \u001b[0mnorm\u001b[0m\u001b[0;34m=\u001b[0m\u001b[0mnorm\u001b[0m\u001b[0;34m,\u001b[0m\u001b[0;34m\u001b[0m\u001b[0;34m\u001b[0m\u001b[0m\n\u001b[1;32m   3039\u001b[0m         \u001b[0mvmin\u001b[0m\u001b[0;34m=\u001b[0m\u001b[0mvmin\u001b[0m\u001b[0;34m,\u001b[0m \u001b[0mvmax\u001b[0m\u001b[0;34m=\u001b[0m\u001b[0mvmax\u001b[0m\u001b[0;34m,\u001b[0m \u001b[0malpha\u001b[0m\u001b[0;34m=\u001b[0m\u001b[0malpha\u001b[0m\u001b[0;34m,\u001b[0m \u001b[0mlinewidths\u001b[0m\u001b[0;34m=\u001b[0m\u001b[0mlinewidths\u001b[0m\u001b[0;34m,\u001b[0m\u001b[0;34m\u001b[0m\u001b[0;34m\u001b[0m\u001b[0m\n",
      "\u001b[0;32m~/anaconda3/lib/python3.8/site-packages/matplotlib/__init__.py\u001b[0m in \u001b[0;36minner\u001b[0;34m(ax, data, *args, **kwargs)\u001b[0m\n\u001b[1;32m   1350\u001b[0m     \u001b[0;32mdef\u001b[0m \u001b[0minner\u001b[0m\u001b[0;34m(\u001b[0m\u001b[0max\u001b[0m\u001b[0;34m,\u001b[0m \u001b[0;34m*\u001b[0m\u001b[0margs\u001b[0m\u001b[0;34m,\u001b[0m \u001b[0mdata\u001b[0m\u001b[0;34m=\u001b[0m\u001b[0;32mNone\u001b[0m\u001b[0;34m,\u001b[0m \u001b[0;34m**\u001b[0m\u001b[0mkwargs\u001b[0m\u001b[0;34m)\u001b[0m\u001b[0;34m:\u001b[0m\u001b[0;34m\u001b[0m\u001b[0;34m\u001b[0m\u001b[0m\n\u001b[1;32m   1351\u001b[0m         \u001b[0;32mif\u001b[0m \u001b[0mdata\u001b[0m \u001b[0;32mis\u001b[0m \u001b[0;32mNone\u001b[0m\u001b[0;34m:\u001b[0m\u001b[0;34m\u001b[0m\u001b[0;34m\u001b[0m\u001b[0m\n\u001b[0;32m-> 1352\u001b[0;31m             \u001b[0;32mreturn\u001b[0m \u001b[0mfunc\u001b[0m\u001b[0;34m(\u001b[0m\u001b[0max\u001b[0m\u001b[0;34m,\u001b[0m \u001b[0;34m*\u001b[0m\u001b[0mmap\u001b[0m\u001b[0;34m(\u001b[0m\u001b[0msanitize_sequence\u001b[0m\u001b[0;34m,\u001b[0m \u001b[0margs\u001b[0m\u001b[0;34m)\u001b[0m\u001b[0;34m,\u001b[0m \u001b[0;34m**\u001b[0m\u001b[0mkwargs\u001b[0m\u001b[0;34m)\u001b[0m\u001b[0;34m\u001b[0m\u001b[0;34m\u001b[0m\u001b[0m\n\u001b[0m\u001b[1;32m   1353\u001b[0m \u001b[0;34m\u001b[0m\u001b[0m\n\u001b[1;32m   1354\u001b[0m         \u001b[0mbound\u001b[0m \u001b[0;34m=\u001b[0m \u001b[0mnew_sig\u001b[0m\u001b[0;34m.\u001b[0m\u001b[0mbind\u001b[0m\u001b[0;34m(\u001b[0m\u001b[0max\u001b[0m\u001b[0;34m,\u001b[0m \u001b[0;34m*\u001b[0m\u001b[0margs\u001b[0m\u001b[0;34m,\u001b[0m \u001b[0;34m**\u001b[0m\u001b[0mkwargs\u001b[0m\u001b[0;34m)\u001b[0m\u001b[0;34m\u001b[0m\u001b[0;34m\u001b[0m\u001b[0m\n",
      "\u001b[0;32m~/anaconda3/lib/python3.8/site-packages/matplotlib/axes/_axes.py\u001b[0m in \u001b[0;36mscatter\u001b[0;34m(self, x, y, s, c, marker, cmap, norm, vmin, vmax, alpha, linewidths, edgecolors, plotnonfinite, **kwargs)\u001b[0m\n\u001b[1;32m   4476\u001b[0m         \u001b[0my\u001b[0m \u001b[0;34m=\u001b[0m \u001b[0mnp\u001b[0m\u001b[0;34m.\u001b[0m\u001b[0mma\u001b[0m\u001b[0;34m.\u001b[0m\u001b[0mravel\u001b[0m\u001b[0;34m(\u001b[0m\u001b[0my\u001b[0m\u001b[0;34m)\u001b[0m\u001b[0;34m\u001b[0m\u001b[0;34m\u001b[0m\u001b[0m\n\u001b[1;32m   4477\u001b[0m         \u001b[0;32mif\u001b[0m \u001b[0mx\u001b[0m\u001b[0;34m.\u001b[0m\u001b[0msize\u001b[0m \u001b[0;34m!=\u001b[0m \u001b[0my\u001b[0m\u001b[0;34m.\u001b[0m\u001b[0msize\u001b[0m\u001b[0;34m:\u001b[0m\u001b[0;34m\u001b[0m\u001b[0;34m\u001b[0m\u001b[0m\n\u001b[0;32m-> 4478\u001b[0;31m             \u001b[0;32mraise\u001b[0m \u001b[0mValueError\u001b[0m\u001b[0;34m(\u001b[0m\u001b[0;34m\"x and y must be the same size\"\u001b[0m\u001b[0;34m)\u001b[0m\u001b[0;34m\u001b[0m\u001b[0;34m\u001b[0m\u001b[0m\n\u001b[0m\u001b[1;32m   4479\u001b[0m \u001b[0;34m\u001b[0m\u001b[0m\n\u001b[1;32m   4480\u001b[0m         \u001b[0;32mif\u001b[0m \u001b[0ms\u001b[0m \u001b[0;32mis\u001b[0m \u001b[0;32mNone\u001b[0m\u001b[0;34m:\u001b[0m\u001b[0;34m\u001b[0m\u001b[0;34m\u001b[0m\u001b[0m\n",
      "\u001b[0;31mValueError\u001b[0m: x and y must be the same size"
     ]
    },
    {
     "data": {
      "image/png": "[encoded data removed]",
      "text/plain": [
       "<Figure size 1080x360 with 1 Axes>"
      ]
     },
     "metadata": {
      "needs_background": "light"
     },
     "output_type": "display_data"
    }
   ],
   "source": [
    "plt.figure(figsize = (15,5))\n",
    "plt.scatter(np.arange(240), C_syn_plot[880:1120], s=1)"
   ]
  },
  {
   "cell_type": "code",
   "execution_count": 7,
   "metadata": {},
   "outputs": [
    {
     "data": {
      "text/plain": [
       "<matplotlib.collections.PathCollection at 0x7f33ab4294f0>"
      ]
     },
     "execution_count": 7,
     "metadata": {},
     "output_type": "execute_result"
    },
    {
     "data": {
      "image/png": "[encoded data removed]",
      "text/plain": [
       "<Figure size 1080x360 with 1 Axes>"
      ]
     },
     "metadata": {
      "needs_background": "light"
     },
     "output_type": "display_data"
    }
   ],
   "source": [
    "plt.figure(figsize = (15,5))\n",
    "plt.scatter(np.arange(E_no), np.exp(model.E_scale.cpu().detach().numpy()), s=1)"
   ]
  },
  {
   "cell_type": "code",
   "execution_count": null,
   "metadata": {},
   "outputs": [],
   "source": []
  },
  {
   "cell_type": "code",
   "execution_count": 8,
   "metadata": {},
   "outputs": [],
   "source": [
    "E_scale = model.E_scale.cpu().detach().numpy()\n",
    "C_syn_e_raw = model.C_syn_e_raw.cpu().detach().numpy()"
   ]
  },
  {
   "cell_type": "code",
   "execution_count": 9,
   "metadata": {},
   "outputs": [],
   "source": [
    "#np.savez(\"/media/hdd01/sklee/CA1_clust4-60/clust/pretrain_glm_s5_h2.npz\",\n",
    "        E_scale=E_scale,\n",
    "        C_syn_e_raw=C_syn_e_raw)"
   ]
  },
  {
   "cell_type": "code",
   "execution_count": null,
   "metadata": {},
   "outputs": [],
   "source": []
  }
 ],
 "metadata": {
  "kernelspec": {
   "display_name": "Python 3",
   "language": "python",
   "name": "python3"
  },
  "language_info": {
   "codemirror_mode": {
    "name": "ipython",
    "version": 3
   },
   "file_extension": ".py",
   "mimetype": "text/x-python",
   "name": "python",
   "nbconvert_exporter": "python",
   "pygments_lexer": "ipython3",
   "version": "3.8.8"
  }
 },
 "nbformat": 4,
 "nbformat_minor": 4
}
