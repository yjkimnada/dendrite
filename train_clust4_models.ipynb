{
 "cells": [
  {
   "cell_type": "code",
   "execution_count": 1,
   "metadata": {},
   "outputs": [],
   "source": [
    "import numpy as np\n",
    "import torch \n",
    "import torch.nn as nn\n",
    "from tqdm import tnrange\n",
    "import torch.optim as optim\n",
    "import torch.nn.functional as F\n",
    "from sklearn import metrics\n",
    "import matplotlib.pyplot as plt\n",
    "from sklearn.metrics import explained_variance_score\n",
    "import scipy\n",
    "import time\n",
    "\n",
    "from models.sub_clust_cos_glm import Sub_Clust_Cos_GLM\n",
    "from models.clust_gru import Clust_GRU"
   ]
  },
  {
   "cell_type": "markdown",
   "metadata": {},
   "source": [
    "# Hyperparameters"
   ]
  },
  {
   "cell_type": "code",
   "execution_count": 2,
   "metadata": {},
   "outputs": [],
   "source": [
    "base_dir = \"/media/hdd01/sklee/\"\n",
    "experiment = \"clust4-60\"\n",
    "cell_type = \"CA1\"\n",
    "E_neural_file = \"Espikes_neural.npz\"\n",
    "I_neural_file = \"Ispikes_neural.npz\"\n",
    "#V_file = \"vdata_T10_Ne2000_gA0.6_tauA1_gN0.8_Ni200_gG0.1_gB0.1_noDendNa_Er0.5_Ir7.4_random_NR_rep1000_stimseed1.npy\"\n",
    "V_file = \"V_diff.npy\"\n",
    "\n",
    "E_neural = scipy.sparse.load_npz(base_dir+cell_type+\"_\"+experiment+\"/data/\"+E_neural_file)\n",
    "I_neural = scipy.sparse.load_npz(base_dir+cell_type+\"_\"+experiment+\"/data/\"+I_neural_file)\n",
    "#V = np.load(base_dir+cell_type+\"_\"+experiment+\"/data/\"+V_file)[:,:50000].flatten()\n",
    "V = np.load(base_dir+cell_type+\"_\"+experiment+\"/data/\"+V_file)\n",
    "V = torch.from_numpy(V)\n",
    "#V -= torch.mean(V)\n",
    "\n",
    "eloc_file = \"Elocs_T10_Ne2000_gA0.6_tauA1_gN0.8_Ni200_gG0.1_gB0.1_Er0.5_Ir7.4_random_NR_rep1000_stimseed1.npy\"\n",
    "iloc_file = \"Ilocs_T10_Ne2000_gA0.6_tauA1_gN0.8_Ni200_gG0.1_gB0.1_Er0.5_Ir7.4_random_NR_rep1000_stimseed1.npy\"\n",
    "eloc = np.load(base_dir+cell_type+\"_\"+experiment+\"/data/\"+eloc_file)\n",
    "iloc = np.load(base_dir+cell_type+\"_\"+experiment+\"/data/\"+iloc_file)\n",
    "\n",
    "den_idx = np.unique(eloc[880:1120,0])\n",
    "e_idx = np.where(np.isin(eloc[:,0], den_idx) == True)[0]\n",
    "i_idx = np.where(np.isin(iloc[:,0], den_idx) == True)[0]\n",
    "e_idx = torch.from_numpy(e_idx)\n",
    "i_idx = torch.from_numpy(i_idx)\n",
    "\n",
    "#E_scale = np.load(\"/media/hdd01/sklee/CA1_clust4-60/clust/gru_clust_s1_h20_pretrain.npz\")[\"E_scale\"]\n",
    "#E_scale = torch.from_numpy(E_scale)\n",
    "#I_scale = np.load(\"/media/hdd01/sklee/CA1_clust4-60/clust/gru_clust_s1_h20_pretrain.npz\")[\"I_scale\"]\n",
    "#I_scale = torch.from_numpy(I_scale)\n",
    "\n",
    "#E_scale = np.load(\"/media/hdd01/sklee/CA1_clust4-60/clust/pretrain_glm_s5_h2.npz\")[\"E_scale\"]\n",
    "#C_syn_e_raw = np.load(\"/media/hdd01/sklee/CA1_clust4-60/clust/pretrain_glm_s5_h2.npz\")[\"C_syn_e_raw\"]\n",
    "#E_scale = torch.from_numpy(E_scale)\n",
    "#C_syn_e_raw = torch.from_numpy(C_syn_e_raw)"
   ]
  },
  {
   "cell_type": "code",
   "execution_count": 3,
   "metadata": {},
   "outputs": [],
   "source": [
    "T_train = 980 * 1000 * 50\n",
    "T_test = 1 * 1000 * 50\n",
    "H_no = 2\n",
    "sub_no = 5\n",
    "E_no = 2000\n",
    "I_no = 200\n",
    "#E_no = 299\n",
    "#I_no = 8\n",
    "T_no = 500\n",
    "device = torch.device(\"cuda\")\n",
    "\n",
    "increment = 30\n",
    "batch_length = 50000\n",
    "batch_size = 5\n",
    "iter_no = 9800*2\n",
    "epoch_no = iter_no*batch_length*batch_size//T_train "
   ]
  },
  {
   "cell_type": "markdown",
   "metadata": {},
   "source": [
    "# Preprocess"
   ]
  },
  {
   "cell_type": "code",
   "execution_count": 4,
   "metadata": {},
   "outputs": [],
   "source": [
    "V_train = V[:T_train].float()\n",
    "V_test = V[-50000:].to(device).float()\n",
    "\n",
    "test_E_neural = E_neural[-50000:].toarray()\n",
    "test_I_neural = I_neural[-50000:].toarray()\n",
    "train_E_neural = E_neural[:T_train]\n",
    "train_I_neural = I_neural[:T_train]\n",
    "\n",
    "test_E_neural = torch.from_numpy(test_E_neural).float().to(device)\n",
    "test_I_neural = torch.from_numpy(test_I_neural).float().to(device)\n",
    "\n",
    "train_idx = np.empty((epoch_no, T_train//batch_length//batch_size))\n",
    "for i in range(epoch_no):\n",
    "    part_idx = np.arange(0, T_train, batch_length*batch_size)\n",
    "    np.random.shuffle(part_idx)\n",
    "    train_idx[i] = part_idx\n",
    "train_idx = train_idx.flatten()\n",
    "train_idx = torch.from_numpy(train_idx)"
   ]
  },
  {
   "cell_type": "markdown",
   "metadata": {},
   "source": [
    "# Train"
   ]
  },
  {
   "cell_type": "code",
   "execution_count": 5,
   "metadata": {},
   "outputs": [
    {
     "name": "stdout",
     "output_type": "stream",
     "text": [
      "13701\n",
      "11000\n",
      "2701\n",
      "(100,)\n"
     ]
    }
   ],
   "source": [
    "model = Sub_Clust_Cos_GLM(sub_no, E_no, I_no, T_no, H_no, device)\n",
    "#model = Clust_GRU(sub_no, E_no, I_no, H_no, device)\n",
    "\n",
    "\n",
    "syn_params = []\n",
    "rest_params = []\n",
    "\n",
    "for name, params in model.named_parameters():\n",
    "    if (name == \"C_syn_e_raw\") or (name == \"C_syn_i_raw\"):\n",
    "        syn_params.append(params)\n",
    "    else:\n",
    "        rest_params.append(params)\n",
    "\n",
    "# GLM\n",
    "optimizer = torch.optim.Adam(rest_params, lr = 0.005/(1.03**100))\n",
    "syn_optimizer = torch.optim.Adam(syn_params, lr = 0.005)\n",
    "milestones = np.arange(increment-1, increment*100, increment)\n",
    "scheduler = torch.optim.lr_scheduler.MultiStepLR(optimizer, milestones=milestones, gamma=1.03)\n",
    "syn_scheduler = torch.optim.lr_scheduler.StepLR(syn_optimizer, step_size=increment, gamma=0.961)\n",
    "\n",
    "# GRU\n",
    "#optimizer = torch.optim.Adam(rest_params, lr = 0.005)\n",
    "#syn_optimizer = torch.optim.Adam(syn_params, lr = 0.001)\n",
    "#milestones = np.arange(increment-1, increment*100, increment)\n",
    "#scheduler = torch.optim.lr_scheduler.MultiStepLR(optimizer, milestones=milestones, gamma=1)\n",
    "#syn_scheduler = torch.optim.lr_scheduler.StepLR(syn_optimizer, step_size=increment, gamma=1)\n",
    "\n",
    "model.to(device).float()\n",
    "print(sum(p.numel() for p in model.parameters() if p.requires_grad))\n",
    "\n",
    "print(sum(p.numel() for p in syn_params if p.requires_grad))\n",
    "print(sum(p.numel() for p in rest_params if p.requires_grad))\n",
    "print(milestones.shape)"
   ]
  },
  {
   "cell_type": "code",
   "execution_count": null,
   "metadata": {
    "scrolled": false
   },
   "outputs": [
    {
     "data": {
      "application/vnd.jupyter.widget-view+json": {
       "model_id": "24103b3631fa4a399d8c329715f29f8c",
       "version_major": 2,
       "version_minor": 0
      },
      "text/plain": [
       "  0%|          | 0/19600 [00:00<?, ?it/s]"
      ]
     },
     "metadata": {},
     "output_type": "display_data"
    },
    {
     "name": "stdout",
     "output_type": "stream",
     "text": [
      "0 -0.748698 35.871243\n",
      "1.0 3.0 4.0 4.0\n",
      "20 26 23 22\n",
      "------------------------\n",
      "49 -1.252296 17.698874\n",
      "4.0 3.0 3.0 3.0\n",
      "47 36 60 60\n",
      "------------------------\n",
      "99 -1.440358 7.707494\n",
      "4.0 4.0 3.0 3.0\n",
      "60 49 60 60\n",
      "------------------------\n",
      "149 -1.348922 6.413915\n",
      "4.0 4.0 3.0 3.0\n",
      "60 38 60 60\n",
      "------------------------\n",
      "199 -0.910177 5.50367\n",
      "4.0 3.0 3.0 3.0\n",
      "59 35 60 60\n",
      "------------------------\n",
      "249 -0.691284 6.31533\n",
      "4.0 4.0 3.0 3.0\n",
      "55 35 60 60\n",
      "------------------------\n",
      "299 -0.530623 5.58314\n",
      "4.0 4.0 3.0 3.0\n",
      "51 42 59 60\n",
      "------------------------\n",
      "349 -0.315017 5.100818\n",
      "4.0 4.0 3.0 3.0\n",
      "35 50 54 56\n",
      "------------------------\n",
      "399 -0.090533 5.41976\n",
      "3.0 4.0 3.0 3.0\n",
      "33 54 35 50\n",
      "------------------------\n",
      "449 -0.030079 4.808035\n",
      "3.0 4.0 0.0 3.0\n",
      "35 58 35 45\n",
      "------------------------\n",
      "499 0.042155 5.36793\n",
      "3.0 4.0 0.0 3.0\n",
      "34 58 44 44\n",
      "------------------------\n",
      "549 0.070756 5.485063\n",
      "3.0 4.0 0.0 3.0\n",
      "32 59 45 44\n",
      "------------------------\n",
      "599 0.079488 4.923698\n",
      "3.0 4.0 0.0 3.0\n",
      "33 60 47 43\n",
      "------------------------\n",
      "649 0.09829 4.555973\n",
      "3.0 4.0 0.0 3.0\n",
      "35 60 47 39\n",
      "------------------------\n",
      "699 0.11915 4.291838\n",
      "3.0 4.0 0.0 3.0\n",
      "31 59 49 36\n",
      "------------------------\n",
      "749 0.135311 3.864063\n",
      "3.0 4.0 0.0 3.0\n",
      "31 60 50 34\n",
      "------------------------\n",
      "799 0.143044 3.651702\n",
      "4.0 4.0 0.0 3.0\n",
      "31 60 51 29\n",
      "------------------------\n",
      "849 0.144025 3.263164\n",
      "4.0 4.0 0.0 3.0\n",
      "32 60 52 26\n",
      "------------------------\n",
      "899 0.164064 2.895096\n",
      "4.0 4.0 0.0 3.0\n",
      "37 60 50 24\n",
      "------------------------\n",
      "949 0.172199 2.464608\n",
      "4.0 4.0 0.0 3.0\n",
      "35 60 52 21\n",
      "------------------------\n",
      "999 0.18261 2.179804\n",
      "4.0 4.0 0.0 3.0\n",
      "35 60 52 22\n",
      "------------------------\n",
      "1049 0.158354 2.112112\n",
      "4.0 4.0 0.0 3.0\n",
      "40 60 52 24\n",
      "------------------------\n",
      "1099 0.157506 1.734298\n",
      "4.0 4.0 0.0 3.0\n",
      "35 60 52 25\n",
      "------------------------\n",
      "1149 0.150603 1.542711\n",
      "4.0 4.0 0.0 3.0\n",
      "37 60 52 28\n",
      "------------------------\n",
      "1199 0.170667 1.475869\n",
      "4.0 4.0 0.0 3.0\n",
      "34 60 52 26\n",
      "------------------------\n",
      "1249 0.148014 1.202612\n",
      "4.0 4.0 0.0 3.0\n",
      "33 60 52 26\n",
      "------------------------\n",
      "1299 0.160659 1.069963\n",
      "4.0 4.0 0.0 3.0\n",
      "33 60 51 33\n",
      "------------------------\n",
      "1349 0.182349 0.956483\n",
      "3.0 4.0 0.0 3.0\n",
      "28 60 51 35\n",
      "------------------------\n",
      "1399 0.206114 0.866896\n",
      "4.0 4.0 0.0 3.0\n",
      "30 60 51 40\n",
      "------------------------\n",
      "1449 0.231062 0.761084\n",
      "3.0 4.0 0.0 3.0\n",
      "32 60 53 40\n",
      "------------------------\n",
      "1499 0.233898 0.719785\n",
      "3.0 4.0 0.0 3.0\n",
      "37 60 54 41\n",
      "------------------------\n",
      "1549 0.196796 0.50851\n",
      "3.0 4.0 0.0 3.0\n",
      "42 60 54 43\n",
      "------------------------\n",
      "1599 0.187814 0.447816\n",
      "3.0 4.0 0.0 3.0\n",
      "46 60 54 44\n",
      "------------------------\n",
      "1649 0.167674 0.388689\n",
      "3.0 4.0 0.0 3.0\n",
      "46 60 53 46\n",
      "------------------------\n",
      "1699 0.172726 0.336367\n",
      "3.0 4.0 0.0 3.0\n",
      "47 60 54 46\n",
      "------------------------\n",
      "1749 0.187022 0.24181\n",
      "3.0 4.0 0.0 3.0\n",
      "47 60 54 46\n",
      "------------------------\n",
      "1799 0.169043 0.233397\n",
      "3.0 4.0 0.0 3.0\n",
      "47 60 54 46\n",
      "------------------------\n",
      "1849 0.190392 0.187042\n",
      "3.0 4.0 0.0 3.0\n",
      "47 60 53 46\n",
      "------------------------\n",
      "1899 0.225238 0.175984\n",
      "3.0 4.0 0.0 3.0\n",
      "47 60 53 46\n",
      "------------------------\n",
      "1949 0.204222 0.161671\n",
      "3.0 4.0 0.0 3.0\n",
      "47 60 53 46\n",
      "------------------------\n",
      "1999 0.254886 0.126524\n",
      "3.0 4.0 0.0 3.0\n",
      "48 60 54 46\n",
      "------------------------\n",
      "2049 0.275921 0.112441\n",
      "3.0 4.0 0.0 3.0\n",
      "48 60 54 46\n",
      "------------------------\n",
      "2099 0.320535 0.093609\n",
      "3.0 4.0 0.0 3.0\n",
      "48 60 53 46\n",
      "------------------------\n",
      "2149 0.246066 0.087954\n",
      "3.0 4.0 0.0 3.0\n",
      "48 60 54 45\n",
      "------------------------\n",
      "2199 0.319867 0.062567\n",
      "3.0 4.0 0.0 3.0\n",
      "48 60 53 46\n",
      "------------------------\n",
      "2249 0.320216 0.078181\n",
      "3.0 4.0 0.0 3.0\n",
      "48 60 53 46\n",
      "------------------------\n",
      "2299 0.339724 0.060092\n",
      "3.0 4.0 0.0 3.0\n",
      "48 60 53 44\n",
      "------------------------\n",
      "2349 0.340191 0.058157\n",
      "3.0 4.0 0.0 3.0\n",
      "48 60 53 45\n",
      "------------------------\n",
      "2399 0.374551 0.058071\n",
      "3.0 4.0 0.0 3.0\n",
      "48 60 54 46\n",
      "------------------------\n",
      "2449 0.370284 0.042137\n",
      "3.0 4.0 0.0 3.0\n",
      "48 60 54 46\n",
      "------------------------\n",
      "2499 0.376348 0.025982\n",
      "3.0 4.0 0.0 3.0\n",
      "48 60 54 44\n",
      "------------------------\n"
     ]
    }
   ],
   "source": [
    "import sys\n",
    "if not sys.warnoptions:\n",
    "    import warnings\n",
    "    warnings.simplefilter(\"ignore\")\n",
    "\n",
    "score_list = []\n",
    "temp_list = np.logspace(0,-3,100)\n",
    "temp_count = 0\n",
    "\n",
    "\"\"\"\n",
    "gamma = 1\n",
    "clust_no = 4\n",
    "clust_size = 60\n",
    "clust_prob = 0.2499\n",
    "rest_prob = (1-clust_no*clust_prob)/(sub_no-clust_no)\n",
    "reg_ref = torch.ones(sub_no).to(device) * rest_prob\n",
    "clust_idx = np.random.choice(np.arange(sub_no),clust_no,replace=False)\n",
    "reg_ref[clust_idx] = clust_prob\n",
    "print(reg_ref)\n",
    "kl_criterion = nn.KLDivLoss(reduction=\"mean\")\n",
    "\"\"\"\n",
    "C_syn_e_raw = model.C_syn_e_raw.detach().clone()\n",
    "\n",
    "\n",
    "for i in tnrange(iter_no):\n",
    "    model.train()\n",
    "    optimizer.zero_grad()\n",
    "    syn_optimizer.zero_grad()\n",
    "           \n",
    "    with torch.no_grad():\n",
    "        model.C_syn_e_raw.copy_(model.C_syn_e_raw - torch.mean(model.C_syn_e_raw, 0).reshape(1,-1))\n",
    "        model.C_syn_i_raw.copy_(model.C_syn_i_raw - torch.mean(model.C_syn_i_raw, 0).reshape(1,-1))\n",
    "    \n",
    "    if (temp_count < 99) & (i%increment == increment-1):\n",
    "        temp_count += 1\n",
    "    temp = temp_list[temp_count]\n",
    "    #if (i%(increment//2) == (increment//2)-1):\n",
    "        #gamma *= 1\n",
    "    \n",
    "    batch_idx = train_idx[i].long()\n",
    "    batch_E_neural = train_E_neural[batch_idx : batch_idx+batch_length*batch_size].toarray().reshape(batch_size, batch_length, -1)\n",
    "    batch_I_neural = train_I_neural[batch_idx : batch_idx+batch_length*batch_size].toarray().reshape(batch_size, batch_length, -1)\n",
    "    batch_E_neural = torch.from_numpy(batch_E_neural).float().to(device)\n",
    "    batch_I_neural = torch.from_numpy(batch_I_neural).float().to(device)\n",
    "    batch_V = V_train[batch_idx : batch_idx+batch_length*batch_size].reshape(batch_size, -1).to(device)\n",
    "    \n",
    "    V_pred, _, C_syn_e, C_syn_i  = model(batch_E_neural, batch_I_neural, temp, True)\n",
    "    #V_pred, _, C_syn_e, C_syn_i  = model(batch_E_neural[:,5000:35000,e_idx], batch_I_neural[:,5000:35000,i_idx], temp, True)\n",
    "    \n",
    "    #C_syn_e_sum = torch.sum(C_syn_e[:,29:269], 1) / torch.sum(C_syn_e[:,29:269])\n",
    "    #reg_loss = kl_criterion(torch.log(C_syn_e_sum) , reg_ref)\n",
    "    \n",
    "    #loss = torch.mean((V_pred - batch_V[:,5000:35000])**2)\n",
    "    loss = torch.mean((V_pred - batch_V[:,:])**2)\n",
    "    \n",
    "    diff_C_syn = torch.sum(torch.abs(model.C_syn_e_raw - C_syn_e_raw))\n",
    "    C_syn_e_raw = model.C_syn_e_raw.detach().clone()\n",
    "    \n",
    "    loss.backward()\n",
    "    optimizer.step()\n",
    "    scheduler.step()\n",
    "    syn_optimizer.step()\n",
    "    syn_scheduler.step()\n",
    "    \n",
    "    if (i%50 == 49) or (i == 0):\n",
    "        model.eval()\n",
    "        test_V_pred, test_sub_out, test_C_syn_e, test_C_syn_i = model(test_E_neural.unsqueeze(0), test_I_neural.unsqueeze(0), 0.0001, True)\n",
    "        #test_V_pred, test_sub_out, test_C_syn_e, test_C_syn_i = model(test_E_neural.unsqueeze(0)[:,5000:35000,e_idx], test_I_neural.unsqueeze(0)[:,5000:35000,i_idx], 0.0001, True)\n",
    "        test_V_pred = test_V_pred.flatten()\n",
    "                 \n",
    "        #test_score = explained_variance_score(V_test[5000:35000].cpu().detach().numpy(), test_V_pred.cpu().detach().numpy())\n",
    "        #test_mse = torch.mean((V_test[5000:35000]-test_V_pred)**2).item()\n",
    "        test_score = explained_variance_score(V_test[:].cpu().detach().numpy(), test_V_pred.cpu().detach().numpy())\n",
    "        test_mse = torch.mean((V_test[:]-test_V_pred)**2).item()\n",
    "        score_list.append(test_score)\n",
    "        \n",
    "        C_syn_idx = torch.argmax(test_C_syn_e[:,880:1120], 0).float()\n",
    "        #C_syn_idx = torch.argmax(test_C_syn_e[:,29:269], 0).float()\n",
    "        \n",
    "        mode1, mode1_idx = torch.mode(C_syn_idx[:60])\n",
    "        mode2, mode2_idx = torch.mode(C_syn_idx[60:120])\n",
    "        mode3, mode3_idx = torch.mode(C_syn_idx[120:180])\n",
    "        mode4, mode4_idx = torch.mode(C_syn_idx[180:240])\n",
    "        mode1_no = torch.numel(torch.where(C_syn_idx[:60] == mode1)[0])\n",
    "        mode2_no = torch.numel(torch.where(C_syn_idx[60:120] == mode2)[0])\n",
    "        mode3_no = torch.numel(torch.where(C_syn_idx[120:180] == mode3)[0])\n",
    "        mode4_no = torch.numel(torch.where(C_syn_idx[180:240] == mode4)[0])\n",
    "                        \n",
    "        print(i, np.round(test_score,6), np.round(diff_C_syn.item(), 6))\n",
    "        print(mode1.item(), mode2.item(), mode3.item(), mode4.item())\n",
    "        print(mode1_no, mode2_no, mode3_no, mode4_no)\n",
    "        print(\"------------------------\")"
   ]
  },
  {
   "cell_type": "code",
   "execution_count": null,
   "metadata": {},
   "outputs": [],
   "source": []
  },
  {
   "cell_type": "code",
   "execution_count": 7,
   "metadata": {},
   "outputs": [
    {
     "name": "stdout",
     "output_type": "stream",
     "text": [
      "torch.Size([5, 2000])\n",
      "torch.Size([5, 200])\n"
     ]
    }
   ],
   "source": [
    "print(test_C_syn_e.shape)\n",
    "print(test_C_syn_i.shape)\n",
    "\n",
    "#np.save(\"/media/hdd01/sklee/CA1_clust4-60/glm_diff_s7_h2_C_syn_e.npy\", test_C_syn_e.cpu().detach().numpy())\n",
    "#np.save(\"/media/hdd01/sklee/CA1_clust4-60/glm_diff_s7_h2_C_syn_i.npy\", test_C_syn_i.cpu().detach().numpy())"
   ]
  },
  {
   "cell_type": "code",
   "execution_count": 7,
   "metadata": {},
   "outputs": [
    {
     "data": {
      "text/plain": [
       "[<matplotlib.lines.Line2D at 0x7fd0cc44c220>]"
      ]
     },
     "execution_count": 7,
     "metadata": {},
     "output_type": "execute_result"
    },
    {
     "data": {
      "image/png": "[encoded data removed]",
      "text/plain": [
       "<Figure size 432x288 with 1 Axes>"
      ]
     },
     "metadata": {
      "needs_background": "light"
     },
     "output_type": "display_data"
    }
   ],
   "source": [
    "plt.plot(torch.exp(model.E_scale).cpu().detach().numpy())"
   ]
  },
  {
   "cell_type": "code",
   "execution_count": null,
   "metadata": {},
   "outputs": [],
   "source": []
  },
  {
   "cell_type": "code",
   "execution_count": 8,
   "metadata": {},
   "outputs": [
    {
     "name": "stdout",
     "output_type": "stream",
     "text": [
      "-0.8060252666473389 1.5001143217086792\n",
      "-0.8673827648162842 1.680149793624878\n",
      "-0.5266438722610474 0.5330235362052917\n",
      "-0.5696932077407837 0.8313234448432922\n"
     ]
    },
    {
     "data": {
      "image/png": "[encoded data removed]",
      "text/plain": [
       "<Figure size 720x576 with 4 Axes>"
      ]
     },
     "metadata": {
      "needs_background": "light"
     },
     "output_type": "display_data"
    }
   ],
   "source": [
    "fig, axs = plt.subplots(ncols=4, figsize = (10,8))\n",
    "start_idx = 880\n",
    "\n",
    "for i in range(4):\n",
    "    axs[i].imshow(model.C_syn_e_raw[:,start_idx+60*i:start_idx+60+60*i].cpu().detach().numpy().T)\n",
    "    print(torch.min(model.C_syn_e_raw[:,start_idx+60*i:start_idx+60+60*i]).item(),\n",
    "          torch.max(model.C_syn_e_raw[:,start_idx+60*i:start_idx+60+60*i]).item())"
   ]
  },
  {
   "cell_type": "code",
   "execution_count": null,
   "metadata": {},
   "outputs": [],
   "source": []
  },
  {
   "cell_type": "code",
   "execution_count": 9,
   "metadata": {},
   "outputs": [],
   "source": [
    "C_syn_plot = np.zeros((E_no))\n",
    "\n",
    "for e in range(E_no):\n",
    "    C_syn_plot[e] = torch.argmax(model.C_syn_e_raw[:,e])"
   ]
  },
  {
   "cell_type": "code",
   "execution_count": 10,
   "metadata": {
    "scrolled": true
   },
   "outputs": [
    {
     "data": {
      "text/plain": [
       "<matplotlib.collections.PathCollection at 0x7fd0cc1fb790>"
      ]
     },
     "execution_count": 10,
     "metadata": {},
     "output_type": "execute_result"
    },
    {
     "data": {
      "image/png": "[encoded data removed]",
      "text/plain": [
       "<Figure size 1080x360 with 1 Axes>"
      ]
     },
     "metadata": {
      "needs_background": "light"
     },
     "output_type": "display_data"
    }
   ],
   "source": [
    "plt.figure(figsize = (15,5))\n",
    "plt.scatter(np.arange(E_no), C_syn_plot, s=1)"
   ]
  },
  {
   "cell_type": "code",
   "execution_count": 11,
   "metadata": {
    "scrolled": false
   },
   "outputs": [
    {
     "data": {
      "text/plain": [
       "<matplotlib.collections.PathCollection at 0x7fd0cc181220>"
      ]
     },
     "execution_count": 11,
     "metadata": {},
     "output_type": "execute_result"
    },
    {
     "data": {
      "image/png": "[encoded data removed]",
      "text/plain": [
       "<Figure size 1080x360 with 1 Axes>"
      ]
     },
     "metadata": {
      "needs_background": "light"
     },
     "output_type": "display_data"
    }
   ],
   "source": [
    "plt.figure(figsize = (15,5))\n",
    "plt.scatter(np.arange(240), C_syn_plot[880:1120], s=1)"
   ]
  },
  {
   "cell_type": "code",
   "execution_count": 12,
   "metadata": {},
   "outputs": [
    {
     "data": {
      "text/plain": [
       "<matplotlib.collections.PathCollection at 0x7fd0cc166940>"
      ]
     },
     "execution_count": 12,
     "metadata": {},
     "output_type": "execute_result"
    },
    {
     "data": {
      "image/png": "[encoded data removed]",
      "text/plain": [
       "<Figure size 1080x360 with 1 Axes>"
      ]
     },
     "metadata": {
      "needs_background": "light"
     },
     "output_type": "display_data"
    }
   ],
   "source": [
    "plt.figure(figsize = (15,5))\n",
    "plt.scatter(np.arange(E_no), np.exp(model.E_scale.cpu().detach().numpy()), s=1)"
   ]
  },
  {
   "cell_type": "code",
   "execution_count": null,
   "metadata": {},
   "outputs": [],
   "source": []
  },
  {
   "cell_type": "code",
   "execution_count": 8,
   "metadata": {},
   "outputs": [],
   "source": [
    "E_scale = model.E_scale.cpu().detach().numpy()\n",
    "C_syn_e_raw = model.C_syn_e_raw.cpu().detach().numpy()"
   ]
  },
  {
   "cell_type": "code",
   "execution_count": 9,
   "metadata": {},
   "outputs": [],
   "source": [
    "#np.savez(\"/media/hdd01/sklee/CA1_clust4-60/clust/pretrain_glm_s5_h2.npz\",\n",
    "        E_scale=E_scale,\n",
    "        C_syn_e_raw=C_syn_e_raw)"
   ]
  },
  {
   "cell_type": "code",
   "execution_count": null,
   "metadata": {},
   "outputs": [],
   "source": []
  }
 ],
 "metadata": {
  "kernelspec": {
   "display_name": "Python 3",
   "language": "python",
   "name": "python3"
  },
  "language_info": {
   "codemirror_mode": {
    "name": "ipython",
    "version": 3
   },
   "file_extension": ".py",
   "mimetype": "text/x-python",
   "name": "python",
   "nbconvert_exporter": "python",
   "pygments_lexer": "ipython3",
   "version": "3.8.8"
  }
 },
 "nbformat": 4,
 "nbformat_minor": 4
}
