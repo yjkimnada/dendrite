{
 "cells": [
  {
   "cell_type": "code",
   "execution_count": 1,
   "metadata": {},
   "outputs": [],
   "source": [
    "import numpy as np\n",
    "import torch \n",
    "import torch.nn as nn\n",
    "from tqdm import tnrange\n",
    "import torch.optim as optim\n",
    "import torch.nn.functional as F\n",
    "from sklearn import metrics\n",
    "import matplotlib.pyplot as plt\n",
    "from sklearn.metrics import explained_variance_score\n",
    "import scipy\n",
    "import time\n",
    "\n",
    "from models.sub_clust_cos_glm import Sub_Clust_Cos_GLM\n",
    "from models.clust_gru import Clust_GRU"
   ]
  },
  {
   "cell_type": "markdown",
   "metadata": {},
   "source": [
    "# Hyperparameters"
   ]
  },
  {
   "cell_type": "code",
   "execution_count": 2,
   "metadata": {},
   "outputs": [
    {
     "data": {
      "text/plain": [
       "'\\neloc_file = \"Elocs_T10_Ne2000_gA0.6_tauA1_gN0.8_Ni200_gG0.1_gB0.1_Er0.5_Ir7.4_random_NR_rep600_stimseed6.npy\"\\niloc_file = \"Ilocs_T10_Ne2000_gA0.6_tauA1_gN0.8_Ni200_gG0.1_gB0.1_Er0.5_Ir7.4_random_NR_rep600_stimseed6.npy\"\\neloc = np.load(base_dir+cell_type+\"_\"+experiment+\"/data/\"+eloc_file)\\niloc = np.load(base_dir+cell_type+\"_\"+experiment+\"/data/\"+iloc_file)\\n\\nden_idx = np.unique(eloc[880:1120,0])\\ne_idx = np.where(np.isin(eloc[:,0], den_idx) == True)[0]\\ni_idx = np.where(np.isin(iloc[:,0], den_idx) == True)[0]\\ne_idx = torch.from_numpy(e_idx)\\ni_idx = torch.from_numpy(i_idx)\\n\\nprint(e_idx.shape)\\nprint(i_idx.shape)\\n'"
      ]
     },
     "execution_count": 2,
     "metadata": {},
     "output_type": "execute_result"
    }
   ],
   "source": [
    "base_dir = \"/media/hdd01/sklee/\"\n",
    "experiment = \"clust4-60_noNA\"\n",
    "cell_type = \"CA1\"\n",
    "E_neural_file = \"Espikes_neural.npz\"\n",
    "I_neural_file = \"Ispikes_neural.npz\"\n",
    "V_file = \"vdata_T10_Ne2000_gA0.6_tauA1_gN0.8_Ni200_gG0.1_gB0.1_noDendNa_Er0.5_Ir7.4_random_NR_rep1000_stimseed1.npy\"\n",
    "#V_file = \"V_diff_stimseed1.npy\"\n",
    "\n",
    "E_neural = scipy.sparse.load_npz(base_dir+cell_type+\"_\"+experiment+\"/data/\"+E_neural_file)\n",
    "I_neural = scipy.sparse.load_npz(base_dir+cell_type+\"_\"+experiment+\"/data/\"+I_neural_file)\n",
    "V = np.load(base_dir+cell_type+\"_\"+experiment+\"/data/\"+V_file)[:,:50000].flatten()\n",
    "#V = np.load(base_dir+cell_type+\"_\"+experiment+\"/data/\"+V_file)\n",
    "V = torch.from_numpy(V)\n",
    "V -= torch.mean(V)\n",
    "\n",
    "\"\"\"\n",
    "eloc_file = \"Elocs_T10_Ne2000_gA0.6_tauA1_gN0.8_Ni200_gG0.1_gB0.1_Er0.5_Ir7.4_random_NR_rep600_stimseed6.npy\"\n",
    "iloc_file = \"Ilocs_T10_Ne2000_gA0.6_tauA1_gN0.8_Ni200_gG0.1_gB0.1_Er0.5_Ir7.4_random_NR_rep600_stimseed6.npy\"\n",
    "eloc = np.load(base_dir+cell_type+\"_\"+experiment+\"/data/\"+eloc_file)\n",
    "iloc = np.load(base_dir+cell_type+\"_\"+experiment+\"/data/\"+iloc_file)\n",
    "\n",
    "den_idx = np.unique(eloc[880:1120,0])\n",
    "e_idx = np.where(np.isin(eloc[:,0], den_idx) == True)[0]\n",
    "i_idx = np.where(np.isin(iloc[:,0], den_idx) == True)[0]\n",
    "e_idx = torch.from_numpy(e_idx)\n",
    "i_idx = torch.from_numpy(i_idx)\n",
    "\n",
    "print(e_idx.shape)\n",
    "print(i_idx.shape)\n",
    "\"\"\""
   ]
  },
  {
   "cell_type": "code",
   "execution_count": 3,
   "metadata": {},
   "outputs": [],
   "source": [
    "T_train = 580 * 1000 * 50\n",
    "T_test = 1 * 1000 * 50\n",
    "H_no = 2\n",
    "sub_no = 5\n",
    "E_no = 2000\n",
    "I_no = 200\n",
    "#E_no = e_idx.shape[0]\n",
    "#I_no = i_idx.shape[0]\n",
    "T_no = 500\n",
    "device = torch.device(\"cuda\")\n",
    "\n",
    "increment = 40\n",
    "batch_length = 50000\n",
    "batch_size = 5\n",
    "iter_no = 5800*2\n",
    "epoch_no = iter_no*batch_length*batch_size//T_train "
   ]
  },
  {
   "cell_type": "markdown",
   "metadata": {},
   "source": [
    "# Preprocess"
   ]
  },
  {
   "cell_type": "code",
   "execution_count": 4,
   "metadata": {},
   "outputs": [],
   "source": [
    "V_train = V[:T_train].float()\n",
    "#V_test = V[-50000:].to(device).float()\n",
    "V_test = V[T_train:T_train+T_test].to(device).float()\n",
    "\n",
    "#test_E_neural = E_neural[-50000:].toarray()\n",
    "#test_I_neural = I_neural[-50000:].toarray()\n",
    "test_E_neural = E_neural[T_train:T_train+T_test].toarray()\n",
    "test_I_neural = I_neural[T_train:T_train+T_test].toarray()\n",
    "train_E_neural = E_neural[:T_train]\n",
    "train_I_neural = I_neural[:T_train]\n",
    "\n",
    "test_E_neural = torch.from_numpy(test_E_neural).float().to(device)\n",
    "test_I_neural = torch.from_numpy(test_I_neural).float().to(device)\n",
    "\n",
    "train_idx = np.empty((epoch_no, T_train//batch_length//batch_size))\n",
    "for i in range(epoch_no):\n",
    "    part_idx = np.arange(0, T_train, batch_length*batch_size)\n",
    "    np.random.shuffle(part_idx)\n",
    "    train_idx[i] = part_idx\n",
    "train_idx = train_idx.flatten()\n",
    "train_idx = torch.from_numpy(train_idx)"
   ]
  },
  {
   "cell_type": "markdown",
   "metadata": {},
   "source": [
    "# Train"
   ]
  },
  {
   "cell_type": "code",
   "execution_count": 5,
   "metadata": {},
   "outputs": [
    {
     "name": "stdout",
     "output_type": "stream",
     "text": [
      "13821\n",
      "11000\n",
      "2821\n",
      "(100,)\n"
     ]
    }
   ],
   "source": [
    "model = Sub_Clust_Cos_GLM(sub_no, E_no, I_no, T_no, H_no, device)\n",
    "#model = Clust_GRU(sub_no, E_no, I_no, H_no, device)\n",
    "\n",
    "syn_params = []\n",
    "rest_params = []\n",
    "\n",
    "for name, params in model.named_parameters():\n",
    "    if (name == \"C_syn_e_raw\"):\n",
    "        syn_params.append(params)\n",
    "    elif (name == \"C_syn_i_raw\"):\n",
    "        syn_params.append(params)\n",
    "    else:\n",
    "        rest_params.append(params)\n",
    "\n",
    "# GLM\n",
    "optimizer = torch.optim.Adam(rest_params, lr = 0.005/(1.03**100))\n",
    "syn_optimizer = torch.optim.Adam(syn_params, lr = 0.005/(1.0**100))\n",
    "milestones = np.arange(increment-1, increment*100, increment)\n",
    "scheduler = torch.optim.lr_scheduler.MultiStepLR(optimizer, milestones=milestones, gamma=1.03)\n",
    "syn_milestones = np.arange(increment-1, increment*100, increment)\n",
    "syn_scheduler = torch.optim.lr_scheduler.MultiStepLR(syn_optimizer, milestones=syn_milestones, gamma=1)\n",
    "\n",
    "# GRU\n",
    "#optimizer = torch.optim.Adam(rest_params, lr = 0.005)\n",
    "#syn_optimizer = torch.optim.Adam(syn_params, lr = 0.005/(1**100))\n",
    "#milestones = np.arange(increment-1, increment*100, increment)\n",
    "#scheduler = torch.optim.lr_scheduler.MultiStepLR(optimizer, milestones=milestones, gamma=1)\n",
    "#syn_milestones = np.arange(increment-1, increment*100, increment)\n",
    "#syn_scheduler = torch.optim.lr_scheduler.MultiStepLR(syn_optimizer, milestones=syn_milestones, gamma=1)\n",
    "\n",
    "model.to(device).float()\n",
    "print(sum(p.numel() for p in model.parameters() if p.requires_grad))\n",
    "\n",
    "print(sum(p.numel() for p in syn_params if p.requires_grad))\n",
    "print(sum(p.numel() for p in rest_params if p.requires_grad))\n",
    "print(milestones.shape)"
   ]
  },
  {
   "cell_type": "code",
   "execution_count": 6,
   "metadata": {
    "scrolled": false
   },
   "outputs": [
    {
     "data": {
      "application/vnd.jupyter.widget-view+json": {
       "model_id": "babf066e54bc40a893b902a2f1e30c23",
       "version_major": 2,
       "version_minor": 0
      },
      "text/plain": [
       "  0%|          | 0/10000 [00:00<?, ?it/s]"
      ]
     },
     "metadata": {},
     "output_type": "display_data"
    },
    {
     "name": "stdout",
     "output_type": "stream",
     "text": [
      "0 -0.001982 -0.024295\n",
      "1.0 4.0 3.0 4.0\n",
      "16 17 16 18\n",
      "------------------------\n",
      "49 0.627513 0.576399\n",
      "2.0 4.0 3.0 4.0\n",
      "21 27 25 24\n",
      "------------------------\n",
      "99 0.713693 0.656094\n",
      "2.0 4.0 3.0 4.0\n",
      "27 27 23 23\n",
      "------------------------\n",
      "149 0.74497 0.715703\n",
      "2.0 4.0 3.0 4.0\n",
      "27 25 22 27\n",
      "------------------------\n",
      "199 0.772051 0.744974\n",
      "2.0 2.0 3.0 4.0\n",
      "38 23 24 26\n",
      "------------------------\n",
      "249 0.798559 0.787424\n",
      "2.0 4.0 4.0 3.0\n",
      "36 25 22 26\n",
      "------------------------\n",
      "299 0.819815 0.777962\n",
      "2.0 3.0 4.0 3.0\n",
      "43 24 23 21\n",
      "------------------------\n",
      "349 0.829591 0.828055\n",
      "2.0 4.0 4.0 3.0\n",
      "32 23 24 25\n",
      "------------------------\n",
      "399 0.840455 0.813426\n",
      "2.0 4.0 4.0 4.0\n",
      "29 26 23 23\n",
      "------------------------\n",
      "449 0.829826 0.857527\n",
      "2.0 4.0 2.0 2.0\n",
      "27 28 24 28\n",
      "------------------------\n",
      "499 0.853475 0.818862\n",
      "3.0 3.0 3.0 4.0\n",
      "29 22 21 22\n",
      "------------------------\n",
      "549 0.853347 0.863307\n",
      "2.0 3.0 4.0 4.0\n",
      "33 27 23 24\n",
      "------------------------\n",
      "599 0.863181 0.849017\n",
      "2.0 4.0 3.0 3.0\n",
      "33 27 24 25\n",
      "------------------------\n",
      "649 0.867738 0.857178\n",
      "2.0 4.0 4.0 2.0\n",
      "30 27 24 22\n",
      "------------------------\n",
      "699 0.859021 0.851215\n",
      "2.0 3.0 2.0 2.0\n",
      "39 24 20 30\n",
      "------------------------\n",
      "749 0.878967 0.84497\n",
      "2.0 3.0 4.0 2.0\n",
      "36 25 24 30\n",
      "------------------------\n",
      "799 0.883656 0.860399\n",
      "2.0 4.0 2.0 4.0\n",
      "43 25 29 23\n",
      "------------------------\n",
      "849 0.881734 0.870423\n",
      "3.0 4.0 2.0 2.0\n",
      "28 27 27 24\n",
      "------------------------\n",
      "899 0.839264 0.783406\n",
      "3.0 3.0 4.0 3.0\n",
      "47 25 26 27\n",
      "------------------------\n",
      "949 0.888695 0.87344\n",
      "3.0 2.0 2.0 4.0\n",
      "39 27 24 24\n",
      "------------------------\n",
      "999 0.8968 0.900659\n",
      "3.0 2.0 2.0 4.0\n",
      "31 36 21 25\n",
      "------------------------\n",
      "1049 0.9203 0.907799\n",
      "3.0 2.0 2.0 4.0\n",
      "47 37 23 25\n",
      "------------------------\n",
      "1099 0.8917 0.888915\n",
      "2.0 2.0 2.0 2.0\n",
      "38 24 28 30\n",
      "------------------------\n",
      "1149 0.903013 0.904676\n",
      "3.0 4.0 2.0 4.0\n",
      "28 23 24 25\n",
      "------------------------\n",
      "1199 0.919533 0.893366\n",
      "3.0 2.0 4.0 2.0\n",
      "32 25 25 21\n",
      "------------------------\n",
      "1249 0.867227 0.877765\n",
      "2.0 4.0 4.0 4.0\n",
      "42 31 29 33\n",
      "------------------------\n",
      "1299 0.907459 0.911506\n",
      "2.0 2.0 2.0 3.0\n",
      "42 29 23 22\n",
      "------------------------\n",
      "1349 0.912269 0.890389\n",
      "2.0 3.0 3.0 3.0\n",
      "40 25 25 23\n",
      "------------------------\n",
      "1399 0.894262 0.909881\n",
      "2.0 3.0 4.0 3.0\n",
      "36 26 25 22\n",
      "------------------------\n",
      "1449 0.911032 0.905661\n",
      "3.0 2.0 2.0 2.0\n",
      "32 37 39 23\n",
      "------------------------\n",
      "1499 0.924697 0.921674\n",
      "3.0 4.0 2.0 2.0\n",
      "45 24 25 27\n",
      "------------------------\n",
      "1549 0.911338 0.886958\n",
      "2.0 4.0 2.0 2.0\n",
      "36 25 24 22\n",
      "------------------------\n",
      "1599 0.925511 0.914144\n",
      "2.0 2.0 4.0 4.0\n",
      "36 22 29 25\n",
      "------------------------\n",
      "1649 0.909205 0.889519\n",
      "2.0 4.0 2.0 2.0\n",
      "30 22 27 27\n",
      "------------------------\n",
      "1699 0.939502 0.940688\n",
      "3.0 2.0 4.0 3.0\n",
      "33 31 25 19\n",
      "------------------------\n",
      "1749 0.915 0.920878\n",
      "3.0 2.0 4.0 4.0\n",
      "46 25 29 21\n",
      "------------------------\n",
      "1799 0.944218 0.945797\n",
      "3.0 3.0 4.0 2.0\n",
      "44 25 23 23\n",
      "------------------------\n",
      "1849 0.908854 0.914355\n",
      "3.0 2.0 2.0 2.0\n",
      "38 27 34 26\n",
      "------------------------\n",
      "1899 0.753258 0.919524\n",
      "3.0 2.0 2.0 2.0\n",
      "34 40 24 26\n",
      "------------------------\n",
      "1949 0.944968 0.943731\n",
      "3.0 3.0 2.0 2.0\n",
      "44 29 19 25\n",
      "------------------------\n",
      "1999 0.9294 0.937554\n",
      "3.0 3.0 2.0 2.0\n",
      "40 24 25 18\n",
      "------------------------\n",
      "2049 0.945321 0.953898\n",
      "3.0 3.0 2.0 4.0\n",
      "43 27 28 23\n",
      "------------------------\n",
      "2099 0.949168 0.948401\n",
      "3.0 3.0 2.0 2.0\n",
      "42 30 23 24\n",
      "------------------------\n",
      "2149 0.935917 0.943886\n",
      "3.0 3.0 2.0 2.0\n",
      "37 28 24 38\n",
      "------------------------\n",
      "2199 0.943728 0.948508\n",
      "3.0 2.0 2.0 2.0\n",
      "37 24 30 29\n",
      "------------------------\n",
      "2249 0.955498 0.953011\n",
      "3.0 3.0 4.0 2.0\n",
      "39 35 21 29\n",
      "------------------------\n",
      "2299 0.951555 0.961501\n",
      "2.0 2.0 2.0 4.0\n",
      "30 30 20 28\n",
      "------------------------\n",
      "2349 0.957826 0.957635\n",
      "3.0 2.0 4.0 4.0\n",
      "32 33 22 30\n",
      "------------------------\n",
      "2399 0.830932 0.831267\n",
      "2.0 2.0 4.0 1.0\n",
      "31 36 33 41\n",
      "------------------------\n",
      "2449 0.957896 0.955553\n",
      "1.0 4.0 3.0 2.0\n",
      "32 54 29 37\n",
      "------------------------\n",
      "2499 0.952517 0.966805\n",
      "1.0 4.0 3.0 2.0\n",
      "30 55 22 35\n",
      "------------------------\n",
      "2549 0.957956 0.960387\n",
      "1.0 4.0 4.0 2.0\n",
      "36 58 23 33\n",
      "------------------------\n",
      "2599 0.952522 0.962686\n",
      "1.0 4.0 2.0 2.0\n",
      "34 60 20 34\n",
      "------------------------\n",
      "2649 0.962387 0.964489\n",
      "1.0 4.0 3.0 2.0\n",
      "28 59 31 26\n",
      "------------------------\n",
      "2699 0.958516 0.963072\n",
      "1.0 4.0 3.0 2.0\n",
      "36 57 25 35\n",
      "------------------------\n",
      "2749 0.958415 0.965809\n",
      "1.0 4.0 4.0 2.0\n",
      "35 52 21 29\n",
      "------------------------\n",
      "2799 0.958139 0.959034\n",
      "1.0 4.0 4.0 2.0\n",
      "37 51 22 28\n",
      "------------------------\n",
      "2849 0.960944 0.970513\n",
      "1.0 4.0 3.0 2.0\n",
      "40 55 21 38\n",
      "------------------------\n",
      "2899 0.961059 0.967566\n",
      "1.0 4.0 3.0 2.0\n",
      "32 50 28 33\n",
      "------------------------\n",
      "2949 0.964542 0.971022\n",
      "1.0 4.0 4.0 2.0\n",
      "44 55 22 29\n",
      "------------------------\n",
      "2999 0.964583 0.972444\n",
      "1.0 4.0 3.0 2.0\n",
      "34 53 21 33\n",
      "------------------------\n",
      "3049 0.967862 0.974449\n",
      "1.0 4.0 3.0 2.0\n",
      "39 59 24 29\n",
      "------------------------\n",
      "3099 0.9636 0.973687\n",
      "1.0 4.0 3.0 2.0\n",
      "27 53 22 28\n",
      "------------------------\n",
      "3149 0.96921 0.973016\n",
      "1.0 4.0 3.0 2.0\n",
      "41 53 21 28\n",
      "------------------------\n",
      "3199 0.96373 0.963833\n",
      "1.0 4.0 3.0 2.0\n",
      "38 53 18 28\n",
      "------------------------\n",
      "3249 0.969272 0.972757\n",
      "1.0 4.0 4.0 2.0\n",
      "33 53 21 24\n",
      "------------------------\n",
      "3299 0.968822 0.969409\n",
      "1.0 4.0 3.0 2.0\n",
      "36 53 23 22\n",
      "------------------------\n"
     ]
    },
    {
     "ename": "KeyboardInterrupt",
     "evalue": "",
     "output_type": "error",
     "traceback": [
      "\u001b[0;31m---------------------------------------------------------------------------\u001b[0m",
      "\u001b[0;31mKeyboardInterrupt\u001b[0m                         Traceback (most recent call last)",
      "\u001b[0;32m<ipython-input-6-8b4961c01e2f>\u001b[0m in \u001b[0;36m<module>\u001b[0;34m\u001b[0m\n\u001b[1;32m     30\u001b[0m     \u001b[0mbatch_V\u001b[0m \u001b[0;34m=\u001b[0m \u001b[0mV_train\u001b[0m\u001b[0;34m[\u001b[0m\u001b[0mbatch_idx\u001b[0m \u001b[0;34m:\u001b[0m \u001b[0mbatch_idx\u001b[0m\u001b[0;34m+\u001b[0m\u001b[0mbatch_length\u001b[0m\u001b[0;34m*\u001b[0m\u001b[0mbatch_size\u001b[0m\u001b[0;34m]\u001b[0m\u001b[0;34m.\u001b[0m\u001b[0mreshape\u001b[0m\u001b[0;34m(\u001b[0m\u001b[0mbatch_size\u001b[0m\u001b[0;34m,\u001b[0m \u001b[0;34m-\u001b[0m\u001b[0;36m1\u001b[0m\u001b[0;34m)\u001b[0m\u001b[0;34m.\u001b[0m\u001b[0mto\u001b[0m\u001b[0;34m(\u001b[0m\u001b[0mdevice\u001b[0m\u001b[0;34m)\u001b[0m\u001b[0;34m\u001b[0m\u001b[0;34m\u001b[0m\u001b[0m\n\u001b[1;32m     31\u001b[0m \u001b[0;34m\u001b[0m\u001b[0m\n\u001b[0;32m---> 32\u001b[0;31m     \u001b[0mV_pred\u001b[0m\u001b[0;34m,\u001b[0m \u001b[0m_\u001b[0m\u001b[0;34m,\u001b[0m \u001b[0mC_syn_e\u001b[0m\u001b[0;34m,\u001b[0m \u001b[0mC_syn_i\u001b[0m  \u001b[0;34m=\u001b[0m \u001b[0mmodel\u001b[0m\u001b[0;34m(\u001b[0m\u001b[0mbatch_E_neural\u001b[0m\u001b[0;34m,\u001b[0m \u001b[0mbatch_I_neural\u001b[0m\u001b[0;34m,\u001b[0m \u001b[0mtemp\u001b[0m\u001b[0;34m,\u001b[0m \u001b[0;32mTrue\u001b[0m\u001b[0;34m)\u001b[0m\u001b[0;34m\u001b[0m\u001b[0;34m\u001b[0m\u001b[0m\n\u001b[0m\u001b[1;32m     33\u001b[0m     \u001b[0;31m#V_pred, _, C_syn_e, C_syn_i  = model(batch_E_neural[:,5000:40000,e_idx], batch_I_neural[:,5000:40000,i_idx], temp, True)\u001b[0m\u001b[0;34m\u001b[0m\u001b[0;34m\u001b[0m\u001b[0;34m\u001b[0m\u001b[0m\n\u001b[1;32m     34\u001b[0m \u001b[0;34m\u001b[0m\u001b[0m\n",
      "\u001b[0;32m~/anaconda3/lib/python3.8/site-packages/torch/nn/modules/module.py\u001b[0m in \u001b[0;36m_call_impl\u001b[0;34m(self, *input, **kwargs)\u001b[0m\n\u001b[1;32m    887\u001b[0m             \u001b[0mresult\u001b[0m \u001b[0;34m=\u001b[0m \u001b[0mself\u001b[0m\u001b[0;34m.\u001b[0m\u001b[0m_slow_forward\u001b[0m\u001b[0;34m(\u001b[0m\u001b[0;34m*\u001b[0m\u001b[0minput\u001b[0m\u001b[0;34m,\u001b[0m \u001b[0;34m**\u001b[0m\u001b[0mkwargs\u001b[0m\u001b[0;34m)\u001b[0m\u001b[0;34m\u001b[0m\u001b[0;34m\u001b[0m\u001b[0m\n\u001b[1;32m    888\u001b[0m         \u001b[0;32melse\u001b[0m\u001b[0;34m:\u001b[0m\u001b[0;34m\u001b[0m\u001b[0;34m\u001b[0m\u001b[0m\n\u001b[0;32m--> 889\u001b[0;31m             \u001b[0mresult\u001b[0m \u001b[0;34m=\u001b[0m \u001b[0mself\u001b[0m\u001b[0;34m.\u001b[0m\u001b[0mforward\u001b[0m\u001b[0;34m(\u001b[0m\u001b[0;34m*\u001b[0m\u001b[0minput\u001b[0m\u001b[0;34m,\u001b[0m \u001b[0;34m**\u001b[0m\u001b[0mkwargs\u001b[0m\u001b[0;34m)\u001b[0m\u001b[0;34m\u001b[0m\u001b[0;34m\u001b[0m\u001b[0m\n\u001b[0m\u001b[1;32m    890\u001b[0m         for hook in itertools.chain(\n\u001b[1;32m    891\u001b[0m                 \u001b[0m_global_forward_hooks\u001b[0m\u001b[0;34m.\u001b[0m\u001b[0mvalues\u001b[0m\u001b[0;34m(\u001b[0m\u001b[0;34m)\u001b[0m\u001b[0;34m,\u001b[0m\u001b[0;34m\u001b[0m\u001b[0;34m\u001b[0m\u001b[0m\n",
      "\u001b[0;32m~/dendrite/models/sub_clust_cos_glm.py\u001b[0m in \u001b[0;36mforward\u001b[0;34m(self, S_e, S_i, temp, test)\u001b[0m\n\u001b[1;32m     79\u001b[0m \u001b[0;34m\u001b[0m\u001b[0m\n\u001b[1;32m     80\u001b[0m         \u001b[0mpad_syn_e\u001b[0m \u001b[0;34m=\u001b[0m \u001b[0mtorch\u001b[0m\u001b[0;34m.\u001b[0m\u001b[0mzeros\u001b[0m\u001b[0;34m(\u001b[0m\u001b[0mbatch\u001b[0m\u001b[0;34m,\u001b[0m \u001b[0mT_data\u001b[0m \u001b[0;34m+\u001b[0m \u001b[0mself\u001b[0m\u001b[0;34m.\u001b[0m\u001b[0mT_no\u001b[0m\u001b[0;34m-\u001b[0m\u001b[0;36m1\u001b[0m\u001b[0;34m,\u001b[0m \u001b[0mself\u001b[0m\u001b[0;34m.\u001b[0m\u001b[0msub_no\u001b[0m\u001b[0;34m)\u001b[0m\u001b[0;34m.\u001b[0m\u001b[0mto\u001b[0m\u001b[0;34m(\u001b[0m\u001b[0mself\u001b[0m\u001b[0;34m.\u001b[0m\u001b[0mdevice\u001b[0m\u001b[0;34m)\u001b[0m\u001b[0;34m\u001b[0m\u001b[0;34m\u001b[0m\u001b[0m\n\u001b[0;32m---> 81\u001b[0;31m         \u001b[0mpad_syn_i\u001b[0m \u001b[0;34m=\u001b[0m \u001b[0mtorch\u001b[0m\u001b[0;34m.\u001b[0m\u001b[0mzeros\u001b[0m\u001b[0;34m(\u001b[0m\u001b[0mbatch\u001b[0m\u001b[0;34m,\u001b[0m \u001b[0mT_data\u001b[0m \u001b[0;34m+\u001b[0m \u001b[0mself\u001b[0m\u001b[0;34m.\u001b[0m\u001b[0mT_no\u001b[0m\u001b[0;34m-\u001b[0m\u001b[0;36m1\u001b[0m\u001b[0;34m,\u001b[0m \u001b[0mself\u001b[0m\u001b[0;34m.\u001b[0m\u001b[0msub_no\u001b[0m\u001b[0;34m)\u001b[0m\u001b[0;34m.\u001b[0m\u001b[0mto\u001b[0m\u001b[0;34m(\u001b[0m\u001b[0mself\u001b[0m\u001b[0;34m.\u001b[0m\u001b[0mdevice\u001b[0m\u001b[0;34m)\u001b[0m\u001b[0;34m\u001b[0m\u001b[0;34m\u001b[0m\u001b[0m\n\u001b[0m\u001b[1;32m     82\u001b[0m         \u001b[0mpad_syn_e\u001b[0m\u001b[0;34m[\u001b[0m\u001b[0;34m:\u001b[0m\u001b[0;34m,\u001b[0m\u001b[0;34m-\u001b[0m\u001b[0mT_data\u001b[0m\u001b[0;34m:\u001b[0m\u001b[0;34m]\u001b[0m \u001b[0;34m=\u001b[0m \u001b[0mpad_syn_e\u001b[0m\u001b[0;34m[\u001b[0m\u001b[0;34m:\u001b[0m\u001b[0;34m,\u001b[0m\u001b[0;34m-\u001b[0m\u001b[0mT_data\u001b[0m\u001b[0;34m:\u001b[0m\u001b[0;34m]\u001b[0m \u001b[0;34m+\u001b[0m \u001b[0msyn_e\u001b[0m\u001b[0;34m\u001b[0m\u001b[0;34m\u001b[0m\u001b[0m\n\u001b[1;32m     83\u001b[0m         \u001b[0mpad_syn_i\u001b[0m\u001b[0;34m[\u001b[0m\u001b[0;34m:\u001b[0m\u001b[0;34m,\u001b[0m\u001b[0;34m-\u001b[0m\u001b[0mT_data\u001b[0m\u001b[0;34m:\u001b[0m\u001b[0;34m]\u001b[0m \u001b[0;34m=\u001b[0m \u001b[0mpad_syn_i\u001b[0m\u001b[0;34m[\u001b[0m\u001b[0;34m:\u001b[0m\u001b[0;34m,\u001b[0m\u001b[0;34m-\u001b[0m\u001b[0mT_data\u001b[0m\u001b[0;34m:\u001b[0m\u001b[0;34m]\u001b[0m \u001b[0;34m+\u001b[0m \u001b[0msyn_i\u001b[0m\u001b[0;34m\u001b[0m\u001b[0;34m\u001b[0m\u001b[0m\n",
      "\u001b[0;31mKeyboardInterrupt\u001b[0m: "
     ]
    }
   ],
   "source": [
    "import sys\n",
    "if not sys.warnoptions:\n",
    "    import warnings\n",
    "    warnings.simplefilter(\"ignore\")\n",
    "\n",
    "score_list = []\n",
    "temp_list = np.logspace(0,-3,100)\n",
    "temp_count = 0\n",
    "\n",
    "#start_idx = torch.where(e_idx == 880)[0].item()\n",
    "\n",
    "for i in tnrange(10000):\n",
    "    model.train()\n",
    "    optimizer.zero_grad()\n",
    "    syn_optimizer.zero_grad()\n",
    "           \n",
    "    with torch.no_grad():\n",
    "        model.C_syn_e_raw.copy_(model.C_syn_e_raw - torch.mean(model.C_syn_e_raw, 0).reshape(1,-1))\n",
    "        model.C_syn_i_raw.copy_(model.C_syn_i_raw - torch.mean(model.C_syn_i_raw, 0).reshape(1,-1))\n",
    "    \n",
    "    if (temp_count < 99) & (i%increment == increment-1):\n",
    "        temp_count += 1\n",
    "    temp = torch.tensor([temp_list[temp_count]]).to(device).float()\n",
    "    \n",
    "    batch_idx = train_idx[i].long()\n",
    "    batch_E_neural = train_E_neural[batch_idx : batch_idx+batch_length*batch_size].toarray().reshape(batch_size, batch_length, -1)\n",
    "    batch_I_neural = train_I_neural[batch_idx : batch_idx+batch_length*batch_size].toarray().reshape(batch_size, batch_length, -1)\n",
    "    batch_E_neural = torch.from_numpy(batch_E_neural).float().to(device)\n",
    "    batch_I_neural = torch.from_numpy(batch_I_neural).float().to(device)\n",
    "    batch_V = V_train[batch_idx : batch_idx+batch_length*batch_size].reshape(batch_size, -1).to(device)\n",
    "    \n",
    "    V_pred, _, C_syn_e, C_syn_i  = model(batch_E_neural, batch_I_neural, temp, True)\n",
    "    #V_pred, _, C_syn_e, C_syn_i  = model(batch_E_neural[:,5000:40000,e_idx], batch_I_neural[:,5000:40000,i_idx], temp, True)\n",
    "    \n",
    "    loss = torch.mean((V_pred - batch_V)**2)\n",
    "    #loss = torch.mean((V_pred - batch_V[:,5000:40000])**2)\n",
    "    \n",
    "    loss.backward()\n",
    "    optimizer.step()\n",
    "    scheduler.step()\n",
    "    syn_optimizer.step()\n",
    "    syn_scheduler.step()\n",
    "    \n",
    "    if (i%50 == 49) or (i == 0):\n",
    "        model.eval()\n",
    "        test_V_pred, test_sub_out, test_C_syn_e, test_C_syn_i = model(test_E_neural.unsqueeze(0), test_I_neural.unsqueeze(0), 0.0001, True)\n",
    "        #test_V_pred, test_sub_out, test_C_syn_e, test_C_syn_i = model(test_E_neural.unsqueeze(0)[:,5000:40000,e_idx], test_I_neural.unsqueeze(0)[:,5000:40000,i_idx], 0.0001, True)\n",
    "        test_V_pred = test_V_pred.flatten()\n",
    "                 \n",
    "        test_score = explained_variance_score(V_test.cpu().detach().numpy(), test_V_pred.cpu().detach().numpy())\n",
    "        train_score = explained_variance_score(batch_V[0].cpu().detach().numpy(), V_pred[0].cpu().detach().numpy())\n",
    "        #test_score = explained_variance_score(V_test[5000:40000].cpu().detach().numpy(), test_V_pred.cpu().detach().numpy())\n",
    "        #train_score = explained_variance_score(batch_V[0,5000:40000].cpu().detach().numpy(), V_pred[0].cpu().detach().numpy())\n",
    "        score_list.append(test_score)\n",
    "        \n",
    "        C_syn_idx = torch.argmax(test_C_syn_e[:,880:1120], 0).float()\n",
    "        #C_syn_idx = torch.argmax(test_C_syn_e[:,start_idx:start_idx+240], 0).float()\n",
    "        \n",
    "        mode1, mode1_idx = torch.mode(C_syn_idx[:60])\n",
    "        mode2, mode2_idx = torch.mode(C_syn_idx[60:120])\n",
    "        mode3, mode3_idx = torch.mode(C_syn_idx[120:180])\n",
    "        mode4, mode4_idx = torch.mode(C_syn_idx[180:240])\n",
    "        mode1_no = torch.numel(torch.where(C_syn_idx[:60] == mode1)[0])\n",
    "        mode2_no = torch.numel(torch.where(C_syn_idx[60:120] == mode2)[0])\n",
    "        mode3_no = torch.numel(torch.where(C_syn_idx[120:180] == mode3)[0])\n",
    "        mode4_no = torch.numel(torch.where(C_syn_idx[180:240] == mode4)[0])\n",
    "                        \n",
    "        print(i, np.round(test_score,6), np.round(train_score,6))\n",
    "        print(mode1.item(), mode2.item(), mode3.item(), mode4.item())\n",
    "        print(mode1_no, mode2_no, mode3_no, mode4_no)\n",
    "        print(\"------------------------\")"
   ]
  },
  {
   "cell_type": "code",
   "execution_count": null,
   "metadata": {},
   "outputs": [],
   "source": []
  },
  {
   "cell_type": "code",
   "execution_count": null,
   "metadata": {},
   "outputs": [],
   "source": []
  },
  {
   "cell_type": "code",
   "execution_count": 7,
   "metadata": {},
   "outputs": [
    {
     "data": {
      "text/plain": [
       "[<matplotlib.lines.Line2D at 0x7f5338483400>]"
      ]
     },
     "execution_count": 7,
     "metadata": {},
     "output_type": "execute_result"
    },
    {
     "data": {
      "image/png": "[encoded data removed]",
      "text/plain": [
       "<Figure size 432x288 with 1 Axes>"
      ]
     },
     "metadata": {
      "needs_background": "light"
     },
     "output_type": "display_data"
    }
   ],
   "source": [
    "plt.plot(torch.exp(model.E_scale).cpu().detach().numpy())"
   ]
  },
  {
   "cell_type": "code",
   "execution_count": 8,
   "metadata": {},
   "outputs": [
    {
     "name": "stdout",
     "output_type": "stream",
     "text": [
      "-2.689126491546631 1.425112009048462\n",
      "-2.601821184158325 1.6811479330062866\n",
      "-2.515014410018921 0.7864927053451538\n",
      "-2.2772765159606934 0.9762808680534363\n"
     ]
    },
    {
     "data": {
      "image/png": "[encoded data removed]",
      "text/plain": [
       "<Figure size 720x576 with 4 Axes>"
      ]
     },
     "metadata": {
      "needs_background": "light"
     },
     "output_type": "display_data"
    }
   ],
   "source": [
    "fig, axs = plt.subplots(ncols=4, figsize = (10,8))\n",
    "start_idx = 880\n",
    "\n",
    "for i in range(4):\n",
    "    axs[i].imshow(model.C_syn_e_raw[:,start_idx+60*i:start_idx+60+60*i].cpu().detach().numpy().T)\n",
    "    print(torch.min(model.C_syn_e_raw[:,start_idx+60*i:start_idx+60+60*i]).item(),\n",
    "          torch.max(model.C_syn_e_raw[:,start_idx+60*i:start_idx+60+60*i]).item())"
   ]
  },
  {
   "cell_type": "code",
   "execution_count": null,
   "metadata": {},
   "outputs": [],
   "source": []
  },
  {
   "cell_type": "code",
   "execution_count": 9,
   "metadata": {},
   "outputs": [],
   "source": [
    "C_syn_e_plot = np.zeros((E_no))\n",
    "C_syn_i_plot = np.zeros((I_no))\n",
    "\n",
    "for e in range(E_no):\n",
    "    C_syn_e_plot[e] = torch.argmax(test_C_syn_e[:,e])\n",
    "    \n",
    "for i in range(I_no):\n",
    "    C_syn_i_plot[i] = torch.argmax(test_C_syn_i[:,i])"
   ]
  },
  {
   "cell_type": "code",
   "execution_count": 10,
   "metadata": {
    "scrolled": true
   },
   "outputs": [
    {
     "data": {
      "text/plain": [
       "<matplotlib.collections.PathCollection at 0x7f533824c640>"
      ]
     },
     "execution_count": 10,
     "metadata": {},
     "output_type": "execute_result"
    },
    {
     "data": {
      "image/png": "[encoded data removed]",
      "text/plain": [
       "<Figure size 1080x360 with 1 Axes>"
      ]
     },
     "metadata": {
      "needs_background": "light"
     },
     "output_type": "display_data"
    }
   ],
   "source": [
    "plt.figure(figsize = (15,5))\n",
    "plt.scatter(np.arange(E_no), C_syn_e_plot, s=1)"
   ]
  },
  {
   "cell_type": "code",
   "execution_count": 11,
   "metadata": {
    "scrolled": false
   },
   "outputs": [
    {
     "data": {
      "text/plain": [
       "<matplotlib.collections.PathCollection at 0x7f533823ed90>"
      ]
     },
     "execution_count": 11,
     "metadata": {},
     "output_type": "execute_result"
    },
    {
     "data": {
      "image/png": "[encoded data removed]",
      "text/plain": [
       "<Figure size 1080x360 with 1 Axes>"
      ]
     },
     "metadata": {
      "needs_background": "light"
     },
     "output_type": "display_data"
    }
   ],
   "source": [
    "plt.figure(figsize = (15,5))\n",
    "plt.scatter(np.arange(240), C_syn_e_plot[880:1120], s=1)"
   ]
  },
  {
   "cell_type": "code",
   "execution_count": 12,
   "metadata": {},
   "outputs": [
    {
     "data": {
      "text/plain": [
       "<matplotlib.collections.PathCollection at 0x7f53381a8730>"
      ]
     },
     "execution_count": 12,
     "metadata": {},
     "output_type": "execute_result"
    },
    {
     "data": {
      "image/png": "[encoded data removed]",
      "text/plain": [
       "<Figure size 1080x360 with 1 Axes>"
      ]
     },
     "metadata": {
      "needs_background": "light"
     },
     "output_type": "display_data"
    }
   ],
   "source": [
    "plt.figure(figsize = (15,5))\n",
    "plt.scatter(np.arange(E_no), np.exp(model.E_scale.cpu().detach().numpy()), s=1)"
   ]
  },
  {
   "cell_type": "code",
   "execution_count": null,
   "metadata": {},
   "outputs": [],
   "source": []
  },
  {
   "cell_type": "code",
   "execution_count": 13,
   "metadata": {},
   "outputs": [],
   "source": [
    "final_C_syn_e = np.zeros((sub_no, E_no))\n",
    "final_C_syn_i = np.zeros((sub_no, I_no))\n",
    "\n",
    "for e in range(E_no):\n",
    "    idx = torch.argmax(test_C_syn_e[:,e])\n",
    "    final_C_syn_e[idx,e] = 1\n",
    "    \n",
    "for i in range(I_no):\n",
    "    idx = torch.argmax(test_C_syn_i[:,i])\n",
    "    final_C_syn_i[idx,i] = 1"
   ]
  },
  {
   "cell_type": "code",
   "execution_count": 14,
   "metadata": {},
   "outputs": [],
   "source": [
    "#np.savez(\"/media/hdd01/sklee/CA1_clust4-60_noNA/clust/glm_s5_h2_pretrain_stimseed1.npz\",\n",
    "    C_syn_e = final_C_syn_e, C_syn_i = final_C_syn_i)"
   ]
  },
  {
   "cell_type": "code",
   "execution_count": null,
   "metadata": {},
   "outputs": [],
   "source": []
  }
 ],
 "metadata": {
  "kernelspec": {
   "display_name": "Python 3",
   "language": "python",
   "name": "python3"
  },
  "language_info": {
   "codemirror_mode": {
    "name": "ipython",
    "version": 3
   },
   "file_extension": ".py",
   "mimetype": "text/x-python",
   "name": "python",
   "nbconvert_exporter": "python",
   "pygments_lexer": "ipython3",
   "version": "3.8.8"
  }
 },
 "nbformat": 4,
 "nbformat_minor": 4
}
