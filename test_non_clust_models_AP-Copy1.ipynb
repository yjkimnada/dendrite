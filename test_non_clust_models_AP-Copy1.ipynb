{
 "cells": [
  {
   "cell_type": "code",
   "execution_count": 1,
   "metadata": {},
   "outputs": [],
   "source": [
    "import numpy as np\n",
    "import torch \n",
    "import torch.nn as nn\n",
    "from tqdm import tnrange\n",
    "import torch.optim as optim\n",
    "import torch.nn.functional as F\n",
    "from sklearn import metrics\n",
    "import matplotlib.pyplot as plt\n",
    "from sklearn.metrics import explained_variance_score\n",
    "import scipy\n",
    "import time\n",
    "\n",
    "#from models.sub_cos_glm import Sub_Cos_GLM\n",
    "#from models.sub_tcn import Sub_TCN\n",
    "from models.gru import GRU"
   ]
  },
  {
   "cell_type": "code",
   "execution_count": 2,
   "metadata": {},
   "outputs": [],
   "source": [
    "base_dir = \"/media/hdd01/sklee/\"\n",
    "experiment = \"clust4-60_noNA\"\n",
    "cell_type = \"CA1\"\n",
    "E_neural_file = \"Espikes_neural.npz\"\n",
    "I_neural_file = \"Ispikes_neural.npz\"\n",
    "clust_mode = \"hand\"\n",
    "model_type = \"gru\"\n",
    "\n",
    "E_neural = scipy.sparse.load_npz(base_dir+cell_type+\"_\"+experiment+\"/data/\"+E_neural_file)\n",
    "I_neural = scipy.sparse.load_npz(base_dir+cell_type+\"_\"+experiment+\"/data/\"+I_neural_file)\n",
    "\n",
    "if (clust_mode == \"hand\") or (clust_mode == \"whole\"):\n",
    "    C_syn_e = np.load(\"/media/hdd01/sklee/\"+cell_type+\"_\"+experiment+\"/data/handsub10_C_syn_e.npy\")\n",
    "    C_syn_i = np.load(\"/media/hdd01/sklee/\"+cell_type+\"_\"+experiment+\"/data/handsub10_C_syn_i.npy\")\n",
    "    C_syn_e = torch.from_numpy(C_syn_e).float()\n",
    "    C_syn_i = torch.from_numpy(C_syn_i).float()\n",
    "elif clust_mode == \"rand\":\n",
    "    C_syn_e = np.load(\"/media/hdd01/sklee/\"+cell_type+\"_\"+experiment+\"/data/randsub10_C_syn_e.npy\")\n",
    "    C_syn_i = np.load(\"/media/hdd01/sklee/\"+cell_type+\"_\"+experiment+\"/data/randsub10_C_syn_i.npy\")\n",
    "    C_syn_e = torch.from_numpy(C_syn_e).float()\n",
    "    C_syn_i = torch.from_numpy(C_syn_i).float()"
   ]
  },
  {
   "cell_type": "code",
   "execution_count": 3,
   "metadata": {},
   "outputs": [],
   "source": [
    "H_no = 20\n",
    "sub_no = 10\n",
    "E_no = 2000\n",
    "I_no = 200\n",
    "T_no = 500\n",
    "device = torch.device(\"cuda\")"
   ]
  },
  {
   "cell_type": "code",
   "execution_count": 4,
   "metadata": {},
   "outputs": [
    {
     "name": "stdout",
     "output_type": "stream",
     "text": [
      "16211\n"
     ]
    }
   ],
   "source": [
    "if model_type == \"gru\":\n",
    "    model = GRU(C_syn_e.to(device), C_syn_i.to(device), H_no, device)\n",
    "#elif model_type == \"tcn\":\n",
    "    #model = Sub_TCN(C_syn_e.to(device), C_syn_i.to(device), T_no, H_no, device)\n",
    "#elif model_type == \"glm\":\n",
    "    #model = Sub_Cos_GLM(C_syn_e.to(device), C_syn_i.to(device), T_no, H_no, device)\n",
    "    \n",
    "model.to(device).float()\n",
    "model.load_state_dict(torch.load(base_dir+cell_type+\"_\"+experiment+\"/\"+clust_mode+\"/\"+model_type+\"_s\"+str(sub_no)+\"_h\"+str(H_no)+\".pt\", map_location='cuda:0'))\n",
    "model.eval()\n",
    "print(sum(p.numel() for p in model.parameters() if p.requires_grad))"
   ]
  },
  {
   "cell_type": "code",
   "execution_count": null,
   "metadata": {},
   "outputs": [],
   "source": []
  },
  {
   "cell_type": "code",
   "execution_count": 5,
   "metadata": {},
   "outputs": [
    {
     "name": "stderr",
     "output_type": "stream",
     "text": [
      "<ipython-input-5-6af643bd40cc>:4: TqdmDeprecationWarning: Please use `tqdm.notebook.trange` instead of `tqdm.tnrange`\n",
      "  for i in tnrange(980):\n"
     ]
    },
    {
     "data": {
      "application/vnd.jupyter.widget-view+json": {
       "model_id": "d8126bdc54454417926a6dc54092ea06",
       "version_major": 2,
       "version_minor": 0
      },
      "text/plain": [
       "  0%|          | 0/980 [00:00<?, ?it/s]"
      ]
     },
     "metadata": {},
     "output_type": "display_data"
    }
   ],
   "source": [
    "if model_type == \"gru\":\n",
    "    test = np.zeros((980,50000))\n",
    "\n",
    "    for i in tnrange(980):\n",
    "        part_E_neural = torch.from_numpy(E_neural[(i)*50000:(i+1)*50000].toarray()).to(device).float().unsqueeze(0)\n",
    "        part_I_neural = torch.from_numpy(I_neural[(i)*50000:(i+1)*50000].toarray()).to(device).float().unsqueeze(0)\n",
    "\n",
    "        \n",
    "        part_test, part_sub_out = model(part_E_neural, part_I_neural)\n",
    "        test[i] = part_test.cpu().detach().numpy().flatten()\n",
    "        \n",
    "    np.savez(base_dir+cell_type+\"_\"+experiment+\"/\"+clust_mode+\"/\"+model_type+\"_s\"+str(sub_no)+\"_h\"+str(H_no)+\"_extra_output.npz\",\n",
    "        test=test)\n",
    "    \n",
    "\n"
   ]
  },
  {
   "cell_type": "code",
   "execution_count": null,
   "metadata": {},
   "outputs": [],
   "source": []
  },
  {
   "cell_type": "code",
   "execution_count": null,
   "metadata": {},
   "outputs": [],
   "source": []
  }
 ],
 "metadata": {
  "kernelspec": {
   "display_name": "Python 3",
   "language": "python",
   "name": "python3"
  },
  "language_info": {
   "codemirror_mode": {
    "name": "ipython",
    "version": 3
   },
   "file_extension": ".py",
   "mimetype": "text/x-python",
   "name": "python",
   "nbconvert_exporter": "python",
   "pygments_lexer": "ipython3",
   "version": "3.8.8"
  }
 },
 "nbformat": 4,
 "nbformat_minor": 4
}
