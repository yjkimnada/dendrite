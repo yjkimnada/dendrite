{
 "cells": [
  {
   "cell_type": "code",
   "execution_count": 1,
   "metadata": {},
   "outputs": [],
   "source": [
    "import numpy as np\n",
    "import torch \n",
    "import torch.nn as nn\n",
    "from tqdm import tnrange\n",
    "import torch.optim as optim\n",
    "import torch.nn.functional as F\n",
    "from sklearn import metrics\n",
    "import matplotlib.pyplot as plt\n",
    "from sklearn.metrics import explained_variance_score\n",
    "import scipy\n",
    "import time\n",
    "\n",
    "from models.sub_clust_cos_glm2 import Sub_Clust_Cos_GLM\n",
    "from models.clust_gru import Clust_GRU"
   ]
  },
  {
   "cell_type": "markdown",
   "metadata": {},
   "source": [
    "# Hyperparameters"
   ]
  },
  {
   "cell_type": "code",
   "execution_count": 2,
   "metadata": {},
   "outputs": [],
   "source": [
    "base_dir = \"/media/hdd01/sklee/\"\n",
    "experiment = \"clust4-60\"\n",
    "cell_type = \"CA1\"\n",
    "E_neural_file = \"Espikes_neural.npz\"\n",
    "I_neural_file = \"Ispikes_neural.npz\"\n",
    "#V_file = \"vdata_T10_Ne2000_gA0.6_tauA1_gN0.8_Ni200_gG0.1_gB0.1_noDendNa_Er0.5_Ir7.4_random_NR_rep1000_stimseed1.npy\"\n",
    "V_file = \"V_diff.npy\"\n",
    "\n",
    "E_neural = scipy.sparse.load_npz(base_dir+cell_type+\"_\"+experiment+\"/data/\"+E_neural_file)\n",
    "I_neural = scipy.sparse.load_npz(base_dir+cell_type+\"_\"+experiment+\"/data/\"+I_neural_file)\n",
    "#V = np.load(base_dir+cell_type+\"_\"+experiment+\"/data/\"+V_file)[:,:50000].flatten()\n",
    "V = np.load(base_dir+cell_type+\"_\"+experiment+\"/data/\"+V_file)\n",
    "V = torch.from_numpy(V)\n",
    "#V -= torch.mean(V)\n",
    "\n",
    "eloc_file = \"Elocs_T10_Ne2000_gA0.6_tauA1_gN0.8_Ni200_gG0.1_gB0.1_Er0.5_Ir7.4_random_NR_rep1000_stimseed1.npy\"\n",
    "iloc_file = \"Ilocs_T10_Ne2000_gA0.6_tauA1_gN0.8_Ni200_gG0.1_gB0.1_Er0.5_Ir7.4_random_NR_rep1000_stimseed1.npy\"\n",
    "eloc = np.load(base_dir+cell_type+\"_\"+experiment+\"/data/\"+eloc_file)\n",
    "iloc = np.load(base_dir+cell_type+\"_\"+experiment+\"/data/\"+iloc_file)\n",
    "\n",
    "den_idx = np.unique(eloc[880:1120,0])\n",
    "e_idx = np.where(np.isin(eloc[:,0], den_idx) == True)[0]\n",
    "i_idx = np.where(np.isin(iloc[:,0], den_idx) == True)[0]\n",
    "rest_idx = np.delete(np.arange(2000), e_idx)\n",
    "e_idx = torch.from_numpy(e_idx)\n",
    "i_idx = torch.from_numpy(i_idx)\n",
    "rest_idx = torch.from_numpy(rest_idx)"
   ]
  },
  {
   "cell_type": "code",
   "execution_count": 3,
   "metadata": {},
   "outputs": [],
   "source": [
    "T_train = 980 * 1000 * 50\n",
    "T_test = 1 * 1000 * 50\n",
    "H_no = 2\n",
    "sub_no = 5\n",
    "E_no = 2000\n",
    "I_no = 200\n",
    "#E_no = 299\n",
    "#I_no = 8\n",
    "T_no = 500\n",
    "device = torch.device(\"cuda\")\n",
    "\n",
    "increment = 50\n",
    "batch_length = 50000\n",
    "batch_size = 5\n",
    "iter_no = 9800*2\n",
    "epoch_no = iter_no*batch_length*batch_size//T_train "
   ]
  },
  {
   "cell_type": "markdown",
   "metadata": {},
   "source": [
    "# Preprocess"
   ]
  },
  {
   "cell_type": "code",
   "execution_count": 4,
   "metadata": {},
   "outputs": [],
   "source": [
    "V_train = V[:T_train].float()\n",
    "V_test = V[-50000:].to(device).float()\n",
    "\n",
    "test_E_neural = E_neural[-50000:].toarray()\n",
    "test_I_neural = I_neural[-50000:].toarray()\n",
    "train_E_neural = E_neural[:T_train]\n",
    "train_I_neural = I_neural[:T_train]\n",
    "\n",
    "test_E_neural = torch.from_numpy(test_E_neural).float().to(device)\n",
    "test_I_neural = torch.from_numpy(test_I_neural).float().to(device)\n",
    "\n",
    "train_idx = np.empty((epoch_no, T_train//batch_length//batch_size))\n",
    "for i in range(epoch_no):\n",
    "    part_idx = np.arange(0, T_train, batch_length*batch_size)\n",
    "    np.random.shuffle(part_idx)\n",
    "    train_idx[i] = part_idx\n",
    "train_idx = train_idx.flatten()\n",
    "train_idx = torch.from_numpy(train_idx)"
   ]
  },
  {
   "cell_type": "markdown",
   "metadata": {},
   "source": [
    "# Train"
   ]
  },
  {
   "cell_type": "code",
   "execution_count": 5,
   "metadata": {},
   "outputs": [],
   "source": [
    "model = Sub_Clust_Cos_GLM(sub_no, E_no, I_no, T_no, H_no, e_idx, rest_idx, device)\n",
    "#model = Clust_GRU(sub_no, E_no, I_no, H_no, device)\n",
    "\n",
    "syn_params = []\n",
    "rest_params = []\n",
    "\n",
    "for name, params in model.named_parameters():\n",
    "    if (name == \"C_syn_e_clust_raw\"):\n",
    "        syn_params.append(params)\n",
    "    elif (name == \"C_syn_e_rest_raw\"):\n",
    "        syn_params.append(params)\n",
    "    elif (name == \"C_syn_i_raw\"):\n",
    "        syn_params.append(params)\n",
    "    else:\n",
    "        rest_params.append(params)\n"
   ]
  },
  {
   "cell_type": "code",
   "execution_count": 6,
   "metadata": {},
   "outputs": [
    {
     "name": "stdout",
     "output_type": "stream",
     "text": [
      "13701\n",
      "11000\n",
      "2701\n",
      "(100,)\n"
     ]
    }
   ],
   "source": [
    "# GLM\n",
    "optimizer = torch.optim.Adam(rest_params, lr = 0.005/(1.025**100))\n",
    "syn_optimizer = torch.optim.Adam(syn_params, lr = 0.001)\n",
    "milestones = np.arange(increment-1, increment*100, increment)\n",
    "scheduler = torch.optim.lr_scheduler.MultiStepLR(optimizer, milestones=milestones, gamma=1.025)\n",
    "syn_milestones = np.arange(increment-1, increment*100, increment)\n",
    "syn_scheduler = torch.optim.lr_scheduler.MultiStepLR(syn_optimizer, milestones=syn_milestones, gamma=1)\n",
    "\n",
    "# GRU\n",
    "#optimizer = torch.optim.Adam(rest_params, lr = 0.005)\n",
    "#syn_optimizer = torch.optim.Adam(syn_params, lr = 0.001)\n",
    "#milestones = np.arange(increment-1, increment*100, increment)\n",
    "#scheduler = torch.optim.lr_scheduler.MultiStepLR(optimizer, milestones=milestones, gamma=1)\n",
    "#syn_scheduler = torch.optim.lr_scheduler.StepLR(syn_optimizer, step_size=increment, gamma=1)\n",
    "\n",
    "model.to(device).float()\n",
    "print(sum(p.numel() for p in model.parameters() if p.requires_grad))\n",
    "\n",
    "print(sum(p.numel() for p in syn_params if p.requires_grad))\n",
    "print(sum(p.numel() for p in rest_params if p.requires_grad))\n",
    "print(milestones.shape)"
   ]
  },
  {
   "cell_type": "code",
   "execution_count": 7,
   "metadata": {
    "scrolled": false
   },
   "outputs": [
    {
     "data": {
      "application/vnd.jupyter.widget-view+json": {
       "model_id": "4bbeafbbd0a64e339c90dce287645277",
       "version_major": 2,
       "version_minor": 0
      },
      "text/plain": [
       "  0%|          | 0/19600 [00:00<?, ?it/s]"
      ]
     },
     "metadata": {},
     "output_type": "display_data"
    },
    {
     "name": "stdout",
     "output_type": "stream",
     "text": [
      "0 -0.347381 -0.50926\n",
      "2.0 1.0 2.0 1.0\n",
      "19 14 16 15\n",
      "------------------------\n",
      "49 0.101409 0.089927\n",
      "2.0 3.0 2.0 2.0\n",
      "30 33 25 40\n",
      "------------------------\n",
      "99 0.216794 0.219107\n",
      "3.0 3.0 2.0 2.0\n",
      "44 53 25 40\n",
      "------------------------\n",
      "149 0.241181 0.297896\n",
      "3.0 3.0 2.0 2.0\n",
      "42 55 24 40\n",
      "------------------------\n",
      "199 0.251807 0.322449\n",
      "3.0 3.0 4.0 2.0\n",
      "46 56 22 32\n",
      "------------------------\n",
      "249 0.247939 0.246277\n",
      "3.0 3.0 1.0 3.0\n",
      "33 52 17 28\n",
      "------------------------\n",
      "299 0.253468 0.276439\n",
      "3.0 3.0 4.0 3.0\n",
      "34 55 19 25\n",
      "------------------------\n",
      "349 0.26224 0.254948\n",
      "0.0 3.0 4.0 2.0\n",
      "23 55 31 28\n",
      "------------------------\n",
      "399 0.254779 0.275344\n",
      "3.0 3.0 4.0 3.0\n",
      "26 55 27 28\n",
      "------------------------\n",
      "449 0.255225 0.256077\n",
      "0.0 3.0 4.0 2.0\n",
      "26 59 26 25\n",
      "------------------------\n",
      "499 0.260347 0.33115\n",
      "0.0 3.0 4.0 3.0\n",
      "30 57 29 27\n",
      "------------------------\n",
      "549 0.28091 0.317334\n",
      "0.0 3.0 4.0 2.0\n",
      "22 59 32 36\n",
      "------------------------\n",
      "599 0.278222 0.254276\n",
      "0.0 3.0 4.0 3.0\n",
      "27 59 36 24\n",
      "------------------------\n",
      "649 0.278146 0.302445\n",
      "0.0 3.0 4.0 1.0\n",
      "24 59 44 24\n",
      "------------------------\n",
      "699 0.295385 0.298042\n",
      "0.0 3.0 4.0 1.0\n",
      "20 60 37 30\n",
      "------------------------\n",
      "749 0.294652 0.310442\n",
      "0.0 3.0 4.0 1.0\n",
      "23 59 42 29\n",
      "------------------------\n",
      "799 0.293943 0.315225\n",
      "1.0 3.0 4.0 1.0\n",
      "29 59 44 37\n",
      "------------------------\n",
      "849 0.300171 0.328735\n",
      "1.0 3.0 4.0 1.0\n",
      "28 60 39 39\n",
      "------------------------\n",
      "899 0.307323 0.332326\n",
      "1.0 3.0 4.0 1.0\n",
      "22 60 45 41\n",
      "------------------------\n",
      "949 0.313214 0.31196\n",
      "1.0 3.0 4.0 1.0\n",
      "29 60 49 43\n",
      "------------------------\n",
      "999 0.313643 0.354527\n",
      "1.0 3.0 4.0 1.0\n",
      "32 60 42 47\n",
      "------------------------\n",
      "1049 0.334057 0.360876\n",
      "1.0 3.0 4.0 1.0\n",
      "38 60 43 52\n",
      "------------------------\n",
      "1099 0.336685 0.303671\n",
      "1.0 3.0 4.0 1.0\n",
      "42 60 41 50\n",
      "------------------------\n",
      "1149 0.356402 0.335566\n",
      "1.0 3.0 4.0 1.0\n",
      "50 60 41 47\n",
      "------------------------\n",
      "1199 0.356519 0.408132\n",
      "1.0 3.0 4.0 1.0\n",
      "49 60 41 45\n",
      "------------------------\n",
      "1249 0.36155 0.357086\n",
      "1.0 3.0 4.0 1.0\n",
      "52 60 38 52\n",
      "------------------------\n",
      "1299 0.363175 0.375382\n",
      "1.0 3.0 4.0 1.0\n",
      "53 60 42 53\n",
      "------------------------\n"
     ]
    },
    {
     "ename": "KeyboardInterrupt",
     "evalue": "",
     "output_type": "error",
     "traceback": [
      "\u001b[0;31m---------------------------------------------------------------------------\u001b[0m",
      "\u001b[0;31mKeyboardInterrupt\u001b[0m                         Traceback (most recent call last)",
      "\u001b[0;32m<ipython-input-7-6e433a6a80aa>\u001b[0m in \u001b[0;36m<module>\u001b[0;34m\u001b[0m\n\u001b[1;32m     36\u001b[0m \u001b[0;34m\u001b[0m\u001b[0m\n\u001b[1;32m     37\u001b[0m     \u001b[0mloss\u001b[0m \u001b[0;34m=\u001b[0m \u001b[0mtorch\u001b[0m\u001b[0;34m.\u001b[0m\u001b[0mmean\u001b[0m\u001b[0;34m(\u001b[0m\u001b[0;34m(\u001b[0m\u001b[0mV_pred\u001b[0m \u001b[0;34m-\u001b[0m \u001b[0mbatch_V\u001b[0m\u001b[0;34m[\u001b[0m\u001b[0;34m:\u001b[0m\u001b[0;34m,\u001b[0m\u001b[0;34m:\u001b[0m\u001b[0;34m]\u001b[0m\u001b[0;34m)\u001b[0m\u001b[0;34m**\u001b[0m\u001b[0;36m2\u001b[0m\u001b[0;34m)\u001b[0m\u001b[0;34m\u001b[0m\u001b[0;34m\u001b[0m\u001b[0m\n\u001b[0;32m---> 38\u001b[0;31m     \u001b[0mloss\u001b[0m\u001b[0;34m.\u001b[0m\u001b[0mbackward\u001b[0m\u001b[0;34m(\u001b[0m\u001b[0;34m)\u001b[0m\u001b[0;34m\u001b[0m\u001b[0;34m\u001b[0m\u001b[0m\n\u001b[0m\u001b[1;32m     39\u001b[0m     \u001b[0moptimizer\u001b[0m\u001b[0;34m.\u001b[0m\u001b[0mstep\u001b[0m\u001b[0;34m(\u001b[0m\u001b[0;34m)\u001b[0m\u001b[0;34m\u001b[0m\u001b[0;34m\u001b[0m\u001b[0m\n\u001b[1;32m     40\u001b[0m     \u001b[0mscheduler\u001b[0m\u001b[0;34m.\u001b[0m\u001b[0mstep\u001b[0m\u001b[0;34m(\u001b[0m\u001b[0;34m)\u001b[0m\u001b[0;34m\u001b[0m\u001b[0;34m\u001b[0m\u001b[0m\n",
      "\u001b[0;32m~/anaconda3/lib/python3.8/site-packages/torch/tensor.py\u001b[0m in \u001b[0;36mbackward\u001b[0;34m(self, gradient, retain_graph, create_graph, inputs)\u001b[0m\n\u001b[1;32m    243\u001b[0m                 \u001b[0mcreate_graph\u001b[0m\u001b[0;34m=\u001b[0m\u001b[0mcreate_graph\u001b[0m\u001b[0;34m,\u001b[0m\u001b[0;34m\u001b[0m\u001b[0;34m\u001b[0m\u001b[0m\n\u001b[1;32m    244\u001b[0m                 inputs=inputs)\n\u001b[0;32m--> 245\u001b[0;31m         \u001b[0mtorch\u001b[0m\u001b[0;34m.\u001b[0m\u001b[0mautograd\u001b[0m\u001b[0;34m.\u001b[0m\u001b[0mbackward\u001b[0m\u001b[0;34m(\u001b[0m\u001b[0mself\u001b[0m\u001b[0;34m,\u001b[0m \u001b[0mgradient\u001b[0m\u001b[0;34m,\u001b[0m \u001b[0mretain_graph\u001b[0m\u001b[0;34m,\u001b[0m \u001b[0mcreate_graph\u001b[0m\u001b[0;34m,\u001b[0m \u001b[0minputs\u001b[0m\u001b[0;34m=\u001b[0m\u001b[0minputs\u001b[0m\u001b[0;34m)\u001b[0m\u001b[0;34m\u001b[0m\u001b[0;34m\u001b[0m\u001b[0m\n\u001b[0m\u001b[1;32m    246\u001b[0m \u001b[0;34m\u001b[0m\u001b[0m\n\u001b[1;32m    247\u001b[0m     \u001b[0;32mdef\u001b[0m \u001b[0mregister_hook\u001b[0m\u001b[0;34m(\u001b[0m\u001b[0mself\u001b[0m\u001b[0;34m,\u001b[0m \u001b[0mhook\u001b[0m\u001b[0;34m)\u001b[0m\u001b[0;34m:\u001b[0m\u001b[0;34m\u001b[0m\u001b[0;34m\u001b[0m\u001b[0m\n",
      "\u001b[0;32m~/anaconda3/lib/python3.8/site-packages/torch/autograd/__init__.py\u001b[0m in \u001b[0;36mbackward\u001b[0;34m(tensors, grad_tensors, retain_graph, create_graph, grad_variables, inputs)\u001b[0m\n\u001b[1;32m    143\u001b[0m         \u001b[0mretain_graph\u001b[0m \u001b[0;34m=\u001b[0m \u001b[0mcreate_graph\u001b[0m\u001b[0;34m\u001b[0m\u001b[0;34m\u001b[0m\u001b[0m\n\u001b[1;32m    144\u001b[0m \u001b[0;34m\u001b[0m\u001b[0m\n\u001b[0;32m--> 145\u001b[0;31m     Variable._execution_engine.run_backward(\n\u001b[0m\u001b[1;32m    146\u001b[0m         \u001b[0mtensors\u001b[0m\u001b[0;34m,\u001b[0m \u001b[0mgrad_tensors_\u001b[0m\u001b[0;34m,\u001b[0m \u001b[0mretain_graph\u001b[0m\u001b[0;34m,\u001b[0m \u001b[0mcreate_graph\u001b[0m\u001b[0;34m,\u001b[0m \u001b[0minputs\u001b[0m\u001b[0;34m,\u001b[0m\u001b[0;34m\u001b[0m\u001b[0;34m\u001b[0m\u001b[0m\n\u001b[1;32m    147\u001b[0m         allow_unreachable=True, accumulate_grad=True)  # allow_unreachable flag\n",
      "\u001b[0;31mKeyboardInterrupt\u001b[0m: "
     ]
    }
   ],
   "source": [
    "import sys\n",
    "if not sys.warnoptions:\n",
    "    import warnings\n",
    "    warnings.simplefilter(\"ignore\")\n",
    "\n",
    "score_list = []\n",
    "temp_list = np.logspace(0,-3,100)\n",
    "temp_count = 0\n",
    "\n",
    "for i in tnrange(iter_no):\n",
    "    model.train()\n",
    "    optimizer.zero_grad()\n",
    "    syn_optimizer.zero_grad()\n",
    "    \n",
    "    if i >= 3499:\n",
    "        model.C_syn_e_clust_raw.requires_grad = False\n",
    "        model.E_scale_clust.requires_grad = False\n",
    "           \n",
    "    with torch.no_grad():\n",
    "        model.C_syn_e_clust_raw.copy_(model.C_syn_e_clust_raw - torch.mean(model.C_syn_e_clust_raw, 0).reshape(1,-1))\n",
    "        model.C_syn_e_rest_raw.copy_(model.C_syn_e_rest_raw - torch.mean(model.C_syn_e_rest_raw, 0).reshape(1,-1))\n",
    "        model.C_syn_i_raw.copy_(model.C_syn_i_raw - torch.mean(model.C_syn_i_raw, 0).reshape(1,-1))\n",
    "    \n",
    "    if (temp_count < 99) & (i%increment == increment-1):\n",
    "        temp_count += 1\n",
    "    temp = torch.tensor([temp_list[temp_count]]).to(device).float()\n",
    "    \n",
    "    batch_idx = train_idx[i].long()\n",
    "    batch_E_neural = train_E_neural[batch_idx : batch_idx+batch_length*batch_size].toarray().reshape(batch_size, batch_length, -1)\n",
    "    batch_I_neural = train_I_neural[batch_idx : batch_idx+batch_length*batch_size].toarray().reshape(batch_size, batch_length, -1)\n",
    "    batch_E_neural = torch.from_numpy(batch_E_neural).float().to(device)\n",
    "    batch_I_neural = torch.from_numpy(batch_I_neural).float().to(device)\n",
    "    batch_V = V_train[batch_idx : batch_idx+batch_length*batch_size].reshape(batch_size, -1).to(device)\n",
    "    \n",
    "    V_pred, _, C_syn_e, C_syn_i  = model(batch_E_neural, batch_I_neural, temp, False, i)\n",
    "    \n",
    "    loss = torch.mean((V_pred - batch_V[:,:])**2)\n",
    "    loss.backward()\n",
    "    optimizer.step()\n",
    "    scheduler.step()\n",
    "    syn_optimizer.step()\n",
    "    syn_scheduler.step()\n",
    "    \n",
    "    if (i%50 == 49) or (i == 0):\n",
    "        model.eval()\n",
    "        test_V_pred, test_sub_out, test_C_syn_e, test_C_syn_i = model(test_E_neural.unsqueeze(0), test_I_neural.unsqueeze(0), 0.0001, True, i)\n",
    "        test_V_pred = test_V_pred.flatten()\n",
    "                 \n",
    "        test_score = explained_variance_score(V_test[:].cpu().detach().numpy(), test_V_pred.cpu().detach().numpy())\n",
    "        train_score = explained_variance_score(batch_V[0].cpu().detach().numpy(), V_pred[0].cpu().detach().numpy())\n",
    "        score_list.append(test_score)\n",
    "        \n",
    "        C_syn_idx = torch.argmax(test_C_syn_e[:,880:1120], 0).float()\n",
    "        \n",
    "        mode1, mode1_idx = torch.mode(C_syn_idx[:60])\n",
    "        mode2, mode2_idx = torch.mode(C_syn_idx[60:120])\n",
    "        mode3, mode3_idx = torch.mode(C_syn_idx[120:180])\n",
    "        mode4, mode4_idx = torch.mode(C_syn_idx[180:240])\n",
    "        mode1_no = torch.numel(torch.where(C_syn_idx[:60] == mode1)[0])\n",
    "        mode2_no = torch.numel(torch.where(C_syn_idx[60:120] == mode2)[0])\n",
    "        mode3_no = torch.numel(torch.where(C_syn_idx[120:180] == mode3)[0])\n",
    "        mode4_no = torch.numel(torch.where(C_syn_idx[180:240] == mode4)[0])\n",
    "                        \n",
    "        print(i, np.round(test_score,6), np.round(train_score,6))\n",
    "        print(mode1.item(), mode2.item(), mode3.item(), mode4.item())\n",
    "        print(mode1_no, mode2_no, mode3_no, mode4_no)\n",
    "        print(\"------------------------\")"
   ]
  },
  {
   "cell_type": "code",
   "execution_count": null,
   "metadata": {},
   "outputs": [],
   "source": []
  },
  {
   "cell_type": "code",
   "execution_count": 8,
   "metadata": {},
   "outputs": [
    {
     "data": {
      "text/plain": [
       "[<matplotlib.lines.Line2D at 0x7f6c6c0cf5e0>]"
      ]
     },
     "execution_count": 8,
     "metadata": {},
     "output_type": "execute_result"
    },
    {
     "data": {
      "image/png": "[encoded data removed]",
      "text/plain": [
       "<Figure size 432x288 with 1 Axes>"
      ]
     },
     "metadata": {
      "needs_background": "light"
     },
     "output_type": "display_data"
    }
   ],
   "source": [
    "plt.plot(torch.exp(model.E_scale_clust).cpu().detach().numpy())"
   ]
  },
  {
   "cell_type": "code",
   "execution_count": 9,
   "metadata": {},
   "outputs": [
    {
     "data": {
      "text/plain": [
       "[<matplotlib.lines.Line2D at 0x7f6c645930d0>]"
      ]
     },
     "execution_count": 9,
     "metadata": {},
     "output_type": "execute_result"
    },
    {
     "data": {
      "image/png": "[encoded data removed]",
      "text/plain": [
       "<Figure size 432x288 with 1 Axes>"
      ]
     },
     "metadata": {
      "needs_background": "light"
     },
     "output_type": "display_data"
    }
   ],
   "source": [
    "plt.plot(torch.exp(model.E_scale_rest).cpu().detach().numpy())"
   ]
  },
  {
   "cell_type": "code",
   "execution_count": 26,
   "metadata": {},
   "outputs": [
    {
     "name": "stdout",
     "output_type": "stream",
     "text": [
      "-1.0630804300308228 0.7745575308799744\n",
      "-1.2130229473114014 2.108119487762451\n",
      "-0.7491500973701477 0.3283488154411316\n",
      "-0.6811229586601257 0.4351726770401001\n"
     ]
    },
    {
     "data": {
      "image/png": "[encoded data removed]",
      "text/plain": [
       "<Figure size 720x576 with 4 Axes>"
      ]
     },
     "metadata": {
      "needs_background": "light"
     },
     "output_type": "display_data"
    }
   ],
   "source": [
    "fig, axs = plt.subplots(ncols=4, figsize = (10,8))\n",
    "start_idx = 29\n",
    "\n",
    "for i in range(4):\n",
    "    axs[i].imshow(model.C_syn_e_clust_raw[:,start_idx+60*i:start_idx+60+60*i].cpu().detach().numpy().T)\n",
    "    print(torch.min(model.C_syn_e_clust_raw[:,start_idx+60*i:start_idx+60+60*i]).item(),\n",
    "          torch.max(model.C_syn_e_clust_raw[:,start_idx+60*i:start_idx+60+60*i]).item())"
   ]
  },
  {
   "cell_type": "code",
   "execution_count": null,
   "metadata": {},
   "outputs": [],
   "source": []
  },
  {
   "cell_type": "code",
   "execution_count": 39,
   "metadata": {},
   "outputs": [],
   "source": [
    "C_syn_plot = np.zeros((E_no))\n",
    "\n",
    "for e in range(E_no):\n",
    "    C_syn_plot[e] = torch.argmax(test_C_syn_e[:,e])"
   ]
  },
  {
   "cell_type": "code",
   "execution_count": 40,
   "metadata": {
    "scrolled": true
   },
   "outputs": [
    {
     "data": {
      "text/plain": [
       "<matplotlib.collections.PathCollection at 0x7fac086fdd90>"
      ]
     },
     "execution_count": 40,
     "metadata": {},
     "output_type": "execute_result"
    },
    {
     "data": {
      "image/png": "[encoded data removed]",
      "text/plain": [
       "<Figure size 1080x360 with 1 Axes>"
      ]
     },
     "metadata": {
      "needs_background": "light"
     },
     "output_type": "display_data"
    }
   ],
   "source": [
    "plt.figure(figsize = (15,5))\n",
    "plt.scatter(np.arange(E_no), C_syn_plot, s=1)"
   ]
  },
  {
   "cell_type": "code",
   "execution_count": 41,
   "metadata": {
    "scrolled": false
   },
   "outputs": [
    {
     "data": {
      "text/plain": [
       "<matplotlib.collections.PathCollection at 0x7fac086f5580>"
      ]
     },
     "execution_count": 41,
     "metadata": {},
     "output_type": "execute_result"
    },
    {
     "data": {
      "image/png": "[encoded data removed]",
      "text/plain": [
       "<Figure size 1080x360 with 1 Axes>"
      ]
     },
     "metadata": {
      "needs_background": "light"
     },
     "output_type": "display_data"
    }
   ],
   "source": [
    "plt.figure(figsize = (15,5))\n",
    "plt.scatter(np.arange(240), C_syn_plot[880:1120], s=1)"
   ]
  },
  {
   "cell_type": "code",
   "execution_count": null,
   "metadata": {},
   "outputs": [],
   "source": []
  },
  {
   "cell_type": "code",
   "execution_count": 8,
   "metadata": {},
   "outputs": [],
   "source": [
    "E_scale = model.E_scale.cpu().detach().numpy()\n",
    "C_syn_e_raw = model.C_syn_e_raw.cpu().detach().numpy()"
   ]
  },
  {
   "cell_type": "code",
   "execution_count": 9,
   "metadata": {},
   "outputs": [],
   "source": [
    "#np.savez(\"/media/hdd01/sklee/CA1_clust4-60/clust/pretrain_glm_s5_h2.npz\",\n",
    "        E_scale=E_scale,\n",
    "        C_syn_e_raw=C_syn_e_raw)"
   ]
  },
  {
   "cell_type": "code",
   "execution_count": null,
   "metadata": {},
   "outputs": [],
   "source": []
  }
 ],
 "metadata": {
  "kernelspec": {
   "display_name": "Python 3",
   "language": "python",
   "name": "python3"
  },
  "language_info": {
   "codemirror_mode": {
    "name": "ipython",
    "version": 3
   },
   "file_extension": ".py",
   "mimetype": "text/x-python",
   "name": "python",
   "nbconvert_exporter": "python",
   "pygments_lexer": "ipython3",
   "version": "3.8.8"
  }
 },
 "nbformat": 4,
 "nbformat_minor": 4
}
