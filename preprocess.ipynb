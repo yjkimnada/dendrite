{
 "cells": [
  {
   "cell_type": "code",
   "execution_count": 1,
   "id": "5b4ed5bb",
   "metadata": {},
   "outputs": [],
   "source": [
    "import numpy as np\n",
    "import matplotlib.pyplot as plt\n",
    "from tqdm import tnrange\n",
    "from scipy.sparse import csr_matrix, vstack\n",
    "import scipy"
   ]
  },
  {
   "cell_type": "code",
   "execution_count": 2,
   "id": "bc2ed080",
   "metadata": {},
   "outputs": [
    {
     "name": "stdout",
     "output_type": "stream",
     "text": [
      "(25485065, 3)\n",
      "[       0    25374    50745 ... 25434131 25459582 25485065]\n"
     ]
    },
    {
     "name": "stderr",
     "output_type": "stream",
     "text": [
      "<ipython-input-2-740df0803466>:13: TqdmDeprecationWarning: Please use `tqdm.notebook.trange` instead of `tqdm.tnrange`\n",
      "  for i in tnrange(rep):\n"
     ]
    },
    {
     "data": {
      "application/vnd.jupyter.widget-view+json": {
       "model_id": "b150f987bf7d44a196ee155cb9ce5b34",
       "version_major": 2,
       "version_minor": 0
      },
      "text/plain": [
       "  0%|          | 0/1000 [00:00<?, ?it/s]"
      ]
     },
     "metadata": {},
     "output_type": "display_data"
    },
    {
     "name": "stdout",
     "output_type": "stream",
     "text": [
      "(11413317, 3)\n",
      "(14071748, 3)\n"
     ]
    }
   ],
   "source": [
    "raw_train = np.load(\"/media/hdd01/sklee/CA1_clust4-60/data/stim_T10_Ne2000_gA0.6_tauA1_gN0.8_Ni200_gG0.1_gB0.1_Er0.5_Ir7.4_random_NR_rep1000_stimseed1_set3.npy\")\n",
    "raw_train = raw_train[raw_train[:,2] <= 10000]\n",
    "print(raw_train.shape)\n",
    "\n",
    "rep = 1000\n",
    "pick_idx = np.arange(1,(rep-1)*2,2)\n",
    "start_idx = np.zeros((rep+1))\n",
    "raw_start_idx = np.where(np.diff(raw_train[:,2]) <= -9000)[0][pick_idx] + 1\n",
    "start_idx[1:-1] += raw_start_idx\n",
    "start_idx[-1] = raw_train.shape[0]\n",
    "start_idx = start_idx.astype(int)\n",
    "print(start_idx)\n",
    "for i in tnrange(rep):\n",
    "    raw_train[start_idx[i]:start_idx[i+1],2] += i*10000\n",
    "    \n",
    "raw_train = np.delete(raw_train, np.where(np.isnan(raw_train) == True)[0], 0)\n",
    "E_train = raw_train[np.where(raw_train[:,0]>0)]\n",
    "I_train = raw_train[np.where(raw_train[:,0]<0)]\n",
    "print(E_train.shape)\n",
    "print(I_train.shape)"
   ]
  },
  {
   "cell_type": "code",
   "execution_count": 3,
   "id": "f51b73e4",
   "metadata": {},
   "outputs": [
    {
     "name": "stderr",
     "output_type": "stream",
     "text": [
      "<ipython-input-3-08bf6144159c>:11: TqdmDeprecationWarning: Please use `tqdm.notebook.trange` instead of `tqdm.tnrange`\n",
      "  for i in tnrange(rep):\n"
     ]
    },
    {
     "data": {
      "application/vnd.jupyter.widget-view+json": {
       "model_id": "f19acbecbc7942c6a4b126f2e5eb0244",
       "version_major": 2,
       "version_minor": 0
      },
      "text/plain": [
       "  0%|          | 0/1000 [00:00<?, ?it/s]"
      ]
     },
     "metadata": {},
     "output_type": "display_data"
    },
    {
     "name": "stdout",
     "output_type": "stream",
     "text": [
      "11413317\n",
      "11414345\n",
      "14071748\n",
      "14072761\n"
     ]
    }
   ],
   "source": [
    "E_neural_list = []\n",
    "I_neural_list = []\n",
    "bin_size = 1/5\n",
    "bin_no = 50000\n",
    "\n",
    "E_count_total = 0\n",
    "I_count_total = 0\n",
    "E_no = 2000\n",
    "I_no = 200\n",
    "\n",
    "for i in tnrange(rep):\n",
    "    E_neural = np.zeros((bin_no, E_no))\n",
    "    I_neural = np.zeros((bin_no, I_no))\n",
    "    \n",
    "    bin_edges = np.arange(np.around(i*bin_size*bin_no, 1),\n",
    "                          np.around((i+1)*bin_size*bin_no+bin_size, 1), bin_size)\n",
    "    if bin_edges.shape[0] > 50001:\n",
    "        bin_edges = np.delete(bin_edges, -1, 0)\n",
    "    elif bin_edges.shape[0] < 50001:\n",
    "        bin_edges = np.append(bin_edges, bin_edges[-1] + 0.2, 0)\n",
    "    E_counts, E_edges = np.histogram(E_train[:,2], bin_edges)\n",
    "    I_counts, I_edges = np.histogram(I_train[:,2], bin_edges)\n",
    "\n",
    "    E_count = 0\n",
    "    I_count = 0\n",
    "    \n",
    "    for j in range(E_counts.shape[0]):\n",
    "        bin_count = E_counts[j]\n",
    "        for k in range(bin_count):\n",
    "            syn = int(E_train[E_count,1])\n",
    "            E_neural[j,syn] += 1\n",
    "            E_count += 1\n",
    "            \n",
    "    for j in range(I_counts.shape[0]):\n",
    "        bin_count = I_counts[j]\n",
    "        for k in range(bin_count):\n",
    "            syn = int(I_train[I_count,1])\n",
    "            I_neural[j,syn] += 1\n",
    "            I_count += 1\n",
    "    \n",
    "    E_count_total += E_count\n",
    "    I_count_total += I_count\n",
    "    \n",
    "    E_neural = csr_matrix(E_neural)\n",
    "    I_neural = csr_matrix(I_neural)\n",
    "    E_neural_list.append(E_neural)\n",
    "    I_neural_list.append(I_neural)\n",
    "    \n",
    "print(E_train.shape[0])\n",
    "print(E_count_total)\n",
    "print(I_train.shape[0])\n",
    "print(I_count_total)"
   ]
  },
  {
   "cell_type": "code",
   "execution_count": 5,
   "id": "9f06bf23",
   "metadata": {},
   "outputs": [],
   "source": [
    "E_neural_all = scipy.sparse.vstack(E_neural_list)\n",
    "I_neural_all = scipy.sparse.vstack(I_neural_list)"
   ]
  },
  {
   "cell_type": "code",
   "execution_count": 6,
   "id": "28f2d931",
   "metadata": {},
   "outputs": [],
   "source": [
    "#scipy.sparse.save_npz(\"/media/hdd01/sklee/CA1_clust4-60/data/Espikes_neural_set3.npz\", E_neural_all)\n",
    "#scipy.sparse.save_npz(\"/media/hdd01/sklee/CA1_clust4-60/data/Ispikes_neural_set3.npz\", I_neural_all)"
   ]
  },
  {
   "cell_type": "code",
   "execution_count": null,
   "id": "a4b4cafe",
   "metadata": {},
   "outputs": [],
   "source": []
  },
  {
   "cell_type": "code",
   "execution_count": null,
   "id": "7f5b3b83",
   "metadata": {},
   "outputs": [
    {
     "name": "stderr",
     "output_type": "stream",
     "text": [
      "<ipython-input-10-a62826fc68d3>:1: TqdmDeprecationWarning: Please use `tqdm.notebook.trange` instead of `tqdm.tnrange`\n",
      "  for i in tnrange(4):\n"
     ]
    },
    {
     "data": {
      "application/vnd.jupyter.widget-view+json": {
       "model_id": "94b22a5e8e524a7886a5a51363514997",
       "version_major": 2,
       "version_minor": 0
      },
      "text/plain": [
       "  0%|          | 0/4 [00:00<?, ?it/s]"
      ]
     },
     "metadata": {},
     "output_type": "display_data"
    }
   ],
   "source": [
    "for i in tnrange(4):\n",
    "    idx = i+2\n",
    "\n",
    "    na = np.load(\"/media/hdd01/sklee/CA1_clust12-20/data/vdata_T10_Ne2000_gA0.6_tauA1_gN0.8_Ni200_gG0.1_gB0.1_Er0.5_Ir7.4_random_NR_rep1000_stimseed1_set\"+str(idx)+\".npy\")[:,:50000].flatten()\n",
    "    nona = np.load(\"/media/hdd01/sklee/CA1_clust12-20_noNA/data/vdata_T10_Ne2000_gA0.6_tauA1_gN0.8_Ni200_gG0.1_gB0.1_noDendNa_Er0.5_Ir7.4_random_NR_rep1000_stimseed1_set\"+str(idx)+\".npy\")[:,:50000].flatten()\n",
    "    diff = na - nona\n",
    "    #np.save(\"/media/hdd01/sklee/CA1_clust12-20/data/V_diff_stimseed1_set\"+str(idx)+\".npy\", diff)\n",
    "    \n",
    "#plt.plot(diff[:50000])"
   ]
  },
  {
   "cell_type": "code",
   "execution_count": null,
   "id": "6b3047d7",
   "metadata": {},
   "outputs": [],
   "source": []
  }
 ],
 "metadata": {
  "kernelspec": {
   "display_name": "Python 3",
   "language": "python",
   "name": "python3"
  },
  "language_info": {
   "codemirror_mode": {
    "name": "ipython",
    "version": 3
   },
   "file_extension": ".py",
   "mimetype": "text/x-python",
   "name": "python",
   "nbconvert_exporter": "python",
   "pygments_lexer": "ipython3",
   "version": "3.8.8"
  }
 },
 "nbformat": 4,
 "nbformat_minor": 5
}
