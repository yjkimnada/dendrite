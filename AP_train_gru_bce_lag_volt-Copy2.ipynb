{
 "cells": [
  {
   "cell_type": "code",
   "execution_count": 1,
   "id": "e7faa469",
   "metadata": {},
   "outputs": [],
   "source": [
    "import numpy as np\n",
    "import torch \n",
    "import torch.nn as nn\n",
    "from tqdm import tnrange\n",
    "import torch.optim as optim\n",
    "import torch.nn.functional as F\n",
    "from sklearn import metrics\n",
    "import matplotlib.pyplot as plt\n",
    "import time\n",
    "from sklearn.metrics import explained_variance_score"
   ]
  },
  {
   "cell_type": "code",
   "execution_count": 2,
   "id": "8753064b",
   "metadata": {},
   "outputs": [],
   "source": [
    "class AP_GRU_Lag(nn.Module):\n",
    "    def __init__(self, H_no, lag, device):\n",
    "        super().__init__()\n",
    "        \n",
    "        self.H_no = H_no\n",
    "        self.device = device\n",
    "        \n",
    "        self.rnn = nn.GRU(lag+1, H_no, batch_first=True)\n",
    "        self.linear = nn.Linear(H_no, 1)\n",
    "        \n",
    "    def forward(self, V):\n",
    "        #V is shape (batch, 50000, lag+1)\n",
    "\n",
    "        rnn_out, _ = self.rnn(V) #(batch,50000,H)\n",
    "        rnn_out = rnn_out.reshape(-1,self.H_no)\n",
    "        lin_out = self.linear(rnn_out).reshape(V.shape[0], V.shape[1]) #(batch*50000,1)\n",
    "        \n",
    "        return lin_out\n",
    "\n"
   ]
  },
  {
   "cell_type": "code",
   "execution_count": 3,
   "id": "6e8d732d",
   "metadata": {},
   "outputs": [
    {
     "name": "stdout",
     "output_type": "stream",
     "text": [
      "torch.Size([1000, 50000, 20])\n"
     ]
    }
   ],
   "source": [
    "batch_size = 20\n",
    "batch_length = int(50000 / 5 / 0.2)\n",
    "H_no = 40\n",
    "device = torch.device(\"cuda:2\")\n",
    "lag = 20\n",
    "\n",
    "epoch_no = 400\n",
    "iter_no = epoch_no * 980 // batch_size\n",
    "\n",
    "#V = np.load(\"/media/hdd01/sklee/CA1_clust4-60_AP/data/vdata_T10_Ne2000_gA0.6_tauA1_gN0.8_Ni200_gG0.1_gB0.1_Er0.5_Ir7.4_random_NR_rep1000_stimseed1.npy\").reshape(-1,50001)[:,:50000]\n",
    "#V = np.load(\"/media/hdd01/sklee/CA1_clust4-60_AP/data/V_diff_stimseed1.npy\").reshape(-1,batch_length)\n",
    "#V = np.load(\"/scratch/yjk27/CA1_clust4-60_AP/comb_pred/V_comb_pred_dend_interact_0.2ms.npy\").reshape(-1,batch_length)\n",
    "#V = np.load(\"/scratch/yjk27/CA1_clust4-60_AP/diff_pred/V_diff_pred_0.2ms.npy\").reshape(-1,batch_length)\n",
    "#V = np.load(\"/scratch/yjk27/CA1_clust4-60/hand/gru_dend_s5_h20_Vall.npy\").reshape(-1, batch_length)\n",
    "V = np.load(\"/scratch/yjk27/CA1_clust4-60_AP/diff_pred/V_diff_pred_joint_0.2ms.npy\").reshape(-1,batch_length)\n",
    "S = np.load(\"/scratch/yjk27/CA1_clust4-60_AP/data/V_diff_stimseed1.npy\").reshape(-1,batch_length)\n",
    "\n",
    "V-= np.mean(V)\n",
    "\n",
    "V = torch.from_numpy(V)\n",
    "S = torch.from_numpy(S)\n",
    "\n",
    "V_lag = np.zeros((V.shape[0], V.shape[1], lag)) #(lag,1000,50000)\n",
    "for i in range(lag):\n",
    "    V_lag[:,i+1:,i] = V[:,:-i-1]\n",
    "\n",
    "V_lag = torch.from_numpy(V_lag)\n",
    "print(V_lag.shape)"
   ]
  },
  {
   "cell_type": "code",
   "execution_count": 4,
   "id": "bfda0478",
   "metadata": {},
   "outputs": [
    {
     "name": "stdout",
     "output_type": "stream",
     "text": [
      "torch.Size([19600, 20])\n"
     ]
    }
   ],
   "source": [
    "V_train = V[:980].float()\n",
    "V_test = V[980:].float().to(device)\n",
    "S_train = S[:980].float()\n",
    "S_test = S[980:].float().to(device)\n",
    "V_lag_train = V_lag[:980].float()\n",
    "V_lag_test = V_lag[980:].float().to(device)\n",
    "\n",
    "train_idx = np.empty((epoch_no, 980))\n",
    "for i in range(epoch_no):\n",
    "    part_idx = np.arange(0,980,1)\n",
    "    np.random.shuffle(part_idx)\n",
    "    train_idx[i] = part_idx\n",
    "train_idx = train_idx.reshape(-1, batch_size)\n",
    "train_idx = torch.from_numpy(train_idx).long()\n",
    "print(train_idx.shape)"
   ]
  },
  {
   "cell_type": "code",
   "execution_count": 5,
   "id": "784b45c2",
   "metadata": {},
   "outputs": [
    {
     "name": "stdout",
     "output_type": "stream",
     "text": [
      "7601\n"
     ]
    }
   ],
   "source": [
    "model = AP_GRU_Lag(H_no, lag, device)\n",
    "optimizer = torch.optim.Adam(model.parameters(), lr = 0.001)\n",
    "\n",
    "model.to(device).float()\n",
    "print(sum(p.numel() for p in model.parameters() if p.requires_grad))"
   ]
  },
  {
   "cell_type": "code",
   "execution_count": 6,
   "id": "a964d137",
   "metadata": {},
   "outputs": [],
   "source": [
    "#model.load_state_dict(torch.load(\"/scratch/yjk27/CA1_clust4-60_AP/comb_pred/gru_l20_h40_0.2ms_V.pt\",\n",
    "                     #map_location=device))"
   ]
  },
  {
   "cell_type": "code",
   "execution_count": 7,
   "id": "84e29a0c",
   "metadata": {
    "scrolled": true
   },
   "outputs": [
    {
     "name": "stderr",
     "output_type": "stream",
     "text": [
      "<ipython-input-7-5c73ecaa3ca6>:4: TqdmDeprecationWarning: Please use `tqdm.notebook.trange` instead of `tqdm.tnrange`\n",
      "  for i in tnrange(10000):\n"
     ]
    },
    {
     "data": {
      "application/vnd.jupyter.widget-view+json": {
       "model_id": "8337198207a14332970780586bb75fc0",
       "version_major": 2,
       "version_minor": 0
      },
      "text/plain": [
       "  0%|          | 0/10000 [00:00<?, ?it/s]"
      ]
     },
     "metadata": {},
     "output_type": "display_data"
    },
    {
     "name": "stdout",
     "output_type": "stream",
     "text": [
      "0 9.833919525146484 0.0013988614082336426\n",
      "49 9.690902709960938 0.015463650226593018\n",
      "99 9.66798210144043 0.017792224884033203\n",
      "149 9.650588035583496 0.01960909366607666\n",
      "199 9.642444610595703 0.0203896164894104\n",
      "249 9.635869979858398 0.021042943000793457\n",
      "299 9.626136779785156 0.0220678448677063\n",
      "349 9.611326217651367 0.023538649082183838\n",
      "399 9.573216438293457 0.02739936113357544\n",
      "449 9.552424430847168 0.029644310474395752\n",
      "499 9.547118186950684 0.030063748359680176\n",
      "549 9.52846908569336 0.03232979774475098\n",
      "599 9.513810157775879 0.03347748517990112\n",
      "649 9.516939163208008 0.03312480449676514\n",
      "699 9.494109153747559 0.03555935621261597\n",
      "749 9.485640525817871 0.03629887104034424\n",
      "799 9.472652435302734 0.03762763738632202\n",
      "849 9.475259780883789 0.03755086660385132\n",
      "899 9.484217643737793 0.0364609956741333\n",
      "949 9.455840110778809 0.03999298810958862\n",
      "999 9.450874328613281 0.04010498523712158\n",
      "1049 9.450318336486816 0.03988581895828247\n",
      "1099 9.444012641906738 0.04055124521255493\n",
      "1149 9.445939064025879 0.04033076763153076\n",
      "1199 9.44044017791748 0.04112023115158081\n",
      "1249 9.42771053314209 0.04225456714630127\n",
      "1299 9.428855895996094 0.042250216007232666\n",
      "1349 9.43879508972168 0.04120635986328125\n",
      "1399 9.446817398071289 0.04034721851348877\n",
      "1449 9.428564071655273 0.0422055721282959\n",
      "1499 9.432867050170898 0.04168689250946045\n",
      "1549 9.41063404083252 0.04394936561584473\n",
      "1599 9.44141674041748 0.04084259271621704\n",
      "1649 9.467608451843262 0.04001510143280029\n",
      "1699 9.430230140686035 0.04221522808074951\n",
      "1749 9.432291984558105 0.04173177480697632\n",
      "1799 9.42114543914795 0.043296217918395996\n",
      "1849 9.427680015563965 0.0422055721282959\n",
      "1899 9.439959526062012 0.041007399559020996\n",
      "1949 9.434856414794922 0.04149585962295532\n",
      "1999 9.418622016906738 0.04322922229766846\n",
      "2049 9.41678524017334 0.0436519980430603\n",
      "2099 9.453105926513672 0.040222108364105225\n",
      "2149 9.409655570983887 0.044038236141204834\n",
      "2199 9.401658058166504 0.04484677314758301\n",
      "2249 9.450735092163086 0.039942800998687744\n",
      "2299 9.420784950256348 0.042886972427368164\n",
      "2349 9.44680404663086 0.04070240259170532\n",
      "2399 9.403386116027832 0.04465717077255249\n",
      "2449 9.408098220825195 0.0443379282951355\n",
      "2499 9.411784172058105 0.04394036531448364\n",
      "2549 9.390926361083984 0.045919835567474365\n",
      "2599 9.409660339355469 0.04426562786102295\n",
      "2649 9.388115882873535 0.046205759048461914\n",
      "2699 9.423073768615723 0.04266482591629028\n",
      "2749 9.373071670532227 0.04830211400985718\n",
      "2799 9.44214153289795 0.0409160852432251\n",
      "2849 9.38127326965332 0.046947598457336426\n",
      "2899 9.387194633483887 0.04631221294403076\n",
      "2949 9.360776901245117 0.04923880100250244\n",
      "2999 9.339672088623047 0.05158716440200806\n",
      "3049 9.317331314086914 0.05368340015411377\n",
      "3099 9.37569808959961 0.047521233558654785\n",
      "3149 9.380341529846191 0.04710417985916138\n",
      "3199 9.268192291259766 0.0583990216255188\n",
      "3249 9.253323554992676 0.0599021315574646\n",
      "3299 9.372761726379395 0.04823964834213257\n",
      "3349 9.255393981933594 0.05977821350097656\n",
      "3399 9.244242668151855 0.06082189083099365\n",
      "3449 9.269474029541016 0.05854290723800659\n",
      "3499 9.2526273727417 0.05997246503829956\n",
      "3549 9.240609169006348 0.06217694282531738\n",
      "3599 9.307767868041992 0.05440926551818848\n",
      "3649 9.27007007598877 0.05831289291381836\n",
      "3699 9.242803573608398 0.06096804141998291\n",
      "3749 9.25187873840332 0.060245394706726074\n",
      "3799 9.237019538879395 0.06155592203140259\n",
      "3849 9.244819641113281 0.060908734798431396\n",
      "3899 9.234906196594238 0.062068402767181396\n",
      "3949 9.225297927856445 0.0627555251121521\n",
      "3999 9.21642017364502 0.0638015866279602\n",
      "4049 9.230863571166992 0.06230705976486206\n",
      "4099 9.231842041015625 0.062143802642822266\n",
      "4149 9.261096000671387 0.059219539165496826\n",
      "4199 9.192445755004883 0.06608545780181885\n",
      "4249 9.223189353942871 0.06318527460098267\n",
      "4299 9.204285621643066 0.0649266242980957\n",
      "4349 9.212054252624512 0.06411236524581909\n",
      "4399 9.167627334594727 0.06864255666732788\n",
      "4449 9.200353622436523 0.06528115272521973\n",
      "4499 9.18471622467041 0.06687510013580322\n",
      "4549 9.20682430267334 0.06464177370071411\n",
      "4599 9.209331512451172 0.06462693214416504\n",
      "4649 9.23410415649414 0.06226617097854614\n",
      "4699 9.173484802246094 0.06801432371139526\n",
      "4749 9.20006275177002 0.06542766094207764\n",
      "4799 9.181464195251465 0.06724250316619873\n",
      "4849 9.174887657165527 0.06805908679962158\n",
      "4899 9.14125919342041 0.07128578424453735\n",
      "4949 9.166421890258789 0.06877380609512329\n",
      "4999 9.15082836151123 0.07039809226989746\n",
      "5049 9.164018630981445 0.0692054033279419\n",
      "5099 9.145750045776367 0.07103163003921509\n",
      "5149 9.242269515991211 0.06124764680862427\n",
      "5199 9.130279541015625 0.07243257761001587\n",
      "5249 9.155786514282227 0.07031077146530151\n",
      "5299 9.119813919067383 0.07348424196243286\n",
      "5349 9.163190841674805 0.06924831867218018\n",
      "5399 9.154303550720215 0.06998223066329956\n",
      "5449 9.135130882263184 0.07193100452423096\n",
      "5499 9.118236541748047 0.07363623380661011\n",
      "5549 9.132871627807617 0.07230120897293091\n",
      "5599 9.12717342376709 0.07274019718170166\n",
      "5649 9.154585838317871 0.07036340236663818\n",
      "5699 9.276528358459473 0.057941555976867676\n",
      "5749 9.190961837768555 0.06665265560150146\n",
      "5799 9.12893009185791 0.07309269905090332\n",
      "5849 9.139315605163574 0.07149451971054077\n",
      "5899 9.154747009277344 0.06992024183273315\n",
      "5949 9.10916805267334 0.07465076446533203\n",
      "5999 9.098285675048828 0.07569998502731323\n",
      "6049 9.120865821838379 0.07345497608184814\n",
      "6099 9.124595642089844 0.07298803329467773\n",
      "6149 9.095436096191406 0.07601165771484375\n",
      "6199 9.117039680480957 0.07378357648849487\n",
      "6249 9.178624153137207 0.06755954027175903\n",
      "6299 9.131550788879395 0.07227414846420288\n",
      "6349 9.179155349731445 0.06756222248077393\n",
      "6399 9.103238105773926 0.0751657485961914\n",
      "6449 9.103814125061035 0.07510137557983398\n",
      "6499 9.084294319152832 0.07716339826583862\n",
      "6549 9.076292991638184 0.07796865701675415\n",
      "6599 9.16091251373291 0.06936419010162354\n",
      "6649 9.089030265808105 0.07687884569168091\n",
      "6699 9.139976501464844 0.0714767575263977\n",
      "6749 9.10999870300293 0.07462602853775024\n",
      "6799 9.106969833374023 0.07476925849914551\n",
      "6849 9.090359687805176 0.0764625072479248\n",
      "6899 9.085829734802246 0.07714778184890747\n",
      "6949 9.079751968383789 0.07761967182159424\n",
      "6999 9.09016227722168 0.0764775276184082\n",
      "7049 9.07392406463623 0.07816821336746216\n",
      "7099 9.046490669250488 0.08094549179077148\n",
      "7149 9.055855751037598 0.07996690273284912\n",
      "7199 9.019233703613281 0.08385652303695679\n",
      "7249 9.14169979095459 0.07124197483062744\n",
      "7299 9.118924140930176 0.07372081279754639\n",
      "7349 9.109228134155273 0.07455706596374512\n",
      "7399 9.11003589630127 0.07453489303588867\n",
      "7449 9.101391792297363 0.07541519403457642\n",
      "7499 9.149784088134766 0.07053351402282715\n",
      "7549 9.050713539123535 0.08051151037216187\n",
      "7599 9.170875549316406 0.0683373212814331\n",
      "7649 9.073793411254883 0.07816243171691895\n",
      "7699 9.023575782775879 0.08325445652008057\n",
      "7749 9.106643676757812 0.07504779100418091\n",
      "7799 9.029953956604004 0.08264344930648804\n",
      "7849 9.08349609375 0.07723993062973022\n",
      "7899 9.022797584533691 0.0835610032081604\n",
      "7949 9.007102966308594 0.08498877286911011\n",
      "7999 9.018170356750488 0.08379530906677246\n",
      "8049 9.004895210266113 0.08516901731491089\n",
      "8099 9.038750648498535 0.0817001461982727\n",
      "8149 9.047422409057617 0.08092087507247925\n",
      "8199 9.017645835876465 0.08386677503585815\n",
      "8249 9.043037414550781 0.08127337694168091\n",
      "8299 9.043252944946289 0.08124285936355591\n",
      "8349 9.108115196228027 0.07465171813964844\n",
      "8399 9.048840522766113 0.08068966865539551\n",
      "8449 9.084872245788574 0.07716310024261475\n",
      "8499 9.107032775878906 0.07479465007781982\n",
      "8549 9.005324363708496 0.08511501550674438\n",
      "8599 9.069074630737305 0.078621506690979\n",
      "8649 9.010031700134277 0.08462882041931152\n",
      "8699 9.1391019821167 0.0716295838356018\n",
      "8749 9.01600170135498 0.08401012420654297\n",
      "8799 9.011473655700684 0.08450955152511597\n",
      "8849 9.001209259033203 0.0855141282081604\n",
      "8899 9.000125885009766 0.08566612005233765\n",
      "8949 9.03278636932373 0.08261603116989136\n",
      "8999 9.073486328125 0.0781775712966919\n",
      "9049 9.018562316894531 0.0837591290473938\n",
      "9099 9.025835990905762 0.0830109715461731\n",
      "9149 9.016694068908691 0.08402055501937866\n",
      "9199 9.024935722351074 0.0831114649772644\n",
      "9249 9.048872947692871 0.08072823286056519\n",
      "9299 9.008565902709961 0.08483898639678955\n",
      "9349 9.05450439453125 0.08010721206665039\n",
      "9399 9.007437705993652 0.08488279581069946\n",
      "9449 9.00757122039795 0.08488929271697998\n",
      "9499 9.06899356842041 0.07863783836364746\n",
      "9549 9.055275917053223 0.08003568649291992\n",
      "9599 8.98409652709961 0.08726036548614502\n"
     ]
    },
    {
     "name": "stdout",
     "output_type": "stream",
     "text": [
      "9649 8.987957954406738 0.08685922622680664\n",
      "9699 9.007723808288574 0.08485305309295654\n",
      "9749 8.971567153930664 0.0885363221168518\n",
      "9799 8.975248336791992 0.08815115690231323\n",
      "9849 8.959183692932129 0.08978724479675293\n",
      "9899 8.993681907653809 0.08629107475280762\n",
      "9949 8.961857795715332 0.08951354026794434\n",
      "9999 9.034722328186035 0.08247911930084229\n"
     ]
    }
   ],
   "source": [
    "score_list = []\n",
    "\n",
    "#for i in tnrange(iter_no):\n",
    "for i in tnrange(10000):    \n",
    "    s = time.time()\n",
    "    model.train()\n",
    "    optimizer.zero_grad()\n",
    "    \n",
    "    batch_idx = train_idx[i]\n",
    "    batch_S = S_train[batch_idx].to(device)\n",
    "    batch_V = V_train[batch_idx].to(device)\n",
    "    batch_V_lag = V_lag_train[batch_idx].to(device)\n",
    "    \n",
    "    batch_V_in = torch.zeros(batch_size, batch_length, lag+1).to(device)\n",
    "    batch_V_in[:,:,0] = batch_V\n",
    "    batch_V_in[:,:,1:] = batch_V_lag\n",
    "    \n",
    "    S_out = model(batch_V_in)\n",
    "    loss = torch.mean((S_out - batch_S) ** 2)\n",
    "    \n",
    "    loss.backward()\n",
    "    nn.utils.clip_grad_norm_(model.parameters(), 10)\n",
    "    optimizer.step()\n",
    "    \n",
    "    step_time = time.time() - s\n",
    "    \n",
    "    if (i%50 == 49) or (i == 0):\n",
    "        model.eval()\n",
    "        V_test_in = torch.zeros(batch_size, batch_length, lag+1).to(device)\n",
    "        V_test_in[:,:,0] = V_test\n",
    "        V_test_in[:,:,1:] = V_lag_test\n",
    "        \n",
    "        test_S_out = model(V_test_in)\n",
    "        test_loss = torch.mean((S_test - test_S_out) ** 2)\n",
    "        test_var_exp = explained_variance_score(S_test.flatten().cpu().detach().numpy(),\n",
    "                                                test_S_out.flatten().cpu().detach().numpy())\n",
    "        \n",
    "        score_list.append(test_loss.item())\n",
    "        print(i, test_loss.item(), test_var_exp)"
   ]
  },
  {
   "cell_type": "code",
   "execution_count": null,
   "id": "f64d64ae",
   "metadata": {},
   "outputs": [],
   "source": []
  },
  {
   "cell_type": "code",
   "execution_count": 8,
   "id": "e006b31b",
   "metadata": {},
   "outputs": [
    {
     "data": {
      "text/plain": [
       "[<matplotlib.lines.Line2D at 0x7fb8681401f0>]"
      ]
     },
     "execution_count": 8,
     "metadata": {},
     "output_type": "execute_result"
    },
    {
     "data": {
      "image/png": "[encoded data removed]",
      "text/plain": [
       "<Figure size 432x288 with 1 Axes>"
      ]
     },
     "metadata": {
      "needs_background": "light"
     },
     "output_type": "display_data"
    }
   ],
   "source": [
    "plt.plot(np.asarray(score_list)[:])\n"
   ]
  },
  {
   "cell_type": "code",
   "execution_count": 9,
   "id": "ad66af8b",
   "metadata": {},
   "outputs": [
    {
     "name": "stdout",
     "output_type": "stream",
     "text": [
      "tensor(22.9238, device='cuda:2', grad_fn=<MaxBackward1>)\n"
     ]
    },
    {
     "data": {
      "text/plain": [
       "(23000.0, 28000.0)"
      ]
     },
     "execution_count": 9,
     "metadata": {},
     "output_type": "execute_result"
    },
    {
     "data": {
      "image/png": "[encoded data removed]",
      "text/plain": [
       "<Figure size 1080x360 with 1 Axes>"
      ]
     },
     "metadata": {
      "needs_background": "light"
     },
     "output_type": "display_data"
    }
   ],
   "source": [
    "plt.figure(figsize = (15,5))\n",
    "plt.plot(S_test[0].cpu().detach().numpy())\n",
    "plt.plot(test_S_out[0].cpu().detach().numpy())\n",
    "#plt.xlim(4500,5200)\n",
    "#plt.ylim(-1,10)\n",
    "print(torch.max(test_S_out))\n",
    "plt.xlim(23000,28000)"
   ]
  },
  {
   "cell_type": "code",
   "execution_count": null,
   "id": "555c43cf",
   "metadata": {},
   "outputs": [],
   "source": []
  },
  {
   "cell_type": "code",
   "execution_count": 10,
   "id": "1f59f818",
   "metadata": {},
   "outputs": [],
   "source": [
    "test_S_out = test_S_out.cpu().detach().numpy()\n",
    "test_S_out_next = np.zeros_like(test_S_out)\n",
    "test_S_out_next[:,:-1] = test_S_out[:,1:]\n",
    "test_S_out_thresh = np.zeros_like(test_S_out)\n",
    "\n",
    "thresh = 15\n",
    "\n",
    "for i in range(test_S_out.shape[0]):\n",
    "    idx = np.where((test_S_out[i] < thresh) & (test_S_out_next[i] >= thresh))[0]\n",
    "    test_S_out_thresh[i][idx] = 1"
   ]
  },
  {
   "cell_type": "code",
   "execution_count": 11,
   "id": "eedc4b33",
   "metadata": {},
   "outputs": [
    {
     "name": "stdout",
     "output_type": "stream",
     "text": [
      "109.0\n"
     ]
    }
   ],
   "source": [
    "print(np.sum(test_S_out_thresh))"
   ]
  },
  {
   "cell_type": "code",
   "execution_count": null,
   "id": "b5a25719",
   "metadata": {},
   "outputs": [],
   "source": []
  },
  {
   "cell_type": "code",
   "execution_count": 12,
   "id": "780f8cd8",
   "metadata": {},
   "outputs": [],
   "source": [
    "#torch.save(model.state_dict(), \"/scratch/yjk27/CA1_clust4-60_AP/diff_pred/gru_l20_h40_0.2ms_V_joint.pt\")"
   ]
  },
  {
   "cell_type": "code",
   "execution_count": 13,
   "id": "220095ad",
   "metadata": {},
   "outputs": [],
   "source": [
    "#np.save(\"/scratch/yjk27/CA1_clust4-60_AP/diff_pred/gru_l20_h40_0.2ms_test_V_joint.npy\", test_S_out)\n",
    "#np.save(\"/scratch/yjk27/CA1_clust4-60_AP/diff_pred/gru_l20_h40_0.2ms_test_S_joint.npy\", test_S_out_thresh)"
   ]
  },
  {
   "cell_type": "code",
   "execution_count": null,
   "id": "1c67e132",
   "metadata": {},
   "outputs": [],
   "source": []
  },
  {
   "cell_type": "code",
   "execution_count": null,
   "id": "38561d5b",
   "metadata": {},
   "outputs": [],
   "source": []
  }
 ],
 "metadata": {
  "kernelspec": {
   "display_name": "Python 3",
   "language": "python",
   "name": "python3"
  },
  "language_info": {
   "codemirror_mode": {
    "name": "ipython",
    "version": 3
   },
   "file_extension": ".py",
   "mimetype": "text/x-python",
   "name": "python",
   "nbconvert_exporter": "python",
   "pygments_lexer": "ipython3",
   "version": "3.8.8"
  }
 },
 "nbformat": 4,
 "nbformat_minor": 5
}
