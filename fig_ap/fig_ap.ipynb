{
 "cells": [
  {
   "cell_type": "code",
   "execution_count": 1,
   "id": "55d41452",
   "metadata": {},
   "outputs": [],
   "source": [
    "import numpy as np\n",
    "import matplotlib.pyplot as plt\n",
    "from tqdm import tnrange\n",
    "from sklearn import metrics\n",
    "from sklearn.metrics import roc_auc_score, roc_curve\n",
    "import matplotlib as mpl\n",
    "import scipy"
   ]
  },
  {
   "cell_type": "code",
   "execution_count": 2,
   "id": "6d1d2d32",
   "metadata": {},
   "outputs": [
    {
     "name": "stderr",
     "output_type": "stream",
     "text": [
      "<ipython-input-2-0d5e466356bf>:22: TqdmDeprecationWarning: Please use `tqdm.notebook.trange` instead of `tqdm.tnrange`\n",
      "  for i in tnrange(20):\n"
     ]
    },
    {
     "data": {
      "application/vnd.jupyter.widget-view+json": {
       "model_id": "bfe0b54fb1b04576b7aaadead3893dba",
       "version_major": 2,
       "version_minor": 0
      },
      "text/plain": [
       "  0%|          | 0/20 [00:00<?, ?it/s]"
      ]
     },
     "metadata": {},
     "output_type": "display_data"
    },
    {
     "name": "stderr",
     "output_type": "stream",
     "text": [
      "<ipython-input-2-0d5e466356bf>:26: TqdmDeprecationWarning: Please use `tqdm.notebook.trange` instead of `tqdm.tnrange`\n",
      "  for i in tnrange(beniag_idx.shape[0]):\n"
     ]
    },
    {
     "data": {
      "application/vnd.jupyter.widget-view+json": {
       "model_id": "9b141ccbc7424ada9e774cb57b6d339c",
       "version_major": 2,
       "version_minor": 0
      },
      "text/plain": [
       "  0%|          | 0/420 [00:00<?, ?it/s]"
      ]
     },
     "metadata": {},
     "output_type": "display_data"
    }
   ],
   "source": [
    "comb_pred = np.load(\"/scratch/yjk27/CA1_clust4-60_AP/comb_pred/gru_l20_h40_0.2ms_test.npy\").reshape((20,-1))\n",
    "whole_pred = np.load(\"/scratch/yjk27/CA1_clust4-60_AP/whole_pred/gru_l20_h40_0.2ms_test.npy\").reshape((20,-1))\n",
    "tcn_pred = np.load(\"/scratch/yjk27/CA1_clust4-60_AP/tcnmulti_pred/gru_l20_h40_0.2ms_test.npy\").reshape((20,-1))\n",
    "spk = np.load(\"/scratch/yjk27/CA1_clust4-60_AP/data/spike_train_0.2ms.npy\")[980*50000:].reshape((20,-1))\n",
    "\n",
    "pred_beniag = np.load(\"/scratch/yjk27/CA1_clust4-60_AP/y_spikes_hat.npy\")\n",
    "spk_beniag = np.load(\"/scratch/yjk27/CA1_clust4-60_AP/y_spikes_GT.npy\")\n",
    "\n",
    "fpr_comb_pred, tpr_comb_pred, _ = roc_curve(spk.flatten(), comb_pred.flatten())\n",
    "fpr_whole_pred, tpr_whole_pred, _ = roc_curve(spk.flatten(), whole_pred.flatten())\n",
    "fpr_tcn_pred, tpr_tcn_pred, _ = roc_curve(spk.flatten(), tcn_pred.flatten())\n",
    "fpr_beniag, tpr_beniag, _ = roc_curve(spk_beniag.flatten(), pred_beniag.flatten())\n",
    "beniag_idx = np.where(np.sum(spk_beniag,1) > 0)[0]\n",
    "\n",
    "rocarea_comb_pred = roc_auc_score(spk.flatten(), comb_pred.flatten())\n",
    "rocarea_whole_pred = roc_auc_score(spk.flatten(), whole_pred.flatten())\n",
    "rocarea_tcn_pred = roc_auc_score(spk.flatten(), tcn_pred.flatten())\n",
    "\n",
    "rocarea_array = np.zeros((20,3))\n",
    "beniag_array = np.zeros((beniag_idx.shape[0]))\n",
    "\n",
    "for i in tnrange(20):\n",
    "    rocarea_array[i,0] = roc_auc_score(spk[i], comb_pred[i])\n",
    "    rocarea_array[i,1] = roc_auc_score(spk[i], whole_pred[i])\n",
    "    rocarea_array[i,2] = roc_auc_score(spk[i], tcn_pred[i])\n",
    "for i in tnrange(beniag_idx.shape[0]):\n",
    "    beniag_array[i] = roc_auc_score(spk_beniag[beniag_idx[i]], pred_beniag[beniag_idx[i]])\n",
    "\n",
    "#beniag thresh = 0.1\n",
    "#comb_pred thresh = 0.04\n",
    "#whole_pred thresh = 0.04\n",
    "#tcn_pred thresh = 0.04\n",
    "spk_idx = np.where(spk.flatten() > 0)[0]\n",
    "beniag_spk_idx = np.where(spk_beniag.flatten() > 0)[0]\n",
    "comb_pred_corr = np.zeros((200))\n",
    "whole_pred_corr = np.zeros((200))\n",
    "tcn_pred_corr = np.zeros((200))\n",
    "beniag_corr = np.zeros((40))\n",
    "\n",
    "comb_pred_thresh = np.zeros((comb_pred.flatten().size))\n",
    "whole_pred_thresh = np.zeros((whole_pred.flatten().size))\n",
    "tcn_pred_thresh = np.zeros((whole_pred.flatten().size))\n",
    "beniag_thresh = np.zeros((spk_beniag.flatten().size))\n",
    "\n",
    "comb_pos_idx = np.where(comb_pred.flatten() >= 0.04)[0]\n",
    "whole_pos_idx = np.where(whole_pred.flatten() >= 0.04)[0]\n",
    "tcn_pos_idx = np.where(tcn_pred.flatten() >= 0.04)[0]\n",
    "beniag_pos_idx = np.where(pred_beniag.flatten() >= 0.1)[0]\n",
    "\n",
    "comb_pred_thresh[comb_pos_idx] = 1\n",
    "whole_pred_thresh[whole_pos_idx] = 1\n",
    "tcn_pred_thresh[tcn_pos_idx] = 1\n",
    "beniag_thresh[beniag_pos_idx] = 1\n",
    "\n",
    "for i in range(spk_idx.size):\n",
    "    t = spk_idx[i]\n",
    "    comb_pred_corr += comb_pred_thresh[t-100:t+100]\n",
    "    whole_pred_corr += whole_pred_thresh[t-100:t+100]\n",
    "    tcn_pred_corr += tcn_pred_thresh[t-100:t+100]\n",
    "for i in range(beniag_spk_idx.size):\n",
    "    t = beniag_spk_idx[i]\n",
    "    beniag_corr += beniag_thresh[t-20:t+20]"
   ]
  },
  {
   "cell_type": "code",
   "execution_count": 3,
   "id": "90d822e4",
   "metadata": {},
   "outputs": [
    {
     "name": "stdout",
     "output_type": "stream",
     "text": [
      "(20, 5)\n"
     ]
    }
   ],
   "source": [
    "#AP True 0.9156042360417361 0.9156042360417361 0.0096387818643847 0.0096387818643847\n",
    "#Na True 0.8143590159840158 0.8386963383838383 0.06843242335670274 0.06615087825324792\n",
    "#No Na True 0.34974221611721606 0.6056746031746031 0.0940514647548976 0.11510389858903808\n",
    "#Comb Pred 0.47738816738816736 0.5966674783549784 0.13561578097444554 0.12230436902117042\n",
    "#Whole Pred 0.34591172716172713 0.5486351367828324 0.11432601029228029 0.13394760326878388\n",
    "\n",
    "full_coinc = np.load(\"/scratch/yjk27/CA1_clust4-60_AP/ap_true/coinc_4ms_15v.npy\").reshape(-1,1)\n",
    "soma_coinc = np.load(\"/scratch/yjk27/CA1_clust4-60_AP/na_true/coinc_4ms_15v.npy\").reshape(-1,1)\n",
    "nona_coinc = np.load(\"/scratch/yjk27/CA1_clust4-60_AP/nona_true/coinc_4ms_15v.npy\").reshape(-1,1)\n",
    "comb_pred_coinc = np.load(\"/scratch/yjk27/CA1_clust4-60_AP/comb_pred/coinc_4ms_15v.npy\").reshape(-1,1)\n",
    "whole_pred_coinc = np.load(\"/scratch/yjk27/CA1_clust4-60_AP/whole_pred/coinc_4ms_15v.npy\").reshape(-1,1)\n",
    "coinc_all = np.hstack((full_coinc, soma_coinc, nona_coinc, comb_pred_coinc, whole_pred_coinc))\n",
    "print(coinc_all.shape)\n",
    "\n",
    "offset = np.mean(np.load(\"/scratch/yjk27/CA1_clust4-60/data/vdata_T10_Ne2000_gA0.6_tauA1_gN0.8_Ni200_gG0.1_gB0.1_Er0.5_Ir7.4_random_NR_rep1000_stimseed1_set1.npy\"))\n",
    "V_full = np.load(\"/scratch/yjk27/CA1_clust4-60_AP/data/vdata_T10_Ne2000_gA0.6_tauA1_gN0.8_Ni200_gG0.1_gB0.1_Er0.5_Ir7.4_random_NR_rep1000_stimseed1.npy\")[-20:,:50000]\n",
    "V_comb_pred = np.load(\"/scratch/yjk27/CA1_clust4-60_AP/comb_pred/gru_l20_h40_0.2ms_test_V.npy\") \\\n",
    "            + np.load(\"/scratch/yjk27/CA1_clust4-60_AP/comb_pred/V_comb_pred_0.2ms.npy\")[-20:].reshape(20,50000) + offset\n",
    "V_whole_pred = np.load(\"/scratch/yjk27/CA1_clust4-60_AP/whole_pred/gru_l20_h40_0.2ms_test_V.npy\").reshape(20,50000) \\\n",
    "            + np.load(\"/scratch/yjk27/CA1_clust4-60_AP/whole_pred/V_whole_pred_0.2ms.npy\")[-20:].reshape(20,50000) + offset"
   ]
  },
  {
   "cell_type": "code",
   "execution_count": null,
   "id": "231cb3ca",
   "metadata": {},
   "outputs": [],
   "source": []
  },
  {
   "cell_type": "code",
   "execution_count": 13,
   "id": "e8e7fe7c",
   "metadata": {},
   "outputs": [
    {
     "name": "stderr",
     "output_type": "stream",
     "text": [
      "<ipython-input-13-cf5e754a7a15>:162: UserWarning: This figure includes Axes that are not compatible with tight_layout, so results might be incorrect.\n",
      "  fig.tight_layout()\n"
     ]
    },
    {
     "data": {
      "image/png": "[encoded data removed]",
      "text/plain": [
       "<Figure size 720x576 with 9 Axes>"
      ]
     },
     "metadata": {
      "needs_background": "light"
     },
     "output_type": "display_data"
    }
   ],
   "source": [
    "mpl.rcParams['pdf.fonttype'] = 42\n",
    "mpl.rcParams['font.sans-serif'] = \"Arial\"\n",
    "mpl.rcParams['font.family'] = \"sans-serif\"\n",
    "plt.rcParams['font.size'] = '13'\n",
    "\n",
    "fig = plt.figure(constrained_layout=True, figsize = (10,8))\n",
    "gs = fig.add_gridspec(3,3, wspace=0.25, hspace=0.3)\n",
    "ax1 = fig.add_subplot(gs[0,1])\n",
    "ax2 = fig.add_subplot(gs[0,0])\n",
    "ax3 = fig.add_subplot(gs[0,2])\n",
    "ax4 = fig.add_subplot(gs[1,0])\n",
    "ax5 = fig.add_subplot(gs[1,1])\n",
    "\n",
    "color1 = \"red\"\n",
    "color2 = \"blue\"\n",
    "color3 = \"darkorange\"\n",
    "color4 = \"black\"\n",
    "\n",
    "colors = [color1, color2, color3, color4]\n",
    "\n",
    "bp1 = ax1.boxplot(rocarea_array[:,0], positions=[1], widths = 0.6, patch_artist=True)\n",
    "bp2 = ax1.boxplot(rocarea_array[:,1], positions=[2], widths = 0.6, patch_artist=True)\n",
    "bp3 = ax1.boxplot(rocarea_array[:,2], positions=[3], widths = 0.6, patch_artist=True)\n",
    "bp4 = ax1.boxplot(beniag_array, positions=[4], widths = 0.6, patch_artist=True)\n",
    "bp_list = [bp1, bp2, bp3, bp4]\n",
    "\n",
    "for i in range(4):\n",
    "    plt.setp(bp_list[i]['boxes'], facecolor=colors[i])\n",
    "    plt.setp(bp_list[i]['boxes'], alpha=0.5)\n",
    "    plt.setp(bp_list[i][\"fliers\"], markeredgecolor=colors[i])\n",
    "    plt.setp(bp_list[i][\"boxes\"], color=colors[i])\n",
    "    plt.setp(bp_list[i][\"medians\"], color=colors[i])\n",
    "    for j in range(2):\n",
    "        plt.setp(bp_list[i]['whiskers'][j], color=colors[i])\n",
    "        plt.setp(bp_list[i]['caps'][j], color=colors[i])\n",
    "\n",
    "ax1.set_xticklabels([\"$\\mathregular{v_{noNa}}$\\n+ $\\mathregular{v_{Na}}$\",\n",
    "                     \"$\\mathregular{v_{soma}}$\",\n",
    "                     \"$\\mathregular{v_{soma}}$\\n(TCN)\", \"Beniaguev\\net al.\"], rotation=0)\n",
    "ax1.set_ylabel(\"ROC AUC\")\n",
    "ax1.spines[\"right\"].set_visible(False)\n",
    "ax1.spines[\"top\"].set_visible(False)\n",
    "ax1.spines[\"bottom\"].set_visible(False)\n",
    "#ax1.set_ylim(0,1)\n",
    "ax1.set_ylim(0.9,1)\n",
    "ax1.set_yticks(np.arange(0.9,1.001,0.05))\n",
    "ax1.tick_params(axis=\"x\", length=0)\n",
    "#ax1.set_yticks(np.arange(0,1.01,0.25))\n",
    "\"\"\"\n",
    "ins = ax1.inset_axes([0.3,0.15,0.7,0.6])\n",
    "bp1 = ins.boxplot(rocarea_array[:,0], positions=[1], widths = 0.6, patch_artist=True)\n",
    "bp2 = ins.boxplot(rocarea_array[:,1], positions=[2], widths = 0.6, patch_artist=True)\n",
    "bp3 = ins.boxplot(rocarea_array[:,2], positions=[3], widths = 0.6, patch_artist=True)\n",
    "bp4 = ins.boxplot(beniag_array, positions=[4], widths = 0.6, patch_artist=True)\n",
    "bp_list = [bp1, bp2, bp3, bp4]\n",
    "\n",
    "for i in range(4):\n",
    "    plt.setp(bp_list[i]['boxes'], facecolor=colors[i])\n",
    "    plt.setp(bp_list[i]['boxes'], alpha=0.5)\n",
    "    plt.setp(bp_list[i][\"fliers\"], markeredgecolor=colors[i])\n",
    "    plt.setp(bp_list[i][\"boxes\"], color=colors[i])\n",
    "    plt.setp(bp_list[i][\"medians\"], color=colors[i])\n",
    "    for j in range(2):\n",
    "        plt.setp(bp_list[i]['whiskers'][j], color=colors[i])\n",
    "        plt.setp(bp_list[i]['caps'][j], color=colors[i])\n",
    "\n",
    "ins.spines[\"right\"].set_visible(False)\n",
    "ins.spines[\"top\"].set_visible(False)\n",
    "ins.spines[\"bottom\"].set_visible(False)\n",
    "ins.set_ylim(0.95,1)\n",
    "ins.tick_params(axis=\"x\", length=0)\n",
    "ins.set_xticks([])\n",
    "ins.set_yticks(np.arange(0.95,1.001,0.05))\n",
    "\"\"\"\n",
    "ax2.plot(fpr_comb_pred, tpr_comb_pred, linewidth=1, color=color1)\n",
    "ax2.plot(fpr_whole_pred, tpr_whole_pred, linewidth=1, color=color2)\n",
    "ax2.plot(fpr_tcn_pred, tpr_tcn_pred, linewidth=1, color=color3)\n",
    "ax2.plot(fpr_beniag, tpr_beniag, linewidth=1, color=color4)\n",
    "ax2.spines[\"right\"].set_visible(False)\n",
    "ax2.spines[\"top\"].set_visible(False)\n",
    "ax2.set_ylim(0,1.01)\n",
    "ax2.set_xlim(0,1)\n",
    "ax2.set_xlabel(\"false alarm rate\")\n",
    "ax2.set_ylabel(\"hit rate\")\n",
    "ax2.set_xticks(np.arange(0,1.01,0.25))\n",
    "ax2.set_yticks(np.arange(0,1.01,0.25))\n",
    "\n",
    "ins = ax2.inset_axes([0.3,0.15,0.7,0.6])\n",
    "ins.plot(fpr_comb_pred, tpr_comb_pred, linewidth=1, color=color1)\n",
    "ins.plot(fpr_whole_pred, tpr_whole_pred, linewidth=1, color=color2)\n",
    "ins.plot(fpr_tcn_pred, tpr_tcn_pred, linewidth=1, color=color3)\n",
    "ins.plot(fpr_beniag, tpr_beniag, linewidth=1, color=color4)\n",
    "ins.spines[\"right\"].set_visible(False)\n",
    "ins.spines[\"top\"].set_visible(False)\n",
    "ins.set_ylim(0.9,1.001)\n",
    "ins.set_xlim(0,0.1)\n",
    "ins.set_xticks([0,0.1])\n",
    "ins.set_yticks([0.9,1])\n",
    "#ax2.annotate(\"p = 0.00171\", (0.4,0.85))\n",
    "\n",
    "ax3.plot(np.arange(-20,20,1), beniag_corr/25, color=\"black\")\n",
    "ax3.plot(np.arange(-20,20,0.2), comb_pred_corr/5, color=\"red\")\n",
    "ax3.plot(np.arange(-20,20,0.2), whole_pred_corr/5, color=\"blue\")\n",
    "ax3.plot(np.arange(-20,20,0.2), tcn_pred_corr/5, color=\"darkorange\")\n",
    "ax3.scatter(0, 40, color=\"black\", s= 25)\n",
    "ax3.spines[\"right\"].set_visible(False)\n",
    "ax3.spines[\"top\"].set_visible(False)\n",
    "#ax3.set_ylim(0.9,1.001)\n",
    "ax3.set_xlim(0,0.1)\n",
    "ax3.set_xticks([-20,0,20])\n",
    "#ax3.set_yticks([0,10,20])\n",
    "ax3.set_xlabel(\"time difference (ms)\")\n",
    "ax3.set_ylabel(\"spike rate (hz)\")\n",
    "\n",
    "############\n",
    "\n",
    "ax4.scatter(0.47738816738816736, 0.5966674783549784, color=\"red\", s=10)\n",
    "ax4.scatter(0.34591172716172713, 0.5486351367828324, color=\"blue\", s=10)\n",
    "\n",
    "ax4.errorbar(0.47738816738816736, 0.5966674783549784, xerr=0.13561578097444554, yerr=0.12230436902117042,\n",
    "             color=\"red\", linewidth=1)\n",
    "ax4.errorbar(0.34591172716172713, 0.5486351367828324, xerr=0.11432601029228029, yerr=0.13394760326878388,\n",
    "             color=\"blue\", linewidth=1)\n",
    "\n",
    "ax4.spines[\"right\"].set_visible(False)\n",
    "ax4.spines[\"top\"].set_visible(False)\n",
    "ax4.set_xlim(0,1)\n",
    "ax4.set_ylim(0,1)\n",
    "ax4.set_xticks([0,0.5,1])\n",
    "ax4.set_yticks([0,0.5,1])\n",
    "ax4.set_xlabel(\"recall\")\n",
    "ax4.set_ylabel(\"precision\")\n",
    "\n",
    "\n",
    "colors = [\"red\", \"blue\"]\n",
    "\n",
    "bp1 = ax5.boxplot(coinc_all[:,3], positions=[1], widths = 0.35, patch_artist=True)\n",
    "bp2 = ax5.boxplot(coinc_all[:,4], positions=[2], widths = 0.35, patch_artist=True)\n",
    "bp_list = [bp1, bp2]\n",
    "\n",
    "for i in range(2):\n",
    "    plt.setp(bp_list[i]['boxes'], facecolor=colors[i])\n",
    "    plt.setp(bp_list[i]['boxes'], alpha=0.5)\n",
    "    plt.setp(bp_list[i][\"fliers\"], markeredgecolor=colors[i])\n",
    "    plt.setp(bp_list[i][\"boxes\"], color=colors[i])\n",
    "    plt.setp(bp_list[i][\"medians\"], color=colors[i])\n",
    "    for j in range(2):\n",
    "        plt.setp(bp_list[i]['whiskers'][j], color=colors[i])\n",
    "        plt.setp(bp_list[i]['caps'][j], color=colors[i])\n",
    "        \n",
    "ax5.spines[\"right\"].set_visible(False)\n",
    "ax5.spines[\"top\"].set_visible(False)\n",
    "ax5.spines[\"bottom\"].set_visible(False)\n",
    "ax5.tick_params(axis=\"x\", length=0)\n",
    "ax5.set_ylabel(\"coincidence\")\n",
    "ax5.set_ylim(0,1)\n",
    "ax5.set_xticklabels([\"$\\mathregular{v_{noNa}}$ + $\\mathregular{v_{Na}}$\",\n",
    "                    \"$\\mathregular{v_{soma}}$\"])\n",
    "\n",
    "\n",
    "\n",
    "fig.tight_layout()\n",
    "#plt.show()\n",
    "#fig.savefig(\"/scratch/yjk27/dendrite/fig_ap/fig_ap_raw.pdf\", bbox_inches=\"tight\", transparent=True)"
   ]
  },
  {
   "cell_type": "code",
   "execution_count": null,
   "id": "5081e917",
   "metadata": {},
   "outputs": [],
   "source": []
  },
  {
   "cell_type": "code",
   "execution_count": 6,
   "id": "0cefb215",
   "metadata": {},
   "outputs": [
    {
     "name": "stdout",
     "output_type": "stream",
     "text": [
      "Ttest_relResult(statistic=10.350167476734326, pvalue=3.0145457710323562e-09) Ttest_relResult(statistic=3.6480256514113965, pvalue=0.001710809512503397)\n",
      "Ttest_relResult(statistic=5.119840294427618, pvalue=6.08745477594767e-05)\n"
     ]
    }
   ],
   "source": [
    "from scipy import stats\n",
    "\n",
    "roc_comb_tcn = stats.ttest_rel(rocarea_array[:,0], rocarea_array[:,1])\n",
    "roc_comb_whole = stats.ttest_rel(rocarea_array[:,0], rocarea_array[:,2])\n",
    "\n",
    "precrec_comb_whole = stats.ttest_rel(coinc_all[:,-2], coinc_all[:,-1])\n",
    "\n",
    "print(roc_comb_whole, roc_comb_tcn)\n",
    "print(precrec_comb_whole)"
   ]
  },
  {
   "cell_type": "code",
   "execution_count": null,
   "id": "446ed927",
   "metadata": {},
   "outputs": [],
   "source": []
  }
 ],
 "metadata": {
  "kernelspec": {
   "display_name": "Python 3",
   "language": "python",
   "name": "python3"
  },
  "language_info": {
   "codemirror_mode": {
    "name": "ipython",
    "version": 3
   },
   "file_extension": ".py",
   "mimetype": "text/x-python",
   "name": "python",
   "nbconvert_exporter": "python",
   "pygments_lexer": "ipython3",
   "version": "3.8.8"
  }
 },
 "nbformat": 4,
 "nbformat_minor": 5
}
