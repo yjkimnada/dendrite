{
 "cells": [
  {
   "cell_type": "code",
   "execution_count": 1,
   "id": "05a2844b",
   "metadata": {},
   "outputs": [],
   "source": [
    "import numpy as np\n",
    "import torch \n",
    "import torch.nn as nn\n",
    "from tqdm import tnrange\n",
    "import torch.optim as optim\n",
    "import torch.nn.functional as F\n",
    "from sklearn import metrics\n",
    "import matplotlib.pyplot as plt\n",
    "import time"
   ]
  },
  {
   "cell_type": "code",
   "execution_count": 2,
   "id": "268ec9a4",
   "metadata": {},
   "outputs": [],
   "source": [
    "class AP_NN(nn.Module):\n",
    "    def __init__(self, K_no, L_no, H_no, T_no, device):\n",
    "        super().__init__()\n",
    "        \n",
    "        self.K_no = K_no\n",
    "        self.L_no = L_no\n",
    "        self.H_no = H_no\n",
    "        self.T_no = T_no\n",
    "        self.device = device\n",
    "        \n",
    "        nn_list = []\n",
    "        for l in range(self.L_no):\n",
    "            if l == 0:\n",
    "                nn_list.append(nn.Conv1d(in_channels=2, out_channels=H_no, kernel_size=K_no, padding=0))\n",
    "                #nn_list.append(nn.Tanh())\n",
    "                nn_list.append(nn.LeakyReLU())\n",
    "            elif l == self.L_no - 1:\n",
    "                nn_list.append(nn.Conv1d(in_channels=H_no, out_channels=1, kernel_size=1, padding=0))\n",
    "            else:\n",
    "                nn_list.append(nn.Conv1d(in_channels=H_no, out_channels=H_no, kernel_size=1, padding=0))\n",
    "                #nn_list.append(nn.Tanh())\n",
    "                nn_list.append(nn.LeakyReLU())\n",
    "        \n",
    "        self.nn = nn.Sequential(*nn_list)\n",
    "        \n",
    "        self.cos_basis_no = 30\n",
    "        self.scale = 7.5\n",
    "        self.shift = 1\n",
    "        self.kern_basis = torch.zeros(self.cos_basis_no, T_no).to(device)\n",
    "        for i in range(self.cos_basis_no):\n",
    "            phi = 1.5707963267948966*i\n",
    "            xmin = phi - 3.141592653589793\n",
    "            xmax = phi + 3.141592653589793\n",
    "\n",
    "            x_in = torch.arange(0, T_no, 1)\n",
    "            raw_cos = self.scale  * torch.log(x_in + self.shift + 1e-7)\n",
    "\n",
    "            basis = 0.5*torch.cos(raw_cos - phi) + 0.5\n",
    "            basis[raw_cos < xmin] = 0.0\n",
    "            basis[raw_cos > xmax] = 0.0\n",
    "            self.kern_basis[i] = basis\n",
    "        self.W_refract = nn.Parameter(torch.randn(self.cos_basis_no)*0.01)\n",
    "        \n",
    "    def train_forward(self, V, D, S):\n",
    "        #V, D, S is shape (batch, 50000)\n",
    "        \n",
    "        input_pad = torch.zeros(V.shape[0], 2, V.shape[1] + self.K_no-1).to(self.device)\n",
    "        input_pad[:,0,-V.shape[1]:] = input_pad[:,0,-V.shape[1]:] + V\n",
    "        input_pad[:,1,-D.shape[1]:] = input_pad[:,1,-D.shape[1]:] + D\n",
    "        \n",
    "        S_pad = torch.zeros(S.shape[0], 1, S.shape[1] + self.T_no-1).to(self.device)\n",
    "        S_pad[:, 0, -S.shape[1]:] = S_pad[:, 0, -S.shape[1]:] + S\n",
    "        refract_kern = torch.flip(torch.matmul(self.kern_basis.T, self.W_refract), [0]) #(T_no)\n",
    "        \n",
    "        nn_out = self.nn(input_pad).squeeze(1) # (batch, 50000)\n",
    "        S_conv = F.conv1d(S_pad, refract_kern.reshape(1,1,-1)).squeeze(1)\n",
    "        \n",
    "        P = torch.sigmoid(nn_out + S_conv)\n",
    "        return P\n",
    "    \n",
    "    def test_forward(self, V, D):\n",
    "        #V, D is shape (batch, 50000)\n",
    "        \n",
    "        input_pad = torch.zeros(V.shape[0], 2, V.shape[1] + self.K_no-1).to(self.device)\n",
    "        input_pad[:,0,-V.shape[1]:] = input_pad[:,0,-V.shape[1]:] + V\n",
    "        input_pad[:,1,-D.shape[1]:] = input_pad[:,1,-D.shape[1]:] + D\n",
    "        \n",
    "        refract_kern = torch.flip(torch.matmul(self.kern_basis.T, self.W_refract), [0]) #(T_no)\n",
    "        \n",
    "        nn_out = self.nn(input_pad).squeeze(1) # (batch, 50000)\n",
    "        \n",
    "        S_out_pad = torch.zeros(V.shape[0], V.shape[1] + self.T_no).to(self.device)\n",
    "        P_out = torch.zeros(V.shape[0], V.shape[1]).to(self.device)\n",
    "        \n",
    "        for t in range(V.shape[1]):\n",
    "            nn_t = nn_out[:,t].clone() #(batch)\n",
    "            refract_t = torch.sum(S_out_pad[:,t:t+self.T_no].clone() * refract_kern.reshape(1,-1) , 1) #(batch)\n",
    "            P_t = torch.sigmoid(nn_t + refract_t)\n",
    "            S_out_pad[:,self.T_no+t] = S_out_pad[:,self.T_no+t] + torch.bernoulli(P_t)\n",
    "            P_out[:,t] = P_out[:,t] + P_t\n",
    "        \n",
    "        S_out = S_out_pad[:,self.T_no:]\n",
    "        return S_out, P_out\n",
    "\n"
   ]
  },
  {
   "cell_type": "code",
   "execution_count": 3,
   "id": "aecb8ff2",
   "metadata": {},
   "outputs": [],
   "source": [
    "batch_size = 5\n",
    "batch_length = 50000\n",
    "K_no = 1\n",
    "L_no = 2\n",
    "H_no = 20\n",
    "T_no = 501\n",
    "device = torch.device(\"cuda\")\n",
    "\n",
    "epoch_no = 100\n",
    "iter_no = epoch_no * 980 // batch_size\n",
    "\n",
    "V = np.load(\"/media/hdd01/sklee/CA1_clust4-60_AP/comb_pred/V_comb_pred.npy\").flatten()\n",
    "D = np.zeros((V.shape[0]))\n",
    "D[:-1] = np.diff(V)\n",
    "#D = V.copy()\n",
    "D = D.reshape(-1,batch_length)\n",
    "V = V.reshape(-1,batch_length)\n",
    "S = np.load(\"/media/hdd01/sklee/CA1_clust4-60_AP/data/spk.npy\").reshape(-1,batch_length)\n",
    "\n",
    "V = torch.from_numpy(V)\n",
    "D = torch.from_numpy(D)\n",
    "S = torch.from_numpy(S)\n"
   ]
  },
  {
   "cell_type": "code",
   "execution_count": 4,
   "id": "77d3c004",
   "metadata": {},
   "outputs": [],
   "source": [
    "V_train = V[:980].float()\n",
    "V_test = V[980:].float().to(device)\n",
    "D_train = D[:980].float()\n",
    "D_test = D[980:].float().to(device)\n",
    "S_train = S[:980].float()\n",
    "S_test = S[980:].float() .to(device)\n",
    "\n",
    "train_idx = np.empty((epoch_no, 980//batch_size))\n",
    "for i in range(epoch_no):\n",
    "    part_idx = np.arange(0,980,batch_size)\n",
    "    np.random.shuffle(part_idx)\n",
    "    train_idx[i] = part_idx\n",
    "train_idx = train_idx.flatten()\n",
    "train_idx = torch.from_numpy(train_idx)\n"
   ]
  },
  {
   "cell_type": "code",
   "execution_count": 5,
   "id": "2e5a56b6",
   "metadata": {},
   "outputs": [
    {
     "name": "stdout",
     "output_type": "stream",
     "text": [
      "111\n"
     ]
    }
   ],
   "source": [
    "model = AP_NN(K_no, L_no, H_no, T_no, device)\n",
    "optimizer = torch.optim.Adam(model.parameters(), lr = 0.0005)\n",
    "\n",
    "model.to(device).float()\n",
    "print(sum(p.numel() for p in model.parameters() if p.requires_grad))\n",
    "\n",
    "bce_criterion = nn.BCELoss(reduction=\"mean\")"
   ]
  },
  {
   "cell_type": "code",
   "execution_count": null,
   "id": "cd1bf54c",
   "metadata": {
    "scrolled": false
   },
   "outputs": [
    {
     "name": "stderr",
     "output_type": "stream",
     "text": [
      "<ipython-input-6-0bb8ea78a585>:5: TqdmDeprecationWarning: Please use `tqdm.notebook.trange` instead of `tqdm.tnrange`\n",
      "  for i in tnrange(iter_no):\n"
     ]
    },
    {
     "data": {
      "application/vnd.jupyter.widget-view+json": {
       "model_id": "f2155a0980154924b332ca4216e06466",
       "version_major": 2,
       "version_minor": 0
      },
      "text/plain": [
       "  0%|          | 0/19600 [00:00<?, ?it/s]"
      ]
     },
     "metadata": {},
     "output_type": "display_data"
    },
    {
     "name": "stdout",
     "output_type": "stream",
     "text": [
      "0 0.5660656690597534 11.540967464447021\n"
     ]
    }
   ],
   "source": [
    "score_list = []\n",
    "\n",
    "part_time_idx = torch.arange(12000,32000)\n",
    "\n",
    "for i in tnrange(iter_no):\n",
    "    s = time.time()\n",
    "    model.train()\n",
    "    optimizer.zero_grad()\n",
    "    \n",
    "    batch_idx_start = train_idx[i]\n",
    "    batch_idx = torch.arange(batch_idx_start, batch_idx_start+5).long()\n",
    "    batch_S = S_train[batch_idx].to(device)[:,part_time_idx]\n",
    "    batch_V = V_train[batch_idx].to(device)[:,part_time_idx]\n",
    "    batch_D = D_train[batch_idx].to(device)[:,part_time_idx]\n",
    "    \n",
    "    S_out, batch_P = model.test_forward(batch_V, batch_D)\n",
    "    #batch_P = model.train_forward(batch_V, batch_D, batch_S)\n",
    "    loss = bce_criterion(batch_P, batch_S)\n",
    "    loss.backward()\n",
    "    optimizer.step()\n",
    "    \n",
    "    step_time = time.time() - s\n",
    "    \n",
    "    if (i%50 == 49) or (i == 0):\n",
    "        model.eval()\n",
    "        test_S_out, P_test = model.test_forward(V_test[:,part_time_idx], D_test[:,part_time_idx])\n",
    "        test_loss = bce_criterion(P_test, S_test[:,part_time_idx]).item()\n",
    "        \n",
    "        score_list.append(test_loss)\n",
    "        print(i, test_loss, step_time)"
   ]
  },
  {
   "cell_type": "code",
   "execution_count": null,
   "id": "e9f9b66e",
   "metadata": {},
   "outputs": [],
   "source": []
  },
  {
   "cell_type": "code",
   "execution_count": null,
   "id": "449f21f5",
   "metadata": {},
   "outputs": [],
   "source": [
    "plt.figure(figsize = (15,5))\n",
    "plt.plot(torch.sum(S_train, 0).cpu().detach().numpy())"
   ]
  },
  {
   "cell_type": "code",
   "execution_count": null,
   "id": "c3fab47f",
   "metadata": {},
   "outputs": [],
   "source": [
    "# AP True\n",
    "# 0.00019483866344671696 (V, D)\n",
    "# 0.0006420775316655636 (V only)\n",
    "\n",
    "# Na True\n",
    "# 0.0012602820061147213 (V, D)\n",
    "# 0.0018874892266467214 (V only)\n",
    "\n",
    "# No Na True\n",
    "# 0.0013189633609727025 (V, D)\n",
    "# 0.0018882722361013293 (V only)"
   ]
  },
  {
   "cell_type": "code",
   "execution_count": null,
   "id": "32e3493c",
   "metadata": {},
   "outputs": [],
   "source": []
  },
  {
   "cell_type": "code",
   "execution_count": null,
   "id": "7906e594",
   "metadata": {},
   "outputs": [],
   "source": [
    "plt.figure(figsize = (15,5))\n",
    "plt.plot(P_test[0].cpu().detach().numpy()[16000:27000])\n",
    "plt.scatter(np.arange(11000), S_test[0][16000:27000].cpu().detach().numpy(), s=1, color=\"red\")\n",
    "print(torch.max(P_test))\n",
    "print(model.W_refract)"
   ]
  },
  {
   "cell_type": "code",
   "execution_count": null,
   "id": "20350c98",
   "metadata": {},
   "outputs": [],
   "source": [
    "S_test_sample = torch.bernoulli(P_test)\n",
    "plt.figure(figsize = (15,5))\n",
    "plt.scatter(np.arange(11000), S_test[0][16000:27000].cpu().detach().numpy(), s=100, color=\"black\", marker=\"|\")\n",
    "plt.scatter(np.arange(11000), S_test_sample[0][16000:27000].cpu().detach().numpy() * 0.95, s=100, color=\"red\", marker=\"|\")\n",
    "plt.ylim(0.9,1.1)"
   ]
  },
  {
   "cell_type": "code",
   "execution_count": null,
   "id": "9d89c01c",
   "metadata": {},
   "outputs": [],
   "source": []
  }
 ],
 "metadata": {
  "kernelspec": {
   "display_name": "Python 3",
   "language": "python",
   "name": "python3"
  },
  "language_info": {
   "codemirror_mode": {
    "name": "ipython",
    "version": 3
   },
   "file_extension": ".py",
   "mimetype": "text/x-python",
   "name": "python",
   "nbconvert_exporter": "python",
   "pygments_lexer": "ipython3",
   "version": "3.8.8"
  }
 },
 "nbformat": 4,
 "nbformat_minor": 5
}
