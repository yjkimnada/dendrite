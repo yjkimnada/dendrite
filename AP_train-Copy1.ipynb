{
 "cells": [
  {
   "cell_type": "code",
   "execution_count": 1,
   "id": "05a2844b",
   "metadata": {},
   "outputs": [],
   "source": [
    "import numpy as np\n",
    "import torch \n",
    "import torch.nn as nn\n",
    "from tqdm import tnrange\n",
    "import torch.optim as optim\n",
    "import torch.nn.functional as F\n",
    "from sklearn import metrics\n",
    "import matplotlib.pyplot as plt\n",
    "import time"
   ]
  },
  {
   "cell_type": "code",
   "execution_count": 2,
   "id": "268ec9a4",
   "metadata": {},
   "outputs": [],
   "source": [
    "class AP_NN(nn.Module):\n",
    "    def __init__(self, K_no, L_no, H_no, T_no, device):\n",
    "        super().__init__()\n",
    "        \n",
    "        self.K_no = K_no\n",
    "        self.L_no = L_no\n",
    "        self.H_no = H_no\n",
    "        self.T_no = T_no\n",
    "        self.device = device\n",
    "        \n",
    "        nn_list = []\n",
    "        for l in range(self.L_no):\n",
    "            if l == 0:\n",
    "                nn_list.append(nn.Conv1d(in_channels=2, out_channels=H_no, kernel_size=K_no, padding=0))\n",
    "                #nn_list.append(nn.Tanh())\n",
    "                nn_list.append(nn.LeakyReLU())\n",
    "            elif l == self.L_no - 1:\n",
    "                nn_list.append(nn.Conv1d(in_channels=H_no, out_channels=1, kernel_size=1, padding=0))\n",
    "            else:\n",
    "                nn_list.append(nn.Conv1d(in_channels=H_no, out_channels=H_no, kernel_size=1, padding=0))\n",
    "                #nn_list.append(nn.Tanh())\n",
    "                nn_list.append(nn.LeakyReLU())\n",
    "        \n",
    "        self.nn = nn.Sequential(*nn_list)\n",
    "        \n",
    "        self.cos_basis_no = 30\n",
    "        self.scale = 7.5\n",
    "        self.shift = 1\n",
    "        self.kern_basis = torch.zeros(self.cos_basis_no, T_no).to(device)\n",
    "        for i in range(self.cos_basis_no):\n",
    "            phi = 1.5707963267948966*i\n",
    "            xmin = phi - 3.141592653589793\n",
    "            xmax = phi + 3.141592653589793\n",
    "\n",
    "            x_in = torch.arange(0, T_no, 1)\n",
    "            raw_cos = self.scale  * torch.log(x_in + self.shift + 1e-7)\n",
    "\n",
    "            basis = 0.5*torch.cos(raw_cos - phi) + 0.5\n",
    "            basis[raw_cos < xmin] = 0.0\n",
    "            basis[raw_cos > xmax] = 0.0\n",
    "            self.kern_basis[i] = basis\n",
    "        self.W_refract = nn.Parameter(torch.randn(self.cos_basis_no)*0.01)\n",
    "        \n",
    "    def train_forward(self, V, D, S):\n",
    "        #V, D, S is shape (batch, 50000)\n",
    "        \n",
    "        input_pad = torch.zeros(V.shape[0], 2, V.shape[1] + self.K_no-1).to(self.device)\n",
    "        input_pad[:,0,-V.shape[1]:] = input_pad[:,0,-V.shape[1]:] + V\n",
    "        input_pad[:,1,-D.shape[1]:] = input_pad[:,1,-D.shape[1]:] + D\n",
    "        \n",
    "        S_pad = torch.zeros(S.shape[0], 1, S.shape[1] + self.T_no-1).to(self.device)\n",
    "        S_pad[:, 0, -S.shape[1]:] = S_pad[:, 0, -S.shape[1]:] + S\n",
    "        refract_kern = torch.flip(torch.matmul(self.kern_basis.T, self.W_refract), [0]) #(T_no)\n",
    "        \n",
    "        nn_out = self.nn(input_pad).squeeze(1) # (batch, 50000)\n",
    "        S_conv = F.conv1d(S_pad, refract_kern.reshape(1,1,-1)).squeeze(1)\n",
    "        \n",
    "        P = torch.sigmoid(nn_out + S_conv)\n",
    "        return P\n",
    "    \n",
    "    def test_forward(self, V, D):\n",
    "        #V, D is shape (batch, 50000)\n",
    "        \n",
    "        input_pad = torch.zeros(V.shape[0], 2, V.shape[1] + self.K_no-1).to(self.device)\n",
    "        input_pad[:,0,-V.shape[1]:] = input_pad[:,0,-V.shape[1]:] + V\n",
    "        input_pad[:,1,-D.shape[1]:] = input_pad[:,1,-D.shape[1]:] + D\n",
    "        \n",
    "        refract_kern = torch.flip(torch.matmul(self.kern_basis.T, self.W_refract), [0]) #(T_no)\n",
    "        \n",
    "        nn_out = self.nn(input_pad).squeeze(1) # (batch, 50000)\n",
    "        \n",
    "        S_out_pad = torch.zeros(V.shape[0], V.shape[1] + self.T_no).to(self.device)\n",
    "        P_out = torch.zeros(V.shape[0], V.shape[1]).to(self.device)\n",
    "        \n",
    "        for t in range(V.shape[1]):\n",
    "            nn_t = nn_out[:,t].clone() #(batch)\n",
    "            refract_t = torch.sum(S_out_pad[:,t:t+self.T_no].clone() * refract_kern.reshape(1,-1) , 1) #(batch)\n",
    "            P_t = torch.sigmoid(nn_t + refract_t)\n",
    "            S_out_pad[:,self.T_no+t] = S_out_pad[:,self.T_no+t] + torch.bernoulli(P_t)\n",
    "            P_out[:,t] = P_out[:,t] + P_t\n",
    "        \n",
    "        S_out = S_out_pad[:,self.T_no:]\n",
    "        return S_out, P_out\n",
    "\n"
   ]
  },
  {
   "cell_type": "code",
   "execution_count": 3,
   "id": "aecb8ff2",
   "metadata": {},
   "outputs": [],
   "source": [
    "batch_size = 5\n",
    "batch_length = 50000\n",
    "K_no = 1\n",
    "L_no = 2\n",
    "H_no = 20\n",
    "T_no = 501\n",
    "device = torch.device(\"cuda\")\n",
    "\n",
    "epoch_no = 100\n",
    "iter_no = epoch_no * 980 // batch_size\n",
    "\n",
    "V = np.load(\"/media/hdd01/sklee/CA1_clust4-60_AP/comb_pred/V_comb_pred.npy\").flatten()\n",
    "D = np.zeros((V.shape[0]))\n",
    "D[:-1] = np.diff(V)\n",
    "#D = V.copy()\n",
    "D = D.reshape(-1,batch_length)\n",
    "V = V.reshape(-1,batch_length)\n",
    "S = np.load(\"/media/hdd01/sklee/CA1_clust4-60_AP/data/spk.npy\").reshape(-1,batch_length)\n",
    "\n",
    "V = torch.from_numpy(V)\n",
    "D = torch.from_numpy(D)\n",
    "S = torch.from_numpy(S)\n"
   ]
  },
  {
   "cell_type": "code",
   "execution_count": 4,
   "id": "77d3c004",
   "metadata": {},
   "outputs": [],
   "source": [
    "V_train = V[:980].float()\n",
    "V_test = V[980:].float().to(device)\n",
    "D_train = D[:980].float()\n",
    "D_test = D[980:].float().to(device)\n",
    "S_train = S[:980].float()\n",
    "S_test = S[980:].float() .to(device)\n",
    "\n",
    "train_idx = np.empty((epoch_no, 980//batch_size))\n",
    "for i in range(epoch_no):\n",
    "    part_idx = np.arange(0,980,batch_size)\n",
    "    np.random.shuffle(part_idx)\n",
    "    train_idx[i] = part_idx\n",
    "train_idx = train_idx.flatten()\n",
    "train_idx = torch.from_numpy(train_idx)\n"
   ]
  },
  {
   "cell_type": "code",
   "execution_count": 5,
   "id": "2e5a56b6",
   "metadata": {},
   "outputs": [
    {
     "name": "stdout",
     "output_type": "stream",
     "text": [
      "111\n"
     ]
    }
   ],
   "source": [
    "model = AP_NN(K_no, L_no, H_no, T_no, device)\n",
    "optimizer = torch.optim.Adam(model.parameters(), lr = 0.0005)\n",
    "\n",
    "model.to(device).float()\n",
    "print(sum(p.numel() for p in model.parameters() if p.requires_grad))\n",
    "\n",
    "bce_criterion = nn.BCELoss(reduction=\"mean\")"
   ]
  },
  {
   "cell_type": "code",
   "execution_count": 6,
   "id": "cd1bf54c",
   "metadata": {
    "scrolled": false
   },
   "outputs": [
    {
     "name": "stderr",
     "output_type": "stream",
     "text": [
      "<ipython-input-6-0bb8ea78a585>:5: TqdmDeprecationWarning: Please use `tqdm.notebook.trange` instead of `tqdm.tnrange`\n",
      "  for i in tnrange(iter_no):\n"
     ]
    },
    {
     "data": {
      "application/vnd.jupyter.widget-view+json": {
       "model_id": "f2155a0980154924b332ca4216e06466",
       "version_major": 2,
       "version_minor": 0
      },
      "text/plain": [
       "  0%|          | 0/19600 [00:00<?, ?it/s]"
      ]
     },
     "metadata": {},
     "output_type": "display_data"
    },
    {
     "name": "stdout",
     "output_type": "stream",
     "text": [
      "0 0.5660656690597534 11.540967464447021\n",
      "49 0.13995273411273956 11.697033882141113\n",
      "99 0.10508427768945694 12.055019617080688\n",
      "149 0.08772184699773788 11.92812204360962\n",
      "199 0.07586076110601425 11.965021133422852\n",
      "249 0.06757237017154694 12.187100172042847\n",
      "299 0.0608924999833107 12.522115468978882\n",
      "349 0.0554383285343647 12.119268894195557\n",
      "399 0.05039117857813835 12.087712049484253\n",
      "449 0.045996300876140594 12.026589155197144\n",
      "499 0.04244004189968109 11.988090991973877\n",
      "549 0.038563597947359085 12.131720066070557\n",
      "599 0.03561520203948021 12.369555711746216\n",
      "649 0.03207675367593765 11.980798721313477\n",
      "699 0.02967669442296028 12.331401824951172\n",
      "749 0.027076510712504387 11.893225908279419\n",
      "799 0.024720443412661552 12.082522869110107\n",
      "849 0.02253718674182892 11.914998769760132\n",
      "899 0.02062053233385086 12.754130601882935\n",
      "949 0.019056176766753197 12.614485502243042\n",
      "999 0.01745535433292389 12.054714918136597\n",
      "1049 0.01615961268544197 12.126040935516357\n",
      "1099 0.014880486764013767 12.304299354553223\n",
      "1149 0.013924595899879932 12.19038438796997\n",
      "1199 0.012909650802612305 12.251197338104248\n",
      "1249 0.012238708324730396 12.271782398223877\n",
      "1299 0.011482967995107174 12.115485906600952\n",
      "1349 0.01093248836696148 12.65653133392334\n",
      "1399 0.0103693138808012 11.868617296218872\n",
      "1449 0.009935930371284485 11.924794673919678\n",
      "1499 0.0095395278185606 12.101746559143066\n",
      "1549 0.00917758233845234 12.25286078453064\n",
      "1599 0.008866500109434128 11.989048957824707\n",
      "1649 0.008569486439228058 12.14595913887024\n",
      "1699 0.008308904245495796 12.025259971618652\n",
      "1749 0.008060706779360771 12.193445682525635\n",
      "1799 0.007866435684263706 12.371880531311035\n",
      "1849 0.0076642828062176704 12.138328790664673\n",
      "1899 0.007479350548237562 11.83747124671936\n",
      "1949 0.007337240967899561 12.044222593307495\n",
      "1999 0.00718767149373889 12.401843786239624\n",
      "2049 0.00701379356905818 11.920687675476074\n",
      "2099 0.006877037230879068 12.432585000991821\n",
      "2149 0.00674552982673049 11.99954867362976\n",
      "2199 0.006614923011511564 11.942078590393066\n",
      "2249 0.006481235381215811 12.30396556854248\n",
      "2299 0.006349889561533928 12.282175540924072\n",
      "2349 0.006223449483513832 12.342631101608276\n",
      "2399 0.006098184268921614 12.141433715820312\n",
      "2449 0.005990173202008009 12.014935493469238\n",
      "2499 0.005881858989596367 12.157668828964233\n",
      "2549 0.005777254700660706 12.087967157363892\n",
      "2599 0.005672988016158342 12.190716981887817\n",
      "2649 0.005564755294471979 12.535014152526855\n",
      "2699 0.005476799793541431 12.067129611968994\n",
      "2749 0.00538517814129591 11.88936734199524\n",
      "2799 0.005287529900670052 12.206890106201172\n",
      "2849 0.005196486599743366 11.887977123260498\n",
      "2899 0.005096815526485443 12.605284452438354\n",
      "2949 0.005004881415516138 12.453169584274292\n",
      "2999 0.004911572206765413 11.942671298980713\n",
      "3049 0.00482266815379262 12.112306833267212\n",
      "3099 0.004724557511508465 11.899466753005981\n",
      "3149 0.0046305423602461815 12.277112007141113\n",
      "3199 0.004537004977464676 12.217865467071533\n",
      "3249 0.004434529226273298 12.081509113311768\n",
      "3299 0.004330433439463377 12.464622259140015\n",
      "3349 0.004231934901326895 12.017661333084106\n",
      "3399 0.00415657926350832 11.877583265304565\n",
      "3449 0.004092616960406303 12.12696623802185\n",
      "3499 0.0040376693941652775 12.09852147102356\n",
      "3549 0.003984479699283838 11.907757759094238\n",
      "3599 0.003940778784453869 11.855076313018799\n",
      "3649 0.00388308591209352 11.942416667938232\n",
      "3699 0.0038430881686508656 12.229986429214478\n",
      "3749 0.0038007500115782022 12.657636165618896\n",
      "3799 0.0037655229680240154 12.554004907608032\n",
      "3849 0.0037270565517246723 11.883861541748047\n",
      "3899 0.003693840466439724 12.506189346313477\n",
      "3949 0.003660655114799738 11.877099990844727\n",
      "3999 0.0036337587516754866 11.852413892745972\n",
      "4049 0.003600466763600707 12.080699443817139\n",
      "4099 0.0035705091431736946 12.101219415664673\n",
      "4149 0.003546932013705373 12.17452597618103\n",
      "4199 0.003525056876242161 12.052979469299316\n",
      "4249 0.00350239803083241 11.908825159072876\n",
      "4299 0.003481118706986308 11.930999040603638\n",
      "4349 0.0034605124965310097 11.894354104995728\n",
      "4399 0.0034409898798912764 11.922859191894531\n",
      "4449 0.0034215115010738373 12.470231533050537\n",
      "4499 0.003405654104426503 12.16702675819397\n",
      "4549 0.0033908660989254713 11.940587043762207\n",
      "4599 0.003373184008523822 12.392702341079712\n",
      "4649 0.0033600060269236565 12.386165142059326\n",
      "4699 0.0033406498841941357 11.861177682876587\n",
      "4749 0.0033320817165076733 12.155511379241943\n",
      "4799 0.003323179204016924 12.12327527999878\n",
      "4849 0.003310456173494458 12.181588411331177\n",
      "4899 0.003298597875982523 12.412660837173462\n",
      "4949 0.0032898655626922846 11.869897365570068\n",
      "4999 0.003276956034824252 11.988738775253296\n",
      "5049 0.003265686798840761 12.061809062957764\n",
      "5099 0.0032558897510170937 12.004744052886963\n",
      "5149 0.003248447785153985 12.658132553100586\n",
      "5199 0.00323567190207541 11.92124056816101\n",
      "5249 0.003230761969462037 12.631195545196533\n",
      "5299 0.0032224413007497787 12.530961751937866\n",
      "5349 0.00321480305865407 11.938497304916382\n",
      "5399 0.003207545494660735 11.94620418548584\n",
      "5449 0.0031987193506211042 12.212992906570435\n",
      "5499 0.003189999843016267 12.75819706916809\n",
      "5549 0.0031870512757450342 11.919745206832886\n",
      "5599 0.0031786479521542788 12.41365122795105\n",
      "5649 0.0031727540772408247 11.942733764648438\n",
      "5699 0.0031655484344810247 11.938862085342407\n",
      "5749 0.0031637498177587986 12.080522775650024\n",
      "5799 0.0031616808846592903 11.891019821166992\n",
      "5849 0.003151959041133523 12.440709829330444\n",
      "5899 0.003145576687529683 12.232630014419556\n",
      "5949 0.0031431731767952442 12.033618688583374\n",
      "5999 0.003136912826448679 12.087532043457031\n",
      "6049 0.003132097888737917 11.87399411201477\n",
      "6099 0.0031294110231101513 11.892067432403564\n",
      "6149 0.003121342044323683 12.237895727157593\n",
      "6199 0.0031258324161171913 11.98550820350647\n",
      "6249 0.003118004184216261 11.979345083236694\n",
      "6299 0.0031128590926527977 12.173705101013184\n",
      "6349 0.0031104644294828176 11.83592176437378\n",
      "6399 0.003109127748757601 12.006133556365967\n"
     ]
    },
    {
     "ename": "KeyboardInterrupt",
     "evalue": "",
     "output_type": "error",
     "traceback": [
      "\u001b[0;31m---------------------------------------------------------------------------\u001b[0m",
      "\u001b[0;31mKeyboardInterrupt\u001b[0m                         Traceback (most recent call last)",
      "\u001b[0;32m<ipython-input-6-0bb8ea78a585>\u001b[0m in \u001b[0;36m<module>\u001b[0;34m\u001b[0m\n\u001b[1;32m     17\u001b[0m     \u001b[0;31m#batch_P = model.train_forward(batch_V, batch_D, batch_S)\u001b[0m\u001b[0;34m\u001b[0m\u001b[0;34m\u001b[0m\u001b[0;34m\u001b[0m\u001b[0m\n\u001b[1;32m     18\u001b[0m     \u001b[0mloss\u001b[0m \u001b[0;34m=\u001b[0m \u001b[0mbce_criterion\u001b[0m\u001b[0;34m(\u001b[0m\u001b[0mbatch_P\u001b[0m\u001b[0;34m,\u001b[0m \u001b[0mbatch_S\u001b[0m\u001b[0;34m)\u001b[0m\u001b[0;34m\u001b[0m\u001b[0;34m\u001b[0m\u001b[0m\n\u001b[0;32m---> 19\u001b[0;31m     \u001b[0mloss\u001b[0m\u001b[0;34m.\u001b[0m\u001b[0mbackward\u001b[0m\u001b[0;34m(\u001b[0m\u001b[0;34m)\u001b[0m\u001b[0;34m\u001b[0m\u001b[0;34m\u001b[0m\u001b[0m\n\u001b[0m\u001b[1;32m     20\u001b[0m     \u001b[0moptimizer\u001b[0m\u001b[0;34m.\u001b[0m\u001b[0mstep\u001b[0m\u001b[0;34m(\u001b[0m\u001b[0;34m)\u001b[0m\u001b[0;34m\u001b[0m\u001b[0;34m\u001b[0m\u001b[0m\n\u001b[1;32m     21\u001b[0m \u001b[0;34m\u001b[0m\u001b[0m\n",
      "\u001b[0;32m~/anaconda3/lib/python3.8/site-packages/torch/tensor.py\u001b[0m in \u001b[0;36mbackward\u001b[0;34m(self, gradient, retain_graph, create_graph, inputs)\u001b[0m\n\u001b[1;32m    243\u001b[0m                 \u001b[0mcreate_graph\u001b[0m\u001b[0;34m=\u001b[0m\u001b[0mcreate_graph\u001b[0m\u001b[0;34m,\u001b[0m\u001b[0;34m\u001b[0m\u001b[0;34m\u001b[0m\u001b[0m\n\u001b[1;32m    244\u001b[0m                 inputs=inputs)\n\u001b[0;32m--> 245\u001b[0;31m         \u001b[0mtorch\u001b[0m\u001b[0;34m.\u001b[0m\u001b[0mautograd\u001b[0m\u001b[0;34m.\u001b[0m\u001b[0mbackward\u001b[0m\u001b[0;34m(\u001b[0m\u001b[0mself\u001b[0m\u001b[0;34m,\u001b[0m \u001b[0mgradient\u001b[0m\u001b[0;34m,\u001b[0m \u001b[0mretain_graph\u001b[0m\u001b[0;34m,\u001b[0m \u001b[0mcreate_graph\u001b[0m\u001b[0;34m,\u001b[0m \u001b[0minputs\u001b[0m\u001b[0;34m=\u001b[0m\u001b[0minputs\u001b[0m\u001b[0;34m)\u001b[0m\u001b[0;34m\u001b[0m\u001b[0;34m\u001b[0m\u001b[0m\n\u001b[0m\u001b[1;32m    246\u001b[0m \u001b[0;34m\u001b[0m\u001b[0m\n\u001b[1;32m    247\u001b[0m     \u001b[0;32mdef\u001b[0m \u001b[0mregister_hook\u001b[0m\u001b[0;34m(\u001b[0m\u001b[0mself\u001b[0m\u001b[0;34m,\u001b[0m \u001b[0mhook\u001b[0m\u001b[0;34m)\u001b[0m\u001b[0;34m:\u001b[0m\u001b[0;34m\u001b[0m\u001b[0;34m\u001b[0m\u001b[0m\n",
      "\u001b[0;32m~/anaconda3/lib/python3.8/site-packages/torch/autograd/__init__.py\u001b[0m in \u001b[0;36mbackward\u001b[0;34m(tensors, grad_tensors, retain_graph, create_graph, grad_variables, inputs)\u001b[0m\n\u001b[1;32m    143\u001b[0m         \u001b[0mretain_graph\u001b[0m \u001b[0;34m=\u001b[0m \u001b[0mcreate_graph\u001b[0m\u001b[0;34m\u001b[0m\u001b[0;34m\u001b[0m\u001b[0m\n\u001b[1;32m    144\u001b[0m \u001b[0;34m\u001b[0m\u001b[0m\n\u001b[0;32m--> 145\u001b[0;31m     Variable._execution_engine.run_backward(\n\u001b[0m\u001b[1;32m    146\u001b[0m         \u001b[0mtensors\u001b[0m\u001b[0;34m,\u001b[0m \u001b[0mgrad_tensors_\u001b[0m\u001b[0;34m,\u001b[0m \u001b[0mretain_graph\u001b[0m\u001b[0;34m,\u001b[0m \u001b[0mcreate_graph\u001b[0m\u001b[0;34m,\u001b[0m \u001b[0minputs\u001b[0m\u001b[0;34m,\u001b[0m\u001b[0;34m\u001b[0m\u001b[0;34m\u001b[0m\u001b[0m\n\u001b[1;32m    147\u001b[0m         allow_unreachable=True, accumulate_grad=True)  # allow_unreachable flag\n",
      "\u001b[0;31mKeyboardInterrupt\u001b[0m: "
     ]
    }
   ],
   "source": [
    "score_list = []\n",
    "\n",
    "part_time_idx = torch.arange(12000,32000)\n",
    "\n",
    "for i in tnrange(iter_no):\n",
    "    s = time.time()\n",
    "    model.train()\n",
    "    optimizer.zero_grad()\n",
    "    \n",
    "    batch_idx_start = train_idx[i]\n",
    "    batch_idx = torch.arange(batch_idx_start, batch_idx_start+5).long()\n",
    "    batch_S = S_train[batch_idx].to(device)[:,part_time_idx]\n",
    "    batch_V = V_train[batch_idx].to(device)[:,part_time_idx]\n",
    "    batch_D = D_train[batch_idx].to(device)[:,part_time_idx]\n",
    "    \n",
    "    S_out, batch_P = model.test_forward(batch_V, batch_D)\n",
    "    #batch_P = model.train_forward(batch_V, batch_D, batch_S)\n",
    "    loss = bce_criterion(batch_P, batch_S)\n",
    "    loss.backward()\n",
    "    optimizer.step()\n",
    "    \n",
    "    step_time = time.time() - s\n",
    "    \n",
    "    if (i%50 == 49) or (i == 0):\n",
    "        model.eval()\n",
    "        test_S_out, P_test = model.test_forward(V_test[:,part_time_idx], D_test[:,part_time_idx])\n",
    "        test_loss = bce_criterion(P_test, S_test[:,part_time_idx]).item()\n",
    "        \n",
    "        score_list.append(test_loss)\n",
    "        print(i, test_loss, step_time)"
   ]
  },
  {
   "cell_type": "code",
   "execution_count": null,
   "id": "ce9ecc4a",
   "metadata": {},
   "outputs": [],
   "source": []
  },
  {
   "cell_type": "code",
   "execution_count": 8,
   "id": "c3fab47f",
   "metadata": {},
   "outputs": [],
   "source": [
    "# AP True\n",
    "# 0.00019483866344671696 (V, D)\n",
    "# 0.0006420775316655636 (V only)\n",
    "\n",
    "# Na True\n",
    "# 0.0012602820061147213 (V, D)\n",
    "# 0.0018874892266467214 (V only)\n",
    "\n",
    "# No Na True\n",
    "# 0.0013189633609727025 (V, D)\n",
    "# 0.0018882722361013293 (V only)"
   ]
  },
  {
   "cell_type": "code",
   "execution_count": null,
   "id": "32e3493c",
   "metadata": {},
   "outputs": [],
   "source": []
  },
  {
   "cell_type": "code",
   "execution_count": 9,
   "id": "20350c98",
   "metadata": {},
   "outputs": [
    {
     "name": "stdout",
     "output_type": "stream",
     "text": [
      "tensor(0.0352, device='cuda:0', grad_fn=<MaxBackward1>)\n"
     ]
    },
    {
     "data": {
      "text/plain": [
       "(0.0, 0.25)"
      ]
     },
     "execution_count": 9,
     "metadata": {},
     "output_type": "execute_result"
    },
    {
     "data": {
      "image/png": "[encoded data removed]",
      "text/plain": [
       "<Figure size 1080x360 with 1 Axes>"
      ]
     },
     "metadata": {
      "needs_background": "light"
     },
     "output_type": "display_data"
    }
   ],
   "source": [
    "plt.figure(figsize = (15,5))\n",
    "plt.plot(P_test[0][10000:15000].cpu().detach().numpy()[:])\n",
    "plt.scatter(np.arange(5000), S_test[0][12000:32000][10000:15000].cpu().detach().numpy()-0.8, s=100, color=\"black\", marker=\"|\")\n",
    "plt.scatter(np.arange(5000), test_S_out[0][10000:15000].cpu().detach().numpy()*0.9-0.8, s=100, color=\"red\", marker=\"|\")\n",
    "print(torch.max(P_test))\n",
    "plt.ylim(0,0.25)"
   ]
  },
  {
   "cell_type": "code",
   "execution_count": 10,
   "id": "9d89c01c",
   "metadata": {},
   "outputs": [
    {
     "name": "stdout",
     "output_type": "stream",
     "text": [
      "Parameter containing:\n",
      "tensor([-0.0736, -0.0659, -0.0514, -0.0819, -0.0686, -0.0580, -0.0571, -0.0713,\n",
      "        -0.0655, -0.0548, -0.0797, -0.0690, -0.0780, -0.0737, -0.0669, -0.0584,\n",
      "        -0.0791, -0.0658, -0.0851, -0.0567, -0.0777, -0.0607, -0.0820, -0.0544,\n",
      "        -0.0594, -0.0449, -0.0556, -0.0695, -0.0523, -0.0618], device='cuda:0',\n",
      "       requires_grad=True)\n"
     ]
    }
   ],
   "source": [
    "print(model.W_refract)"
   ]
  },
  {
   "cell_type": "code",
   "execution_count": null,
   "id": "53ef988b",
   "metadata": {},
   "outputs": [],
   "source": []
  }
 ],
 "metadata": {
  "kernelspec": {
   "display_name": "Python 3",
   "language": "python",
   "name": "python3"
  }
 },
 "nbformat": 4,
 "nbformat_minor": 5
}
