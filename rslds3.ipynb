{
 "cells": [
  {
   "cell_type": "code",
   "execution_count": 1,
   "metadata": {},
   "outputs": [],
   "source": [
    "import numpy as np\n",
    "import torch \n",
    "import torch.nn as nn\n",
    "from tqdm import tnrange\n",
    "import torch.optim as optim\n",
    "import torch.nn.functional as F\n",
    "from sklearn import metrics\n",
    "import matplotlib.pyplot as plt\n",
    "from sklearn.metrics import explained_variance_score\n",
    "import scipy\n",
    "import time\n",
    "\n",
    "from rslds import RSLDS"
   ]
  },
  {
   "cell_type": "code",
   "execution_count": 2,
   "metadata": {},
   "outputs": [],
   "source": [
    "class RSLDS(nn.Module):\n",
    "    def __init__(self, N, K, H, C_syn, device):\n",
    "        super().__init__()\n",
    "\n",
    "        self.K = K\n",
    "        self.C_syn = C_syn\n",
    "        self.in_no = C_syn.shape[1]\n",
    "        self.device = device\n",
    "        self.N = N\n",
    "        self.H = H\n",
    "        \n",
    "        self.W_zu = nn.Parameter(torch.randn(N, K, K)*0.01)\n",
    "        self.W_zx = nn.Parameter(torch.randn(N, K, K, H)*0.01)\n",
    "        self.W_xx = nn.Parameter(torch.randn(N, K, H, H)*0.01)\n",
    "        self.W_xu = nn.Parameter(torch.randn(N, K, H)*0.01)\n",
    "        self.W_yx = nn.Linear(N*H, 1)\n",
    "\n",
    "        self.b_z = nn.Parameter(torch.randn(N, K, K)*0.01)\n",
    "        self.b_x = nn.Parameter(torch.randn(N, K, H)*0.01)\n",
    "\n",
    "        self.U_scale = nn.Parameter(torch.ones(self.in_no))\n",
    "        self.Z_init = nn.Parameter(torch.zeros(N, K))\n",
    "        \n",
    "    def forward(self, U_raw, temp):\n",
    "        # U_raw is (batch, T, in_no)\n",
    "        batch = U_raw.shape[0]\n",
    "        T = U_raw.shape[1]\n",
    "        \n",
    "        U_scaled = U_raw * self.U_scale.reshape(1, 1,-1)\n",
    "        U = torch.matmul(U_scaled, self.C_syn.T) # (batch, T, N)\n",
    "        \n",
    "        Z_out = torch.zeros(batch, T+1, self.N, self.K).to(self.device)\n",
    "        X_out = torch.zeros(batch, T+1, self.N, self.H).to(self.device)\n",
    "        Z_out[:,0,:,:] = Z_out[:,0,:,:] + F.softmax(self.Z_init / temp, -1)\n",
    "        \n",
    "        for t in range(T):\n",
    "            W_zu_part = torch.sum(self.W_zu.unsqueeze(0) * Z_out[:,t,:,:].clone().unsqueeze(-1), -2) #(batch,N,K)\n",
    "            W_zx_part = torch.sum(self.W_zx.unsqueeze(0) * Z_out[:,t,:,:].clone().unsqueeze(-1).unsqueeze(-1), -3) #(batch,N,K,H)\n",
    "            b_z_part = torch.sum(self.b_z.unsqueeze(0) * Z_out[:,t,:,:].clone().unsqueeze(-1) , -2) #(batch,N,K)\n",
    "            \n",
    "            Z_curr_raw = torch.matmul(W_zx_part , X_out[:,t,:,:].clone().unsqueeze(-1)).squeeze(-1) \\\n",
    "                + W_zu_part * U[:,t,:].unsqueeze(-1) + b_z_part\n",
    "            Z_curr = F.softmax(Z_curr_raw / temp, -1) # (batch,N,K)\n",
    "            Z_out[:,t+1,:,:] = Z_out[:,t+1,:,:] + Z_curr\n",
    "            \n",
    "            W_xu_part = torch.sum(self.W_xu.unsqueeze(0) * Z_curr.unsqueeze(-1), -2) #(batch,N,H)\n",
    "            W_xx_part = torch.sum(self.W_xx.unsqueeze(0) * Z_curr.unsqueeze(-1).unsqueeze(-1), -3) #(batch,N,H,H)\n",
    "            b_x_part = torch.sum(self.b_x.unsqueeze(0) * Z_curr.unsqueeze(-1) , -2) #(batch,N,H)\n",
    "            \n",
    "            X_curr = torch.matmul(W_xx_part , X_out[:,t,:,:].clone().unsqueeze(-1)).squeeze(-1) \\\n",
    "                + W_xu_part * U[:,t,:].unsqueeze(-1) + b_x_part # (batch,N,H)\n",
    "            X_out[:,t+1,:,:] = X_out[:,t+1,:,:] + torch.tanh(X_curr)\n",
    "            \n",
    "        Y_out = self.W_yx(Z_out[:,1:,:,:].reshape(-1, self.N*self.H)).reshape(batch, T)\n",
    "        \n",
    "        return Y_out, X_out[:,1:,:,:], Z_out[:,1:,:,:]"
   ]
  },
  {
   "cell_type": "code",
   "execution_count": 3,
   "metadata": {},
   "outputs": [],
   "source": [
    "base_dir = \"/media/hdd01/sklee/\"\n",
    "experiment = \"clust4-60\"\n",
    "cell_type = \"CA1\"\n",
    "E_neural_file = \"Espikes_neural.npz\"\n",
    "V_file = \"V_diff.npy\"\n",
    "eloc_file = \"Elocs_T10_Ne2000_gA0.6_tauA1_gN0.8_Ni200_gG0.1_gB0.1_Er0.5_Ir7.4_random_NR_rep1000_stimseed1.npy\"\n",
    "\n",
    "E_neural = scipy.sparse.load_npz(base_dir+cell_type+\"_\"+experiment+\"/data/\"+E_neural_file)\n",
    "V = np.load(base_dir+cell_type+\"_\"+experiment+\"/data/\"+V_file)\n",
    "V = torch.from_numpy(V)\n",
    "eloc = np.load(base_dir+cell_type+\"_\"+experiment+\"/data/\"+eloc_file)\n",
    "\n",
    "den_idx = np.unique(eloc[880:1120,0])\n",
    "e_idx = np.where(np.isin(eloc[:,0], den_idx) == True)[0]\n",
    "e_idx = torch.from_numpy(e_idx)"
   ]
  },
  {
   "cell_type": "code",
   "execution_count": 4,
   "metadata": {},
   "outputs": [],
   "source": [
    "T_train = 999 * 1000 * 50\n",
    "T_test = 1 * 1000 * 50\n",
    "hid_no = 3 # H\n",
    "sub_no = 4 # N\n",
    "state_no = 3 # K\n",
    "in_no = 299\n",
    "save_dir = base_dir+cell_type+\"_\"+experiment+\"/\"\n",
    "device = torch.device(\"cuda\")\n",
    "\n",
    "batch_length = 50000\n",
    "batch_size = 9\n",
    "iter_no = 9990\n",
    "epoch_no = iter_no*batch_length*batch_size//T_train"
   ]
  },
  {
   "cell_type": "code",
   "execution_count": 5,
   "metadata": {},
   "outputs": [],
   "source": [
    "V_train = V[:T_train].float()\n",
    "V_test = V[T_train:T_train + T_test].to(device).float()\n",
    "\n",
    "test_E_neural = E_neural[T_train:T_train+T_test].toarray()\n",
    "train_E_neural = E_neural[:T_train]\n",
    "test_E_neural = torch.from_numpy(test_E_neural).float().to(device)\n",
    "\n",
    "train_idx = np.empty((epoch_no, T_train//batch_length//batch_size))\n",
    "for i in range(epoch_no):\n",
    "    part_idx = np.arange(0, T_train, batch_length*batch_size)\n",
    "    np.random.shuffle(part_idx)\n",
    "    train_idx[i] = part_idx\n",
    "train_idx = train_idx.flatten()\n",
    "train_idx = torch.from_numpy(train_idx)"
   ]
  },
  {
   "cell_type": "code",
   "execution_count": 6,
   "metadata": {},
   "outputs": [],
   "source": [
    "C_syn = torch.zeros(sub_no, in_no).to(device)\n",
    "for i in range(in_no):\n",
    "    idx = e_idx[i]\n",
    "    if eloc[idx,0] == den_idx[0]:\n",
    "        C_syn[0,i] = 1\n",
    "    elif eloc[idx,0] == den_idx[1]:\n",
    "        C_syn[1,i] = 1\n",
    "    elif eloc[idx,0] == den_idx[2]:\n",
    "        C_syn[2,i] = 1\n",
    "    elif eloc[idx,0] == den_idx[3]:\n",
    "        C_syn[3,i] = 1"
   ]
  },
  {
   "cell_type": "code",
   "execution_count": 7,
   "metadata": {},
   "outputs": [
    {
     "name": "stdout",
     "output_type": "stream",
     "text": [
      "684\n"
     ]
    }
   ],
   "source": [
    "model = RSLDS(sub_no, state_no, hid_no, C_syn, device)\n",
    "optimizer = torch.optim.Adam(model.parameters(), lr=0.0025)\n",
    "\n",
    "model.to(device).float()\n",
    "print(sum(p.numel() for p in model.parameters() if p.requires_grad))"
   ]
  },
  {
   "cell_type": "code",
   "execution_count": null,
   "metadata": {
    "scrolled": false
   },
   "outputs": [
    {
     "name": "stderr",
     "output_type": "stream",
     "text": [
      "<ipython-input-8-c721b2195f6f>:4: TqdmDeprecationWarning: Please use `tqdm.notebook.trange` instead of `tqdm.tnrange`\n",
      "  for i in tnrange(iter_no):\n"
     ]
    },
    {
     "data": {
      "application/vnd.jupyter.widget-view+json": {
       "model_id": "ae7f47d47fe0480cb49e2203aa30bc3a",
       "version_major": 2,
       "version_minor": 0
      },
      "text/plain": [
       "HBox(children=(HTML(value=''), FloatProgress(value=0.0, max=9990.0), HTML(value='')))"
      ]
     },
     "metadata": {},
     "output_type": "display_data"
    },
    {
     "name": "stdout",
     "output_type": "stream",
     "text": [
      "0 0.35723 52.88083\n",
      "TEST 0 -0.030166 0.447402\n",
      "1 0.355829 53.74637\n",
      "2 0.338088 55.42143\n",
      "3 0.310037 56.04598\n",
      "4 0.30405 56.28335\n",
      "5 0.290996 56.70249\n",
      "6 0.283651 57.01353\n",
      "7 0.266291 57.31604\n",
      "8 0.252814 57.35764\n",
      "9 0.2439 58.07998\n",
      "10 0.229121 57.60294\n",
      "11 0.223106 57.29437\n",
      "12 0.20766 58.24233\n",
      "13 0.197583 57.76831\n",
      "14 0.184249 57.3998\n",
      "15 0.182672 57.75164\n",
      "16 0.169698 57.77944\n",
      "17 0.167336 58.74315\n",
      "18 0.155754 59.16774\n",
      "19 0.147003 57.6849\n",
      "20 0.134312 57.59206\n",
      "21 0.129198 57.51634\n",
      "22 0.123343 57.53466\n",
      "23 0.111926 57.48619\n",
      "24 0.113252 57.52751\n",
      "TEST 24 -0.0 0.13284\n",
      "25 0.105827 55.87575\n",
      "26 0.102501 56.82407\n",
      "27 0.097575 57.26245\n",
      "28 0.095818 57.44153\n",
      "29 0.082541 57.68175\n",
      "30 0.085347 59.0652\n",
      "31 0.086897 59.0343\n",
      "32 0.076428 57.93354\n",
      "33 0.077334 59.13623\n",
      "34 0.077612 59.79848\n",
      "35 0.076177 59.53669\n",
      "36 0.066646 58.13191\n",
      "37 0.070259 58.48538\n",
      "38 0.072956 58.36374\n",
      "39 0.065521 59.68835\n",
      "40 0.070138 59.27397\n",
      "41 0.067062 59.68334\n",
      "42 0.062753 59.35609\n",
      "43 0.062611 59.58013\n",
      "44 0.065945 58.87279\n",
      "45 0.071283 59.03821\n",
      "46 0.077055 59.23032\n",
      "47 0.068777 58.37497\n",
      "48 0.06402 60.05773\n",
      "49 0.066533 59.94984\n",
      "TEST 49 0.0 0.235446\n",
      "50 0.064292 59.57528\n",
      "51 0.070457 59.70047\n",
      "52 0.065721 59.67116\n",
      "53 0.070707 60.73917\n",
      "54 0.061048 60.33578\n",
      "55 0.065714 59.95817\n",
      "56 0.069601 59.49941\n",
      "57 0.072769 58.67324\n",
      "58 0.069466 58.37509\n",
      "59 0.07832 58.37528\n",
      "60 0.070721 58.39945\n",
      "61 0.076856 58.38766\n",
      "62 0.071161 58.40646\n",
      "63 0.067581 58.40169\n",
      "64 0.069993 59.19239\n",
      "65 0.070643 58.27482\n",
      "66 0.065774 58.38647\n",
      "67 0.065765 58.34016\n",
      "68 0.064126 58.29338\n",
      "69 0.069197 58.31135\n",
      "70 0.07613 58.41739\n",
      "71 0.064772 58.32367\n",
      "72 0.06717 58.39231\n",
      "73 0.071439 58.35351\n",
      "74 0.065888 58.13554\n",
      "TEST 74 -0.000997 0.207309\n",
      "75 0.065572 59.39064\n",
      "76 0.063498 58.16729\n"
     ]
    }
   ],
   "source": [
    "temp_list = np.logspace(0,-3,20)\n",
    "temp_count = 0\n",
    "\n",
    "for i in tnrange(iter_no):\n",
    "    s = time.time()\n",
    "    model.train()\n",
    "    optimizer.zero_grad()\n",
    "    \n",
    "    \n",
    "    \n",
    "    batch_idx = train_idx[i].long()\n",
    "    batch_E_neural = train_E_neural[batch_idx : batch_idx+batch_length*batch_size].toarray().reshape(batch_size, batch_length, -1)\n",
    "    batch_E_neural = torch.from_numpy(batch_E_neural).float().to(device)\n",
    "    batch_V = V_train[batch_idx : batch_idx+batch_length*batch_size].reshape(batch_size, -1).to(device)[:,10000:30000]\n",
    "    \n",
    "    V_pred, X_out, Z_out = model(batch_E_neural[:,10000:30000,e_idx], temp)\n",
    "    \n",
    "    loss = torch.mean((V_pred - batch_V)**2)\n",
    "        \n",
    "    loss.backward()    \n",
    "    optimizer.step()\n",
    "    \n",
    "    print(i, np.round(loss.item(), 6),\n",
    "         np.round(time.time() - s, 5))\n",
    "    \n",
    "    if (i%25 == 24) or (i == 0):\n",
    "        model.eval()\n",
    "        test_V_pred, test_X_out, test_Z_out = model(test_E_neural[10000:30000,e_idx].unsqueeze(0), 0.0001)\n",
    "                 \n",
    "        test_score = explained_variance_score(V_test[10000:30000].cpu().detach().numpy(), test_V_pred.flatten().cpu().detach().numpy())\n",
    "        test_mse = torch.mean((V_test[10000:30000]-test_V_pred)**2).item()\n",
    "        \n",
    "        print(\"TEST\", i, np.round(test_score,6),\n",
    "              np.round(test_mse,6))\n",
    "    "
   ]
  },
  {
   "cell_type": "code",
   "execution_count": null,
   "metadata": {},
   "outputs": [],
   "source": []
  },
  {
   "cell_type": "code",
   "execution_count": 9,
   "metadata": {},
   "outputs": [
    {
     "data": {
      "text/plain": [
       "[<matplotlib.lines.Line2D at 0x7f4e74773a30>]"
      ]
     },
     "execution_count": 9,
     "metadata": {},
     "output_type": "execute_result"
    },
    {
     "data": {
      "image/png": "[encoded data removed]",
      "text/plain": [
       "<Figure size 1080x360 with 1 Axes>"
      ]
     },
     "metadata": {
      "needs_background": "light"
     },
     "output_type": "display_data"
    }
   ],
   "source": [
    "plt.figure(figsize = (15,5))\n",
    "#plt.plot(V_test.cpu().detach().numpy()[16000:26000])\n",
    "plt.plot(test_V_pred.flatten().cpu().detach().numpy()[16000:26000])"
   ]
  },
  {
   "cell_type": "code",
   "execution_count": 13,
   "metadata": {},
   "outputs": [],
   "source": [
    "Z_out = np.zeros((25000,4))\n",
    "\n",
    "for t in range(25000):\n",
    "    for n in range(4):\n",
    "        Z_out[t,n] = torch.argmax(test_Z_out[t,n])"
   ]
  },
  {
   "cell_type": "code",
   "execution_count": 14,
   "metadata": {},
   "outputs": [
    {
     "data": {
      "image/png": "[encoded data removed]",
      "text/plain": [
       "<Figure size 1080x360 with 1 Axes>"
      ]
     },
     "metadata": {
      "needs_background": "light"
     },
     "output_type": "display_data"
    }
   ],
   "source": [
    "plt.figure(figsize = (15,5))\n",
    "\n",
    "for n in range(4):\n",
    "    plt.plot(Z_out[:,n])"
   ]
  },
  {
   "cell_type": "code",
   "execution_count": 25,
   "metadata": {},
   "outputs": [
    {
     "data": {
      "text/plain": [
       "<matplotlib.colorbar.Colorbar at 0x7f69280716d0>"
      ]
     },
     "execution_count": 25,
     "metadata": {},
     "output_type": "execute_result"
    },
    {
     "data": {
      "image/png": "[encoded data removed]",
      "text/plain": [
       "<Figure size 1080x360 with 2 Axes>"
      ]
     },
     "metadata": {
      "needs_background": "light"
     },
     "output_type": "display_data"
    }
   ],
   "source": [
    "print()"
   ]
  },
  {
   "cell_type": "code",
   "execution_count": null,
   "metadata": {},
   "outputs": [],
   "source": []
  }
 ],
 "metadata": {
  "kernelspec": {
   "display_name": "Python 3",
   "language": "python",
   "name": "python3"
  },
  "language_info": {
   "codemirror_mode": {
    "name": "ipython",
    "version": 3
   },
   "file_extension": ".py",
   "mimetype": "text/x-python",
   "name": "python",
   "nbconvert_exporter": "python",
   "pygments_lexer": "ipython3",
   "version": "3.8.5"
  }
 },
 "nbformat": 4,
 "nbformat_minor": 4
}
