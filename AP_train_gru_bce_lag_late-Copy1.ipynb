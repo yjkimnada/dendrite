{
 "cells": [
  {
   "cell_type": "code",
   "execution_count": 1,
   "id": "e7faa469",
   "metadata": {},
   "outputs": [],
   "source": [
    "import numpy as np\n",
    "import torch \n",
    "import torch.nn as nn\n",
    "from tqdm import tnrange\n",
    "import torch.optim as optim\n",
    "import torch.nn.functional as F\n",
    "from sklearn import metrics\n",
    "import matplotlib.pyplot as plt\n",
    "import time\n",
    "from sklearn.metrics import explained_variance_score"
   ]
  },
  {
   "cell_type": "code",
   "execution_count": 2,
   "id": "8753064b",
   "metadata": {},
   "outputs": [],
   "source": [
    "class AP_GRU_Lag_Late(nn.Module):\n",
    "    def __init__(self, H_no, lag, device):\n",
    "        super().__init__()\n",
    "        \n",
    "        self.H_no = H_no\n",
    "        self.device = device\n",
    "        \n",
    "        self.rnn = nn.GRU(2*(lag+1), H_no, batch_first=True)\n",
    "        self.linear = nn.Linear(H_no, 1)\n",
    "        \n",
    "    def forward(self, V):\n",
    "        #V is shape (batch, 50000, 2*(lag+1))\n",
    "\n",
    "        rnn_out, _ = self.rnn(V) #(batch,50000,H)\n",
    "        rnn_out = rnn_out.reshape(-1,self.H_no)\n",
    "        lin_out = self.linear(rnn_out) #(batch*50000,1)\n",
    "        final = torch.sigmoid(lin_out.reshape(V.shape[0], V.shape[1]))\n",
    "        \n",
    "        return final\n",
    "\n"
   ]
  },
  {
   "cell_type": "code",
   "execution_count": 3,
   "id": "6e8d732d",
   "metadata": {},
   "outputs": [],
   "source": [
    "batch_size = 20\n",
    "batch_length = int(50000 / 5 / 5)\n",
    "H_no = 40\n",
    "device = torch.device(\"cuda\")\n",
    "lag = 20\n",
    "\n",
    "epoch_no = 400\n",
    "iter_no = epoch_no * 980 // batch_size\n",
    "\n",
    "#V = np.load(\"/media/hdd01/sklee/CA1_clust4-60_AP/data/vdata_T10_Ne2000_gA0.6_tauA1_gN0.8_Ni200_gG0.1_gB0.1_noDendNa_Er0.5_Ir7.4_random_NR_rep1000_stimseed1.npy\").reshape(-1,50001)[:,:50000]\n",
    "#V = np.load(\"/media/hdd01/sklee/CA1_clust4-60_AP/comb_pred/V_comb_pred_2ms.npy\").reshape(-1,batch_length)\n",
    "V1 = np.load(\"/media/hdd01/sklee/CA1_clust4-60_aSoma/diff_pred/V_diff_pred_5ms.npy\").reshape(-1,batch_length)\n",
    "V2 = np.load(\"/media/hdd01/sklee/CA1_clust4-60_aSoma/nona_pred/V_nona_pred_5ms.npy\").reshape(-1,batch_length)\n",
    "S = np.load(\"/media/hdd01/sklee/CA1_clust4-60_aSoma/data/spike_train_5ms.npy\").reshape(-1,batch_length)\n",
    "\n",
    "V1-= np.mean(V1)\n",
    "V2-= np.mean(V2)\n",
    "\n",
    "V1 = torch.from_numpy(V1)\n",
    "V2 = torch.from_numpy(V2)\n",
    "S = torch.from_numpy(S)\n",
    "\n",
    "V1_lag = np.zeros((V1.shape[0], V1.shape[1], lag)) #(lag,1000,50000)\n",
    "V2_lag = np.zeros((V2.shape[0], V2.shape[1], lag)) #(lag,1000,50000)\n",
    "\n",
    "for i in range(lag):\n",
    "    V1_lag[:,i+1:,i] = V1[:,:-i-1]\n",
    "    V2_lag[:,i+1:,i] = V2[:,:-i-1]\n",
    "\n",
    "V1_lag = torch.from_numpy(V1_lag)\n",
    "V2_lag = torch.from_numpy(V2_lag)"
   ]
  },
  {
   "cell_type": "code",
   "execution_count": 4,
   "id": "bfda0478",
   "metadata": {},
   "outputs": [
    {
     "name": "stdout",
     "output_type": "stream",
     "text": [
      "torch.Size([19600, 20])\n"
     ]
    }
   ],
   "source": [
    "V1_train = V1[:980].float()\n",
    "V1_test = V1[980:].float().to(device)\n",
    "V2_train = V2[:980].float()\n",
    "V2_test = V2[980:].float().to(device)\n",
    "S_train = S[:980].float()\n",
    "S_test = S[980:].float().to(device)\n",
    "V1_lag_train = V1_lag[:980].float()\n",
    "V1_lag_test = V1_lag[980:].float().to(device)\n",
    "V2_lag_train = V2_lag[:980].float()\n",
    "V2_lag_test = V2_lag[980:].float().to(device)\n",
    "\n",
    "train_idx = np.empty((epoch_no, 980))\n",
    "for i in range(epoch_no):\n",
    "    part_idx = np.arange(0,980,1)\n",
    "    np.random.shuffle(part_idx)\n",
    "    train_idx[i] = part_idx\n",
    "train_idx = train_idx.reshape(-1, batch_size)\n",
    "train_idx = torch.from_numpy(train_idx).long()\n",
    "print(train_idx.shape)"
   ]
  },
  {
   "cell_type": "code",
   "execution_count": 5,
   "id": "784b45c2",
   "metadata": {},
   "outputs": [
    {
     "name": "stdout",
     "output_type": "stream",
     "text": [
      "10121\n"
     ]
    }
   ],
   "source": [
    "model = AP_GRU_Lag_Late(H_no, lag, device)\n",
    "optimizer = torch.optim.Adam(model.parameters(), lr = 0.0025)\n",
    "\n",
    "model.to(device).float()\n",
    "print(sum(p.numel() for p in model.parameters() if p.requires_grad))\n",
    "\n",
    "bce_criterion = nn.BCELoss(reduction=\"mean\")"
   ]
  },
  {
   "cell_type": "code",
   "execution_count": 6,
   "id": "84e29a0c",
   "metadata": {
    "scrolled": false
   },
   "outputs": [
    {
     "name": "stderr",
     "output_type": "stream",
     "text": [
      "<ipython-input-6-c2f8f0f7a10e>:4: TqdmDeprecationWarning: Please use `tqdm.notebook.trange` instead of `tqdm.tnrange`\n",
      "  for i in tnrange(10000):\n"
     ]
    },
    {
     "data": {
      "application/vnd.jupyter.widget-view+json": {
       "model_id": "e237ffdf4ffb411bb54e9efd759f9e63",
       "version_major": 2,
       "version_minor": 0
      },
      "text/plain": [
       "  0%|          | 0/10000 [00:00<?, ?it/s]"
      ]
     },
     "metadata": {},
     "output_type": "display_data"
    },
    {
     "name": "stdout",
     "output_type": "stream",
     "text": [
      "0 0.683125913143158\n",
      "49 0.02224751003086567\n",
      "99 0.01623988151550293\n",
      "149 0.0142059326171875\n",
      "199 0.013134087435901165\n",
      "249 0.012417666614055634\n",
      "299 0.011855524964630604\n",
      "349 0.011466301046311855\n",
      "399 0.011189461685717106\n",
      "449 0.010998214595019817\n",
      "499 0.010889324359595776\n",
      "549 0.010621276684105396\n",
      "599 0.010462190955877304\n",
      "649 0.01028301939368248\n",
      "699 0.010083111934363842\n",
      "749 0.009784772992134094\n",
      "799 0.009680972434580326\n",
      "849 0.009134508669376373\n",
      "899 0.008840064518153667\n",
      "949 0.00919482670724392\n",
      "999 0.00828319787979126\n",
      "1049 0.008642556145787239\n",
      "1099 0.00804205797612667\n",
      "1149 0.007843528874218464\n",
      "1199 0.007599628064781427\n",
      "1249 0.007625221740454435\n",
      "1299 0.007523290812969208\n",
      "1349 0.007544388994574547\n",
      "1399 0.007227117661386728\n",
      "1449 0.007474550977349281\n",
      "1499 0.007585953921079636\n",
      "1549 0.007590476889163256\n",
      "1599 0.007083201315253973\n",
      "1649 0.006961422506719828\n",
      "1699 0.007680217735469341\n",
      "1749 0.006973929237574339\n",
      "1799 0.0067888288758695126\n",
      "1849 0.006943549960851669\n",
      "1899 0.006815661676228046\n",
      "1949 0.006650572642683983\n",
      "1999 0.007255991920828819\n",
      "2049 0.006460990756750107\n",
      "2099 0.007236648350954056\n",
      "2149 0.006532757543027401\n",
      "2199 0.006673656404018402\n",
      "2249 0.006464669480919838\n",
      "2299 0.006710411049425602\n",
      "2349 0.006494192406535149\n",
      "2399 0.006859379354864359\n",
      "2449 0.006527438294142485\n",
      "2499 0.006587154231965542\n",
      "2549 0.006293113809078932\n",
      "2599 0.0064432043582201\n",
      "2649 0.006243822164833546\n",
      "2699 0.006432556081563234\n",
      "2749 0.006340479012578726\n",
      "2799 0.00650844257324934\n",
      "2849 0.006856509018689394\n",
      "2899 0.006409574765712023\n",
      "2949 0.006174467969685793\n",
      "2999 0.0063121747225522995\n",
      "3049 0.006176790688186884\n",
      "3099 0.006290595978498459\n",
      "3149 0.006259156856685877\n",
      "3199 0.0062728021293878555\n",
      "3249 0.006514507811516523\n",
      "3299 0.006305287592113018\n",
      "3349 0.006452954839915037\n",
      "3399 0.0068565672263503075\n",
      "3449 0.006251281592994928\n",
      "3499 0.006186988204717636\n",
      "3549 0.006029438693076372\n",
      "3599 0.007001769263297319\n",
      "3649 0.006187227088958025\n",
      "3699 0.006070288829505444\n",
      "3749 0.0063460590317845345\n",
      "3799 0.006046220660209656\n",
      "3849 0.006429126486182213\n",
      "3899 0.006122879683971405\n",
      "3949 0.006223265081644058\n",
      "3999 0.006086272187530994\n",
      "4049 0.006146260071545839\n",
      "4099 0.006250267848372459\n",
      "4149 0.006279919762164354\n",
      "4199 0.006050463300198317\n",
      "4249 0.006134008523076773\n",
      "4299 0.006005688104778528\n",
      "4349 0.0062016951851546764\n",
      "4399 0.006480203941464424\n",
      "4449 0.005942794494330883\n",
      "4499 0.00618137139827013\n",
      "4549 0.006057847291231155\n",
      "4599 0.006418818607926369\n",
      "4649 0.006027236580848694\n",
      "4699 0.006086341571062803\n",
      "4749 0.006189866457134485\n",
      "4799 0.0062010632827878\n",
      "4849 0.005965155549347401\n",
      "4899 0.006202346179634333\n",
      "4949 0.006177879404276609\n",
      "4999 0.005913414526730776\n",
      "5049 0.006201624870300293\n",
      "5099 0.0062867566011846066\n",
      "5149 0.006156606134027243\n",
      "5199 0.00614235969260335\n",
      "5249 0.0059842620976269245\n",
      "5299 0.006006451323628426\n",
      "5349 0.005960824433714151\n",
      "5399 0.0059829214587807655\n",
      "5449 0.006948601454496384\n",
      "5499 0.006049221847206354\n",
      "5549 0.005977310240268707\n",
      "5599 0.006061906460672617\n",
      "5649 0.007062380667775869\n",
      "5699 0.0059361206367611885\n",
      "5749 0.006091677118092775\n",
      "5799 0.006244921591132879\n",
      "5849 0.0058897994458675385\n",
      "5899 0.006374671123921871\n",
      "5949 0.005943018011748791\n",
      "5999 0.006106589920818806\n",
      "6049 0.006263560615479946\n",
      "6099 0.005847488064318895\n",
      "6149 0.0059615131467580795\n",
      "6199 0.006236837711185217\n",
      "6249 0.006063211243599653\n",
      "6299 0.006118243560194969\n",
      "6349 0.006154448259621859\n",
      "6399 0.006464629899710417\n",
      "6449 0.006172780878841877\n",
      "6499 0.006130470894277096\n",
      "6549 0.005948007106781006\n",
      "6599 0.005799226462841034\n",
      "6649 0.006279384717345238\n",
      "6699 0.005911173764616251\n",
      "6749 0.005985084921121597\n",
      "6799 0.006202301476150751\n",
      "6849 0.005918672773987055\n",
      "6899 0.006074676755815744\n",
      "6949 0.006016050931066275\n",
      "6999 0.005935668013989925\n",
      "7049 0.005874061491340399\n",
      "7099 0.0061816805973649025\n",
      "7149 0.005896380636841059\n",
      "7199 0.005890396423637867\n",
      "7249 0.0057203457690775394\n",
      "7299 0.006037720013409853\n",
      "7349 0.005979858338832855\n",
      "7399 0.005913883447647095\n",
      "7449 0.00605172012001276\n",
      "7499 0.005904638208448887\n",
      "7549 0.006164911203086376\n",
      "7599 0.005811460316181183\n",
      "7649 0.006185672711580992\n",
      "7699 0.006049192510545254\n",
      "7749 0.006084101740270853\n",
      "7799 0.006533343344926834\n",
      "7849 0.006416235119104385\n",
      "7899 0.0058304970152676105\n",
      "7949 0.005970069672912359\n",
      "7999 0.00593719445168972\n",
      "8049 0.005935961846262217\n",
      "8099 0.006676644552499056\n",
      "8149 0.0060145971365273\n",
      "8199 0.006110487040132284\n",
      "8249 0.00633425684645772\n",
      "8299 0.0061616068705916405\n",
      "8349 0.006023941561579704\n",
      "8399 0.005834784358739853\n",
      "8449 0.006138951517641544\n",
      "8499 0.0060294074937701225\n",
      "8549 0.005757051520049572\n",
      "8599 0.005985725205391645\n",
      "8649 0.0060255201533436775\n",
      "8699 0.005968753714114428\n",
      "8749 0.006102380342781544\n",
      "8799 0.005719127599149942\n",
      "8849 0.005862484686076641\n",
      "8899 0.006327089387923479\n",
      "8949 0.005853429436683655\n",
      "8999 0.006046487484127283\n",
      "9049 0.005858210846781731\n",
      "9099 0.006243749056011438\n",
      "9149 0.006124050822108984\n",
      "9199 0.005834344774484634\n",
      "9249 0.006440074183046818\n",
      "9299 0.00626398203894496\n",
      "9349 0.006227044854313135\n",
      "9399 0.006373363547027111\n",
      "9449 0.006009309086948633\n",
      "9499 0.0060711693949997425\n",
      "9549 0.006156338378787041\n",
      "9599 0.006287476047873497\n",
      "9649 0.006133873015642166\n",
      "9699 0.00612729461863637\n",
      "9749 0.006576891988515854\n",
      "9799 0.005932149942964315\n",
      "9849 0.006221853196620941\n",
      "9899 0.006300339009612799\n",
      "9949 0.006034437101334333\n",
      "9999 0.006184917874634266\n"
     ]
    }
   ],
   "source": [
    "score_list = []\n",
    "\n",
    "#for i in tnrange(iter_no):\n",
    "for i in tnrange(10000):    \n",
    "    s = time.time()\n",
    "    model.train()\n",
    "    optimizer.zero_grad()\n",
    "    \n",
    "    batch_idx = train_idx[i]\n",
    "    batch_S = S_train[batch_idx].to(device)\n",
    "    batch_V1 = V1_train[batch_idx].to(device)\n",
    "    batch_V1_lag = V1_lag_train[batch_idx].to(device)\n",
    "    batch_V2 = V2_train[batch_idx].to(device)\n",
    "    batch_V2_lag = V2_lag_train[batch_idx].to(device)\n",
    "    \n",
    "    batch_V_in = torch.zeros(batch_size, batch_length, 2*(lag+1)).to(device)\n",
    "    batch_V_in[:,:,0] = batch_V1\n",
    "    batch_V_in[:,:,1:lag+1] = batch_V1_lag\n",
    "    batch_V_in[:,:,lag+1] = batch_V2\n",
    "    batch_V_in[:,:,lag+2:2*lag+2] = batch_V2_lag\n",
    "    \n",
    "    S_out = model(batch_V_in)\n",
    "    loss = bce_criterion(S_out, batch_S)\n",
    "    \n",
    "    loss.backward()\n",
    "    nn.utils.clip_grad_norm_(model.parameters(), 10)\n",
    "    optimizer.step()\n",
    "    \n",
    "    step_time = time.time() - s\n",
    "    \n",
    "    if (i%50 == 49) or (i == 0):\n",
    "        model.eval()\n",
    "        V_test_in = torch.zeros(batch_size, batch_length, 2*(lag+1)).to(device)\n",
    "        V_test_in[:,:,0] = V1_test\n",
    "        V_test_in[:,:,1:lag+1] = V1_lag_test\n",
    "        V_test_in[:,:,lag+1] = V2_test\n",
    "        V_test_in[:,:,lag+2:2*lag+2] = V2_lag_test\n",
    "        \n",
    "        test_S_out = model(V_test_in)\n",
    "        test_loss = bce_criterion(test_S_out, S_test).item()\n",
    "        \n",
    "        score_list.append(test_loss)\n",
    "        print(i, test_loss)"
   ]
  },
  {
   "cell_type": "code",
   "execution_count": null,
   "id": "f591ea9b",
   "metadata": {},
   "outputs": [],
   "source": []
  },
  {
   "cell_type": "code",
   "execution_count": 7,
   "id": "e006b31b",
   "metadata": {},
   "outputs": [
    {
     "data": {
      "text/plain": [
       "[<matplotlib.lines.Line2D at 0x7fecec126190>]"
      ]
     },
     "execution_count": 7,
     "metadata": {},
     "output_type": "execute_result"
    },
    {
     "data": {
      "image/png": "[encoded data removed]",
      "text/plain": [
       "<Figure size 432x288 with 1 Axes>"
      ]
     },
     "metadata": {
      "needs_background": "light"
     },
     "output_type": "display_data"
    }
   ],
   "source": [
    "plt.plot(np.asarray(score_list)[20:])"
   ]
  },
  {
   "cell_type": "code",
   "execution_count": 8,
   "id": "ad66af8b",
   "metadata": {},
   "outputs": [
    {
     "name": "stdout",
     "output_type": "stream",
     "text": [
      "tensor(0.9739, device='cuda:0', grad_fn=<MaxBackward1>)\n"
     ]
    },
    {
     "data": {
      "image/png": "[encoded data removed]",
      "text/plain": [
       "<Figure size 1080x360 with 1 Axes>"
      ]
     },
     "metadata": {
      "needs_background": "light"
     },
     "output_type": "display_data"
    }
   ],
   "source": [
    "plt.figure(figsize = (15,5))\n",
    "plt.plot(S_test[0].cpu().detach().numpy())\n",
    "plt.plot(test_S_out[1].cpu().detach().numpy())\n",
    "#plt.xlim(4500,5200)\n",
    "#plt.ylim(-1,10)\n",
    "print(torch.max(test_S_out))"
   ]
  },
  {
   "cell_type": "code",
   "execution_count": 9,
   "id": "780f8cd8",
   "metadata": {},
   "outputs": [],
   "source": [
    "#torch.save(model.state_dict(), \"/media/hdd01/sklee/CA1_clust4-60_aSoma/comb_pred_late/gru_l20_h40_5ms.pt\")\n",
    "#np.save(\"/media/hdd01/sklee/CA1_clust4-60_aSoma/comb_pred_late/gru_l20_h40_5ms_test.npy\", test_S_out.cpu().detach().numpy())"
   ]
  },
  {
   "cell_type": "code",
   "execution_count": null,
   "id": "220095ad",
   "metadata": {},
   "outputs": [],
   "source": []
  }
 ],
 "metadata": {
  "kernelspec": {
   "display_name": "Python 3",
   "language": "python",
   "name": "python3"
  },
  "language_info": {
   "codemirror_mode": {
    "name": "ipython",
    "version": 3
   },
   "file_extension": ".py",
   "mimetype": "text/x-python",
   "name": "python",
   "nbconvert_exporter": "python",
   "pygments_lexer": "ipython3",
   "version": "3.8.8"
  }
 },
 "nbformat": 4,
 "nbformat_minor": 5
}
