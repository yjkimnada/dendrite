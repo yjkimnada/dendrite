{
 "cells": [
  {
   "cell_type": "code",
   "execution_count": 1,
   "id": "e7faa469",
   "metadata": {},
   "outputs": [],
   "source": [
    "import numpy as np\n",
    "import torch \n",
    "import torch.nn as nn\n",
    "from tqdm import tnrange\n",
    "import torch.optim as optim\n",
    "import torch.nn.functional as F\n",
    "from sklearn import metrics\n",
    "import matplotlib.pyplot as plt\n",
    "import time\n",
    "from sklearn.metrics import explained_variance_score"
   ]
  },
  {
   "cell_type": "code",
   "execution_count": 2,
   "id": "8753064b",
   "metadata": {},
   "outputs": [],
   "source": [
    "class AP_GRU_Lag_Late(nn.Module):\n",
    "    def __init__(self, H_no, lag, device):\n",
    "        super().__init__()\n",
    "        \n",
    "        self.H_no = H_no\n",
    "        self.device = device\n",
    "        \n",
    "        self.rnn = nn.GRU(2*(lag+1), H_no, batch_first=True)\n",
    "        self.linear = nn.Linear(H_no, 1)\n",
    "        \n",
    "    def forward(self, V):\n",
    "        #V is shape (batch, 50000, 2*(lag+1))\n",
    "\n",
    "        rnn_out, _ = self.rnn(V) #(batch,50000,H)\n",
    "        rnn_out = rnn_out.reshape(-1,self.H_no)\n",
    "        lin_out = self.linear(rnn_out) #(batch*50000,1)\n",
    "        final = torch.sigmoid(lin_out.reshape(V.shape[0], V.shape[1]))\n",
    "        \n",
    "        return final\n",
    "\n"
   ]
  },
  {
   "cell_type": "code",
   "execution_count": 3,
   "id": "6e8d732d",
   "metadata": {},
   "outputs": [],
   "source": [
    "batch_size = 20\n",
    "batch_length = int(50000 / 5 / 10)\n",
    "H_no = 40\n",
    "device = torch.device(\"cuda\")\n",
    "lag = 20\n",
    "\n",
    "epoch_no = 400\n",
    "iter_no = epoch_no * 980 // batch_size\n",
    "\n",
    "#V = np.load(\"/media/hdd01/sklee/CA1_clust4-60_AP/data/vdata_T10_Ne2000_gA0.6_tauA1_gN0.8_Ni200_gG0.1_gB0.1_noDendNa_Er0.5_Ir7.4_random_NR_rep1000_stimseed1.npy\").reshape(-1,50001)[:,:50000]\n",
    "#V = np.load(\"/media/hdd01/sklee/CA1_clust4-60_AP/comb_pred/V_comb_pred_2ms.npy\").reshape(-1,batch_length)\n",
    "V1 = np.load(\"/media/hdd01/sklee/CA1_clust4-60_aSoma/diff_pred/V_diff_pred_10ms.npy\").reshape(-1,batch_length)\n",
    "V2 = np.load(\"/media/hdd01/sklee/CA1_clust4-60_aSoma/nona_pred/V_nona_pred_10ms.npy\").reshape(-1,batch_length)\n",
    "S = np.load(\"/media/hdd01/sklee/CA1_clust4-60_aSoma/data/spike_train_10ms.npy\").reshape(-1,batch_length)\n",
    "\n",
    "V1-= np.mean(V1)\n",
    "V2-= np.mean(V2)\n",
    "\n",
    "V1 = torch.from_numpy(V1)\n",
    "V2 = torch.from_numpy(V2)\n",
    "S = torch.from_numpy(S)\n",
    "\n",
    "V1_lag = np.zeros((V1.shape[0], V1.shape[1], lag)) #(lag,1000,50000)\n",
    "V2_lag = np.zeros((V2.shape[0], V2.shape[1], lag)) #(lag,1000,50000)\n",
    "\n",
    "for i in range(lag):\n",
    "    V1_lag[:,i+1:,i] = V1[:,:-i-1]\n",
    "    V2_lag[:,i+1:,i] = V2[:,:-i-1]\n",
    "\n",
    "V1_lag = torch.from_numpy(V1_lag)\n",
    "V2_lag = torch.from_numpy(V2_lag)"
   ]
  },
  {
   "cell_type": "code",
   "execution_count": 4,
   "id": "bfda0478",
   "metadata": {},
   "outputs": [
    {
     "name": "stdout",
     "output_type": "stream",
     "text": [
      "torch.Size([19600, 20])\n"
     ]
    }
   ],
   "source": [
    "V1_train = V1[:980].float()\n",
    "V1_test = V1[980:].float().to(device)\n",
    "V2_train = V2[:980].float()\n",
    "V2_test = V2[980:].float().to(device)\n",
    "S_train = S[:980].float()\n",
    "S_test = S[980:].float().to(device)\n",
    "V1_lag_train = V1_lag[:980].float()\n",
    "V1_lag_test = V1_lag[980:].float().to(device)\n",
    "V2_lag_train = V2_lag[:980].float()\n",
    "V2_lag_test = V2_lag[980:].float().to(device)\n",
    "\n",
    "train_idx = np.empty((epoch_no, 980))\n",
    "for i in range(epoch_no):\n",
    "    part_idx = np.arange(0,980,1)\n",
    "    np.random.shuffle(part_idx)\n",
    "    train_idx[i] = part_idx\n",
    "train_idx = train_idx.reshape(-1, batch_size)\n",
    "train_idx = torch.from_numpy(train_idx).long()\n",
    "print(train_idx.shape)"
   ]
  },
  {
   "cell_type": "code",
   "execution_count": 5,
   "id": "784b45c2",
   "metadata": {},
   "outputs": [
    {
     "name": "stdout",
     "output_type": "stream",
     "text": [
      "10121\n"
     ]
    }
   ],
   "source": [
    "model = AP_GRU_Lag_Late(H_no, lag, device)\n",
    "optimizer = torch.optim.Adam(model.parameters(), lr = 0.0025)\n",
    "\n",
    "model.to(device).float()\n",
    "print(sum(p.numel() for p in model.parameters() if p.requires_grad))\n",
    "\n",
    "bce_criterion = nn.BCELoss(reduction=\"mean\")"
   ]
  },
  {
   "cell_type": "code",
   "execution_count": 6,
   "id": "84e29a0c",
   "metadata": {
    "scrolled": false
   },
   "outputs": [
    {
     "name": "stderr",
     "output_type": "stream",
     "text": [
      "<ipython-input-6-c2f8f0f7a10e>:4: TqdmDeprecationWarning: Please use `tqdm.notebook.trange` instead of `tqdm.tnrange`\n",
      "  for i in tnrange(10000):\n"
     ]
    },
    {
     "data": {
      "application/vnd.jupyter.widget-view+json": {
       "model_id": "bd0b9f004d5045bfabbefae5289de71c",
       "version_major": 2,
       "version_minor": 0
      },
      "text/plain": [
       "  0%|          | 0/10000 [00:00<?, ?it/s]"
      ]
     },
     "metadata": {},
     "output_type": "display_data"
    },
    {
     "name": "stdout",
     "output_type": "stream",
     "text": [
      "0 0.7016080617904663\n",
      "49 0.03280683606863022\n",
      "99 0.023518478497862816\n",
      "149 0.01999819464981556\n",
      "199 0.018141325563192368\n",
      "249 0.016950158402323723\n",
      "299 0.01616145856678486\n",
      "349 0.015510580502450466\n",
      "399 0.015084363520145416\n",
      "449 0.014592739753425121\n",
      "499 0.014185207895934582\n",
      "549 0.014046575874090195\n",
      "599 0.0134052075445652\n",
      "649 0.013023157604038715\n",
      "699 0.012226780876517296\n",
      "749 0.011472507379949093\n",
      "799 0.010831550695002079\n",
      "849 0.0102890245616436\n",
      "899 0.010327238589525223\n",
      "949 0.01033106166869402\n",
      "999 0.010008973069489002\n",
      "1049 0.009600233286619186\n",
      "1099 0.009288206696510315\n",
      "1149 0.00982997752726078\n",
      "1199 0.00957363098859787\n",
      "1249 0.008994569070637226\n",
      "1299 0.0090112229809165\n",
      "1349 0.009307075291872025\n",
      "1399 0.008959564380347729\n",
      "1449 0.009379942901432514\n",
      "1499 0.008363102562725544\n",
      "1549 0.009535327553749084\n",
      "1599 0.008993091993033886\n",
      "1649 0.008754952810704708\n",
      "1699 0.00860145315527916\n",
      "1749 0.01014224998652935\n",
      "1799 0.008142933249473572\n",
      "1849 0.008797317743301392\n",
      "1899 0.009679907001554966\n",
      "1949 0.008651764132082462\n",
      "1999 0.008654494769871235\n",
      "2049 0.00834742747247219\n",
      "2099 0.008345408365130424\n",
      "2149 0.00869045127183199\n",
      "2199 0.008666176348924637\n",
      "2249 0.008427758701145649\n",
      "2299 0.008424650877714157\n",
      "2349 0.008560135960578918\n",
      "2399 0.00875696912407875\n",
      "2449 0.008500369265675545\n",
      "2499 0.00866690557450056\n",
      "2549 0.00833317544311285\n",
      "2599 0.00881452951580286\n",
      "2649 0.007994408719241619\n",
      "2699 0.008810157887637615\n",
      "2749 0.008481450378894806\n",
      "2799 0.008562189526855946\n",
      "2849 0.007902379147708416\n",
      "2899 0.008161334320902824\n",
      "2949 0.00791172031313181\n",
      "2999 0.008184283040463924\n",
      "3049 0.0078496765345335\n",
      "3099 0.008188420906662941\n",
      "3149 0.008309601806104183\n",
      "3199 0.007457471452653408\n",
      "3249 0.00805484876036644\n",
      "3299 0.008316145278513432\n",
      "3349 0.00838285218924284\n",
      "3399 0.007822985760867596\n",
      "3449 0.008696788921952248\n",
      "3499 0.007920661941170692\n",
      "3549 0.008649265393614769\n",
      "3599 0.008091720752418041\n",
      "3649 0.007767192553728819\n",
      "3699 0.007931284606456757\n",
      "3749 0.007814914919435978\n",
      "3799 0.0085030198097229\n",
      "3849 0.007994001731276512\n",
      "3899 0.008953602984547615\n",
      "3949 0.00820720661431551\n",
      "3999 0.00872527714818716\n",
      "4049 0.008444048464298248\n",
      "4099 0.008091195486485958\n",
      "4149 0.00838268268853426\n",
      "4199 0.007954077795147896\n",
      "4249 0.008170153945684433\n",
      "4299 0.007862681522965431\n",
      "4349 0.008082333020865917\n",
      "4399 0.008324800990521908\n",
      "4449 0.00784358847886324\n",
      "4499 0.008857836946845055\n",
      "4549 0.007954551838338375\n",
      "4599 0.007834983989596367\n",
      "4649 0.007802510634064674\n",
      "4699 0.007522037252783775\n",
      "4749 0.008429232984781265\n",
      "4799 0.008066819980740547\n",
      "4849 0.008092611096799374\n",
      "4899 0.008321424946188927\n",
      "4949 0.008207191713154316\n",
      "4999 0.00824284739792347\n",
      "5049 0.009314634837210178\n",
      "5099 0.009180638007819653\n",
      "5149 0.007821599021553993\n",
      "5199 0.00789675023406744\n",
      "5249 0.007400651462376118\n",
      "5299 0.00949404202401638\n",
      "5349 0.008161609061062336\n",
      "5399 0.007597758900374174\n",
      "5449 0.007511516567319632\n",
      "5499 0.007780644576996565\n",
      "5549 0.0077852727845311165\n",
      "5599 0.007888177409768105\n",
      "5649 0.0072874450124800205\n",
      "5699 0.007875320501625538\n",
      "5749 0.008226130157709122\n",
      "5799 0.007677637971937656\n",
      "5849 0.007862251251935959\n",
      "5899 0.0079448651522398\n",
      "5949 0.008421375416219234\n",
      "5999 0.007171094883233309\n",
      "6049 0.007560181897133589\n",
      "6099 0.00758694764226675\n",
      "6149 0.008583496324717999\n",
      "6199 0.007748855277895927\n",
      "6249 0.007824731990695\n",
      "6299 0.009004847146570683\n",
      "6349 0.0075339581817388535\n",
      "6399 0.009627015329897404\n",
      "6449 0.007407252211123705\n",
      "6499 0.007797754369676113\n",
      "6549 0.007999556139111519\n",
      "6599 0.007781898137181997\n",
      "6649 0.007469966076314449\n",
      "6699 0.008909263648092747\n",
      "6749 0.007562684360891581\n",
      "6799 0.008001640439033508\n",
      "6849 0.010092515498399734\n",
      "6899 0.007907671853899956\n",
      "6949 0.007313930429518223\n",
      "6999 0.007353266701102257\n",
      "7049 0.007458154112100601\n",
      "7099 0.007874961942434311\n",
      "7149 0.008641984313726425\n",
      "7199 0.007458257023245096\n",
      "7249 0.007828650996088982\n",
      "7299 0.007603020407259464\n",
      "7349 0.007853061892092228\n",
      "7399 0.007369427476078272\n",
      "7449 0.008067707531154156\n",
      "7499 0.008766659535467625\n",
      "7549 0.00762510672211647\n",
      "7599 0.007458763662725687\n",
      "7649 0.007376943249255419\n",
      "7699 0.00772286718711257\n",
      "7749 0.007798077072948217\n",
      "7799 0.007481655105948448\n",
      "7849 0.00731686083599925\n",
      "7899 0.0076996139250695705\n",
      "7949 0.00762593001127243\n",
      "7999 0.00817650556564331\n",
      "8049 0.008074640296399593\n",
      "8099 0.007491945289075375\n",
      "8149 0.00738191744312644\n",
      "8199 0.0072319526225328445\n",
      "8249 0.007831452414393425\n",
      "8299 0.007647012826055288\n",
      "8349 0.007276663091033697\n",
      "8399 0.007697026710957289\n",
      "8449 0.008246924728155136\n",
      "8499 0.008106384426355362\n",
      "8549 0.007433445658534765\n",
      "8599 0.007325056474655867\n",
      "8649 0.007687138393521309\n",
      "8699 0.007378391921520233\n",
      "8749 0.008102710358798504\n",
      "8799 0.008374745026230812\n",
      "8849 0.008001893758773804\n",
      "8899 0.007527606561779976\n",
      "8949 0.008162562735378742\n",
      "8999 0.007777285762131214\n",
      "9049 0.00816426146775484\n",
      "9099 0.008031072095036507\n",
      "9149 0.00816376507282257\n",
      "9199 0.0075555662624537945\n",
      "9249 0.00811206828802824\n",
      "9299 0.007964633405208588\n",
      "9349 0.007870853878557682\n",
      "9399 0.008127111941576004\n",
      "9449 0.008322274312376976\n",
      "9499 0.007710011675953865\n",
      "9549 0.008378330618143082\n",
      "9599 0.008525264449417591\n",
      "9649 0.008167164400219917\n",
      "9699 0.007872303947806358\n",
      "9749 0.007468617986887693\n",
      "9799 0.00804873462766409\n",
      "9849 0.007796568796038628\n",
      "9899 0.008456339128315449\n",
      "9949 0.007904032245278358\n",
      "9999 0.008280584588646889\n"
     ]
    }
   ],
   "source": [
    "score_list = []\n",
    "\n",
    "#for i in tnrange(iter_no):\n",
    "for i in tnrange(10000):    \n",
    "    s = time.time()\n",
    "    model.train()\n",
    "    optimizer.zero_grad()\n",
    "    \n",
    "    batch_idx = train_idx[i]\n",
    "    batch_S = S_train[batch_idx].to(device)\n",
    "    batch_V1 = V1_train[batch_idx].to(device)\n",
    "    batch_V1_lag = V1_lag_train[batch_idx].to(device)\n",
    "    batch_V2 = V2_train[batch_idx].to(device)\n",
    "    batch_V2_lag = V2_lag_train[batch_idx].to(device)\n",
    "    \n",
    "    batch_V_in = torch.zeros(batch_size, batch_length, 2*(lag+1)).to(device)\n",
    "    batch_V_in[:,:,0] = batch_V1\n",
    "    batch_V_in[:,:,1:lag+1] = batch_V1_lag\n",
    "    batch_V_in[:,:,lag+1] = batch_V2\n",
    "    batch_V_in[:,:,lag+2:2*lag+2] = batch_V2_lag\n",
    "    \n",
    "    S_out = model(batch_V_in)\n",
    "    loss = bce_criterion(S_out, batch_S)\n",
    "    \n",
    "    loss.backward()\n",
    "    nn.utils.clip_grad_norm_(model.parameters(), 10)\n",
    "    optimizer.step()\n",
    "    \n",
    "    step_time = time.time() - s\n",
    "    \n",
    "    if (i%50 == 49) or (i == 0):\n",
    "        model.eval()\n",
    "        V_test_in = torch.zeros(batch_size, batch_length, 2*(lag+1)).to(device)\n",
    "        V_test_in[:,:,0] = V1_test\n",
    "        V_test_in[:,:,1:lag+1] = V1_lag_test\n",
    "        V_test_in[:,:,lag+1] = V2_test\n",
    "        V_test_in[:,:,lag+2:2*lag+2] = V2_lag_test\n",
    "        \n",
    "        test_S_out = model(V_test_in)\n",
    "        test_loss = bce_criterion(test_S_out, S_test).item()\n",
    "        \n",
    "        score_list.append(test_loss)\n",
    "        print(i, test_loss)"
   ]
  },
  {
   "cell_type": "code",
   "execution_count": null,
   "id": "f591ea9b",
   "metadata": {},
   "outputs": [],
   "source": []
  },
  {
   "cell_type": "code",
   "execution_count": 7,
   "id": "e006b31b",
   "metadata": {},
   "outputs": [
    {
     "data": {
      "text/plain": [
       "[<matplotlib.lines.Line2D at 0x7fb9f97b5160>]"
      ]
     },
     "execution_count": 7,
     "metadata": {},
     "output_type": "execute_result"
    },
    {
     "data": {
      "image/png": "[encoded data removed]",
      "text/plain": [
       "<Figure size 432x288 with 1 Axes>"
      ]
     },
     "metadata": {
      "needs_background": "light"
     },
     "output_type": "display_data"
    }
   ],
   "source": [
    "plt.plot(np.asarray(score_list)[20:])"
   ]
  },
  {
   "cell_type": "code",
   "execution_count": 8,
   "id": "ad66af8b",
   "metadata": {},
   "outputs": [
    {
     "name": "stdout",
     "output_type": "stream",
     "text": [
      "tensor(0.9987, device='cuda:0', grad_fn=<MaxBackward1>)\n"
     ]
    },
    {
     "data": {
      "image/png": "[encoded data removed]",
      "text/plain": [
       "<Figure size 1080x360 with 1 Axes>"
      ]
     },
     "metadata": {
      "needs_background": "light"
     },
     "output_type": "display_data"
    }
   ],
   "source": [
    "plt.figure(figsize = (15,5))\n",
    "plt.plot(S_test[0].cpu().detach().numpy())\n",
    "plt.plot(test_S_out[1].cpu().detach().numpy())\n",
    "#plt.xlim(4500,5200)\n",
    "#plt.ylim(-1,10)\n",
    "print(torch.max(test_S_out))"
   ]
  },
  {
   "cell_type": "code",
   "execution_count": 9,
   "id": "780f8cd8",
   "metadata": {},
   "outputs": [],
   "source": [
    "#torch.save(model.state_dict(), \"/media/hdd01/sklee/CA1_clust4-60_aSoma/comb_pred_late/gru_l20_h40_10ms.pt\")\n",
    "#np.save(\"/media/hdd01/sklee/CA1_clust4-60_aSoma/comb_pred_late/gru_l20_h40_10ms_test.npy\", test_S_out.cpu().detach().numpy())"
   ]
  },
  {
   "cell_type": "code",
   "execution_count": null,
   "id": "220095ad",
   "metadata": {},
   "outputs": [],
   "source": []
  }
 ],
 "metadata": {
  "kernelspec": {
   "display_name": "Python 3",
   "language": "python",
   "name": "python3"
  },
  "language_info": {
   "codemirror_mode": {
    "name": "ipython",
    "version": 3
   },
   "file_extension": ".py",
   "mimetype": "text/x-python",
   "name": "python",
   "nbconvert_exporter": "python",
   "pygments_lexer": "ipython3",
   "version": "3.8.8"
  }
 },
 "nbformat": 4,
 "nbformat_minor": 5
}
