{
 "cells": [
  {
   "cell_type": "code",
   "execution_count": 1,
   "id": "e7faa469",
   "metadata": {},
   "outputs": [],
   "source": [
    "import numpy as np\n",
    "import torch \n",
    "import torch.nn as nn\n",
    "from tqdm import tnrange\n",
    "import torch.optim as optim\n",
    "import torch.nn.functional as F\n",
    "from sklearn import metrics\n",
    "import matplotlib.pyplot as plt\n",
    "import time\n",
    "from sklearn.metrics import explained_variance_score"
   ]
  },
  {
   "cell_type": "code",
   "execution_count": 2,
   "id": "8753064b",
   "metadata": {},
   "outputs": [],
   "source": [
    "class AP_GRU_Lag_Dual(nn.Module):\n",
    "    def __init__(self, H_no, lag, device):\n",
    "        super().__init__()\n",
    "        \n",
    "        self.H_no = H_no\n",
    "        self.device = device\n",
    "        \n",
    "        self.rnn = nn.GRU((lag+1) * 2, H_no, batch_first=True)\n",
    "        self.linear = nn.Linear(H_no, 1)\n",
    "        \n",
    "    def forward(self, V1, V2):\n",
    "        #V is shape (batch, 50000, lag+1)\n",
    "        V = torch.cat([V1, V2], -1)\n",
    "        rnn_out, _ = self.rnn(V) #(batch,50000,H)\n",
    "        rnn_out = rnn_out.reshape(-1,self.H_no)\n",
    "        lin_out = self.linear(rnn_out).reshape(V.shape[0], -1) #(batch*50000,1)\n",
    "        \n",
    "        return lin_out"
   ]
  },
  {
   "cell_type": "code",
   "execution_count": 3,
   "id": "6e8d732d",
   "metadata": {},
   "outputs": [
    {
     "name": "stdout",
     "output_type": "stream",
     "text": [
      "torch.Size([1000, 50000, 20])\n"
     ]
    }
   ],
   "source": [
    "batch_size = 20\n",
    "batch_length = int(50000 / 5 / 0.2)\n",
    "H_no = 40\n",
    "device = torch.device(\"cuda:1\")\n",
    "lag = 20\n",
    "\n",
    "epoch_no = 400\n",
    "iter_no = epoch_no * 980 // batch_size\n",
    "\n",
    "#V = np.load(\"/media/hdd01/sklee/CA1_clust4-60_AP/data/vdata_T10_Ne2000_gA0.6_tauA1_gN0.8_Ni200_gG0.1_gB0.1_Er0.5_Ir7.4_random_NR_rep1000_stimseed1.npy\").reshape(-1,50001)[:,:50000]\n",
    "#V = np.load(\"/media/hdd01/sklee/CA1_clust4-60_AP/data/V_diff_stimseed1.npy\").reshape(-1,batch_length)\n",
    "#V = np.load(\"/scratch/yjk27/CA1_clust4-60_AP/comb_pred/V_comb_pred_dend_interact_0.2ms.npy\").reshape(-1,batch_length)\n",
    "V1 = np.load(\"/scratch/yjk27/CA1_clust4-60/hand/gru_dend_s5_h20_Vall.npy\").reshape(-1,batch_length)\n",
    "V2 = np.load(\"/scratch/yjk27/CA1_clust4-60_AP/nona_pred/V_nona_pred_0.2ms.npy\").reshape(-1,batch_length)\n",
    "#V = np.load(\"/media/hdd01/sklee/CA1_clust4-60_AP/whole_pred/V_whole_pred_0.2ms.npy\").reshape(-1,batch_length)\n",
    "S = np.load(\"/scratch/yjk27/CA1_clust4-60_AP/data/V_diff_stimseed1.npy\").reshape(-1,batch_length)\n",
    "\n",
    "V1-= np.mean(V1)\n",
    "V2-= np.mean(V2)\n",
    "\n",
    "V1 = torch.from_numpy(V1)\n",
    "V2 = torch.from_numpy(V2)\n",
    "S = torch.from_numpy(S)\n",
    "\n",
    "V1_lag = np.zeros((V1.shape[0], V1.shape[1], lag)) #(lag,1000,50000)\n",
    "V2_lag = np.zeros((V2.shape[0], V2.shape[1], lag)) #(lag,1000,50000)\n",
    "for i in range(lag):\n",
    "    V1_lag[:,i+1:,i] = V1[:,:-i-1]\n",
    "    V2_lag[:,i+1:,i] = V2[:,:-i-1]\n",
    "\n",
    "V1_lag = torch.from_numpy(V1_lag)\n",
    "V2_lag = torch.from_numpy(V2_lag)\n",
    "print(V1_lag.shape)"
   ]
  },
  {
   "cell_type": "code",
   "execution_count": 4,
   "id": "bfda0478",
   "metadata": {},
   "outputs": [
    {
     "name": "stdout",
     "output_type": "stream",
     "text": [
      "torch.Size([19600, 20])\n"
     ]
    }
   ],
   "source": [
    "V1_train = V1[:980].float()\n",
    "V1_test = V1[980:].float().to(device)\n",
    "V2_train = V2[:980].float()\n",
    "V2_test = V2[980:].float().to(device)\n",
    "S_train = S[:980].float()\n",
    "S_test = S[980:].float().to(device)\n",
    "V1_lag_train = V1_lag[:980].float()\n",
    "V1_lag_test = V1_lag[980:].float().to(device)\n",
    "V2_lag_train = V2_lag[:980].float()\n",
    "V2_lag_test = V2_lag[980:].float().to(device)\n",
    "\n",
    "train_idx = np.empty((epoch_no, 980))\n",
    "for i in range(epoch_no):\n",
    "    part_idx = np.arange(0,980,1)\n",
    "    np.random.shuffle(part_idx)\n",
    "    train_idx[i] = part_idx\n",
    "train_idx = train_idx.reshape(-1, batch_size)\n",
    "train_idx = torch.from_numpy(train_idx).long()\n",
    "print(train_idx.shape)"
   ]
  },
  {
   "cell_type": "code",
   "execution_count": 5,
   "id": "784b45c2",
   "metadata": {},
   "outputs": [
    {
     "name": "stdout",
     "output_type": "stream",
     "text": [
      "10121\n"
     ]
    }
   ],
   "source": [
    "model = AP_GRU_Lag_Dual(H_no, lag, device)\n",
    "optimizer = torch.optim.Adam(model.parameters(), lr = 0.001)\n",
    "\n",
    "model.to(device).float()\n",
    "print(sum(p.numel() for p in model.parameters() if p.requires_grad))"
   ]
  },
  {
   "cell_type": "code",
   "execution_count": 6,
   "id": "a964d137",
   "metadata": {},
   "outputs": [],
   "source": [
    "#model.load_state_dict(torch.load(\"/scratch/yjk27/CA1_clust4-60_AP/comb_pred/gru_l20_h40_0.2ms_V.pt\",\n",
    "                     #map_location=device))"
   ]
  },
  {
   "cell_type": "code",
   "execution_count": 7,
   "id": "84e29a0c",
   "metadata": {
    "scrolled": true
   },
   "outputs": [
    {
     "name": "stderr",
     "output_type": "stream",
     "text": [
      "<ipython-input-7-99282bbeba95>:4: TqdmDeprecationWarning: Please use `tqdm.notebook.trange` instead of `tqdm.tnrange`\n",
      "  for i in tnrange(10000):\n"
     ]
    },
    {
     "data": {
      "application/vnd.jupyter.widget-view+json": {
       "model_id": "09c249edeae34508afd0afce3f51db10",
       "version_major": 2,
       "version_minor": 0
      },
      "text/plain": [
       "  0%|          | 0/10000 [00:00<?, ?it/s]"
      ]
     },
     "metadata": {},
     "output_type": "display_data"
    },
    {
     "name": "stdout",
     "output_type": "stream",
     "text": [
      "0 9.762406349182129 0.010455906391143799\n",
      "49 9.533366203308105 0.031550049781799316\n",
      "99 9.168319702148438 0.06864321231842041\n",
      "149 8.956947326660156 0.0901532769203186\n",
      "199 8.709667205810547 0.11534744501113892\n",
      "249 8.740065574645996 0.11210435628890991\n",
      "299 8.521679878234863 0.13461905717849731\n",
      "349 8.366205215454102 0.1500365138053894\n",
      "399 8.40752124786377 0.1458427906036377\n",
      "499 8.273154258728027 0.15955543518066406\n",
      "549 8.171164512634277 0.169843852519989\n",
      "599 8.043549537658691 0.18281066417694092\n",
      "649 7.958301067352295 0.19151490926742554\n",
      "699 8.113773345947266 0.17567932605743408\n",
      "749 8.03706169128418 0.18346750736236572\n",
      "799 7.896110534667969 0.19779467582702637\n",
      "849 7.745217323303223 0.2133198380470276\n",
      "899 7.802095890045166 0.20738202333450317\n",
      "949 7.7286376953125 0.21483439207077026\n",
      "999 7.693795204162598 0.2183835506439209\n",
      "1049 7.805130958557129 0.2070719599723816\n",
      "1099 7.65424108505249 0.22237634658813477\n",
      "1149 7.509191036224365 0.23709988594055176\n",
      "1199 7.569436073303223 0.2310282588005066\n",
      "1249 7.531212329864502 0.23495489358901978\n",
      "1299 7.492921829223633 0.23876243829727173\n",
      "1349 7.423715114593506 0.24578320980072021\n",
      "1399 7.474610328674316 0.24063265323638916\n",
      "1449 7.699822425842285 0.21791845560073853\n",
      "1499 7.3550848960876465 0.2527628540992737\n",
      "1549 7.344481945037842 0.25388163328170776\n",
      "1599 7.3140668869018555 0.2570093274116516\n",
      "1649 7.300739765167236 0.2582855224609375\n",
      "1699 7.288290500640869 0.2595634460449219\n",
      "1749 7.259525299072266 0.2624816298484802\n",
      "1799 7.578999996185303 0.23003357648849487\n",
      "1849 7.390832901000977 0.2491297721862793\n",
      "1899 7.351410388946533 0.2531299591064453\n"
     ]
    },
    {
     "name": "stderr",
     "output_type": "stream",
     "text": [
      "IOPub message rate exceeded.\n",
      "The notebook server will temporarily stop sending output\n",
      "to the client in order to avoid crashing it.\n",
      "To change this limit, set the config variable\n",
      "`--NotebookApp.iopub_msg_rate_limit`.\n",
      "\n",
      "Current values:\n",
      "NotebookApp.iopub_msg_rate_limit=1000.0 (msgs/sec)\n",
      "NotebookApp.rate_limit_window=3.0 (secs)\n",
      "\n"
     ]
    },
    {
     "name": "stdout",
     "output_type": "stream",
     "text": [
      "4249 6.842719554901123 0.305194616317749\n",
      "4299 6.705944061279297 0.31871533393859863\n",
      "4349 6.8339409828186035 0.3057016134262085\n",
      "4399 6.690744876861572 0.32027554512023926\n",
      "4449 6.8127288818359375 0.30789798498153687\n",
      "4499 6.720693111419678 0.3172159194946289\n",
      "4549 6.74712610244751 0.3145532011985779\n",
      "4599 6.723670959472656 0.31690794229507446\n",
      "4649 6.704477787017822 0.31895798444747925\n",
      "4699 6.682356357574463 0.3211062550544739\n",
      "4749 6.798019886016846 0.30936765670776367\n",
      "4799 6.749567985534668 0.31429171562194824\n",
      "4849 6.847638130187988 0.3043489456176758\n",
      "4899 6.750174045562744 0.31446003913879395\n",
      "4949 6.766541004180908 0.3125638961791992\n",
      "4999 6.9745869636535645 0.29157084226608276\n",
      "5049 6.698330402374268 0.3196188807487488\n",
      "5099 6.689277172088623 0.3204711079597473\n",
      "5149 6.668368339538574 0.3225243091583252\n",
      "5199 6.674951076507568 0.3218514919281006\n",
      "5249 6.692258834838867 0.3200945258140564\n",
      "5299 6.682743072509766 0.3212110996246338\n",
      "5349 6.706640720367432 0.318633496761322\n"
     ]
    },
    {
     "ename": "KeyboardInterrupt",
     "evalue": "",
     "output_type": "error",
     "traceback": [
      "\u001b[0;31m---------------------------------------------------------------------------\u001b[0m",
      "\u001b[0;31mKeyboardInterrupt\u001b[0m                         Traceback (most recent call last)",
      "\u001b[0;32m<ipython-input-7-99282bbeba95>\u001b[0m in \u001b[0;36m<module>\u001b[0;34m\u001b[0m\n\u001b[1;32m     24\u001b[0m     \u001b[0mloss\u001b[0m \u001b[0;34m=\u001b[0m \u001b[0mtorch\u001b[0m\u001b[0;34m.\u001b[0m\u001b[0mmean\u001b[0m\u001b[0;34m(\u001b[0m\u001b[0;34m(\u001b[0m\u001b[0mS_out\u001b[0m \u001b[0;34m-\u001b[0m \u001b[0mbatch_S\u001b[0m\u001b[0;34m)\u001b[0m \u001b[0;34m**\u001b[0m \u001b[0;36m2\u001b[0m\u001b[0;34m)\u001b[0m\u001b[0;34m\u001b[0m\u001b[0;34m\u001b[0m\u001b[0m\n\u001b[1;32m     25\u001b[0m \u001b[0;34m\u001b[0m\u001b[0m\n\u001b[0;32m---> 26\u001b[0;31m     \u001b[0mloss\u001b[0m\u001b[0;34m.\u001b[0m\u001b[0mbackward\u001b[0m\u001b[0;34m(\u001b[0m\u001b[0;34m)\u001b[0m\u001b[0;34m\u001b[0m\u001b[0;34m\u001b[0m\u001b[0m\n\u001b[0m\u001b[1;32m     27\u001b[0m     \u001b[0mnn\u001b[0m\u001b[0;34m.\u001b[0m\u001b[0mutils\u001b[0m\u001b[0;34m.\u001b[0m\u001b[0mclip_grad_norm_\u001b[0m\u001b[0;34m(\u001b[0m\u001b[0mmodel\u001b[0m\u001b[0;34m.\u001b[0m\u001b[0mparameters\u001b[0m\u001b[0;34m(\u001b[0m\u001b[0;34m)\u001b[0m\u001b[0;34m,\u001b[0m \u001b[0;36m10\u001b[0m\u001b[0;34m)\u001b[0m\u001b[0;34m\u001b[0m\u001b[0;34m\u001b[0m\u001b[0m\n\u001b[1;32m     28\u001b[0m     \u001b[0moptimizer\u001b[0m\u001b[0;34m.\u001b[0m\u001b[0mstep\u001b[0m\u001b[0;34m(\u001b[0m\u001b[0;34m)\u001b[0m\u001b[0;34m\u001b[0m\u001b[0;34m\u001b[0m\u001b[0m\n",
      "\u001b[0;32m/scratch/yjk27/anaconda3/lib/python3.8/site-packages/torch/tensor.py\u001b[0m in \u001b[0;36mbackward\u001b[0;34m(self, gradient, retain_graph, create_graph)\u001b[0m\n\u001b[1;32m    219\u001b[0m                 \u001b[0mretain_graph\u001b[0m\u001b[0;34m=\u001b[0m\u001b[0mretain_graph\u001b[0m\u001b[0;34m,\u001b[0m\u001b[0;34m\u001b[0m\u001b[0;34m\u001b[0m\u001b[0m\n\u001b[1;32m    220\u001b[0m                 create_graph=create_graph)\n\u001b[0;32m--> 221\u001b[0;31m         \u001b[0mtorch\u001b[0m\u001b[0;34m.\u001b[0m\u001b[0mautograd\u001b[0m\u001b[0;34m.\u001b[0m\u001b[0mbackward\u001b[0m\u001b[0;34m(\u001b[0m\u001b[0mself\u001b[0m\u001b[0;34m,\u001b[0m \u001b[0mgradient\u001b[0m\u001b[0;34m,\u001b[0m \u001b[0mretain_graph\u001b[0m\u001b[0;34m,\u001b[0m \u001b[0mcreate_graph\u001b[0m\u001b[0;34m)\u001b[0m\u001b[0;34m\u001b[0m\u001b[0;34m\u001b[0m\u001b[0m\n\u001b[0m\u001b[1;32m    222\u001b[0m \u001b[0;34m\u001b[0m\u001b[0m\n\u001b[1;32m    223\u001b[0m     \u001b[0;32mdef\u001b[0m \u001b[0mregister_hook\u001b[0m\u001b[0;34m(\u001b[0m\u001b[0mself\u001b[0m\u001b[0;34m,\u001b[0m \u001b[0mhook\u001b[0m\u001b[0;34m)\u001b[0m\u001b[0;34m:\u001b[0m\u001b[0;34m\u001b[0m\u001b[0;34m\u001b[0m\u001b[0m\n",
      "\u001b[0;32m/scratch/yjk27/anaconda3/lib/python3.8/site-packages/torch/autograd/__init__.py\u001b[0m in \u001b[0;36mbackward\u001b[0;34m(tensors, grad_tensors, retain_graph, create_graph, grad_variables)\u001b[0m\n\u001b[1;32m    128\u001b[0m         \u001b[0mretain_graph\u001b[0m \u001b[0;34m=\u001b[0m \u001b[0mcreate_graph\u001b[0m\u001b[0;34m\u001b[0m\u001b[0;34m\u001b[0m\u001b[0m\n\u001b[1;32m    129\u001b[0m \u001b[0;34m\u001b[0m\u001b[0m\n\u001b[0;32m--> 130\u001b[0;31m     Variable._execution_engine.run_backward(\n\u001b[0m\u001b[1;32m    131\u001b[0m         \u001b[0mtensors\u001b[0m\u001b[0;34m,\u001b[0m \u001b[0mgrad_tensors_\u001b[0m\u001b[0;34m,\u001b[0m \u001b[0mretain_graph\u001b[0m\u001b[0;34m,\u001b[0m \u001b[0mcreate_graph\u001b[0m\u001b[0;34m,\u001b[0m\u001b[0;34m\u001b[0m\u001b[0;34m\u001b[0m\u001b[0m\n\u001b[1;32m    132\u001b[0m         allow_unreachable=True)  # allow_unreachable flag\n",
      "\u001b[0;31mKeyboardInterrupt\u001b[0m: "
     ]
    }
   ],
   "source": [
    "score_list = []\n",
    "\n",
    "#for i in tnrange(iter_no):\n",
    "for i in tnrange(10000):    \n",
    "    s = time.time()\n",
    "    model.train()\n",
    "    optimizer.zero_grad()\n",
    "    \n",
    "    batch_idx = train_idx[i]\n",
    "    batch_S = S_train[batch_idx].to(device)\n",
    "    batch_V1 = V1_train[batch_idx].to(device)\n",
    "    batch_V1_lag = V1_lag_train[batch_idx].to(device)\n",
    "    batch_V2 = V2_train[batch_idx].to(device)\n",
    "    batch_V2_lag = V2_lag_train[batch_idx].to(device)\n",
    "    \n",
    "    batch_V1_in = torch.zeros(batch_size, batch_length, lag+1).to(device)\n",
    "    batch_V1_in[:,:,0] = batch_V1\n",
    "    batch_V1_in[:,:,1:] = batch_V1_lag\n",
    "    batch_V2_in = torch.zeros(batch_size, batch_length, lag+1).to(device)\n",
    "    batch_V2_in[:,:,0] = batch_V2\n",
    "    batch_V2_in[:,:,1:] = batch_V2_lag\n",
    "    \n",
    "    S_out = model(batch_V1_in, batch_V2_in)\n",
    "    loss = torch.mean((S_out - batch_S) ** 2)\n",
    "    \n",
    "    loss.backward()\n",
    "    nn.utils.clip_grad_norm_(model.parameters(), 10)\n",
    "    optimizer.step()\n",
    "    \n",
    "    step_time = time.time() - s\n",
    "    \n",
    "    if (i%50 == 49) or (i == 0):\n",
    "        model.eval()\n",
    "        V1_test_in = torch.zeros(batch_size, batch_length, lag+1).to(device)\n",
    "        V1_test_in[:,:,0] = V1_test\n",
    "        V1_test_in[:,:,1:] = V1_lag_test\n",
    "        V2_test_in = torch.zeros(batch_size, batch_length, lag+1).to(device)\n",
    "        V2_test_in[:,:,0] = V2_test\n",
    "        V2_test_in[:,:,1:] = V2_lag_test\n",
    "        \n",
    "        test_S_out = model(V1_test_in, V2_test_in)\n",
    "        test_loss = torch.mean((S_test - test_S_out) ** 2)\n",
    "        test_var_exp = explained_variance_score(S_test.flatten().cpu().detach().numpy(),\n",
    "                                                test_S_out.flatten().cpu().detach().numpy())\n",
    "        \n",
    "        score_list.append(test_loss.item())\n",
    "        print(i, test_loss.item(), test_var_exp)"
   ]
  },
  {
   "cell_type": "code",
   "execution_count": null,
   "id": "f64d64ae",
   "metadata": {},
   "outputs": [],
   "source": []
  },
  {
   "cell_type": "code",
   "execution_count": 8,
   "id": "e006b31b",
   "metadata": {},
   "outputs": [
    {
     "data": {
      "text/plain": [
       "[<matplotlib.lines.Line2D at 0x7fbadc441370>]"
      ]
     },
     "execution_count": 8,
     "metadata": {},
     "output_type": "execute_result"
    },
    {
     "data": {
      "image/png": "[encoded data removed]",
      "text/plain": [
       "<Figure size 432x288 with 1 Axes>"
      ]
     },
     "metadata": {
      "needs_background": "light"
     },
     "output_type": "display_data"
    }
   ],
   "source": [
    "plt.plot(np.asarray(score_list)[:])\n"
   ]
  },
  {
   "cell_type": "code",
   "execution_count": 9,
   "id": "ad66af8b",
   "metadata": {},
   "outputs": [
    {
     "name": "stdout",
     "output_type": "stream",
     "text": [
      "tensor(44.9315, device='cuda:1', grad_fn=<MaxBackward1>)\n"
     ]
    },
    {
     "data": {
      "text/plain": [
       "(23000.0, 28000.0)"
      ]
     },
     "execution_count": 9,
     "metadata": {},
     "output_type": "execute_result"
    },
    {
     "data": {
      "image/png": "[encoded data removed]",
      "text/plain": [
       "<Figure size 1080x360 with 1 Axes>"
      ]
     },
     "metadata": {
      "needs_background": "light"
     },
     "output_type": "display_data"
    }
   ],
   "source": [
    "plt.figure(figsize = (15,5))\n",
    "plt.plot(S_test[0].cpu().detach().numpy())\n",
    "plt.plot(test_S_out[0].cpu().detach().numpy())\n",
    "#plt.xlim(4500,5200)\n",
    "#plt.ylim(-1,10)\n",
    "print(torch.max(test_S_out))\n",
    "plt.xlim(23000,28000)"
   ]
  },
  {
   "cell_type": "code",
   "execution_count": null,
   "id": "555c43cf",
   "metadata": {},
   "outputs": [],
   "source": []
  },
  {
   "cell_type": "code",
   "execution_count": 10,
   "id": "1f59f818",
   "metadata": {},
   "outputs": [],
   "source": [
    "test_S_out = test_S_out.cpu().detach().numpy()\n",
    "test_S_out_next = np.zeros_like(test_S_out)\n",
    "test_S_out_next[:,:-1] = test_S_out[:,1:]\n",
    "test_S_out_thresh = np.zeros_like(test_S_out)\n",
    "\n",
    "thresh = 15\n",
    "\n",
    "for i in range(test_S_out.shape[0]):\n",
    "    idx = np.where((test_S_out[i] < thresh) & (test_S_out_next[i] >= thresh))[0]\n",
    "    test_S_out_thresh[i][idx] = 1"
   ]
  },
  {
   "cell_type": "code",
   "execution_count": 11,
   "id": "eedc4b33",
   "metadata": {},
   "outputs": [
    {
     "name": "stdout",
     "output_type": "stream",
     "text": [
      "182.0\n"
     ]
    }
   ],
   "source": [
    "print(np.sum(test_S_out_thresh))"
   ]
  },
  {
   "cell_type": "code",
   "execution_count": null,
   "id": "b5a25719",
   "metadata": {},
   "outputs": [],
   "source": []
  },
  {
   "cell_type": "code",
   "execution_count": 12,
   "id": "780f8cd8",
   "metadata": {},
   "outputs": [],
   "source": [
    "#torch.save(model.state_dict(), \"/scratch/yjk27/CA1_clust4-60_AP/comb_pred/gru_dual_l20_h40_0.2ms_V_dend_interact.pt\")"
   ]
  },
  {
   "cell_type": "code",
   "execution_count": 13,
   "id": "220095ad",
   "metadata": {},
   "outputs": [],
   "source": [
    "#np.save(\"/scratch/yjk27/CA1_clust4-60_AP/comb_pred/gru_dual_l20_h40_0.2ms_test_V_dend_interact.npy\", test_S_out)\n",
    "#np.save(\"/scratch/yjk27/CA1_clust4-60_AP/comb_pred/gru_dual_l20_h40_0.2ms_test_S_dend_interact.npy\", test_S_out_thresh)"
   ]
  },
  {
   "cell_type": "code",
   "execution_count": null,
   "id": "1c67e132",
   "metadata": {},
   "outputs": [],
   "source": []
  },
  {
   "cell_type": "code",
   "execution_count": null,
   "id": "38561d5b",
   "metadata": {},
   "outputs": [],
   "source": []
  }
 ],
 "metadata": {
  "kernelspec": {
   "display_name": "Python 3",
   "language": "python",
   "name": "python3"
  }
 },
 "nbformat": 4,
 "nbformat_minor": 5
}
